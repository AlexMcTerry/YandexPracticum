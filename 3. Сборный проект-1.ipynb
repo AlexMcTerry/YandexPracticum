{
 "cells": [
  {
   "cell_type": "markdown",
   "metadata": {
    "id": "sIfNaMOxgFyK"
   },
   "source": [
    "## Исследование данных о российском кинопрокате\n",
    "\n"
   ]
  },
  {
   "cell_type": "markdown",
   "metadata": {},
   "source": [
    "В ходе этой работы мы изучим рынок российского кинопроката и попробуем выявить текущие тренды. Уделим внимание фильмам, которые получили государственную поддержку. Попробуем ответить на вопрос, насколько такие фильмы интересны зрителю. "
   ]
  },
  {
   "cell_type": "markdown",
   "metadata": {
    "id": "3bSlkCsbgFyL"
   },
   "source": [
    "### Шаг 1. Откройте файлы с данными и объедините их в один датафрейм. \n",
    "\n",
    "Объедините данные таким образом, чтобы все объекты из датасета `mkrf_movies` обязательно вошли в получившийся датафрейм. \n",
    "\n",
    "<div id=\"accordion\">\n",
    "    <div class=\"card\">\n",
    "        <div class=\"card-header\" id=\"headingThree\">\n",
    "            <button class=\"btn btn-link collapsed\" data-toggle=\"collapse\" data-target=\"#collapseHint_0\" aria-expanded=\"false\" aria-controls=\"collapseHint_0\">Подсказка</button>\n",
    "        </div>\n",
    "        <div id=\"collapseHint_0\" class=\"collapse\" aria-labelledby=\"headingThree\" data-parent=\"#accordion\">\n",
    "            <div class=\"card-body\">\n",
    "Обратите внимание на тип данных столбца, по которому будете соединять датафреймы. Тип данных этих столбцов должен быть одинаковым в обоих датафреймах.\n",
    "            </div>\n",
    "        </div>\n",
    "    </div>\n",
    "</div>"
   ]
  },
  {
   "cell_type": "code",
   "execution_count": 63,
   "metadata": {
    "id": "dw87FlzMgFyM"
   },
   "outputs": [],
   "source": [
    "import pandas as pd # импорт pandas\n",
    "import seaborn as sns # импорт seaborn\n",
    "import matplotlib.pyplot as plt # импорт pyplot\n",
    "import re # импорт библиотеки re"
   ]
  },
  {
   "cell_type": "code",
   "execution_count": 2,
   "metadata": {},
   "outputs": [],
   "source": [
    "# считываем файлы\n",
    "movies = pd.read_csv('/datasets/mkrf_movies.csv')\n",
    "show = pd.read_csv('/datasets/mkrf_shows.csv')"
   ]
  },
  {
   "cell_type": "code",
   "execution_count": 3,
   "metadata": {},
   "outputs": [],
   "source": [
    "movies.drop(index=movies[movies['puNumber']=='нет'].index,inplace=True) # удаляем строчку с 'нет' в столбце puNumber\n",
    " \n",
    "movies['puNumber'] = movies['puNumber'].astype('int') # меняем тип столбца puNumber\n",
    "movies_merge = movies.merge(show, how='left', left_on='puNumber',right_on='puNumber') # сливаем 2 таблицы по столбцу puNumber"
   ]
  },
  {
   "cell_type": "markdown",
   "metadata": {},
   "source": [
    "При попытке сразу же слить ДФ после считывания получил ошибку о невозможности сравнения столбцов puNumber в исходных ДФ по причине различия типа данных(object в mkrf_movies.csv и int в mkrf_shows.csv).<br>Сменить тип данных не удалось по причине невозможности перевода существующего значения \"нет\" в одной из ячеек.<br>Т.к. возможности восстановить данные из этой ячейки нет, строчка была удалена из ДФ.<br>Тип данных сменен и произведено слияние."
   ]
  },
  {
   "cell_type": "code",
   "execution_count": 4,
   "metadata": {},
   "outputs": [],
   "source": [
    "# переименуем столбец в соотвествие со стилем \"хорошего тона\" написания\n",
    "movies_merge = movies_merge.rename(columns={'puNumber':'pu_number'}) "
   ]
  },
  {
   "cell_type": "code",
   "execution_count": 50,
   "metadata": {},
   "outputs": [
    {
     "data": {
      "text/html": [
       "<div>\n",
       "<style scoped>\n",
       "    .dataframe tbody tr th:only-of-type {\n",
       "        vertical-align: middle;\n",
       "    }\n",
       "\n",
       "    .dataframe tbody tr th {\n",
       "        vertical-align: top;\n",
       "    }\n",
       "\n",
       "    .dataframe thead th {\n",
       "        text-align: right;\n",
       "    }\n",
       "</style>\n",
       "<table border=\"1\" class=\"dataframe\">\n",
       "  <thead>\n",
       "    <tr style=\"text-align: right;\">\n",
       "      <th></th>\n",
       "      <th>title</th>\n",
       "      <th>pu_number</th>\n",
       "      <th>show_start_date</th>\n",
       "      <th>type</th>\n",
       "      <th>film_studio</th>\n",
       "      <th>production_country</th>\n",
       "      <th>director</th>\n",
       "      <th>producer</th>\n",
       "      <th>age_restriction</th>\n",
       "      <th>refundable_support</th>\n",
       "      <th>nonrefundable_support</th>\n",
       "      <th>budget</th>\n",
       "      <th>financing_source</th>\n",
       "      <th>ratings</th>\n",
       "      <th>genres</th>\n",
       "      <th>box_office</th>\n",
       "      <th>show_year</th>\n",
       "      <th>main_director</th>\n",
       "      <th>main_genre</th>\n",
       "      <th>percent_of_support</th>\n",
       "    </tr>\n",
       "  </thead>\n",
       "  <tbody>\n",
       "    <tr>\n",
       "      <th>0</th>\n",
       "      <td>Открытый простор</td>\n",
       "      <td>221048915</td>\n",
       "      <td>2015-11-27 12:00:00+00:00</td>\n",
       "      <td>Художественный</td>\n",
       "      <td>Тачстоун Пикчерз, Кобальт Пикчерз, Бикон Пикче...</td>\n",
       "      <td>США</td>\n",
       "      <td>Кевин Костнер</td>\n",
       "      <td>Дэвид Валдес, Кевин Костнер, Джейк Эбертс</td>\n",
       "      <td>«18+» - запрещено для детей</td>\n",
       "      <td>NaN</td>\n",
       "      <td>NaN</td>\n",
       "      <td>NaN</td>\n",
       "      <td>NaN</td>\n",
       "      <td>7.2</td>\n",
       "      <td>боевик,драма,мелодрама</td>\n",
       "      <td>NaN</td>\n",
       "      <td>2015</td>\n",
       "      <td>Кевин Костнер</td>\n",
       "      <td>боевик</td>\n",
       "      <td>NaN</td>\n",
       "    </tr>\n",
       "    <tr>\n",
       "      <th>1</th>\n",
       "      <td>Особо важное задание</td>\n",
       "      <td>111013716</td>\n",
       "      <td>2016-09-13 12:00:00+00:00</td>\n",
       "      <td>Художественный</td>\n",
       "      <td>Киностудия \"Мосфильм\"</td>\n",
       "      <td>СССР</td>\n",
       "      <td>Е.Матвеев</td>\n",
       "      <td>Не указан</td>\n",
       "      <td>«6+» - для детей старше 6 лет</td>\n",
       "      <td>NaN</td>\n",
       "      <td>NaN</td>\n",
       "      <td>NaN</td>\n",
       "      <td>NaN</td>\n",
       "      <td>6.6</td>\n",
       "      <td>драма,военный</td>\n",
       "      <td>NaN</td>\n",
       "      <td>2016</td>\n",
       "      <td>Е.Матвеев</td>\n",
       "      <td>драма</td>\n",
       "      <td>NaN</td>\n",
       "    </tr>\n",
       "    <tr>\n",
       "      <th>2</th>\n",
       "      <td>Особо опасен</td>\n",
       "      <td>221038416</td>\n",
       "      <td>2016-10-10 12:00:00+00:00</td>\n",
       "      <td>Художественный</td>\n",
       "      <td>Юниверсал Пикчерз, Кикстарт Продакшнз, Марк Пл...</td>\n",
       "      <td>США</td>\n",
       "      <td>Тимур Бекмамбетов</td>\n",
       "      <td>Джим Лемли, Джейсон Нетер, Марк Е.Платт, Яйн Смит</td>\n",
       "      <td>«18+» - запрещено для детей</td>\n",
       "      <td>NaN</td>\n",
       "      <td>NaN</td>\n",
       "      <td>NaN</td>\n",
       "      <td>NaN</td>\n",
       "      <td>6.8</td>\n",
       "      <td>фантастика,боевик,триллер</td>\n",
       "      <td>NaN</td>\n",
       "      <td>2016</td>\n",
       "      <td>Тимур Бекмамбетов</td>\n",
       "      <td>фантастика</td>\n",
       "      <td>NaN</td>\n",
       "    </tr>\n",
       "    <tr>\n",
       "      <th>3</th>\n",
       "      <td>Особо опасен</td>\n",
       "      <td>221026916</td>\n",
       "      <td>2016-06-10 12:00:00+00:00</td>\n",
       "      <td>Художественный</td>\n",
       "      <td>Юниверсал Пикчерз, Кикстарт Продакшнз, Марк Пл...</td>\n",
       "      <td>США</td>\n",
       "      <td>Тимур Бекмамбетов</td>\n",
       "      <td>Джим Лемли, Джейсон Нетер, Марк Е.Платт, Яйн Смит</td>\n",
       "      <td>«18+» - запрещено для детей</td>\n",
       "      <td>NaN</td>\n",
       "      <td>NaN</td>\n",
       "      <td>NaN</td>\n",
       "      <td>NaN</td>\n",
       "      <td>6.8</td>\n",
       "      <td>фантастика,боевик,триллер</td>\n",
       "      <td>NaN</td>\n",
       "      <td>2016</td>\n",
       "      <td>Тимур Бекмамбетов</td>\n",
       "      <td>фантастика</td>\n",
       "      <td>NaN</td>\n",
       "    </tr>\n",
       "    <tr>\n",
       "      <th>4</th>\n",
       "      <td>Особо опасен</td>\n",
       "      <td>221030815</td>\n",
       "      <td>2015-07-29 12:00:00+00:00</td>\n",
       "      <td>Художественный</td>\n",
       "      <td>Юниверсал Пикчерз, Кикстарт Продакшнз, Марк Пл...</td>\n",
       "      <td>США</td>\n",
       "      <td>Тимур Бекмамбетов</td>\n",
       "      <td>Джим Лемли, Джейсон Нетер, Марк Е.Платт, Яйн Смит</td>\n",
       "      <td>«18+» - запрещено для детей</td>\n",
       "      <td>NaN</td>\n",
       "      <td>NaN</td>\n",
       "      <td>NaN</td>\n",
       "      <td>NaN</td>\n",
       "      <td>6.8</td>\n",
       "      <td>фантастика,боевик,триллер</td>\n",
       "      <td>NaN</td>\n",
       "      <td>2015</td>\n",
       "      <td>Тимур Бекмамбетов</td>\n",
       "      <td>фантастика</td>\n",
       "      <td>NaN</td>\n",
       "    </tr>\n",
       "  </tbody>\n",
       "</table>\n",
       "</div>"
      ],
      "text/plain": [
       "                  title  pu_number           show_start_date            type  \\\n",
       "0      Открытый простор  221048915 2015-11-27 12:00:00+00:00  Художественный   \n",
       "1  Особо важное задание  111013716 2016-09-13 12:00:00+00:00  Художественный   \n",
       "2          Особо опасен  221038416 2016-10-10 12:00:00+00:00  Художественный   \n",
       "3          Особо опасен  221026916 2016-06-10 12:00:00+00:00  Художественный   \n",
       "4          Особо опасен  221030815 2015-07-29 12:00:00+00:00  Художественный   \n",
       "\n",
       "                                         film_studio production_country  \\\n",
       "0  Тачстоун Пикчерз, Кобальт Пикчерз, Бикон Пикче...                США   \n",
       "1                              Киностудия \"Мосфильм\"               СССР   \n",
       "2  Юниверсал Пикчерз, Кикстарт Продакшнз, Марк Пл...                США   \n",
       "3  Юниверсал Пикчерз, Кикстарт Продакшнз, Марк Пл...                США   \n",
       "4  Юниверсал Пикчерз, Кикстарт Продакшнз, Марк Пл...                США   \n",
       "\n",
       "            director                                           producer  \\\n",
       "0      Кевин Костнер          Дэвид Валдес, Кевин Костнер, Джейк Эбертс   \n",
       "1          Е.Матвеев                                          Не указан   \n",
       "2  Тимур Бекмамбетов  Джим Лемли, Джейсон Нетер, Марк Е.Платт, Яйн Смит   \n",
       "3  Тимур Бекмамбетов  Джим Лемли, Джейсон Нетер, Марк Е.Платт, Яйн Смит   \n",
       "4  Тимур Бекмамбетов  Джим Лемли, Джейсон Нетер, Марк Е.Платт, Яйн Смит   \n",
       "\n",
       "                 age_restriction  refundable_support  nonrefundable_support  \\\n",
       "0    «18+» - запрещено для детей                 NaN                    NaN   \n",
       "1  «6+» - для детей старше 6 лет                 NaN                    NaN   \n",
       "2    «18+» - запрещено для детей                 NaN                    NaN   \n",
       "3    «18+» - запрещено для детей                 NaN                    NaN   \n",
       "4    «18+» - запрещено для детей                 NaN                    NaN   \n",
       "\n",
       "   budget financing_source  ratings                     genres  box_office  \\\n",
       "0     NaN              NaN      7.2     боевик,драма,мелодрама         NaN   \n",
       "1     NaN              NaN      6.6              драма,военный         NaN   \n",
       "2     NaN              NaN      6.8  фантастика,боевик,триллер         NaN   \n",
       "3     NaN              NaN      6.8  фантастика,боевик,триллер         NaN   \n",
       "4     NaN              NaN      6.8  фантастика,боевик,триллер         NaN   \n",
       "\n",
       "   show_year      main_director  main_genre  percent_of_support  \n",
       "0       2015      Кевин Костнер      боевик                 NaN  \n",
       "1       2016          Е.Матвеев       драма                 NaN  \n",
       "2       2016  Тимур Бекмамбетов  фантастика                 NaN  \n",
       "3       2016  Тимур Бекмамбетов  фантастика                 NaN  \n",
       "4       2015  Тимур Бекмамбетов  фантастика                 NaN  "
      ]
     },
     "execution_count": 50,
     "metadata": {},
     "output_type": "execute_result"
    }
   ],
   "source": [
    "movies_merge.head()"
   ]
  },
  {
   "cell_type": "markdown",
   "metadata": {
    "id": "KLDGpPG0gFyM"
   },
   "source": [
    "### Шаг 2. Предобработка данных"
   ]
  },
  {
   "cell_type": "markdown",
   "metadata": {
    "id": "ssWwKXsxgFyO"
   },
   "source": [
    "#### Шаг 2.1. Проверьте типы данных\n",
    "\n",
    "- Проверьте типы данных в датафрейме и преобразуйте их там, где это необходимо."
   ]
  },
  {
   "cell_type": "code",
   "execution_count": 5,
   "metadata": {
    "id": "kVGSplJOgFyO"
   },
   "outputs": [
    {
     "name": "stdout",
     "output_type": "stream",
     "text": [
      "<class 'pandas.core.frame.DataFrame'>\n",
      "Int64Index: 7485 entries, 0 to 7484\n",
      "Data columns (total 16 columns):\n",
      " #   Column                 Non-Null Count  Dtype  \n",
      "---  ------                 --------------  -----  \n",
      " 0   title                  7485 non-null   object \n",
      " 1   pu_number              7485 non-null   int64  \n",
      " 2   show_start_date        7485 non-null   object \n",
      " 3   type                   7485 non-null   object \n",
      " 4   film_studio            7467 non-null   object \n",
      " 5   production_country     7483 non-null   object \n",
      " 6   director               7476 non-null   object \n",
      " 7   producer               6917 non-null   object \n",
      " 8   age_restriction        7485 non-null   object \n",
      " 9   refundable_support     332 non-null    float64\n",
      " 10  nonrefundable_support  332 non-null    float64\n",
      " 11  budget                 332 non-null    float64\n",
      " 12  financing_source       332 non-null    object \n",
      " 13  ratings                6519 non-null   object \n",
      " 14  genres                 6510 non-null   object \n",
      " 15  box_office             3158 non-null   float64\n",
      "dtypes: float64(4), int64(1), object(11)\n",
      "memory usage: 994.1+ KB\n"
     ]
    }
   ],
   "source": [
    "movies_merge.info() # информация о ДФ"
   ]
  },
  {
   "cell_type": "code",
   "execution_count": 6,
   "metadata": {},
   "outputs": [
    {
     "data": {
      "text/html": [
       "<div>\n",
       "<style scoped>\n",
       "    .dataframe tbody tr th:only-of-type {\n",
       "        vertical-align: middle;\n",
       "    }\n",
       "\n",
       "    .dataframe tbody tr th {\n",
       "        vertical-align: top;\n",
       "    }\n",
       "\n",
       "    .dataframe thead th {\n",
       "        text-align: right;\n",
       "    }\n",
       "</style>\n",
       "<table border=\"1\" class=\"dataframe\">\n",
       "  <thead>\n",
       "    <tr style=\"text-align: right;\">\n",
       "      <th></th>\n",
       "      <th>title</th>\n",
       "      <th>pu_number</th>\n",
       "      <th>show_start_date</th>\n",
       "      <th>type</th>\n",
       "      <th>film_studio</th>\n",
       "      <th>production_country</th>\n",
       "      <th>director</th>\n",
       "      <th>producer</th>\n",
       "      <th>age_restriction</th>\n",
       "      <th>refundable_support</th>\n",
       "      <th>nonrefundable_support</th>\n",
       "      <th>budget</th>\n",
       "      <th>financing_source</th>\n",
       "      <th>ratings</th>\n",
       "      <th>genres</th>\n",
       "      <th>box_office</th>\n",
       "    </tr>\n",
       "  </thead>\n",
       "  <tbody>\n",
       "    <tr>\n",
       "      <th>0</th>\n",
       "      <td>Открытый простор</td>\n",
       "      <td>221048915</td>\n",
       "      <td>2015-11-27T12:00:00.000Z</td>\n",
       "      <td>Художественный</td>\n",
       "      <td>Тачстоун Пикчерз, Кобальт Пикчерз, Бикон Пикче...</td>\n",
       "      <td>США</td>\n",
       "      <td>Кевин Костнер</td>\n",
       "      <td>Дэвид Валдес, Кевин Костнер, Джейк Эбертс</td>\n",
       "      <td>«18+» - запрещено для детей</td>\n",
       "      <td>NaN</td>\n",
       "      <td>NaN</td>\n",
       "      <td>NaN</td>\n",
       "      <td>NaN</td>\n",
       "      <td>7.2</td>\n",
       "      <td>боевик,драма,мелодрама</td>\n",
       "      <td>NaN</td>\n",
       "    </tr>\n",
       "    <tr>\n",
       "      <th>1</th>\n",
       "      <td>Особо важное задание</td>\n",
       "      <td>111013716</td>\n",
       "      <td>2016-09-13T12:00:00.000Z</td>\n",
       "      <td>Художественный</td>\n",
       "      <td>Киностудия \"Мосфильм\"</td>\n",
       "      <td>СССР</td>\n",
       "      <td>Е.Матвеев</td>\n",
       "      <td>NaN</td>\n",
       "      <td>«6+» - для детей старше 6 лет</td>\n",
       "      <td>NaN</td>\n",
       "      <td>NaN</td>\n",
       "      <td>NaN</td>\n",
       "      <td>NaN</td>\n",
       "      <td>6.6</td>\n",
       "      <td>драма,военный</td>\n",
       "      <td>NaN</td>\n",
       "    </tr>\n",
       "    <tr>\n",
       "      <th>2</th>\n",
       "      <td>Особо опасен</td>\n",
       "      <td>221038416</td>\n",
       "      <td>2016-10-10T12:00:00.000Z</td>\n",
       "      <td>Художественный</td>\n",
       "      <td>Юниверсал Пикчерз, Кикстарт Продакшнз, Марк Пл...</td>\n",
       "      <td>США</td>\n",
       "      <td>Тимур Бекмамбетов</td>\n",
       "      <td>Джим Лемли, Джейсон Нетер, Марк Е.Платт, Яйн Смит</td>\n",
       "      <td>«18+» - запрещено для детей</td>\n",
       "      <td>NaN</td>\n",
       "      <td>NaN</td>\n",
       "      <td>NaN</td>\n",
       "      <td>NaN</td>\n",
       "      <td>6.8</td>\n",
       "      <td>фантастика,боевик,триллер</td>\n",
       "      <td>NaN</td>\n",
       "    </tr>\n",
       "    <tr>\n",
       "      <th>3</th>\n",
       "      <td>Особо опасен</td>\n",
       "      <td>221026916</td>\n",
       "      <td>2016-06-10T12:00:00.000Z</td>\n",
       "      <td>Художественный</td>\n",
       "      <td>Юниверсал Пикчерз, Кикстарт Продакшнз, Марк Пл...</td>\n",
       "      <td>США</td>\n",
       "      <td>Тимур Бекмамбетов</td>\n",
       "      <td>Джим Лемли, Джейсон Нетер, Марк Е.Платт, Яйн Смит</td>\n",
       "      <td>«18+» - запрещено для детей</td>\n",
       "      <td>NaN</td>\n",
       "      <td>NaN</td>\n",
       "      <td>NaN</td>\n",
       "      <td>NaN</td>\n",
       "      <td>6.8</td>\n",
       "      <td>фантастика,боевик,триллер</td>\n",
       "      <td>NaN</td>\n",
       "    </tr>\n",
       "    <tr>\n",
       "      <th>4</th>\n",
       "      <td>Особо опасен</td>\n",
       "      <td>221030815</td>\n",
       "      <td>2015-07-29T12:00:00.000Z</td>\n",
       "      <td>Художественный</td>\n",
       "      <td>Юниверсал Пикчерз, Кикстарт Продакшнз, Марк Пл...</td>\n",
       "      <td>США</td>\n",
       "      <td>Тимур Бекмамбетов</td>\n",
       "      <td>Джим Лемли, Джейсон Нетер, Марк Е.Платт, Яйн Смит</td>\n",
       "      <td>«18+» - запрещено для детей</td>\n",
       "      <td>NaN</td>\n",
       "      <td>NaN</td>\n",
       "      <td>NaN</td>\n",
       "      <td>NaN</td>\n",
       "      <td>6.8</td>\n",
       "      <td>фантастика,боевик,триллер</td>\n",
       "      <td>NaN</td>\n",
       "    </tr>\n",
       "  </tbody>\n",
       "</table>\n",
       "</div>"
      ],
      "text/plain": [
       "                  title  pu_number           show_start_date            type  \\\n",
       "0      Открытый простор  221048915  2015-11-27T12:00:00.000Z  Художественный   \n",
       "1  Особо важное задание  111013716  2016-09-13T12:00:00.000Z  Художественный   \n",
       "2          Особо опасен  221038416  2016-10-10T12:00:00.000Z  Художественный   \n",
       "3          Особо опасен  221026916  2016-06-10T12:00:00.000Z  Художественный   \n",
       "4          Особо опасен  221030815  2015-07-29T12:00:00.000Z  Художественный   \n",
       "\n",
       "                                         film_studio production_country  \\\n",
       "0  Тачстоун Пикчерз, Кобальт Пикчерз, Бикон Пикче...                США   \n",
       "1                              Киностудия \"Мосфильм\"               СССР   \n",
       "2  Юниверсал Пикчерз, Кикстарт Продакшнз, Марк Пл...                США   \n",
       "3  Юниверсал Пикчерз, Кикстарт Продакшнз, Марк Пл...                США   \n",
       "4  Юниверсал Пикчерз, Кикстарт Продакшнз, Марк Пл...                США   \n",
       "\n",
       "            director                                           producer  \\\n",
       "0      Кевин Костнер          Дэвид Валдес, Кевин Костнер, Джейк Эбертс   \n",
       "1          Е.Матвеев                                                NaN   \n",
       "2  Тимур Бекмамбетов  Джим Лемли, Джейсон Нетер, Марк Е.Платт, Яйн Смит   \n",
       "3  Тимур Бекмамбетов  Джим Лемли, Джейсон Нетер, Марк Е.Платт, Яйн Смит   \n",
       "4  Тимур Бекмамбетов  Джим Лемли, Джейсон Нетер, Марк Е.Платт, Яйн Смит   \n",
       "\n",
       "                 age_restriction  refundable_support  nonrefundable_support  \\\n",
       "0    «18+» - запрещено для детей                 NaN                    NaN   \n",
       "1  «6+» - для детей старше 6 лет                 NaN                    NaN   \n",
       "2    «18+» - запрещено для детей                 NaN                    NaN   \n",
       "3    «18+» - запрещено для детей                 NaN                    NaN   \n",
       "4    «18+» - запрещено для детей                 NaN                    NaN   \n",
       "\n",
       "   budget financing_source ratings                     genres  box_office  \n",
       "0     NaN              NaN     7.2     боевик,драма,мелодрама         NaN  \n",
       "1     NaN              NaN     6.6              драма,военный         NaN  \n",
       "2     NaN              NaN     6.8  фантастика,боевик,триллер         NaN  \n",
       "3     NaN              NaN     6.8  фантастика,боевик,триллер         NaN  \n",
       "4     NaN              NaN     6.8  фантастика,боевик,триллер         NaN  "
      ]
     },
     "execution_count": 6,
     "metadata": {},
     "output_type": "execute_result"
    }
   ],
   "source": [
    "movies_merge.head()"
   ]
  },
  {
   "cell_type": "markdown",
   "metadata": {},
   "source": [
    "Нужно поменять типы данных в столбцах 'show_start_date' на временной и в 'ratings' на вещественный"
   ]
  },
  {
   "cell_type": "code",
   "execution_count": 7,
   "metadata": {},
   "outputs": [],
   "source": [
    "# форматируем дату и одновременно тип столбца\n",
    "movies_merge['show_start_date'] = pd.to_datetime(movies_merge['show_start_date'],format='%Y-%m-%d')"
   ]
  },
  {
   "cell_type": "markdown",
   "metadata": {},
   "source": [
    "Столбец ratings содержит вещественные числа. Поменять тип на float \"в лоб\" не получилось из-за наличия значений, содержащих символ '%', поэтому от них решено избавиться. Чтобы через лямбда-функцию можно было методом find() найти эти значения, предварительно были заменены пропущенные (nan) значения столбца ratings на 0.<br>И в конце,значения рейтинга больше 10 (записанные ранее в процентах) были разделены на на 10 для соответствия правилам рейтинга."
   ]
  },
  {
   "cell_type": "code",
   "execution_count": 8,
   "metadata": {},
   "outputs": [],
   "source": [
    "movies_merge['ratings'].fillna('0', inplace=True) # убираем 'nan' из колонки ratings\n",
    "\n",
    "# убираем символ '%' в колонке ratings\n",
    "movies_merge['ratings'] = movies_merge['ratings'].apply(lambda x: (x.replace('%','')) if (x.find('%')>0) else x)\n",
    "\n",
    "movies_merge['ratings'] = movies_merge['ratings'].astype('float') # переводим столбец во float\n",
    "\n",
    "# если рейтинг больше 10, то делим его на 10\n",
    "movies_merge['ratings'] = movies_merge['ratings'].apply(lambda x: x/10 if x>10 else x)"
   ]
  },
  {
   "cell_type": "code",
   "execution_count": 9,
   "metadata": {},
   "outputs": [
    {
     "data": {
      "text/plain": [
       "[0.0,\n",
       " 1.0,\n",
       " 1.1,\n",
       " 1.2,\n",
       " 1.3,\n",
       " 1.4,\n",
       " 1.5,\n",
       " 1.6,\n",
       " 1.7,\n",
       " 1.8,\n",
       " 1.9,\n",
       " 2.1,\n",
       " 2.4,\n",
       " 2.5,\n",
       " 2.6,\n",
       " 2.7,\n",
       " 2.8,\n",
       " 2.9,\n",
       " 3.0,\n",
       " 3.1,\n",
       " 3.2,\n",
       " 3.3,\n",
       " 3.4,\n",
       " 3.5,\n",
       " 3.6,\n",
       " 3.7,\n",
       " 3.8,\n",
       " 3.9,\n",
       " 4.0,\n",
       " 4.1,\n",
       " 4.2,\n",
       " 4.3,\n",
       " 4.4,\n",
       " 4.5,\n",
       " 4.6,\n",
       " 4.7,\n",
       " 4.8,\n",
       " 4.9,\n",
       " 5.0,\n",
       " 5.1,\n",
       " 5.2,\n",
       " 5.3,\n",
       " 5.4,\n",
       " 5.5,\n",
       " 5.6,\n",
       " 5.7,\n",
       " 5.8,\n",
       " 5.9,\n",
       " 6.0,\n",
       " 6.1,\n",
       " 6.2,\n",
       " 6.3,\n",
       " 6.4,\n",
       " 6.5,\n",
       " 6.6,\n",
       " 6.7,\n",
       " 6.8,\n",
       " 6.9,\n",
       " 7.0,\n",
       " 7.1,\n",
       " 7.2,\n",
       " 7.3,\n",
       " 7.4,\n",
       " 7.5,\n",
       " 7.6,\n",
       " 7.7,\n",
       " 7.8,\n",
       " 7.9,\n",
       " 8.0,\n",
       " 8.1,\n",
       " 8.2,\n",
       " 8.3,\n",
       " 8.4,\n",
       " 8.5,\n",
       " 8.6,\n",
       " 8.7,\n",
       " 8.8,\n",
       " 8.9,\n",
       " 9.0,\n",
       " 9.1,\n",
       " 9.2,\n",
       " 9.4,\n",
       " 9.7,\n",
       " 9.8,\n",
       " 9.9]"
      ]
     },
     "execution_count": 9,
     "metadata": {},
     "output_type": "execute_result"
    }
   ],
   "source": [
    "# выведем уникальные значения столбца ratings, удостовериться, что нет рейтинга, выбивающегося за границы 0-10\n",
    "sorted(movies_merge['ratings'].unique())"
   ]
  },
  {
   "cell_type": "markdown",
   "metadata": {
    "id": "i0MOLbF-gFyP"
   },
   "source": [
    "#### Шаг 2.2. Изучите пропуски в датафрейме\n",
    "\n",
    "- Объясните, почему заполнили пропуски определённым образом или почему не стали этого делать."
   ]
  },
  {
   "cell_type": "code",
   "execution_count": 10,
   "metadata": {},
   "outputs": [
    {
     "data": {
      "text/plain": [
       "title                       0\n",
       "pu_number                   0\n",
       "show_start_date             0\n",
       "type                        0\n",
       "film_studio                18\n",
       "production_country          2\n",
       "director                    9\n",
       "producer                  568\n",
       "age_restriction             0\n",
       "refundable_support       7153\n",
       "nonrefundable_support    7153\n",
       "budget                   7153\n",
       "financing_source         7153\n",
       "ratings                     0\n",
       "genres                    975\n",
       "box_office               4327\n",
       "dtype: int64"
      ]
     },
     "execution_count": 10,
     "metadata": {},
     "output_type": "execute_result"
    }
   ],
   "source": [
    "movies_merge.isna().sum() # количество пропусков в данных"
   ]
  },
  {
   "cell_type": "code",
   "execution_count": 67,
   "metadata": {},
   "outputs": [
    {
     "data": {
      "image/png": "[encoded data removed]",
      "text/plain": [
       "<Figure size 1152x720 with 2 Axes>"
      ]
     },
     "metadata": {
      "needs_background": "light"
     },
     "output_type": "display_data"
    }
   ],
   "source": [
    "plt.figure(figsize=(16,10)) # задаем размер графика\n",
    "sns.heatmap(movies_merge.isna()) # создаем график\n",
    "plt.show() # рисуем график"
   ]
  },
  {
   "cell_type": "code",
   "execution_count": 11,
   "metadata": {
    "scrolled": true
   },
   "outputs": [
    {
     "name": "stdout",
     "output_type": "stream",
     "text": [
      "Количество строк с пропущенным director: 9\n",
      "Сколько фильмов с такими же названиями в ДФ:9\n"
     ]
    }
   ],
   "source": [
    "wo_dir = movies_merge[movies_merge['director'].isna()]['title']\n",
    "print(f'Количество строк с пропущенным director: {len(wo_dir)}')\n",
    "print(f\"Сколько фильмов с такими же названиями в ДФ:{len(movies_merge.query('title in @wo_dir'))}\")"
   ]
  },
  {
   "cell_type": "code",
   "execution_count": 12,
   "metadata": {},
   "outputs": [],
   "source": [
    "movies_merge['director'].fillna('Не указан',inplace=True) # Заполняем пропуски в столбце director"
   ]
  },
  {
   "cell_type": "markdown",
   "metadata": {},
   "source": [
    "Пропуски в столбце 'director' заполняем на 'Не указан', т.к. строки с этими фильмами представлены в одном экземпляре и восстановить данные из похожих строк не представляется возможным"
   ]
  },
  {
   "cell_type": "code",
   "execution_count": 13,
   "metadata": {},
   "outputs": [
    {
     "name": "stdout",
     "output_type": "stream",
     "text": [
      "Количество строк с пропущенным producer: 568\n",
      "Сколько фильмов с такими же названиями в ДФ:576\n"
     ]
    }
   ],
   "source": [
    "wo_prod = movies_merge[movies_merge[\"producer\"].isna()][\"title\"]\n",
    "print(f'Количество строк с пропущенным producer: {len(wo_prod)}')\n",
    "print(f\"Сколько фильмов с такими же названиями в ДФ:{len(movies_merge.query('title in @wo_prod'))}\")"
   ]
  },
  {
   "cell_type": "code",
   "execution_count": 14,
   "metadata": {},
   "outputs": [
    {
     "name": "stdout",
     "output_type": "stream",
     "text": [
      "5513            Прощание\n",
      "5936               Успех\n",
      "6869    Ложные признания\n",
      "6898           Валентина\n",
      "6908            Прощание\n",
      "7280            Прощание\n",
      "7321               Успех\n",
      "7473           Вторжение\n",
      "Name: title, dtype: object\n"
     ]
    },
    {
     "data": {
      "text/html": [
       "<div>\n",
       "<style scoped>\n",
       "    .dataframe tbody tr th:only-of-type {\n",
       "        vertical-align: middle;\n",
       "    }\n",
       "\n",
       "    .dataframe tbody tr th {\n",
       "        vertical-align: top;\n",
       "    }\n",
       "\n",
       "    .dataframe thead th {\n",
       "        text-align: right;\n",
       "    }\n",
       "</style>\n",
       "<table border=\"1\" class=\"dataframe\">\n",
       "  <thead>\n",
       "    <tr style=\"text-align: right;\">\n",
       "      <th></th>\n",
       "      <th>title</th>\n",
       "      <th>pu_number</th>\n",
       "      <th>show_start_date</th>\n",
       "      <th>type</th>\n",
       "      <th>film_studio</th>\n",
       "      <th>production_country</th>\n",
       "      <th>director</th>\n",
       "      <th>producer</th>\n",
       "      <th>age_restriction</th>\n",
       "      <th>refundable_support</th>\n",
       "      <th>nonrefundable_support</th>\n",
       "      <th>budget</th>\n",
       "      <th>financing_source</th>\n",
       "      <th>ratings</th>\n",
       "      <th>genres</th>\n",
       "      <th>box_office</th>\n",
       "    </tr>\n",
       "  </thead>\n",
       "  <tbody>\n",
       "    <tr>\n",
       "      <th>3267</th>\n",
       "      <td>Ложные признания</td>\n",
       "      <td>121034216</td>\n",
       "      <td>2016-12-21 12:00:00+00:00</td>\n",
       "      <td>Художественный</td>\n",
       "      <td>Арт Франс, Идеаль Аудиенс, Маха Продюксьон, Од...</td>\n",
       "      <td>Франция</td>\n",
       "      <td>Люк Бонди</td>\n",
       "      <td>NaN</td>\n",
       "      <td>«16+» - для детей старше 16 лет</td>\n",
       "      <td>NaN</td>\n",
       "      <td>NaN</td>\n",
       "      <td>NaN</td>\n",
       "      <td>NaN</td>\n",
       "      <td>5.4</td>\n",
       "      <td>драма,комедия</td>\n",
       "      <td>1242819.0</td>\n",
       "    </tr>\n",
       "    <tr>\n",
       "      <th>6869</th>\n",
       "      <td>Ложные признания</td>\n",
       "      <td>126001119</td>\n",
       "      <td>2019-04-26 12:00:00+00:00</td>\n",
       "      <td>Прочие</td>\n",
       "      <td>Гуд Компани Пикчерз</td>\n",
       "      <td>Дания - США</td>\n",
       "      <td>Катрин Филип</td>\n",
       "      <td>Рейнхарт Бетц, Пол Видерхольд, Катрин Шальстрём</td>\n",
       "      <td>«18+» - запрещено для детей</td>\n",
       "      <td>NaN</td>\n",
       "      <td>NaN</td>\n",
       "      <td>NaN</td>\n",
       "      <td>NaN</td>\n",
       "      <td>5.4</td>\n",
       "      <td>драма,комедия</td>\n",
       "      <td>NaN</td>\n",
       "    </tr>\n",
       "  </tbody>\n",
       "</table>\n",
       "</div>"
      ],
      "text/plain": [
       "                 title  pu_number           show_start_date            type  \\\n",
       "3267  Ложные признания  121034216 2016-12-21 12:00:00+00:00  Художественный   \n",
       "6869  Ложные признания  126001119 2019-04-26 12:00:00+00:00          Прочие   \n",
       "\n",
       "                                            film_studio production_country  \\\n",
       "3267  Арт Франс, Идеаль Аудиенс, Маха Продюксьон, Од...            Франция   \n",
       "6869                                Гуд Компани Пикчерз        Дания - США   \n",
       "\n",
       "          director                                         producer  \\\n",
       "3267     Люк Бонди                                              NaN   \n",
       "6869  Катрин Филип  Рейнхарт Бетц, Пол Видерхольд, Катрин Шальстрём   \n",
       "\n",
       "                      age_restriction  refundable_support  \\\n",
       "3267  «16+» - для детей старше 16 лет                 NaN   \n",
       "6869      «18+» - запрещено для детей                 NaN   \n",
       "\n",
       "      nonrefundable_support  budget financing_source  ratings         genres  \\\n",
       "3267                    NaN     NaN              NaN      5.4  драма,комедия   \n",
       "6869                    NaN     NaN              NaN      5.4  драма,комедия   \n",
       "\n",
       "      box_office  \n",
       "3267   1242819.0  \n",
       "6869         NaN  "
      ]
     },
     "execution_count": 14,
     "metadata": {},
     "output_type": "execute_result"
    }
   ],
   "source": [
    "print(movies_merge.query('(title in @wo_prod) and ~producer.isna()')['title'])\n",
    "movies_merge.query('title == \"Ложные признания\"')"
   ]
  },
  {
   "cell_type": "code",
   "execution_count": 15,
   "metadata": {},
   "outputs": [],
   "source": [
    "movies_merge['producer'].fillna('Не указан',inplace=True) # Заполняем пропуски в столбце producer"
   ]
  },
  {
   "cell_type": "markdown",
   "metadata": {},
   "source": [
    "И хотя количество пропущенных producer меньше, чем количество фильмов с названиями, у которых это поле пропущено, при проверке выясняется, что это абсолютно разные картины и использовать заполенные ячейки для восстановления пропущенных нельзя. Поэтому так же как и в случае с director заменяем пропуски на \"Не указан\""
   ]
  },
  {
   "cell_type": "code",
   "execution_count": 16,
   "metadata": {},
   "outputs": [
    {
     "name": "stdout",
     "output_type": "stream",
     "text": [
      "Количество строк с пропущенным film_studio: 18\n",
      "Сколько фильмов с такими же названиями в ДФ:18\n"
     ]
    }
   ],
   "source": [
    "wo_fs = movies_merge[movies_merge['film_studio'].isna()]['title']\n",
    "print(f'Количество строк с пропущенным film_studio: {len(wo_fs)}')\n",
    "print(f\"Сколько фильмов с такими же названиями в ДФ:{len(movies_merge.query('title in @wo_fs'))}\")\n",
    "movies_merge['film_studio'].fillna('Не указано',inplace=True) # Заполняем пропуски в столбце film_studio"
   ]
  },
  {
   "cell_type": "markdown",
   "metadata": {},
   "source": [
    "Ситуация аналогична столбцу director. Сколько пропусков - столько фильмов. Копировать данные неоткуда.<br>Заполняем \"Не заполнено\""
   ]
  },
  {
   "cell_type": "code",
   "execution_count": 17,
   "metadata": {},
   "outputs": [
    {
     "name": "stdout",
     "output_type": "stream",
     "text": [
      "Количество строк с пропущенным production_country: 2\n",
      "Сколько фильмов с такими же названиями в ДФ:2\n"
     ]
    }
   ],
   "source": [
    "wo_pc = movies_merge[movies_merge['production_country'].isna()]['title']\n",
    "print(f'Количество строк с пропущенным production_country: {len(wo_pc)}')\n",
    "print(f\"Сколько фильмов с такими же названиями в ДФ:{len(movies_merge.query('title in @wo_pc'))}\")\n",
    "movies_merge['production_country'].fillna('Не указано',inplace=True) # Заполняем пропуски в столбце film_studio"
   ]
  },
  {
   "cell_type": "markdown",
   "metadata": {},
   "source": [
    "Ситуация аналогична столбцу director. Сколько пропусков - столько фильмов. Копировать данные неоткуда.<br>Заполняем \"Не заполнено\""
   ]
  },
  {
   "cell_type": "code",
   "execution_count": 18,
   "metadata": {},
   "outputs": [
    {
     "name": "stdout",
     "output_type": "stream",
     "text": [
      "Количество строк с пропущенным genres: 975\n",
      "Сколько фильмов с такими же названиями в ДФ:975\n"
     ]
    }
   ],
   "source": [
    "wo_genre = movies_merge[movies_merge['genres'].isna()]['title']\n",
    "print(f'Количество строк с пропущенным genres: {len(wo_genre)}')\n",
    "print(f\"Сколько фильмов с такими же названиями в ДФ:{len(movies_merge.query('title in @wo_genre'))}\")\n",
    "movies_merge['genres'].fillna('Не указано',inplace=True) # Заполняем пропуски в столбце genres"
   ]
  },
  {
   "cell_type": "markdown",
   "metadata": {},
   "source": [
    "Ситуация аналогична столбцу director. Сколько пропусков - столько фильмов. Копировать данные неоткуда.<br>Заполняем \"Не заполнено\""
   ]
  },
  {
   "cell_type": "markdown",
   "metadata": {},
   "source": [
    "Проверяем пропуски еще раз"
   ]
  },
  {
   "cell_type": "code",
   "execution_count": 19,
   "metadata": {},
   "outputs": [
    {
     "data": {
      "text/plain": [
       "title                       0\n",
       "pu_number                   0\n",
       "show_start_date             0\n",
       "type                        0\n",
       "film_studio                 0\n",
       "production_country          0\n",
       "director                    0\n",
       "producer                    0\n",
       "age_restriction             0\n",
       "refundable_support       7153\n",
       "nonrefundable_support    7153\n",
       "budget                   7153\n",
       "financing_source         7153\n",
       "ratings                     0\n",
       "genres                      0\n",
       "box_office               4327\n",
       "dtype: int64"
      ]
     },
     "execution_count": 19,
     "metadata": {},
     "output_type": "execute_result"
    }
   ],
   "source": [
    "movies_merge.isna().sum()"
   ]
  },
  {
   "cell_type": "markdown",
   "metadata": {},
   "source": [
    "Дальнейшая обработка не нужна, т.к. по имеющейся информации столбец budget уже включает в себя полный объём государственной поддержки (источник - financing_source) , т.е. сумму столбцов refundable_support и nonrefundable_support. Т.к. количество пропусков у нас равно, по этим столбцам, то мексимальное количество данных, которое может быть, уже предоставлено.<br>То же самое и касается box_office (суммы сборов): вычислить ее нельзя. Если её нет, то её нет."
   ]
  },
  {
   "cell_type": "markdown",
   "metadata": {
    "id": "4c6k1t9ygFyQ"
   },
   "source": [
    "#### Шаг 2.3. Изучите дубликаты в датафрейме\n",
    "- Проверьте, есть ли в данных дубликаты. Опишите причины, которые могли повлиять на появление дублей."
   ]
  },
  {
   "cell_type": "markdown",
   "metadata": {},
   "source": [
    "Проверим наличие дубликатов по колонкам"
   ]
  },
  {
   "cell_type": "code",
   "execution_count": 20,
   "metadata": {
    "id": "aKck8RIdgFyQ"
   },
   "outputs": [
    {
     "name": "stdout",
     "output_type": "stream",
     "text": [
      "В столбце title 714 дубликатов\n",
      "В столбце pu_number 2 дубликатов\n",
      "В столбце show_start_date 5521 дубликатов\n",
      "В столбце type 7477 дубликатов\n",
      "В столбце film_studio 1994 дубликатов\n",
      "В столбце production_country 6534 дубликатов\n",
      "В столбце director 2673 дубликатов\n",
      "В столбце producer 2135 дубликатов\n",
      "В столбце age_restriction 7480 дубликатов\n",
      "В столбце refundable_support 7450 дубликатов\n",
      "В столбце nonrefundable_support 7409 дубликатов\n",
      "В столбце budget 7194 дубликатов\n",
      "В столбце financing_source 7481 дубликатов\n",
      "В столбце ratings 7400 дубликатов\n",
      "В столбце genres 6742 дубликатов\n",
      "В столбце box_office 4546 дубликатов\n",
      "\n",
      "Количесто строк-дублей:0\n"
     ]
    },
    {
     "data": {
      "text/html": [
       "<div>\n",
       "<style scoped>\n",
       "    .dataframe tbody tr th:only-of-type {\n",
       "        vertical-align: middle;\n",
       "    }\n",
       "\n",
       "    .dataframe tbody tr th {\n",
       "        vertical-align: top;\n",
       "    }\n",
       "\n",
       "    .dataframe thead th {\n",
       "        text-align: right;\n",
       "    }\n",
       "</style>\n",
       "<table border=\"1\" class=\"dataframe\">\n",
       "  <thead>\n",
       "    <tr style=\"text-align: right;\">\n",
       "      <th></th>\n",
       "      <th>title</th>\n",
       "      <th>pu_number</th>\n",
       "      <th>show_start_date</th>\n",
       "      <th>type</th>\n",
       "      <th>film_studio</th>\n",
       "      <th>production_country</th>\n",
       "      <th>director</th>\n",
       "      <th>producer</th>\n",
       "      <th>age_restriction</th>\n",
       "      <th>refundable_support</th>\n",
       "      <th>nonrefundable_support</th>\n",
       "      <th>budget</th>\n",
       "      <th>financing_source</th>\n",
       "      <th>ratings</th>\n",
       "      <th>genres</th>\n",
       "      <th>box_office</th>\n",
       "    </tr>\n",
       "  </thead>\n",
       "  <tbody>\n",
       "    <tr>\n",
       "      <th>2</th>\n",
       "      <td>Особо опасен</td>\n",
       "      <td>221038416</td>\n",
       "      <td>2016-10-10 12:00:00+00:00</td>\n",
       "      <td>Художественный</td>\n",
       "      <td>Юниверсал Пикчерз, Кикстарт Продакшнз, Марк Пл...</td>\n",
       "      <td>США</td>\n",
       "      <td>Тимур Бекмамбетов</td>\n",
       "      <td>Джим Лемли, Джейсон Нетер, Марк Е.Платт, Яйн Смит</td>\n",
       "      <td>«18+» - запрещено для детей</td>\n",
       "      <td>NaN</td>\n",
       "      <td>NaN</td>\n",
       "      <td>NaN</td>\n",
       "      <td>NaN</td>\n",
       "      <td>6.8</td>\n",
       "      <td>фантастика,боевик,триллер</td>\n",
       "      <td>NaN</td>\n",
       "    </tr>\n",
       "    <tr>\n",
       "      <th>3</th>\n",
       "      <td>Особо опасен</td>\n",
       "      <td>221026916</td>\n",
       "      <td>2016-06-10 12:00:00+00:00</td>\n",
       "      <td>Художественный</td>\n",
       "      <td>Юниверсал Пикчерз, Кикстарт Продакшнз, Марк Пл...</td>\n",
       "      <td>США</td>\n",
       "      <td>Тимур Бекмамбетов</td>\n",
       "      <td>Джим Лемли, Джейсон Нетер, Марк Е.Платт, Яйн Смит</td>\n",
       "      <td>«18+» - запрещено для детей</td>\n",
       "      <td>NaN</td>\n",
       "      <td>NaN</td>\n",
       "      <td>NaN</td>\n",
       "      <td>NaN</td>\n",
       "      <td>6.8</td>\n",
       "      <td>фантастика,боевик,триллер</td>\n",
       "      <td>NaN</td>\n",
       "    </tr>\n",
       "    <tr>\n",
       "      <th>4</th>\n",
       "      <td>Особо опасен</td>\n",
       "      <td>221030815</td>\n",
       "      <td>2015-07-29 12:00:00+00:00</td>\n",
       "      <td>Художественный</td>\n",
       "      <td>Юниверсал Пикчерз, Кикстарт Продакшнз, Марк Пл...</td>\n",
       "      <td>США</td>\n",
       "      <td>Тимур Бекмамбетов</td>\n",
       "      <td>Джим Лемли, Джейсон Нетер, Марк Е.Платт, Яйн Смит</td>\n",
       "      <td>«18+» - запрещено для детей</td>\n",
       "      <td>NaN</td>\n",
       "      <td>NaN</td>\n",
       "      <td>NaN</td>\n",
       "      <td>NaN</td>\n",
       "      <td>6.8</td>\n",
       "      <td>фантастика,боевик,триллер</td>\n",
       "      <td>NaN</td>\n",
       "    </tr>\n",
       "  </tbody>\n",
       "</table>\n",
       "</div>"
      ],
      "text/plain": [
       "          title  pu_number           show_start_date            type  \\\n",
       "2  Особо опасен  221038416 2016-10-10 12:00:00+00:00  Художественный   \n",
       "3  Особо опасен  221026916 2016-06-10 12:00:00+00:00  Художественный   \n",
       "4  Особо опасен  221030815 2015-07-29 12:00:00+00:00  Художественный   \n",
       "\n",
       "                                         film_studio production_country  \\\n",
       "2  Юниверсал Пикчерз, Кикстарт Продакшнз, Марк Пл...                США   \n",
       "3  Юниверсал Пикчерз, Кикстарт Продакшнз, Марк Пл...                США   \n",
       "4  Юниверсал Пикчерз, Кикстарт Продакшнз, Марк Пл...                США   \n",
       "\n",
       "            director                                           producer  \\\n",
       "2  Тимур Бекмамбетов  Джим Лемли, Джейсон Нетер, Марк Е.Платт, Яйн Смит   \n",
       "3  Тимур Бекмамбетов  Джим Лемли, Джейсон Нетер, Марк Е.Платт, Яйн Смит   \n",
       "4  Тимур Бекмамбетов  Джим Лемли, Джейсон Нетер, Марк Е.Платт, Яйн Смит   \n",
       "\n",
       "               age_restriction  refundable_support  nonrefundable_support  \\\n",
       "2  «18+» - запрещено для детей                 NaN                    NaN   \n",
       "3  «18+» - запрещено для детей                 NaN                    NaN   \n",
       "4  «18+» - запрещено для детей                 NaN                    NaN   \n",
       "\n",
       "   budget financing_source  ratings                     genres  box_office  \n",
       "2     NaN              NaN      6.8  фантастика,боевик,триллер         NaN  \n",
       "3     NaN              NaN      6.8  фантастика,боевик,триллер         NaN  \n",
       "4     NaN              NaN      6.8  фантастика,боевик,триллер         NaN  "
      ]
     },
     "execution_count": 20,
     "metadata": {},
     "output_type": "execute_result"
    }
   ],
   "source": [
    "for i in movies_merge:\n",
    "    print(f'В столбце {i} {movies_merge[i].duplicated().sum()} дубликатов')\n",
    "print(f'\\nКоличесто строк-дублей:{movies_merge.duplicated().sum()}')\n",
    "movies_merge.query('title==\"Особо опасен\"')"
   ]
  },
  {
   "cell_type": "markdown",
   "metadata": {},
   "source": [
    "Дубликаты есть и их много. Это объясняется тем, что уникальных значений для данного рода данных быть не может. Т.е. на фильм с одним и тем же названием могут получать несколько прокатных удостоверений различные телеканалы или киинотеатры. Собственно, уже от этого и появляются дубли. Т.к. остальная информация о фильме: студия производства, режиссер, ограничение по возрасту и т.д. автоматически будет дублироваться так же.<br>При этом нет строк-дублей, т.е. все строки уникальны в той или иной части"
   ]
  },
  {
   "cell_type": "markdown",
   "metadata": {
    "id": "52fOPrEBgFyQ"
   },
   "source": [
    "#### Шаг 2.4. Изучите категориальные значения\n",
    "\n",
    "- Посмотрите, какая общая проблема встречается почти во всех категориальных столбцах;\n",
    "- Исправьте проблемные значения в поле `type`.\n",
    "\n",
    "<div id=\"accordion\">\n",
    "    <div class=\"card\">\n",
    "        <div class=\"card-header\" id=\"headingThree\">\n",
    "            <button class=\"btn btn-link collapsed\" data-toggle=\"collapse\" data-target=\"#collapseHint_1\" aria-expanded=\"false\" aria-controls=\"collapseHint_1\">Подсказка</button>\n",
    "        </div>\n",
    "        <div id=\"collapseHint_1\" class=\"collapse\" aria-labelledby=\"headingThree\" data-parent=\"#accordion\">\n",
    "            <div class=\"card-body\">\n",
    "В поле <code>type</code> есть несколько значений, у которых появился пробел в начале строки. Самый простой способ их «починить» -- использовать метод <a href=\"https://pandas.pydata.org/docs/reference/api/pandas.Series.str.strip.html#pandas.Series.str.strip\">.str.strip</a>. Этот метод удаляет все пробелы, которые встречаются в начале и в конце строки. Применяют его таким образом:<br>\n",
    "<code>df['type'].str.strip()</code>\n",
    "            </div>\n",
    "        </div>\n",
    "    </div>\n",
    "</div>"
   ]
  },
  {
   "cell_type": "markdown",
   "metadata": {},
   "source": [
    "При рассмотрении уникальных значнией столбца type и production_country было выявлено, что есть неявные дубликаты для значений столбца. Например, 'Анимационный' и ' Анимационный', т.е. с пробелом в начале и\\или конце значения. Помимо этого, есть значения вида 'Австралия - США', 'Австралия, США' и Австралия-США. Приведем их к записи через \",\" без пробелов.\n",
    "<br>Избавляемся от этих дубликатов."
   ]
  },
  {
   "cell_type": "code",
   "execution_count": 21,
   "metadata": {
    "id": "PnXKIVdFgFyR"
   },
   "outputs": [
    {
     "data": {
      "text/plain": [
       "[' Анимационный',\n",
       " ' Художественный',\n",
       " 'Анимационный',\n",
       " 'Документальный',\n",
       " 'Музыкально-развлекательный',\n",
       " 'Научно-популярный',\n",
       " 'Прочие',\n",
       " 'Художественный']"
      ]
     },
     "execution_count": 21,
     "metadata": {},
     "output_type": "execute_result"
    }
   ],
   "source": [
    "sorted(movies_merge['type'].unique()) # проверяем уникальные значения столбца type"
   ]
  },
  {
   "cell_type": "code",
   "execution_count": 23,
   "metadata": {},
   "outputs": [
    {
     "data": {
      "text/plain": [
       "['Анимационный',\n",
       " 'Документальный',\n",
       " 'Музыкально-развлекательный',\n",
       " 'Научно-популярный',\n",
       " 'Прочие',\n",
       " 'Художественный']"
      ]
     },
     "execution_count": 23,
     "metadata": {},
     "output_type": "execute_result"
    }
   ],
   "source": [
    "movies_merge['type'] = movies_merge['type'].apply(lambda x: re.sub(r'^ *','',x)) # убираем пробел(ы) в начале значения\n",
    "sorted(movies_merge['type'].unique()) # проверяем уникальные значения повторно"
   ]
  },
  {
   "cell_type": "code",
   "execution_count": 24,
   "metadata": {},
   "outputs": [
    {
     "data": {
      "text/plain": [
       "['2019',\n",
       " 'CША',\n",
       " 'Австралия',\n",
       " 'Австралия,Великобритания',\n",
       " 'Австралия,Великобритания,Бельгия,Индия',\n",
       " 'Австралия,Германия',\n",
       " 'Австралия,Ирландия',\n",
       " 'Австралия,Канада',\n",
       " 'Австралия,Колумбия',\n",
       " 'Австралия,США',\n",
       " 'Австралия,Турция,США',\n",
       " 'Австрия',\n",
       " 'Австрия,Великобритания,Германия',\n",
       " 'Австрия,Германия',\n",
       " 'Австрия,Германия,Франция',\n",
       " 'Австрия,Люксембург',\n",
       " 'Австрия,Франция,Германия',\n",
       " 'Азербайджан,Россия',\n",
       " 'Аргентина',\n",
       " 'Аргентина,Бразилия',\n",
       " 'Аргентина,Испания',\n",
       " 'Аргентина,Испания,Уругвай',\n",
       " 'Аргентина,Мексика,Бразилия,Франция,США',\n",
       " 'Аргентина,Уругвай,Россия,Германия,Франция,Нидерланды',\n",
       " 'Аргентина,Франция,Испания',\n",
       " 'Армения',\n",
       " 'Армения,Германия',\n",
       " 'Армения,Казахстан',\n",
       " 'Армения,Россия',\n",
       " 'Бельгия',\n",
       " 'Бельгия,Великобритания,США',\n",
       " 'Бельгия,Германия,Канада,Франция,США,Великобритания',\n",
       " 'Бельгия,Германия,Люксембург',\n",
       " 'Бельгия,Германия,Люксембург,Франция',\n",
       " 'Бельгия,Испания,Канада,Нидерланды',\n",
       " 'Бельгия,Италия,Франция',\n",
       " 'Бельгия,Канада',\n",
       " 'Бельгия,Люксембург',\n",
       " 'Бельгия,Люксембург,Франция,Швейцария',\n",
       " 'Бельгия,Нидерланды',\n",
       " 'Бельгия,Нидерланды,Франция',\n",
       " 'Бельгия,США',\n",
       " 'Бельгия,Франция',\n",
       " 'Бельгия,Франция,Италия',\n",
       " 'Бельгия,Франция,Люксембург',\n",
       " 'Болгария',\n",
       " 'Болгария,США',\n",
       " 'Болгария,Франция,Изриль',\n",
       " 'Босния и Герцеговина,Франция,Великобритания,Германия,Словения,Бельгия,Сербия',\n",
       " 'Бразилия',\n",
       " 'Бразилия,Германия,Порртугалия,Франция',\n",
       " 'Бразилия,Испания',\n",
       " 'Бразилия,К;анада',\n",
       " 'Бразилия,Канада,США',\n",
       " 'Бразилия,Португалия,Франция',\n",
       " 'Бразилия,США',\n",
       " 'Бразилия,США,КНР',\n",
       " 'Бразилия,Уругвай,Дания,Норвегия,Чили,Швеция',\n",
       " 'Великобритания',\n",
       " 'Великобритания,Австралия',\n",
       " 'Великобритания,Австралия,США',\n",
       " 'Великобритания,Австрия,Германия',\n",
       " 'Великобритания,Австрия,Франция,США',\n",
       " 'Великобритания,Аргентина,США,Франция,Россия,Испания',\n",
       " 'Великобритания,Венгрия',\n",
       " 'Великобритания,Германия',\n",
       " 'Великобритания,Германия,Дания,США',\n",
       " 'Великобритания,Германия,Канада,ЮАР',\n",
       " 'Великобритания,Германия,Нидерланды,Дания',\n",
       " 'Великобритания,Германия,США',\n",
       " 'Великобритания,Германия,Франция,Кипр,США',\n",
       " 'Великобритания,Гонконг,Венгрия,США,Ирландия',\n",
       " 'Великобритания,Дания',\n",
       " 'Великобритания,Израиль',\n",
       " 'Великобритания,Израиль,Франция,Япония,США',\n",
       " 'Великобритания,Ирландия',\n",
       " 'Великобритания,Ирландия,США',\n",
       " 'Великобритания,Исландия,Испания,Швейцария,США',\n",
       " 'Великобритания,Испания',\n",
       " 'Великобритания,Испания,Германия',\n",
       " 'Великобритания,Испания,Италия,Латвия,Франция,Эстония',\n",
       " 'Великобритания,Испания,Непал,Индия,Венгрия,Гонконг,Германия,Дания,Бахрейн',\n",
       " 'Великобритания,Италия',\n",
       " 'Великобритания,Италия,Испания',\n",
       " 'Великобритания,Италия,Швейцария',\n",
       " 'Великобритания,КНР',\n",
       " 'Великобритания,Канада',\n",
       " 'Великобритания,Канада,США',\n",
       " 'Великобритания,Люксембург',\n",
       " 'Великобритания,Мексика,США',\n",
       " 'Великобритания,Нидерланды,Германия,Франция,Бельгия,Австрия',\n",
       " 'Великобритания,Нидерланды,Польша,Швейцария,Франция',\n",
       " 'Великобритания,Нидерланды,Франция,США',\n",
       " 'Великобритания,Нидерланды,Франция,Хорватия',\n",
       " 'Великобритания,Новая Зеландия',\n",
       " 'Великобритания,Норвегия,Дания,Германия',\n",
       " 'Великобритания,Норвегия,Кения,Хорватия',\n",
       " 'Великобритания,Польша',\n",
       " 'Великобритания,Польша,КНР,Индия,Норвегия',\n",
       " 'Великобритания,Пуэрто,Рико',\n",
       " 'Великобритания,Россия,КНР',\n",
       " 'Великобритания,Россия,Украина,США',\n",
       " 'Великобритания,Румыния',\n",
       " 'Великобритания,США',\n",
       " 'Великобритания,США,Австралия,Ирландия,Германия,Куба,Канада',\n",
       " 'Великобритания,США,Германия',\n",
       " 'Великобритания,США,Германия,Бельгия',\n",
       " 'Великобритания,США,Германия,КНР',\n",
       " 'Великобритания,США,Германия,Канада,Австралия',\n",
       " 'Великобритания,США,Индия',\n",
       " 'Великобритания,США,Испания',\n",
       " 'Великобритания,США,Канада',\n",
       " 'Великобритания,США,Канада,Бельгия,Нидерланды,Австрия,Германия',\n",
       " 'Великобритания,США,Канада,Нидерланды,Франция',\n",
       " 'Великобритания,США,Россия',\n",
       " 'Великобритания,США,Франция',\n",
       " 'Великобритания,США,Швейцария',\n",
       " 'Великобритания,Франция',\n",
       " 'Великобритания,Франция,Австрия,Швеция',\n",
       " 'Великобритания,Франция,Бельгия',\n",
       " 'Великобритания,Франция,Бельгия,Италия',\n",
       " 'Великобритания,Франция,Бельгия,США',\n",
       " 'Великобритания,Франция,Венгрия',\n",
       " 'Великобритания,Франция,Германия',\n",
       " 'Великобритания,Франция,Германия,США',\n",
       " 'Великобритания,Франция,Италия',\n",
       " 'Великобритания,Франция,Италия,Индия,Дания,КНР,Бангладеш,Камбоджа,Гаити,Уганда',\n",
       " 'Великобритания,Франция,Италия,США',\n",
       " 'Великобритания,Франция,Республика Кипр,Швейцария,США,Сербия',\n",
       " 'Великобритания,Франция,США',\n",
       " 'Великобритания,Франция,Швеция,Бельгия',\n",
       " 'Великобритания,Чехия,Франция',\n",
       " 'Великобритания,Чехия,Франция,Италия',\n",
       " 'Великобритания,Швеция,США',\n",
       " 'Великобритания,ЮАР',\n",
       " 'Великобритания,Южная Корея,Канада,США,Индия,Китай,Япония',\n",
       " 'Великобритания,Япония,США',\n",
       " 'Венгрия',\n",
       " 'Венгрия,Германия,Швеция',\n",
       " 'Венесуэла',\n",
       " 'Германия',\n",
       " 'Германия,Австралия',\n",
       " 'Германия,Австрия',\n",
       " 'Германия,Австрия,Ирландия',\n",
       " 'Германия,Австрия,Франция',\n",
       " 'Германия,Австрия,Франция,Италия',\n",
       " 'Германия,Аргентина,Нидерланды,Чили',\n",
       " 'Германия,Бельгия',\n",
       " 'Германия,Бельгия,Великобритания',\n",
       " 'Германия,Бельгия,Люксембург,Ирландия',\n",
       " 'Германия,Бельгия,Люксембург,Норвегия',\n",
       " 'Германия,Бельгия,США,Франция',\n",
       " 'Германия,Великобритания',\n",
       " 'Германия,Великобритания,Австрия',\n",
       " 'Германия,Великобритания,Италия,Испания',\n",
       " 'Германия,Великобритания,США',\n",
       " 'Германия,Дания,Испания,Швеция,Канада,Эстония,Франция',\n",
       " 'Германия,Дания,Норвегия',\n",
       " 'Германия,Израиль',\n",
       " 'Германия,Исландия',\n",
       " 'Германия,Италия',\n",
       " 'Германия,Италия,США',\n",
       " 'Германия,Италия,Франция',\n",
       " 'Германия,Италия,Швейцария',\n",
       " 'Германия,Италия,Шри,Ланка',\n",
       " 'Германия,Канада',\n",
       " 'Германия,Канада,Великобритания,Швейцария,Франция',\n",
       " 'Германия,Канада,Франция,Бельгия',\n",
       " 'Германия,Кения',\n",
       " 'Германия,Китай',\n",
       " 'Германия,Люксембург,Бельгия',\n",
       " 'Германия,Люксембург,Дания',\n",
       " 'Германия,Люксембург,Франция',\n",
       " 'Германия,Нидерланды,Беларусь,Россия,Латвия',\n",
       " 'Германия,Нидерланды,ЮАР',\n",
       " 'Германия,Россия',\n",
       " 'Германия,США',\n",
       " 'Германия,США,Великобритания,Израиль',\n",
       " 'Германия,США,Великобритания,Ирландия',\n",
       " 'Германия,США,Франция,Испания',\n",
       " 'Германия,США,Швеция,Франция',\n",
       " 'Германия,Украина,Нидерланды',\n",
       " 'Германия,Финляндия,Австралия',\n",
       " 'Германия,Франция',\n",
       " 'Германия,Франция,Австрия',\n",
       " 'Германия,Франция,Бельгия',\n",
       " 'Германия,Франция,Великобритания',\n",
       " 'Германия,Франция,Великобритания,Польша,США',\n",
       " 'Германия,Франция,Великобритания,США',\n",
       " 'Германия,Франция,Канада',\n",
       " 'Германия,Франция,Люксембург',\n",
       " 'Германия,Франция,Польша',\n",
       " 'Германия,Франция,Польша,Турция,Канада,Италия,Россия',\n",
       " 'Германия,Франция,США',\n",
       " 'Германия,Швейцария',\n",
       " 'Германия,Швейцария,Франция,Южная Корея,США',\n",
       " 'Германия,Швеция',\n",
       " 'Голландия',\n",
       " 'Гонконг',\n",
       " 'Гонконг,КНР',\n",
       " 'Гонконг,Сингапур,Таиланд,Великобритания',\n",
       " 'Греция',\n",
       " 'Греция,Германия,Франция',\n",
       " 'Греция,Россия',\n",
       " 'Грузия',\n",
       " 'Грузия,Россия',\n",
       " 'Грузия,Россия,Украина,Хорватия,Германия',\n",
       " 'Грузия,Украина',\n",
       " 'Грузия,Франция',\n",
       " 'Грузия,Франция,Люксембург',\n",
       " 'Дания',\n",
       " 'Дания,Австрия,Ирландия,Финляндия,Норвегия,Швеция,Нидерланды',\n",
       " 'Дания,Великобритания,ЮАР',\n",
       " 'Дания,Германия',\n",
       " 'Дания,Германия,Швеция',\n",
       " 'Дания,Исландия',\n",
       " 'Дания,Канада,Норвегия,Австралия,США',\n",
       " 'Дания,Канада,Швеция,Франция,Германия,Великобритания,США',\n",
       " 'Дания,Латвия,Россия,США',\n",
       " 'Дания,Норвегия,Великобритания',\n",
       " 'Дания,Норвегия,Венгрия,Чехия',\n",
       " 'Дания,Норвегия,Швеция,Исландия',\n",
       " 'Дания,США',\n",
       " 'Дания,Франция,Бельгия,Германия,Великобритания',\n",
       " 'Дания,Франция,Германия,Швеция',\n",
       " 'Дания,Франция,Италия,Бельгия,Нидерланды',\n",
       " 'Дания,Швейцария,Бельгия,Франция',\n",
       " 'Дания,Швеция',\n",
       " 'Дания,Швеция,Великобритания,Франция,Германия,Нидерланды,Норвегия,Финляндия',\n",
       " 'Дания,Швеция,Великобритания,Франция,Германия,Норвегия,Финляндия,Нидерланды,Италия',\n",
       " 'Дания,Швеция,Италия,Франция,Германия',\n",
       " 'Дания,Швеция,Франция,Германия',\n",
       " 'Израиль',\n",
       " 'Израиль,Германия,Польша,Бельгия,Франция,Люксембург',\n",
       " 'Израиль,Германия,Франция,Швейцария',\n",
       " 'Израиль,США,Франция',\n",
       " 'Израиль,Украина',\n",
       " 'Израиль,Франция',\n",
       " 'Израиль,Франция,Великобритания,Германия',\n",
       " 'Израиль,Франция,Германия,Палестина,США,Австрия,Великобритания',\n",
       " 'Индия',\n",
       " 'Индия,Великобритания',\n",
       " 'Индия,КНР',\n",
       " 'Индия,Мексика',\n",
       " 'Индия,США',\n",
       " 'Индонезия',\n",
       " 'Иран',\n",
       " 'Иран,Франция',\n",
       " 'Ирландия',\n",
       " 'Ирландия,Великобритания',\n",
       " 'Ирландия,Великобритания,Германия',\n",
       " 'Ирландия,Великобритания,Канада',\n",
       " 'Ирландия,Великобритания,США',\n",
       " 'Ирландия,Великобритания,Франция,США',\n",
       " 'Ирландия,Великобритания,Франция,США,Германия,Нидерланды',\n",
       " 'Ирландия,Дания,Бельгия,Люксембург,Франция',\n",
       " 'Ирландия,Канада',\n",
       " 'Ирландия,Нидерланды,Франция,США,Великобритания',\n",
       " 'Ирландия,США',\n",
       " 'Ирландия,Финляндия,Бельгия,Великобритания,США,Швейцария',\n",
       " 'Исландия',\n",
       " 'Исландия,Бельгия',\n",
       " 'Исландия,Ирландия,Германия',\n",
       " 'Исландия,Финляндия',\n",
       " 'Испания',\n",
       " 'Испания,Аргентина',\n",
       " 'Испания,Аргентина,Индия,США',\n",
       " 'Испания,Бельгия,Франция,Португалия,Великобритания',\n",
       " 'Испания,Болгария,США',\n",
       " 'Испания,Великобритания,Франция',\n",
       " 'Испания,Германия,Нидерланды',\n",
       " 'Испания,Ирландия,Бельгия,Франция',\n",
       " 'Испания,Италия,Франция',\n",
       " 'Испания,Канада',\n",
       " 'Испания,Канада,Япония',\n",
       " 'Испания,Колумбия',\n",
       " 'Испания,Куба',\n",
       " 'Испания,Мальта',\n",
       " 'Испания,Мексика',\n",
       " 'Испания,США',\n",
       " 'Испания,США,Великобритания,Канада',\n",
       " 'Испания,США,Колумбия',\n",
       " 'Испания,Уругвай,Аргентина',\n",
       " 'Испания,Франция',\n",
       " 'Испания,Франция,Великобритания,Дания,Бельгия,Германия',\n",
       " 'Испания,Франция,Греция,Индия,США,Россия,Великобритания',\n",
       " 'Испания,Франция,Италия',\n",
       " 'Испания,Франция,Нидерланды,Германия,Бельгия,Великобритания,Канада',\n",
       " 'Испания,Франция,США,Великобритания,Бельгия',\n",
       " 'Испания,Швейцария,Великобритания,Германия,Новая Зеландия,Нидерланды,Канада',\n",
       " 'Италия',\n",
       " 'Италия,Аргентина,Словения',\n",
       " 'Италия,Бельгия,Франция',\n",
       " 'Италия,Великобритания',\n",
       " 'Италия,Германия',\n",
       " 'Италия,Испания',\n",
       " 'Италия,Канада',\n",
       " 'Италия,Россия',\n",
       " 'Италия,США',\n",
       " 'Италия,Франция',\n",
       " 'Италия,Франция,Великобритания',\n",
       " 'Италия,Франция,Германия',\n",
       " 'Италия,Франция,Швейцария',\n",
       " 'Италия,Франция,Швейцария,Великобритания',\n",
       " 'Италия,Фрация,Бразилия,Германия',\n",
       " 'Италия,Швейцария',\n",
       " 'Италия,Швейцария,Германия',\n",
       " 'Италия,Швейцария,Франция,Германия',\n",
       " 'КНР',\n",
       " 'КНР,Гонконг',\n",
       " 'КНР,Гонконг,США',\n",
       " 'КНР,Индия,Гонконг,США',\n",
       " 'КНР,Канада,США',\n",
       " 'КНР,США',\n",
       " 'КНР,Сингапур',\n",
       " 'КНР,Франция',\n",
       " 'Казахстан',\n",
       " 'Канада',\n",
       " 'Канада,Бразилия,Япония',\n",
       " 'Канада,Великобритания',\n",
       " 'Канада,Германия',\n",
       " 'Канада,Испания',\n",
       " 'Канада,Италия',\n",
       " 'Канада,КНР',\n",
       " 'Канада,Мексика',\n",
       " 'Канада,Норвегия',\n",
       " 'Канада,США',\n",
       " 'Канада,США,Германия,Франция',\n",
       " 'Канада,США,Каймановы острова',\n",
       " 'Канада,США,Нидерланды,Великобритания,Аргентина',\n",
       " 'Канада,США,Норвегия',\n",
       " 'Канада,Франция',\n",
       " 'Канада,Франция,Великобритания',\n",
       " 'Канада,Франция,Испания',\n",
       " 'Канада,Франция,Италия,Швейцария,США',\n",
       " 'Канада,Франция,США,ОАЭ,Великобритания',\n",
       " 'Канада,ЮАР',\n",
       " 'Канада,Южная Корея',\n",
       " 'Канада,Южная Корея,США',\n",
       " 'Кения,Германия',\n",
       " 'Киргизия',\n",
       " 'Киргизия,Россия',\n",
       " 'Китай',\n",
       " 'Китай,Гонконг',\n",
       " 'Китай,Гонконг,США',\n",
       " 'Китай,Канада,США',\n",
       " 'Китай,США',\n",
       " 'Княжество Андорра,Украина',\n",
       " 'Колумбия',\n",
       " 'Колумбия,США',\n",
       " 'Корея',\n",
       " 'Латвия,Россия',\n",
       " 'Латвия,Франция',\n",
       " 'Ливан,США',\n",
       " 'Литва,Венгрия',\n",
       " 'Литва,Россия,Украина',\n",
       " 'Люксембург,Бельгия,Франция',\n",
       " 'Люксембург,Нидерланды,Испания,Великобритания,США,Италия',\n",
       " 'Македония,Франция,Великобритания',\n",
       " 'Малайзия',\n",
       " 'Малайзия,США',\n",
       " 'Мексика',\n",
       " 'Мексика,Аргентина',\n",
       " 'Мексика,Аргентина,Великобритания',\n",
       " 'Мексика,Испания',\n",
       " 'Мексика,Испания,Дания,США',\n",
       " 'Мексика,Нидерланды,Германия,Франция',\n",
       " 'Мексика,США',\n",
       " 'Мексика,Тайвань,США',\n",
       " 'Мексика,Франция',\n",
       " 'Мексика,Франция,Германия,Дания,Швеция',\n",
       " 'Мексика,Франция,Нидерланды,Германия',\n",
       " 'Мексика,Чили',\n",
       " 'Мексика,Эквадор,Канада,США,Франция,Малайзия,Италия,Аргентина,Германия,Индия',\n",
       " 'Монголия',\n",
       " 'Не указано',\n",
       " 'Нидерланды',\n",
       " 'Нидерланды,Бельгия',\n",
       " 'Нидерланды,Бельгия,Болгария',\n",
       " 'Нидерланды,Бельгия,Германия,Ирландия',\n",
       " 'Нидерланды,Бельгия,Люксембург',\n",
       " 'Нидерланды,Великобритания,Бельгия',\n",
       " 'Нидерланды,Великобритания,Франция,Италия,Япония',\n",
       " 'Нидерланды,Россия',\n",
       " 'Нидерланды,Россия,Германия',\n",
       " 'Нидерланды,США,Германия,Канада,Франция,Ирландия,Великобритания',\n",
       " 'Нидерланды,Франция,Германия,Бельгия,Швеция,Великобритания',\n",
       " 'Новая Зеландия',\n",
       " 'Новая Зеландия,КНР',\n",
       " 'Новая Зеландия,США',\n",
       " 'Норвегия',\n",
       " 'Норвегия,Азербайджан,Россия,Колумбия,Великобритания,Венгрия,Румыния,Франция,Грузия',\n",
       " 'Норвегия,Дания,Швеция',\n",
       " 'Норвегия,Исландия,США,Великобритания',\n",
       " 'Норвегия,Нидерланды',\n",
       " 'Норвегия,США',\n",
       " 'Норвегия,Швеция',\n",
       " 'Норвегия,Швеция,Дания',\n",
       " 'Норвегия,Швеция,Дания,Германия',\n",
       " 'Норвегия,Швеция,Россия',\n",
       " 'Норвения',\n",
       " 'ОАЭ,США',\n",
       " 'Пакистан',\n",
       " 'Парагвай',\n",
       " 'Перу',\n",
       " 'Польша',\n",
       " 'Польша,Ирландия',\n",
       " 'Польша,Италия,Россия',\n",
       " 'Польша,Португалия,Франция,Великобритания',\n",
       " 'Польша,Франция',\n",
       " 'Польша,Франция,Великобритания',\n",
       " 'Польша,Франция,Испания,Бразилия,Швеция',\n",
       " 'Португалия',\n",
       " 'Португалия,Франция',\n",
       " 'Португалия,Франция,Польша,США',\n",
       " 'Пуэрто,Рико,Великобритания,США',\n",
       " 'Республика Армения',\n",
       " 'Республика Беларусь',\n",
       " 'Республика Беларусь,Германия,США,Россия',\n",
       " 'Республика Казахстан',\n",
       " 'Республика Кипр',\n",
       " 'Республика Кипр,Россия',\n",
       " 'Республика Кипр,США,Россия',\n",
       " 'Республика Корея',\n",
       " 'Республика Узбекистан',\n",
       " 'Россия',\n",
       " 'Россия,Австрия',\n",
       " 'Россия,Азербайджан',\n",
       " 'Россия,Армения',\n",
       " 'Россия,Беларусь',\n",
       " 'Россия,Белоруссия',\n",
       " 'Россия,Бельгия,Финляндия',\n",
       " 'Россия,Болгария',\n",
       " 'Россия,Германия',\n",
       " 'Россия,Германия,Великобритания',\n",
       " 'Россия,Германия,Казахстан,Польша,Китай',\n",
       " 'Россия,Германия,Украина',\n",
       " 'Россия,Германия,Франция,Бельгия',\n",
       " 'Россия,Германия,Швейцария',\n",
       " 'Россия,Грузия',\n",
       " 'Россия,Грузия,Испания',\n",
       " 'Россия,Грузия,Хорватия,Испания',\n",
       " 'Россия,Ирландия',\n",
       " 'Россия,Испания',\n",
       " 'Россия,Италия',\n",
       " 'Россия,Казахстан',\n",
       " 'Россия,Казахстан,США',\n",
       " 'Россия,Кипр',\n",
       " 'Россия,Китай',\n",
       " 'Россия,Латвия,Чешская Республика',\n",
       " 'Россия,Нидерланды,Финляндия',\n",
       " 'Россия,Польша',\n",
       " 'Россия,Польша,Голландия,Словакия',\n",
       " 'Россия,Польша,Финляндия',\n",
       " 'Россия,Республика Беларусь',\n",
       " 'Россия,Республика Кипр',\n",
       " 'Россия,Румыния',\n",
       " 'Россия,США',\n",
       " 'Россия,США,Канада,Люксембург',\n",
       " 'Россия,Сербия',\n",
       " 'Россия,Словакия,Чехия',\n",
       " 'Россия,Таджикистан',\n",
       " 'Россия,Украина',\n",
       " 'Россия,Украина,Германия',\n",
       " 'Россия,Украина,Польша',\n",
       " 'Россия,Украина,Республика Беларусь,Литва',\n",
       " 'Россия,Франция',\n",
       " 'Россия,Франция,Великобритания,Латвия',\n",
       " 'Россия,Франция,Германия,Бельгия',\n",
       " 'Россия,Франция,Латвия',\n",
       " 'Россия,Эстония,Финляндия,Беларусь',\n",
       " 'Румыния',\n",
       " 'Румыния,США',\n",
       " 'Румыния,Франция,Бельгия',\n",
       " 'Румыния,ЮАР,Иран,Франция,Канада,Великобритания',\n",
       " 'СССР',\n",
       " 'СССР,Албания',\n",
       " 'СССР,Афганистан',\n",
       " 'СССР,ВНР',\n",
       " 'СССР,Венгрия',\n",
       " 'СССР,Венгрия,ЧССР,ГДР',\n",
       " 'СССР,ГДР',\n",
       " 'СССР,ГДР,Польша,Италия',\n",
       " 'СССР,Италия',\n",
       " 'СССР,Монголия',\n",
       " 'СССР,Польша',\n",
       " 'СССР,Россия',\n",
       " 'СССР,Румыния,Франция',\n",
       " 'СССР,ФРГ',\n",
       " 'СССР,ФРГ,Западный Берлин',\n",
       " 'СССР,Финляндия',\n",
       " 'СССР,Франция,Англия,Куба,ГДР',\n",
       " 'СССР,ЧССР,Западный Берлин,ПНР',\n",
       " 'СССР,Швейцария,Франция',\n",
       " 'СССР,Швеция',\n",
       " 'США',\n",
       " 'США,Австралия',\n",
       " 'США,Австралия,Дания',\n",
       " 'США,Австралия,Индия',\n",
       " 'США,Австралия,Мексика',\n",
       " 'США,Австралия,Новая Зеландия,Великобритания',\n",
       " 'США,Австралия,Франция',\n",
       " 'США,Аргентина',\n",
       " 'США,Бельгия',\n",
       " 'США,Бельгия,Великобритания',\n",
       " 'США,Болгария,Мексика',\n",
       " 'США,Бразилия,Великобритания,Канада',\n",
       " 'США,Бразилия,Франция,Австралия,Великобритания,Германия',\n",
       " 'США,Великобритания',\n",
       " 'США,Великобритания,Австралия',\n",
       " 'США,Великобритания,Болгария',\n",
       " 'США,Великобритания,Германия',\n",
       " 'США,Великобритания,Германия,Бельгия,Дания',\n",
       " 'США,Великобритания,Германия,Новая Зеландия,Бельгия,Франция',\n",
       " 'США,Великобритания,Германия,Швеция,Канада',\n",
       " 'США,Великобритания,Индия',\n",
       " 'США,Великобритания,Ирландия',\n",
       " 'США,Великобритания,Ирландия,Люксембург',\n",
       " 'США,Великобритания,Исландия',\n",
       " 'США,Великобритания,Испания',\n",
       " 'США,Великобритания,Италия,Израиль,Сербия,Индия',\n",
       " 'США,Великобритания,КНР',\n",
       " 'США,Великобритания,Канада',\n",
       " 'США,Великобритания,Канада,КНР',\n",
       " 'США,Великобритания,Канада,Швеция',\n",
       " 'США,Великобритания,Люксембург',\n",
       " 'США,Великобритания,Новая Зеландия',\n",
       " 'США,Великобритания,Франция',\n",
       " 'США,Великобритания,Франция,Гонконг',\n",
       " 'США,Великобритания,Франция,Швеция',\n",
       " 'США,Великобритания,Чехия',\n",
       " 'США,Великобритания,Чехия,Румыния',\n",
       " 'США,Великобритания,Швейцария,Франция',\n",
       " 'США,Великобритания,Швеция',\n",
       " 'США,Великобритания,Япония',\n",
       " 'США,Венгрия',\n",
       " 'США,Венгрия,Великобритания',\n",
       " 'США,Вьетнам',\n",
       " 'США,Германия',\n",
       " 'США,Германия,Австралия',\n",
       " 'США,Германия,Великобритания',\n",
       " 'США,Германия,Гонконг,Сингапур',\n",
       " 'США,Германия,КНР',\n",
       " 'США,Германия,Канада',\n",
       " 'США,Германия,Нидерланды',\n",
       " 'США,Германия,Франция',\n",
       " 'США,Германия,Франция,Великобритания,Канада',\n",
       " 'США,Германия,Япония',\n",
       " 'США,Гонконг',\n",
       " 'США,Гонконг,КНР',\n",
       " 'США,Гонконг,Китай',\n",
       " 'США,Дания',\n",
       " 'США,Индия',\n",
       " 'США,Индия,ОАЭ',\n",
       " 'США,Индонезия',\n",
       " 'США,Ирландия',\n",
       " 'США,Ирландия,Великобритания',\n",
       " 'США,Ирландия,Великобритания,Франция',\n",
       " 'США,Испания',\n",
       " 'США,Испания,Болгария',\n",
       " 'США,Испания,Франция',\n",
       " 'США,Испания,Франция,Великобритания',\n",
       " 'США,Италия',\n",
       " 'США,Италия,Греция',\n",
       " 'США,Италия,Испания',\n",
       " 'США,Италия,Испания,Аргентина',\n",
       " 'США,КНР',\n",
       " 'США,КНР,Индия,Ю.Корея',\n",
       " 'США,Канада',\n",
       " 'США,Канада,Австралия',\n",
       " 'США,Канада,Аргентина',\n",
       " 'США,Канада,Афганистан,Бельгия,Франция',\n",
       " 'США,Канада,Бельгия',\n",
       " 'США,Канада,Великобритания',\n",
       " 'США,Канада,Германия',\n",
       " 'США,Канада,Германия,Франция',\n",
       " 'США,Канада,Индонезия',\n",
       " 'США,Канада,Италия',\n",
       " 'США,Канада,КНР',\n",
       " 'США,Канада,Россия,Франция,Чили,Ирландия',\n",
       " 'США,Канада,Франция',\n",
       " 'США,Канада,Франция,Индия',\n",
       " 'США,Канада,Япония,КНР',\n",
       " 'США,Китай',\n",
       " 'США,Колумбия',\n",
       " 'США,Колумбия,Испания',\n",
       " 'США,Мальта',\n",
       " 'США,Мексика',\n",
       " 'США,Нидерланды',\n",
       " 'США,Нидерланды,Бельгия,Венгрия,Греция,Канада',\n",
       " 'США,Нидерланды,Финляндия,Великобритания,Италия',\n",
       " 'США,Новая Зеландия',\n",
       " 'США,Новая Зеландия,Япония',\n",
       " 'США,Норвегия',\n",
       " 'США,ОАЭ',\n",
       " 'США,Объединенные Арабские Эмираты',\n",
       " 'США,Пуэрто Рико',\n",
       " 'США,Пуэрто,Рико,Франция',\n",
       " 'США,Россия',\n",
       " 'США,Россия,Польша,Германия,Пуэрто Рико',\n",
       " 'США,Россия,Франция',\n",
       " 'США,Румыния,Великобритания',\n",
       " 'США,Сингапур,Малайзия,Индонезия',\n",
       " 'США,Украина',\n",
       " 'США,ФРГ,Россия',\n",
       " 'США,Финляндия',\n",
       " 'США,Финляндия,Испания,Великобритания,Франция',\n",
       " 'США,Франция',\n",
       " 'США,Франция,Бельгия,Италия',\n",
       " 'США,Франция,Великобритания',\n",
       " 'США,Франция,Великобритания,Австрия',\n",
       " 'США,Франция,Великобритания,Бразилия',\n",
       " 'США,Франция,Германия',\n",
       " 'США,Франция,Германия,Канада,Австралия',\n",
       " 'США,Франция,Ирландия',\n",
       " 'США,Франция,Испания',\n",
       " 'США,Франция,Испания,Великобритания',\n",
       " 'США,Франция,Канада',\n",
       " 'США,Франция,Канада,Великобритания',\n",
       " 'США,Франция,Канада,Германия,Австралия,Индия',\n",
       " 'США,Франция,Турция',\n",
       " 'США,Франция,ЮАР',\n",
       " 'США,Франция,Япония',\n",
       " 'США,Хорватия,Босния,Герцеговина',\n",
       " 'США,Чехия,Франция',\n",
       " 'США,Чили',\n",
       " 'США,Швейцария,Франция',\n",
       " 'США,Швеция',\n",
       " 'США,Ю.Корея',\n",
       " 'США,ЮАР',\n",
       " 'США,ЮАР,Гонконг',\n",
       " 'США,Южная Корея',\n",
       " 'США,Южная Корея,Новая Зеландия',\n",
       " 'США,Япония',\n",
       " 'США,Япония,Германия',\n",
       " 'США,Япония,Германия,Великобритания',\n",
       " 'США,Япония,Германия,Великобритания,Нидерланды',\n",
       " 'США,Япония,Канада,Великобритания,Германия,Франция',\n",
       " 'США,Япония,Франция,Великобритания',\n",
       " 'СЩА',\n",
       " 'Сербия,Великобритания,США',\n",
       " 'Сербия,Германия,Венгрия',\n",
       " 'Сербия,Словения,Хорватия,Черногория,Македония',\n",
       " 'Сингапур,Великобритания,Индонезия,Канада,США',\n",
       " 'Сша,Канада',\n",
       " 'Таиланд',\n",
       " 'Таиланд,Великобритания,Франция,Германия,Испания,Нидерланды',\n",
       " 'Таиланд,КНР,США',\n",
       " 'Таиланд,США',\n",
       " 'Турция',\n",
       " 'Турция,Германя,Франция',\n",
       " 'Турция,США',\n",
       " 'Украина',\n",
       " 'Украина,Германия,Латвия,Эстония',\n",
       " 'Украина,Нидерланды',\n",
       " 'Уругвай,Аргентина,Испания',\n",
       " 'Уругвай,Колумбия',\n",
       " 'Уругвай,Мексика,Германия',\n",
       " 'Финляндия',\n",
       " 'Финляндия,Австрия,Россия',\n",
       " 'Финляндия,Великобритания,Германия',\n",
       " 'Финляндия,Германия',\n",
       " 'Финляндия,Дания,Германия,Ирландия',\n",
       " 'Финляндия,Исландия,Швеция',\n",
       " 'Финляндия,Канада',\n",
       " 'Финляндия,Латвия',\n",
       " 'Финляндия,Польша',\n",
       " 'Финляндия,Франция,Германия',\n",
       " 'Финляндия,Швеция,Германия',\n",
       " 'Финляндия,Швеция,Норвегия',\n",
       " 'Франция',\n",
       " 'Франция,Австралия',\n",
       " 'Франция,Австрия',\n",
       " 'Франция,Австрия,Германия,Италия,США',\n",
       " 'Франция,Аргентина',\n",
       " 'Франция,Бельгия',\n",
       " 'Франция,Бельгия,Великобритания,Испания,Германия,США',\n",
       " 'Франция,Бельгия,Великобритания,США,Нидерланды,Канада',\n",
       " 'Франция,Бельгия,Испания',\n",
       " 'Франция,Бельгия,Канада',\n",
       " 'Франция,Бельгия,Люксембург',\n",
       " 'Франция,Бельгия,Чехия',\n",
       " 'Франция,Бельгия,Япония',\n",
       " 'Франция,Бенльгия',\n",
       " 'Франция,Бразилия',\n",
       " 'Франция,Бразилия,Италия',\n",
       " 'Франция,Великобритания',\n",
       " 'Франция,Великобритания,Багамские острова,США',\n",
       " 'Франция,Великобритания,Германия',\n",
       " 'Франция,Великобритания,Камбоджа,США,КНР',\n",
       " 'Франция,Великобритания,Нидерланды,Люксембург',\n",
       " 'Франция,Великобритания,Чехия',\n",
       " 'Франция,Германия',\n",
       " 'Франция,Германия,Австрия',\n",
       " 'Франция,Германия,Бельгия',\n",
       " 'Франция,Германия,Великобритания',\n",
       " 'Франция,Германия,Италия',\n",
       " 'Франция,Германия,Литва,Нидерланды,Россия',\n",
       " 'Франция,Германия,Нидерланды',\n",
       " 'Франция,Германия,США',\n",
       " 'Франция,Германия,Турция,Катар',\n",
       " 'Франция,Германия,Швеция,США,Чехия,Словакия,Великобритания,Нидерланды',\n",
       " 'Франция,Гонконг,Ирландия',\n",
       " 'Франция,Греция',\n",
       " 'Франция,Грузия,Германия,Россия,Украина,Бельгия',\n",
       " 'Франция,Дания',\n",
       " 'Франция,Дания,США',\n",
       " 'Франция,Дания,Швеция,КНР',\n",
       " 'Франция,Израиль,Германия',\n",
       " 'Франция,Индия',\n",
       " 'Франция,Ирландия,Швеция',\n",
       " 'Франция,Испания',\n",
       " 'Франция,Испания,Бельгия,Панама',\n",
       " 'Франция,Испания,Германия',\n",
       " 'Франция,Испания,Дания,Венгрия,Швейцария',\n",
       " 'Франция,Испания,Румыния,США,Бельгия',\n",
       " 'Франция,Испания,Тайвань',\n",
       " 'Франция,Испания,Швейцария',\n",
       " 'Франция,Италия',\n",
       " 'Франция,Италия,Бельгия,КНР',\n",
       " 'Франция,Италия,Бельгия,Люксембург',\n",
       " 'Франция,Италия,Великобритания,США',\n",
       " 'Франция,Италия,Иран',\n",
       " 'Франция,Италия,Испания,Венгрия',\n",
       " 'Франция,Италия,Швейцария',\n",
       " 'Франция,КНР',\n",
       " 'Франция,Канада',\n",
       " 'Франция,Канада,Бельгия',\n",
       " 'Франция,Канада,Н.Зеландия,США,Нидерланды,Германия,Швеция,Россия',\n",
       " 'Франция,Китай',\n",
       " 'Франция,Люксембург',\n",
       " 'Франция,Люксембург,Бельгия',\n",
       " 'Франция,Люксембург,Германия,Бельгия,Швейцария,Великобритания',\n",
       " 'Франция,Македония',\n",
       " 'Франция,Мексика,США',\n",
       " 'Франция,Монако',\n",
       " 'Франция,Нидерланды',\n",
       " 'Франция,Новая Зеландия',\n",
       " 'Франция,Норвегия',\n",
       " 'Франция,Перу',\n",
       " 'Франция,Польша',\n",
       " 'Франция,Польша,Бельгия',\n",
       " 'Франция,Португалия',\n",
       " 'Франция,Россия',\n",
       " 'Франция,Россия,Румыния,Италия,Бельгия',\n",
       " 'Франция,Россия,Швейцария,Румыния,Венгрия',\n",
       " 'Франция,США',\n",
       " 'Франция,США,Бельгия',\n",
       " 'Франция,США,Великобритания,Колумбия,Бельгия,Россия',\n",
       " 'Франция,США,Норвегия,Дания',\n",
       " 'Франция,Сенегал,Бельгия',\n",
       " 'Франция,Украина',\n",
       " 'Франция,Украина,Грузия,Армения',\n",
       " 'Франция,Финляндия',\n",
       " 'Франция,Чехия,Бельгия',\n",
       " 'Франция,Чехия,Великобритания',\n",
       " 'Франция,Чили',\n",
       " 'Франция,Швейцария',\n",
       " 'Франция,Швейцария,Германия',\n",
       " 'Франция,Швеция,Дания,Норвегия',\n",
       " 'Хорватия',\n",
       " 'Чехия',\n",
       " 'Чехия,Великобритания,США',\n",
       " 'Чехия,Германия',\n",
       " 'Чехия,Испания,США',\n",
       " 'Чехия,Словакия,Хорватия',\n",
       " 'Чехословакия',\n",
       " 'Чили',\n",
       " 'Чили,Испания',\n",
       " 'Чили,Франция,США',\n",
       " 'Швейцария',\n",
       " 'Швейцария,Австрия',\n",
       " 'Швейцария,Великобритания',\n",
       " 'Швейцария,Великобритания,Франция,США,Ирландия',\n",
       " 'Швейцария,Германия,ЮАР',\n",
       " 'Швейцария,Израиль,Франция,Великобритания',\n",
       " 'Швейцария,КНР,США,Россия,Республика Корея,Великобритания',\n",
       " 'Швейцария,Люксембург',\n",
       " 'Швейцария,Франция',\n",
       " 'Швеция',\n",
       " 'Швеция,Германия',\n",
       " 'Швеция,Германия,Дания,Норвегия',\n",
       " 'Швеция,Германия,Франция,Дания',\n",
       " 'Швеция,Германия,Франция,Норвегия',\n",
       " 'Швеция,Дания',\n",
       " 'Швеция,Дания,Финляндия',\n",
       " 'Швеция,Куба',\n",
       " 'Швеция,Норвегия',\n",
       " 'Швеция,Норвегия,Финляндия,Франция',\n",
       " 'Швеция,США',\n",
       " 'Швеция,Финляндия,Франция,Норвегия',\n",
       " 'Швеция,Франция',\n",
       " 'Швеция,Франция,Великобритания',\n",
       " 'Швеция,Франция,Дания',\n",
       " 'Швеция,Франция,Норвегия,Дания',\n",
       " 'Эстония',\n",
       " 'Эстония,Россия',\n",
       " 'ЮАР',\n",
       " 'ЮАР,США',\n",
       " 'Южная Корея',\n",
       " 'Южная Корея,КНР',\n",
       " 'Южная Корея,США',\n",
       " 'Южная Корея,США,Канада',\n",
       " 'Япония',\n",
       " 'Япония,Великобритания',\n",
       " 'Япония,Великобритания,Австрия,Германия,Ю.Корея',\n",
       " 'Япония,Великобритания,Франция',\n",
       " 'Япония,Великобритания,Швейцария,Ирландия,Дания,Франция,Польша,Австралия,Канада',\n",
       " 'Япония,КНР,Южная Корея',\n",
       " 'Япония,Канада',\n",
       " 'Япония,США',\n",
       " 'Япония,США,Франция',\n",
       " 'Япония,Франция,США,Южная Корея,Турция']"
      ]
     },
     "execution_count": 24,
     "metadata": {},
     "output_type": "execute_result"
    }
   ],
   "source": [
    "# Заменяем пропуски в production_country на \"Не указана\"\n",
    "movies_merge['production_country'].fillna('Не указана',inplace=True) \n",
    "\n",
    "# убираем пробел(ы) в начале значения\n",
    "movies_merge['production_country'] = movies_merge['production_country'].apply(lambda x: re.sub(r'^ *','',x))\n",
    "# убираем пробел(ы) в конце значения\n",
    "movies_merge['production_country'] = movies_merge['production_country'].apply(lambda x: re.sub(r' *$','',x))\n",
    "\n",
    "movies_merge['production_country'] = movies_merge['production_country'].apply(lambda x: re.sub(r' *- *',',',x))\n",
    "movies_merge['production_country'] = movies_merge['production_country'].apply(lambda x: re.sub(r', *',',',x))\n",
    "movies_merge['production_country'] = movies_merge['production_country'].apply(lambda x: re.sub(r',,',',',x))\n",
    "sorted(movies_merge['production_country'].unique())"
   ]
  },
  {
   "cell_type": "markdown",
   "metadata": {},
   "source": [
    "Есть строчка со страной производства \"2019\". Найдем и изменим на правильную, найдя фильм по названию в интернет."
   ]
  },
  {
   "cell_type": "code",
   "execution_count": 25,
   "metadata": {},
   "outputs": [
    {
     "data": {
      "text/html": [
       "<div>\n",
       "<style scoped>\n",
       "    .dataframe tbody tr th:only-of-type {\n",
       "        vertical-align: middle;\n",
       "    }\n",
       "\n",
       "    .dataframe tbody tr th {\n",
       "        vertical-align: top;\n",
       "    }\n",
       "\n",
       "    .dataframe thead th {\n",
       "        text-align: right;\n",
       "    }\n",
       "</style>\n",
       "<table border=\"1\" class=\"dataframe\">\n",
       "  <thead>\n",
       "    <tr style=\"text-align: right;\">\n",
       "      <th></th>\n",
       "      <th>title</th>\n",
       "      <th>pu_number</th>\n",
       "      <th>show_start_date</th>\n",
       "      <th>type</th>\n",
       "      <th>film_studio</th>\n",
       "      <th>production_country</th>\n",
       "      <th>director</th>\n",
       "      <th>producer</th>\n",
       "      <th>age_restriction</th>\n",
       "      <th>refundable_support</th>\n",
       "      <th>nonrefundable_support</th>\n",
       "      <th>budget</th>\n",
       "      <th>financing_source</th>\n",
       "      <th>ratings</th>\n",
       "      <th>genres</th>\n",
       "      <th>box_office</th>\n",
       "    </tr>\n",
       "  </thead>\n",
       "  <tbody>\n",
       "    <tr>\n",
       "      <th>7246</th>\n",
       "      <td>Дело Коллини</td>\n",
       "      <td>121027219</td>\n",
       "      <td>2019-09-19 12:00:00+00:00</td>\n",
       "      <td>Художественный</td>\n",
       "      <td>Константин Филм, Глобал Скрин, Севен Пикчерз Сван</td>\n",
       "      <td>2019</td>\n",
       "      <td>Марко Кройцпайнтнер</td>\n",
       "      <td>Мартин Московиц, Кристоф Мюллер, Марсель Хартг...</td>\n",
       "      <td>«16+» - для детей старше 16 лет</td>\n",
       "      <td>NaN</td>\n",
       "      <td>NaN</td>\n",
       "      <td>NaN</td>\n",
       "      <td>NaN</td>\n",
       "      <td>7.4</td>\n",
       "      <td>детектив,драма,криминал</td>\n",
       "      <td>NaN</td>\n",
       "    </tr>\n",
       "  </tbody>\n",
       "</table>\n",
       "</div>"
      ],
      "text/plain": [
       "             title  pu_number           show_start_date            type  \\\n",
       "7246  Дело Коллини  121027219 2019-09-19 12:00:00+00:00  Художественный   \n",
       "\n",
       "                                            film_studio production_country  \\\n",
       "7246  Константин Филм, Глобал Скрин, Севен Пикчерз Сван               2019   \n",
       "\n",
       "                 director                                           producer  \\\n",
       "7246  Марко Кройцпайнтнер  Мартин Московиц, Кристоф Мюллер, Марсель Хартг...   \n",
       "\n",
       "                      age_restriction  refundable_support  \\\n",
       "7246  «16+» - для детей старше 16 лет                 NaN   \n",
       "\n",
       "      nonrefundable_support  budget financing_source  ratings  \\\n",
       "7246                    NaN     NaN              NaN      7.4   \n",
       "\n",
       "                       genres  box_office  \n",
       "7246  детектив,драма,криминал         NaN  "
      ]
     },
     "execution_count": 25,
     "metadata": {},
     "output_type": "execute_result"
    }
   ],
   "source": [
    "movies_merge.query('production_country == \"2019\"')"
   ]
  },
  {
   "cell_type": "code",
   "execution_count": 26,
   "metadata": {},
   "outputs": [],
   "source": [
    "movies_merge.loc[7246,'production_country'] = \"Германия\""
   ]
  },
  {
   "cell_type": "markdown",
   "metadata": {
    "id": "XFSN5lrEgFyR"
   },
   "source": [
    "#### Шаг 2.5. Проверьте количественные значения\n",
    "\n",
    "- Проверьте, обнаружились ли в таких столбцах подозрительные данные. Как с такими данными лучше поступить?\n",
    "\n",
    "<div id=\"accordion\">\n",
    "    <div class=\"card\">\n",
    "        <div class=\"card-header\" id=\"headingThree\">\n",
    "            <button class=\"btn btn-link collapsed\" data-toggle=\"collapse\" data-target=\"#collapseHint_budget\" aria-expanded=\"false\" aria-controls=\"collapseHint_budget\">Подсказка</button>\n",
    "        </div>\n",
    "        <div id=\"collapseHint_budget\" class=\"collapse\" aria-labelledby=\"headingThree\" data-parent=\"#accordion\">\n",
    "            <div class=\"card-body\">\n",
    "Обратите внимание на описание столбца <code>budget</code>. Как этот столбец соотносится с двумя другими: <code>refundable_support</code> и <code>nonrefundable_support</code>?\n",
    "            </div>\n",
    "        </div>\n",
    "    </div>\n",
    "</div>"
   ]
  },
  {
   "cell_type": "markdown",
   "metadata": {},
   "source": [
    "По предоставленной информации, столбец budget - это как минимум сумма столбцов refundable_support и nonrefundable_support, но никак не может быть меньше. Но есть строки, где budget = 0. Это странно.<br> т.к. в дальнейшем нам нужно будет считать какую долю от общего бюджета фильма составляет государственная поддержка, это приведет к делению на 0. И хотя количество строк, где бюджет = 0 составляет 5% от общего числа фильмов с указанным бюджетом, я считаю, что эти строчки нужно удалить."
   ]
  },
  {
   "cell_type": "code",
   "execution_count": 27,
   "metadata": {
    "id": "YbzClBxagFyS"
   },
   "outputs": [
    {
     "data": {
      "text/plain": [
       "5.120481927710843"
      ]
     },
     "execution_count": 27,
     "metadata": {},
     "output_type": "execute_result"
    }
   ],
   "source": [
    "# процент фильмов с нулем в бюджете\n",
    "len(movies_merge.query('budget < refundable_support+nonrefundable_support'))/len(movies_merge[~movies_merge['budget'].isna()])*100"
   ]
  },
  {
   "cell_type": "code",
   "execution_count": 28,
   "metadata": {},
   "outputs": [],
   "source": [
    "movies_merge.drop(movies_merge.query('budget == 0').index, inplace=True) # удаляем строки с нулевым бюджетом"
   ]
  },
  {
   "cell_type": "markdown",
   "metadata": {
    "id": "Eu6oWp2CgFyS"
   },
   "source": [
    "#### Шаг 2.6. Добавьте новые столбцы\n",
    "\n",
    "\n",
    "\n"
   ]
  },
  {
   "cell_type": "markdown",
   "metadata": {
    "id": "7GgW-UpAgFyS"
   },
   "source": [
    "- Создайте столбец с информацией о годе проката. Выделите год из даты премьеры фильма."
   ]
  },
  {
   "cell_type": "code",
   "execution_count": 29,
   "metadata": {
    "id": "I-yd1DkWgFyT"
   },
   "outputs": [],
   "source": [
    "movies_merge['show_year'] = movies_merge['show_start_date'].dt.year # добавим столбец с годом проката"
   ]
  },
  {
   "cell_type": "markdown",
   "metadata": {
    "id": "nFTDLDYOgFyT"
   },
   "source": [
    "- Создайте два столбца: с именем и фамилией главного режиссёра и основным жанром фильма. В столбцы войдут первые значения из списка режиссёров и жанров соответственно.\n",
    "\n",
    "<div id=\"accordion\">\n",
    "    <div class=\"card\">\n",
    "        <div class=\"card-header\" id=\"headingThree\">\n",
    "            <button class=\"btn btn-link collapsed\" data-toggle=\"collapse\" data-target=\"#collapseHint_2\" aria-expanded=\"false\" aria-controls=\"collapseHint_2\">Подсказка</button>\n",
    "        </div>\n",
    "        <div id=\"collapseHint_2\" class=\"collapse\" aria-labelledby=\"headingThree\" data-parent=\"#accordion\">\n",
    "            <div class=\"card-body\">\n",
    "Чтобы создать такие столбцы, лучше всего использовать собственную функцию. Эту функцию можно применить к двум столбцам сразу. \n",
    "            </div>\n",
    "        </div>\n",
    "    </div>\n",
    "</div>"
   ]
  },
  {
   "cell_type": "code",
   "execution_count": 30,
   "metadata": {
    "id": "LSbRZKbMgFyU"
   },
   "outputs": [],
   "source": [
    "# функция для получения первого значения из списка значений, разделенных запятой, в ячейке ДФ\n",
    "def get_main(cell):\n",
    "    return cell.split(',')[0]"
   ]
  },
  {
   "cell_type": "code",
   "execution_count": 31,
   "metadata": {},
   "outputs": [],
   "source": [
    "movies_merge['main_director'] = movies_merge['director'].apply(get_main) # делаем столбец главных режиссеров\n",
    "movies_merge['main_genre'] = movies_merge['genres'].apply(get_main) # делаем столбец главных жанров"
   ]
  },
  {
   "cell_type": "markdown",
   "metadata": {
    "id": "1FsCXHwdgFyU"
   },
   "source": [
    "- Посчитайте, какую долю от общего бюджета фильма составляет государственная поддержка."
   ]
  },
  {
   "cell_type": "code",
   "execution_count": 32,
   "metadata": {
    "id": "LV6qFuZLgFyV"
   },
   "outputs": [],
   "source": [
    "movies_merge['percent_of_support'] = ((movies_merge['refundable_support']+movies_merge['nonrefundable_support'])/movies_merge['budget'])*100"
   ]
  },
  {
   "cell_type": "markdown",
   "metadata": {
    "id": "6t4EukPLgFyV"
   },
   "source": [
    "### Шаг 3. Проведите исследовательский анализ данных\n"
   ]
  },
  {
   "cell_type": "markdown",
   "metadata": {
    "id": "vAH8WCzugFyV"
   },
   "source": [
    "- Посмотрите, сколько фильмов выходило в прокат каждый год. Обратите внимание, что данные о прокате в кинотеатрах известны не для всех фильмов. Посчитайте, какую долю составляют фильмы с указанной информацией о прокате в кинотеатрах. Проанализируйте, как эта доля менялась по годам. Сделайте вывод о том, какой период полнее всего представлен в данных."
   ]
  },
  {
   "cell_type": "code",
   "execution_count": 75,
   "metadata": {
    "id": "ABeV47y7gFyW"
   },
   "outputs": [
    {
     "data": {
      "image/png": "[encoded data removed]",
      "text/plain": [
       "<Figure size 432x288 with 1 Axes>"
      ]
     },
     "metadata": {
      "needs_background": "light"
     },
     "output_type": "display_data"
    },
    {
     "name": "stdout",
     "output_type": "stream",
     "text": [
      "Доля фильмов, с указанной информацией о прокате в кинотеатрах к общему количеству фильмов:\n",
      " show_year\n",
      "2010    0.106599\n",
      "2011    0.175241\n",
      "2012    0.215852\n",
      "2013    0.292063\n",
      "2014    0.345342\n",
      "2015    0.656652\n",
      "2016    0.641718\n",
      "2017    0.705765\n",
      "2018    0.531003\n",
      "2019    0.569429\n",
      "Name: title, dtype: float64\n"
     ]
    },
    {
     "data": {
      "image/png": "[encoded data removed]",
      "text/plain": [
       "<Figure size 432x288 with 1 Axes>"
      ]
     },
     "metadata": {
      "needs_background": "light"
     },
     "output_type": "display_data"
    }
   ],
   "source": [
    "\n",
    "show_total_by_year = movies_merge.groupby('show_year')['title'].agg('count')\n",
    "show_w_bo_by_year = movies_merge.query('box_office == box_office').groupby('show_year')['title'].agg('count')\n",
    "show_total_by_year.plot(kind='bar',alpha=0.7, color='green',title='Прокаты фильмов с указанными сборами и без')\n",
    "show_w_bo_by_year.plot(kind='bar')\n",
    "plt.legend([\"Фильмы с указанным сбором\",'Фильмы без указанного сбора'])\n",
    "plt.show()\n",
    "print('Доля фильмов, с указанной информацией о прокате в кинотеатрах к общему количеству фильмов:\\n',\n",
    "      show_w_bo_by_year/show_total_by_year)\n",
    "(show_w_bo_by_year/show_total_by_year).plot(kind='bar',\n",
    "                                            title='Доля фильмов, с указанной информацией о прокате в кинотеатрах к общему количеству фильмов')\n",
    "plt.show()"
   ]
  },
  {
   "cell_type": "markdown",
   "metadata": {},
   "source": [
    "По графикам видна тенденция, что с 2010 года по 2017 год количество фильмов с указанной информацией о сборах в кинотеатрах росла. Можно предположить, что фильмов, которые были  успешны среди зрителей становилось в эти года больше и сумма сборов не скрывалась.<br>В 2018 году было мировое снижение рынка кинопроката и российского сегмента в частности. Возможно, из-за этого фильмы перестали показывать ожидаемые кассовые сборы и инофрмация о них неохотно публиковалась. Информацию об этом я нашел на сайте <a href = \"https://www.fond-kino.ru/news/kinoprokat-rossii-itogi-2018-goda/\"> Фонда Кино</a><br>Т.е. получившийся график соответсвует действительности"
   ]
  },
  {
   "cell_type": "markdown",
   "metadata": {
    "id": "BEOdcIrIgFyW"
   },
   "source": [
    "- Изучите, как менялась динамика проката по годам. В каком году сумма сборов была минимальной? А максимальной?"
   ]
  },
  {
   "cell_type": "code",
   "execution_count": 35,
   "metadata": {
    "id": "tfEhofYvgFyX"
   },
   "outputs": [
    {
     "name": "stdout",
     "output_type": "stream",
     "text": [
      "Общая сумма кассовых сборов по годам:\n",
      " show_year\n",
      "2010    2.428654e+06\n",
      "2011    1.410276e+07\n",
      "2012    6.955423e+06\n",
      "2013    2.979971e+07\n",
      "2014    7.434718e+09\n",
      "2015    3.852783e+10\n",
      "2016    4.674232e+10\n",
      "2017    4.845815e+10\n",
      "2018    4.925199e+10\n",
      "2019    4.827810e+10\n",
      "Name: box_office, dtype: float64\n"
     ]
    },
    {
     "data": {
      "image/png": "[encoded data removed]",
      "text/plain": [
       "<Figure size 432x288 with 1 Axes>"
      ]
     },
     "metadata": {
      "needs_background": "light"
     },
     "output_type": "display_data"
    },
    {
     "name": "stdout",
     "output_type": "stream",
     "text": [
      "Минимальная сумма сборов была в 2010 году и составила 2428654.00\n",
      "Максимальная сумма сборов была в 2018 году и составила 49251991405.20\n"
     ]
    }
   ],
   "source": [
    "box_sum = movies_merge.groupby('show_year')['box_office'].agg('sum')\n",
    "print('Общая сумма кассовых сборов по годам:\\n',box_sum)\n",
    "box_sum.plot(kind='bar',title = 'Общая сумма кассовых сборов по годам')\n",
    "plt.show()\n",
    "print(f'Минимальная сумма сборов была в {box_sum.idxmin()} году и составила {box_sum.min():.2f}')\n",
    "print(f'Максимальная сумма сборов была в {box_sum.idxmax()} году и составила {box_sum.max():.2f}')"
   ]
  },
  {
   "cell_type": "markdown",
   "metadata": {},
   "source": [
    "В целом динамика по сумме сборов совпадает с долей опубликованных данных по сборам.<br>\n",
    "Минимальная сумма кассовых сборов была зафиксирована в 2010 году. Но в этом же году и была самая низкая доля фильмов с указанной информацией о сборах в кинотеатрах за все время предоставленного наблюдения. Поэтому это ожидаемый результат.<br>\n",
    "Максимальная же сумма была собрана в 2018 году, что не совпадает с графиком в предыдущем наблюдении. Можно предположить, что в 2018 году было выпущено некоторое количество высокорейтинговых фильмов, которые в сумме дали рекордные сборы, но при этом и было много \"проходного\" кино, кассовые сборы которых опубликованы не были. Тем самым, му получаем такое разнонаправленное наблюдение."
   ]
  },
  {
   "cell_type": "markdown",
   "metadata": {
    "id": "G-7qS-N-gFyY"
   },
   "source": [
    "- С помощью сводной таблицы посчитайте среднюю и медианную сумму сборов для каждого года."
   ]
  },
  {
   "cell_type": "code",
   "execution_count": 36,
   "metadata": {
    "id": "jmp-rgg9gFyY"
   },
   "outputs": [
    {
     "data": {
      "text/html": [
       "<div>\n",
       "<style scoped>\n",
       "    .dataframe tbody tr th:only-of-type {\n",
       "        vertical-align: middle;\n",
       "    }\n",
       "\n",
       "    .dataframe tbody tr th {\n",
       "        vertical-align: top;\n",
       "    }\n",
       "\n",
       "    .dataframe thead tr th {\n",
       "        text-align: left;\n",
       "    }\n",
       "\n",
       "    .dataframe thead tr:last-of-type th {\n",
       "        text-align: right;\n",
       "    }\n",
       "</style>\n",
       "<table border=\"1\" class=\"dataframe\">\n",
       "  <thead>\n",
       "    <tr>\n",
       "      <th></th>\n",
       "      <th>mean</th>\n",
       "      <th>median</th>\n",
       "    </tr>\n",
       "    <tr>\n",
       "      <th></th>\n",
       "      <th>box_office</th>\n",
       "      <th>box_office</th>\n",
       "    </tr>\n",
       "    <tr>\n",
       "      <th>show_year</th>\n",
       "      <th></th>\n",
       "      <th></th>\n",
       "    </tr>\n",
       "  </thead>\n",
       "  <tbody>\n",
       "    <tr>\n",
       "      <th>2010</th>\n",
       "      <td>2.313004e+04</td>\n",
       "      <td>1700.00</td>\n",
       "    </tr>\n",
       "    <tr>\n",
       "      <th>2011</th>\n",
       "      <td>1.293832e+05</td>\n",
       "      <td>3000.00</td>\n",
       "    </tr>\n",
       "    <tr>\n",
       "      <th>2012</th>\n",
       "      <td>5.433924e+04</td>\n",
       "      <td>5660.00</td>\n",
       "    </tr>\n",
       "    <tr>\n",
       "      <th>2013</th>\n",
       "      <td>1.619549e+05</td>\n",
       "      <td>3522.50</td>\n",
       "    </tr>\n",
       "    <tr>\n",
       "      <th>2014</th>\n",
       "      <td>2.674359e+07</td>\n",
       "      <td>18137.50</td>\n",
       "    </tr>\n",
       "    <tr>\n",
       "      <th>2015</th>\n",
       "      <td>8.393862e+07</td>\n",
       "      <td>4784781.50</td>\n",
       "    </tr>\n",
       "    <tr>\n",
       "      <th>2016</th>\n",
       "      <td>8.937345e+07</td>\n",
       "      <td>3776087.56</td>\n",
       "    </tr>\n",
       "    <tr>\n",
       "      <th>2017</th>\n",
       "      <td>1.365018e+08</td>\n",
       "      <td>9919415.00</td>\n",
       "    </tr>\n",
       "    <tr>\n",
       "      <th>2018</th>\n",
       "      <td>1.045690e+08</td>\n",
       "      <td>8751895.75</td>\n",
       "    </tr>\n",
       "    <tr>\n",
       "      <th>2019</th>\n",
       "      <td>9.126295e+07</td>\n",
       "      <td>4601033.60</td>\n",
       "    </tr>\n",
       "  </tbody>\n",
       "</table>\n",
       "</div>"
      ],
      "text/plain": [
       "                   mean      median\n",
       "             box_office  box_office\n",
       "show_year                          \n",
       "2010       2.313004e+04     1700.00\n",
       "2011       1.293832e+05     3000.00\n",
       "2012       5.433924e+04     5660.00\n",
       "2013       1.619549e+05     3522.50\n",
       "2014       2.674359e+07    18137.50\n",
       "2015       8.393862e+07  4784781.50\n",
       "2016       8.937345e+07  3776087.56\n",
       "2017       1.365018e+08  9919415.00\n",
       "2018       1.045690e+08  8751895.75\n",
       "2019       9.126295e+07  4601033.60"
      ]
     },
     "execution_count": 36,
     "metadata": {},
     "output_type": "execute_result"
    }
   ],
   "source": [
    "movies_merge.pivot_table(index='show_year',values='box_office',aggfunc=['mean','median'])"
   ]
  },
  {
   "cell_type": "markdown",
   "metadata": {},
   "source": [
    "Таблица отлично показывает разницу между средним и медианным значениями на данных, имеющих выбросы. В данном случае, выбросы - это нулевые значения кассовых сборов, которые очень сильно затягивают среднее в левую сторону."
   ]
  },
  {
   "cell_type": "code",
   "execution_count": 37,
   "metadata": {},
   "outputs": [
    {
     "data": {
      "text/plain": [
       "show_year\n",
       "2010    4\n",
       "2012    5\n",
       "2013    5\n",
       "2014    6\n",
       "2015    3\n",
       "2016    1\n",
       "Name: title, dtype: int64"
      ]
     },
     "execution_count": 37,
     "metadata": {},
     "output_type": "execute_result"
    }
   ],
   "source": [
    "movies_merge[movies_merge['box_office']==0].groupby('show_year')['title'].agg(\"count\") # количество фильмов с нулевыми сборами"
   ]
  },
  {
   "cell_type": "markdown",
   "metadata": {
    "id": "Ok89WFwJgFyZ"
   },
   "source": [
    "- Определите, влияет ли возрастное ограничение аудитории («6+», «12+», «16+», «18+» и т. д.) на сборы фильма в прокате в период с 2015 по 2019 год? Фильмы с каким возрастным ограничением собрали больше всего денег в прокате? Меняется ли картина в зависимости от года? Если да, предположите, с чем это может быть связано."
   ]
  },
  {
   "cell_type": "code",
   "execution_count": 90,
   "metadata": {
    "id": "jsSbEqfjgFya"
   },
   "outputs": [
    {
     "data": {
      "image/png": "[encoded data removed]",
      "text/plain": [
       "<Figure size 864x720 with 1 Axes>"
      ]
     },
     "metadata": {
      "needs_background": "light"
     },
     "output_type": "display_data"
    },
    {
     "name": "stdout",
     "output_type": "stream",
     "text": [
      "Сборы 2015-2019 гг. по возрастному ограничению:\n"
     ]
    },
    {
     "data": {
      "text/html": [
       "<div>\n",
       "<style scoped>\n",
       "    .dataframe tbody tr th:only-of-type {\n",
       "        vertical-align: middle;\n",
       "    }\n",
       "\n",
       "    .dataframe tbody tr th {\n",
       "        vertical-align: top;\n",
       "    }\n",
       "\n",
       "    .dataframe thead tr th {\n",
       "        text-align: left;\n",
       "    }\n",
       "\n",
       "    .dataframe thead tr:last-of-type th {\n",
       "        text-align: right;\n",
       "    }\n",
       "</style>\n",
       "<table border=\"1\" class=\"dataframe\">\n",
       "  <thead>\n",
       "    <tr>\n",
       "      <th></th>\n",
       "      <th colspan=\"5\" halign=\"left\">box_office</th>\n",
       "    </tr>\n",
       "    <tr>\n",
       "      <th>age_restriction</th>\n",
       "      <th>«0+» - для любой зрительской аудитории</th>\n",
       "      <th>«12+» - для детей старше 12 лет</th>\n",
       "      <th>«16+» - для детей старше 16 лет</th>\n",
       "      <th>«18+» - запрещено для детей</th>\n",
       "      <th>«6+» - для детей старше 6 лет</th>\n",
       "    </tr>\n",
       "    <tr>\n",
       "      <th>show_year</th>\n",
       "      <th></th>\n",
       "      <th></th>\n",
       "      <th></th>\n",
       "      <th></th>\n",
       "      <th></th>\n",
       "    </tr>\n",
       "  </thead>\n",
       "  <tbody>\n",
       "    <tr>\n",
       "      <th>2015</th>\n",
       "      <td>3.790546e+08</td>\n",
       "      <td>1.341951e+10</td>\n",
       "      <td>1.078160e+10</td>\n",
       "      <td>5.430351e+09</td>\n",
       "      <td>8.517312e+09</td>\n",
       "    </tr>\n",
       "    <tr>\n",
       "      <th>2016</th>\n",
       "      <td>1.502288e+08</td>\n",
       "      <td>1.115076e+10</td>\n",
       "      <td>1.659425e+10</td>\n",
       "      <td>6.793930e+09</td>\n",
       "      <td>1.205315e+10</td>\n",
       "    </tr>\n",
       "    <tr>\n",
       "      <th>2017</th>\n",
       "      <td>2.295989e+08</td>\n",
       "      <td>7.851428e+09</td>\n",
       "      <td>1.869459e+10</td>\n",
       "      <td>9.651496e+09</td>\n",
       "      <td>1.203103e+10</td>\n",
       "    </tr>\n",
       "    <tr>\n",
       "      <th>2018</th>\n",
       "      <td>3.244900e+07</td>\n",
       "      <td>1.426729e+10</td>\n",
       "      <td>1.627841e+10</td>\n",
       "      <td>8.760086e+09</td>\n",
       "      <td>9.913759e+09</td>\n",
       "    </tr>\n",
       "    <tr>\n",
       "      <th>2019</th>\n",
       "      <td>1.774607e+07</td>\n",
       "      <td>1.268020e+10</td>\n",
       "      <td>1.275342e+10</td>\n",
       "      <td>1.012180e+10</td>\n",
       "      <td>1.270494e+10</td>\n",
       "    </tr>\n",
       "  </tbody>\n",
       "</table>\n",
       "</div>"
      ],
      "text/plain": [
       "                                            box_office  \\\n",
       "age_restriction «0+» - для любой зрительской аудитории   \n",
       "show_year                                                \n",
       "2015                                      3.790546e+08   \n",
       "2016                                      1.502288e+08   \n",
       "2017                                      2.295989e+08   \n",
       "2018                                      3.244900e+07   \n",
       "2019                                      1.774607e+07   \n",
       "\n",
       "                                                 \\\n",
       "age_restriction «12+» - для детей старше 12 лет   \n",
       "show_year                                         \n",
       "2015                               1.341951e+10   \n",
       "2016                               1.115076e+10   \n",
       "2017                               7.851428e+09   \n",
       "2018                               1.426729e+10   \n",
       "2019                               1.268020e+10   \n",
       "\n",
       "                                                                             \\\n",
       "age_restriction «16+» - для детей старше 16 лет «18+» - запрещено для детей   \n",
       "show_year                                                                     \n",
       "2015                               1.078160e+10                5.430351e+09   \n",
       "2016                               1.659425e+10                6.793930e+09   \n",
       "2017                               1.869459e+10                9.651496e+09   \n",
       "2018                               1.627841e+10                8.760086e+09   \n",
       "2019                               1.275342e+10                1.012180e+10   \n",
       "\n",
       "                                               \n",
       "age_restriction «6+» - для детей старше 6 лет  \n",
       "show_year                                      \n",
       "2015                             8.517312e+09  \n",
       "2016                             1.205315e+10  \n",
       "2017                             1.203103e+10  \n",
       "2018                             9.913759e+09  \n",
       "2019                             1.270494e+10  "
      ]
     },
     "metadata": {},
     "output_type": "display_data"
    }
   ],
   "source": [
    "age_year_sum = movies_merge.query('2015<=show_year<=2019').pivot_table(index='show_year',columns='age_restriction',values=['box_office'],aggfunc='sum')\n",
    "age_year_sum.plot(kind=\"line\",figsize=(12,10),title='Сборы 2015-2019 гг. по возрастному ограничению')\n",
    "plt.legend(bbox_to_anchor=(0.5, .1))\n",
    "plt.show()\n",
    "print(f'Сборы 2015-2019 гг. по возрастному ограничению:')\n",
    "display(age_year_sum)"
   ]
  },
  {
   "cell_type": "code",
   "execution_count": 108,
   "metadata": {},
   "outputs": [
    {
     "data": {
      "text/html": [
       "<div>\n",
       "<style scoped>\n",
       "    .dataframe tbody tr th:only-of-type {\n",
       "        vertical-align: middle;\n",
       "    }\n",
       "\n",
       "    .dataframe tbody tr th {\n",
       "        vertical-align: top;\n",
       "    }\n",
       "\n",
       "    .dataframe thead th {\n",
       "        text-align: right;\n",
       "    }\n",
       "</style>\n",
       "<table border=\"1\" class=\"dataframe\">\n",
       "  <thead>\n",
       "    <tr style=\"text-align: right;\">\n",
       "      <th></th>\n",
       "      <th>title</th>\n",
       "      <th>pu_number</th>\n",
       "      <th>show_start_date</th>\n",
       "      <th>type</th>\n",
       "      <th>film_studio</th>\n",
       "      <th>production_country</th>\n",
       "      <th>director</th>\n",
       "      <th>producer</th>\n",
       "      <th>age_restriction</th>\n",
       "      <th>refundable_support</th>\n",
       "      <th>nonrefundable_support</th>\n",
       "      <th>budget</th>\n",
       "      <th>financing_source</th>\n",
       "      <th>ratings</th>\n",
       "      <th>genres</th>\n",
       "      <th>box_office</th>\n",
       "      <th>show_year</th>\n",
       "      <th>main_director</th>\n",
       "      <th>main_genre</th>\n",
       "      <th>percent_of_support</th>\n",
       "    </tr>\n",
       "  </thead>\n",
       "  <tbody>\n",
       "    <tr>\n",
       "      <th>3568</th>\n",
       "      <td>Меч короля Артура (2017)</td>\n",
       "      <td>121007317</td>\n",
       "      <td>2017-04-25 12:00:00+00:00</td>\n",
       "      <td>Художественный</td>\n",
       "      <td>Сафехауз Пикчерз, Виллидж Роадшоу Пикчерз, Уор...</td>\n",
       "      <td>США,Великобритания,Австралия</td>\n",
       "      <td>Гай Ричи</td>\n",
       "      <td>Акива Голдсман, Гай Ричи</td>\n",
       "      <td>«16+» - для детей старше 16 лет</td>\n",
       "      <td>NaN</td>\n",
       "      <td>NaN</td>\n",
       "      <td>NaN</td>\n",
       "      <td>NaN</td>\n",
       "      <td>7.1</td>\n",
       "      <td>фэнтези,боевик,драма</td>\n",
       "      <td>7.162418e+08</td>\n",
       "      <td>2017</td>\n",
       "      <td>Гай Ричи</td>\n",
       "      <td>фэнтези</td>\n",
       "      <td>NaN</td>\n",
       "    </tr>\n",
       "    <tr>\n",
       "      <th>3470</th>\n",
       "      <td>Красавица и Чудовище (2017)</td>\n",
       "      <td>121004017</td>\n",
       "      <td>2017-03-03 12:00:00+00:00</td>\n",
       "      <td>Художественный</td>\n",
       "      <td>Мандевилл Филмз, Уолт Дисней Пикчерз</td>\n",
       "      <td>США</td>\n",
       "      <td>Билл Кондон</td>\n",
       "      <td>Тодд Либерман, Дэвид Хоберман</td>\n",
       "      <td>«16+» - для детей старше 16 лет</td>\n",
       "      <td>NaN</td>\n",
       "      <td>NaN</td>\n",
       "      <td>NaN</td>\n",
       "      <td>NaN</td>\n",
       "      <td>6.7</td>\n",
       "      <td>мюзикл,фэнтези,мелодрама</td>\n",
       "      <td>7.322872e+08</td>\n",
       "      <td>2017</td>\n",
       "      <td>Билл Кондон</td>\n",
       "      <td>мюзикл</td>\n",
       "      <td>NaN</td>\n",
       "    </tr>\n",
       "    <tr>\n",
       "      <th>5633</th>\n",
       "      <td>Звёздные войны: Последние джедаи</td>\n",
       "      <td>121026817</td>\n",
       "      <td>2017-12-13 12:00:00+00:00</td>\n",
       "      <td>Художественный</td>\n",
       "      <td>Лукасфилм, Рэм Бергман Продакшнз, Уолт Дисней ...</td>\n",
       "      <td>США</td>\n",
       "      <td>Райан Джонсон</td>\n",
       "      <td>Рэм Бергман, Кэтлин Кеннеди</td>\n",
       "      <td>«16+» - для детей старше 16 лет</td>\n",
       "      <td>NaN</td>\n",
       "      <td>NaN</td>\n",
       "      <td>NaN</td>\n",
       "      <td>NaN</td>\n",
       "      <td>0.0</td>\n",
       "      <td>Не указано</td>\n",
       "      <td>8.624714e+08</td>\n",
       "      <td>2017</td>\n",
       "      <td>Райан Джонсон</td>\n",
       "      <td>Не указано</td>\n",
       "      <td>NaN</td>\n",
       "    </tr>\n",
       "    <tr>\n",
       "      <th>5537</th>\n",
       "      <td>Убийство в \"Восточном экспрессе\"</td>\n",
       "      <td>121021717</td>\n",
       "      <td>2017-11-09 12:00:00+00:00</td>\n",
       "      <td>Художественный</td>\n",
       "      <td>ХХ век Фокс, Жанр Филмз, Кинберг Жанр, Марк Го...</td>\n",
       "      <td>США,Мальта</td>\n",
       "      <td>Кеннет Брана</td>\n",
       "      <td>Кеннет Брана, Марк Гордон, Джуди Хоффланд</td>\n",
       "      <td>«16+» - для детей старше 16 лет</td>\n",
       "      <td>NaN</td>\n",
       "      <td>NaN</td>\n",
       "      <td>NaN</td>\n",
       "      <td>NaN</td>\n",
       "      <td>6.7</td>\n",
       "      <td>детектив,криминал,драма</td>\n",
       "      <td>8.663595e+08</td>\n",
       "      <td>2017</td>\n",
       "      <td>Кеннет Брана</td>\n",
       "      <td>детектив</td>\n",
       "      <td>NaN</td>\n",
       "    </tr>\n",
       "    <tr>\n",
       "      <th>3743</th>\n",
       "      <td>Человек-паук: Возвращение домой</td>\n",
       "      <td>121011717</td>\n",
       "      <td>2017-06-22 12:00:00+00:00</td>\n",
       "      <td>Художественный</td>\n",
       "      <td>Коламбиа Пикчерз, Марвел Студиос, Паскаль Пикчерз</td>\n",
       "      <td>США</td>\n",
       "      <td>Джон Уоттс</td>\n",
       "      <td>Эми Паскаль, Кевин Фейги</td>\n",
       "      <td>«16+» - для детей старше 16 лет</td>\n",
       "      <td>NaN</td>\n",
       "      <td>NaN</td>\n",
       "      <td>NaN</td>\n",
       "      <td>NaN</td>\n",
       "      <td>7.1</td>\n",
       "      <td>фантастика,боевик,приключения</td>\n",
       "      <td>8.675114e+08</td>\n",
       "      <td>2017</td>\n",
       "      <td>Джон Уоттс</td>\n",
       "      <td>фантастика</td>\n",
       "      <td>NaN</td>\n",
       "    </tr>\n",
       "    <tr>\n",
       "      <th>3612</th>\n",
       "      <td>Мумия (2017)</td>\n",
       "      <td>121009817</td>\n",
       "      <td>2017-05-30 12:00:00+00:00</td>\n",
       "      <td>Художественный</td>\n",
       "      <td>Шон Даниэль Компани, Сикрит Хайдаут, Юниверсал...</td>\n",
       "      <td>США</td>\n",
       "      <td>Алекс Куртцман</td>\n",
       "      <td>Шон Дэниэл, Алекс Куртцман, Крис Морган</td>\n",
       "      <td>«16+» - для детей старше 16 лет</td>\n",
       "      <td>NaN</td>\n",
       "      <td>NaN</td>\n",
       "      <td>NaN</td>\n",
       "      <td>NaN</td>\n",
       "      <td>5.6</td>\n",
       "      <td>фэнтези,боевик,триллер</td>\n",
       "      <td>8.711515e+08</td>\n",
       "      <td>2017</td>\n",
       "      <td>Алекс Куртцман</td>\n",
       "      <td>фэнтези</td>\n",
       "      <td>NaN</td>\n",
       "    </tr>\n",
       "    <tr>\n",
       "      <th>5547</th>\n",
       "      <td>Тор: Рагнарёк</td>\n",
       "      <td>121022917</td>\n",
       "      <td>2017-11-02 12:00:00+00:00</td>\n",
       "      <td>Художественный</td>\n",
       "      <td>Марвел Интертейнмент, Марвел Студиос, Уолт Дис...</td>\n",
       "      <td>США</td>\n",
       "      <td>Тайка Вайтити</td>\n",
       "      <td>Кеви Фейги</td>\n",
       "      <td>«16+» - для детей старше 16 лет</td>\n",
       "      <td>NaN</td>\n",
       "      <td>NaN</td>\n",
       "      <td>NaN</td>\n",
       "      <td>NaN</td>\n",
       "      <td>8.2</td>\n",
       "      <td>история,драма,боевик</td>\n",
       "      <td>1.229588e+09</td>\n",
       "      <td>2017</td>\n",
       "      <td>Тайка Вайтити</td>\n",
       "      <td>история</td>\n",
       "      <td>NaN</td>\n",
       "    </tr>\n",
       "    <tr>\n",
       "      <th>5653</th>\n",
       "      <td>Джуманджи: Зов джунглей</td>\n",
       "      <td>121027517</td>\n",
       "      <td>2017-12-21 12:00:00+00:00</td>\n",
       "      <td>Художественный</td>\n",
       "      <td>Мэтт Толмак Продакшнз, Радар Пикчерз, Севен Ба...</td>\n",
       "      <td>США</td>\n",
       "      <td>Джейк Касдан</td>\n",
       "      <td>Мэтт Толмак</td>\n",
       "      <td>«16+» - для детей старше 16 лет</td>\n",
       "      <td>NaN</td>\n",
       "      <td>NaN</td>\n",
       "      <td>NaN</td>\n",
       "      <td>NaN</td>\n",
       "      <td>6.8</td>\n",
       "      <td>фэнтези,боевик,комедия</td>\n",
       "      <td>1.246588e+09</td>\n",
       "      <td>2017</td>\n",
       "      <td>Джейк Касдан</td>\n",
       "      <td>фэнтези</td>\n",
       "      <td>NaN</td>\n",
       "    </tr>\n",
       "    <tr>\n",
       "      <th>3522</th>\n",
       "      <td>Стражи Галактики. Часть 2</td>\n",
       "      <td>121008117</td>\n",
       "      <td>2017-04-27 12:00:00+00:00</td>\n",
       "      <td>Художественный</td>\n",
       "      <td>Марвел Студиос, Уолт Дисней Пикчерз</td>\n",
       "      <td>США</td>\n",
       "      <td>Джеймс Ганн</td>\n",
       "      <td>Кевин Фейги</td>\n",
       "      <td>«16+» - для детей старше 16 лет</td>\n",
       "      <td>NaN</td>\n",
       "      <td>NaN</td>\n",
       "      <td>NaN</td>\n",
       "      <td>NaN</td>\n",
       "      <td>7.6</td>\n",
       "      <td>фантастика,боевик,приключения</td>\n",
       "      <td>1.468780e+09</td>\n",
       "      <td>2017</td>\n",
       "      <td>Джеймс Ганн</td>\n",
       "      <td>фантастика</td>\n",
       "      <td>NaN</td>\n",
       "    </tr>\n",
       "    <tr>\n",
       "      <th>3487</th>\n",
       "      <td>Пираты Карибского моря: Мертвецы не рассказыва...</td>\n",
       "      <td>121009217</td>\n",
       "      <td>2017-05-17 12:00:00+00:00</td>\n",
       "      <td>Художественный</td>\n",
       "      <td>Джерри Брукхаймер Филмз, Уолт Дисней Пикчерз, ...</td>\n",
       "      <td>США</td>\n",
       "      <td>Йоаким Реннинг, Эспен Сандберг</td>\n",
       "      <td>Джерри Брукхаймер</td>\n",
       "      <td>«16+» - для детей старше 16 лет</td>\n",
       "      <td>NaN</td>\n",
       "      <td>NaN</td>\n",
       "      <td>NaN</td>\n",
       "      <td>NaN</td>\n",
       "      <td>6.6</td>\n",
       "      <td>фэнтези,боевик,комедия</td>\n",
       "      <td>2.118396e+09</td>\n",
       "      <td>2017</td>\n",
       "      <td>Йоаким Реннинг</td>\n",
       "      <td>фэнтези</td>\n",
       "      <td>NaN</td>\n",
       "    </tr>\n",
       "  </tbody>\n",
       "</table>\n",
       "</div>"
      ],
      "text/plain": [
       "                                                  title  pu_number  \\\n",
       "3568                           Меч короля Артура (2017)  121007317   \n",
       "3470                        Красавица и Чудовище (2017)  121004017   \n",
       "5633                   Звёздные войны: Последние джедаи  121026817   \n",
       "5537                   Убийство в \"Восточном экспрессе\"  121021717   \n",
       "3743                    Человек-паук: Возвращение домой  121011717   \n",
       "3612                                       Мумия (2017)  121009817   \n",
       "5547                                      Тор: Рагнарёк  121022917   \n",
       "5653                            Джуманджи: Зов джунглей  121027517   \n",
       "3522                          Стражи Галактики. Часть 2  121008117   \n",
       "3487  Пираты Карибского моря: Мертвецы не рассказыва...  121009217   \n",
       "\n",
       "               show_start_date            type  \\\n",
       "3568 2017-04-25 12:00:00+00:00  Художественный   \n",
       "3470 2017-03-03 12:00:00+00:00  Художественный   \n",
       "5633 2017-12-13 12:00:00+00:00  Художественный   \n",
       "5537 2017-11-09 12:00:00+00:00  Художественный   \n",
       "3743 2017-06-22 12:00:00+00:00  Художественный   \n",
       "3612 2017-05-30 12:00:00+00:00  Художественный   \n",
       "5547 2017-11-02 12:00:00+00:00  Художественный   \n",
       "5653 2017-12-21 12:00:00+00:00  Художественный   \n",
       "3522 2017-04-27 12:00:00+00:00  Художественный   \n",
       "3487 2017-05-17 12:00:00+00:00  Художественный   \n",
       "\n",
       "                                            film_studio  \\\n",
       "3568  Сафехауз Пикчерз, Виллидж Роадшоу Пикчерз, Уор...   \n",
       "3470              Мандевилл Филмз, Уолт Дисней Пикчерз    \n",
       "5633  Лукасфилм, Рэм Бергман Продакшнз, Уолт Дисней ...   \n",
       "5537  ХХ век Фокс, Жанр Филмз, Кинберг Жанр, Марк Го...   \n",
       "3743  Коламбиа Пикчерз, Марвел Студиос, Паскаль Пикчерз   \n",
       "3612  Шон Даниэль Компани, Сикрит Хайдаут, Юниверсал...   \n",
       "5547  Марвел Интертейнмент, Марвел Студиос, Уолт Дис...   \n",
       "5653  Мэтт Толмак Продакшнз, Радар Пикчерз, Севен Ба...   \n",
       "3522                Марвел Студиос, Уолт Дисней Пикчерз   \n",
       "3487  Джерри Брукхаймер Филмз, Уолт Дисней Пикчерз, ...   \n",
       "\n",
       "                production_country                        director  \\\n",
       "3568  США,Великобритания,Австралия                        Гай Ричи   \n",
       "3470                           США                     Билл Кондон   \n",
       "5633                           США                   Райан Джонсон   \n",
       "5537                    США,Мальта                    Кеннет Брана   \n",
       "3743                           США                      Джон Уоттс   \n",
       "3612                           США                  Алекс Куртцман   \n",
       "5547                           США                   Тайка Вайтити   \n",
       "5653                           США                    Джейк Касдан   \n",
       "3522                           США                     Джеймс Ганн   \n",
       "3487                           США  Йоаким Реннинг, Эспен Сандберг   \n",
       "\n",
       "                                       producer  \\\n",
       "3568                   Акива Голдсман, Гай Ричи   \n",
       "3470              Тодд Либерман, Дэвид Хоберман   \n",
       "5633                Рэм Бергман, Кэтлин Кеннеди   \n",
       "5537  Кеннет Брана, Марк Гордон, Джуди Хоффланд   \n",
       "3743                   Эми Паскаль, Кевин Фейги   \n",
       "3612    Шон Дэниэл, Алекс Куртцман, Крис Морган   \n",
       "5547                                 Кеви Фейги   \n",
       "5653                                Мэтт Толмак   \n",
       "3522                                Кевин Фейги   \n",
       "3487                          Джерри Брукхаймер   \n",
       "\n",
       "                      age_restriction  refundable_support  \\\n",
       "3568  «16+» - для детей старше 16 лет                 NaN   \n",
       "3470  «16+» - для детей старше 16 лет                 NaN   \n",
       "5633  «16+» - для детей старше 16 лет                 NaN   \n",
       "5537  «16+» - для детей старше 16 лет                 NaN   \n",
       "3743  «16+» - для детей старше 16 лет                 NaN   \n",
       "3612  «16+» - для детей старше 16 лет                 NaN   \n",
       "5547  «16+» - для детей старше 16 лет                 NaN   \n",
       "5653  «16+» - для детей старше 16 лет                 NaN   \n",
       "3522  «16+» - для детей старше 16 лет                 NaN   \n",
       "3487  «16+» - для детей старше 16 лет                 NaN   \n",
       "\n",
       "      nonrefundable_support  budget financing_source  ratings  \\\n",
       "3568                    NaN     NaN              NaN      7.1   \n",
       "3470                    NaN     NaN              NaN      6.7   \n",
       "5633                    NaN     NaN              NaN      0.0   \n",
       "5537                    NaN     NaN              NaN      6.7   \n",
       "3743                    NaN     NaN              NaN      7.1   \n",
       "3612                    NaN     NaN              NaN      5.6   \n",
       "5547                    NaN     NaN              NaN      8.2   \n",
       "5653                    NaN     NaN              NaN      6.8   \n",
       "3522                    NaN     NaN              NaN      7.6   \n",
       "3487                    NaN     NaN              NaN      6.6   \n",
       "\n",
       "                             genres    box_office  show_year   main_director  \\\n",
       "3568           фэнтези,боевик,драма  7.162418e+08       2017        Гай Ричи   \n",
       "3470       мюзикл,фэнтези,мелодрама  7.322872e+08       2017     Билл Кондон   \n",
       "5633                     Не указано  8.624714e+08       2017   Райан Джонсон   \n",
       "5537        детектив,криминал,драма  8.663595e+08       2017    Кеннет Брана   \n",
       "3743  фантастика,боевик,приключения  8.675114e+08       2017      Джон Уоттс   \n",
       "3612         фэнтези,боевик,триллер  8.711515e+08       2017  Алекс Куртцман   \n",
       "5547           история,драма,боевик  1.229588e+09       2017   Тайка Вайтити   \n",
       "5653         фэнтези,боевик,комедия  1.246588e+09       2017    Джейк Касдан   \n",
       "3522  фантастика,боевик,приключения  1.468780e+09       2017     Джеймс Ганн   \n",
       "3487         фэнтези,боевик,комедия  2.118396e+09       2017  Йоаким Реннинг   \n",
       "\n",
       "      main_genre  percent_of_support  \n",
       "3568     фэнтези                 NaN  \n",
       "3470      мюзикл                 NaN  \n",
       "5633  Не указано                 NaN  \n",
       "5537    детектив                 NaN  \n",
       "3743  фантастика                 NaN  \n",
       "3612     фэнтези                 NaN  \n",
       "5547     история                 NaN  \n",
       "5653     фэнтези                 NaN  \n",
       "3522  фантастика                 NaN  \n",
       "3487     фэнтези                 NaN  "
      ]
     },
     "execution_count": 108,
     "metadata": {},
     "output_type": "execute_result"
    }
   ],
   "source": [
    "movies_merge.query('(show_year == 2017) and (age_restriction == \"«16+» - для детей старше 16 лет\") and (box_office == box_office)').sort_values(by='box_office').tail(10)"
   ]
  },
  {
   "cell_type": "code",
   "execution_count": 99,
   "metadata": {},
   "outputs": [
    {
     "data": {
      "image/png": "[encoded data removed]",
      "text/plain": [
       "<Figure size 864x720 with 1 Axes>"
      ]
     },
     "metadata": {
      "needs_background": "light"
     },
     "output_type": "display_data"
    },
    {
     "name": "stdout",
     "output_type": "stream",
     "text": [
      "Количество прокатов фильмов в 2015-2019 гг. по возрастному ограничению:\n"
     ]
    },
    {
     "data": {
      "text/html": [
       "<div>\n",
       "<style scoped>\n",
       "    .dataframe tbody tr th:only-of-type {\n",
       "        vertical-align: middle;\n",
       "    }\n",
       "\n",
       "    .dataframe tbody tr th {\n",
       "        vertical-align: top;\n",
       "    }\n",
       "\n",
       "    .dataframe thead tr th {\n",
       "        text-align: left;\n",
       "    }\n",
       "</style>\n",
       "<table border=\"1\" class=\"dataframe\">\n",
       "  <thead>\n",
       "    <tr>\n",
       "      <th></th>\n",
       "      <th>show_year</th>\n",
       "      <th colspan=\"5\" halign=\"left\">box_office</th>\n",
       "    </tr>\n",
       "    <tr>\n",
       "      <th>age_restriction</th>\n",
       "      <th></th>\n",
       "      <th>«0+» - для любой зрительской аудитории</th>\n",
       "      <th>«12+» - для детей старше 12 лет</th>\n",
       "      <th>«16+» - для детей старше 16 лет</th>\n",
       "      <th>«18+» - запрещено для детей</th>\n",
       "      <th>«6+» - для детей старше 6 лет</th>\n",
       "    </tr>\n",
       "  </thead>\n",
       "  <tbody>\n",
       "    <tr>\n",
       "      <th>0</th>\n",
       "      <td>2015</td>\n",
       "      <td>39</td>\n",
       "      <td>72</td>\n",
       "      <td>165</td>\n",
       "      <td>131</td>\n",
       "      <td>52</td>\n",
       "    </tr>\n",
       "    <tr>\n",
       "      <th>1</th>\n",
       "      <td>2016</td>\n",
       "      <td>41</td>\n",
       "      <td>80</td>\n",
       "      <td>181</td>\n",
       "      <td>151</td>\n",
       "      <td>70</td>\n",
       "    </tr>\n",
       "    <tr>\n",
       "      <th>2</th>\n",
       "      <td>2017</td>\n",
       "      <td>3</td>\n",
       "      <td>41</td>\n",
       "      <td>120</td>\n",
       "      <td>147</td>\n",
       "      <td>44</td>\n",
       "    </tr>\n",
       "    <tr>\n",
       "      <th>3</th>\n",
       "      <td>2018</td>\n",
       "      <td>5</td>\n",
       "      <td>67</td>\n",
       "      <td>155</td>\n",
       "      <td>179</td>\n",
       "      <td>65</td>\n",
       "    </tr>\n",
       "    <tr>\n",
       "      <th>4</th>\n",
       "      <td>2019</td>\n",
       "      <td>3</td>\n",
       "      <td>85</td>\n",
       "      <td>178</td>\n",
       "      <td>183</td>\n",
       "      <td>80</td>\n",
       "    </tr>\n",
       "  </tbody>\n",
       "</table>\n",
       "</div>"
      ],
      "text/plain": [
       "                show_year                             box_office  \\\n",
       "age_restriction           «0+» - для любой зрительской аудитории   \n",
       "0                    2015                                     39   \n",
       "1                    2016                                     41   \n",
       "2                    2017                                      3   \n",
       "3                    2018                                      5   \n",
       "4                    2019                                      3   \n",
       "\n",
       "                                                 \\\n",
       "age_restriction «12+» - для детей старше 12 лет   \n",
       "0                                            72   \n",
       "1                                            80   \n",
       "2                                            41   \n",
       "3                                            67   \n",
       "4                                            85   \n",
       "\n",
       "                                                                             \\\n",
       "age_restriction «16+» - для детей старше 16 лет «18+» - запрещено для детей   \n",
       "0                                           165                         131   \n",
       "1                                           181                         151   \n",
       "2                                           120                         147   \n",
       "3                                           155                         179   \n",
       "4                                           178                         183   \n",
       "\n",
       "                                               \n",
       "age_restriction «6+» - для детей старше 6 лет  \n",
       "0                                          52  \n",
       "1                                          70  \n",
       "2                                          44  \n",
       "3                                          65  \n",
       "4                                          80  "
      ]
     },
     "metadata": {},
     "output_type": "display_data"
    }
   ],
   "source": [
    "age_year_count = movies_merge.query('2015<=show_year<=2019').pivot_table(index='show_year',columns='age_restriction',values=['box_office'],aggfunc='count')\n",
    "age_year_count.plot(kind=\"line\",figsize=(12,10),title='Количество прокатов фильмов в  2015-2019 гг. по возрастному ограничению')\n",
    "plt.legend(bbox_to_anchor=(1,1))\n",
    "plt.show()\n",
    "print(f'Количество прокатов фильмов в 2015-2019 гг. по возрастному ограничению:')\n",
    "display(age_year_count.reset_index())"
   ]
  },
  {
   "cell_type": "markdown",
   "metadata": {},
   "source": [
    "По графикам можно сделать вывод:<br><b>- Фильмы 0+:</b> Стабильно низкие сборы за данный период. Но есть интересный момент: резкое сокращение количества прокатов фильмов 0+ в 10 раз не привело к такому же резкому сокращению сборов от этих фильмов<br><b>- Фильмы 6+, 12+ и 18+:</b> Наблюдается рост кассовых сборов примерно с одной зависимостью. Такая же тенденция и по количеству прокатов. Т.е. можно предположить, что качество не меняется, сумма сборов определяется только количеством прокатов<br><b>- Фильмы 16+:</b> Самый интересный график. В 2017 году сумма сборов для этой категории фильмов была максимальной среди всех категорий и рекордной для самой себя, но при этом количество прокатов было так же рекордно низким. Можно предположить выход в этом году чего-то кассового (Если это только были \"Звездные войны: Последние джедаи\" ??)<br>"
   ]
  },
  {
   "cell_type": "code",
   "execution_count": 40,
   "metadata": {},
   "outputs": [
    {
     "data": {
      "image/png": "[encoded data removed]",
      "text/plain": [
       "<Figure size 432x288 with 1 Axes>"
      ]
     },
     "metadata": {
      "needs_background": "light"
     },
     "output_type": "display_data"
    },
    {
     "data": {
      "text/plain": [
       "age_restriction\n",
       "«0+» - для любой зрительской аудитории     91\n",
       "«12+» - для детей старше 12 лет           345\n",
       "«16+» - для детей старше 16 лет           799\n",
       "«18+» - запрещено для детей               791\n",
       "«6+» - для детей старше 6 лет             311\n",
       "Name: box_office, dtype: int64"
      ]
     },
     "execution_count": 40,
     "metadata": {},
     "output_type": "execute_result"
    }
   ],
   "source": [
    "movies_merge.query('2015<=show_year<=2019').groupby(['age_restriction'])['box_office'].agg('sum').plot(kind='bar', title=\"Общая сумма сборов по возрастному ограничению с 2015 по 2019 гг\\n\")\n",
    "plt.show()\n",
    "movies_merge.query('2015<=show_year<=2019').groupby(['age_restriction'])['box_office'].agg('count')"
   ]
  },
  {
   "cell_type": "markdown",
   "metadata": {},
   "source": [
    "Больше всего кассовых сборов за 2015-2019 года принесли фильмы 16+. Это можно довольно просто объяснить тем, что именно фильмов 16+ было выпущено в прокат больше всего и часто они интересны и зрителям 18+. Плюс 2017 год, рекордный по суммам сборов этой категории фильмов, как  мы выяснили шагом раньше."
   ]
  },
  {
   "cell_type": "markdown",
   "metadata": {
    "id": "l_Kg6Ku4gFya"
   },
   "source": [
    "### Шаг 4. Исследуйте фильмы, которые получили государственную поддержку\n",
    "\n",
    "На этом этапе нет конкретных инструкций и заданий — поищите интересные закономерности в данных. Посмотрите, сколько выделяют средств на поддержку кино. Проверьте, хорошо ли окупаются такие фильмы, какой у них рейтинг."
   ]
  },
  {
   "cell_type": "code",
   "execution_count": 41,
   "metadata": {
    "id": "W9QKpjUdgFyb"
   },
   "outputs": [],
   "source": [
    "gos_budget = movies_merge.query('budget > 0') # отберем все фильмы с гос.поддержкой в отдельный ДФ"
   ]
  },
  {
   "cell_type": "code",
   "execution_count": 42,
   "metadata": {},
   "outputs": [],
   "source": [
    "pd.options.mode.chained_assignment = None\n",
    "gos_budget['payback'] = (gos_budget['box_office']/gos_budget['budget'])*100 # процент окупаемости картины"
   ]
  },
  {
   "cell_type": "code",
   "execution_count": 43,
   "metadata": {},
   "outputs": [
    {
     "name": "stdout",
     "output_type": "stream",
     "text": [
      "Средний и медианный процент окупаемости фильмов с гос.поддержкой:\n",
      "     Средний:76.33\n",
      "     Медианный:14.87 \n"
     ]
    }
   ],
   "source": [
    "print(f'Средний и медианный процент окупаемости фильмов с гос.поддержкой:\\n \\\n",
    "    Средний:{gos_budget[\"payback\"].mean():.2f}\\n \\\n",
    "    Медианный:{gos_budget[\"payback\"].median():.2f} ')"
   ]
  },
  {
   "cell_type": "code",
   "execution_count": 44,
   "metadata": {},
   "outputs": [
    {
     "data": {
      "image/png": "[encoded data removed]",
      "text/plain": [
       "<Figure size 432x288 with 1 Axes>"
      ]
     },
     "metadata": {
      "needs_background": "light"
     },
     "output_type": "display_data"
    },
    {
     "data": {
      "text/html": [
       "<div>\n",
       "<style scoped>\n",
       "    .dataframe tbody tr th:only-of-type {\n",
       "        vertical-align: middle;\n",
       "    }\n",
       "\n",
       "    .dataframe tbody tr th {\n",
       "        vertical-align: top;\n",
       "    }\n",
       "\n",
       "    .dataframe thead th {\n",
       "        text-align: right;\n",
       "    }\n",
       "</style>\n",
       "<table border=\"1\" class=\"dataframe\">\n",
       "  <thead>\n",
       "    <tr style=\"text-align: right;\">\n",
       "      <th>show_year</th>\n",
       "      <th>2013</th>\n",
       "      <th>2014</th>\n",
       "      <th>2015</th>\n",
       "      <th>2016</th>\n",
       "      <th>2017</th>\n",
       "      <th>2018</th>\n",
       "      <th>2019</th>\n",
       "    </tr>\n",
       "    <tr>\n",
       "      <th>payback_ok</th>\n",
       "      <th></th>\n",
       "      <th></th>\n",
       "      <th></th>\n",
       "      <th></th>\n",
       "      <th></th>\n",
       "      <th></th>\n",
       "      <th></th>\n",
       "    </tr>\n",
       "  </thead>\n",
       "  <tbody>\n",
       "    <tr>\n",
       "      <th>False</th>\n",
       "      <td>2.0</td>\n",
       "      <td>12.0</td>\n",
       "      <td>67.0</td>\n",
       "      <td>49.0</td>\n",
       "      <td>26.0</td>\n",
       "      <td>35.0</td>\n",
       "      <td>58.0</td>\n",
       "    </tr>\n",
       "    <tr>\n",
       "      <th>True</th>\n",
       "      <td>NaN</td>\n",
       "      <td>3.0</td>\n",
       "      <td>13.0</td>\n",
       "      <td>9.0</td>\n",
       "      <td>13.0</td>\n",
       "      <td>17.0</td>\n",
       "      <td>11.0</td>\n",
       "    </tr>\n",
       "  </tbody>\n",
       "</table>\n",
       "</div>"
      ],
      "text/plain": [
       "show_year   2013  2014  2015  2016  2017  2018  2019\n",
       "payback_ok                                          \n",
       "False        2.0  12.0  67.0  49.0  26.0  35.0  58.0\n",
       "True         NaN   3.0  13.0   9.0  13.0  17.0  11.0"
      ]
     },
     "execution_count": 44,
     "metadata": {},
     "output_type": "execute_result"
    }
   ],
   "source": [
    "gos_budget['payback_ok'] = gos_budget['payback'].apply(lambda x: True if x>=100 else False)\n",
    "gos_budget.pivot_table(index='payback_ok',columns='show_year',values='type',aggfunc='count').plot(kind='bar',\\\n",
    "                       title='Количество фильмов, окупивших и не окупивших свой бюджет\\n')\n",
    "plt.show()\n",
    "gos_budget.pivot_table(index='payback_ok',columns='show_year',values='type',aggfunc='count')"
   ]
  },
  {
   "cell_type": "markdown",
   "metadata": {},
   "source": [
    "Грустно, но фильмы, снятые с гос.поддержкой редко когда окупают потраченный бюджет. И с течением времени картина не меняется"
   ]
  },
  {
   "cell_type": "code",
   "execution_count": 45,
   "metadata": {},
   "outputs": [
    {
     "data": {
      "image/png": "[encoded data removed]",
      "text/plain": [
       "<Figure size 432x288 with 1 Axes>"
      ]
     },
     "metadata": {
      "needs_background": "light"
     },
     "output_type": "display_data"
    }
   ],
   "source": [
    "gos_budget.pivot_table(index='show_year',values=['nonrefundable_support','refundable_support'],\\\n",
    "                       aggfunc='sum').plot(kind='line', \\\n",
    "                       title='Объем средств, направленных на поддержку кинематографа\\n')\n",
    "plt.show()"
   ]
  },
  {
   "cell_type": "markdown",
   "metadata": {},
   "source": [
    "С каждым годом объем средств, как возвратных, так и невозвратных, направленных на поддержку отечественного кинематографа, растет. Это не может не радовать"
   ]
  },
  {
   "cell_type": "code",
   "execution_count": 46,
   "metadata": {},
   "outputs": [
    {
     "name": "stdout",
     "output_type": "stream",
     "text": [
      "Количество прокатов фильмов с гос.поддержкой по возрастным категориям\n"
     ]
    },
    {
     "data": {
      "text/plain": [
       "age_restriction\n",
       "«0+» - для любой зрительской аудитории      8\n",
       "«12+» - для детей старше 12 лет           103\n",
       "«16+» - для детей старше 16 лет           118\n",
       "«18+» - запрещено для детей                27\n",
       "«6+» - для детей старше 6 лет              59\n",
       "Name: title, dtype: int64"
      ]
     },
     "metadata": {},
     "output_type": "display_data"
    },
    {
     "name": "stdout",
     "output_type": "stream",
     "text": [
      "Количество прокатов фильмов с гос.поддержкой по возрастным категориям, окупившим бюджет\n"
     ]
    },
    {
     "data": {
      "text/plain": [
       "age_restriction\n",
       "«0+» - для любой зрительской аудитории     1\n",
       "«12+» - для детей старше 12 лет           27\n",
       "«16+» - для детей старше 16 лет           19\n",
       "«18+» - запрещено для детей                2\n",
       "«6+» - для детей старше 6 лет             17\n",
       "Name: payback_ok, dtype: int64"
      ]
     },
     "metadata": {},
     "output_type": "display_data"
    },
    {
     "data": {
      "text/plain": [
       "age_restriction\n",
       "«0+» - для любой зрительской аудитории    0.125000\n",
       "«12+» - для детей старше 12 лет           0.262136\n",
       "«16+» - для детей старше 16 лет           0.161017\n",
       "«18+» - запрещено для детей               0.074074\n",
       "«6+» - для детей старше 6 лет             0.288136\n",
       "dtype: float64"
      ]
     },
     "metadata": {},
     "output_type": "display_data"
    }
   ],
   "source": [
    "print('Количество прокатов фильмов с гос.поддержкой по возрастным категориям')\n",
    "total_films_age = gos_budget.groupby('age_restriction')['title'].agg('count')\n",
    "display(total_films_age)\n",
    "\n",
    "print('Количество прокатов фильмов с гос.поддержкой по возрастным категориям, окупившим бюджет')\n",
    "total_film_age_budget_ok = gos_budget[gos_budget['payback_ok']].groupby('age_restriction')['payback_ok'].agg('sum')\n",
    "display(total_film_age_budget_ok)\n",
    "\n",
    "display(total_film_age_budget_ok/total_films_age)"
   ]
  },
  {
   "cell_type": "markdown",
   "metadata": {},
   "source": [
    "Из всех снятых и окупившихся фильмов, больше всех - это фильмы категории 6+, 12+ и 16+. Т.е. российский детский кинематограф достоен внимания в плане гос.поддержки.<br>Фильмы 18+ и 0+ окупаются редко."
   ]
  },
  {
   "cell_type": "code",
   "execution_count": 125,
   "metadata": {},
   "outputs": [
    {
     "data": {
      "text/html": [
       "<div>\n",
       "<style scoped>\n",
       "    .dataframe tbody tr th:only-of-type {\n",
       "        vertical-align: middle;\n",
       "    }\n",
       "\n",
       "    .dataframe tbody tr th {\n",
       "        vertical-align: top;\n",
       "    }\n",
       "\n",
       "    .dataframe thead th {\n",
       "        text-align: right;\n",
       "    }\n",
       "</style>\n",
       "<table border=\"1\" class=\"dataframe\">\n",
       "  <thead>\n",
       "    <tr style=\"text-align: right;\">\n",
       "      <th></th>\n",
       "      <th>title</th>\n",
       "      <th>age_restriction</th>\n",
       "      <th>box_office</th>\n",
       "      <th>payback</th>\n",
       "    </tr>\n",
       "  </thead>\n",
       "  <tbody>\n",
       "    <tr>\n",
       "      <th>5504</th>\n",
       "      <td>Последний богатырь</td>\n",
       "      <td>«12+» - для детей старше 12 лет</td>\n",
       "      <td>1.655038e+09</td>\n",
       "      <td>469.544109</td>\n",
       "    </tr>\n",
       "    <tr>\n",
       "      <th>5652</th>\n",
       "      <td>Движение вверх</td>\n",
       "      <td>«6+» - для детей старше 6 лет</td>\n",
       "      <td>2.779686e+09</td>\n",
       "      <td>470.979824</td>\n",
       "    </tr>\n",
       "    <tr>\n",
       "      <th>6177</th>\n",
       "      <td>Непрощенный</td>\n",
       "      <td>«16+» - для детей старше 16 лет</td>\n",
       "      <td>3.932796e+08</td>\n",
       "      <td>476.720558</td>\n",
       "    </tr>\n",
       "    <tr>\n",
       "      <th>5640</th>\n",
       "      <td>Ёлки Новые</td>\n",
       "      <td>«6+» - для детей старше 6 лет</td>\n",
       "      <td>8.554511e+08</td>\n",
       "      <td>490.561775</td>\n",
       "    </tr>\n",
       "    <tr>\n",
       "      <th>2204</th>\n",
       "      <td>8 новых свиданий</td>\n",
       "      <td>«12+» - для детей старше 12 лет</td>\n",
       "      <td>3.933446e+08</td>\n",
       "      <td>508.185695</td>\n",
       "    </tr>\n",
       "    <tr>\n",
       "      <th>2700</th>\n",
       "      <td>Самый Лучший День</td>\n",
       "      <td>«16+» - для детей старше 16 лет</td>\n",
       "      <td>6.830291e+08</td>\n",
       "      <td>522.915735</td>\n",
       "    </tr>\n",
       "    <tr>\n",
       "      <th>3228</th>\n",
       "      <td>Гуляй, Вася !</td>\n",
       "      <td>«16+» - для детей старше 16 лет</td>\n",
       "      <td>2.590991e+08</td>\n",
       "      <td>664.356610</td>\n",
       "    </tr>\n",
       "    <tr>\n",
       "      <th>5748</th>\n",
       "      <td>Я худею</td>\n",
       "      <td>«16+» - для детей старше 16 лет</td>\n",
       "      <td>6.334623e+08</td>\n",
       "      <td>722.725130</td>\n",
       "    </tr>\n",
       "    <tr>\n",
       "      <th>5707</th>\n",
       "      <td>Лёд</td>\n",
       "      <td>«12+» - для детей старше 12 лет</td>\n",
       "      <td>1.445732e+09</td>\n",
       "      <td>972.998377</td>\n",
       "    </tr>\n",
       "    <tr>\n",
       "      <th>7455</th>\n",
       "      <td>Холоп</td>\n",
       "      <td>«12+» - для детей старше 12 лет</td>\n",
       "      <td>3.073569e+09</td>\n",
       "      <td>1920.980432</td>\n",
       "    </tr>\n",
       "  </tbody>\n",
       "</table>\n",
       "</div>"
      ],
      "text/plain": [
       "                   title                  age_restriction    box_office  \\\n",
       "5504  Последний богатырь  «12+» - для детей старше 12 лет  1.655038e+09   \n",
       "5652      Движение вверх    «6+» - для детей старше 6 лет  2.779686e+09   \n",
       "6177         Непрощенный  «16+» - для детей старше 16 лет  3.932796e+08   \n",
       "5640          Ёлки Новые    «6+» - для детей старше 6 лет  8.554511e+08   \n",
       "2204    8 новых свиданий  «12+» - для детей старше 12 лет  3.933446e+08   \n",
       "2700   Самый Лучший День  «16+» - для детей старше 16 лет  6.830291e+08   \n",
       "3228       Гуляй, Вася !  «16+» - для детей старше 16 лет  2.590991e+08   \n",
       "5748             Я худею  «16+» - для детей старше 16 лет  6.334623e+08   \n",
       "5707                 Лёд  «12+» - для детей старше 12 лет  1.445732e+09   \n",
       "7455               Холоп  «12+» - для детей старше 12 лет  3.073569e+09   \n",
       "\n",
       "          payback  \n",
       "5504   469.544109  \n",
       "5652   470.979824  \n",
       "6177   476.720558  \n",
       "5640   490.561775  \n",
       "2204   508.185695  \n",
       "2700   522.915735  \n",
       "3228   664.356610  \n",
       "5748   722.725130  \n",
       "5707   972.998377  \n",
       "7455  1920.980432  "
      ]
     },
     "metadata": {},
     "output_type": "display_data"
    },
    {
     "data": {
      "text/html": [
       "<div>\n",
       "<style scoped>\n",
       "    .dataframe tbody tr th:only-of-type {\n",
       "        vertical-align: middle;\n",
       "    }\n",
       "\n",
       "    .dataframe tbody tr th {\n",
       "        vertical-align: top;\n",
       "    }\n",
       "\n",
       "    .dataframe thead th {\n",
       "        text-align: right;\n",
       "    }\n",
       "</style>\n",
       "<table border=\"1\" class=\"dataframe\">\n",
       "  <thead>\n",
       "    <tr style=\"text-align: right;\">\n",
       "      <th></th>\n",
       "      <th>title</th>\n",
       "      <th>age_restriction</th>\n",
       "      <th>box_office</th>\n",
       "      <th>payback</th>\n",
       "    </tr>\n",
       "  </thead>\n",
       "  <tbody>\n",
       "    <tr>\n",
       "      <th>3148</th>\n",
       "      <td>Я-Учитель</td>\n",
       "      <td>«12+» - для детей старше 12 лет</td>\n",
       "      <td>1550.0</td>\n",
       "      <td>0.001703</td>\n",
       "    </tr>\n",
       "    <tr>\n",
       "      <th>3503</th>\n",
       "      <td>День До</td>\n",
       "      <td>«18+» - запрещено для детей</td>\n",
       "      <td>9000.0</td>\n",
       "      <td>0.009909</td>\n",
       "    </tr>\n",
       "    <tr>\n",
       "      <th>2802</th>\n",
       "      <td>Битва с экстрасенсами</td>\n",
       "      <td>«12+» - для детей старше 12 лет</td>\n",
       "      <td>6000.0</td>\n",
       "      <td>0.010074</td>\n",
       "    </tr>\n",
       "    <tr>\n",
       "      <th>2526</th>\n",
       "      <td>Вдвоем на льдине.</td>\n",
       "      <td>«12+» - для детей старше 12 лет</td>\n",
       "      <td>4450.0</td>\n",
       "      <td>0.011728</td>\n",
       "    </tr>\n",
       "    <tr>\n",
       "      <th>3656</th>\n",
       "      <td>Простая история .</td>\n",
       "      <td>«16+» - для детей старше 16 лет</td>\n",
       "      <td>58720.0</td>\n",
       "      <td>0.032622</td>\n",
       "    </tr>\n",
       "    <tr>\n",
       "      <th>2149</th>\n",
       "      <td>РЕВЕРБЕРАЦИЯ</td>\n",
       "      <td>«18+» - запрещено для детей</td>\n",
       "      <td>19820.0</td>\n",
       "      <td>0.053035</td>\n",
       "    </tr>\n",
       "    <tr>\n",
       "      <th>1448</th>\n",
       "      <td>Бесславные придурки</td>\n",
       "      <td>«12+» - для детей старше 12 лет</td>\n",
       "      <td>28140.0</td>\n",
       "      <td>0.075762</td>\n",
       "    </tr>\n",
       "    <tr>\n",
       "      <th>2947</th>\n",
       "      <td>ВСЯ НАША НАДЕЖДА...</td>\n",
       "      <td>«12+» - для детей старше 12 лет</td>\n",
       "      <td>35897.0</td>\n",
       "      <td>0.077699</td>\n",
       "    </tr>\n",
       "    <tr>\n",
       "      <th>2981</th>\n",
       "      <td>Сдается дом со всеми неудобствами</td>\n",
       "      <td>«12+» - для детей старше 12 лет</td>\n",
       "      <td>55800.0</td>\n",
       "      <td>0.080370</td>\n",
       "    </tr>\n",
       "    <tr>\n",
       "      <th>3146</th>\n",
       "      <td>Память осени</td>\n",
       "      <td>«16+» - для детей старше 16 лет</td>\n",
       "      <td>58500.0</td>\n",
       "      <td>0.083571</td>\n",
       "    </tr>\n",
       "  </tbody>\n",
       "</table>\n",
       "</div>"
      ],
      "text/plain": [
       "                                  title                  age_restriction  \\\n",
       "3148                          Я-Учитель  «12+» - для детей старше 12 лет   \n",
       "3503                            День До      «18+» - запрещено для детей   \n",
       "2802              Битва с экстрасенсами  «12+» - для детей старше 12 лет   \n",
       "2526                  Вдвоем на льдине.  «12+» - для детей старше 12 лет   \n",
       "3656                  Простая история .  «16+» - для детей старше 16 лет   \n",
       "2149                       РЕВЕРБЕРАЦИЯ      «18+» - запрещено для детей   \n",
       "1448                Бесславные придурки  «12+» - для детей старше 12 лет   \n",
       "2947                ВСЯ НАША НАДЕЖДА...  «12+» - для детей старше 12 лет   \n",
       "2981  Сдается дом со всеми неудобствами  «12+» - для детей старше 12 лет   \n",
       "3146                       Память осени  «16+» - для детей старше 16 лет   \n",
       "\n",
       "      box_office   payback  \n",
       "3148      1550.0  0.001703  \n",
       "3503      9000.0  0.009909  \n",
       "2802      6000.0  0.010074  \n",
       "2526      4450.0  0.011728  \n",
       "3656     58720.0  0.032622  \n",
       "2149     19820.0  0.053035  \n",
       "1448     28140.0  0.075762  \n",
       "2947     35897.0  0.077699  \n",
       "2981     55800.0  0.080370  \n",
       "3146     58500.0  0.083571  "
      ]
     },
     "metadata": {},
     "output_type": "display_data"
    }
   ],
   "source": [
    "display(gos_budget[~gos_budget['payback'].isna()].loc[:,['title','age_restriction','box_office','payback']].sort_values(by='payback').tail(10))\n",
    "display(gos_budget[~gos_budget['payback'].isna()].loc[:,['title','age_restriction','box_office','payback']].sort_values(by='payback').head(10))"
   ]
  },
  {
   "cell_type": "code",
   "execution_count": 47,
   "metadata": {},
   "outputs": [
    {
     "data": {
      "text/html": [
       "<div>\n",
       "<style scoped>\n",
       "    .dataframe tbody tr th:only-of-type {\n",
       "        vertical-align: middle;\n",
       "    }\n",
       "\n",
       "    .dataframe tbody tr th {\n",
       "        vertical-align: top;\n",
       "    }\n",
       "\n",
       "    .dataframe thead th {\n",
       "        text-align: right;\n",
       "    }\n",
       "</style>\n",
       "<table border=\"1\" class=\"dataframe\">\n",
       "  <thead>\n",
       "    <tr style=\"text-align: right;\">\n",
       "      <th></th>\n",
       "      <th>title</th>\n",
       "      <th>pu_number</th>\n",
       "      <th>show_start_date</th>\n",
       "      <th>type</th>\n",
       "      <th>film_studio</th>\n",
       "      <th>production_country</th>\n",
       "      <th>director</th>\n",
       "      <th>producer</th>\n",
       "      <th>age_restriction</th>\n",
       "      <th>refundable_support</th>\n",
       "      <th>...</th>\n",
       "      <th>financing_source</th>\n",
       "      <th>ratings</th>\n",
       "      <th>genres</th>\n",
       "      <th>box_office</th>\n",
       "      <th>show_year</th>\n",
       "      <th>main_director</th>\n",
       "      <th>main_genre</th>\n",
       "      <th>percent_of_support</th>\n",
       "      <th>payback</th>\n",
       "      <th>payback_ok</th>\n",
       "    </tr>\n",
       "  </thead>\n",
       "  <tbody>\n",
       "    <tr>\n",
       "      <th>1281</th>\n",
       "      <td>Пока еще жива</td>\n",
       "      <td>111005313</td>\n",
       "      <td>2013-10-11 12:00:00+00:00</td>\n",
       "      <td>Художественный</td>\n",
       "      <td>АНО содействия развитию кинематографии \"Ангел-...</td>\n",
       "      <td>Россия</td>\n",
       "      <td>А.Атанесян</td>\n",
       "      <td>А.Атанесян, М.Бабаханов, Р.Бутко</td>\n",
       "      <td>«16+» - для детей старше 16 лет</td>\n",
       "      <td>0.0</td>\n",
       "      <td>...</td>\n",
       "      <td>Министерство культуры</td>\n",
       "      <td>8.1</td>\n",
       "      <td>драма,мелодрама</td>\n",
       "      <td>3.653536e+05</td>\n",
       "      <td>2013</td>\n",
       "      <td>А.Атанесян</td>\n",
       "      <td>драма</td>\n",
       "      <td>33.370314</td>\n",
       "      <td>0.460074</td>\n",
       "      <td>False</td>\n",
       "    </tr>\n",
       "    <tr>\n",
       "      <th>1448</th>\n",
       "      <td>Бесславные придурки</td>\n",
       "      <td>111003314</td>\n",
       "      <td>2014-03-28 12:00:00+00:00</td>\n",
       "      <td>Художественный</td>\n",
       "      <td>ООО \"Компания \"АТК-Студио\"</td>\n",
       "      <td>Россия</td>\n",
       "      <td>А.Якимчук</td>\n",
       "      <td>А.Тютрюмов</td>\n",
       "      <td>«12+» - для детей старше 12 лет</td>\n",
       "      <td>0.0</td>\n",
       "      <td>...</td>\n",
       "      <td>Министерство культуры</td>\n",
       "      <td>0.0</td>\n",
       "      <td>Не указано</td>\n",
       "      <td>2.814000e+04</td>\n",
       "      <td>2014</td>\n",
       "      <td>А.Якимчук</td>\n",
       "      <td>Не указано</td>\n",
       "      <td>70.000000</td>\n",
       "      <td>0.075762</td>\n",
       "      <td>False</td>\n",
       "    </tr>\n",
       "    <tr>\n",
       "      <th>1498</th>\n",
       "      <td>Невидимки</td>\n",
       "      <td>111004213</td>\n",
       "      <td>2013-09-10 12:00:00+00:00</td>\n",
       "      <td>Художественный</td>\n",
       "      <td>ООО \"Компания \"РЕАЛ-ДАКОТА\"</td>\n",
       "      <td>Россия</td>\n",
       "      <td>Р.Давлетьяров, С.Комаров</td>\n",
       "      <td>Р.Давлетьяров, А.Котелевский, А.Олейников</td>\n",
       "      <td>«12+» - для детей старше 12 лет</td>\n",
       "      <td>0.0</td>\n",
       "      <td>...</td>\n",
       "      <td>Фонд кино</td>\n",
       "      <td>5.3</td>\n",
       "      <td>комедия,фантастика</td>\n",
       "      <td>1.995703e+07</td>\n",
       "      <td>2013</td>\n",
       "      <td>Р.Давлетьяров</td>\n",
       "      <td>комедия</td>\n",
       "      <td>61.269064</td>\n",
       "      <td>11.337709</td>\n",
       "      <td>False</td>\n",
       "    </tr>\n",
       "    <tr>\n",
       "      <th>1524</th>\n",
       "      <td>БЕРЦЫ</td>\n",
       "      <td>111004314</td>\n",
       "      <td>2014-05-05 12:00:00+00:00</td>\n",
       "      <td>Художественный</td>\n",
       "      <td>ООО \"Студия \"Пассажир\"</td>\n",
       "      <td>Россия</td>\n",
       "      <td>Е.Миндадзе (псевдоним Катя Шагалова)</td>\n",
       "      <td>Л.Антонова</td>\n",
       "      <td>«16+» - для детей старше 16 лет</td>\n",
       "      <td>0.0</td>\n",
       "      <td>...</td>\n",
       "      <td>Министерство культуры</td>\n",
       "      <td>4.2</td>\n",
       "      <td>драма</td>\n",
       "      <td>5.591750e+04</td>\n",
       "      <td>2014</td>\n",
       "      <td>Е.Миндадзе (псевдоним Катя Шагалова)</td>\n",
       "      <td>драма</td>\n",
       "      <td>69.009473</td>\n",
       "      <td>0.137816</td>\n",
       "      <td>False</td>\n",
       "    </tr>\n",
       "    <tr>\n",
       "      <th>1792</th>\n",
       "      <td>Братья Ч</td>\n",
       "      <td>111004414</td>\n",
       "      <td>2014-04-23 12:00:00+00:00</td>\n",
       "      <td>Художественный</td>\n",
       "      <td>ООО \"Студия \"Пассажир\"</td>\n",
       "      <td>Россия</td>\n",
       "      <td>М.Угаров</td>\n",
       "      <td>А.Миндадзе, Л.Антонова</td>\n",
       "      <td>«16+» - для детей старше 16 лет</td>\n",
       "      <td>0.0</td>\n",
       "      <td>...</td>\n",
       "      <td>Министерство культуры</td>\n",
       "      <td>6.4</td>\n",
       "      <td>драма</td>\n",
       "      <td>2.321000e+05</td>\n",
       "      <td>2014</td>\n",
       "      <td>М.Угаров</td>\n",
       "      <td>драма</td>\n",
       "      <td>62.476381</td>\n",
       "      <td>0.580031</td>\n",
       "      <td>False</td>\n",
       "    </tr>\n",
       "    <tr>\n",
       "      <th>...</th>\n",
       "      <td>...</td>\n",
       "      <td>...</td>\n",
       "      <td>...</td>\n",
       "      <td>...</td>\n",
       "      <td>...</td>\n",
       "      <td>...</td>\n",
       "      <td>...</td>\n",
       "      <td>...</td>\n",
       "      <td>...</td>\n",
       "      <td>...</td>\n",
       "      <td>...</td>\n",
       "      <td>...</td>\n",
       "      <td>...</td>\n",
       "      <td>...</td>\n",
       "      <td>...</td>\n",
       "      <td>...</td>\n",
       "      <td>...</td>\n",
       "      <td>...</td>\n",
       "      <td>...</td>\n",
       "      <td>...</td>\n",
       "      <td>...</td>\n",
       "    </tr>\n",
       "    <tr>\n",
       "      <th>7463</th>\n",
       "      <td>Союз спасения</td>\n",
       "      <td>111022019</td>\n",
       "      <td>2019-12-26 12:00:00+00:00</td>\n",
       "      <td>Художественный</td>\n",
       "      <td>ЗАО \"Дирекция кино\"</td>\n",
       "      <td>Россия</td>\n",
       "      <td>А.Кравчук</td>\n",
       "      <td>А.Максимов, К.Эрнст</td>\n",
       "      <td>«12+» - для детей старше 12 лет</td>\n",
       "      <td>100000000.0</td>\n",
       "      <td>...</td>\n",
       "      <td>Фонд кино</td>\n",
       "      <td>6.0</td>\n",
       "      <td>история,биография,драма</td>\n",
       "      <td>7.177032e+08</td>\n",
       "      <td>2019</td>\n",
       "      <td>А.Кравчук</td>\n",
       "      <td>история</td>\n",
       "      <td>51.020408</td>\n",
       "      <td>73.235019</td>\n",
       "      <td>False</td>\n",
       "    </tr>\n",
       "    <tr>\n",
       "      <th>7465</th>\n",
       "      <td>Иван Царевич и Серый Волк 4</td>\n",
       "      <td>114005019</td>\n",
       "      <td>2019-12-20 12:00:00+00:00</td>\n",
       "      <td>Анимационный</td>\n",
       "      <td>ООО \"Студия анимационного кино \"Мельница\"</td>\n",
       "      <td>Россия</td>\n",
       "      <td>Д.Шмидт, К.Феоктистов</td>\n",
       "      <td>С.Сельянов, А.Боярский</td>\n",
       "      <td>«6+» - для детей старше 6 лет</td>\n",
       "      <td>100000000.0</td>\n",
       "      <td>...</td>\n",
       "      <td>Фонд кино</td>\n",
       "      <td>6.7</td>\n",
       "      <td>мультфильм,приключения,семейный</td>\n",
       "      <td>5.010692e+08</td>\n",
       "      <td>2019</td>\n",
       "      <td>Д.Шмидт</td>\n",
       "      <td>мультфильм</td>\n",
       "      <td>52.631579</td>\n",
       "      <td>263.720650</td>\n",
       "      <td>True</td>\n",
       "    </tr>\n",
       "    <tr>\n",
       "      <th>7473</th>\n",
       "      <td>Вторжение</td>\n",
       "      <td>111022519</td>\n",
       "      <td>2019-12-23 12:00:00+00:00</td>\n",
       "      <td>Художественный</td>\n",
       "      <td>ООО \"Арт Пикчерс Студия\", ООО \"Водород 2011\"</td>\n",
       "      <td>Россия</td>\n",
       "      <td>Ф.Бондарчук</td>\n",
       "      <td>Ф.Бондарчук, М.Врубель, А.Андрющенко, Д.Рудовский</td>\n",
       "      <td>«12+» - для детей старше 12 лет</td>\n",
       "      <td>100000000.0</td>\n",
       "      <td>...</td>\n",
       "      <td>Фонд кино</td>\n",
       "      <td>5.7</td>\n",
       "      <td>фантастика,боевик</td>\n",
       "      <td>NaN</td>\n",
       "      <td>2019</td>\n",
       "      <td>Ф.Бондарчук</td>\n",
       "      <td>фантастика</td>\n",
       "      <td>52.966102</td>\n",
       "      <td>NaN</td>\n",
       "      <td>False</td>\n",
       "    </tr>\n",
       "    <tr>\n",
       "      <th>7475</th>\n",
       "      <td>Я свободен</td>\n",
       "      <td>111023019</td>\n",
       "      <td>2019-12-26 12:00:00+00:00</td>\n",
       "      <td>Художественный</td>\n",
       "      <td>АО \"ТПО \"Киностудия им. М.Горького\"</td>\n",
       "      <td>Россия</td>\n",
       "      <td>И.Северов</td>\n",
       "      <td>С.Зернов</td>\n",
       "      <td>«12+» - для детей старше 12 лет</td>\n",
       "      <td>0.0</td>\n",
       "      <td>...</td>\n",
       "      <td>Министерство культуры</td>\n",
       "      <td>5.9</td>\n",
       "      <td>драма</td>\n",
       "      <td>NaN</td>\n",
       "      <td>2019</td>\n",
       "      <td>И.Северов</td>\n",
       "      <td>драма</td>\n",
       "      <td>64.999783</td>\n",
       "      <td>NaN</td>\n",
       "      <td>False</td>\n",
       "    </tr>\n",
       "    <tr>\n",
       "      <th>7477</th>\n",
       "      <td>(Не)идеальный мужчина</td>\n",
       "      <td>111023119</td>\n",
       "      <td>2019-12-24 12:00:00+00:00</td>\n",
       "      <td>Художественный</td>\n",
       "      <td>ООО \"Нон-Стоп Продакшн\"</td>\n",
       "      <td>Россия</td>\n",
       "      <td>М.Бальчюнас (псевдоним М.Вайсберг)</td>\n",
       "      <td>С.Мелькумов, А.Роднянский, М.Вайсберг, Р.Минас...</td>\n",
       "      <td>«12+» - для детей старше 12 лет</td>\n",
       "      <td>40000000.0</td>\n",
       "      <td>...</td>\n",
       "      <td>Фонд кино</td>\n",
       "      <td>4.5</td>\n",
       "      <td>комедия,фантастика,мелодрама</td>\n",
       "      <td>NaN</td>\n",
       "      <td>2019</td>\n",
       "      <td>М.Бальчюнас (псевдоним М.Вайсберг)</td>\n",
       "      <td>комедия</td>\n",
       "      <td>66.601175</td>\n",
       "      <td>NaN</td>\n",
       "      <td>False</td>\n",
       "    </tr>\n",
       "  </tbody>\n",
       "</table>\n",
       "<p>315 rows × 22 columns</p>\n",
       "</div>"
      ],
      "text/plain": [
       "                            title  pu_number           show_start_date  \\\n",
       "1281                Пока еще жива  111005313 2013-10-11 12:00:00+00:00   \n",
       "1448          Бесславные придурки  111003314 2014-03-28 12:00:00+00:00   \n",
       "1498                    Невидимки  111004213 2013-09-10 12:00:00+00:00   \n",
       "1524                        БЕРЦЫ  111004314 2014-05-05 12:00:00+00:00   \n",
       "1792                     Братья Ч  111004414 2014-04-23 12:00:00+00:00   \n",
       "...                           ...        ...                       ...   \n",
       "7463                Союз спасения  111022019 2019-12-26 12:00:00+00:00   \n",
       "7465  Иван Царевич и Серый Волк 4  114005019 2019-12-20 12:00:00+00:00   \n",
       "7473                    Вторжение  111022519 2019-12-23 12:00:00+00:00   \n",
       "7475                   Я свободен  111023019 2019-12-26 12:00:00+00:00   \n",
       "7477        (Не)идеальный мужчина  111023119 2019-12-24 12:00:00+00:00   \n",
       "\n",
       "                type                                        film_studio  \\\n",
       "1281  Художественный  АНО содействия развитию кинематографии \"Ангел-...   \n",
       "1448  Художественный                         ООО \"Компания \"АТК-Студио\"   \n",
       "1498  Художественный                        ООО \"Компания \"РЕАЛ-ДАКОТА\"   \n",
       "1524  Художественный                             ООО \"Студия \"Пассажир\"   \n",
       "1792  Художественный                             ООО \"Студия \"Пассажир\"   \n",
       "...              ...                                                ...   \n",
       "7463  Художественный                                ЗАО \"Дирекция кино\"   \n",
       "7465    Анимационный          ООО \"Студия анимационного кино \"Мельница\"   \n",
       "7473  Художественный       ООО \"Арт Пикчерс Студия\", ООО \"Водород 2011\"   \n",
       "7475  Художественный                АО \"ТПО \"Киностудия им. М.Горького\"   \n",
       "7477  Художественный                           ООО \"Нон-Стоп Продакшн\"    \n",
       "\n",
       "     production_country                              director  \\\n",
       "1281             Россия                            А.Атанесян   \n",
       "1448             Россия                             А.Якимчук   \n",
       "1498             Россия              Р.Давлетьяров, С.Комаров   \n",
       "1524             Россия  Е.Миндадзе (псевдоним Катя Шагалова)   \n",
       "1792             Россия                              М.Угаров   \n",
       "...                 ...                                   ...   \n",
       "7463             Россия                             А.Кравчук   \n",
       "7465             Россия                 Д.Шмидт, К.Феоктистов   \n",
       "7473             Россия                           Ф.Бондарчук   \n",
       "7475             Россия                             И.Северов   \n",
       "7477             Россия    М.Бальчюнас (псевдоним М.Вайсберг)   \n",
       "\n",
       "                                               producer  \\\n",
       "1281                   А.Атанесян, М.Бабаханов, Р.Бутко   \n",
       "1448                                         А.Тютрюмов   \n",
       "1498          Р.Давлетьяров, А.Котелевский, А.Олейников   \n",
       "1524                                         Л.Антонова   \n",
       "1792                             А.Миндадзе, Л.Антонова   \n",
       "...                                                 ...   \n",
       "7463                                А.Максимов, К.Эрнст   \n",
       "7465                             С.Сельянов, А.Боярский   \n",
       "7473  Ф.Бондарчук, М.Врубель, А.Андрющенко, Д.Рудовский   \n",
       "7475                                           С.Зернов   \n",
       "7477  С.Мелькумов, А.Роднянский, М.Вайсберг, Р.Минас...   \n",
       "\n",
       "                      age_restriction  refundable_support  ...  \\\n",
       "1281  «16+» - для детей старше 16 лет                 0.0  ...   \n",
       "1448  «12+» - для детей старше 12 лет                 0.0  ...   \n",
       "1498  «12+» - для детей старше 12 лет                 0.0  ...   \n",
       "1524  «16+» - для детей старше 16 лет                 0.0  ...   \n",
       "1792  «16+» - для детей старше 16 лет                 0.0  ...   \n",
       "...                               ...                 ...  ...   \n",
       "7463  «12+» - для детей старше 12 лет         100000000.0  ...   \n",
       "7465    «6+» - для детей старше 6 лет         100000000.0  ...   \n",
       "7473  «12+» - для детей старше 12 лет         100000000.0  ...   \n",
       "7475  «12+» - для детей старше 12 лет                 0.0  ...   \n",
       "7477  «12+» - для детей старше 12 лет          40000000.0  ...   \n",
       "\n",
       "           financing_source  ratings                           genres  \\\n",
       "1281  Министерство культуры      8.1                  драма,мелодрама   \n",
       "1448  Министерство культуры      0.0                       Не указано   \n",
       "1498              Фонд кино      5.3               комедия,фантастика   \n",
       "1524  Министерство культуры      4.2                            драма   \n",
       "1792  Министерство культуры      6.4                            драма   \n",
       "...                     ...      ...                              ...   \n",
       "7463              Фонд кино      6.0          история,биография,драма   \n",
       "7465              Фонд кино      6.7  мультфильм,приключения,семейный   \n",
       "7473              Фонд кино      5.7                фантастика,боевик   \n",
       "7475  Министерство культуры      5.9                            драма   \n",
       "7477              Фонд кино      4.5     комедия,фантастика,мелодрама   \n",
       "\n",
       "        box_office show_year                         main_director  \\\n",
       "1281  3.653536e+05      2013                            А.Атанесян   \n",
       "1448  2.814000e+04      2014                             А.Якимчук   \n",
       "1498  1.995703e+07      2013                         Р.Давлетьяров   \n",
       "1524  5.591750e+04      2014  Е.Миндадзе (псевдоним Катя Шагалова)   \n",
       "1792  2.321000e+05      2014                              М.Угаров   \n",
       "...            ...       ...                                   ...   \n",
       "7463  7.177032e+08      2019                             А.Кравчук   \n",
       "7465  5.010692e+08      2019                               Д.Шмидт   \n",
       "7473           NaN      2019                           Ф.Бондарчук   \n",
       "7475           NaN      2019                             И.Северов   \n",
       "7477           NaN      2019    М.Бальчюнас (псевдоним М.Вайсберг)   \n",
       "\n",
       "      main_genre percent_of_support     payback  payback_ok  \n",
       "1281       драма          33.370314    0.460074       False  \n",
       "1448  Не указано          70.000000    0.075762       False  \n",
       "1498     комедия          61.269064   11.337709       False  \n",
       "1524       драма          69.009473    0.137816       False  \n",
       "1792       драма          62.476381    0.580031       False  \n",
       "...          ...                ...         ...         ...  \n",
       "7463     история          51.020408   73.235019       False  \n",
       "7465  мультфильм          52.631579  263.720650        True  \n",
       "7473  фантастика          52.966102         NaN       False  \n",
       "7475       драма          64.999783         NaN       False  \n",
       "7477     комедия          66.601175         NaN       False  \n",
       "\n",
       "[315 rows x 22 columns]"
      ]
     },
     "execution_count": 47,
     "metadata": {},
     "output_type": "execute_result"
    }
   ],
   "source": [
    "gos_budget"
   ]
  },
  {
   "cell_type": "code",
   "execution_count": 48,
   "metadata": {},
   "outputs": [
    {
     "name": "stdout",
     "output_type": "stream",
     "text": [
      "Количество фильмов с гос.поддержкой с округленым рейтингом:\n"
     ]
    },
    {
     "data": {
      "text/html": [
       "<div>\n",
       "<style scoped>\n",
       "    .dataframe tbody tr th:only-of-type {\n",
       "        vertical-align: middle;\n",
       "    }\n",
       "\n",
       "    .dataframe tbody tr th {\n",
       "        vertical-align: top;\n",
       "    }\n",
       "\n",
       "    .dataframe thead th {\n",
       "        text-align: right;\n",
       "    }\n",
       "</style>\n",
       "<table border=\"1\" class=\"dataframe\">\n",
       "  <thead>\n",
       "    <tr style=\"text-align: right;\">\n",
       "      <th></th>\n",
       "      <th>Количество</th>\n",
       "      <th>Окупилось</th>\n",
       "    </tr>\n",
       "    <tr>\n",
       "      <th>ratings_round</th>\n",
       "      <th></th>\n",
       "      <th></th>\n",
       "    </tr>\n",
       "  </thead>\n",
       "  <tbody>\n",
       "    <tr>\n",
       "      <th>0.0</th>\n",
       "      <td>15</td>\n",
       "      <td>1</td>\n",
       "    </tr>\n",
       "    <tr>\n",
       "      <th>1.0</th>\n",
       "      <td>1</td>\n",
       "      <td>0</td>\n",
       "    </tr>\n",
       "    <tr>\n",
       "      <th>2.0</th>\n",
       "      <td>1</td>\n",
       "      <td>0</td>\n",
       "    </tr>\n",
       "    <tr>\n",
       "      <th>3.0</th>\n",
       "      <td>10</td>\n",
       "      <td>1</td>\n",
       "    </tr>\n",
       "    <tr>\n",
       "      <th>4.0</th>\n",
       "      <td>15</td>\n",
       "      <td>2</td>\n",
       "    </tr>\n",
       "    <tr>\n",
       "      <th>5.0</th>\n",
       "      <td>54</td>\n",
       "      <td>15</td>\n",
       "    </tr>\n",
       "    <tr>\n",
       "      <th>6.0</th>\n",
       "      <td>116</td>\n",
       "      <td>20</td>\n",
       "    </tr>\n",
       "    <tr>\n",
       "      <th>7.0</th>\n",
       "      <td>77</td>\n",
       "      <td>19</td>\n",
       "    </tr>\n",
       "    <tr>\n",
       "      <th>8.0</th>\n",
       "      <td>24</td>\n",
       "      <td>8</td>\n",
       "    </tr>\n",
       "    <tr>\n",
       "      <th>9.0</th>\n",
       "      <td>2</td>\n",
       "      <td>0</td>\n",
       "    </tr>\n",
       "  </tbody>\n",
       "</table>\n",
       "</div>"
      ],
      "text/plain": [
       "               Количество  Окупилось\n",
       "ratings_round                       \n",
       "0.0                    15          1\n",
       "1.0                     1          0\n",
       "2.0                     1          0\n",
       "3.0                    10          1\n",
       "4.0                    15          2\n",
       "5.0                    54         15\n",
       "6.0                   116         20\n",
       "7.0                    77         19\n",
       "8.0                    24          8\n",
       "9.0                     2          0"
      ]
     },
     "metadata": {},
     "output_type": "display_data"
    },
    {
     "data": {
      "image/png": "[encoded data removed]",
      "text/plain": [
       "<Figure size 432x288 with 1 Axes>"
      ]
     },
     "metadata": {
      "needs_background": "light"
     },
     "output_type": "display_data"
    }
   ],
   "source": [
    "gos_budget['ratings_round'] = gos_budget['ratings'].round() # округляем рейтинг для укрупнения\n",
    "\n",
    "print('Количество фильмов с гос.поддержкой с округленым рейтингом:')\n",
    "rating_ok = (\n",
    "    gos_budget\n",
    "    .groupby('ratings_round')['payback_ok']\n",
    "    .agg(['count','sum'])\n",
    "    .rename(columns={'count':'Количество','sum':'Окупилось'})\n",
    ")\n",
    "display(rating_ok)\n",
    "rating_ok.plot(kind='bar',title='Рейтинги фильмов с гос.поддержкой')\n",
    "plt.show()"
   ]
  },
  {
   "cell_type": "code",
   "execution_count": 49,
   "metadata": {},
   "outputs": [
    {
     "data": {
      "text/html": [
       "<div>\n",
       "<style scoped>\n",
       "    .dataframe tbody tr th:only-of-type {\n",
       "        vertical-align: middle;\n",
       "    }\n",
       "\n",
       "    .dataframe tbody tr th {\n",
       "        vertical-align: top;\n",
       "    }\n",
       "\n",
       "    .dataframe thead th {\n",
       "        text-align: right;\n",
       "    }\n",
       "</style>\n",
       "<table border=\"1\" class=\"dataframe\">\n",
       "  <thead>\n",
       "    <tr style=\"text-align: right;\">\n",
       "      <th></th>\n",
       "      <th>title</th>\n",
       "      <th>pu_number</th>\n",
       "      <th>show_start_date</th>\n",
       "      <th>type</th>\n",
       "      <th>film_studio</th>\n",
       "      <th>production_country</th>\n",
       "      <th>director</th>\n",
       "      <th>producer</th>\n",
       "      <th>age_restriction</th>\n",
       "      <th>refundable_support</th>\n",
       "      <th>...</th>\n",
       "      <th>ratings</th>\n",
       "      <th>genres</th>\n",
       "      <th>box_office</th>\n",
       "      <th>show_year</th>\n",
       "      <th>main_director</th>\n",
       "      <th>main_genre</th>\n",
       "      <th>percent_of_support</th>\n",
       "      <th>payback</th>\n",
       "      <th>payback_ok</th>\n",
       "      <th>ratings_round</th>\n",
       "    </tr>\n",
       "  </thead>\n",
       "  <tbody>\n",
       "    <tr>\n",
       "      <th>2145</th>\n",
       "      <td>Главный</td>\n",
       "      <td>111003415</td>\n",
       "      <td>2015-03-27 12:00:00+00:00</td>\n",
       "      <td>Художественный</td>\n",
       "      <td>ООО \"Киностудия \"МАСТЕР\"</td>\n",
       "      <td>Россия</td>\n",
       "      <td>Ю.Кара</td>\n",
       "      <td>Ю.Кара</td>\n",
       "      <td>«6+» - для детей старше 6 лет</td>\n",
       "      <td>0.0</td>\n",
       "      <td>...</td>\n",
       "      <td>9.4</td>\n",
       "      <td>фантастика,боевик,комедия</td>\n",
       "      <td>334750.0</td>\n",
       "      <td>2015</td>\n",
       "      <td>Ю.Кара</td>\n",
       "      <td>фантастика</td>\n",
       "      <td>25.00000</td>\n",
       "      <td>0.836875</td>\n",
       "      <td>False</td>\n",
       "      <td>9.0</td>\n",
       "    </tr>\n",
       "    <tr>\n",
       "      <th>3138</th>\n",
       "      <td>Я умею вязать</td>\n",
       "      <td>111019615</td>\n",
       "      <td>2015-11-27 12:00:00+00:00</td>\n",
       "      <td>Художественный</td>\n",
       "      <td>ООО \"Белое Зеркало\"</td>\n",
       "      <td>Россия</td>\n",
       "      <td>Н.Степанова при участии С.Иванова</td>\n",
       "      <td>С.Кикнавелидзе, Д.Улюкаев</td>\n",
       "      <td>«16+» - для детей старше 16 лет</td>\n",
       "      <td>0.0</td>\n",
       "      <td>...</td>\n",
       "      <td>9.0</td>\n",
       "      <td>драма</td>\n",
       "      <td>801370.0</td>\n",
       "      <td>2015</td>\n",
       "      <td>Н.Степанова при участии С.Иванова</td>\n",
       "      <td>драма</td>\n",
       "      <td>32.49792</td>\n",
       "      <td>5.541034</td>\n",
       "      <td>False</td>\n",
       "      <td>9.0</td>\n",
       "    </tr>\n",
       "  </tbody>\n",
       "</table>\n",
       "<p>2 rows × 23 columns</p>\n",
       "</div>"
      ],
      "text/plain": [
       "              title  pu_number           show_start_date            type  \\\n",
       "2145        Главный  111003415 2015-03-27 12:00:00+00:00  Художественный   \n",
       "3138  Я умею вязать  111019615 2015-11-27 12:00:00+00:00  Художественный   \n",
       "\n",
       "                   film_studio production_country  \\\n",
       "2145  ООО \"Киностудия \"МАСТЕР\"             Россия   \n",
       "3138       ООО \"Белое Зеркало\"             Россия   \n",
       "\n",
       "                               director                   producer  \\\n",
       "2145                             Ю.Кара                     Ю.Кара   \n",
       "3138  Н.Степанова при участии С.Иванова  С.Кикнавелидзе, Д.Улюкаев   \n",
       "\n",
       "                      age_restriction  refundable_support  ...  ratings  \\\n",
       "2145    «6+» - для детей старше 6 лет                 0.0  ...      9.4   \n",
       "3138  «16+» - для детей старше 16 лет                 0.0  ...      9.0   \n",
       "\n",
       "                         genres box_office  show_year  \\\n",
       "2145  фантастика,боевик,комедия   334750.0       2015   \n",
       "3138                      драма   801370.0       2015   \n",
       "\n",
       "                          main_director  main_genre  percent_of_support  \\\n",
       "2145                             Ю.Кара  фантастика            25.00000   \n",
       "3138  Н.Степанова при участии С.Иванова       драма            32.49792   \n",
       "\n",
       "       payback payback_ok  ratings_round  \n",
       "2145  0.836875      False            9.0  \n",
       "3138  5.541034      False            9.0  \n",
       "\n",
       "[2 rows x 23 columns]"
      ]
     },
     "execution_count": 49,
     "metadata": {},
     "output_type": "execute_result"
    }
   ],
   "source": [
    "gos_budget.query('ratings_round == 9')"
   ]
  },
  {
   "cell_type": "markdown",
   "metadata": {},
   "source": [
    "Как видно, окупаются фильмы со средним рейтингом 5-8 баллов на Кинопоиске. Т.е. оценки зрителей отражают качество картины и дают возможность предположить окупится фильм или нет.<br>А что с картинами с рейтингом в 9 баллов - это строки, к которых рейтинг был указан в процентах и переведен в единицы искусственно. Т.е. в данном анализе на них можно не обращать внимания и уточнить у заказчика, что означают проценты в графе рейтинга."
   ]
  },
  {
   "cell_type": "markdown",
   "metadata": {
    "id": "V2gYwMcPgFyd"
   },
   "source": [
    "### Шаг 5. Напишите общий вывод"
   ]
  },
  {
   "cell_type": "markdown",
   "metadata": {
    "id": "AYRg3dzXgFye"
   },
   "source": [
    "В ходе исследования рынка российского кинопроката я проделал следующие шаги. <br><ul>\n",
    "<li>1. Обработал входные данные. Пропущенные значения, которые невозможно было восстановить, но они не влияли на дальнейший анализ, заменил на \"Не указано\" (Режиссер, Продюсер, Страна производства). Те же пропущенные данные, от которых зависил дальнейший анализ, как budget пришлось удалить полностью. Есть вопросы по исходным данным, которые нужно уточнить у заказчика: как интерпретировать рейтинг, указанный в процентах? В рамках обработки были исправлены неявные дубликаты данных, вызванные скорее всего ручным вводом без проверки системой.Добавлены новые столбцы для удобства дальнейшего анализа.</li><br>\n",
    "<li>2. Провел анализ и посчитал, сколько фильмов выходило в прокат каждый год. Выяснил, какую долю составляют фильмы с указанной информацией о прокате в кинотеатрах. Проанализировал, изменение этой доля менялась по годам.</li><br>\n",
    "<li>3. Выяснил изменение динамики проката по годам, указанным в исходных данных.</li><br>\n",
    "<li>4. Посчитал среднюю и медианную сумму сборов для каждого года.</li><br>\n",
    "<li>5. Выяснил влияет ли возрастное ограничение аудитории на сборы фильма в прокате в период с 2015 по 2019 год.</li><br>\n",
    "<li>6. Провел исследование фильмов, получивших гос.поддержку.</li><br></ul>"
   ]
  },
  {
   "cell_type": "markdown",
   "metadata": {},
   "source": [
    "<b>Addon</b><br>В результате проведенного исследования было выяснено, что самымы окупаемыми в российском кинопрокате являются фильмы с возрастной категорией 16+, даже в самый неудачный для всего кинематографа 2017ый год, этот сегмент картин показал рекордные сборы.<br>\n",
    "Что касается российского киноматографа, то самы окупаемые - это так же фильмы для детей и подростков, возратные категории 6+, 12+ и 16+. Именно они в большинстве случаев окупают бюджет и в том числе средства гос. поддержки. Но стоит отметить, то процент окупаемых фильмов остается очень низким.<br>\n",
    "Примеры самых кассовых российских картин: Холоп, Лед, Я худею - фильмы которые в несколько сот раз окупили бюджет.<br>\n",
    "Примеры самых провальных российских картин: Я-Учитель, День До, Битва с экстрасенсами - фильмы которые окупили меньше 10% вложеных средств<br>\n",
    "Следует провести анализ жанров, актеров, режиссеров фильмов-ледеров и фильмов-аутсайдеров, чтобы взять лучше и избавиться от худшего. Возможно, что это поможет улучшить имидж отечественного кино и вывести эту отрасль из категории убыточных."
   ]
  },
  {
   "cell_type": "code",
   "execution_count": null,
   "metadata": {},
   "outputs": [],
   "source": []
  }
 ],
 "metadata": {
  "ExecuteTimeLog": [
   {
    "duration": 537,
    "start_time": "2021-07-07T10:12:08.634Z"
   },
   {
    "duration": 206,
    "start_time": "2021-07-07T10:12:30.191Z"
   },
   {
    "duration": 227,
    "start_time": "2021-07-07T10:12:33.078Z"
   },
   {
    "duration": 153,
    "start_time": "2021-07-07T10:13:42.146Z"
   },
   {
    "duration": 233,
    "start_time": "2021-07-07T10:30:09.252Z"
   },
   {
    "duration": 19,
    "start_time": "2021-07-07T10:30:15.577Z"
   },
   {
    "duration": 18,
    "start_time": "2021-07-07T10:30:57.348Z"
   },
   {
    "duration": 19,
    "start_time": "2021-07-07T10:31:17.452Z"
   },
   {
    "duration": 21,
    "start_time": "2021-07-07T10:31:32.227Z"
   },
   {
    "duration": 27,
    "start_time": "2021-07-07T10:32:06.588Z"
   },
   {
    "duration": 23,
    "start_time": "2021-07-07T10:32:43.645Z"
   },
   {
    "duration": 24,
    "start_time": "2021-07-07T10:33:06.948Z"
   },
   {
    "duration": 7,
    "start_time": "2021-07-07T10:33:28.558Z"
   },
   {
    "duration": 23,
    "start_time": "2021-07-07T10:33:43.761Z"
   },
   {
    "duration": 28,
    "start_time": "2021-07-07T10:34:13.466Z"
   },
   {
    "duration": 23,
    "start_time": "2021-07-07T10:35:56.187Z"
   },
   {
    "duration": 6,
    "start_time": "2021-07-07T10:36:48.182Z"
   },
   {
    "duration": 14,
    "start_time": "2021-07-07T10:37:49.641Z"
   },
   {
    "duration": 6,
    "start_time": "2021-07-07T10:38:06.694Z"
   },
   {
    "duration": 6,
    "start_time": "2021-07-07T10:38:13.493Z"
   },
   {
    "duration": 19,
    "start_time": "2021-07-07T10:38:44.056Z"
   },
   {
    "duration": 186,
    "start_time": "2021-07-07T10:48:35.618Z"
   },
   {
    "duration": 24,
    "start_time": "2021-07-07T10:48:51.498Z"
   },
   {
    "duration": 20,
    "start_time": "2021-07-07T10:48:59.415Z"
   },
   {
    "duration": 20,
    "start_time": "2021-07-07T10:53:02.195Z"
   },
   {
    "duration": 188,
    "start_time": "2021-07-07T10:54:40.486Z"
   },
   {
    "duration": 115,
    "start_time": "2021-07-07T10:54:52.552Z"
   },
   {
    "duration": 214,
    "start_time": "2021-07-07T10:54:56.354Z"
   },
   {
    "duration": 47,
    "start_time": "2021-07-07T10:54:58.282Z"
   },
   {
    "duration": 217,
    "start_time": "2021-07-07T10:59:16.075Z"
   },
   {
    "duration": 51,
    "start_time": "2021-07-07T10:59:16.243Z"
   },
   {
    "duration": 578,
    "start_time": "2021-07-07T10:59:18.774Z"
   },
   {
    "duration": 161,
    "start_time": "2021-07-07T10:59:21.238Z"
   },
   {
    "duration": 59,
    "start_time": "2021-07-07T10:59:21.453Z"
   },
   {
    "duration": 3,
    "start_time": "2021-07-07T11:02:10.786Z"
   },
   {
    "duration": 13,
    "start_time": "2021-07-07T11:07:07.722Z"
   },
   {
    "duration": 26,
    "start_time": "2021-07-07T11:07:17.958Z"
   },
   {
    "duration": 22,
    "start_time": "2021-07-07T11:08:17.939Z"
   },
   {
    "duration": 212,
    "start_time": "2021-07-07T11:08:19.665Z"
   },
   {
    "duration": 21,
    "start_time": "2021-07-07T11:08:29.945Z"
   },
   {
    "duration": 31,
    "start_time": "2021-07-07T11:08:38.899Z"
   },
   {
    "duration": 23,
    "start_time": "2021-07-07T11:08:54.527Z"
   },
   {
    "duration": 8,
    "start_time": "2021-07-07T11:18:55.974Z"
   },
   {
    "duration": 7,
    "start_time": "2021-07-07T11:19:03.639Z"
   },
   {
    "duration": 7,
    "start_time": "2021-07-07T11:19:06.444Z"
   },
   {
    "duration": 578,
    "start_time": "2021-07-07T12:09:59.576Z"
   },
   {
    "duration": 195,
    "start_time": "2021-07-07T12:10:00.156Z"
   },
   {
    "duration": 115,
    "start_time": "2021-07-07T12:10:00.353Z"
   },
   {
    "duration": 3,
    "start_time": "2021-07-07T12:10:00.470Z"
   },
   {
    "duration": 32,
    "start_time": "2021-07-07T12:10:00.474Z"
   },
   {
    "duration": 23,
    "start_time": "2021-07-07T12:10:00.508Z"
   },
   {
    "duration": 19,
    "start_time": "2021-07-07T12:10:00.533Z"
   },
   {
    "duration": 44,
    "start_time": "2021-07-07T12:10:00.553Z"
   },
   {
    "duration": 7,
    "start_time": "2021-07-07T12:10:00.600Z"
   },
   {
    "duration": 7,
    "start_time": "2021-07-07T12:19:45.761Z"
   },
   {
    "duration": 21,
    "start_time": "2021-07-07T12:21:35.482Z"
   },
   {
    "duration": 21,
    "start_time": "2021-07-07T12:29:23.569Z"
   },
   {
    "duration": 525,
    "start_time": "2021-07-07T12:29:44.542Z"
   },
   {
    "duration": 214,
    "start_time": "2021-07-07T12:29:45.069Z"
   },
   {
    "duration": 92,
    "start_time": "2021-07-07T12:29:45.285Z"
   },
   {
    "duration": 3,
    "start_time": "2021-07-07T12:29:45.379Z"
   },
   {
    "duration": 28,
    "start_time": "2021-07-07T12:29:45.384Z"
   },
   {
    "duration": 23,
    "start_time": "2021-07-07T12:29:45.413Z"
   },
   {
    "duration": 21,
    "start_time": "2021-07-07T12:29:45.437Z"
   },
   {
    "duration": 41,
    "start_time": "2021-07-07T12:29:45.460Z"
   },
   {
    "duration": 7,
    "start_time": "2021-07-07T12:29:45.502Z"
   },
   {
    "duration": 20,
    "start_time": "2021-07-07T12:29:45.511Z"
   },
   {
    "duration": 12,
    "start_time": "2021-07-07T12:34:02.800Z"
   },
   {
    "duration": 7,
    "start_time": "2021-07-07T12:35:10.479Z"
   },
   {
    "duration": 8,
    "start_time": "2021-07-07T12:35:22.440Z"
   },
   {
    "duration": 6,
    "start_time": "2021-07-07T12:35:35.649Z"
   },
   {
    "duration": 6,
    "start_time": "2021-07-07T12:35:43.107Z"
   },
   {
    "duration": 22,
    "start_time": "2021-07-07T12:38:03.029Z"
   },
   {
    "duration": 10,
    "start_time": "2021-07-07T12:38:06.592Z"
   },
   {
    "duration": 563,
    "start_time": "2021-07-07T12:38:46.493Z"
   },
   {
    "duration": 265,
    "start_time": "2021-07-07T12:38:47.058Z"
   },
   {
    "duration": 94,
    "start_time": "2021-07-07T12:38:47.325Z"
   },
   {
    "duration": 3,
    "start_time": "2021-07-07T12:38:47.422Z"
   },
   {
    "duration": 30,
    "start_time": "2021-07-07T12:38:47.427Z"
   },
   {
    "duration": 16,
    "start_time": "2021-07-07T12:38:53.305Z"
   },
   {
    "duration": 10,
    "start_time": "2021-07-07T12:38:53.499Z"
   },
   {
    "duration": 8,
    "start_time": "2021-07-07T12:39:48.161Z"
   },
   {
    "duration": 27,
    "start_time": "2021-07-07T12:41:17.629Z"
   },
   {
    "duration": 17,
    "start_time": "2021-07-07T12:41:17.867Z"
   },
   {
    "duration": 21,
    "start_time": "2021-07-07T12:41:19.310Z"
   },
   {
    "duration": 7,
    "start_time": "2021-07-07T12:41:19.544Z"
   },
   {
    "duration": 20,
    "start_time": "2021-07-07T12:41:20.504Z"
   },
   {
    "duration": 554,
    "start_time": "2021-07-07T12:56:23.696Z"
   },
   {
    "duration": 200,
    "start_time": "2021-07-07T12:56:25.234Z"
   },
   {
    "duration": 119,
    "start_time": "2021-07-07T12:56:25.480Z"
   },
   {
    "duration": 4,
    "start_time": "2021-07-07T12:56:25.762Z"
   },
   {
    "duration": 26,
    "start_time": "2021-07-07T12:56:27.172Z"
   },
   {
    "duration": 12,
    "start_time": "2021-07-07T12:56:29.051Z"
   },
   {
    "duration": 10,
    "start_time": "2021-07-07T12:56:29.291Z"
   },
   {
    "duration": 8,
    "start_time": "2021-07-07T12:56:29.623Z"
   },
   {
    "duration": 28,
    "start_time": "2021-07-07T12:56:32.137Z"
   },
   {
    "duration": 19,
    "start_time": "2021-07-07T12:56:39.785Z"
   },
   {
    "duration": 20,
    "start_time": "2021-07-07T12:56:44.297Z"
   },
   {
    "duration": 7,
    "start_time": "2021-07-07T12:56:45.392Z"
   },
   {
    "duration": 23,
    "start_time": "2021-07-07T12:56:46.615Z"
   },
   {
    "duration": 4,
    "start_time": "2021-07-07T12:57:06.625Z"
   },
   {
    "duration": 32,
    "start_time": "2021-07-07T12:57:36.690Z"
   },
   {
    "duration": 18,
    "start_time": "2021-07-07T12:58:00.149Z"
   },
   {
    "duration": 15,
    "start_time": "2021-07-07T12:59:16.793Z"
   },
   {
    "duration": 7,
    "start_time": "2021-07-07T13:19:22.624Z"
   },
   {
    "duration": 6,
    "start_time": "2021-07-07T14:17:33.527Z"
   },
   {
    "duration": 9,
    "start_time": "2021-07-07T14:17:48.409Z"
   },
   {
    "duration": 8,
    "start_time": "2021-07-07T14:20:13.060Z"
   },
   {
    "duration": 8,
    "start_time": "2021-07-07T14:20:37.957Z"
   },
   {
    "duration": 8,
    "start_time": "2021-07-07T14:20:47.470Z"
   },
   {
    "duration": 9,
    "start_time": "2021-07-07T14:20:54.503Z"
   },
   {
    "duration": 10,
    "start_time": "2021-07-07T14:28:57.763Z"
   },
   {
    "duration": 3,
    "start_time": "2021-07-07T14:30:23.377Z"
   },
   {
    "duration": 3,
    "start_time": "2021-07-07T14:30:36.489Z"
   },
   {
    "duration": 103,
    "start_time": "2021-07-07T14:30:52.351Z"
   },
   {
    "duration": 8,
    "start_time": "2021-07-07T14:30:54.763Z"
   },
   {
    "duration": 8,
    "start_time": "2021-07-07T14:31:29.301Z"
   },
   {
    "duration": 13,
    "start_time": "2021-07-07T14:31:44.516Z"
   },
   {
    "duration": 7,
    "start_time": "2021-07-07T14:33:10.972Z"
   },
   {
    "duration": 11,
    "start_time": "2021-07-07T14:33:27.780Z"
   },
   {
    "duration": 8,
    "start_time": "2021-07-07T14:34:44.588Z"
   },
   {
    "duration": 57,
    "start_time": "2021-07-07T14:35:59.042Z"
   },
   {
    "duration": 3,
    "start_time": "2021-07-07T14:36:28.168Z"
   },
   {
    "duration": 5,
    "start_time": "2021-07-07T14:36:46.254Z"
   },
   {
    "duration": 4,
    "start_time": "2021-07-07T14:36:52.714Z"
   },
   {
    "duration": 3,
    "start_time": "2021-07-07T14:36:56.612Z"
   },
   {
    "duration": 4,
    "start_time": "2021-07-07T14:36:57.049Z"
   },
   {
    "duration": 3,
    "start_time": "2021-07-07T14:39:21.214Z"
   },
   {
    "duration": 7,
    "start_time": "2021-07-07T14:39:52.406Z"
   },
   {
    "duration": 11,
    "start_time": "2021-07-07T14:39:58.576Z"
   },
   {
    "duration": 9,
    "start_time": "2021-07-07T14:40:26.301Z"
   },
   {
    "duration": 10,
    "start_time": "2021-07-07T14:40:31.704Z"
   },
   {
    "duration": 11,
    "start_time": "2021-07-07T14:40:36.249Z"
   },
   {
    "duration": 10,
    "start_time": "2021-07-07T14:40:39.783Z"
   },
   {
    "duration": 9,
    "start_time": "2021-07-07T14:40:48.558Z"
   },
   {
    "duration": 10,
    "start_time": "2021-07-07T14:40:57.143Z"
   },
   {
    "duration": 9,
    "start_time": "2021-07-07T14:41:06.074Z"
   },
   {
    "duration": 4324,
    "start_time": "2021-07-07T14:41:22.004Z"
   },
   {
    "duration": 11,
    "start_time": "2021-07-07T14:41:33.392Z"
   },
   {
    "duration": 9,
    "start_time": "2021-07-07T14:41:39.288Z"
   },
   {
    "duration": 569,
    "start_time": "2021-07-07T14:42:14.387Z"
   },
   {
    "duration": 197,
    "start_time": "2021-07-07T14:42:14.959Z"
   },
   {
    "duration": 84,
    "start_time": "2021-07-07T14:42:16.052Z"
   },
   {
    "duration": 4,
    "start_time": "2021-07-07T14:42:16.900Z"
   },
   {
    "duration": 27,
    "start_time": "2021-07-07T14:42:19.898Z"
   },
   {
    "duration": 12,
    "start_time": "2021-07-07T14:42:21.577Z"
   },
   {
    "duration": 9,
    "start_time": "2021-07-07T14:42:21.813Z"
   },
   {
    "duration": 9,
    "start_time": "2021-07-07T14:42:22.569Z"
   },
   {
    "duration": 29,
    "start_time": "2021-07-07T14:42:25.837Z"
   },
   {
    "duration": 20,
    "start_time": "2021-07-07T14:42:27.003Z"
   },
   {
    "duration": 21,
    "start_time": "2021-07-07T14:42:28.767Z"
   },
   {
    "duration": 7,
    "start_time": "2021-07-07T14:42:29.838Z"
   },
   {
    "duration": 4,
    "start_time": "2021-07-07T14:43:25.493Z"
   },
   {
    "duration": 7,
    "start_time": "2021-07-07T14:43:26.573Z"
   },
   {
    "duration": 10,
    "start_time": "2021-07-07T14:43:31.639Z"
   },
   {
    "duration": 9,
    "start_time": "2021-07-07T14:43:32.046Z"
   },
   {
    "duration": 10,
    "start_time": "2021-07-07T14:43:33.301Z"
   },
   {
    "duration": 12,
    "start_time": "2021-07-07T14:43:33.658Z"
   },
   {
    "duration": 8,
    "start_time": "2021-07-07T14:43:34.552Z"
   },
   {
    "duration": 9,
    "start_time": "2021-07-07T14:43:35.058Z"
   },
   {
    "duration": 12,
    "start_time": "2021-07-07T14:43:35.914Z"
   },
   {
    "duration": 17,
    "start_time": "2021-07-07T14:45:34.368Z"
   },
   {
    "duration": 512,
    "start_time": "2021-07-07T14:51:58.236Z"
   },
   {
    "duration": 223,
    "start_time": "2021-07-07T14:51:58.750Z"
   },
   {
    "duration": 93,
    "start_time": "2021-07-07T14:51:58.977Z"
   },
   {
    "duration": 4,
    "start_time": "2021-07-07T14:51:59.071Z"
   },
   {
    "duration": 37,
    "start_time": "2021-07-07T14:51:59.077Z"
   },
   {
    "duration": 18,
    "start_time": "2021-07-07T14:51:59.116Z"
   },
   {
    "duration": 10,
    "start_time": "2021-07-07T14:51:59.137Z"
   },
   {
    "duration": 8,
    "start_time": "2021-07-07T14:51:59.149Z"
   },
   {
    "duration": 54,
    "start_time": "2021-07-07T14:51:59.158Z"
   },
   {
    "duration": 18,
    "start_time": "2021-07-07T14:51:59.213Z"
   },
   {
    "duration": 22,
    "start_time": "2021-07-07T14:51:59.232Z"
   },
   {
    "duration": 36,
    "start_time": "2021-07-07T14:51:59.255Z"
   },
   {
    "duration": 7,
    "start_time": "2021-07-07T14:51:59.293Z"
   },
   {
    "duration": 10,
    "start_time": "2021-07-07T14:51:59.302Z"
   },
   {
    "duration": 9,
    "start_time": "2021-07-07T14:51:59.313Z"
   },
   {
    "duration": 11,
    "start_time": "2021-07-07T14:51:59.324Z"
   },
   {
    "duration": 8,
    "start_time": "2021-07-07T14:51:59.337Z"
   },
   {
    "duration": 46,
    "start_time": "2021-07-07T14:51:59.347Z"
   },
   {
    "duration": 22,
    "start_time": "2021-07-07T14:51:59.395Z"
   },
   {
    "duration": 24,
    "start_time": "2021-07-07T14:57:32.911Z"
   },
   {
    "duration": 7,
    "start_time": "2021-07-07T14:58:22.070Z"
   },
   {
    "duration": 4,
    "start_time": "2021-07-07T14:59:11.239Z"
   },
   {
    "duration": 25,
    "start_time": "2021-07-07T15:07:22.208Z"
   },
   {
    "duration": 16,
    "start_time": "2021-07-07T15:08:25.560Z"
   },
   {
    "duration": 15,
    "start_time": "2021-07-07T15:08:40.647Z"
   },
   {
    "duration": 14,
    "start_time": "2021-07-07T15:08:46.669Z"
   },
   {
    "duration": 533,
    "start_time": "2021-07-07T15:18:07.440Z"
   },
   {
    "duration": 173,
    "start_time": "2021-07-07T15:18:07.974Z"
   },
   {
    "duration": 84,
    "start_time": "2021-07-07T15:18:08.149Z"
   },
   {
    "duration": 3,
    "start_time": "2021-07-07T15:18:08.235Z"
   },
   {
    "duration": 30,
    "start_time": "2021-07-07T15:18:08.240Z"
   },
   {
    "duration": 22,
    "start_time": "2021-07-07T15:18:08.272Z"
   },
   {
    "duration": 11,
    "start_time": "2021-07-07T15:18:08.295Z"
   },
   {
    "duration": 11,
    "start_time": "2021-07-07T15:18:08.309Z"
   },
   {
    "duration": 40,
    "start_time": "2021-07-07T15:18:08.322Z"
   },
   {
    "duration": 42,
    "start_time": "2021-07-07T15:18:08.364Z"
   },
   {
    "duration": 22,
    "start_time": "2021-07-07T15:18:08.408Z"
   },
   {
    "duration": 5,
    "start_time": "2021-07-07T15:18:08.432Z"
   },
   {
    "duration": 13,
    "start_time": "2021-07-07T15:18:08.439Z"
   },
   {
    "duration": 9,
    "start_time": "2021-07-07T15:18:08.454Z"
   },
   {
    "duration": 32,
    "start_time": "2021-07-07T15:18:08.465Z"
   },
   {
    "duration": 10,
    "start_time": "2021-07-07T15:18:08.501Z"
   },
   {
    "duration": 7,
    "start_time": "2021-07-07T15:18:08.513Z"
   },
   {
    "duration": 11,
    "start_time": "2021-07-07T15:18:08.521Z"
   },
   {
    "duration": 17,
    "start_time": "2021-07-07T15:18:08.534Z"
   },
   {
    "duration": 44,
    "start_time": "2021-07-07T15:18:08.553Z"
   },
   {
    "duration": 22,
    "start_time": "2021-07-07T15:18:08.599Z"
   },
   {
    "duration": 61,
    "start_time": "2021-07-07T15:18:08.622Z"
   },
   {
    "duration": 7,
    "start_time": "2021-07-07T15:18:39.457Z"
   },
   {
    "duration": 5,
    "start_time": "2021-07-07T16:05:17.020Z"
   },
   {
    "duration": 5,
    "start_time": "2021-07-07T16:51:28.794Z"
   },
   {
    "duration": 546,
    "start_time": "2021-07-07T16:52:26.306Z"
   },
   {
    "duration": 203,
    "start_time": "2021-07-07T16:52:27.523Z"
   },
   {
    "duration": 85,
    "start_time": "2021-07-07T16:52:27.736Z"
   },
   {
    "duration": 4,
    "start_time": "2021-07-07T16:52:27.899Z"
   },
   {
    "duration": 25,
    "start_time": "2021-07-07T16:52:28.674Z"
   },
   {
    "duration": 8,
    "start_time": "2021-07-07T16:52:32.956Z"
   },
   {
    "duration": 18,
    "start_time": "2021-07-07T16:52:35.616Z"
   },
   {
    "duration": 6,
    "start_time": "2021-07-07T16:52:36.913Z"
   },
   {
    "duration": 11,
    "start_time": "2021-07-07T16:52:40.258Z"
   },
   {
    "duration": 10,
    "start_time": "2021-07-07T16:52:46.251Z"
   },
   {
    "duration": 8,
    "start_time": "2021-07-07T16:52:47.182Z"
   },
   {
    "duration": 27,
    "start_time": "2021-07-07T16:53:20.391Z"
   },
   {
    "duration": 20,
    "start_time": "2021-07-07T16:53:22.022Z"
   },
   {
    "duration": 23,
    "start_time": "2021-07-07T16:53:23.690Z"
   },
   {
    "duration": 8,
    "start_time": "2021-07-07T16:53:24.261Z"
   },
   {
    "duration": 4,
    "start_time": "2021-07-07T16:53:38.733Z"
   },
   {
    "duration": 7,
    "start_time": "2021-07-07T16:53:40.445Z"
   },
   {
    "duration": 11,
    "start_time": "2021-07-07T16:53:41.348Z"
   },
   {
    "duration": 13,
    "start_time": "2021-07-07T16:53:45.250Z"
   },
   {
    "duration": 12,
    "start_time": "2021-07-07T16:53:45.467Z"
   },
   {
    "duration": 4,
    "start_time": "2021-07-07T16:55:32.704Z"
   },
   {
    "duration": 12,
    "start_time": "2021-07-07T16:55:49.012Z"
   },
   {
    "duration": 18,
    "start_time": "2021-07-07T16:55:49.547Z"
   },
   {
    "duration": 611,
    "start_time": "2021-07-07T16:58:35.156Z"
   },
   {
    "duration": 200,
    "start_time": "2021-07-07T16:58:35.770Z"
   },
   {
    "duration": 86,
    "start_time": "2021-07-07T16:58:35.972Z"
   },
   {
    "duration": 3,
    "start_time": "2021-07-07T16:58:36.060Z"
   },
   {
    "duration": 27,
    "start_time": "2021-07-07T16:58:36.065Z"
   },
   {
    "duration": 8,
    "start_time": "2021-07-07T16:58:36.094Z"
   },
   {
    "duration": 17,
    "start_time": "2021-07-07T16:58:36.103Z"
   },
   {
    "duration": 5,
    "start_time": "2021-07-07T16:58:36.123Z"
   },
   {
    "duration": 11,
    "start_time": "2021-07-07T16:58:36.130Z"
   },
   {
    "duration": 7,
    "start_time": "2021-07-07T16:58:36.143Z"
   },
   {
    "duration": 37,
    "start_time": "2021-07-07T16:58:36.152Z"
   },
   {
    "duration": 27,
    "start_time": "2021-07-07T16:58:36.191Z"
   },
   {
    "duration": 19,
    "start_time": "2021-07-07T16:58:36.219Z"
   },
   {
    "duration": 49,
    "start_time": "2021-07-07T16:58:36.240Z"
   },
   {
    "duration": 6,
    "start_time": "2021-07-07T16:58:36.291Z"
   },
   {
    "duration": 3,
    "start_time": "2021-07-07T16:58:36.299Z"
   },
   {
    "duration": 13,
    "start_time": "2021-07-07T16:58:36.304Z"
   },
   {
    "duration": 10,
    "start_time": "2021-07-07T16:58:36.319Z"
   },
   {
    "duration": 10,
    "start_time": "2021-07-07T16:58:36.331Z"
   },
   {
    "duration": 44,
    "start_time": "2021-07-07T16:58:36.343Z"
   },
   {
    "duration": 4,
    "start_time": "2021-07-07T16:58:36.388Z"
   },
   {
    "duration": 13,
    "start_time": "2021-07-07T16:58:36.394Z"
   },
   {
    "duration": 16,
    "start_time": "2021-07-07T16:58:36.410Z"
   },
   {
    "duration": 8,
    "start_time": "2021-07-07T17:02:31.629Z"
   },
   {
    "duration": 8,
    "start_time": "2021-07-07T17:02:34.308Z"
   },
   {
    "duration": 6,
    "start_time": "2021-07-07T17:05:13.483Z"
   },
   {
    "duration": 17,
    "start_time": "2021-07-07T17:05:20.606Z"
   },
   {
    "duration": 7,
    "start_time": "2021-07-07T17:05:34.638Z"
   },
   {
    "duration": 3,
    "start_time": "2021-07-07T17:06:31.883Z"
   },
   {
    "duration": 570,
    "start_time": "2021-07-07T17:06:37.165Z"
   },
   {
    "duration": 174,
    "start_time": "2021-07-07T17:06:37.737Z"
   },
   {
    "duration": 47,
    "start_time": "2021-07-07T17:06:37.913Z"
   },
   {
    "duration": 3,
    "start_time": "2021-07-07T17:06:37.962Z"
   },
   {
    "duration": 27,
    "start_time": "2021-07-07T17:06:37.967Z"
   },
   {
    "duration": 7,
    "start_time": "2021-07-07T17:06:37.996Z"
   },
   {
    "duration": 16,
    "start_time": "2021-07-07T17:06:38.005Z"
   },
   {
    "duration": 6,
    "start_time": "2021-07-07T17:06:38.024Z"
   },
   {
    "duration": 12,
    "start_time": "2021-07-07T17:06:38.031Z"
   },
   {
    "duration": 41,
    "start_time": "2021-07-07T17:06:38.045Z"
   },
   {
    "duration": 8,
    "start_time": "2021-07-07T17:06:38.088Z"
   },
   {
    "duration": 26,
    "start_time": "2021-07-07T17:06:38.098Z"
   },
   {
    "duration": 17,
    "start_time": "2021-07-07T17:06:38.126Z"
   },
   {
    "duration": 43,
    "start_time": "2021-07-07T17:06:38.144Z"
   },
   {
    "duration": 6,
    "start_time": "2021-07-07T17:06:38.188Z"
   },
   {
    "duration": 5,
    "start_time": "2021-07-07T17:06:38.195Z"
   },
   {
    "duration": 9,
    "start_time": "2021-07-07T17:06:38.201Z"
   },
   {
    "duration": 12,
    "start_time": "2021-07-07T17:06:38.212Z"
   },
   {
    "duration": 11,
    "start_time": "2021-07-07T17:06:38.226Z"
   },
   {
    "duration": 47,
    "start_time": "2021-07-07T17:06:38.239Z"
   },
   {
    "duration": 4,
    "start_time": "2021-07-07T17:06:38.288Z"
   },
   {
    "duration": 13,
    "start_time": "2021-07-07T17:06:38.293Z"
   },
   {
    "duration": 5,
    "start_time": "2021-07-07T17:06:38.309Z"
   },
   {
    "duration": 18,
    "start_time": "2021-07-07T17:06:38.325Z"
   },
   {
    "duration": 20,
    "start_time": "2021-07-07T17:07:02.805Z"
   },
   {
    "duration": 19,
    "start_time": "2021-07-07T17:07:08.527Z"
   },
   {
    "duration": 19,
    "start_time": "2021-07-07T17:07:12.758Z"
   },
   {
    "duration": 22,
    "start_time": "2021-07-07T17:07:17.497Z"
   },
   {
    "duration": 19,
    "start_time": "2021-07-07T17:07:19.645Z"
   },
   {
    "duration": 10,
    "start_time": "2021-07-07T17:07:34.239Z"
   },
   {
    "duration": 17,
    "start_time": "2021-07-07T17:07:54.144Z"
   },
   {
    "duration": 14,
    "start_time": "2021-07-07T17:08:14.357Z"
   },
   {
    "duration": 616,
    "start_time": "2021-07-07T17:08:45.254Z"
   },
   {
    "duration": 178,
    "start_time": "2021-07-07T17:08:45.872Z"
   },
   {
    "duration": 60,
    "start_time": "2021-07-07T17:08:46.054Z"
   },
   {
    "duration": 3,
    "start_time": "2021-07-07T17:08:46.116Z"
   },
   {
    "duration": 26,
    "start_time": "2021-07-07T17:08:46.121Z"
   },
   {
    "duration": 7,
    "start_time": "2021-07-07T17:08:46.149Z"
   },
   {
    "duration": 17,
    "start_time": "2021-07-07T17:08:46.158Z"
   },
   {
    "duration": 14,
    "start_time": "2021-07-07T17:08:46.176Z"
   },
   {
    "duration": 17,
    "start_time": "2021-07-07T17:08:46.193Z"
   },
   {
    "duration": 9,
    "start_time": "2021-07-07T17:08:46.211Z"
   },
   {
    "duration": 21,
    "start_time": "2021-07-07T17:08:46.221Z"
   },
   {
    "duration": 49,
    "start_time": "2021-07-07T17:08:46.244Z"
   },
   {
    "duration": 24,
    "start_time": "2021-07-07T17:08:46.295Z"
   },
   {
    "duration": 22,
    "start_time": "2021-07-07T17:08:46.321Z"
   },
   {
    "duration": 6,
    "start_time": "2021-07-07T17:08:46.345Z"
   },
   {
    "duration": 5,
    "start_time": "2021-07-07T17:08:46.353Z"
   },
   {
    "duration": 13,
    "start_time": "2021-07-07T17:08:46.386Z"
   },
   {
    "duration": 12,
    "start_time": "2021-07-07T17:08:46.402Z"
   },
   {
    "duration": 10,
    "start_time": "2021-07-07T17:08:46.415Z"
   },
   {
    "duration": 7,
    "start_time": "2021-07-07T17:08:46.427Z"
   },
   {
    "duration": 8,
    "start_time": "2021-07-07T17:08:46.435Z"
   },
   {
    "duration": 68,
    "start_time": "2021-07-07T17:08:46.446Z"
   },
   {
    "duration": 13,
    "start_time": "2021-07-07T17:08:46.516Z"
   },
   {
    "duration": 78,
    "start_time": "2021-07-07T17:08:46.530Z"
   },
   {
    "duration": 40,
    "start_time": "2021-07-07T17:09:08.185Z"
   },
   {
    "duration": 16,
    "start_time": "2021-07-07T17:09:19.324Z"
   },
   {
    "duration": 21,
    "start_time": "2021-07-07T17:09:23.290Z"
   },
   {
    "duration": 13,
    "start_time": "2021-07-07T17:09:54.812Z"
   },
   {
    "duration": 13,
    "start_time": "2021-07-07T17:10:02.039Z"
   },
   {
    "duration": 10,
    "start_time": "2021-07-07T17:10:29.632Z"
   },
   {
    "duration": 13,
    "start_time": "2021-07-07T17:10:52.372Z"
   },
   {
    "duration": 13,
    "start_time": "2021-07-07T17:11:17.270Z"
   },
   {
    "duration": 13,
    "start_time": "2021-07-07T17:14:59.284Z"
   },
   {
    "duration": 547,
    "start_time": "2021-07-07T17:18:52.403Z"
   },
   {
    "duration": 163,
    "start_time": "2021-07-07T17:18:52.952Z"
   },
   {
    "duration": 44,
    "start_time": "2021-07-07T17:18:53.117Z"
   },
   {
    "duration": 3,
    "start_time": "2021-07-07T17:18:53.162Z"
   },
   {
    "duration": 26,
    "start_time": "2021-07-07T17:18:53.167Z"
   },
   {
    "duration": 6,
    "start_time": "2021-07-07T17:18:53.195Z"
   },
   {
    "duration": 15,
    "start_time": "2021-07-07T17:18:53.203Z"
   },
   {
    "duration": 5,
    "start_time": "2021-07-07T17:18:53.220Z"
   },
   {
    "duration": 11,
    "start_time": "2021-07-07T17:18:53.228Z"
   },
   {
    "duration": 9,
    "start_time": "2021-07-07T17:18:53.241Z"
   },
   {
    "duration": 41,
    "start_time": "2021-07-07T17:18:53.252Z"
   },
   {
    "duration": 33,
    "start_time": "2021-07-07T17:18:53.295Z"
   },
   {
    "duration": 19,
    "start_time": "2021-07-07T17:18:53.330Z"
   },
   {
    "duration": 49,
    "start_time": "2021-07-07T17:18:53.350Z"
   },
   {
    "duration": 5,
    "start_time": "2021-07-07T17:18:53.401Z"
   },
   {
    "duration": 5,
    "start_time": "2021-07-07T17:18:53.408Z"
   },
   {
    "duration": 11,
    "start_time": "2021-07-07T17:18:53.414Z"
   },
   {
    "duration": 9,
    "start_time": "2021-07-07T17:18:53.427Z"
   },
   {
    "duration": 10,
    "start_time": "2021-07-07T17:18:53.437Z"
   },
   {
    "duration": 39,
    "start_time": "2021-07-07T17:18:53.448Z"
   },
   {
    "duration": 26,
    "start_time": "2021-07-07T17:18:55.799Z"
   },
   {
    "duration": 598,
    "start_time": "2021-07-07T17:20:17.862Z"
   },
   {
    "duration": 161,
    "start_time": "2021-07-07T17:20:18.462Z"
   },
   {
    "duration": 45,
    "start_time": "2021-07-07T17:20:18.626Z"
   },
   {
    "duration": 4,
    "start_time": "2021-07-07T17:20:18.673Z"
   },
   {
    "duration": 38,
    "start_time": "2021-07-07T17:20:26.877Z"
   },
   {
    "duration": 7,
    "start_time": "2021-07-07T17:20:37.405Z"
   },
   {
    "duration": 19,
    "start_time": "2021-07-07T17:20:51.534Z"
   },
   {
    "duration": 5,
    "start_time": "2021-07-07T17:20:57.228Z"
   },
   {
    "duration": 7,
    "start_time": "2021-07-07T17:21:08.235Z"
   },
   {
    "duration": 19,
    "start_time": "2021-07-07T17:21:42.158Z"
   },
   {
    "duration": 14,
    "start_time": "2021-07-07T17:21:50.225Z"
   },
   {
    "duration": 22,
    "start_time": "2021-07-07T17:22:54.104Z"
   },
   {
    "duration": 5,
    "start_time": "2021-07-07T17:22:56.371Z"
   },
   {
    "duration": 14,
    "start_time": "2021-07-07T17:22:58.316Z"
   },
   {
    "duration": 5,
    "start_time": "2021-07-07T17:22:58.493Z"
   },
   {
    "duration": 35,
    "start_time": "2021-07-07T17:22:59.666Z"
   },
   {
    "duration": 6,
    "start_time": "2021-07-07T17:23:02.410Z"
   },
   {
    "duration": 611,
    "start_time": "2021-07-07T17:24:59.664Z"
   },
   {
    "duration": 178,
    "start_time": "2021-07-07T17:25:01.945Z"
   },
   {
    "duration": 47,
    "start_time": "2021-07-07T17:25:02.125Z"
   },
   {
    "duration": 2,
    "start_time": "2021-07-07T17:25:07.903Z"
   },
   {
    "duration": 254,
    "start_time": "2021-07-07T17:25:08.232Z"
   },
   {
    "duration": 182,
    "start_time": "2021-07-07T17:25:08.671Z"
   },
   {
    "duration": 6,
    "start_time": "2021-07-07T17:25:13.104Z"
   },
   {
    "duration": 36,
    "start_time": "2021-07-07T17:25:13.662Z"
   },
   {
    "duration": 7,
    "start_time": "2021-07-07T17:25:14.528Z"
   },
   {
    "duration": 24,
    "start_time": "2021-07-07T17:25:27.982Z"
   },
   {
    "duration": 3,
    "start_time": "2021-07-07T17:25:48.982Z"
   },
   {
    "duration": 165,
    "start_time": "2021-07-07T17:25:48.987Z"
   },
   {
    "duration": 50,
    "start_time": "2021-07-07T17:25:49.154Z"
   },
   {
    "duration": 4,
    "start_time": "2021-07-07T17:25:49.206Z"
   },
   {
    "duration": 26,
    "start_time": "2021-07-07T17:25:49.212Z"
   },
   {
    "duration": 7,
    "start_time": "2021-07-07T17:25:49.240Z"
   },
   {
    "duration": 16,
    "start_time": "2021-07-07T17:25:49.249Z"
   },
   {
    "duration": 22,
    "start_time": "2021-07-07T17:25:49.266Z"
   },
   {
    "duration": 16,
    "start_time": "2021-07-07T17:25:49.291Z"
   },
   {
    "duration": 9,
    "start_time": "2021-07-07T17:25:49.309Z"
   },
   {
    "duration": 7,
    "start_time": "2021-07-07T17:25:49.319Z"
   },
   {
    "duration": 28,
    "start_time": "2021-07-07T17:25:49.328Z"
   },
   {
    "duration": 44,
    "start_time": "2021-07-07T17:25:49.357Z"
   },
   {
    "duration": 22,
    "start_time": "2021-07-07T17:25:49.403Z"
   },
   {
    "duration": 7,
    "start_time": "2021-07-07T17:25:49.427Z"
   },
   {
    "duration": 3,
    "start_time": "2021-07-07T17:25:49.436Z"
   },
   {
    "duration": 44,
    "start_time": "2021-07-07T17:25:49.441Z"
   },
   {
    "duration": 12,
    "start_time": "2021-07-07T17:25:49.488Z"
   },
   {
    "duration": 13,
    "start_time": "2021-07-07T17:25:49.502Z"
   },
   {
    "duration": 10,
    "start_time": "2021-07-07T17:25:49.516Z"
   },
   {
    "duration": 62,
    "start_time": "2021-07-07T17:25:49.527Z"
   },
   {
    "duration": 26,
    "start_time": "2021-07-07T17:26:51.809Z"
   },
   {
    "duration": 26,
    "start_time": "2021-07-07T17:26:55.759Z"
   },
   {
    "duration": 26,
    "start_time": "2021-07-07T17:27:04.501Z"
   },
   {
    "duration": 25,
    "start_time": "2021-07-07T17:28:24.859Z"
   },
   {
    "duration": 21,
    "start_time": "2021-07-07T17:28:55.250Z"
   },
   {
    "duration": 21,
    "start_time": "2021-07-07T17:28:58.885Z"
   },
   {
    "duration": 7,
    "start_time": "2021-07-07T17:45:40.972Z"
   },
   {
    "duration": 13,
    "start_time": "2021-07-07T17:45:42.529Z"
   },
   {
    "duration": 27,
    "start_time": "2021-07-07T17:45:51.026Z"
   },
   {
    "duration": 518,
    "start_time": "2021-07-07T17:46:15.532Z"
   },
   {
    "duration": 235,
    "start_time": "2021-07-07T17:46:16.053Z"
   },
   {
    "duration": 80,
    "start_time": "2021-07-07T17:46:16.292Z"
   },
   {
    "duration": 5,
    "start_time": "2021-07-07T17:46:16.373Z"
   },
   {
    "duration": 26,
    "start_time": "2021-07-07T17:46:16.380Z"
   },
   {
    "duration": 7,
    "start_time": "2021-07-07T17:46:16.408Z"
   },
   {
    "duration": 16,
    "start_time": "2021-07-07T17:46:16.418Z"
   },
   {
    "duration": 5,
    "start_time": "2021-07-07T17:46:16.436Z"
   },
   {
    "duration": 13,
    "start_time": "2021-07-07T17:46:16.442Z"
   },
   {
    "duration": 35,
    "start_time": "2021-07-07T17:46:16.456Z"
   },
   {
    "duration": 8,
    "start_time": "2021-07-07T17:46:16.493Z"
   },
   {
    "duration": 28,
    "start_time": "2021-07-07T17:46:16.502Z"
   },
   {
    "duration": 17,
    "start_time": "2021-07-07T17:46:16.532Z"
   },
   {
    "duration": 44,
    "start_time": "2021-07-07T17:46:16.551Z"
   },
   {
    "duration": 6,
    "start_time": "2021-07-07T17:46:16.597Z"
   },
   {
    "duration": 4,
    "start_time": "2021-07-07T17:46:16.605Z"
   },
   {
    "duration": 9,
    "start_time": "2021-07-07T17:46:16.610Z"
   },
   {
    "duration": 9,
    "start_time": "2021-07-07T17:46:16.621Z"
   },
   {
    "duration": 10,
    "start_time": "2021-07-07T17:46:16.632Z"
   },
   {
    "duration": 43,
    "start_time": "2021-07-07T17:46:16.644Z"
   },
   {
    "duration": 26,
    "start_time": "2021-07-07T17:46:16.689Z"
   },
   {
    "duration": 19,
    "start_time": "2021-07-07T17:46:16.718Z"
   },
   {
    "duration": 8,
    "start_time": "2021-07-07T17:46:16.738Z"
   },
   {
    "duration": 43,
    "start_time": "2021-07-07T17:46:16.747Z"
   },
   {
    "duration": 19,
    "start_time": "2021-07-07T17:46:16.791Z"
   },
   {
    "duration": 9,
    "start_time": "2021-07-07T17:46:16.812Z"
   },
   {
    "duration": 60,
    "start_time": "2021-07-07T17:46:16.822Z"
   },
   {
    "duration": -8,
    "start_time": "2021-07-07T17:46:16.892Z"
   },
   {
    "duration": 12,
    "start_time": "2021-07-07T17:48:47.707Z"
   },
   {
    "duration": 553,
    "start_time": "2021-07-07T18:10:09.350Z"
   },
   {
    "duration": 230,
    "start_time": "2021-07-07T18:10:09.905Z"
   },
   {
    "duration": 97,
    "start_time": "2021-07-07T18:10:10.137Z"
   },
   {
    "duration": 5,
    "start_time": "2021-07-07T18:10:10.236Z"
   },
   {
    "duration": 29,
    "start_time": "2021-07-07T18:10:10.242Z"
   },
   {
    "duration": 7,
    "start_time": "2021-07-07T18:10:10.272Z"
   },
   {
    "duration": 15,
    "start_time": "2021-07-07T18:10:10.281Z"
   },
   {
    "duration": 4,
    "start_time": "2021-07-07T18:10:10.299Z"
   },
   {
    "duration": 14,
    "start_time": "2021-07-07T18:10:10.305Z"
   },
   {
    "duration": 8,
    "start_time": "2021-07-07T18:10:10.321Z"
   },
   {
    "duration": 8,
    "start_time": "2021-07-07T18:10:10.331Z"
   },
   {
    "duration": 56,
    "start_time": "2021-07-07T18:10:10.341Z"
   },
   {
    "duration": 19,
    "start_time": "2021-07-07T18:10:10.399Z"
   },
   {
    "duration": 23,
    "start_time": "2021-07-07T18:10:10.419Z"
   },
   {
    "duration": 6,
    "start_time": "2021-07-07T18:10:10.444Z"
   },
   {
    "duration": 9,
    "start_time": "2021-07-07T18:10:10.451Z"
   },
   {
    "duration": 30,
    "start_time": "2021-07-07T18:10:10.462Z"
   },
   {
    "duration": 9,
    "start_time": "2021-07-07T18:10:10.494Z"
   },
   {
    "duration": 14,
    "start_time": "2021-07-07T18:10:10.505Z"
   },
   {
    "duration": 7,
    "start_time": "2021-07-07T18:10:10.521Z"
   },
   {
    "duration": 26,
    "start_time": "2021-07-07T18:10:10.530Z"
   },
   {
    "duration": 44,
    "start_time": "2021-07-07T18:10:10.558Z"
   },
   {
    "duration": 7,
    "start_time": "2021-07-07T18:10:10.605Z"
   },
   {
    "duration": 11,
    "start_time": "2021-07-07T18:10:10.614Z"
   },
   {
    "duration": 19,
    "start_time": "2021-07-07T18:10:10.626Z"
   },
   {
    "duration": 44,
    "start_time": "2021-07-07T18:10:10.646Z"
   },
   {
    "duration": 516,
    "start_time": "2021-07-07T18:14:00.826Z"
   },
   {
    "duration": 230,
    "start_time": "2021-07-07T18:14:01.344Z"
   },
   {
    "duration": 105,
    "start_time": "2021-07-07T18:14:01.576Z"
   },
   {
    "duration": 5,
    "start_time": "2021-07-07T18:14:01.683Z"
   },
   {
    "duration": 46,
    "start_time": "2021-07-07T18:14:01.690Z"
   },
   {
    "duration": 7,
    "start_time": "2021-07-07T18:14:01.738Z"
   },
   {
    "duration": 20,
    "start_time": "2021-07-07T18:14:01.747Z"
   },
   {
    "duration": 16,
    "start_time": "2021-07-07T18:14:01.769Z"
   },
   {
    "duration": 14,
    "start_time": "2021-07-07T18:14:01.787Z"
   },
   {
    "duration": 15,
    "start_time": "2021-07-07T18:14:01.803Z"
   },
   {
    "duration": 12,
    "start_time": "2021-07-07T18:14:01.820Z"
   },
   {
    "duration": 35,
    "start_time": "2021-07-07T18:14:01.833Z"
   },
   {
    "duration": 31,
    "start_time": "2021-07-07T18:14:01.869Z"
   },
   {
    "duration": 37,
    "start_time": "2021-07-07T18:14:01.902Z"
   },
   {
    "duration": 8,
    "start_time": "2021-07-07T18:14:01.942Z"
   },
   {
    "duration": 16,
    "start_time": "2021-07-07T18:14:01.952Z"
   },
   {
    "duration": 13,
    "start_time": "2021-07-07T18:14:01.970Z"
   },
   {
    "duration": 32,
    "start_time": "2021-07-07T18:14:01.985Z"
   },
   {
    "duration": 11,
    "start_time": "2021-07-07T18:14:02.019Z"
   },
   {
    "duration": 22,
    "start_time": "2021-07-07T18:14:02.031Z"
   },
   {
    "duration": 27,
    "start_time": "2021-07-07T18:14:02.055Z"
   },
   {
    "duration": 18,
    "start_time": "2021-07-07T18:14:02.084Z"
   },
   {
    "duration": 18,
    "start_time": "2021-07-07T18:14:02.106Z"
   },
   {
    "duration": 11,
    "start_time": "2021-07-07T18:14:02.126Z"
   },
   {
    "duration": 21,
    "start_time": "2021-07-07T18:14:02.138Z"
   },
   {
    "duration": 32,
    "start_time": "2021-07-07T18:14:02.161Z"
   },
   {
    "duration": 28,
    "start_time": "2021-07-07T18:14:44.295Z"
   },
   {
    "duration": 6,
    "start_time": "2021-07-07T18:15:05.834Z"
   },
   {
    "duration": 511,
    "start_time": "2021-07-07T18:15:41.541Z"
   },
   {
    "duration": 183,
    "start_time": "2021-07-07T18:15:42.054Z"
   },
   {
    "duration": 50,
    "start_time": "2021-07-07T18:15:42.239Z"
   },
   {
    "duration": 5,
    "start_time": "2021-07-07T18:15:42.291Z"
   },
   {
    "duration": 48,
    "start_time": "2021-07-07T18:15:42.297Z"
   },
   {
    "duration": 8,
    "start_time": "2021-07-07T18:15:42.346Z"
   },
   {
    "duration": 17,
    "start_time": "2021-07-07T18:15:42.356Z"
   },
   {
    "duration": 15,
    "start_time": "2021-07-07T18:15:42.375Z"
   },
   {
    "duration": 12,
    "start_time": "2021-07-07T18:15:42.392Z"
   },
   {
    "duration": 7,
    "start_time": "2021-07-07T18:15:42.406Z"
   },
   {
    "duration": 7,
    "start_time": "2021-07-07T18:15:42.415Z"
   },
   {
    "duration": 29,
    "start_time": "2021-07-07T18:15:42.423Z"
   },
   {
    "duration": 43,
    "start_time": "2021-07-07T18:15:42.453Z"
   },
   {
    "duration": 18,
    "start_time": "2021-07-07T18:15:42.497Z"
   },
   {
    "duration": 6,
    "start_time": "2021-07-07T18:15:42.516Z"
   },
   {
    "duration": 3,
    "start_time": "2021-07-07T18:15:42.523Z"
   },
   {
    "duration": 18,
    "start_time": "2021-07-07T18:15:42.528Z"
   },
   {
    "duration": 10,
    "start_time": "2021-07-07T18:15:42.547Z"
   },
   {
    "duration": 36,
    "start_time": "2021-07-07T18:15:42.559Z"
   },
   {
    "duration": 8,
    "start_time": "2021-07-07T18:15:42.597Z"
   },
   {
    "duration": 28,
    "start_time": "2021-07-07T18:15:42.606Z"
   },
   {
    "duration": 52,
    "start_time": "2021-07-07T18:15:42.635Z"
   },
   {
    "duration": 7,
    "start_time": "2021-07-07T18:15:42.690Z"
   },
   {
    "duration": 10,
    "start_time": "2021-07-07T18:15:42.699Z"
   },
   {
    "duration": 19,
    "start_time": "2021-07-07T18:15:42.711Z"
   },
   {
    "duration": 9,
    "start_time": "2021-07-07T18:15:42.732Z"
   },
   {
    "duration": 5,
    "start_time": "2021-07-07T18:15:42.743Z"
   },
   {
    "duration": 1450,
    "start_time": "2021-07-07T18:15:51.984Z"
   },
   {
    "duration": 161,
    "start_time": "2021-07-07T18:15:53.435Z"
   },
   {
    "duration": 124,
    "start_time": "2021-07-07T18:15:53.598Z"
   },
   {
    "duration": 5,
    "start_time": "2021-07-07T18:15:53.724Z"
   },
   {
    "duration": 34,
    "start_time": "2021-07-07T18:15:53.730Z"
   },
   {
    "duration": 7,
    "start_time": "2021-07-07T18:15:53.765Z"
   },
   {
    "duration": 15,
    "start_time": "2021-07-07T18:15:53.773Z"
   },
   {
    "duration": 5,
    "start_time": "2021-07-07T18:15:53.791Z"
   },
   {
    "duration": 19,
    "start_time": "2021-07-07T18:15:53.798Z"
   },
   {
    "duration": 9,
    "start_time": "2021-07-07T18:15:53.818Z"
   },
   {
    "duration": 19,
    "start_time": "2021-07-07T18:15:53.828Z"
   },
   {
    "duration": 27,
    "start_time": "2021-07-07T18:15:53.848Z"
   },
   {
    "duration": 16,
    "start_time": "2021-07-07T18:15:53.884Z"
   },
   {
    "duration": 29,
    "start_time": "2021-07-07T18:15:53.901Z"
   },
   {
    "duration": 5,
    "start_time": "2021-07-07T18:15:53.932Z"
   },
   {
    "duration": 15,
    "start_time": "2021-07-07T18:15:53.939Z"
   },
   {
    "duration": 13,
    "start_time": "2021-07-07T18:15:53.956Z"
   },
   {
    "duration": 20,
    "start_time": "2021-07-07T18:15:53.971Z"
   },
   {
    "duration": 14,
    "start_time": "2021-07-07T18:15:53.992Z"
   },
   {
    "duration": 9,
    "start_time": "2021-07-07T18:15:54.009Z"
   },
   {
    "duration": 28,
    "start_time": "2021-07-07T18:15:54.020Z"
   },
   {
    "duration": 50,
    "start_time": "2021-07-07T18:15:54.051Z"
   },
   {
    "duration": 8,
    "start_time": "2021-07-07T18:15:54.105Z"
   },
   {
    "duration": 11,
    "start_time": "2021-07-07T18:15:54.115Z"
   },
   {
    "duration": 20,
    "start_time": "2021-07-07T18:15:54.128Z"
   },
   {
    "duration": 13,
    "start_time": "2021-07-07T18:15:54.184Z"
   },
   {
    "duration": 7,
    "start_time": "2021-07-07T18:15:54.199Z"
   },
   {
    "duration": 7,
    "start_time": "2021-07-07T18:17:08.042Z"
   },
   {
    "duration": 8,
    "start_time": "2021-07-07T18:17:21.008Z"
   },
   {
    "duration": 7,
    "start_time": "2021-07-07T18:17:29.003Z"
   },
   {
    "duration": 8,
    "start_time": "2021-07-07T18:17:32.492Z"
   },
   {
    "duration": 9,
    "start_time": "2021-07-07T18:17:41.758Z"
   },
   {
    "duration": 255,
    "start_time": "2021-07-07T18:20:20.897Z"
   },
   {
    "duration": 173,
    "start_time": "2021-07-07T18:20:26.636Z"
   },
   {
    "duration": 7,
    "start_time": "2021-07-07T18:21:47.164Z"
   },
   {
    "duration": 254,
    "start_time": "2021-07-07T18:23:08.703Z"
   },
   {
    "duration": 21,
    "start_time": "2021-07-07T18:23:22.506Z"
   },
   {
    "duration": 315,
    "start_time": "2021-07-07T18:25:54.801Z"
   },
   {
    "duration": 34,
    "start_time": "2021-07-07T18:26:51.817Z"
   },
   {
    "duration": 327,
    "start_time": "2021-07-07T18:26:56.147Z"
   },
   {
    "duration": 342,
    "start_time": "2021-07-07T18:27:15.887Z"
   },
   {
    "duration": 302,
    "start_time": "2021-07-07T18:28:18.569Z"
   },
   {
    "duration": 226,
    "start_time": "2021-07-07T18:29:20.879Z"
   },
   {
    "duration": 207,
    "start_time": "2021-07-07T18:29:58.114Z"
   },
   {
    "duration": 140,
    "start_time": "2021-07-07T18:32:04.372Z"
   },
   {
    "duration": 158,
    "start_time": "2021-07-07T18:32:32.508Z"
   },
   {
    "duration": 145,
    "start_time": "2021-07-07T18:32:41.365Z"
   },
   {
    "duration": 132,
    "start_time": "2021-07-07T18:32:45.199Z"
   },
   {
    "duration": 11,
    "start_time": "2021-07-07T18:35:24.679Z"
   },
   {
    "duration": 268,
    "start_time": "2021-07-07T18:36:16.145Z"
   },
   {
    "duration": 227,
    "start_time": "2021-07-07T18:37:04.918Z"
   },
   {
    "duration": 3,
    "start_time": "2021-07-07T18:37:33.012Z"
   },
   {
    "duration": 671,
    "start_time": "2021-07-07T18:37:38.295Z"
   },
   {
    "duration": 54,
    "start_time": "2021-07-07T18:37:53.406Z"
   },
   {
    "duration": 631,
    "start_time": "2021-07-07T18:37:56.463Z"
   },
   {
    "duration": 19,
    "start_time": "2021-07-07T18:39:40.535Z"
   },
   {
    "duration": 20,
    "start_time": "2021-07-07T18:40:12.236Z"
   },
   {
    "duration": 633,
    "start_time": "2021-07-07T18:42:00.398Z"
   },
   {
    "duration": 218,
    "start_time": "2021-07-07T18:42:01.033Z"
   },
   {
    "duration": 49,
    "start_time": "2021-07-07T18:42:01.253Z"
   },
   {
    "duration": 5,
    "start_time": "2021-07-07T18:42:01.303Z"
   },
   {
    "duration": 27,
    "start_time": "2021-07-07T18:42:01.310Z"
   },
   {
    "duration": 8,
    "start_time": "2021-07-07T18:42:01.339Z"
   },
   {
    "duration": 20,
    "start_time": "2021-07-07T18:42:01.348Z"
   },
   {
    "duration": 6,
    "start_time": "2021-07-07T18:42:01.386Z"
   },
   {
    "duration": 16,
    "start_time": "2021-07-07T18:42:01.394Z"
   },
   {
    "duration": 9,
    "start_time": "2021-07-07T18:42:01.411Z"
   },
   {
    "duration": 11,
    "start_time": "2021-07-07T18:42:01.421Z"
   },
   {
    "duration": 31,
    "start_time": "2021-07-07T18:42:01.434Z"
   },
   {
    "duration": 18,
    "start_time": "2021-07-07T18:42:01.485Z"
   },
   {
    "duration": 23,
    "start_time": "2021-07-07T18:42:01.505Z"
   },
   {
    "duration": 6,
    "start_time": "2021-07-07T18:42:01.530Z"
   },
   {
    "duration": 10,
    "start_time": "2021-07-07T18:42:01.538Z"
   },
   {
    "duration": 13,
    "start_time": "2021-07-07T18:42:01.550Z"
   },
   {
    "duration": 24,
    "start_time": "2021-07-07T18:42:01.564Z"
   },
   {
    "duration": 20,
    "start_time": "2021-07-07T18:42:01.590Z"
   },
   {
    "duration": 8,
    "start_time": "2021-07-07T18:42:01.611Z"
   },
   {
    "duration": 31,
    "start_time": "2021-07-07T18:42:01.620Z"
   },
   {
    "duration": 39,
    "start_time": "2021-07-07T18:42:01.653Z"
   },
   {
    "duration": 8,
    "start_time": "2021-07-07T18:42:01.696Z"
   },
   {
    "duration": 13,
    "start_time": "2021-07-07T18:42:01.705Z"
   },
   {
    "duration": 20,
    "start_time": "2021-07-07T18:42:01.720Z"
   },
   {
    "duration": 12,
    "start_time": "2021-07-07T18:42:01.741Z"
   },
   {
    "duration": 35,
    "start_time": "2021-07-07T18:42:01.755Z"
   },
   {
    "duration": 14,
    "start_time": "2021-07-07T18:42:01.792Z"
   },
   {
    "duration": 188,
    "start_time": "2021-07-07T18:42:01.808Z"
   },
   {
    "duration": 19,
    "start_time": "2021-07-07T18:42:01.998Z"
   },
   {
    "duration": 175,
    "start_time": "2021-07-07T18:42:02.019Z"
   },
   {
    "duration": 134,
    "start_time": "2021-07-07T18:42:02.196Z"
   },
   {
    "duration": 10,
    "start_time": "2021-07-07T18:42:02.331Z"
   },
   {
    "duration": 19,
    "start_time": "2021-07-07T18:42:02.343Z"
   },
   {
    "duration": 628,
    "start_time": "2021-07-07T18:46:30.701Z"
   },
   {
    "duration": 183,
    "start_time": "2021-07-07T18:46:31.331Z"
   },
   {
    "duration": 48,
    "start_time": "2021-07-07T18:46:31.516Z"
   },
   {
    "duration": 5,
    "start_time": "2021-07-07T18:46:31.566Z"
   },
   {
    "duration": 28,
    "start_time": "2021-07-07T18:46:31.572Z"
   },
   {
    "duration": 8,
    "start_time": "2021-07-07T18:46:31.602Z"
   },
   {
    "duration": 19,
    "start_time": "2021-07-07T18:46:31.611Z"
   },
   {
    "duration": 6,
    "start_time": "2021-07-07T18:46:31.633Z"
   },
   {
    "duration": 17,
    "start_time": "2021-07-07T18:46:31.642Z"
   },
   {
    "duration": 10,
    "start_time": "2021-07-07T18:46:31.684Z"
   },
   {
    "duration": 9,
    "start_time": "2021-07-07T18:46:31.695Z"
   },
   {
    "duration": 28,
    "start_time": "2021-07-07T18:46:31.705Z"
   },
   {
    "duration": 18,
    "start_time": "2021-07-07T18:46:31.735Z"
   },
   {
    "duration": 48,
    "start_time": "2021-07-07T18:46:31.755Z"
   },
   {
    "duration": 6,
    "start_time": "2021-07-07T18:46:31.804Z"
   },
   {
    "duration": 4,
    "start_time": "2021-07-07T18:46:31.812Z"
   },
   {
    "duration": 9,
    "start_time": "2021-07-07T18:46:31.817Z"
   },
   {
    "duration": 10,
    "start_time": "2021-07-07T18:46:31.827Z"
   },
   {
    "duration": 12,
    "start_time": "2021-07-07T18:46:31.838Z"
   },
   {
    "duration": 39,
    "start_time": "2021-07-07T18:46:31.851Z"
   },
   {
    "duration": 24,
    "start_time": "2021-07-07T18:46:31.892Z"
   },
   {
    "duration": 15,
    "start_time": "2021-07-07T18:46:31.918Z"
   },
   {
    "duration": 7,
    "start_time": "2021-07-07T18:46:31.936Z"
   },
   {
    "duration": 8,
    "start_time": "2021-07-07T18:46:31.944Z"
   },
   {
    "duration": 19,
    "start_time": "2021-07-07T18:46:31.984Z"
   },
   {
    "duration": 10,
    "start_time": "2021-07-07T18:46:32.004Z"
   },
   {
    "duration": 5,
    "start_time": "2021-07-07T18:46:32.016Z"
   },
   {
    "duration": 9,
    "start_time": "2021-07-07T18:46:32.023Z"
   },
   {
    "duration": 199,
    "start_time": "2021-07-07T18:46:32.033Z"
   },
   {
    "duration": 19,
    "start_time": "2021-07-07T18:46:32.234Z"
   },
   {
    "duration": 159,
    "start_time": "2021-07-07T18:46:32.255Z"
   },
   {
    "duration": 134,
    "start_time": "2021-07-07T18:46:32.416Z"
   },
   {
    "duration": 10,
    "start_time": "2021-07-07T18:46:32.552Z"
   },
   {
    "duration": 34,
    "start_time": "2021-07-07T18:46:32.563Z"
   },
   {
    "duration": 1039,
    "start_time": "2021-07-08T08:41:09.419Z"
   },
   {
    "duration": 333,
    "start_time": "2021-07-08T08:41:10.459Z"
   },
   {
    "duration": 173,
    "start_time": "2021-07-08T08:41:10.794Z"
   },
   {
    "duration": 5,
    "start_time": "2021-07-08T08:41:10.968Z"
   },
   {
    "duration": 25,
    "start_time": "2021-07-08T08:41:10.975Z"
   },
   {
    "duration": 9,
    "start_time": "2021-07-08T08:41:11.002Z"
   },
   {
    "duration": 18,
    "start_time": "2021-07-08T08:41:11.013Z"
   },
   {
    "duration": 6,
    "start_time": "2021-07-08T08:41:11.033Z"
   },
   {
    "duration": 44,
    "start_time": "2021-07-08T08:41:11.042Z"
   },
   {
    "duration": 10,
    "start_time": "2021-07-08T08:41:11.088Z"
   },
   {
    "duration": 9,
    "start_time": "2021-07-08T08:41:11.100Z"
   },
   {
    "duration": 27,
    "start_time": "2021-07-08T08:41:11.111Z"
   },
   {
    "duration": 46,
    "start_time": "2021-07-08T08:41:11.140Z"
   },
   {
    "duration": 17,
    "start_time": "2021-07-08T08:41:11.187Z"
   },
   {
    "duration": 6,
    "start_time": "2021-07-08T08:41:11.206Z"
   },
   {
    "duration": 5,
    "start_time": "2021-07-08T08:41:11.213Z"
   },
   {
    "duration": 10,
    "start_time": "2021-07-08T08:41:11.219Z"
   },
   {
    "duration": 9,
    "start_time": "2021-07-08T08:41:11.230Z"
   },
   {
    "duration": 45,
    "start_time": "2021-07-08T08:41:11.241Z"
   },
   {
    "duration": 7,
    "start_time": "2021-07-08T08:41:11.287Z"
   },
   {
    "duration": 24,
    "start_time": "2021-07-08T08:41:11.296Z"
   },
   {
    "duration": 16,
    "start_time": "2021-07-08T08:41:11.322Z"
   },
   {
    "duration": 7,
    "start_time": "2021-07-08T08:41:11.341Z"
   },
   {
    "duration": 41,
    "start_time": "2021-07-08T08:41:11.349Z"
   },
   {
    "duration": 17,
    "start_time": "2021-07-08T08:41:11.391Z"
   },
   {
    "duration": 9,
    "start_time": "2021-07-08T08:41:11.410Z"
   },
   {
    "duration": 5,
    "start_time": "2021-07-08T08:41:11.421Z"
   },
   {
    "duration": 6,
    "start_time": "2021-07-08T08:41:11.428Z"
   },
   {
    "duration": 198,
    "start_time": "2021-07-08T08:41:11.435Z"
   },
   {
    "duration": 18,
    "start_time": "2021-07-08T08:41:11.635Z"
   },
   {
    "duration": 155,
    "start_time": "2021-07-08T08:41:11.655Z"
   },
   {
    "duration": 138,
    "start_time": "2021-07-08T08:41:11.811Z"
   },
   {
    "duration": 10,
    "start_time": "2021-07-08T08:41:11.950Z"
   },
   {
    "duration": 29,
    "start_time": "2021-07-08T08:41:11.961Z"
   },
   {
    "duration": 171,
    "start_time": "2021-07-08T08:47:44.522Z"
   },
   {
    "duration": 124,
    "start_time": "2021-07-08T08:47:46.872Z"
   },
   {
    "duration": 191,
    "start_time": "2021-07-08T08:47:58.148Z"
   },
   {
    "duration": 191,
    "start_time": "2021-07-08T08:48:07.412Z"
   },
   {
    "duration": 261,
    "start_time": "2021-07-08T08:48:10.385Z"
   },
   {
    "duration": 255,
    "start_time": "2021-07-08T08:48:14.494Z"
   },
   {
    "duration": 219,
    "start_time": "2021-07-08T08:48:22.752Z"
   },
   {
    "duration": 173,
    "start_time": "2021-07-08T08:49:06.395Z"
   },
   {
    "duration": 180,
    "start_time": "2021-07-08T08:49:21.011Z"
   },
   {
    "duration": 6,
    "start_time": "2021-07-08T08:50:31.697Z"
   },
   {
    "duration": 10,
    "start_time": "2021-07-08T08:50:47.394Z"
   },
   {
    "duration": 11,
    "start_time": "2021-07-08T08:53:49.332Z"
   },
   {
    "duration": 171,
    "start_time": "2021-07-08T08:54:28.408Z"
   },
   {
    "duration": 636,
    "start_time": "2021-07-08T09:02:48.385Z"
   },
   {
    "duration": 227,
    "start_time": "2021-07-08T09:02:49.023Z"
   },
   {
    "duration": 104,
    "start_time": "2021-07-08T09:02:49.252Z"
   },
   {
    "duration": 5,
    "start_time": "2021-07-08T09:02:49.358Z"
   },
   {
    "duration": 27,
    "start_time": "2021-07-08T09:02:49.365Z"
   },
   {
    "duration": 8,
    "start_time": "2021-07-08T09:02:49.394Z"
   },
   {
    "duration": 18,
    "start_time": "2021-07-08T09:02:49.404Z"
   },
   {
    "duration": 6,
    "start_time": "2021-07-08T09:02:49.424Z"
   },
   {
    "duration": 11,
    "start_time": "2021-07-08T09:02:49.433Z"
   },
   {
    "duration": 13,
    "start_time": "2021-07-08T09:02:49.485Z"
   },
   {
    "duration": 9,
    "start_time": "2021-07-08T09:02:49.500Z"
   },
   {
    "duration": 38,
    "start_time": "2021-07-08T09:02:49.511Z"
   },
   {
    "duration": 42,
    "start_time": "2021-07-08T09:02:49.551Z"
   },
   {
    "duration": 21,
    "start_time": "2021-07-08T09:02:49.594Z"
   },
   {
    "duration": 6,
    "start_time": "2021-07-08T09:02:49.616Z"
   },
   {
    "duration": 3,
    "start_time": "2021-07-08T09:02:49.623Z"
   },
   {
    "duration": 9,
    "start_time": "2021-07-08T09:02:49.628Z"
   },
   {
    "duration": 52,
    "start_time": "2021-07-08T09:02:49.638Z"
   },
   {
    "duration": 11,
    "start_time": "2021-07-08T09:02:49.692Z"
   },
   {
    "duration": 8,
    "start_time": "2021-07-08T09:02:49.704Z"
   },
   {
    "duration": 27,
    "start_time": "2021-07-08T09:02:49.713Z"
   },
   {
    "duration": 59,
    "start_time": "2021-07-08T09:02:49.741Z"
   },
   {
    "duration": 8,
    "start_time": "2021-07-08T09:02:49.803Z"
   },
   {
    "duration": 14,
    "start_time": "2021-07-08T09:02:49.813Z"
   },
   {
    "duration": 20,
    "start_time": "2021-07-08T09:02:49.829Z"
   },
   {
    "duration": 44,
    "start_time": "2021-07-08T09:02:49.851Z"
   },
   {
    "duration": 14,
    "start_time": "2021-07-08T09:02:49.896Z"
   },
   {
    "duration": 221,
    "start_time": "2021-07-08T09:02:49.912Z"
   },
   {
    "duration": 6,
    "start_time": "2021-07-08T09:02:50.134Z"
   },
   {
    "duration": 206,
    "start_time": "2021-07-08T09:02:50.142Z"
   },
   {
    "duration": 19,
    "start_time": "2021-07-08T09:02:50.350Z"
   },
   {
    "duration": 21,
    "start_time": "2021-07-08T09:02:50.370Z"
   },
   {
    "duration": 20,
    "start_time": "2021-07-08T09:02:50.393Z"
   },
   {
    "duration": 5,
    "start_time": "2021-07-08T09:02:50.414Z"
   },
   {
    "duration": 5,
    "start_time": "2021-07-08T09:03:34.173Z"
   },
   {
    "duration": 6,
    "start_time": "2021-07-08T09:04:49.062Z"
   },
   {
    "duration": 9,
    "start_time": "2021-07-08T09:04:50.118Z"
   },
   {
    "duration": 14,
    "start_time": "2021-07-08T09:04:58.512Z"
   },
   {
    "duration": 9,
    "start_time": "2021-07-08T09:05:10.988Z"
   },
   {
    "duration": 11,
    "start_time": "2021-07-08T09:05:11.743Z"
   },
   {
    "duration": 7,
    "start_time": "2021-07-08T09:05:25.677Z"
   },
   {
    "duration": 13,
    "start_time": "2021-07-08T09:05:47.189Z"
   },
   {
    "duration": 13,
    "start_time": "2021-07-08T09:05:54.755Z"
   },
   {
    "duration": 4,
    "start_time": "2021-07-08T09:06:29.189Z"
   },
   {
    "duration": 244,
    "start_time": "2021-07-08T09:06:29.195Z"
   },
   {
    "duration": 91,
    "start_time": "2021-07-08T09:06:29.441Z"
   },
   {
    "duration": 4,
    "start_time": "2021-07-08T09:06:29.534Z"
   },
   {
    "duration": 28,
    "start_time": "2021-07-08T09:06:29.540Z"
   },
   {
    "duration": 6,
    "start_time": "2021-07-08T09:06:29.570Z"
   },
   {
    "duration": 18,
    "start_time": "2021-07-08T09:06:29.578Z"
   },
   {
    "duration": 5,
    "start_time": "2021-07-08T09:06:29.597Z"
   },
   {
    "duration": 13,
    "start_time": "2021-07-08T09:06:29.605Z"
   },
   {
    "duration": 8,
    "start_time": "2021-07-08T09:06:29.620Z"
   },
   {
    "duration": 7,
    "start_time": "2021-07-08T09:06:29.630Z"
   },
   {
    "duration": 63,
    "start_time": "2021-07-08T09:06:29.639Z"
   },
   {
    "duration": 17,
    "start_time": "2021-07-08T09:06:29.704Z"
   },
   {
    "duration": 20,
    "start_time": "2021-07-08T09:06:29.723Z"
   },
   {
    "duration": 6,
    "start_time": "2021-07-08T09:06:29.745Z"
   },
   {
    "duration": 3,
    "start_time": "2021-07-08T09:06:29.752Z"
   },
   {
    "duration": 7,
    "start_time": "2021-07-08T09:06:29.785Z"
   },
   {
    "duration": 11,
    "start_time": "2021-07-08T09:06:29.794Z"
   },
   {
    "duration": 15,
    "start_time": "2021-07-08T09:06:29.807Z"
   },
   {
    "duration": 8,
    "start_time": "2021-07-08T09:06:29.823Z"
   },
   {
    "duration": 70,
    "start_time": "2021-07-08T09:06:29.832Z"
   },
   {
    "duration": 17,
    "start_time": "2021-07-08T09:06:29.903Z"
   },
   {
    "duration": 9,
    "start_time": "2021-07-08T09:06:29.921Z"
   },
   {
    "duration": 9,
    "start_time": "2021-07-08T09:06:29.932Z"
   },
   {
    "duration": 57,
    "start_time": "2021-07-08T09:06:29.942Z"
   },
   {
    "duration": 11,
    "start_time": "2021-07-08T09:06:30.001Z"
   },
   {
    "duration": 19,
    "start_time": "2021-07-08T09:06:30.016Z"
   },
   {
    "duration": 217,
    "start_time": "2021-07-08T09:06:30.037Z"
   },
   {
    "duration": 6,
    "start_time": "2021-07-08T09:06:30.255Z"
   },
   {
    "duration": 205,
    "start_time": "2021-07-08T09:06:30.263Z"
   },
   {
    "duration": 27,
    "start_time": "2021-07-08T09:06:30.470Z"
   },
   {
    "duration": 11,
    "start_time": "2021-07-08T09:06:30.500Z"
   },
   {
    "duration": 31,
    "start_time": "2021-07-08T09:06:30.513Z"
   },
   {
    "duration": 18,
    "start_time": "2021-07-08T09:06:30.546Z"
   },
   {
    "duration": 11,
    "start_time": "2021-07-08T09:06:30.566Z"
   },
   {
    "duration": 19,
    "start_time": "2021-07-08T09:06:30.579Z"
   },
   {
    "duration": 20,
    "start_time": "2021-07-08T09:06:49.466Z"
   },
   {
    "duration": 9,
    "start_time": "2021-07-08T09:06:51.994Z"
   },
   {
    "duration": 20,
    "start_time": "2021-07-08T09:06:52.273Z"
   },
   {
    "duration": 246,
    "start_time": "2021-07-08T09:10:21.272Z"
   },
   {
    "duration": 84,
    "start_time": "2021-07-08T09:10:21.436Z"
   },
   {
    "duration": 7,
    "start_time": "2021-07-08T09:10:37.608Z"
   },
   {
    "duration": 189,
    "start_time": "2021-07-08T09:10:38.573Z"
   },
   {
    "duration": 185,
    "start_time": "2021-07-08T09:10:53.181Z"
   },
   {
    "duration": 11,
    "start_time": "2021-07-08T09:10:59.549Z"
   },
   {
    "duration": 42,
    "start_time": "2021-07-08T09:10:59.709Z"
   },
   {
    "duration": 12,
    "start_time": "2021-07-08T09:11:02.857Z"
   },
   {
    "duration": 28,
    "start_time": "2021-07-08T09:11:10.062Z"
   },
   {
    "duration": 249,
    "start_time": "2021-07-08T09:11:37.388Z"
   },
   {
    "duration": 232,
    "start_time": "2021-07-08T09:11:49.485Z"
   },
   {
    "duration": 453,
    "start_time": "2021-07-08T09:12:01.546Z"
   },
   {
    "duration": 440,
    "start_time": "2021-07-08T09:12:12.347Z"
   },
   {
    "duration": 213,
    "start_time": "2021-07-08T09:13:32.196Z"
   },
   {
    "duration": 172,
    "start_time": "2021-07-08T09:14:07.400Z"
   },
   {
    "duration": 185,
    "start_time": "2021-07-08T09:14:14.905Z"
   },
   {
    "duration": 209,
    "start_time": "2021-07-08T09:14:40.109Z"
   },
   {
    "duration": 201,
    "start_time": "2021-07-08T09:14:54.506Z"
   },
   {
    "duration": 622,
    "start_time": "2021-07-08T09:18:14.497Z"
   },
   {
    "duration": 220,
    "start_time": "2021-07-08T09:18:15.121Z"
   },
   {
    "duration": 79,
    "start_time": "2021-07-08T09:18:15.343Z"
   },
   {
    "duration": 4,
    "start_time": "2021-07-08T09:18:15.425Z"
   },
   {
    "duration": 24,
    "start_time": "2021-07-08T09:18:15.431Z"
   },
   {
    "duration": 8,
    "start_time": "2021-07-08T09:18:15.457Z"
   },
   {
    "duration": 16,
    "start_time": "2021-07-08T09:18:15.466Z"
   },
   {
    "duration": 5,
    "start_time": "2021-07-08T09:18:15.484Z"
   },
   {
    "duration": 10,
    "start_time": "2021-07-08T09:18:15.493Z"
   },
   {
    "duration": 8,
    "start_time": "2021-07-08T09:18:15.504Z"
   },
   {
    "duration": 7,
    "start_time": "2021-07-08T09:18:15.513Z"
   },
   {
    "duration": 26,
    "start_time": "2021-07-08T09:18:15.522Z"
   },
   {
    "duration": 49,
    "start_time": "2021-07-08T09:18:15.550Z"
   },
   {
    "duration": 21,
    "start_time": "2021-07-08T09:18:15.601Z"
   },
   {
    "duration": 8,
    "start_time": "2021-07-08T09:18:15.624Z"
   },
   {
    "duration": 3,
    "start_time": "2021-07-08T09:18:15.634Z"
   },
   {
    "duration": 8,
    "start_time": "2021-07-08T09:18:15.639Z"
   },
   {
    "duration": 45,
    "start_time": "2021-07-08T09:18:15.649Z"
   },
   {
    "duration": 13,
    "start_time": "2021-07-08T09:18:15.696Z"
   },
   {
    "duration": 10,
    "start_time": "2021-07-08T09:18:15.711Z"
   },
   {
    "duration": 64,
    "start_time": "2021-07-08T09:18:15.722Z"
   },
   {
    "duration": 19,
    "start_time": "2021-07-08T09:18:15.788Z"
   },
   {
    "duration": 9,
    "start_time": "2021-07-08T09:18:15.809Z"
   },
   {
    "duration": 9,
    "start_time": "2021-07-08T09:18:15.820Z"
   },
   {
    "duration": 18,
    "start_time": "2021-07-08T09:18:15.831Z"
   },
   {
    "duration": 43,
    "start_time": "2021-07-08T09:18:15.851Z"
   },
   {
    "duration": 12,
    "start_time": "2021-07-08T09:18:15.897Z"
   },
   {
    "duration": 219,
    "start_time": "2021-07-08T09:18:15.911Z"
   },
   {
    "duration": 8,
    "start_time": "2021-07-08T09:18:16.132Z"
   },
   {
    "duration": 199,
    "start_time": "2021-07-08T09:18:16.141Z"
   },
   {
    "duration": 18,
    "start_time": "2021-07-08T09:18:16.341Z"
   },
   {
    "duration": 24,
    "start_time": "2021-07-08T09:18:16.361Z"
   },
   {
    "duration": 24,
    "start_time": "2021-07-08T09:18:16.387Z"
   },
   {
    "duration": 211,
    "start_time": "2021-07-08T09:18:16.413Z"
   },
   {
    "duration": 18,
    "start_time": "2021-07-08T09:18:16.626Z"
   },
   {
    "duration": 596,
    "start_time": "2021-07-08T10:06:33.623Z"
   },
   {
    "duration": 181,
    "start_time": "2021-07-08T10:06:34.221Z"
   },
   {
    "duration": 176,
    "start_time": "2021-07-08T10:06:34.635Z"
   },
   {
    "duration": 239,
    "start_time": "2021-07-08T10:06:55.572Z"
   },
   {
    "duration": 6,
    "start_time": "2021-07-08T10:06:57.687Z"
   },
   {
    "duration": 4,
    "start_time": "2021-07-08T10:07:03.956Z"
   },
   {
    "duration": 4,
    "start_time": "2021-07-08T10:07:10.376Z"
   },
   {
    "duration": 4,
    "start_time": "2021-07-08T10:17:19.889Z"
   },
   {
    "duration": 3,
    "start_time": "2021-07-08T10:19:19.407Z"
   },
   {
    "duration": 197,
    "start_time": "2021-07-08T10:19:19.412Z"
   },
   {
    "duration": 127,
    "start_time": "2021-07-08T10:19:19.611Z"
   },
   {
    "duration": 4,
    "start_time": "2021-07-08T10:19:19.740Z"
   },
   {
    "duration": 27,
    "start_time": "2021-07-08T10:19:19.746Z"
   },
   {
    "duration": 7,
    "start_time": "2021-07-08T10:19:19.775Z"
   },
   {
    "duration": 30,
    "start_time": "2021-07-08T10:19:19.784Z"
   },
   {
    "duration": 7,
    "start_time": "2021-07-08T10:19:19.817Z"
   },
   {
    "duration": 26,
    "start_time": "2021-07-08T10:19:19.826Z"
   },
   {
    "duration": 18,
    "start_time": "2021-07-08T10:19:19.854Z"
   },
   {
    "duration": 14,
    "start_time": "2021-07-08T10:19:19.874Z"
   },
   {
    "duration": 48,
    "start_time": "2021-07-08T10:19:19.890Z"
   },
   {
    "duration": 17,
    "start_time": "2021-07-08T10:19:19.940Z"
   },
   {
    "duration": 38,
    "start_time": "2021-07-08T10:19:19.959Z"
   },
   {
    "duration": 8,
    "start_time": "2021-07-08T10:19:19.999Z"
   },
   {
    "duration": 15,
    "start_time": "2021-07-08T10:19:20.009Z"
   },
   {
    "duration": 22,
    "start_time": "2021-07-08T10:19:20.026Z"
   },
   {
    "duration": 10,
    "start_time": "2021-07-08T10:19:20.050Z"
   },
   {
    "duration": 10,
    "start_time": "2021-07-08T10:19:20.062Z"
   },
   {
    "duration": 20,
    "start_time": "2021-07-08T10:19:20.073Z"
   },
   {
    "duration": 29,
    "start_time": "2021-07-08T10:19:20.095Z"
   },
   {
    "duration": 17,
    "start_time": "2021-07-08T10:19:20.126Z"
   },
   {
    "duration": 40,
    "start_time": "2021-07-08T10:19:20.146Z"
   },
   {
    "duration": 15,
    "start_time": "2021-07-08T10:19:20.189Z"
   },
   {
    "duration": 19,
    "start_time": "2021-07-08T10:19:20.206Z"
   },
   {
    "duration": 10,
    "start_time": "2021-07-08T10:19:20.226Z"
   },
   {
    "duration": 11,
    "start_time": "2021-07-08T10:19:20.238Z"
   },
   {
    "duration": 297,
    "start_time": "2021-07-08T10:19:20.250Z"
   },
   {
    "duration": 6,
    "start_time": "2021-07-08T10:19:20.549Z"
   },
   {
    "duration": 191,
    "start_time": "2021-07-08T10:19:20.557Z"
   },
   {
    "duration": 19,
    "start_time": "2021-07-08T10:19:20.750Z"
   },
   {
    "duration": 20,
    "start_time": "2021-07-08T10:19:20.771Z"
   },
   {
    "duration": 15,
    "start_time": "2021-07-08T10:19:20.793Z"
   },
   {
    "duration": 222,
    "start_time": "2021-07-08T10:19:20.809Z"
   },
   {
    "duration": 20,
    "start_time": "2021-07-08T10:19:21.033Z"
   },
   {
    "duration": 27,
    "start_time": "2021-07-08T10:45:04.055Z"
   },
   {
    "duration": 8,
    "start_time": "2021-07-08T10:45:08.478Z"
   },
   {
    "duration": 8,
    "start_time": "2021-07-08T10:45:31.982Z"
   },
   {
    "duration": 10,
    "start_time": "2021-07-08T10:46:01.221Z"
   },
   {
    "duration": 17,
    "start_time": "2021-07-08T10:46:40.011Z"
   },
   {
    "duration": 193,
    "start_time": "2021-07-08T10:48:19.471Z"
   },
   {
    "duration": 225,
    "start_time": "2021-07-08T10:49:26.480Z"
   },
   {
    "duration": 204,
    "start_time": "2021-07-08T10:49:59.992Z"
   },
   {
    "duration": 435,
    "start_time": "2021-07-08T10:50:06.779Z"
   },
   {
    "duration": 199,
    "start_time": "2021-07-08T10:50:14.891Z"
   },
   {
    "duration": 204,
    "start_time": "2021-07-08T10:50:18.501Z"
   },
   {
    "duration": 244,
    "start_time": "2021-07-08T10:50:23.359Z"
   },
   {
    "duration": 192,
    "start_time": "2021-07-08T10:50:29.135Z"
   },
   {
    "duration": 218,
    "start_time": "2021-07-08T10:50:33.092Z"
   },
   {
    "duration": 207,
    "start_time": "2021-07-08T10:52:45.381Z"
   },
   {
    "duration": 5,
    "start_time": "2021-07-08T10:53:34.641Z"
   },
   {
    "duration": 196,
    "start_time": "2021-07-08T10:53:41.478Z"
   },
   {
    "duration": 43,
    "start_time": "2021-07-08T10:53:50.335Z"
   },
   {
    "duration": 32,
    "start_time": "2021-07-08T10:53:55.294Z"
   },
   {
    "duration": 55,
    "start_time": "2021-07-08T10:54:09.675Z"
   },
   {
    "duration": 16,
    "start_time": "2021-07-08T10:54:12.260Z"
   },
   {
    "duration": 15,
    "start_time": "2021-07-08T10:54:49.150Z"
   },
   {
    "duration": 20,
    "start_time": "2021-07-08T10:56:07.596Z"
   },
   {
    "duration": 16,
    "start_time": "2021-07-08T10:58:26.276Z"
   },
   {
    "duration": 22,
    "start_time": "2021-07-08T10:59:00.486Z"
   },
   {
    "duration": 18,
    "start_time": "2021-07-08T11:02:09.653Z"
   },
   {
    "duration": 10,
    "start_time": "2021-07-08T11:03:44.331Z"
   },
   {
    "duration": 10,
    "start_time": "2021-07-08T11:03:54.055Z"
   },
   {
    "duration": 12,
    "start_time": "2021-07-08T11:04:41.967Z"
   },
   {
    "duration": 24,
    "start_time": "2021-07-08T11:07:30.732Z"
   },
   {
    "duration": 6,
    "start_time": "2021-07-08T11:07:37.364Z"
   },
   {
    "duration": 16,
    "start_time": "2021-07-08T11:08:01.819Z"
   },
   {
    "duration": 17,
    "start_time": "2021-07-08T11:09:47.488Z"
   },
   {
    "duration": 246,
    "start_time": "2021-07-08T11:10:00.830Z"
   },
   {
    "duration": 18,
    "start_time": "2021-07-08T11:13:55.195Z"
   },
   {
    "duration": 204,
    "start_time": "2021-07-08T11:14:04.951Z"
   },
   {
    "duration": 19,
    "start_time": "2021-07-08T11:15:10.613Z"
   },
   {
    "duration": 680,
    "start_time": "2021-07-08T11:16:25.793Z"
   },
   {
    "duration": 451,
    "start_time": "2021-07-08T11:16:40.313Z"
   },
   {
    "duration": 469,
    "start_time": "2021-07-08T11:17:21.286Z"
   },
   {
    "duration": 20,
    "start_time": "2021-07-08T11:19:12.554Z"
   },
   {
    "duration": 35,
    "start_time": "2021-07-08T11:20:05.484Z"
   },
   {
    "duration": 53,
    "start_time": "2021-07-08T11:21:40.050Z"
   },
   {
    "duration": 13,
    "start_time": "2021-07-08T11:22:26.059Z"
   },
   {
    "duration": 19,
    "start_time": "2021-07-08T11:22:47.419Z"
   },
   {
    "duration": 25,
    "start_time": "2021-07-08T11:23:19.958Z"
   },
   {
    "duration": 29,
    "start_time": "2021-07-08T11:23:25.415Z"
   },
   {
    "duration": 10,
    "start_time": "2021-07-08T11:24:45.138Z"
   },
   {
    "duration": 19,
    "start_time": "2021-07-08T11:24:54.498Z"
   },
   {
    "duration": 12,
    "start_time": "2021-07-08T11:25:32.225Z"
   },
   {
    "duration": 19,
    "start_time": "2021-07-08T11:25:37.092Z"
   },
   {
    "duration": 17,
    "start_time": "2021-07-08T11:25:58.116Z"
   },
   {
    "duration": 15,
    "start_time": "2021-07-08T11:26:02.258Z"
   },
   {
    "duration": 8,
    "start_time": "2021-07-08T11:26:59.682Z"
   },
   {
    "duration": 184,
    "start_time": "2021-07-08T11:27:21.894Z"
   },
   {
    "duration": 8,
    "start_time": "2021-07-08T11:27:23.824Z"
   },
   {
    "duration": 202,
    "start_time": "2021-07-08T11:27:23.962Z"
   },
   {
    "duration": 360,
    "start_time": "2021-07-08T11:28:33.215Z"
   },
   {
    "duration": 231,
    "start_time": "2021-07-08T11:32:05.542Z"
   },
   {
    "duration": 607,
    "start_time": "2021-07-08T11:36:27.854Z"
   },
   {
    "duration": 241,
    "start_time": "2021-07-08T11:36:28.463Z"
   },
   {
    "duration": 67,
    "start_time": "2021-07-08T11:36:28.709Z"
   },
   {
    "duration": 5,
    "start_time": "2021-07-08T11:36:28.778Z"
   },
   {
    "duration": 32,
    "start_time": "2021-07-08T11:36:28.784Z"
   },
   {
    "duration": 11,
    "start_time": "2021-07-08T11:36:28.819Z"
   },
   {
    "duration": 20,
    "start_time": "2021-07-08T11:36:28.834Z"
   },
   {
    "duration": 36,
    "start_time": "2021-07-08T11:36:28.857Z"
   },
   {
    "duration": 16,
    "start_time": "2021-07-08T11:36:28.895Z"
   },
   {
    "duration": 14,
    "start_time": "2021-07-08T11:36:28.913Z"
   },
   {
    "duration": 9,
    "start_time": "2021-07-08T11:36:28.930Z"
   },
   {
    "duration": 55,
    "start_time": "2021-07-08T11:36:28.941Z"
   },
   {
    "duration": 27,
    "start_time": "2021-07-08T11:36:28.999Z"
   },
   {
    "duration": 30,
    "start_time": "2021-07-08T11:36:29.028Z"
   },
   {
    "duration": 31,
    "start_time": "2021-07-08T11:36:29.060Z"
   },
   {
    "duration": 3,
    "start_time": "2021-07-08T11:36:29.093Z"
   },
   {
    "duration": 12,
    "start_time": "2021-07-08T11:36:29.099Z"
   },
   {
    "duration": 11,
    "start_time": "2021-07-08T11:36:29.112Z"
   },
   {
    "duration": 12,
    "start_time": "2021-07-08T11:36:29.125Z"
   },
   {
    "duration": 9,
    "start_time": "2021-07-08T11:36:29.139Z"
   },
   {
    "duration": 31,
    "start_time": "2021-07-08T11:36:29.191Z"
   },
   {
    "duration": 17,
    "start_time": "2021-07-08T11:36:29.226Z"
   },
   {
    "duration": 7,
    "start_time": "2021-07-08T11:36:29.245Z"
   },
   {
    "duration": 10,
    "start_time": "2021-07-08T11:36:29.254Z"
   },
   {
    "duration": 30,
    "start_time": "2021-07-08T11:36:29.292Z"
   },
   {
    "duration": 11,
    "start_time": "2021-07-08T11:36:29.324Z"
   },
   {
    "duration": 11,
    "start_time": "2021-07-08T11:36:29.337Z"
   },
   {
    "duration": 230,
    "start_time": "2021-07-08T11:36:29.349Z"
   },
   {
    "duration": 13,
    "start_time": "2021-07-08T11:36:29.588Z"
   },
   {
    "duration": 205,
    "start_time": "2021-07-08T11:36:29.603Z"
   },
   {
    "duration": 20,
    "start_time": "2021-07-08T11:36:29.810Z"
   },
   {
    "duration": 9,
    "start_time": "2021-07-08T11:36:29.832Z"
   },
   {
    "duration": 16,
    "start_time": "2021-07-08T11:36:29.843Z"
   },
   {
    "duration": 283,
    "start_time": "2021-07-08T11:36:29.861Z"
   },
   {
    "duration": 50,
    "start_time": "2021-07-08T11:36:30.146Z"
   },
   {
    "duration": 14,
    "start_time": "2021-07-08T11:36:30.198Z"
   },
   {
    "duration": 11,
    "start_time": "2021-07-08T11:36:30.214Z"
   },
   {
    "duration": 245,
    "start_time": "2021-07-08T11:36:30.227Z"
   },
   {
    "duration": 439,
    "start_time": "2021-07-08T11:36:30.474Z"
   },
   {
    "duration": 210,
    "start_time": "2021-07-08T11:36:30.915Z"
   },
   {
    "duration": 15,
    "start_time": "2021-07-08T11:36:31.127Z"
   },
   {
    "duration": 17,
    "start_time": "2021-07-08T11:38:20.451Z"
   },
   {
    "duration": 642,
    "start_time": "2021-07-08T11:46:17.881Z"
   },
   {
    "duration": 210,
    "start_time": "2021-07-08T11:46:18.525Z"
   },
   {
    "duration": 104,
    "start_time": "2021-07-08T11:46:18.741Z"
   },
   {
    "duration": 8,
    "start_time": "2021-07-08T11:46:18.847Z"
   },
   {
    "duration": 25,
    "start_time": "2021-07-08T11:46:18.857Z"
   },
   {
    "duration": 14,
    "start_time": "2021-07-08T11:46:18.884Z"
   },
   {
    "duration": 22,
    "start_time": "2021-07-08T11:46:18.900Z"
   },
   {
    "duration": 5,
    "start_time": "2021-07-08T11:46:18.924Z"
   },
   {
    "duration": 13,
    "start_time": "2021-07-08T11:46:18.931Z"
   },
   {
    "duration": 45,
    "start_time": "2021-07-08T11:46:18.946Z"
   },
   {
    "duration": 12,
    "start_time": "2021-07-08T11:46:18.993Z"
   },
   {
    "duration": 38,
    "start_time": "2021-07-08T11:46:19.006Z"
   },
   {
    "duration": 50,
    "start_time": "2021-07-08T11:46:19.046Z"
   },
   {
    "duration": 29,
    "start_time": "2021-07-08T11:46:19.099Z"
   },
   {
    "duration": 7,
    "start_time": "2021-07-08T11:46:19.130Z"
   },
   {
    "duration": 3,
    "start_time": "2021-07-08T11:46:19.139Z"
   },
   {
    "duration": 11,
    "start_time": "2021-07-08T11:46:19.144Z"
   },
   {
    "duration": 40,
    "start_time": "2021-07-08T11:46:19.157Z"
   },
   {
    "duration": 15,
    "start_time": "2021-07-08T11:46:19.199Z"
   },
   {
    "duration": 10,
    "start_time": "2021-07-08T11:46:19.217Z"
   },
   {
    "duration": 68,
    "start_time": "2021-07-08T11:46:19.230Z"
   },
   {
    "duration": 17,
    "start_time": "2021-07-08T11:46:19.301Z"
   },
   {
    "duration": 7,
    "start_time": "2021-07-08T11:46:19.321Z"
   },
   {
    "duration": 11,
    "start_time": "2021-07-08T11:46:19.330Z"
   },
   {
    "duration": 59,
    "start_time": "2021-07-08T11:46:19.343Z"
   },
   {
    "duration": 17,
    "start_time": "2021-07-08T11:46:19.405Z"
   },
   {
    "duration": 16,
    "start_time": "2021-07-08T11:46:19.424Z"
   },
   {
    "duration": 252,
    "start_time": "2021-07-08T11:46:19.443Z"
   },
   {
    "duration": 9,
    "start_time": "2021-07-08T11:46:19.697Z"
   },
   {
    "duration": 224,
    "start_time": "2021-07-08T11:46:19.708Z"
   },
   {
    "duration": 21,
    "start_time": "2021-07-08T11:46:19.934Z"
   },
   {
    "duration": 9,
    "start_time": "2021-07-08T11:46:19.956Z"
   },
   {
    "duration": 32,
    "start_time": "2021-07-08T11:46:19.967Z"
   },
   {
    "duration": 288,
    "start_time": "2021-07-08T11:46:20.004Z"
   },
   {
    "duration": 23,
    "start_time": "2021-07-08T11:46:20.300Z"
   },
   {
    "duration": 11,
    "start_time": "2021-07-08T11:46:20.325Z"
   },
   {
    "duration": 11,
    "start_time": "2021-07-08T11:46:20.339Z"
   },
   {
    "duration": 259,
    "start_time": "2021-07-08T11:46:20.352Z"
   },
   {
    "duration": 438,
    "start_time": "2021-07-08T11:46:20.613Z"
   },
   {
    "duration": 207,
    "start_time": "2021-07-08T11:46:21.054Z"
   },
   {
    "duration": 27,
    "start_time": "2021-07-08T11:46:21.262Z"
   },
   {
    "duration": 19,
    "start_time": "2021-07-08T11:46:21.291Z"
   },
   {
    "duration": 820,
    "start_time": "2021-07-08T11:49:01.655Z"
   },
   {
    "duration": 372,
    "start_time": "2021-07-08T11:49:02.478Z"
   },
   {
    "duration": 98,
    "start_time": "2021-07-08T11:49:02.853Z"
   },
   {
    "duration": 6,
    "start_time": "2021-07-08T11:49:02.953Z"
   },
   {
    "duration": 39,
    "start_time": "2021-07-08T11:49:02.960Z"
   },
   {
    "duration": 9,
    "start_time": "2021-07-08T11:49:03.003Z"
   },
   {
    "duration": 23,
    "start_time": "2021-07-08T11:49:03.014Z"
   },
   {
    "duration": 6,
    "start_time": "2021-07-08T11:49:03.041Z"
   },
   {
    "duration": 20,
    "start_time": "2021-07-08T11:49:03.049Z"
   },
   {
    "duration": 18,
    "start_time": "2021-07-08T11:49:03.084Z"
   },
   {
    "duration": 14,
    "start_time": "2021-07-08T11:49:03.104Z"
   },
   {
    "duration": 39,
    "start_time": "2021-07-08T11:49:03.119Z"
   },
   {
    "duration": 38,
    "start_time": "2021-07-08T11:49:03.160Z"
   },
   {
    "duration": 26,
    "start_time": "2021-07-08T11:49:03.200Z"
   },
   {
    "duration": 7,
    "start_time": "2021-07-08T11:49:03.227Z"
   },
   {
    "duration": 4,
    "start_time": "2021-07-08T11:49:03.236Z"
   },
   {
    "duration": 15,
    "start_time": "2021-07-08T11:49:03.243Z"
   },
   {
    "duration": 21,
    "start_time": "2021-07-08T11:49:03.285Z"
   },
   {
    "duration": 17,
    "start_time": "2021-07-08T11:49:03.309Z"
   },
   {
    "duration": 10,
    "start_time": "2021-07-08T11:49:03.328Z"
   },
   {
    "duration": 65,
    "start_time": "2021-07-08T11:49:03.340Z"
   },
   {
    "duration": 18,
    "start_time": "2021-07-08T11:49:03.407Z"
   },
   {
    "duration": 8,
    "start_time": "2021-07-08T11:49:03.428Z"
   },
   {
    "duration": 15,
    "start_time": "2021-07-08T11:49:03.438Z"
   },
   {
    "duration": 40,
    "start_time": "2021-07-08T11:49:03.455Z"
   },
   {
    "duration": 12,
    "start_time": "2021-07-08T11:49:03.497Z"
   },
   {
    "duration": 29,
    "start_time": "2021-07-08T11:49:03.511Z"
   },
   {
    "duration": 285,
    "start_time": "2021-07-08T11:49:03.542Z"
   },
   {
    "duration": 8,
    "start_time": "2021-07-08T11:49:03.829Z"
   },
   {
    "duration": 227,
    "start_time": "2021-07-08T11:49:03.838Z"
   },
   {
    "duration": 40,
    "start_time": "2021-07-08T11:49:04.066Z"
   },
   {
    "duration": 10,
    "start_time": "2021-07-08T11:49:04.108Z"
   },
   {
    "duration": 26,
    "start_time": "2021-07-08T11:49:04.121Z"
   },
   {
    "duration": 290,
    "start_time": "2021-07-08T11:49:04.149Z"
   },
   {
    "duration": 26,
    "start_time": "2021-07-08T11:49:04.441Z"
   },
   {
    "duration": 31,
    "start_time": "2021-07-08T11:49:04.470Z"
   },
   {
    "duration": 14,
    "start_time": "2021-07-08T11:49:04.503Z"
   },
   {
    "duration": 259,
    "start_time": "2021-07-08T11:49:04.521Z"
   },
   {
    "duration": 480,
    "start_time": "2021-07-08T11:49:04.782Z"
   },
   {
    "duration": 225,
    "start_time": "2021-07-08T11:49:05.264Z"
   },
   {
    "duration": 22,
    "start_time": "2021-07-08T11:49:05.491Z"
   },
   {
    "duration": 24,
    "start_time": "2021-07-08T11:49:05.515Z"
   },
   {
    "duration": 634,
    "start_time": "2021-07-08T11:52:24.960Z"
   },
   {
    "duration": 199,
    "start_time": "2021-07-08T11:52:25.599Z"
   },
   {
    "duration": 106,
    "start_time": "2021-07-08T11:52:25.803Z"
   },
   {
    "duration": 7,
    "start_time": "2021-07-08T11:52:25.911Z"
   },
   {
    "duration": 29,
    "start_time": "2021-07-08T11:52:25.920Z"
   },
   {
    "duration": 7,
    "start_time": "2021-07-08T11:52:25.951Z"
   },
   {
    "duration": 26,
    "start_time": "2021-07-08T11:52:25.961Z"
   },
   {
    "duration": 11,
    "start_time": "2021-07-08T11:52:25.990Z"
   },
   {
    "duration": 29,
    "start_time": "2021-07-08T11:52:26.005Z"
   },
   {
    "duration": 9,
    "start_time": "2021-07-08T11:52:26.036Z"
   },
   {
    "duration": 8,
    "start_time": "2021-07-08T11:52:26.047Z"
   },
   {
    "duration": 63,
    "start_time": "2021-07-08T11:52:26.057Z"
   },
   {
    "duration": 17,
    "start_time": "2021-07-08T11:52:26.122Z"
   },
   {
    "duration": 43,
    "start_time": "2021-07-08T11:52:26.142Z"
   },
   {
    "duration": 17,
    "start_time": "2021-07-08T11:52:26.187Z"
   },
   {
    "duration": 5,
    "start_time": "2021-07-08T11:52:26.206Z"
   },
   {
    "duration": 12,
    "start_time": "2021-07-08T11:52:26.212Z"
   },
   {
    "duration": 11,
    "start_time": "2021-07-08T11:52:26.226Z"
   },
   {
    "duration": 12,
    "start_time": "2021-07-08T11:52:26.238Z"
   },
   {
    "duration": 38,
    "start_time": "2021-07-08T11:52:26.252Z"
   },
   {
    "duration": 40,
    "start_time": "2021-07-08T11:52:26.292Z"
   },
   {
    "duration": 17,
    "start_time": "2021-07-08T11:52:26.336Z"
   },
   {
    "duration": 39,
    "start_time": "2021-07-08T11:52:26.355Z"
   },
   {
    "duration": 11,
    "start_time": "2021-07-08T11:52:26.395Z"
   },
   {
    "duration": 23,
    "start_time": "2021-07-08T11:52:26.408Z"
   },
   {
    "duration": 12,
    "start_time": "2021-07-08T11:52:26.432Z"
   },
   {
    "duration": 41,
    "start_time": "2021-07-08T11:52:26.446Z"
   },
   {
    "duration": 215,
    "start_time": "2021-07-08T11:52:26.493Z"
   },
   {
    "duration": 8,
    "start_time": "2021-07-08T11:52:26.710Z"
   },
   {
    "duration": 228,
    "start_time": "2021-07-08T11:52:26.720Z"
   },
   {
    "duration": 18,
    "start_time": "2021-07-08T11:52:26.950Z"
   },
   {
    "duration": 35,
    "start_time": "2021-07-08T11:52:26.969Z"
   },
   {
    "duration": 23,
    "start_time": "2021-07-08T11:52:27.006Z"
   },
   {
    "duration": 258,
    "start_time": "2021-07-08T11:52:27.030Z"
   },
   {
    "duration": 24,
    "start_time": "2021-07-08T11:52:27.290Z"
   },
   {
    "duration": 12,
    "start_time": "2021-07-08T11:52:27.316Z"
   },
   {
    "duration": 10,
    "start_time": "2021-07-08T11:52:27.329Z"
   },
   {
    "duration": 298,
    "start_time": "2021-07-08T11:52:27.341Z"
   },
   {
    "duration": 436,
    "start_time": "2021-07-08T11:52:27.641Z"
   },
   {
    "duration": 216,
    "start_time": "2021-07-08T11:52:28.079Z"
   },
   {
    "duration": 20,
    "start_time": "2021-07-08T11:52:28.297Z"
   },
   {
    "duration": 17,
    "start_time": "2021-07-08T11:52:28.319Z"
   },
   {
    "duration": 405,
    "start_time": "2024-05-05T09:46:52.600Z"
   },
   {
    "duration": 165,
    "start_time": "2024-05-05T09:46:54.080Z"
   },
   {
    "duration": 22,
    "start_time": "2024-05-05T09:47:08.456Z"
   },
   {
    "duration": 66,
    "start_time": "2024-05-05T09:48:27.076Z"
   },
   {
    "duration": 173,
    "start_time": "2024-05-05T09:48:31.240Z"
   },
   {
    "duration": 7,
    "start_time": "2024-05-05T09:48:32.592Z"
   },
   {
    "duration": 16,
    "start_time": "2024-05-05T09:48:46.008Z"
   },
   {
    "duration": 20,
    "start_time": "2024-05-05T09:49:08.089Z"
   },
   {
    "duration": 10,
    "start_time": "2024-05-05T09:49:25.100Z"
   },
   {
    "duration": 21,
    "start_time": "2024-05-05T09:49:37.705Z"
   },
   {
    "duration": 10,
    "start_time": "2024-05-05T09:49:58.781Z"
   },
   {
    "duration": 21,
    "start_time": "2024-05-05T09:50:06.767Z"
   },
   {
    "duration": 18,
    "start_time": "2024-05-05T09:50:17.052Z"
   },
   {
    "duration": 14,
    "start_time": "2024-05-05T09:50:37.789Z"
   },
   {
    "duration": 16,
    "start_time": "2024-05-05T10:10:58.637Z"
   },
   {
    "duration": 3,
    "start_time": "2024-05-05T10:18:02.962Z"
   },
   {
    "duration": 8,
    "start_time": "2024-05-05T10:18:13.867Z"
   },
   {
    "duration": 10,
    "start_time": "2024-05-05T10:18:34.185Z"
   },
   {
    "duration": 17,
    "start_time": "2024-05-05T10:19:01.817Z"
   },
   {
    "duration": 12,
    "start_time": "2024-05-05T10:19:15.674Z"
   },
   {
    "duration": 2,
    "start_time": "2024-05-05T10:19:21.628Z"
   },
   {
    "duration": 8,
    "start_time": "2024-05-05T10:19:55.139Z"
   },
   {
    "duration": 24,
    "start_time": "2024-05-05T10:20:12.871Z"
   },
   {
    "duration": 23,
    "start_time": "2024-05-05T10:27:51.945Z"
   },
   {
    "duration": 6,
    "start_time": "2024-05-05T10:28:36.670Z"
   },
   {
    "duration": 171,
    "start_time": "2024-05-05T10:29:02.891Z"
   },
   {
    "duration": 8,
    "start_time": "2024-05-05T10:29:44.818Z"
   },
   {
    "duration": 17,
    "start_time": "2024-05-05T10:29:49.631Z"
   },
   {
    "duration": 8,
    "start_time": "2024-05-05T10:30:25.282Z"
   },
   {
    "duration": 8,
    "start_time": "2024-05-05T10:30:30.982Z"
   },
   {
    "duration": 17,
    "start_time": "2024-05-05T10:31:07.942Z"
   },
   {
    "duration": 19,
    "start_time": "2024-05-05T10:32:13.708Z"
   },
   {
    "duration": 15,
    "start_time": "2024-05-05T10:32:41.486Z"
   },
   {
    "duration": 127,
    "start_time": "2024-05-05T10:33:29.504Z"
   },
   {
    "duration": 23,
    "start_time": "2024-05-05T10:33:31.570Z"
   },
   {
    "duration": 17,
    "start_time": "2024-05-05T10:33:47.067Z"
   },
   {
    "duration": 27,
    "start_time": "2024-05-05T10:34:47.152Z"
   },
   {
    "duration": 21,
    "start_time": "2024-05-05T10:36:46.481Z"
   },
   {
    "duration": 16,
    "start_time": "2024-05-05T10:41:29.755Z"
   },
   {
    "duration": 11,
    "start_time": "2024-05-05T10:41:35.943Z"
   },
   {
    "duration": 14,
    "start_time": "2024-05-05T10:44:53.761Z"
   },
   {
    "duration": 15,
    "start_time": "2024-05-05T10:45:24.893Z"
   },
   {
    "duration": 9,
    "start_time": "2024-05-05T10:45:52.025Z"
   },
   {
    "duration": 16,
    "start_time": "2024-05-05T10:45:59.369Z"
   },
   {
    "duration": 13,
    "start_time": "2024-05-05T10:46:13.797Z"
   },
   {
    "duration": 8,
    "start_time": "2024-05-05T10:46:27.792Z"
   },
   {
    "duration": 5,
    "start_time": "2024-05-05T10:46:33.570Z"
   },
   {
    "duration": 10,
    "start_time": "2024-05-05T10:46:45.516Z"
   },
   {
    "duration": 18,
    "start_time": "2024-05-05T10:47:00.953Z"
   },
   {
    "duration": 12,
    "start_time": "2024-05-05T10:47:11.603Z"
   },
   {
    "duration": 17,
    "start_time": "2024-05-05T10:47:53.227Z"
   },
   {
    "duration": 17,
    "start_time": "2024-05-05T10:48:29.197Z"
   },
   {
    "duration": 18,
    "start_time": "2024-05-05T10:49:14.074Z"
   },
   {
    "duration": 21,
    "start_time": "2024-05-05T10:49:30.640Z"
   },
   {
    "duration": 23,
    "start_time": "2024-05-05T10:50:01.710Z"
   },
   {
    "duration": 33,
    "start_time": "2024-05-05T10:50:11.592Z"
   },
   {
    "duration": 20,
    "start_time": "2024-05-05T10:50:45.886Z"
   },
   {
    "duration": 19,
    "start_time": "2024-05-05T10:50:56.081Z"
   },
   {
    "duration": 39,
    "start_time": "2024-05-05T10:51:07.913Z"
   },
   {
    "duration": 46,
    "start_time": "2024-05-05T10:52:05.621Z"
   },
   {
    "duration": 668,
    "start_time": "2024-05-05T10:52:42.375Z"
   },
   {
    "duration": 25,
    "start_time": "2024-05-05T10:53:59.563Z"
   },
   {
    "duration": 670,
    "start_time": "2024-05-05T10:54:21.029Z"
   },
   {
    "duration": 35,
    "start_time": "2024-05-05T10:54:58.947Z"
   },
   {
    "duration": 827,
    "start_time": "2024-05-05T10:55:20.090Z"
   },
   {
    "duration": 25,
    "start_time": "2024-05-05T10:55:45.770Z"
   },
   {
    "duration": 7,
    "start_time": "2024-05-05T10:56:14.161Z"
   },
   {
    "duration": 10,
    "start_time": "2024-05-05T10:56:28.881Z"
   },
   {
    "duration": 428,
    "start_time": "2024-05-06T08:19:29.441Z"
   },
   {
    "duration": 393,
    "start_time": "2024-05-06T08:19:30.682Z"
   },
   {
    "duration": 20,
    "start_time": "2024-05-06T08:19:32.505Z"
   },
   {
    "duration": 20,
    "start_time": "2024-05-06T08:32:45.909Z"
   },
   {
    "duration": 24,
    "start_time": "2024-05-06T08:33:14.566Z"
   },
   {
    "duration": 19,
    "start_time": "2024-05-06T08:33:26.333Z"
   },
   {
    "duration": 37,
    "start_time": "2024-05-06T08:34:38.487Z"
   },
   {
    "duration": 131,
    "start_time": "2024-05-06T08:35:50.750Z"
   },
   {
    "duration": 17,
    "start_time": "2024-05-06T08:35:53.542Z"
   },
   {
    "duration": 34,
    "start_time": "2024-05-06T08:35:56.349Z"
   },
   {
    "duration": 510,
    "start_time": "2024-05-06T08:40:18.267Z"
   },
   {
    "duration": 4,
    "start_time": "2024-05-06T08:41:49.699Z"
   },
   {
    "duration": 76,
    "start_time": "2024-05-06T08:42:20.634Z"
   },
   {
    "duration": 70,
    "start_time": "2024-05-06T08:42:45.107Z"
   },
   {
    "duration": 79,
    "start_time": "2024-05-06T08:43:14.411Z"
   },
   {
    "duration": 78,
    "start_time": "2024-05-06T08:43:51.171Z"
   },
   {
    "duration": 7,
    "start_time": "2024-05-06T08:44:16.684Z"
   },
   {
    "duration": 20,
    "start_time": "2024-05-06T08:44:19.453Z"
   },
   {
    "duration": 6,
    "start_time": "2024-05-06T08:44:29.149Z"
   },
   {
    "duration": 19,
    "start_time": "2024-05-06T08:44:30.997Z"
   },
   {
    "duration": 126,
    "start_time": "2024-05-06T08:44:37.156Z"
   },
   {
    "duration": 20,
    "start_time": "2024-05-06T08:44:38.667Z"
   },
   {
    "duration": 4,
    "start_time": "2024-05-06T08:44:40.219Z"
   },
   {
    "duration": 29,
    "start_time": "2024-05-06T08:44:42.004Z"
   },
   {
    "duration": 8,
    "start_time": "2024-05-06T08:46:08.469Z"
   },
   {
    "duration": 17,
    "start_time": "2024-05-06T08:46:14.740Z"
   },
   {
    "duration": 16,
    "start_time": "2024-05-06T08:47:25.574Z"
   },
   {
    "duration": 74,
    "start_time": "2024-05-06T09:29:59.085Z"
   },
   {
    "duration": 9,
    "start_time": "2024-05-06T09:30:07.500Z"
   },
   {
    "duration": 27,
    "start_time": "2024-05-06T09:30:21.083Z"
   },
   {
    "duration": 26,
    "start_time": "2024-05-06T09:31:20.599Z"
   },
   {
    "duration": 10,
    "start_time": "2024-05-06T09:34:58.856Z"
   },
   {
    "duration": 17,
    "start_time": "2024-05-06T09:36:01.280Z"
   },
   {
    "duration": 25,
    "start_time": "2024-05-06T09:38:07.921Z"
   },
   {
    "duration": 19,
    "start_time": "2024-05-06T09:40:12.188Z"
   },
   {
    "duration": 13,
    "start_time": "2024-05-06T09:48:24.661Z"
   },
   {
    "duration": 18,
    "start_time": "2024-05-06T09:48:46.649Z"
   },
   {
    "duration": 6,
    "start_time": "2024-05-06T09:54:07.342Z"
   },
   {
    "duration": 152,
    "start_time": "2024-05-06T09:55:45.062Z"
   },
   {
    "duration": 8,
    "start_time": "2024-05-06T09:56:17.294Z"
   },
   {
    "duration": 20,
    "start_time": "2024-05-06T09:56:30.190Z"
   },
   {
    "duration": 5,
    "start_time": "2024-05-06T09:57:30.640Z"
   },
   {
    "duration": 5,
    "start_time": "2024-05-06T09:58:08.839Z"
   },
   {
    "duration": 1066,
    "start_time": "2024-05-06T09:58:23.224Z"
   },
   {
    "duration": 5,
    "start_time": "2024-05-06T09:58:42.576Z"
   },
   {
    "duration": 131,
    "start_time": "2024-05-06T09:59:37.536Z"
   },
   {
    "duration": 17,
    "start_time": "2024-05-06T09:59:38.122Z"
   },
   {
    "duration": 5,
    "start_time": "2024-05-06T09:59:39.235Z"
   },
   {
    "duration": 19,
    "start_time": "2024-05-06T09:59:40.230Z"
   },
   {
    "duration": 19,
    "start_time": "2024-05-06T09:59:44.407Z"
   },
   {
    "duration": 16,
    "start_time": "2024-05-06T09:59:54.462Z"
   },
   {
    "duration": 7,
    "start_time": "2024-05-06T09:59:58.521Z"
   },
   {
    "duration": 6,
    "start_time": "2024-05-06T10:00:36.882Z"
   },
   {
    "duration": 6,
    "start_time": "2024-05-06T10:00:44.626Z"
   },
   {
    "duration": 7,
    "start_time": "2024-05-06T10:00:55.009Z"
   },
   {
    "duration": 9,
    "start_time": "2024-05-06T10:01:07.078Z"
   },
   {
    "duration": 10,
    "start_time": "2024-05-06T10:17:06.670Z"
   },
   {
    "duration": 6,
    "start_time": "2024-05-06T10:17:24.982Z"
   },
   {
    "duration": 6,
    "start_time": "2024-05-06T10:17:42.438Z"
   },
   {
    "duration": 5,
    "start_time": "2024-05-06T10:18:34.183Z"
   },
   {
    "duration": 17,
    "start_time": "2024-05-06T10:18:44.638Z"
   },
   {
    "duration": 7,
    "start_time": "2024-05-06T10:18:54.989Z"
   },
   {
    "duration": 8,
    "start_time": "2024-05-06T10:19:12.791Z"
   },
   {
    "duration": 16,
    "start_time": "2024-05-06T10:19:15.976Z"
   },
   {
    "duration": 7,
    "start_time": "2024-05-06T10:19:31.231Z"
   },
   {
    "duration": 17,
    "start_time": "2024-05-06T10:20:29.519Z"
   },
   {
    "duration": 18,
    "start_time": "2024-05-06T11:30:08.987Z"
   },
   {
    "duration": 18,
    "start_time": "2024-05-06T11:35:48.461Z"
   },
   {
    "duration": 14,
    "start_time": "2024-05-06T11:36:05.091Z"
   },
   {
    "duration": 13,
    "start_time": "2024-05-06T11:36:54.428Z"
   },
   {
    "duration": 14,
    "start_time": "2024-05-06T11:37:53.220Z"
   },
   {
    "duration": 18,
    "start_time": "2024-05-06T11:38:06.439Z"
   },
   {
    "duration": 5,
    "start_time": "2024-05-06T11:38:08.482Z"
   },
   {
    "duration": 19,
    "start_time": "2024-05-06T11:38:10.185Z"
   },
   {
    "duration": 17,
    "start_time": "2024-05-06T11:38:16.344Z"
   },
   {
    "duration": 80,
    "start_time": "2024-05-06T11:38:19.246Z"
   },
   {
    "duration": 7,
    "start_time": "2024-05-06T11:38:22.987Z"
   },
   {
    "duration": 17,
    "start_time": "2024-05-06T11:38:29.480Z"
   },
   {
    "duration": 37,
    "start_time": "2024-05-06T11:38:41.206Z"
   },
   {
    "duration": 20,
    "start_time": "2024-05-06T11:49:50.695Z"
   },
   {
    "duration": 20,
    "start_time": "2024-05-06T11:50:51.311Z"
   },
   {
    "duration": 19,
    "start_time": "2024-05-06T11:51:59.304Z"
   },
   {
    "duration": 13,
    "start_time": "2024-05-06T11:52:07.730Z"
   },
   {
    "duration": 5,
    "start_time": "2024-05-06T11:58:04.988Z"
   },
   {
    "duration": 351,
    "start_time": "2024-05-06T11:58:36.428Z"
   },
   {
    "duration": 352,
    "start_time": "2024-05-06T11:59:12.767Z"
   },
   {
    "duration": 302,
    "start_time": "2024-05-06T12:00:09.990Z"
   },
   {
    "duration": 341,
    "start_time": "2024-05-06T12:00:37.574Z"
   },
   {
    "duration": 434,
    "start_time": "2024-05-06T12:02:16.017Z"
   },
   {
    "duration": 296,
    "start_time": "2024-05-06T12:02:39.741Z"
   },
   {
    "duration": 300,
    "start_time": "2024-05-06T12:02:49.820Z"
   },
   {
    "duration": 301,
    "start_time": "2024-05-06T12:04:41.523Z"
   },
   {
    "duration": 318,
    "start_time": "2024-05-06T12:09:17.443Z"
   },
   {
    "duration": 16,
    "start_time": "2024-05-06T12:10:10.188Z"
   },
   {
    "duration": 18,
    "start_time": "2024-05-06T12:10:14.603Z"
   },
   {
    "duration": 16,
    "start_time": "2024-05-06T12:10:23.508Z"
   },
   {
    "duration": 15,
    "start_time": "2024-05-06T12:10:30.004Z"
   },
   {
    "duration": 14,
    "start_time": "2024-05-06T12:12:00.693Z"
   },
   {
    "duration": 13,
    "start_time": "2024-05-06T12:12:13.829Z"
   },
   {
    "duration": 6,
    "start_time": "2024-05-06T12:12:30.461Z"
   },
   {
    "duration": 5,
    "start_time": "2024-05-06T12:12:40.093Z"
   },
   {
    "duration": 130,
    "start_time": "2024-05-06T12:15:22.791Z"
   },
   {
    "duration": 20,
    "start_time": "2024-05-06T12:15:24.122Z"
   },
   {
    "duration": 5,
    "start_time": "2024-05-06T12:15:26.406Z"
   },
   {
    "duration": 18,
    "start_time": "2024-05-06T12:15:28.514Z"
   },
   {
    "duration": 8,
    "start_time": "2024-05-06T12:15:33.649Z"
   },
   {
    "duration": 300,
    "start_time": "2024-05-06T12:15:53.423Z"
   },
   {
    "duration": 12,
    "start_time": "2024-05-06T12:18:10.099Z"
   },
   {
    "duration": 275,
    "start_time": "2024-05-06T12:20:18.039Z"
   },
   {
    "duration": 12,
    "start_time": "2024-05-06T12:20:38.173Z"
   },
   {
    "duration": 12,
    "start_time": "2024-05-06T12:21:15.372Z"
   },
   {
    "duration": 6,
    "start_time": "2024-05-06T12:21:30.292Z"
   },
   {
    "duration": 6,
    "start_time": "2024-05-06T12:21:57.667Z"
   },
   {
    "duration": 125,
    "start_time": "2024-05-06T12:22:20.232Z"
   },
   {
    "duration": 21,
    "start_time": "2024-05-06T12:22:21.881Z"
   },
   {
    "duration": 5,
    "start_time": "2024-05-06T12:22:24.201Z"
   },
   {
    "duration": 18,
    "start_time": "2024-05-06T12:22:25.731Z"
   },
   {
    "duration": 16,
    "start_time": "2024-05-06T12:22:29.018Z"
   },
   {
    "duration": 18,
    "start_time": "2024-05-06T12:22:32.035Z"
   },
   {
    "duration": 7,
    "start_time": "2024-05-06T12:22:35.392Z"
   },
   {
    "duration": 12,
    "start_time": "2024-05-06T12:22:37.893Z"
   },
   {
    "duration": 5,
    "start_time": "2024-05-06T12:22:40.985Z"
   },
   {
    "duration": 7,
    "start_time": "2024-05-07T08:11:01.668Z"
   },
   {
    "duration": 19,
    "start_time": "2024-05-07T08:11:42.833Z"
   },
   {
    "duration": 42,
    "start_time": "2024-05-07T08:13:31.282Z"
   },
   {
    "duration": 35,
    "start_time": "2024-05-07T08:16:45.304Z"
   },
   {
    "duration": 33,
    "start_time": "2024-05-07T08:19:14.006Z"
   },
   {
    "duration": 42,
    "start_time": "2024-05-07T08:23:14.336Z"
   },
   {
    "duration": 23,
    "start_time": "2024-05-07T08:36:37.381Z"
   },
   {
    "duration": 20,
    "start_time": "2024-05-07T08:36:51.690Z"
   },
   {
    "duration": 21,
    "start_time": "2024-05-07T08:39:19.276Z"
   },
   {
    "duration": 20,
    "start_time": "2024-05-07T08:39:34.211Z"
   },
   {
    "duration": 31,
    "start_time": "2024-05-07T08:40:00.515Z"
   },
   {
    "duration": 28,
    "start_time": "2024-05-07T08:40:14.965Z"
   },
   {
    "duration": 40,
    "start_time": "2024-05-07T08:40:49.373Z"
   },
   {
    "duration": 22,
    "start_time": "2024-05-07T08:41:06.845Z"
   },
   {
    "duration": 27,
    "start_time": "2024-05-07T08:43:30.711Z"
   },
   {
    "duration": 1046,
    "start_time": "2024-05-07T08:44:01.318Z"
   },
   {
    "duration": 25,
    "start_time": "2024-05-07T08:44:27.831Z"
   },
   {
    "duration": 40,
    "start_time": "2024-05-07T08:44:36.960Z"
   },
   {
    "duration": 33,
    "start_time": "2024-05-07T08:45:31.873Z"
   },
   {
    "duration": 34,
    "start_time": "2024-05-07T08:53:03.838Z"
   },
   {
    "duration": 32,
    "start_time": "2024-05-07T08:53:26.629Z"
   },
   {
    "duration": 4,
    "start_time": "2024-05-07T08:53:34.430Z"
   },
   {
    "duration": 35,
    "start_time": "2024-05-07T08:53:42.581Z"
   },
   {
    "duration": 17,
    "start_time": "2024-05-07T08:57:23.433Z"
   },
   {
    "duration": 23,
    "start_time": "2024-05-07T08:58:29.545Z"
   },
   {
    "duration": 22,
    "start_time": "2024-05-07T08:58:51.760Z"
   },
   {
    "duration": 22,
    "start_time": "2024-05-07T09:02:08.507Z"
   },
   {
    "duration": 17,
    "start_time": "2024-05-07T09:02:15.595Z"
   },
   {
    "duration": 18,
    "start_time": "2024-05-07T09:07:53.343Z"
   },
   {
    "duration": 18,
    "start_time": "2024-05-07T09:11:29.191Z"
   },
   {
    "duration": 16,
    "start_time": "2024-05-07T09:11:35.819Z"
   },
   {
    "duration": 16,
    "start_time": "2024-05-07T09:13:14.954Z"
   },
   {
    "duration": 23,
    "start_time": "2024-05-07T09:13:23.876Z"
   },
   {
    "duration": 23,
    "start_time": "2024-05-07T09:14:04.396Z"
   },
   {
    "duration": 1009,
    "start_time": "2024-05-07T09:17:03.350Z"
   },
   {
    "duration": 126,
    "start_time": "2024-05-07T09:18:23.006Z"
   },
   {
    "duration": 77,
    "start_time": "2024-05-07T09:18:48.711Z"
   },
   {
    "duration": 90,
    "start_time": "2024-05-07T09:19:25.911Z"
   },
   {
    "duration": 67,
    "start_time": "2024-05-07T09:19:42.119Z"
   },
   {
    "duration": 22,
    "start_time": "2024-05-07T09:21:55.089Z"
   },
   {
    "duration": 22,
    "start_time": "2024-05-07T09:22:17.978Z"
   },
   {
    "duration": 128,
    "start_time": "2024-05-07T09:22:28.064Z"
   },
   {
    "duration": 19,
    "start_time": "2024-05-07T09:22:29.231Z"
   },
   {
    "duration": 6,
    "start_time": "2024-05-07T09:22:31.896Z"
   },
   {
    "duration": 23,
    "start_time": "2024-05-07T09:22:33.797Z"
   },
   {
    "duration": 16,
    "start_time": "2024-05-07T09:22:36.747Z"
   },
   {
    "duration": 16,
    "start_time": "2024-05-07T09:22:41.447Z"
   },
   {
    "duration": 7,
    "start_time": "2024-05-07T09:22:44.760Z"
   },
   {
    "duration": 13,
    "start_time": "2024-05-07T09:22:46.757Z"
   },
   {
    "duration": 7,
    "start_time": "2024-05-07T09:22:49.677Z"
   },
   {
    "duration": 21,
    "start_time": "2024-05-07T09:23:00.538Z"
   },
   {
    "duration": 23,
    "start_time": "2024-05-07T09:23:15.034Z"
   },
   {
    "duration": 4,
    "start_time": "2024-05-07T09:23:42.290Z"
   },
   {
    "duration": 20,
    "start_time": "2024-05-07T09:23:46.186Z"
   },
   {
    "duration": 112,
    "start_time": "2024-05-07T09:23:50.907Z"
   },
   {
    "duration": 24,
    "start_time": "2024-05-07T09:24:15.972Z"
   },
   {
    "duration": 194,
    "start_time": "2024-05-07T09:26:42.909Z"
   },
   {
    "duration": 2,
    "start_time": "2024-05-07T09:29:31.119Z"
   },
   {
    "duration": 27,
    "start_time": "2024-05-07T09:32:54.257Z"
   },
   {
    "duration": 1011,
    "start_time": "2024-05-07T09:37:47.622Z"
   },
   {
    "duration": 73,
    "start_time": "2024-05-07T09:38:17.358Z"
   },
   {
    "duration": 38,
    "start_time": "2024-05-07T09:38:31.982Z"
   },
   {
    "duration": 3,
    "start_time": "2024-05-07T09:42:12.447Z"
   },
   {
    "duration": 126,
    "start_time": "2024-05-07T09:42:12.953Z"
   },
   {
    "duration": 17,
    "start_time": "2024-05-07T09:42:13.358Z"
   },
   {
    "duration": 5,
    "start_time": "2024-05-07T09:42:14.277Z"
   },
   {
    "duration": 18,
    "start_time": "2024-05-07T09:42:16.629Z"
   },
   {
    "duration": 17,
    "start_time": "2024-05-07T09:42:20.208Z"
   },
   {
    "duration": 16,
    "start_time": "2024-05-07T09:42:21.656Z"
   },
   {
    "duration": 8,
    "start_time": "2024-05-07T09:42:25.723Z"
   },
   {
    "duration": 12,
    "start_time": "2024-05-07T09:42:27.203Z"
   },
   {
    "duration": 7,
    "start_time": "2024-05-07T09:42:30.249Z"
   },
   {
    "duration": 2,
    "start_time": "2024-05-07T09:42:34.378Z"
   },
   {
    "duration": 31,
    "start_time": "2024-05-07T09:42:36.355Z"
   },
   {
    "duration": 33,
    "start_time": "2024-05-07T09:43:46.810Z"
   },
   {
    "duration": 35,
    "start_time": "2024-05-07T09:45:57.939Z"
   },
   {
    "duration": 70,
    "start_time": "2024-05-07T09:47:25.444Z"
   },
   {
    "duration": 22,
    "start_time": "2024-05-07T09:47:48.700Z"
   },
   {
    "duration": 24,
    "start_time": "2024-05-07T09:47:57.901Z"
   },
   {
    "duration": 21,
    "start_time": "2024-05-07T09:48:06.140Z"
   },
   {
    "duration": 23,
    "start_time": "2024-05-07T09:48:55.789Z"
   },
   {
    "duration": 16,
    "start_time": "2024-05-07T09:50:26.758Z"
   },
   {
    "duration": 30,
    "start_time": "2024-05-07T09:50:35.334Z"
   },
   {
    "duration": 28,
    "start_time": "2024-05-07T09:51:25.976Z"
   },
   {
    "duration": 70,
    "start_time": "2024-05-07T09:51:41.399Z"
   },
   {
    "duration": 21,
    "start_time": "2024-05-07T09:51:45.536Z"
   },
   {
    "duration": 30,
    "start_time": "2024-05-07T09:53:24.345Z"
   },
   {
    "duration": 25,
    "start_time": "2024-05-07T09:57:21.740Z"
   },
   {
    "duration": 20,
    "start_time": "2024-05-07T09:57:41.628Z"
   },
   {
    "duration": 946,
    "start_time": "2024-05-07T09:58:06.115Z"
   },
   {
    "duration": 21,
    "start_time": "2024-05-07T09:58:12.846Z"
   },
   {
    "duration": 20,
    "start_time": "2024-05-07T09:58:50.956Z"
   },
   {
    "duration": 25,
    "start_time": "2024-05-07T09:58:57.771Z"
   },
   {
    "duration": 22,
    "start_time": "2024-05-07T09:59:35.076Z"
   },
   {
    "duration": 21,
    "start_time": "2024-05-07T09:59:50.700Z"
   },
   {
    "duration": 33,
    "start_time": "2024-05-07T10:04:21.633Z"
   },
   {
    "duration": 22,
    "start_time": "2024-05-07T10:04:39.095Z"
   },
   {
    "duration": 22,
    "start_time": "2024-05-07T10:06:11.928Z"
   },
   {
    "duration": 21,
    "start_time": "2024-05-07T10:06:53.475Z"
   },
   {
    "duration": 23,
    "start_time": "2024-05-07T10:07:06.697Z"
   },
   {
    "duration": 21,
    "start_time": "2024-05-07T10:07:44.531Z"
   },
   {
    "duration": 20,
    "start_time": "2024-05-07T10:07:57.354Z"
   },
   {
    "duration": 19,
    "start_time": "2024-05-07T10:12:08.357Z"
   },
   {
    "duration": 21,
    "start_time": "2024-05-07T10:12:12.405Z"
   },
   {
    "duration": 37,
    "start_time": "2024-05-07T10:13:49.703Z"
   },
   {
    "duration": 93,
    "start_time": "2024-05-07T10:14:24.007Z"
   },
   {
    "duration": 26,
    "start_time": "2024-05-07T10:14:28.767Z"
   },
   {
    "duration": 36,
    "start_time": "2024-05-07T10:51:14.032Z"
   },
   {
    "duration": 18,
    "start_time": "2024-05-07T10:52:55.484Z"
   },
   {
    "duration": 16,
    "start_time": "2024-05-07T10:53:07.085Z"
   },
   {
    "duration": 21,
    "start_time": "2024-05-07T10:53:39.228Z"
   },
   {
    "duration": 21,
    "start_time": "2024-05-07T10:53:53.740Z"
   },
   {
    "duration": 94,
    "start_time": "2024-05-07T10:54:39.148Z"
   },
   {
    "duration": 24,
    "start_time": "2024-05-07T10:54:45.340Z"
   },
   {
    "duration": 22,
    "start_time": "2024-05-07T10:54:57.492Z"
   },
   {
    "duration": 28,
    "start_time": "2024-05-07T10:55:38.604Z"
   },
   {
    "duration": 24,
    "start_time": "2024-05-07T10:55:59.645Z"
   },
   {
    "duration": 29,
    "start_time": "2024-05-07T10:56:32.509Z"
   },
   {
    "duration": 71,
    "start_time": "2024-05-07T10:57:16.230Z"
   },
   {
    "duration": 29,
    "start_time": "2024-05-07T10:57:23.749Z"
   },
   {
    "duration": 20,
    "start_time": "2024-05-07T10:58:25.391Z"
   },
   {
    "duration": 22,
    "start_time": "2024-05-07T10:58:35.391Z"
   },
   {
    "duration": 21,
    "start_time": "2024-05-07T10:58:58.198Z"
   },
   {
    "duration": 21,
    "start_time": "2024-05-07T10:59:07.127Z"
   },
   {
    "duration": 40,
    "start_time": "2024-05-07T10:59:34.992Z"
   },
   {
    "duration": 23,
    "start_time": "2024-05-07T10:59:46.154Z"
   },
   {
    "duration": 19,
    "start_time": "2024-05-07T11:00:27.288Z"
   },
   {
    "duration": 20,
    "start_time": "2024-05-07T11:00:52.120Z"
   },
   {
    "duration": 18,
    "start_time": "2024-05-07T11:01:21.281Z"
   },
   {
    "duration": 19,
    "start_time": "2024-05-07T11:01:56.737Z"
   },
   {
    "duration": 20,
    "start_time": "2024-05-07T11:02:14.626Z"
   },
   {
    "duration": 25,
    "start_time": "2024-05-07T11:02:26.833Z"
   },
   {
    "duration": 23,
    "start_time": "2024-05-07T11:02:41.227Z"
   },
   {
    "duration": 75,
    "start_time": "2024-05-07T11:02:57.378Z"
   },
   {
    "duration": 21,
    "start_time": "2024-05-07T11:03:00.770Z"
   },
   {
    "duration": 21,
    "start_time": "2024-05-07T11:03:12.458Z"
   },
   {
    "duration": 22,
    "start_time": "2024-05-07T11:03:38.003Z"
   },
   {
    "duration": 29,
    "start_time": "2024-05-07T11:04:32.883Z"
   },
   {
    "duration": 40,
    "start_time": "2024-05-07T11:05:10.204Z"
   },
   {
    "duration": 33,
    "start_time": "2024-05-07T11:05:16.500Z"
   },
   {
    "duration": 34,
    "start_time": "2024-05-07T11:05:30.948Z"
   },
   {
    "duration": 51,
    "start_time": "2024-05-07T11:06:10.604Z"
   },
   {
    "duration": 55,
    "start_time": "2024-05-07T11:06:14.556Z"
   },
   {
    "duration": 107,
    "start_time": "2024-05-07T11:07:34.245Z"
   },
   {
    "duration": 41,
    "start_time": "2024-05-07T11:07:41.901Z"
   },
   {
    "duration": 33,
    "start_time": "2024-05-07T11:10:53.495Z"
   },
   {
    "duration": 39,
    "start_time": "2024-05-07T11:11:37.128Z"
   },
   {
    "duration": 27,
    "start_time": "2024-05-07T11:11:59.616Z"
   },
   {
    "duration": 41,
    "start_time": "2024-05-07T11:12:07.529Z"
   },
   {
    "duration": 1109,
    "start_time": "2024-05-07T11:12:43.673Z"
   },
   {
    "duration": 1193,
    "start_time": "2024-05-07T11:13:42.762Z"
   },
   {
    "duration": 17089,
    "start_time": "2024-05-07T11:16:05.020Z"
   },
   {
    "duration": 16468,
    "start_time": "2024-05-07T11:16:27.137Z"
   },
   {
    "duration": 16354,
    "start_time": "2024-05-07T11:17:30.400Z"
   },
   {
    "duration": 8066,
    "start_time": "2024-05-07T11:18:16.483Z"
   },
   {
    "duration": 8180,
    "start_time": "2024-05-07T11:19:31.260Z"
   },
   {
    "duration": 8378,
    "start_time": "2024-05-07T11:20:02.256Z"
   },
   {
    "duration": 862,
    "start_time": "2024-05-07T11:21:19.218Z"
   },
   {
    "duration": 36,
    "start_time": "2024-05-07T11:21:31.352Z"
   },
   {
    "duration": 335,
    "start_time": "2024-05-07T11:22:46.239Z"
   },
   {
    "duration": 37,
    "start_time": "2024-05-07T11:23:17.202Z"
   },
   {
    "duration": 5,
    "start_time": "2024-05-07T11:29:12.833Z"
   },
   {
    "duration": 416,
    "start_time": "2024-05-07T11:29:27.815Z"
   },
   {
    "duration": 131,
    "start_time": "2024-05-07T11:29:28.255Z"
   },
   {
    "duration": 27,
    "start_time": "2024-05-07T11:29:28.660Z"
   },
   {
    "duration": 4,
    "start_time": "2024-05-07T11:29:29.592Z"
   },
   {
    "duration": 320,
    "start_time": "2024-05-07T11:29:32.277Z"
   },
   {
    "duration": 18,
    "start_time": "2024-05-07T11:29:34.270Z"
   },
   {
    "duration": 20,
    "start_time": "2024-05-07T11:29:35.049Z"
   },
   {
    "duration": 7,
    "start_time": "2024-05-07T11:29:35.653Z"
   },
   {
    "duration": 12,
    "start_time": "2024-05-07T11:29:36.526Z"
   },
   {
    "duration": 6,
    "start_time": "2024-05-07T11:29:38.541Z"
   },
   {
    "duration": 6,
    "start_time": "2024-05-07T11:29:40.071Z"
   },
   {
    "duration": 3,
    "start_time": "2024-05-07T11:29:43.667Z"
   },
   {
    "duration": 15,
    "start_time": "2024-05-07T11:29:44.699Z"
   },
   {
    "duration": 119,
    "start_time": "2024-05-07T11:31:02.798Z"
   },
   {
    "duration": 6,
    "start_time": "2024-05-07T11:31:27.717Z"
   },
   {
    "duration": 19,
    "start_time": "2024-05-07T11:32:03.142Z"
   },
   {
    "duration": 19,
    "start_time": "2024-05-07T11:32:32.174Z"
   },
   {
    "duration": 2,
    "start_time": "2024-05-07T11:35:59.945Z"
   },
   {
    "duration": 2,
    "start_time": "2024-05-07T11:36:22.290Z"
   },
   {
    "duration": 5,
    "start_time": "2024-05-07T11:36:32.128Z"
   },
   {
    "duration": 13,
    "start_time": "2024-05-07T11:37:05.081Z"
   },
   {
    "duration": 10,
    "start_time": "2024-05-07T11:37:09.194Z"
   },
   {
    "duration": 27,
    "start_time": "2024-05-07T11:37:14.659Z"
   },
   {
    "duration": 14,
    "start_time": "2024-05-07T11:37:21.219Z"
   },
   {
    "duration": 8,
    "start_time": "2024-05-07T11:38:50.690Z"
   },
   {
    "duration": 7,
    "start_time": "2024-05-07T11:38:56.620Z"
   },
   {
    "duration": 5,
    "start_time": "2024-05-07T11:39:08.308Z"
   },
   {
    "duration": 6,
    "start_time": "2024-05-07T11:39:13.355Z"
   },
   {
    "duration": 8,
    "start_time": "2024-05-07T11:39:24.848Z"
   },
   {
    "duration": 4,
    "start_time": "2024-05-07T11:39:31.483Z"
   },
   {
    "duration": 14,
    "start_time": "2024-05-07T11:44:50.199Z"
   },
   {
    "duration": 20,
    "start_time": "2024-05-07T12:22:18.346Z"
   },
   {
    "duration": 4,
    "start_time": "2024-05-07T16:16:40.585Z"
   },
   {
    "duration": 134,
    "start_time": "2024-05-07T16:16:43.412Z"
   },
   {
    "duration": 76,
    "start_time": "2024-05-07T16:16:44.125Z"
   },
   {
    "duration": 121,
    "start_time": "2024-05-07T16:16:47.273Z"
   },
   {
    "duration": 138,
    "start_time": "2024-05-07T16:16:49.732Z"
   },
   {
    "duration": 26,
    "start_time": "2024-05-07T16:16:50.410Z"
   },
   {
    "duration": 5,
    "start_time": "2024-05-07T16:16:52.149Z"
   },
   {
    "duration": 19,
    "start_time": "2024-05-07T16:16:53.009Z"
   },
   {
    "duration": 23,
    "start_time": "2024-05-07T16:16:55.069Z"
   },
   {
    "duration": 16,
    "start_time": "2024-05-07T16:16:55.690Z"
   },
   {
    "duration": 7,
    "start_time": "2024-05-07T16:16:56.760Z"
   },
   {
    "duration": 12,
    "start_time": "2024-05-07T16:16:57.524Z"
   },
   {
    "duration": 6,
    "start_time": "2024-05-07T16:16:58.994Z"
   },
   {
    "duration": 6,
    "start_time": "2024-05-07T16:17:00.332Z"
   },
   {
    "duration": 2,
    "start_time": "2024-05-07T16:17:04.551Z"
   },
   {
    "duration": 14,
    "start_time": "2024-05-07T16:17:05.758Z"
   },
   {
    "duration": 15,
    "start_time": "2024-05-07T16:17:07.674Z"
   },
   {
    "duration": 10,
    "start_time": "2024-05-07T16:18:58.270Z"
   },
   {
    "duration": 16,
    "start_time": "2024-05-07T16:21:54.229Z"
   },
   {
    "duration": 17,
    "start_time": "2024-05-07T16:34:45.932Z"
   },
   {
    "duration": 16,
    "start_time": "2024-05-07T16:34:56.367Z"
   },
   {
    "duration": 17,
    "start_time": "2024-05-07T16:46:30.118Z"
   },
   {
    "duration": 6,
    "start_time": "2024-05-07T16:49:15.721Z"
   },
   {
    "duration": 6,
    "start_time": "2024-05-07T16:49:30.599Z"
   },
   {
    "duration": 6,
    "start_time": "2024-05-07T16:49:37.378Z"
   },
   {
    "duration": 6,
    "start_time": "2024-05-07T16:49:51.138Z"
   },
   {
    "duration": 11,
    "start_time": "2024-05-07T16:49:58.996Z"
   },
   {
    "duration": 5,
    "start_time": "2024-05-07T16:50:16.453Z"
   },
   {
    "duration": 21,
    "start_time": "2024-05-07T16:51:24.144Z"
   },
   {
    "duration": 20,
    "start_time": "2024-05-07T16:51:39.458Z"
   },
   {
    "duration": 4,
    "start_time": "2024-05-07T16:57:41.231Z"
   },
   {
    "duration": 19,
    "start_time": "2024-05-07T17:00:07.004Z"
   },
   {
    "duration": 11,
    "start_time": "2024-05-07T17:01:18.783Z"
   },
   {
    "duration": 19,
    "start_time": "2024-05-07T17:01:40.985Z"
   },
   {
    "duration": 15,
    "start_time": "2024-05-07T17:02:06.262Z"
   },
   {
    "duration": 12,
    "start_time": "2024-05-07T17:07:16.574Z"
   },
   {
    "duration": 10,
    "start_time": "2024-05-07T17:07:28.266Z"
   },
   {
    "duration": 11,
    "start_time": "2024-05-07T17:07:49.774Z"
   },
   {
    "duration": 6,
    "start_time": "2024-05-07T17:07:56.348Z"
   },
   {
    "duration": 17,
    "start_time": "2024-05-07T17:22:52.261Z"
   },
   {
    "duration": 61,
    "start_time": "2024-05-07T17:22:58.152Z"
   },
   {
    "duration": 7,
    "start_time": "2024-05-07T17:23:11.538Z"
   },
   {
    "duration": 16,
    "start_time": "2024-05-07T17:23:28.272Z"
   },
   {
    "duration": 6,
    "start_time": "2024-05-07T17:32:28.069Z"
   },
   {
    "duration": 39,
    "start_time": "2024-05-07T17:34:53.100Z"
   },
   {
    "duration": 41,
    "start_time": "2024-05-07T17:35:07.160Z"
   },
   {
    "duration": 77,
    "start_time": "2024-05-07T17:35:17.097Z"
   },
   {
    "duration": 42,
    "start_time": "2024-05-07T17:35:21.215Z"
   },
   {
    "duration": 40,
    "start_time": "2024-05-07T17:38:33.899Z"
   },
   {
    "duration": 863,
    "start_time": "2024-05-07T17:39:14.315Z"
   },
   {
    "duration": 43,
    "start_time": "2024-05-07T17:39:29.889Z"
   },
   {
    "duration": 45,
    "start_time": "2024-05-07T17:40:09.414Z"
   },
   {
    "duration": 15,
    "start_time": "2024-05-07T17:40:17.011Z"
   },
   {
    "duration": 11,
    "start_time": "2024-05-07T17:40:30.791Z"
   },
   {
    "duration": 7,
    "start_time": "2024-05-07T17:40:35.869Z"
   },
   {
    "duration": 10,
    "start_time": "2024-05-07T17:40:39.822Z"
   },
   {
    "duration": 16,
    "start_time": "2024-05-07T17:40:43.328Z"
   },
   {
    "duration": 3,
    "start_time": "2024-05-07T17:41:42.822Z"
   },
   {
    "duration": 130,
    "start_time": "2024-05-07T17:41:43.165Z"
   },
   {
    "duration": 20,
    "start_time": "2024-05-07T17:41:43.512Z"
   },
   {
    "duration": 6,
    "start_time": "2024-05-07T17:41:44.394Z"
   },
   {
    "duration": 16,
    "start_time": "2024-05-07T17:41:45.885Z"
   },
   {
    "duration": 19,
    "start_time": "2024-05-07T17:41:46.554Z"
   },
   {
    "duration": 7,
    "start_time": "2024-05-07T17:41:47.933Z"
   },
   {
    "duration": 12,
    "start_time": "2024-05-07T17:41:50.121Z"
   },
   {
    "duration": 5,
    "start_time": "2024-05-07T17:41:51.798Z"
   },
   {
    "duration": 4,
    "start_time": "2024-05-07T17:41:52.723Z"
   },
   {
    "duration": 2,
    "start_time": "2024-05-07T17:41:54.801Z"
   },
   {
    "duration": 16,
    "start_time": "2024-05-07T17:41:56.326Z"
   },
   {
    "duration": 283,
    "start_time": "2024-05-07T17:42:00.234Z"
   },
   {
    "duration": 49,
    "start_time": "2024-05-07T17:43:20.996Z"
   },
   {
    "duration": 25,
    "start_time": "2024-05-07T17:43:24.923Z"
   },
   {
    "duration": 18,
    "start_time": "2024-05-07T17:43:28.781Z"
   },
   {
    "duration": 4,
    "start_time": "2024-05-07T17:43:37.267Z"
   },
   {
    "duration": 16,
    "start_time": "2024-05-07T17:43:39.332Z"
   },
   {
    "duration": 44,
    "start_time": "2024-05-07T17:45:12.787Z"
   },
   {
    "duration": 14,
    "start_time": "2024-05-07T17:45:16.491Z"
   },
   {
    "duration": 54,
    "start_time": "2024-05-07T17:46:14.832Z"
   },
   {
    "duration": 15,
    "start_time": "2024-05-07T17:46:20.960Z"
   },
   {
    "duration": 14,
    "start_time": "2024-05-07T17:47:18.801Z"
   },
   {
    "duration": 9,
    "start_time": "2024-05-07T17:49:53.536Z"
   },
   {
    "duration": 15,
    "start_time": "2024-05-07T17:50:26.995Z"
   },
   {
    "duration": 7,
    "start_time": "2024-05-08T11:47:00.463Z"
   },
   {
    "duration": 21,
    "start_time": "2024-05-08T11:47:07.226Z"
   },
   {
    "duration": 22,
    "start_time": "2024-05-08T11:49:17.617Z"
   },
   {
    "duration": 7,
    "start_time": "2024-05-08T11:51:53.955Z"
   },
   {
    "duration": 6,
    "start_time": "2024-05-08T11:52:59.331Z"
   },
   {
    "duration": 5,
    "start_time": "2024-05-08T11:55:41.701Z"
   },
   {
    "duration": 4,
    "start_time": "2024-05-08T13:09:58.106Z"
   },
   {
    "duration": 3,
    "start_time": "2024-05-08T13:10:05.440Z"
   },
   {
    "duration": 3,
    "start_time": "2024-05-08T13:10:09.936Z"
   },
   {
    "duration": 81,
    "start_time": "2024-05-08T13:21:38.219Z"
   },
   {
    "duration": 3,
    "start_time": "2024-05-08T13:21:45.933Z"
   },
   {
    "duration": 3,
    "start_time": "2024-05-08T13:23:39.131Z"
   },
   {
    "duration": 8,
    "start_time": "2024-05-08T13:24:48.890Z"
   },
   {
    "duration": 20,
    "start_time": "2024-05-08T13:25:26.980Z"
   },
   {
    "duration": 10,
    "start_time": "2024-05-08T13:26:37.021Z"
   },
   {
    "duration": 18,
    "start_time": "2024-05-08T13:26:41.598Z"
   },
   {
    "duration": 23,
    "start_time": "2024-05-08T16:59:35.677Z"
   },
   {
    "duration": 4,
    "start_time": "2024-05-08T16:59:59.675Z"
   },
   {
    "duration": 14,
    "start_time": "2024-05-08T17:00:05.088Z"
   },
   {
    "duration": 18,
    "start_time": "2024-05-08T17:21:54.487Z"
   },
   {
    "duration": 24,
    "start_time": "2024-05-08T17:28:19.868Z"
   },
   {
    "duration": 18,
    "start_time": "2024-05-08T17:28:53.650Z"
   },
   {
    "duration": 32,
    "start_time": "2024-05-08T17:30:55.135Z"
   },
   {
    "duration": 16,
    "start_time": "2024-05-08T17:34:04.572Z"
   },
   {
    "duration": 5,
    "start_time": "2024-05-08T17:34:15.149Z"
   },
   {
    "duration": 5,
    "start_time": "2024-05-08T17:34:31.342Z"
   },
   {
    "duration": 9,
    "start_time": "2024-05-08T17:34:38.829Z"
   },
   {
    "duration": 5,
    "start_time": "2024-05-08T17:35:07.200Z"
   },
   {
    "duration": 17,
    "start_time": "2024-05-08T17:37:50.151Z"
   },
   {
    "duration": 12,
    "start_time": "2024-05-08T17:38:15.771Z"
   },
   {
    "duration": 32,
    "start_time": "2024-05-08T17:38:30.068Z"
   },
   {
    "duration": 3,
    "start_time": "2024-05-09T10:24:20.583Z"
   },
   {
    "duration": 124,
    "start_time": "2024-05-09T10:24:22.577Z"
   },
   {
    "duration": 19,
    "start_time": "2024-05-09T10:24:35.241Z"
   },
   {
    "duration": 5,
    "start_time": "2024-05-09T10:24:41.984Z"
   },
   {
    "duration": 17,
    "start_time": "2024-05-09T10:24:46.890Z"
   },
   {
    "duration": 15,
    "start_time": "2024-05-09T10:24:58.660Z"
   },
   {
    "duration": 409,
    "start_time": "2024-05-09T10:31:38.693Z"
   },
   {
    "duration": 118,
    "start_time": "2024-05-09T10:31:39.861Z"
   },
   {
    "duration": 20,
    "start_time": "2024-05-09T10:31:40.479Z"
   },
   {
    "duration": 5,
    "start_time": "2024-05-09T10:31:42.295Z"
   },
   {
    "duration": 15,
    "start_time": "2024-05-09T10:31:49.404Z"
   },
   {
    "duration": 21,
    "start_time": "2024-05-09T10:31:58.291Z"
   },
   {
    "duration": 7,
    "start_time": "2024-05-09T10:32:02.233Z"
   },
   {
    "duration": 10,
    "start_time": "2024-05-09T10:32:03.670Z"
   },
   {
    "duration": 5,
    "start_time": "2024-05-09T10:37:13.663Z"
   },
   {
    "duration": 63,
    "start_time": "2024-05-09T10:39:06.395Z"
   },
   {
    "duration": 7,
    "start_time": "2024-05-09T10:39:09.517Z"
   },
   {
    "duration": 7,
    "start_time": "2024-05-09T10:39:17.636Z"
   },
   {
    "duration": 20,
    "start_time": "2024-05-09T10:40:08.771Z"
   },
   {
    "duration": 19,
    "start_time": "2024-05-09T10:40:17.124Z"
   },
   {
    "duration": 293,
    "start_time": "2024-05-09T10:47:42.280Z"
   },
   {
    "duration": 4,
    "start_time": "2024-05-09T10:47:53.760Z"
   },
   {
    "duration": 14,
    "start_time": "2024-05-09T10:47:55.355Z"
   },
   {
    "duration": 45,
    "start_time": "2024-05-09T10:49:10.390Z"
   },
   {
    "duration": 41,
    "start_time": "2024-05-09T10:49:24.883Z"
   },
   {
    "duration": 38,
    "start_time": "2024-05-09T10:49:31.722Z"
   },
   {
    "duration": 352,
    "start_time": "2024-05-09T10:51:27.045Z"
   },
   {
    "duration": 121,
    "start_time": "2024-05-09T10:51:28.019Z"
   },
   {
    "duration": 19,
    "start_time": "2024-05-09T10:51:28.729Z"
   },
   {
    "duration": 4,
    "start_time": "2024-05-09T10:51:31.699Z"
   },
   {
    "duration": 16,
    "start_time": "2024-05-09T10:51:36.228Z"
   },
   {
    "duration": 21,
    "start_time": "2024-05-09T10:51:44.974Z"
   },
   {
    "duration": 7,
    "start_time": "2024-05-09T10:51:50.971Z"
   },
   {
    "duration": 11,
    "start_time": "2024-05-09T10:52:08.211Z"
   },
   {
    "duration": 276,
    "start_time": "2024-05-09T10:52:22.310Z"
   },
   {
    "duration": 5,
    "start_time": "2024-05-09T10:53:27.336Z"
   },
   {
    "duration": 35,
    "start_time": "2024-05-09T10:53:50.432Z"
   },
   {
    "duration": 11,
    "start_time": "2024-05-09T10:54:24.976Z"
   },
   {
    "duration": 11,
    "start_time": "2024-05-09T10:54:46.167Z"
   },
   {
    "duration": 10,
    "start_time": "2024-05-09T10:56:56.199Z"
   },
   {
    "duration": 17,
    "start_time": "2024-05-09T10:57:50.185Z"
   },
   {
    "duration": 21,
    "start_time": "2024-05-09T10:58:41.791Z"
   },
   {
    "duration": 19,
    "start_time": "2024-05-09T10:58:47.401Z"
   },
   {
    "duration": 19,
    "start_time": "2024-05-09T10:58:59.929Z"
   },
   {
    "duration": 5,
    "start_time": "2024-05-09T10:59:56.561Z"
   },
   {
    "duration": 6,
    "start_time": "2024-05-09T11:00:02.649Z"
   },
   {
    "duration": 19,
    "start_time": "2024-05-09T11:00:18.876Z"
   },
   {
    "duration": 69,
    "start_time": "2024-05-09T11:04:45.964Z"
   },
   {
    "duration": 96,
    "start_time": "2024-05-09T11:04:59.178Z"
   },
   {
    "duration": 73,
    "start_time": "2024-05-09T11:05:36.843Z"
   },
   {
    "duration": 92,
    "start_time": "2024-05-09T11:05:40.843Z"
   },
   {
    "duration": 30,
    "start_time": "2024-05-09T11:06:15.292Z"
   },
   {
    "duration": 31,
    "start_time": "2024-05-09T11:06:29.396Z"
   },
   {
    "duration": 22,
    "start_time": "2024-05-09T11:07:00.819Z"
   },
   {
    "duration": 74,
    "start_time": "2024-05-09T11:09:08.943Z"
   },
   {
    "duration": 7,
    "start_time": "2024-05-09T11:09:17.539Z"
   },
   {
    "duration": 8,
    "start_time": "2024-05-09T11:10:07.843Z"
   },
   {
    "duration": 71,
    "start_time": "2024-05-09T11:13:19.236Z"
   },
   {
    "duration": 67,
    "start_time": "2024-05-09T11:13:42.573Z"
   },
   {
    "duration": 70,
    "start_time": "2024-05-09T11:14:58.481Z"
   },
   {
    "duration": 70,
    "start_time": "2024-05-09T11:15:14.183Z"
   },
   {
    "duration": 8,
    "start_time": "2024-05-09T11:15:22.141Z"
   },
   {
    "duration": 8,
    "start_time": "2024-05-09T11:15:32.789Z"
   },
   {
    "duration": 85,
    "start_time": "2024-05-09T11:15:44.981Z"
   },
   {
    "duration": 81,
    "start_time": "2024-05-09T11:16:13.520Z"
   },
   {
    "duration": 3,
    "start_time": "2024-05-09T11:16:31.359Z"
   },
   {
    "duration": 4,
    "start_time": "2024-05-09T11:16:45.833Z"
   },
   {
    "duration": 7,
    "start_time": "2024-05-09T11:16:58.109Z"
   },
   {
    "duration": 14,
    "start_time": "2024-05-09T11:18:03.661Z"
   },
   {
    "duration": 8,
    "start_time": "2024-05-09T11:19:15.508Z"
   },
   {
    "duration": 23,
    "start_time": "2024-05-09T11:22:26.225Z"
   },
   {
    "duration": 23,
    "start_time": "2024-05-09T11:23:32.305Z"
   },
   {
    "duration": 22,
    "start_time": "2024-05-09T11:24:59.882Z"
   },
   {
    "duration": 22,
    "start_time": "2024-05-09T11:25:13.984Z"
   },
   {
    "duration": 30,
    "start_time": "2024-05-09T11:26:26.761Z"
   },
   {
    "duration": 23,
    "start_time": "2024-05-09T11:26:44.525Z"
   },
   {
    "duration": 21,
    "start_time": "2024-05-09T11:26:48.289Z"
   },
   {
    "duration": 9,
    "start_time": "2024-05-09T11:27:04.576Z"
   },
   {
    "duration": 9,
    "start_time": "2024-05-09T11:27:18.216Z"
   },
   {
    "duration": 27,
    "start_time": "2024-05-09T11:27:21.104Z"
   },
   {
    "duration": 11,
    "start_time": "2024-05-09T11:32:18.074Z"
   },
   {
    "duration": 4,
    "start_time": "2024-05-09T11:32:24.784Z"
   },
   {
    "duration": 4,
    "start_time": "2024-05-09T11:32:30.683Z"
   },
   {
    "duration": 10,
    "start_time": "2024-05-09T11:32:33.121Z"
   },
   {
    "duration": 8,
    "start_time": "2024-05-09T11:33:39.218Z"
   },
   {
    "duration": 9,
    "start_time": "2024-05-09T11:35:01.939Z"
   },
   {
    "duration": 10,
    "start_time": "2024-05-09T11:35:08.289Z"
   },
   {
    "duration": 7,
    "start_time": "2024-05-09T11:37:20.331Z"
   },
   {
    "duration": 8,
    "start_time": "2024-05-09T11:38:16.723Z"
   },
   {
    "duration": 10,
    "start_time": "2024-05-09T11:38:19.500Z"
   },
   {
    "duration": 8,
    "start_time": "2024-05-09T11:39:32.479Z"
   },
   {
    "duration": 11,
    "start_time": "2024-05-09T11:40:15.611Z"
   },
   {
    "duration": 11,
    "start_time": "2024-05-09T11:40:17.637Z"
   },
   {
    "duration": 52,
    "start_time": "2024-05-09T11:49:23.965Z"
   },
   {
    "duration": 4,
    "start_time": "2024-05-09T11:50:37.677Z"
   },
   {
    "duration": 2,
    "start_time": "2024-05-09T11:50:40.174Z"
   },
   {
    "duration": 16,
    "start_time": "2024-05-09T11:50:41.651Z"
   },
   {
    "duration": 48,
    "start_time": "2024-05-09T11:50:55.691Z"
   },
   {
    "duration": 53,
    "start_time": "2024-05-09T11:51:53.870Z"
   },
   {
    "duration": 56,
    "start_time": "2024-05-09T11:52:05.238Z"
   },
   {
    "duration": 9,
    "start_time": "2024-05-09T11:52:51.403Z"
   },
   {
    "duration": 13,
    "start_time": "2024-05-09T11:53:01.895Z"
   },
   {
    "duration": 11,
    "start_time": "2024-05-09T11:53:27.389Z"
   },
   {
    "duration": 59,
    "start_time": "2024-05-09T11:53:35.361Z"
   },
   {
    "duration": 26,
    "start_time": "2024-05-09T11:53:45.496Z"
   },
   {
    "duration": 24,
    "start_time": "2024-05-09T11:53:57.036Z"
   },
   {
    "duration": 16,
    "start_time": "2024-05-09T11:54:01.120Z"
   },
   {
    "duration": 4,
    "start_time": "2024-05-09T11:56:50.264Z"
   },
   {
    "duration": 5,
    "start_time": "2024-05-09T11:57:13.328Z"
   },
   {
    "duration": 24,
    "start_time": "2024-05-09T12:05:55.562Z"
   },
   {
    "duration": 7,
    "start_time": "2024-05-09T12:08:58.192Z"
   },
   {
    "duration": 22,
    "start_time": "2024-05-09T12:09:04.244Z"
   },
   {
    "duration": 8,
    "start_time": "2024-05-09T12:11:27.086Z"
   },
   {
    "duration": 10,
    "start_time": "2024-05-09T12:12:01.915Z"
   },
   {
    "duration": 9,
    "start_time": "2024-05-09T12:17:00.373Z"
   },
   {
    "duration": 4,
    "start_time": "2024-05-09T12:17:42.392Z"
   },
   {
    "duration": 26,
    "start_time": "2024-05-09T12:17:50.747Z"
   },
   {
    "duration": 4,
    "start_time": "2024-05-09T12:18:05.819Z"
   },
   {
    "duration": 12,
    "start_time": "2024-05-09T12:18:15.581Z"
   },
   {
    "duration": 5,
    "start_time": "2024-05-09T12:18:59.756Z"
   },
   {
    "duration": 5,
    "start_time": "2024-05-09T12:19:56.236Z"
   },
   {
    "duration": 15,
    "start_time": "2024-05-09T12:24:23.480Z"
   },
   {
    "duration": 12,
    "start_time": "2024-05-09T12:24:30.892Z"
   },
   {
    "duration": 13,
    "start_time": "2024-05-09T12:25:36.240Z"
   },
   {
    "duration": 17,
    "start_time": "2024-05-09T12:26:47.175Z"
   },
   {
    "duration": 20,
    "start_time": "2024-05-09T12:27:06.070Z"
   },
   {
    "duration": 14,
    "start_time": "2024-05-09T12:27:19.279Z"
   },
   {
    "duration": 9,
    "start_time": "2024-05-09T12:30:29.805Z"
   },
   {
    "duration": 72,
    "start_time": "2024-05-09T12:30:34.265Z"
   },
   {
    "duration": 74,
    "start_time": "2024-05-09T12:30:41.663Z"
   },
   {
    "duration": 16,
    "start_time": "2024-05-09T12:30:48.295Z"
   },
   {
    "duration": 8,
    "start_time": "2024-05-09T12:31:14.889Z"
   },
   {
    "duration": 8,
    "start_time": "2024-05-09T12:31:27.623Z"
   },
   {
    "duration": 32,
    "start_time": "2024-05-09T12:31:45.544Z"
   },
   {
    "duration": 6,
    "start_time": "2024-05-09T12:33:34.993Z"
   },
   {
    "duration": 6,
    "start_time": "2024-05-09T12:33:56.111Z"
   },
   {
    "duration": 8,
    "start_time": "2024-05-09T12:33:57.913Z"
   },
   {
    "duration": 28,
    "start_time": "2024-05-09T12:34:56.281Z"
   },
   {
    "duration": 18,
    "start_time": "2024-05-09T12:35:40.128Z"
   },
   {
    "duration": 27,
    "start_time": "2024-05-09T12:35:52.090Z"
   },
   {
    "duration": 7,
    "start_time": "2024-05-09T12:40:57.586Z"
   },
   {
    "duration": 9,
    "start_time": "2024-05-09T12:41:25.962Z"
   },
   {
    "duration": 8,
    "start_time": "2024-05-09T12:41:33.938Z"
   },
   {
    "duration": 22,
    "start_time": "2024-05-09T12:44:37.654Z"
   },
   {
    "duration": 7,
    "start_time": "2024-05-09T12:44:50.833Z"
   },
   {
    "duration": 23,
    "start_time": "2024-05-09T12:45:48.502Z"
   },
   {
    "duration": 7,
    "start_time": "2024-05-09T12:45:53.380Z"
   },
   {
    "duration": 7,
    "start_time": "2024-05-09T12:47:48.804Z"
   },
   {
    "duration": 8,
    "start_time": "2024-05-09T12:48:01.956Z"
   },
   {
    "duration": 28,
    "start_time": "2024-05-09T12:48:24.708Z"
   },
   {
    "duration": 26,
    "start_time": "2024-05-09T12:48:40.420Z"
   },
   {
    "duration": 8,
    "start_time": "2024-05-09T12:49:39.244Z"
   },
   {
    "duration": 13,
    "start_time": "2024-05-09T12:49:51.135Z"
   },
   {
    "duration": 8,
    "start_time": "2024-05-09T12:50:13.140Z"
   },
   {
    "duration": 4,
    "start_time": "2024-05-09T12:50:49.709Z"
   },
   {
    "duration": 3,
    "start_time": "2024-05-09T12:50:52.481Z"
   },
   {
    "duration": 11,
    "start_time": "2024-05-09T12:50:53.377Z"
   },
   {
    "duration": 18,
    "start_time": "2024-05-09T12:50:57.267Z"
   },
   {
    "duration": 4,
    "start_time": "2024-05-09T12:51:44.036Z"
   },
   {
    "duration": 10,
    "start_time": "2024-05-09T12:56:31.462Z"
   },
   {
    "duration": 21,
    "start_time": "2024-05-09T12:56:41.798Z"
   },
   {
    "duration": 16,
    "start_time": "2024-05-09T12:56:57.118Z"
   },
   {
    "duration": 17,
    "start_time": "2024-05-09T12:57:09.502Z"
   },
   {
    "duration": 19,
    "start_time": "2024-05-09T12:57:18.726Z"
   },
   {
    "duration": 5,
    "start_time": "2024-05-09T12:57:26.534Z"
   },
   {
    "duration": 129,
    "start_time": "2024-05-09T12:58:00.592Z"
   },
   {
    "duration": 14,
    "start_time": "2024-05-09T12:58:13.754Z"
   },
   {
    "duration": 407,
    "start_time": "2024-05-09T12:58:30.505Z"
   },
   {
    "duration": 125,
    "start_time": "2024-05-09T12:58:31.052Z"
   },
   {
    "duration": 393,
    "start_time": "2024-05-09T12:58:37.304Z"
   },
   {
    "duration": 120,
    "start_time": "2024-05-09T12:58:37.698Z"
   },
   {
    "duration": 17,
    "start_time": "2024-05-09T12:58:37.820Z"
   },
   {
    "duration": 64,
    "start_time": "2024-05-09T12:58:37.838Z"
   },
   {
    "duration": 151,
    "start_time": "2024-05-09T12:58:37.905Z"
   },
   {
    "duration": 23,
    "start_time": "2024-05-09T12:58:38.058Z"
   },
   {
    "duration": 49,
    "start_time": "2024-05-09T12:58:38.082Z"
   },
   {
    "duration": 26,
    "start_time": "2024-05-09T12:58:38.132Z"
   },
   {
    "duration": 12,
    "start_time": "2024-05-09T12:58:38.160Z"
   },
   {
    "duration": 17,
    "start_time": "2024-05-09T12:58:38.174Z"
   },
   {
    "duration": 29,
    "start_time": "2024-05-09T12:58:38.193Z"
   },
   {
    "duration": 9,
    "start_time": "2024-05-09T12:58:38.224Z"
   },
   {
    "duration": 18,
    "start_time": "2024-05-09T12:58:38.234Z"
   },
   {
    "duration": 36,
    "start_time": "2024-05-09T12:58:38.254Z"
   },
   {
    "duration": 6,
    "start_time": "2024-05-09T12:58:38.291Z"
   },
   {
    "duration": 20,
    "start_time": "2024-05-09T12:58:38.299Z"
   },
   {
    "duration": 11,
    "start_time": "2024-05-09T12:58:38.321Z"
   },
   {
    "duration": 27,
    "start_time": "2024-05-09T12:58:38.334Z"
   },
   {
    "duration": 38,
    "start_time": "2024-05-09T12:58:38.363Z"
   },
   {
    "duration": 72,
    "start_time": "2024-05-09T12:58:38.403Z"
   },
   {
    "duration": 4,
    "start_time": "2024-05-09T12:58:38.477Z"
   },
   {
    "duration": 16,
    "start_time": "2024-05-09T12:58:38.483Z"
   },
   {
    "duration": 35,
    "start_time": "2024-05-09T12:58:38.501Z"
   },
   {
    "duration": 66,
    "start_time": "2024-05-09T12:58:38.538Z"
   },
   {
    "duration": 18,
    "start_time": "2024-05-09T12:58:38.605Z"
   },
   {
    "duration": 21,
    "start_time": "2024-05-09T12:58:38.624Z"
   },
   {
    "duration": 13,
    "start_time": "2024-05-09T12:58:38.647Z"
   },
   {
    "duration": 18,
    "start_time": "2024-05-09T12:58:38.661Z"
   },
   {
    "duration": 15,
    "start_time": "2024-05-09T12:58:38.681Z"
   },
   {
    "duration": 19,
    "start_time": "2024-05-09T12:58:38.697Z"
   },
   {
    "duration": 13,
    "start_time": "2024-05-09T12:58:38.717Z"
   },
   {
    "duration": 9,
    "start_time": "2024-05-09T12:58:38.731Z"
   },
   {
    "duration": 24,
    "start_time": "2024-05-09T12:58:38.741Z"
   },
   {
    "duration": 16,
    "start_time": "2024-05-09T13:00:12.015Z"
   },
   {
    "duration": 10,
    "start_time": "2024-05-09T13:02:08.390Z"
   },
   {
    "duration": 15,
    "start_time": "2024-05-09T13:02:18.299Z"
   },
   {
    "duration": 15,
    "start_time": "2024-05-09T13:02:46.231Z"
   },
   {
    "duration": 16,
    "start_time": "2024-05-09T13:02:49.622Z"
   },
   {
    "duration": 14,
    "start_time": "2024-05-09T13:03:26.777Z"
   },
   {
    "duration": 17,
    "start_time": "2024-05-09T13:03:29.222Z"
   },
   {
    "duration": 388,
    "start_time": "2024-05-09T13:03:36.107Z"
   },
   {
    "duration": 123,
    "start_time": "2024-05-09T13:03:36.497Z"
   },
   {
    "duration": 17,
    "start_time": "2024-05-09T13:03:36.624Z"
   },
   {
    "duration": 4,
    "start_time": "2024-05-09T13:03:36.643Z"
   },
   {
    "duration": 20,
    "start_time": "2024-05-09T13:03:36.649Z"
   },
   {
    "duration": 23,
    "start_time": "2024-05-09T13:03:36.671Z"
   },
   {
    "duration": 21,
    "start_time": "2024-05-09T13:03:36.695Z"
   },
   {
    "duration": 17,
    "start_time": "2024-05-09T13:03:36.717Z"
   },
   {
    "duration": 8,
    "start_time": "2024-05-09T13:03:36.735Z"
   },
   {
    "duration": 28,
    "start_time": "2024-05-09T13:03:36.744Z"
   },
   {
    "duration": 12,
    "start_time": "2024-05-09T13:03:36.774Z"
   },
   {
    "duration": 7,
    "start_time": "2024-05-09T13:03:36.788Z"
   },
   {
    "duration": 9,
    "start_time": "2024-05-09T13:03:36.797Z"
   },
   {
    "duration": 23,
    "start_time": "2024-05-09T13:03:36.808Z"
   },
   {
    "duration": 4,
    "start_time": "2024-05-09T13:03:36.833Z"
   },
   {
    "duration": 23,
    "start_time": "2024-05-09T13:03:36.839Z"
   },
   {
    "duration": 33,
    "start_time": "2024-05-09T13:03:36.864Z"
   },
   {
    "duration": 12,
    "start_time": "2024-05-09T13:03:36.899Z"
   },
   {
    "duration": 18,
    "start_time": "2024-05-09T13:03:36.913Z"
   },
   {
    "duration": 60,
    "start_time": "2024-05-09T13:03:36.932Z"
   },
   {
    "duration": 5,
    "start_time": "2024-05-09T13:03:36.994Z"
   },
   {
    "duration": 34,
    "start_time": "2024-05-09T13:03:37.000Z"
   },
   {
    "duration": 20,
    "start_time": "2024-05-09T13:03:37.035Z"
   },
   {
    "duration": 96,
    "start_time": "2024-05-09T13:03:37.057Z"
   },
   {
    "duration": 18,
    "start_time": "2024-05-09T13:03:37.155Z"
   },
   {
    "duration": 16,
    "start_time": "2024-05-09T13:03:37.175Z"
   },
   {
    "duration": 23,
    "start_time": "2024-05-09T13:03:37.193Z"
   },
   {
    "duration": 9,
    "start_time": "2024-05-09T13:03:37.218Z"
   },
   {
    "duration": 8,
    "start_time": "2024-05-09T13:03:37.229Z"
   },
   {
    "duration": 25,
    "start_time": "2024-05-09T13:03:37.239Z"
   },
   {
    "duration": 16,
    "start_time": "2024-05-09T13:03:37.265Z"
   },
   {
    "duration": 38,
    "start_time": "2024-05-09T13:03:37.283Z"
   },
   {
    "duration": 24,
    "start_time": "2024-05-09T13:03:37.323Z"
   },
   {
    "duration": 7,
    "start_time": "2024-05-09T13:03:37.350Z"
   },
   {
    "duration": 374,
    "start_time": "2024-05-09T13:08:14.248Z"
   },
   {
    "duration": 149,
    "start_time": "2024-05-09T13:08:37.793Z"
   },
   {
    "duration": 144,
    "start_time": "2024-05-09T13:10:34.881Z"
   },
   {
    "duration": 129,
    "start_time": "2024-05-09T13:10:47.312Z"
   },
   {
    "duration": 137,
    "start_time": "2024-05-09T13:11:04.766Z"
   },
   {
    "duration": 196,
    "start_time": "2024-05-09T13:11:23.968Z"
   },
   {
    "duration": 144,
    "start_time": "2024-05-09T13:11:59.675Z"
   },
   {
    "duration": 137,
    "start_time": "2024-05-09T13:12:33.544Z"
   },
   {
    "duration": 133,
    "start_time": "2024-05-09T13:12:46.828Z"
   },
   {
    "duration": 147,
    "start_time": "2024-05-09T13:17:00.874Z"
   },
   {
    "duration": 140,
    "start_time": "2024-05-09T13:17:16.498Z"
   },
   {
    "duration": 7,
    "start_time": "2024-05-09T13:18:20.514Z"
   },
   {
    "duration": 78,
    "start_time": "2024-05-09T13:19:28.258Z"
   },
   {
    "duration": 50,
    "start_time": "2024-05-09T13:19:37.666Z"
   },
   {
    "duration": 34,
    "start_time": "2024-05-09T13:20:47.019Z"
   },
   {
    "duration": 11,
    "start_time": "2024-05-09T13:21:36.435Z"
   },
   {
    "duration": 10,
    "start_time": "2024-05-09T13:23:10.954Z"
   },
   {
    "duration": 158,
    "start_time": "2024-05-09T13:23:47.724Z"
   },
   {
    "duration": 176,
    "start_time": "2024-05-09T13:24:09.707Z"
   },
   {
    "duration": 153,
    "start_time": "2024-05-09T13:25:16.332Z"
   },
   {
    "duration": 156,
    "start_time": "2024-05-09T13:25:26.868Z"
   },
   {
    "duration": 152,
    "start_time": "2024-05-09T13:25:35.580Z"
   },
   {
    "duration": 227,
    "start_time": "2024-05-09T13:26:20.589Z"
   },
   {
    "duration": 199,
    "start_time": "2024-05-09T14:07:39.437Z"
   },
   {
    "duration": 169,
    "start_time": "2024-05-09T14:08:06.987Z"
   },
   {
    "duration": 195,
    "start_time": "2024-05-09T14:08:41.780Z"
   },
   {
    "duration": 188,
    "start_time": "2024-05-09T14:08:56.240Z"
   },
   {
    "duration": 204,
    "start_time": "2024-05-09T14:09:24.154Z"
   },
   {
    "duration": 84,
    "start_time": "2024-05-09T14:10:12.083Z"
   },
   {
    "duration": 74,
    "start_time": "2024-05-09T14:11:05.427Z"
   },
   {
    "duration": 102,
    "start_time": "2024-05-09T14:11:12.784Z"
   },
   {
    "duration": 79,
    "start_time": "2024-05-09T14:11:29.501Z"
   },
   {
    "duration": 20,
    "start_time": "2024-05-09T14:11:34.212Z"
   },
   {
    "duration": 17,
    "start_time": "2024-05-09T14:11:39.683Z"
   },
   {
    "duration": 124,
    "start_time": "2024-05-09T14:11:55.650Z"
   },
   {
    "duration": 153,
    "start_time": "2024-05-09T14:12:09.531Z"
   },
   {
    "duration": 190,
    "start_time": "2024-05-09T14:12:16.371Z"
   },
   {
    "duration": 18,
    "start_time": "2024-05-09T14:13:26.899Z"
   },
   {
    "duration": 189,
    "start_time": "2024-05-09T14:13:34.211Z"
   },
   {
    "duration": 178,
    "start_time": "2024-05-09T14:16:00.436Z"
   },
   {
    "duration": 296,
    "start_time": "2024-05-09T14:19:14.075Z"
   },
   {
    "duration": 61,
    "start_time": "2024-05-09T14:19:29.174Z"
   },
   {
    "duration": 195,
    "start_time": "2024-05-09T14:21:37.668Z"
   },
   {
    "duration": 182,
    "start_time": "2024-05-09T14:21:46.460Z"
   },
   {
    "duration": 181,
    "start_time": "2024-05-09T14:22:01.300Z"
   },
   {
    "duration": 196,
    "start_time": "2024-05-09T14:22:07.558Z"
   },
   {
    "duration": 161,
    "start_time": "2024-05-09T14:22:13.380Z"
   },
   {
    "duration": 170,
    "start_time": "2024-05-09T14:22:30.155Z"
   },
   {
    "duration": 171,
    "start_time": "2024-05-09T14:24:09.621Z"
   },
   {
    "duration": 159,
    "start_time": "2024-05-09T14:24:16.277Z"
   },
   {
    "duration": 3,
    "start_time": "2024-05-09T14:25:19.107Z"
   },
   {
    "duration": 167,
    "start_time": "2024-05-09T14:25:29.390Z"
   },
   {
    "duration": 400,
    "start_time": "2024-05-09T14:25:54.660Z"
   },
   {
    "duration": 292,
    "start_time": "2024-05-09T14:27:06.909Z"
   },
   {
    "duration": 206,
    "start_time": "2024-05-09T14:27:17.381Z"
   },
   {
    "duration": 297,
    "start_time": "2024-05-09T14:27:37.311Z"
   },
   {
    "duration": 300,
    "start_time": "2024-05-09T14:28:04.455Z"
   },
   {
    "duration": 296,
    "start_time": "2024-05-09T14:28:15.246Z"
   },
   {
    "duration": 415,
    "start_time": "2024-05-09T14:28:22.238Z"
   },
   {
    "duration": 289,
    "start_time": "2024-05-09T14:28:43.196Z"
   },
   {
    "duration": 327,
    "start_time": "2024-05-09T14:29:19.146Z"
   },
   {
    "duration": 7,
    "start_time": "2024-05-09T14:43:35.835Z"
   },
   {
    "duration": 132,
    "start_time": "2024-05-09T14:43:57.112Z"
   },
   {
    "duration": 134,
    "start_time": "2024-05-09T14:50:54.850Z"
   },
   {
    "duration": 137,
    "start_time": "2024-05-09T14:54:51.002Z"
   },
   {
    "duration": 0,
    "start_time": "2024-05-09T14:55:10.030Z"
   },
   {
    "duration": 157,
    "start_time": "2024-05-09T14:55:11.990Z"
   },
   {
    "duration": 224,
    "start_time": "2024-05-09T14:55:47.243Z"
   },
   {
    "duration": 135,
    "start_time": "2024-05-09T14:55:51.174Z"
   },
   {
    "duration": 126,
    "start_time": "2024-05-09T14:55:58.340Z"
   },
   {
    "duration": 135,
    "start_time": "2024-05-09T14:56:22.815Z"
   },
   {
    "duration": 126,
    "start_time": "2024-05-09T14:57:04.699Z"
   },
   {
    "duration": 130,
    "start_time": "2024-05-09T14:57:16.340Z"
   },
   {
    "duration": 138,
    "start_time": "2024-05-09T14:58:00.948Z"
   },
   {
    "duration": 141,
    "start_time": "2024-05-09T14:58:28.768Z"
   },
   {
    "duration": 10,
    "start_time": "2024-05-09T14:59:55.220Z"
   },
   {
    "duration": 143,
    "start_time": "2024-05-09T15:01:10.061Z"
   },
   {
    "duration": 147,
    "start_time": "2024-05-09T15:01:28.534Z"
   },
   {
    "duration": 154,
    "start_time": "2024-05-09T15:03:19.701Z"
   },
   {
    "duration": 143,
    "start_time": "2024-05-09T15:04:11.238Z"
   },
   {
    "duration": 228,
    "start_time": "2024-05-09T15:04:43.510Z"
   },
   {
    "duration": 141,
    "start_time": "2024-05-09T15:06:02.214Z"
   },
   {
    "duration": 10,
    "start_time": "2024-05-09T15:06:16.278Z"
   },
   {
    "duration": 155,
    "start_time": "2024-05-09T15:08:32.039Z"
   },
   {
    "duration": 134,
    "start_time": "2024-05-09T15:08:44.463Z"
   },
   {
    "duration": 135,
    "start_time": "2024-05-09T15:09:08.230Z"
   },
   {
    "duration": 155,
    "start_time": "2024-05-09T15:09:21.303Z"
   },
   {
    "duration": 147,
    "start_time": "2024-05-09T15:10:47.807Z"
   },
   {
    "duration": 147,
    "start_time": "2024-05-09T15:11:00.164Z"
   },
   {
    "duration": 147,
    "start_time": "2024-05-09T15:11:07.551Z"
   },
   {
    "duration": 137,
    "start_time": "2024-05-09T15:11:14.914Z"
   },
   {
    "duration": 20,
    "start_time": "2024-05-09T15:31:02.580Z"
   },
   {
    "duration": 22,
    "start_time": "2024-05-09T15:34:43.468Z"
   },
   {
    "duration": 27,
    "start_time": "2024-05-09T15:35:08.922Z"
   },
   {
    "duration": 17,
    "start_time": "2024-05-09T15:35:24.015Z"
   },
   {
    "duration": 20,
    "start_time": "2024-05-09T15:35:29.597Z"
   },
   {
    "duration": 25,
    "start_time": "2024-05-09T15:35:42.824Z"
   },
   {
    "duration": 5,
    "start_time": "2024-05-09T15:37:34.912Z"
   },
   {
    "duration": 7,
    "start_time": "2024-05-09T15:38:51.975Z"
   },
   {
    "duration": 7,
    "start_time": "2024-05-09T15:45:58.777Z"
   },
   {
    "duration": 6,
    "start_time": "2024-05-09T15:47:44.318Z"
   },
   {
    "duration": 12,
    "start_time": "2024-05-09T15:48:35.092Z"
   },
   {
    "duration": 67,
    "start_time": "2024-05-09T15:49:12.848Z"
   },
   {
    "duration": 11,
    "start_time": "2024-05-09T15:49:29.305Z"
   },
   {
    "duration": 21,
    "start_time": "2024-05-09T15:50:34.330Z"
   },
   {
    "duration": 12,
    "start_time": "2024-05-09T15:51:02.129Z"
   },
   {
    "duration": 155,
    "start_time": "2024-05-09T15:51:39.913Z"
   },
   {
    "duration": 323,
    "start_time": "2024-05-09T15:51:56.259Z"
   },
   {
    "duration": 431,
    "start_time": "2024-05-09T15:52:19.042Z"
   },
   {
    "duration": 70,
    "start_time": "2024-05-09T15:55:40.954Z"
   },
   {
    "duration": 70,
    "start_time": "2024-05-09T15:55:56.002Z"
   },
   {
    "duration": 335,
    "start_time": "2024-05-09T16:00:15.883Z"
   },
   {
    "duration": 324,
    "start_time": "2024-05-09T16:00:54.500Z"
   },
   {
    "duration": 333,
    "start_time": "2024-05-09T16:01:19.520Z"
   },
   {
    "duration": 144,
    "start_time": "2024-05-09T16:01:39.723Z"
   },
   {
    "duration": 116,
    "start_time": "2024-05-09T16:01:58.661Z"
   },
   {
    "duration": 14,
    "start_time": "2024-05-09T16:02:09.636Z"
   },
   {
    "duration": 112,
    "start_time": "2024-05-09T16:02:48.300Z"
   },
   {
    "duration": 16,
    "start_time": "2024-05-09T16:03:28.904Z"
   },
   {
    "duration": 16,
    "start_time": "2024-05-09T16:03:37.357Z"
   },
   {
    "duration": 73,
    "start_time": "2024-05-09T16:03:56.837Z"
   },
   {
    "duration": 279,
    "start_time": "2024-05-09T16:04:00.596Z"
   },
   {
    "duration": 16,
    "start_time": "2024-05-09T16:04:13.448Z"
   },
   {
    "duration": 15,
    "start_time": "2024-05-09T16:04:52.656Z"
   },
   {
    "duration": 21,
    "start_time": "2024-05-09T16:07:46.922Z"
   },
   {
    "duration": 18,
    "start_time": "2024-05-09T16:08:30.727Z"
   },
   {
    "duration": 18,
    "start_time": "2024-05-09T16:09:04.822Z"
   },
   {
    "duration": 168,
    "start_time": "2024-05-09T16:09:18.054Z"
   },
   {
    "duration": 346,
    "start_time": "2024-05-09T16:09:29.382Z"
   },
   {
    "duration": 507,
    "start_time": "2024-05-09T16:10:16.495Z"
   },
   {
    "duration": 434,
    "start_time": "2024-05-09T16:10:51.091Z"
   },
   {
    "duration": 164,
    "start_time": "2024-05-09T16:11:34.823Z"
   },
   {
    "duration": 149,
    "start_time": "2024-05-09T16:12:19.175Z"
   },
   {
    "duration": 14,
    "start_time": "2024-05-09T16:12:28.463Z"
   },
   {
    "duration": 149,
    "start_time": "2024-05-09T16:12:40.065Z"
   },
   {
    "duration": 19,
    "start_time": "2024-05-09T16:12:46.771Z"
   },
   {
    "duration": 1074,
    "start_time": "2024-05-09T16:13:06.667Z"
   },
   {
    "duration": 1089,
    "start_time": "2024-05-09T16:13:14.791Z"
   },
   {
    "duration": 20,
    "start_time": "2024-05-09T16:13:33.184Z"
   },
   {
    "duration": 19,
    "start_time": "2024-05-09T16:13:40.575Z"
   },
   {
    "duration": 25,
    "start_time": "2024-05-09T16:13:43.975Z"
   },
   {
    "duration": 18,
    "start_time": "2024-05-09T16:13:49.186Z"
   },
   {
    "duration": 23,
    "start_time": "2024-05-09T16:14:10.480Z"
   },
   {
    "duration": 754,
    "start_time": "2024-05-09T16:14:20.815Z"
   },
   {
    "duration": 16,
    "start_time": "2024-05-09T16:14:28.664Z"
   },
   {
    "duration": 1023,
    "start_time": "2024-05-09T16:14:34.520Z"
   },
   {
    "duration": 20,
    "start_time": "2024-05-09T16:14:45.396Z"
   },
   {
    "duration": 16,
    "start_time": "2024-05-09T16:14:58.192Z"
   },
   {
    "duration": 18,
    "start_time": "2024-05-09T16:15:04.847Z"
   },
   {
    "duration": 1086,
    "start_time": "2024-05-09T16:15:17.079Z"
   },
   {
    "duration": 18,
    "start_time": "2024-05-09T16:15:26.695Z"
   },
   {
    "duration": 24,
    "start_time": "2024-05-09T16:15:39.968Z"
   },
   {
    "duration": 16,
    "start_time": "2024-05-09T16:15:48.274Z"
   },
   {
    "duration": 16,
    "start_time": "2024-05-09T16:15:54.704Z"
   },
   {
    "duration": 25,
    "start_time": "2024-05-09T16:16:02.496Z"
   },
   {
    "duration": 1049,
    "start_time": "2024-05-09T16:16:14.303Z"
   },
   {
    "duration": 21,
    "start_time": "2024-05-09T16:16:19.717Z"
   },
   {
    "duration": 783,
    "start_time": "2024-05-09T16:16:28.944Z"
   },
   {
    "duration": 16,
    "start_time": "2024-05-09T16:16:39.392Z"
   },
   {
    "duration": 22,
    "start_time": "2024-05-09T16:18:45.600Z"
   },
   {
    "duration": 239,
    "start_time": "2024-05-09T16:18:52.089Z"
   },
   {
    "duration": 229,
    "start_time": "2024-05-09T16:19:00.473Z"
   },
   {
    "duration": 276,
    "start_time": "2024-05-09T16:19:25.024Z"
   },
   {
    "duration": 283,
    "start_time": "2024-05-09T16:20:11.569Z"
   },
   {
    "duration": 303,
    "start_time": "2024-05-09T16:20:32.569Z"
   },
   {
    "duration": 272,
    "start_time": "2024-05-09T16:22:17.620Z"
   },
   {
    "duration": 261,
    "start_time": "2024-05-09T16:22:51.506Z"
   },
   {
    "duration": 384,
    "start_time": "2024-05-09T16:23:24.138Z"
   },
   {
    "duration": 270,
    "start_time": "2024-05-09T16:23:45.372Z"
   },
   {
    "duration": 254,
    "start_time": "2024-05-09T16:23:57.285Z"
   },
   {
    "duration": 274,
    "start_time": "2024-05-09T16:24:06.815Z"
   },
   {
    "duration": 267,
    "start_time": "2024-05-09T16:24:36.258Z"
   },
   {
    "duration": 259,
    "start_time": "2024-05-09T16:24:48.962Z"
   },
   {
    "duration": 256,
    "start_time": "2024-05-09T16:25:18.845Z"
   },
   {
    "duration": 267,
    "start_time": "2024-05-09T16:26:25.245Z"
   },
   {
    "duration": 276,
    "start_time": "2024-05-09T16:26:52.661Z"
   },
   {
    "duration": 276,
    "start_time": "2024-05-09T16:27:17.923Z"
   },
   {
    "duration": 269,
    "start_time": "2024-05-09T16:27:34.339Z"
   },
   {
    "duration": 264,
    "start_time": "2024-05-09T16:27:45.683Z"
   },
   {
    "duration": 275,
    "start_time": "2024-05-09T16:28:09.467Z"
   },
   {
    "duration": 456,
    "start_time": "2024-05-09T16:28:37.979Z"
   },
   {
    "duration": 299,
    "start_time": "2024-05-09T16:28:46.183Z"
   },
   {
    "duration": 153,
    "start_time": "2024-05-09T16:29:23.467Z"
   },
   {
    "duration": 22,
    "start_time": "2024-05-09T16:30:04.192Z"
   },
   {
    "duration": 305,
    "start_time": "2024-05-09T16:30:09.555Z"
   },
   {
    "duration": 304,
    "start_time": "2024-05-09T16:37:26.079Z"
   },
   {
    "duration": 279,
    "start_time": "2024-05-09T16:38:02.142Z"
   },
   {
    "duration": 252,
    "start_time": "2024-05-09T16:38:11.158Z"
   },
   {
    "duration": 272,
    "start_time": "2024-05-09T16:38:15.883Z"
   },
   {
    "duration": 13,
    "start_time": "2024-05-09T17:00:06.564Z"
   },
   {
    "duration": 292,
    "start_time": "2024-05-09T17:00:41.372Z"
   },
   {
    "duration": 274,
    "start_time": "2024-05-09T17:00:54.243Z"
   },
   {
    "duration": 295,
    "start_time": "2024-05-09T17:01:26.844Z"
   },
   {
    "duration": 9,
    "start_time": "2024-05-09T17:01:47.718Z"
   },
   {
    "duration": 14,
    "start_time": "2024-05-09T17:01:52.308Z"
   },
   {
    "duration": 13,
    "start_time": "2024-05-09T17:02:06.555Z"
   },
   {
    "duration": 13,
    "start_time": "2024-05-09T17:02:30.307Z"
   },
   {
    "duration": 17,
    "start_time": "2024-05-09T17:03:08.751Z"
   },
   {
    "duration": 20,
    "start_time": "2024-05-09T17:03:20.229Z"
   },
   {
    "duration": 13,
    "start_time": "2024-05-09T17:04:02.572Z"
   },
   {
    "duration": 144,
    "start_time": "2024-05-09T17:05:53.396Z"
   },
   {
    "duration": 136,
    "start_time": "2024-05-09T17:06:06.172Z"
   },
   {
    "duration": 156,
    "start_time": "2024-05-09T17:07:09.364Z"
   },
   {
    "duration": 149,
    "start_time": "2024-05-09T17:07:18.526Z"
   },
   {
    "duration": 310,
    "start_time": "2024-05-09T17:09:45.334Z"
   },
   {
    "duration": 10,
    "start_time": "2024-05-09T17:09:53.550Z"
   },
   {
    "duration": 12,
    "start_time": "2024-05-09T17:09:57.686Z"
   },
   {
    "duration": 14,
    "start_time": "2024-05-09T17:10:13.492Z"
   },
   {
    "duration": 156,
    "start_time": "2024-05-09T17:10:35.150Z"
   },
   {
    "duration": 171,
    "start_time": "2024-05-09T17:10:44.966Z"
   },
   {
    "duration": 192,
    "start_time": "2024-05-09T17:12:07.951Z"
   },
   {
    "duration": 188,
    "start_time": "2024-05-09T17:12:22.078Z"
   },
   {
    "duration": 169,
    "start_time": "2024-05-09T17:12:38.109Z"
   },
   {
    "duration": 162,
    "start_time": "2024-05-09T17:12:47.216Z"
   },
   {
    "duration": 157,
    "start_time": "2024-05-09T17:12:53.502Z"
   },
   {
    "duration": 108,
    "start_time": "2024-05-10T10:03:17.012Z"
   },
   {
    "duration": 318,
    "start_time": "2024-05-10T10:03:28.573Z"
   },
   {
    "duration": 291,
    "start_time": "2024-05-10T10:05:39.828Z"
   },
   {
    "duration": 286,
    "start_time": "2024-05-10T10:05:44.099Z"
   },
   {
    "duration": 299,
    "start_time": "2024-05-10T10:10:04.080Z"
   },
   {
    "duration": 298,
    "start_time": "2024-05-10T10:14:58.951Z"
   },
   {
    "duration": 32,
    "start_time": "2024-05-10T10:34:30.453Z"
   },
   {
    "duration": 5,
    "start_time": "2024-05-10T10:36:29.580Z"
   },
   {
    "duration": 27,
    "start_time": "2024-05-10T10:37:32.669Z"
   },
   {
    "duration": 7,
    "start_time": "2024-05-10T10:40:04.204Z"
   },
   {
    "duration": 18,
    "start_time": "2024-05-10T10:40:41.196Z"
   },
   {
    "duration": 5,
    "start_time": "2024-05-10T10:41:58.504Z"
   },
   {
    "duration": 127,
    "start_time": "2024-05-10T10:42:24.109Z"
   },
   {
    "duration": 4037,
    "start_time": "2024-05-10T10:43:11.756Z"
   },
   {
    "duration": 3968,
    "start_time": "2024-05-10T10:43:41.029Z"
   },
   {
    "duration": 5,
    "start_time": "2024-05-10T10:45:51.309Z"
   },
   {
    "duration": 4,
    "start_time": "2024-05-10T10:46:03.262Z"
   },
   {
    "duration": 4,
    "start_time": "2024-05-10T10:47:30.733Z"
   },
   {
    "duration": 31,
    "start_time": "2024-05-10T10:47:44.606Z"
   },
   {
    "duration": 5,
    "start_time": "2024-05-10T10:49:21.741Z"
   },
   {
    "duration": 35,
    "start_time": "2024-05-10T10:49:25.982Z"
   },
   {
    "duration": 5,
    "start_time": "2024-05-10T10:49:42.701Z"
   },
   {
    "duration": 807,
    "start_time": "2024-05-10T10:51:25.494Z"
   },
   {
    "duration": 10,
    "start_time": "2024-05-10T10:53:11.023Z"
   },
   {
    "duration": 35,
    "start_time": "2024-05-10T10:53:17.007Z"
   },
   {
    "duration": 11,
    "start_time": "2024-05-10T10:56:01.184Z"
   },
   {
    "duration": 7,
    "start_time": "2024-05-10T10:56:11.846Z"
   },
   {
    "duration": 69,
    "start_time": "2024-05-10T10:59:58.112Z"
   },
   {
    "duration": 4,
    "start_time": "2024-05-10T11:00:06.641Z"
   },
   {
    "duration": 4,
    "start_time": "2024-05-10T11:00:24.099Z"
   },
   {
    "duration": 33,
    "start_time": "2024-05-10T11:00:27.056Z"
   },
   {
    "duration": 6,
    "start_time": "2024-05-10T11:02:17.880Z"
   },
   {
    "duration": 4,
    "start_time": "2024-05-10T11:02:57.810Z"
   },
   {
    "duration": 39,
    "start_time": "2024-05-10T11:03:00.326Z"
   },
   {
    "duration": 4,
    "start_time": "2024-05-10T11:04:08.618Z"
   },
   {
    "duration": 5,
    "start_time": "2024-05-10T11:04:29.273Z"
   },
   {
    "duration": 7,
    "start_time": "2024-05-10T11:04:38.490Z"
   },
   {
    "duration": 4,
    "start_time": "2024-05-10T11:04:40.001Z"
   },
   {
    "duration": 34,
    "start_time": "2024-05-10T11:04:41.763Z"
   },
   {
    "duration": 8,
    "start_time": "2024-05-10T11:05:29.450Z"
   },
   {
    "duration": 7,
    "start_time": "2024-05-10T11:05:39.314Z"
   },
   {
    "duration": 1199,
    "start_time": "2024-05-10T11:06:32.319Z"
   },
   {
    "duration": 1202,
    "start_time": "2024-05-10T11:06:41.674Z"
   },
   {
    "duration": 4,
    "start_time": "2024-05-10T11:07:04.251Z"
   },
   {
    "duration": 4,
    "start_time": "2024-05-10T11:07:09.554Z"
   },
   {
    "duration": 4,
    "start_time": "2024-05-10T11:07:15.747Z"
   },
   {
    "duration": 4,
    "start_time": "2024-05-10T11:07:43.131Z"
   },
   {
    "duration": 10,
    "start_time": "2024-05-10T11:09:09.382Z"
   },
   {
    "duration": 77,
    "start_time": "2024-05-10T11:09:20.700Z"
   },
   {
    "duration": 6,
    "start_time": "2024-05-10T11:09:26.363Z"
   },
   {
    "duration": 75,
    "start_time": "2024-05-10T11:13:04.495Z"
   },
   {
    "duration": 140,
    "start_time": "2024-05-10T11:13:25.853Z"
   },
   {
    "duration": 4,
    "start_time": "2024-05-10T11:13:46.244Z"
   },
   {
    "duration": 4,
    "start_time": "2024-05-10T11:13:57.260Z"
   },
   {
    "duration": 3,
    "start_time": "2024-05-10T11:14:05.636Z"
   },
   {
    "duration": 4,
    "start_time": "2024-05-10T11:14:25.516Z"
   },
   {
    "duration": 3,
    "start_time": "2024-05-10T11:14:44.877Z"
   },
   {
    "duration": 6,
    "start_time": "2024-05-10T11:15:48.797Z"
   },
   {
    "duration": 4,
    "start_time": "2024-05-10T11:15:55.242Z"
   },
   {
    "duration": 10,
    "start_time": "2024-05-10T11:20:18.306Z"
   },
   {
    "duration": 14,
    "start_time": "2024-05-10T11:20:53.312Z"
   },
   {
    "duration": 162,
    "start_time": "2024-05-10T11:21:47.220Z"
   },
   {
    "duration": 178,
    "start_time": "2024-05-10T11:22:00.998Z"
   },
   {
    "duration": 176,
    "start_time": "2024-05-10T11:22:39.319Z"
   },
   {
    "duration": 165,
    "start_time": "2024-05-10T11:23:19.423Z"
   },
   {
    "duration": 6,
    "start_time": "2024-05-10T11:30:08.818Z"
   },
   {
    "duration": 15,
    "start_time": "2024-05-10T11:30:31.922Z"
   },
   {
    "duration": 13,
    "start_time": "2024-05-10T11:30:51.657Z"
   },
   {
    "duration": 5,
    "start_time": "2024-05-10T11:30:56.717Z"
   },
   {
    "duration": 5,
    "start_time": "2024-05-10T11:31:46.026Z"
   },
   {
    "duration": 9,
    "start_time": "2024-05-10T11:33:33.411Z"
   },
   {
    "duration": 4,
    "start_time": "2024-05-10T11:33:54.475Z"
   },
   {
    "duration": 152,
    "start_time": "2024-05-10T11:34:44.475Z"
   },
   {
    "duration": 149,
    "start_time": "2024-05-10T11:34:50.503Z"
   },
   {
    "duration": 69,
    "start_time": "2024-05-10T11:35:58.135Z"
   },
   {
    "duration": 186,
    "start_time": "2024-05-10T11:36:26.013Z"
   },
   {
    "duration": 177,
    "start_time": "2024-05-10T11:36:41.492Z"
   },
   {
    "duration": 177,
    "start_time": "2024-05-10T11:36:48.051Z"
   },
   {
    "duration": 11,
    "start_time": "2024-05-10T11:37:39.094Z"
   },
   {
    "duration": 12,
    "start_time": "2024-05-10T11:37:45.700Z"
   },
   {
    "duration": 9,
    "start_time": "2024-05-10T11:38:23.612Z"
   },
   {
    "duration": 11,
    "start_time": "2024-05-10T11:38:28.019Z"
   },
   {
    "duration": 17,
    "start_time": "2024-05-10T11:38:31.059Z"
   },
   {
    "duration": 39,
    "start_time": "2024-05-10T11:38:49.964Z"
   },
   {
    "duration": 28,
    "start_time": "2024-05-10T11:39:14.708Z"
   },
   {
    "duration": 35,
    "start_time": "2024-05-10T11:39:26.685Z"
   },
   {
    "duration": 31,
    "start_time": "2024-05-10T11:40:04.028Z"
   },
   {
    "duration": 19,
    "start_time": "2024-05-10T11:40:10.962Z"
   },
   {
    "duration": 31,
    "start_time": "2024-05-10T11:40:25.876Z"
   },
   {
    "duration": 15,
    "start_time": "2024-05-10T11:40:56.245Z"
   },
   {
    "duration": 6,
    "start_time": "2024-05-10T11:41:47.964Z"
   },
   {
    "duration": 7,
    "start_time": "2024-05-10T11:42:00.260Z"
   },
   {
    "duration": 6,
    "start_time": "2024-05-10T11:42:24.173Z"
   },
   {
    "duration": 6,
    "start_time": "2024-05-10T11:42:45.291Z"
   },
   {
    "duration": 6,
    "start_time": "2024-05-10T11:42:57.694Z"
   },
   {
    "duration": 20,
    "start_time": "2024-05-10T11:44:06.262Z"
   },
   {
    "duration": 32,
    "start_time": "2024-05-10T11:44:23.533Z"
   },
   {
    "duration": 31,
    "start_time": "2024-05-10T11:44:52.462Z"
   },
   {
    "duration": 24,
    "start_time": "2024-05-10T11:45:28.741Z"
   },
   {
    "duration": 11,
    "start_time": "2024-05-10T11:46:35.398Z"
   },
   {
    "duration": 185,
    "start_time": "2024-05-10T11:47:18.399Z"
   },
   {
    "duration": 17,
    "start_time": "2024-05-10T11:47:27.480Z"
   },
   {
    "duration": 189,
    "start_time": "2024-05-10T11:47:29.590Z"
   },
   {
    "duration": 395,
    "start_time": "2024-05-10T11:48:05.926Z"
   },
   {
    "duration": 193,
    "start_time": "2024-05-10T11:48:30.887Z"
   },
   {
    "duration": 204,
    "start_time": "2024-05-10T11:48:34.143Z"
   },
   {
    "duration": 201,
    "start_time": "2024-05-10T11:48:40.240Z"
   },
   {
    "duration": 76,
    "start_time": "2024-05-10T11:49:52.808Z"
   },
   {
    "duration": 196,
    "start_time": "2024-05-10T11:49:58.215Z"
   },
   {
    "duration": 200,
    "start_time": "2024-05-10T11:50:05.558Z"
   },
   {
    "duration": 205,
    "start_time": "2024-05-10T11:50:18.720Z"
   },
   {
    "duration": 34,
    "start_time": "2024-05-10T11:51:33.184Z"
   },
   {
    "duration": 10,
    "start_time": "2024-05-10T11:52:16.640Z"
   },
   {
    "duration": 6,
    "start_time": "2024-05-10T11:52:21.729Z"
   },
   {
    "duration": 15,
    "start_time": "2024-05-10T11:52:34.009Z"
   },
   {
    "duration": 10,
    "start_time": "2024-05-10T11:53:00.063Z"
   },
   {
    "duration": 71,
    "start_time": "2024-05-10T11:55:42.279Z"
   },
   {
    "duration": 8,
    "start_time": "2024-05-10T11:56:05.818Z"
   },
   {
    "duration": 10,
    "start_time": "2024-05-10T11:56:17.041Z"
   },
   {
    "duration": 8,
    "start_time": "2024-05-10T11:57:01.667Z"
   },
   {
    "duration": 12,
    "start_time": "2024-05-10T11:57:22.888Z"
   },
   {
    "duration": 11,
    "start_time": "2024-05-10T11:57:41.530Z"
   },
   {
    "duration": 11,
    "start_time": "2024-05-10T11:58:01.376Z"
   },
   {
    "duration": 14,
    "start_time": "2024-05-10T12:02:01.442Z"
   },
   {
    "duration": 13,
    "start_time": "2024-05-10T12:02:06.699Z"
   },
   {
    "duration": 13,
    "start_time": "2024-05-10T12:02:30.941Z"
   },
   {
    "duration": 13,
    "start_time": "2024-05-10T12:02:50.067Z"
   },
   {
    "duration": 11,
    "start_time": "2024-05-10T12:03:44.432Z"
   },
   {
    "duration": 13,
    "start_time": "2024-05-10T12:03:56.770Z"
   },
   {
    "duration": 12,
    "start_time": "2024-05-10T12:04:21.979Z"
   },
   {
    "duration": 14,
    "start_time": "2024-05-10T12:04:38.083Z"
   },
   {
    "duration": 11,
    "start_time": "2024-05-10T12:05:42.580Z"
   },
   {
    "duration": 10,
    "start_time": "2024-05-10T12:05:47.442Z"
   },
   {
    "duration": 12,
    "start_time": "2024-05-10T12:06:07.034Z"
   },
   {
    "duration": 13,
    "start_time": "2024-05-10T12:07:18.244Z"
   },
   {
    "duration": 13,
    "start_time": "2024-05-10T12:07:48.424Z"
   },
   {
    "duration": 17,
    "start_time": "2024-05-10T12:08:17.619Z"
   },
   {
    "duration": 32,
    "start_time": "2024-05-10T12:08:37.076Z"
   },
   {
    "duration": 22,
    "start_time": "2024-05-10T12:08:50.710Z"
   },
   {
    "duration": 23,
    "start_time": "2024-05-10T12:09:11.100Z"
   },
   {
    "duration": 77,
    "start_time": "2024-05-10T12:09:29.021Z"
   },
   {
    "duration": 15,
    "start_time": "2024-05-10T12:09:35.732Z"
   },
   {
    "duration": 1037,
    "start_time": "2024-05-10T12:15:56.302Z"
   },
   {
    "duration": 1063,
    "start_time": "2024-05-10T12:16:03.766Z"
   },
   {
    "duration": 1106,
    "start_time": "2024-05-10T12:16:33.003Z"
   },
   {
    "duration": 11,
    "start_time": "2024-05-10T12:16:38.396Z"
   },
   {
    "duration": 11,
    "start_time": "2024-05-10T12:16:50.790Z"
   },
   {
    "duration": 5,
    "start_time": "2024-05-10T12:16:59.384Z"
   },
   {
    "duration": 4,
    "start_time": "2024-05-10T12:18:02.618Z"
   },
   {
    "duration": 7,
    "start_time": "2024-05-10T12:18:17.205Z"
   },
   {
    "duration": 13,
    "start_time": "2024-05-10T12:19:03.158Z"
   },
   {
    "duration": 34,
    "start_time": "2024-05-10T12:19:12.768Z"
   },
   {
    "duration": 131,
    "start_time": "2024-05-10T12:21:21.271Z"
   },
   {
    "duration": 143,
    "start_time": "2024-05-10T12:21:59.280Z"
   },
   {
    "duration": 160,
    "start_time": "2024-05-10T12:22:07.603Z"
   },
   {
    "duration": 163,
    "start_time": "2024-05-10T12:22:44.907Z"
   },
   {
    "duration": 121,
    "start_time": "2024-05-10T12:23:47.648Z"
   },
   {
    "duration": 121,
    "start_time": "2024-05-10T12:25:14.800Z"
   },
   {
    "duration": 3947,
    "start_time": "2024-05-10T12:25:34.973Z"
   },
   {
    "duration": 5,
    "start_time": "2024-05-10T12:26:04.504Z"
   },
   {
    "duration": 20,
    "start_time": "2024-05-10T12:26:23.708Z"
   },
   {
    "duration": 21,
    "start_time": "2024-05-10T12:26:42.966Z"
   },
   {
    "duration": 1073,
    "start_time": "2024-05-10T12:27:46.956Z"
   },
   {
    "duration": 6,
    "start_time": "2024-05-10T12:27:53.810Z"
   },
   {
    "duration": 5,
    "start_time": "2024-05-10T12:28:12.825Z"
   },
   {
    "duration": 4,
    "start_time": "2024-05-10T12:28:12.966Z"
   },
   {
    "duration": 6,
    "start_time": "2024-05-10T12:28:19.849Z"
   },
   {
    "duration": 10,
    "start_time": "2024-05-10T12:29:15.466Z"
   },
   {
    "duration": 12,
    "start_time": "2024-05-10T12:29:31.026Z"
   },
   {
    "duration": 5,
    "start_time": "2024-05-10T12:29:43.690Z"
   },
   {
    "duration": 4,
    "start_time": "2024-05-10T12:30:31.578Z"
   },
   {
    "duration": 8,
    "start_time": "2024-05-10T12:30:43.785Z"
   },
   {
    "duration": 7,
    "start_time": "2024-05-10T12:31:17.579Z"
   },
   {
    "duration": 120,
    "start_time": "2024-05-10T12:31:37.554Z"
   },
   {
    "duration": 129,
    "start_time": "2024-05-10T12:31:46.554Z"
   },
   {
    "duration": 129,
    "start_time": "2024-05-10T12:32:35.116Z"
   },
   {
    "duration": 128,
    "start_time": "2024-05-10T12:32:54.963Z"
   },
   {
    "duration": 357,
    "start_time": "2024-05-10T12:33:09.875Z"
   },
   {
    "duration": 152,
    "start_time": "2024-05-10T12:33:40.755Z"
   },
   {
    "duration": 169,
    "start_time": "2024-05-10T12:34:02.340Z"
   },
   {
    "duration": 148,
    "start_time": "2024-05-10T12:34:36.041Z"
   },
   {
    "duration": 139,
    "start_time": "2024-05-10T12:34:45.130Z"
   },
   {
    "duration": 155,
    "start_time": "2024-05-10T12:35:10.621Z"
   },
   {
    "duration": 146,
    "start_time": "2024-05-10T12:35:29.530Z"
   },
   {
    "duration": 144,
    "start_time": "2024-05-10T12:35:47.428Z"
   },
   {
    "duration": 173,
    "start_time": "2024-05-10T12:36:13.796Z"
   },
   {
    "duration": 141,
    "start_time": "2024-05-10T12:37:23.573Z"
   },
   {
    "duration": 144,
    "start_time": "2024-05-10T12:37:32.740Z"
   },
   {
    "duration": 143,
    "start_time": "2024-05-10T12:37:58.118Z"
   },
   {
    "duration": 146,
    "start_time": "2024-05-10T12:38:44.162Z"
   },
   {
    "duration": 33,
    "start_time": "2024-05-10T12:39:00.669Z"
   },
   {
    "duration": 154,
    "start_time": "2024-05-10T12:39:52.895Z"
   },
   {
    "duration": 148,
    "start_time": "2024-05-10T12:40:10.750Z"
   },
   {
    "duration": 11,
    "start_time": "2024-05-10T12:40:47.294Z"
   },
   {
    "duration": 175,
    "start_time": "2024-05-10T12:40:59.950Z"
   },
   {
    "duration": 207,
    "start_time": "2024-05-10T12:41:41.701Z"
   },
   {
    "duration": 14,
    "start_time": "2024-05-10T12:43:05.216Z"
   },
   {
    "duration": 16,
    "start_time": "2024-05-10T12:43:48.558Z"
   },
   {
    "duration": 16,
    "start_time": "2024-05-10T12:44:21.673Z"
   },
   {
    "duration": 16,
    "start_time": "2024-05-10T12:45:12.456Z"
   },
   {
    "duration": 14,
    "start_time": "2024-05-10T12:45:31.351Z"
   },
   {
    "duration": 226,
    "start_time": "2024-05-10T12:45:41.263Z"
   },
   {
    "duration": 12,
    "start_time": "2024-05-10T12:55:34.250Z"
   },
   {
    "duration": 203,
    "start_time": "2024-05-10T12:55:42.242Z"
   },
   {
    "duration": 212,
    "start_time": "2024-05-10T12:55:56.818Z"
   },
   {
    "duration": 22,
    "start_time": "2024-05-10T12:57:10.829Z"
   },
   {
    "duration": 442,
    "start_time": "2024-05-10T12:58:26.173Z"
   },
   {
    "duration": 137,
    "start_time": "2024-05-10T12:58:26.719Z"
   },
   {
    "duration": 574,
    "start_time": "2024-05-10T12:58:45.244Z"
   },
   {
    "duration": 510,
    "start_time": "2024-05-10T12:58:50.931Z"
   },
   {
    "duration": 10,
    "start_time": "2024-05-10T12:58:54.931Z"
   },
   {
    "duration": 19,
    "start_time": "2024-05-10T12:59:39.067Z"
   },
   {
    "duration": 23,
    "start_time": "2024-05-10T13:00:01.875Z"
   },
   {
    "duration": 429,
    "start_time": "2024-05-10T13:00:34.864Z"
   },
   {
    "duration": 127,
    "start_time": "2024-05-10T13:00:35.295Z"
   },
   {
    "duration": 24,
    "start_time": "2024-05-10T13:00:35.423Z"
   },
   {
    "duration": 17,
    "start_time": "2024-05-10T13:00:35.449Z"
   },
   {
    "duration": 11,
    "start_time": "2024-05-10T13:00:35.469Z"
   },
   {
    "duration": 45,
    "start_time": "2024-05-10T13:00:35.482Z"
   },
   {
    "duration": 34,
    "start_time": "2024-05-10T13:00:35.528Z"
   },
   {
    "duration": 47,
    "start_time": "2024-05-10T13:00:35.564Z"
   },
   {
    "duration": 58,
    "start_time": "2024-05-10T13:00:35.613Z"
   },
   {
    "duration": 36,
    "start_time": "2024-05-10T13:00:35.673Z"
   },
   {
    "duration": 48,
    "start_time": "2024-05-10T13:00:35.712Z"
   },
   {
    "duration": 35,
    "start_time": "2024-05-10T13:00:35.761Z"
   },
   {
    "duration": 7,
    "start_time": "2024-05-10T13:00:35.799Z"
   },
   {
    "duration": 21,
    "start_time": "2024-05-10T13:00:35.812Z"
   },
   {
    "duration": 48,
    "start_time": "2024-05-10T13:00:35.834Z"
   },
   {
    "duration": 25,
    "start_time": "2024-05-10T13:00:35.884Z"
   },
   {
    "duration": 60,
    "start_time": "2024-05-10T13:00:35.911Z"
   },
   {
    "duration": 16,
    "start_time": "2024-05-10T13:00:35.973Z"
   },
   {
    "duration": 16,
    "start_time": "2024-05-10T13:00:35.990Z"
   },
   {
    "duration": 13,
    "start_time": "2024-05-10T13:00:36.008Z"
   },
   {
    "duration": 81,
    "start_time": "2024-05-10T13:00:36.023Z"
   },
   {
    "duration": 7,
    "start_time": "2024-05-10T13:00:36.105Z"
   },
   {
    "duration": 23,
    "start_time": "2024-05-10T13:00:36.114Z"
   },
   {
    "duration": 44,
    "start_time": "2024-05-10T13:00:36.139Z"
   },
   {
    "duration": 85,
    "start_time": "2024-05-10T13:00:36.185Z"
   },
   {
    "duration": 36,
    "start_time": "2024-05-10T13:00:36.272Z"
   },
   {
    "duration": 6,
    "start_time": "2024-05-10T13:00:36.310Z"
   },
   {
    "duration": 13,
    "start_time": "2024-05-10T13:00:36.318Z"
   },
   {
    "duration": 12,
    "start_time": "2024-05-10T13:00:36.332Z"
   },
   {
    "duration": 20,
    "start_time": "2024-05-10T13:00:36.346Z"
   },
   {
    "duration": 29,
    "start_time": "2024-05-10T13:00:36.368Z"
   },
   {
    "duration": 14,
    "start_time": "2024-05-10T13:00:36.400Z"
   },
   {
    "duration": 13,
    "start_time": "2024-05-10T13:00:36.416Z"
   },
   {
    "duration": 258,
    "start_time": "2024-05-10T13:00:36.431Z"
   },
   {
    "duration": 376,
    "start_time": "2024-05-10T13:00:36.691Z"
   },
   {
    "duration": 168,
    "start_time": "2024-05-10T13:00:37.068Z"
   },
   {
    "duration": 22,
    "start_time": "2024-05-10T13:00:37.237Z"
   },
   {
    "duration": 33,
    "start_time": "2024-05-10T13:00:37.260Z"
   },
   {
    "duration": 353,
    "start_time": "2024-05-10T13:00:37.295Z"
   },
   {
    "duration": 418,
    "start_time": "2024-05-10T13:00:37.649Z"
   },
   {
    "duration": 201,
    "start_time": "2024-05-10T13:00:38.072Z"
   },
   {
    "duration": 5,
    "start_time": "2024-05-10T13:00:38.274Z"
   },
   {
    "duration": 6,
    "start_time": "2024-05-10T13:00:38.291Z"
   },
   {
    "duration": 31,
    "start_time": "2024-05-10T13:00:38.299Z"
   },
   {
    "duration": 272,
    "start_time": "2024-05-10T13:00:38.332Z"
   },
   {
    "duration": 213,
    "start_time": "2024-05-10T13:00:38.606Z"
   },
   {
    "duration": 15,
    "start_time": "2024-05-10T13:00:38.821Z"
   },
   {
    "duration": 63,
    "start_time": "2024-05-10T13:00:38.838Z"
   },
   {
    "duration": 227,
    "start_time": "2024-05-10T13:00:38.904Z"
   },
   {
    "duration": 23,
    "start_time": "2024-05-10T13:00:39.132Z"
   },
   {
    "duration": 399,
    "start_time": "2024-05-10T13:01:06.305Z"
   },
   {
    "duration": 126,
    "start_time": "2024-05-10T13:01:06.707Z"
   },
   {
    "duration": 17,
    "start_time": "2024-05-10T13:01:06.834Z"
   },
   {
    "duration": 3,
    "start_time": "2024-05-10T13:01:06.853Z"
   },
   {
    "duration": 21,
    "start_time": "2024-05-10T13:01:06.859Z"
   },
   {
    "duration": 22,
    "start_time": "2024-05-10T13:01:06.882Z"
   },
   {
    "duration": 11,
    "start_time": "2024-05-10T13:01:06.906Z"
   },
   {
    "duration": 13,
    "start_time": "2024-05-10T13:01:06.918Z"
   },
   {
    "duration": 6,
    "start_time": "2024-05-10T13:01:06.932Z"
   },
   {
    "duration": 19,
    "start_time": "2024-05-10T13:01:06.940Z"
   },
   {
    "duration": 34,
    "start_time": "2024-05-10T13:01:06.960Z"
   },
   {
    "duration": 6,
    "start_time": "2024-05-10T13:01:06.997Z"
   },
   {
    "duration": 27,
    "start_time": "2024-05-10T13:01:07.005Z"
   },
   {
    "duration": 33,
    "start_time": "2024-05-10T13:01:07.036Z"
   },
   {
    "duration": 23,
    "start_time": "2024-05-10T13:01:07.070Z"
   },
   {
    "duration": 30,
    "start_time": "2024-05-10T13:01:07.095Z"
   },
   {
    "duration": 25,
    "start_time": "2024-05-10T13:01:07.127Z"
   },
   {
    "duration": 27,
    "start_time": "2024-05-10T13:01:07.154Z"
   },
   {
    "duration": 24,
    "start_time": "2024-05-10T13:01:07.182Z"
   },
   {
    "duration": 54,
    "start_time": "2024-05-10T13:01:07.208Z"
   },
   {
    "duration": 4,
    "start_time": "2024-05-10T13:01:07.264Z"
   },
   {
    "duration": 14,
    "start_time": "2024-05-10T13:01:07.291Z"
   },
   {
    "duration": 35,
    "start_time": "2024-05-10T13:01:07.307Z"
   },
   {
    "duration": 79,
    "start_time": "2024-05-10T13:01:07.344Z"
   },
   {
    "duration": 17,
    "start_time": "2024-05-10T13:01:07.424Z"
   },
   {
    "duration": 10,
    "start_time": "2024-05-10T13:01:07.443Z"
   },
   {
    "duration": 11,
    "start_time": "2024-05-10T13:01:07.454Z"
   },
   {
    "duration": 32,
    "start_time": "2024-05-10T13:01:07.466Z"
   },
   {
    "duration": 19,
    "start_time": "2024-05-10T13:01:07.500Z"
   },
   {
    "duration": 3,
    "start_time": "2024-05-10T13:01:07.521Z"
   },
   {
    "duration": 27,
    "start_time": "2024-05-10T13:01:07.526Z"
   },
   {
    "duration": 9,
    "start_time": "2024-05-10T13:01:07.554Z"
   },
   {
    "duration": 241,
    "start_time": "2024-05-10T13:01:07.565Z"
   },
   {
    "duration": 378,
    "start_time": "2024-05-10T13:01:07.808Z"
   },
   {
    "duration": 181,
    "start_time": "2024-05-10T13:01:08.188Z"
   },
   {
    "duration": 30,
    "start_time": "2024-05-10T13:01:08.371Z"
   },
   {
    "duration": 12,
    "start_time": "2024-05-10T13:01:08.404Z"
   },
   {
    "duration": 338,
    "start_time": "2024-05-10T13:01:08.418Z"
   },
   {
    "duration": 401,
    "start_time": "2024-05-10T13:01:08.757Z"
   },
   {
    "duration": 223,
    "start_time": "2024-05-10T13:01:09.160Z"
   },
   {
    "duration": 7,
    "start_time": "2024-05-10T13:01:09.391Z"
   },
   {
    "duration": 12,
    "start_time": "2024-05-10T13:01:09.400Z"
   },
   {
    "duration": 6,
    "start_time": "2024-05-10T13:01:09.415Z"
   },
   {
    "duration": 260,
    "start_time": "2024-05-10T13:01:09.423Z"
   },
   {
    "duration": 248,
    "start_time": "2024-05-10T13:01:09.685Z"
   },
   {
    "duration": 14,
    "start_time": "2024-05-10T13:01:09.935Z"
   },
   {
    "duration": 82,
    "start_time": "2024-05-10T13:01:09.951Z"
   },
   {
    "duration": 236,
    "start_time": "2024-05-10T13:01:10.035Z"
   },
   {
    "duration": 39,
    "start_time": "2024-05-10T13:01:10.273Z"
   },
   {
    "duration": 53,
    "start_time": "2024-05-10T13:02:25.164Z"
   },
   {
    "duration": 25,
    "start_time": "2024-05-10T13:02:49.255Z"
   },
   {
    "duration": 445,
    "start_time": "2024-05-10T13:29:49.263Z"
   },
   {
    "duration": 147,
    "start_time": "2024-05-10T13:29:49.721Z"
   },
   {
    "duration": 25,
    "start_time": "2024-05-10T13:29:49.872Z"
   },
   {
    "duration": 18,
    "start_time": "2024-05-10T13:29:49.900Z"
   },
   {
    "duration": 23,
    "start_time": "2024-05-10T13:29:49.920Z"
   },
   {
    "duration": 35,
    "start_time": "2024-05-10T13:29:49.944Z"
   },
   {
    "duration": 19,
    "start_time": "2024-05-10T13:29:49.981Z"
   },
   {
    "duration": 21,
    "start_time": "2024-05-10T13:29:50.001Z"
   },
   {
    "duration": 11,
    "start_time": "2024-05-10T13:29:50.025Z"
   },
   {
    "duration": 24,
    "start_time": "2024-05-10T13:29:50.037Z"
   },
   {
    "duration": 17,
    "start_time": "2024-05-10T13:29:50.063Z"
   },
   {
    "duration": 17,
    "start_time": "2024-05-10T13:29:50.082Z"
   },
   {
    "duration": 11,
    "start_time": "2024-05-10T13:29:50.104Z"
   },
   {
    "duration": 40,
    "start_time": "2024-05-10T13:29:50.117Z"
   },
   {
    "duration": 15,
    "start_time": "2024-05-10T13:29:50.159Z"
   },
   {
    "duration": 23,
    "start_time": "2024-05-10T13:29:50.176Z"
   },
   {
    "duration": 15,
    "start_time": "2024-05-10T13:29:50.207Z"
   },
   {
    "duration": 11,
    "start_time": "2024-05-10T13:29:50.224Z"
   },
   {
    "duration": 9,
    "start_time": "2024-05-10T13:29:50.237Z"
   },
   {
    "duration": 78,
    "start_time": "2024-05-10T13:29:50.248Z"
   },
   {
    "duration": 4,
    "start_time": "2024-05-10T13:29:50.328Z"
   },
   {
    "duration": 5,
    "start_time": "2024-05-10T13:29:50.334Z"
   },
   {
    "duration": 21,
    "start_time": "2024-05-10T13:29:50.340Z"
   },
   {
    "duration": 98,
    "start_time": "2024-05-10T13:29:50.362Z"
   },
   {
    "duration": 36,
    "start_time": "2024-05-10T13:29:50.462Z"
   },
   {
    "duration": 9,
    "start_time": "2024-05-10T13:29:50.505Z"
   },
   {
    "duration": 28,
    "start_time": "2024-05-10T13:29:50.516Z"
   },
   {
    "duration": 8,
    "start_time": "2024-05-10T13:29:50.546Z"
   },
   {
    "duration": 14,
    "start_time": "2024-05-10T13:29:50.555Z"
   },
   {
    "duration": 17,
    "start_time": "2024-05-10T13:29:50.570Z"
   },
   {
    "duration": 33,
    "start_time": "2024-05-10T13:29:50.589Z"
   },
   {
    "duration": 5,
    "start_time": "2024-05-10T13:29:50.623Z"
   },
   {
    "duration": 258,
    "start_time": "2024-05-10T13:29:50.629Z"
   },
   {
    "duration": 426,
    "start_time": "2024-05-10T13:29:50.888Z"
   },
   {
    "duration": 156,
    "start_time": "2024-05-10T13:29:51.323Z"
   },
   {
    "duration": 30,
    "start_time": "2024-05-10T13:29:51.481Z"
   },
   {
    "duration": 8,
    "start_time": "2024-05-10T13:29:51.517Z"
   },
   {
    "duration": 338,
    "start_time": "2024-05-10T13:29:51.527Z"
   },
   {
    "duration": 438,
    "start_time": "2024-05-10T13:29:51.867Z"
   },
   {
    "duration": 212,
    "start_time": "2024-05-10T13:29:52.310Z"
   },
   {
    "duration": 6,
    "start_time": "2024-05-10T13:29:52.526Z"
   },
   {
    "duration": 12,
    "start_time": "2024-05-10T13:29:52.534Z"
   },
   {
    "duration": 17,
    "start_time": "2024-05-10T13:29:52.548Z"
   },
   {
    "duration": 283,
    "start_time": "2024-05-10T13:29:52.567Z"
   },
   {
    "duration": 209,
    "start_time": "2024-05-10T13:29:52.852Z"
   },
   {
    "duration": 36,
    "start_time": "2024-05-10T13:29:53.063Z"
   },
   {
    "duration": 45,
    "start_time": "2024-05-10T13:29:53.105Z"
   },
   {
    "duration": 233,
    "start_time": "2024-05-10T13:29:53.151Z"
   },
   {
    "duration": 39,
    "start_time": "2024-05-10T13:29:53.385Z"
   },
   {
    "duration": 319,
    "start_time": "2024-05-12T17:15:25.439Z"
   },
   {
    "duration": 363,
    "start_time": "2024-05-12T17:15:25.759Z"
   },
   {
    "duration": 13,
    "start_time": "2024-05-12T17:15:26.124Z"
   },
   {
    "duration": 4,
    "start_time": "2024-05-12T17:15:26.138Z"
   },
   {
    "duration": 23,
    "start_time": "2024-05-12T17:15:26.143Z"
   },
   {
    "duration": 36,
    "start_time": "2024-05-12T17:15:26.168Z"
   },
   {
    "duration": 7,
    "start_time": "2024-05-12T17:15:26.205Z"
   },
   {
    "duration": 15,
    "start_time": "2024-05-12T17:15:26.213Z"
   },
   {
    "duration": 30,
    "start_time": "2024-05-12T17:15:26.229Z"
   },
   {
    "duration": 10,
    "start_time": "2024-05-12T17:15:26.261Z"
   },
   {
    "duration": 10,
    "start_time": "2024-05-12T17:15:26.273Z"
   },
   {
    "duration": 3,
    "start_time": "2024-05-12T17:15:26.284Z"
   },
   {
    "duration": 10,
    "start_time": "2024-05-12T17:15:26.288Z"
   },
   {
    "duration": 18,
    "start_time": "2024-05-12T17:15:26.299Z"
   },
   {
    "duration": 3,
    "start_time": "2024-05-12T17:15:26.318Z"
   },
   {
    "duration": 28,
    "start_time": "2024-05-12T17:15:26.323Z"
   },
   {
    "duration": 10,
    "start_time": "2024-05-12T17:15:26.352Z"
   },
   {
    "duration": 10,
    "start_time": "2024-05-12T17:15:26.363Z"
   },
   {
    "duration": 6,
    "start_time": "2024-05-12T17:15:26.384Z"
   },
   {
    "duration": 38,
    "start_time": "2024-05-12T17:15:26.391Z"
   },
   {
    "duration": 3,
    "start_time": "2024-05-12T17:15:26.430Z"
   },
   {
    "duration": 10,
    "start_time": "2024-05-12T17:15:26.434Z"
   },
   {
    "duration": 40,
    "start_time": "2024-05-12T17:15:26.445Z"
   },
   {
    "duration": 55,
    "start_time": "2024-05-12T17:15:26.486Z"
   },
   {
    "duration": 16,
    "start_time": "2024-05-12T17:15:26.542Z"
   },
   {
    "duration": 25,
    "start_time": "2024-05-12T17:15:26.559Z"
   },
   {
    "duration": 7,
    "start_time": "2024-05-12T17:15:26.586Z"
   },
   {
    "duration": 18,
    "start_time": "2024-05-12T17:15:26.594Z"
   },
   {
    "duration": 6,
    "start_time": "2024-05-12T17:15:26.615Z"
   },
   {
    "duration": 7,
    "start_time": "2024-05-12T17:15:26.623Z"
   },
   {
    "duration": 11,
    "start_time": "2024-05-12T17:15:26.632Z"
   },
   {
    "duration": 10,
    "start_time": "2024-05-12T17:15:26.645Z"
   },
   {
    "duration": 377,
    "start_time": "2024-05-12T17:15:26.656Z"
   },
   {
    "duration": 295,
    "start_time": "2024-05-12T17:15:27.035Z"
   },
   {
    "duration": 124,
    "start_time": "2024-05-12T17:15:27.332Z"
   },
   {
    "duration": 17,
    "start_time": "2024-05-12T17:15:27.457Z"
   },
   {
    "duration": 5,
    "start_time": "2024-05-12T17:15:27.485Z"
   },
   {
    "duration": 319,
    "start_time": "2024-05-12T17:15:27.491Z"
   },
   {
    "duration": 239,
    "start_time": "2024-05-12T17:15:27.812Z"
   },
   {
    "duration": 150,
    "start_time": "2024-05-12T17:15:28.053Z"
   },
   {
    "duration": 4,
    "start_time": "2024-05-12T17:15:28.204Z"
   },
   {
    "duration": 5,
    "start_time": "2024-05-12T17:15:28.209Z"
   },
   {
    "duration": 4,
    "start_time": "2024-05-12T17:15:28.215Z"
   },
   {
    "duration": 193,
    "start_time": "2024-05-12T17:15:28.220Z"
   },
   {
    "duration": 148,
    "start_time": "2024-05-12T17:15:28.414Z"
   },
   {
    "duration": 23,
    "start_time": "2024-05-12T17:15:28.564Z"
   },
   {
    "duration": 28,
    "start_time": "2024-05-12T17:15:28.588Z"
   },
   {
    "duration": 171,
    "start_time": "2024-05-12T17:15:28.617Z"
   },
   {
    "duration": 20,
    "start_time": "2024-05-12T17:15:28.789Z"
   },
   {
    "duration": 14,
    "start_time": "2024-05-12T17:15:53.577Z"
   },
   {
    "duration": 62,
    "start_time": "2024-05-12T17:18:40.364Z"
   },
   {
    "duration": 6,
    "start_time": "2024-05-12T17:19:20.755Z"
   },
   {
    "duration": 69,
    "start_time": "2024-05-12T17:19:46.076Z"
   },
   {
    "duration": 428,
    "start_time": "2024-05-12T17:20:59.415Z"
   },
   {
    "duration": 3,
    "start_time": "2024-05-12T17:22:41.219Z"
   },
   {
    "duration": 54,
    "start_time": "2024-05-12T17:22:56.826Z"
   },
   {
    "duration": 551,
    "start_time": "2024-05-12T17:23:15.578Z"
   },
   {
    "duration": 93,
    "start_time": "2024-05-12T17:24:12.224Z"
   },
   {
    "duration": 925,
    "start_time": "2024-05-12T17:25:11.849Z"
   },
   {
    "duration": 975,
    "start_time": "2024-05-12T17:25:20.868Z"
   },
   {
    "duration": 520,
    "start_time": "2024-05-12T17:25:29.630Z"
   },
   {
    "duration": 2,
    "start_time": "2024-05-12T17:26:10.492Z"
   },
   {
    "duration": 2,
    "start_time": "2024-05-12T17:26:32.700Z"
   },
   {
    "duration": 766,
    "start_time": "2024-05-12T17:28:01.708Z"
   },
   {
    "duration": 1167,
    "start_time": "2024-05-12T17:28:10.838Z"
   },
   {
    "duration": 81,
    "start_time": "2024-05-12T17:29:58.381Z"
   },
   {
    "duration": 1102,
    "start_time": "2024-05-12T17:30:54.421Z"
   },
   {
    "duration": 277,
    "start_time": "2024-05-12T17:59:12.783Z"
   },
   {
    "duration": 68,
    "start_time": "2024-05-12T17:59:44.349Z"
   },
   {
    "duration": 261,
    "start_time": "2024-05-12T17:59:49.221Z"
   },
   {
    "duration": 317,
    "start_time": "2024-05-12T18:00:02.374Z"
   },
   {
    "duration": 263,
    "start_time": "2024-05-12T18:00:10.832Z"
   },
   {
    "duration": 296,
    "start_time": "2024-05-12T18:03:14.967Z"
   },
   {
    "duration": 315,
    "start_time": "2024-05-12T18:04:08.748Z"
   },
   {
    "duration": 331,
    "start_time": "2024-05-12T18:04:33.641Z"
   },
   {
    "duration": 257,
    "start_time": "2024-05-12T18:08:37.493Z"
   },
   {
    "duration": 259,
    "start_time": "2024-05-12T18:08:43.318Z"
   },
   {
    "duration": 326,
    "start_time": "2024-05-12T18:08:51.685Z"
   },
   {
    "duration": 75,
    "start_time": "2024-05-12T18:08:56.582Z"
   },
   {
    "duration": 241,
    "start_time": "2024-05-12T18:09:01.170Z"
   },
   {
    "duration": 285,
    "start_time": "2024-05-12T18:09:12.683Z"
   },
   {
    "duration": 279,
    "start_time": "2024-05-12T18:09:19.813Z"
   },
   {
    "duration": 245,
    "start_time": "2024-05-12T18:09:32.213Z"
   },
   {
    "duration": 244,
    "start_time": "2024-05-12T18:09:37.564Z"
   },
   {
    "duration": 243,
    "start_time": "2024-05-12T18:09:48.973Z"
   },
   {
    "duration": 253,
    "start_time": "2024-05-12T18:09:53.519Z"
   },
   {
    "duration": 243,
    "start_time": "2024-05-12T18:09:57.561Z"
   },
   {
    "duration": 238,
    "start_time": "2024-05-12T18:10:02.306Z"
   },
   {
    "duration": 241,
    "start_time": "2024-05-12T18:10:06.277Z"
   },
   {
    "duration": 317,
    "start_time": "2024-05-12T18:10:14.203Z"
   },
   {
    "duration": 247,
    "start_time": "2024-05-12T18:11:26.614Z"
   },
   {
    "duration": 233,
    "start_time": "2024-05-12T18:11:50.942Z"
   },
   {
    "duration": 258,
    "start_time": "2024-05-12T18:12:00.901Z"
   },
   {
    "duration": 248,
    "start_time": "2024-05-12T18:12:12.143Z"
   },
   {
    "duration": 238,
    "start_time": "2024-05-12T18:12:32.257Z"
   },
   {
    "duration": 237,
    "start_time": "2024-05-12T18:12:37.038Z"
   },
   {
    "duration": 249,
    "start_time": "2024-05-12T18:12:43.779Z"
   },
   {
    "duration": 249,
    "start_time": "2024-05-12T18:12:48.064Z"
   },
   {
    "duration": 260,
    "start_time": "2024-05-12T18:12:57.506Z"
   },
   {
    "duration": 27,
    "start_time": "2024-05-12T18:20:29.724Z"
   },
   {
    "duration": 28,
    "start_time": "2024-05-12T18:21:01.761Z"
   },
   {
    "duration": 18,
    "start_time": "2024-05-12T18:21:45.901Z"
   },
   {
    "duration": 20,
    "start_time": "2024-05-12T18:22:16.273Z"
   },
   {
    "duration": 18,
    "start_time": "2024-05-12T18:23:23.405Z"
   },
   {
    "duration": 19,
    "start_time": "2024-05-12T18:23:40.646Z"
   },
   {
    "duration": 741,
    "start_time": "2024-05-12T18:26:31.393Z"
   },
   {
    "duration": 1040,
    "start_time": "2024-05-12T18:26:40.415Z"
   },
   {
    "duration": 20,
    "start_time": "2024-05-12T18:26:52.502Z"
   },
   {
    "duration": 29,
    "start_time": "2024-05-12T18:30:50.905Z"
   },
   {
    "duration": 29,
    "start_time": "2024-05-12T18:31:45.865Z"
   },
   {
    "duration": 1012,
    "start_time": "2024-05-12T18:32:22.598Z"
   },
   {
    "duration": 997,
    "start_time": "2024-05-12T18:32:36.346Z"
   },
   {
    "duration": 66,
    "start_time": "2024-05-12T18:32:40.234Z"
   },
   {
    "duration": 5,
    "start_time": "2024-05-12T18:32:51.681Z"
   },
   {
    "duration": 753,
    "start_time": "2024-05-12T18:33:02.270Z"
   },
   {
    "duration": 742,
    "start_time": "2024-05-12T18:33:18.470Z"
   },
   {
    "duration": 69,
    "start_time": "2024-05-12T18:33:29.466Z"
   },
   {
    "duration": 7,
    "start_time": "2024-05-12T18:33:36.795Z"
   },
   {
    "duration": 15,
    "start_time": "2024-05-12T18:33:46.602Z"
   },
   {
    "duration": 13,
    "start_time": "2024-05-12T18:35:13.054Z"
   },
   {
    "duration": 10,
    "start_time": "2024-05-12T18:35:29.145Z"
   },
   {
    "duration": 12,
    "start_time": "2024-05-12T18:35:36.016Z"
   },
   {
    "duration": 13,
    "start_time": "2024-05-12T18:35:44.337Z"
   },
   {
    "duration": 11,
    "start_time": "2024-05-12T18:36:16.187Z"
   },
   {
    "duration": 17,
    "start_time": "2024-05-12T18:42:13.218Z"
   }
  ],
  "colab": {
   "name": "DA+. Сборный проект 1. Шаблон (1).ipynb",
   "provenance": []
  },
  "kernelspec": {
   "display_name": "Python 3 (ipykernel)",
   "language": "python",
   "name": "python3"
  },
  "language_info": {
   "codemirror_mode": {
    "name": "ipython",
    "version": 3
   },
   "file_extension": ".py",
   "mimetype": "text/x-python",
   "name": "python",
   "nbconvert_exporter": "python",
   "pygments_lexer": "ipython3",
   "version": "3.11.7"
  },
  "toc": {
   "base_numbering": 1,
   "nav_menu": {
    "height": "333px",
    "width": "382px"
   },
   "number_sections": true,
   "sideBar": true,
   "skip_h1_title": true,
   "title_cell": "Table of Contents",
   "title_sidebar": "Contents",
   "toc_cell": false,
   "toc_position": {
    "height": "calc(100% - 180px)",
    "left": "10px",
    "top": "150px",
    "width": "375.391px"
   },
   "toc_section_display": true,
   "toc_window_display": false
  }
 },
 "nbformat": 4,
 "nbformat_minor": 4
}
