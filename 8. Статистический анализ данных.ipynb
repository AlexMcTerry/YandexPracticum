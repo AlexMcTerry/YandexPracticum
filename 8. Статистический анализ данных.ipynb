{
 "cells": [
  {
   "cell_type": "markdown",
   "id": "dcbf3d3e",
   "metadata": {},
   "source": [
    "<h1 style=\"-webkit-text-stroke-width:0px;background-color:rgb(255, 255, 255);box-sizing:inherit;color:rgba(0, 0, 0, 0.85);font-family:&quot;ys text&quot;, sans-serif;font-size:25.998px;font-style:normal;font-variant-caps:normal;font-variant-ligatures:normal;letter-spacing:normal;line-height:1;margin:0.538em 0px 0px;orphans:2;text-align:start;text-decoration-color:initial;text-decoration-style:initial;text-decoration-thickness:initial;text-indent:0px;text-transform:none;white-space:normal;widows:2;word-spacing:0px;\" id=\"Проект:-Статистический-анализ-данных\"><span style=\"color:#283593;\"><strong>Проект: Статистический анализ данных</strong></span></h1>\n",
    "<div class=\"paragraph\" style=\"-webkit-text-stroke-width:0px;background-color:rgb(255, 255, 255);box-sizing:inherit;color:rgba(0, 0, 0, 0.85);font-family:&quot;ys text&quot;, sans-serif;font-size:18px;font-style:normal;font-variant-caps:normal;font-variant-ligatures:normal;font-weight:400;letter-spacing:normal;orphans:2;text-align:start;text-decoration-color:initial;text-decoration-style:initial;text-decoration-thickness:initial;text-indent:0px;text-transform:none;white-space:pre-wrap;widows:2;word-spacing:0px;\"><span style=\"background-color:rgb(255,255,255);color:#283593;font-family:&quot;Helvetica Neue&quot;, Helvetica, Arial, sans-serif;font-size:14px;\"><span style=\"-webkit-text-stroke-width:0px;display:inline !important;float:none;font-style:normal;font-variant-caps:normal;font-variant-ligatures:normal;font-weight:400;letter-spacing:normal;orphans:2;text-align:left;text-decoration-color:initial;text-decoration-style:initial;text-decoration-thickness:initial;text-indent:0px;text-transform:none;white-space:normal;widows:2;word-spacing:0px;\">В этом проекте необходимо провести аналитику популярного сервиса аренды самокатов GoFast. Нам передали данные о некоторых пользователях из нескольких городов, а также об их поездках. Проанализируем данные и проверим некоторые гипотезы, которые могут помочь бизнесу вырасти.</span></span></div>\n",
    "<div class=\"paragraph\" style=\"-webkit-text-stroke-width:0px;background-color:rgb(255, 255, 255);box-sizing:inherit;color:rgba(0, 0, 0, 0.85);font-family:&quot;ys text&quot;, sans-serif;font-size:18px;font-style:normal;font-variant-caps:normal;font-variant-ligatures:normal;font-weight:400;letter-spacing:normal;orphans:2;text-align:start;text-decoration-color:initial;text-decoration-style:initial;text-decoration-thickness:initial;text-indent:0px;text-transform:none;white-space:pre-wrap;widows:2;word-spacing:0px;\"><span style=\"background-color:rgb(255,255,255);color:#283593;font-family:&quot;Helvetica Neue&quot;, Helvetica, Arial, sans-serif;font-size:14px;\"><span style=\"-webkit-text-stroke-width:0px;display:inline !important;float:none;font-style:normal;font-variant-caps:normal;font-variant-ligatures:normal;font-weight:400;letter-spacing:normal;orphans:2;text-align:left;text-decoration-color:initial;text-decoration-style:initial;text-decoration-thickness:initial;text-indent:0px;text-transform:none;white-space:normal;widows:2;word-spacing:0px;\">Чтобы совершать поездки по городу, пользователи сервиса GoFast пользуются мобильным приложением. Сервисом можно пользоваться:</span></span></div>\n",
    "<div class=\"paragraph\" style=\"-webkit-text-stroke-width:0px;background-color:rgb(255, 255, 255);box-sizing:inherit;color:rgba(0, 0, 0, 0.85);font-family:&quot;ys text&quot;, sans-serif;font-size:18px;font-style:normal;font-variant-caps:normal;font-variant-ligatures:normal;font-weight:400;letter-spacing:normal;orphans:2;text-align:start;text-decoration-color:initial;text-decoration-style:initial;text-decoration-thickness:initial;text-indent:0px;text-transform:none;white-space:pre-wrap;widows:2;word-spacing:0px;\"><span style=\"background-color:rgb(255,255,255);color:#283593;font-family:&quot;Helvetica Neue&quot;, Helvetica, Arial, sans-serif;font-size:14px;\"><span style=\"-webkit-text-stroke-width:0px;display:inline !important;float:none;font-style:normal;font-variant-caps:normal;font-variant-ligatures:normal;font-weight:400;letter-spacing:normal;orphans:2;text-align:left;text-decoration-color:initial;text-decoration-style:initial;text-decoration-thickness:initial;text-indent:0px;text-transform:none;white-space:normal;widows:2;word-spacing:0px;\"><strong>без подписки</strong></span></span></div>\n",
    "<ul>\n",
    "    <li><span style=\"background-color:rgb(255,255,255);color:#283593;font-family:&quot;Helvetica Neue&quot;, Helvetica, Arial, sans-serif;font-size:14px;\"><span style=\"-webkit-text-stroke-width:0px;display:inline !important;float:none;font-style:normal;font-variant-caps:normal;font-variant-ligatures:normal;font-weight:400;letter-spacing:normal;orphans:2;text-align:left;text-decoration-color:initial;text-decoration-style:initial;text-decoration-thickness:initial;text-indent:0px;text-transform:none;white-space:normal;widows:2;word-spacing:0px;\">абонентская плата отсутствует;</span></span></li>\n",
    "    <li><span style=\"background-color:rgb(255,255,255);color:#283593;font-family:&quot;Helvetica Neue&quot;, Helvetica, Arial, sans-serif;font-size:14px;\"><span style=\"-webkit-text-stroke-width:0px;display:inline !important;float:none;font-style:normal;font-variant-caps:normal;font-variant-ligatures:normal;font-weight:400;letter-spacing:normal;orphans:2;text-align:left;text-decoration-color:initial;text-decoration-style:initial;text-decoration-thickness:initial;text-indent:0px;text-transform:none;white-space:normal;widows:2;word-spacing:0px;\">стоимость одной минуты поездки —&nbsp;&nbsp;8 </span><span style=\"-webkit-text-stroke-width:0px;display:inline !important;float:none;font-style:normal;font-variant-caps:normal;font-variant-ligatures:normal;font-weight:400;letter-spacing:normal;orphans:2;text-align:left;text-decoration-color:initial;text-decoration-style:initial;text-decoration-thickness:initial;text-indent:0px;text-transform:none;white-space:normal;widows:2;word-spacing:0px;\"></span><span style=\"-webkit-text-stroke-width:0px;display:inline !important;float:none;font-style:normal;font-variant-caps:normal;font-variant-ligatures:normal;font-weight:400;letter-spacing:normal;orphans:2;text-align:left;text-decoration-color:initial;text-decoration-style:initial;text-decoration-thickness:initial;text-indent:0px;text-transform:none;white-space:normal;widows:2;word-spacing:0px;\">8 рублей;</span></span></li>\n",
    "    <li><span style=\"background-color:rgb(255,255,255);color:#283593;font-family:&quot;Helvetica Neue&quot;, Helvetica, Arial, sans-serif;font-size:14px;\"><span style=\"-webkit-text-stroke-width:0px;display:inline !important;float:none;font-style:normal;font-variant-caps:normal;font-variant-ligatures:normal;font-weight:400;letter-spacing:normal;orphans:2;text-align:left;text-decoration-color:initial;text-decoration-style:initial;text-decoration-thickness:initial;text-indent:0px;text-transform:none;white-space:normal;widows:2;word-spacing:0px;\">стоимость старта (начала поездки) —&nbsp;&nbsp;50 </span><span style=\"-webkit-text-stroke-width:0px;display:inline !important;float:none;font-style:normal;font-variant-caps:normal;font-variant-ligatures:normal;font-weight:400;letter-spacing:normal;orphans:2;text-align:left;text-decoration-color:initial;text-decoration-style:initial;text-decoration-thickness:initial;text-indent:0px;text-transform:none;white-space:normal;widows:2;word-spacing:0px;\"></span><span style=\"-webkit-text-stroke-width:0px;display:inline !important;float:none;font-style:normal;font-variant-caps:normal;font-variant-ligatures:normal;font-weight:400;letter-spacing:normal;orphans:2;text-align:left;text-decoration-color:initial;text-decoration-style:initial;text-decoration-thickness:initial;text-indent:0px;text-transform:none;white-space:normal;widows:2;word-spacing:0px;\">50 рублей;</span></span></li>\n",
    "</ul>\n",
    "<p><span style=\"background-color:rgb(255,255,255);color:#283593;font-family:&quot;Helvetica Neue&quot;, Helvetica, Arial, sans-serif;font-size:14px;\"><span style=\"-webkit-text-stroke-width:0px;display:inline !important;float:none;font-style:normal;font-variant-caps:normal;font-variant-ligatures:normal;font-weight:400;letter-spacing:normal;orphans:2;text-align:left;text-decoration-color:initial;text-decoration-style:initial;text-decoration-thickness:initial;text-indent:0px;text-transform:none;white-space:normal;widows:2;word-spacing:0px;\"><strong>с подпиской Ultra</strong></span></span></p>\n",
    "<ul>\n",
    "    <li><span style=\"background-color:rgb(255,255,255);color:#283593;font-family:&quot;Helvetica Neue&quot;, Helvetica, Arial, sans-serif;font-size:14px;\"><span style=\"-webkit-text-stroke-width:0px;display:inline !important;float:none;font-style:normal;font-variant-caps:normal;font-variant-ligatures:normal;font-weight:400;letter-spacing:normal;orphans:2;text-align:left;text-decoration-color:initial;text-decoration-style:initial;text-decoration-thickness:initial;text-indent:0px;text-transform:none;white-space:normal;widows:2;word-spacing:0px;\">абонентская плата —&nbsp;&nbsp;199 </span><span style=\"-webkit-text-stroke-width:0px;display:inline !important;float:none;font-style:normal;font-variant-caps:normal;font-variant-ligatures:normal;font-weight:400;letter-spacing:normal;orphans:2;text-align:left;text-decoration-color:initial;text-decoration-style:initial;text-decoration-thickness:initial;text-indent:0px;text-transform:none;white-space:normal;widows:2;word-spacing:0px;\"></span><span style=\"-webkit-text-stroke-width:0px;display:inline !important;float:none;font-style:normal;font-variant-caps:normal;font-variant-ligatures:normal;font-weight:400;letter-spacing:normal;orphans:2;text-align:left;text-decoration-color:initial;text-decoration-style:initial;text-decoration-thickness:initial;text-indent:0px;text-transform:none;white-space:normal;widows:2;word-spacing:0px;\">199 рублей в месяц;</span></span></li>\n",
    "    <li><span style=\"background-color:rgb(255,255,255);color:#283593;font-family:&quot;Helvetica Neue&quot;, Helvetica, Arial, sans-serif;font-size:14px;\"><span style=\"-webkit-text-stroke-width:0px;display:inline !important;float:none;font-style:normal;font-variant-caps:normal;font-variant-ligatures:normal;font-weight:400;letter-spacing:normal;orphans:2;text-align:left;text-decoration-color:initial;text-decoration-style:initial;text-decoration-thickness:initial;text-indent:0px;text-transform:none;white-space:normal;widows:2;word-spacing:0px;\">стоимость одной минуты поездки —&nbsp;&nbsp;6 </span><span style=\"-webkit-text-stroke-width:0px;display:inline !important;float:none;font-style:normal;font-variant-caps:normal;font-variant-ligatures:normal;font-weight:400;letter-spacing:normal;orphans:2;text-align:left;text-decoration-color:initial;text-decoration-style:initial;text-decoration-thickness:initial;text-indent:0px;text-transform:none;white-space:normal;widows:2;word-spacing:0px;\"></span><span style=\"-webkit-text-stroke-width:0px;display:inline !important;float:none;font-style:normal;font-variant-caps:normal;font-variant-ligatures:normal;font-weight:400;letter-spacing:normal;orphans:2;text-align:left;text-decoration-color:initial;text-decoration-style:initial;text-decoration-thickness:initial;text-indent:0px;text-transform:none;white-space:normal;widows:2;word-spacing:0px;\">6 рублей;</span></span></li>\n",
    "    <li><span style=\"background-color:rgb(255,255,255);color:#283593;font-family:&quot;Helvetica Neue&quot;, Helvetica, Arial, sans-serif;font-size:14px;\"><span style=\"-webkit-text-stroke-width:0px;display:inline !important;float:none;font-style:normal;font-variant-caps:normal;font-variant-ligatures:normal;font-weight:400;letter-spacing:normal;orphans:2;text-align:left;text-decoration-color:initial;text-decoration-style:initial;text-decoration-thickness:initial;text-indent:0px;text-transform:none;white-space:normal;widows:2;word-spacing:0px;\">стоимость старта — бесплатно.</span></span></li>\n",
    "</ul>\n",
    "<p>&nbsp;</p>"
   ]
  },
  {
   "cell_type": "code",
   "execution_count": 1,
   "id": "72576667",
   "metadata": {},
   "outputs": [],
   "source": [
    "# импортируем библиотеки, которые понадобятся в проекте для анализа\n",
    "import pandas as pd\n",
    "import matplotlib.pyplot as plt\n",
    "import numpy as np\n",
    "from scipy import stats as st"
   ]
  },
  {
   "cell_type": "markdown",
   "id": "c42cbe00",
   "metadata": {},
   "source": [
    "#### Шаг 1. Загрузка данных"
   ]
  },
  {
   "cell_type": "code",
   "execution_count": 2,
   "id": "eff9f206",
   "metadata": {},
   "outputs": [],
   "source": [
    "# загружаем данные\n",
    "\n",
    "users = pd.read_csv('/datasets/users_go.csv')\n",
    "rides = pd.read_csv('/datasets/rides_go.csv')\n",
    "subs = pd.read_csv('/datasets/subscriptions_go.csv')"
   ]
  },
  {
   "cell_type": "code",
   "execution_count": 3,
   "id": "af6d202c",
   "metadata": {},
   "outputs": [
    {
     "name": "stdout",
     "output_type": "stream",
     "text": [
      "<class 'pandas.core.frame.DataFrame'>\n",
      "RangeIndex: 1565 entries, 0 to 1564\n",
      "Data columns (total 5 columns):\n",
      " #   Column             Non-Null Count  Dtype \n",
      "---  ------             --------------  ----- \n",
      " 0   user_id            1565 non-null   int64 \n",
      " 1   name               1565 non-null   object\n",
      " 2   age                1565 non-null   int64 \n",
      " 3   city               1565 non-null   object\n",
      " 4   subscription_type  1565 non-null   object\n",
      "dtypes: int64(2), object(3)\n",
      "memory usage: 61.3+ KB\n"
     ]
    },
    {
     "data": {
      "text/plain": [
       "None"
      ]
     },
     "metadata": {},
     "output_type": "display_data"
    },
    {
     "data": {
      "text/html": [
       "<div>\n",
       "<style scoped>\n",
       "    .dataframe tbody tr th:only-of-type {\n",
       "        vertical-align: middle;\n",
       "    }\n",
       "\n",
       "    .dataframe tbody tr th {\n",
       "        vertical-align: top;\n",
       "    }\n",
       "\n",
       "    .dataframe thead th {\n",
       "        text-align: right;\n",
       "    }\n",
       "</style>\n",
       "<table border=\"1\" class=\"dataframe\">\n",
       "  <thead>\n",
       "    <tr style=\"text-align: right;\">\n",
       "      <th></th>\n",
       "      <th>user_id</th>\n",
       "      <th>name</th>\n",
       "      <th>age</th>\n",
       "      <th>city</th>\n",
       "      <th>subscription_type</th>\n",
       "    </tr>\n",
       "  </thead>\n",
       "  <tbody>\n",
       "    <tr>\n",
       "      <th>0</th>\n",
       "      <td>1</td>\n",
       "      <td>Кира</td>\n",
       "      <td>22</td>\n",
       "      <td>Тюмень</td>\n",
       "      <td>ultra</td>\n",
       "    </tr>\n",
       "    <tr>\n",
       "      <th>1</th>\n",
       "      <td>2</td>\n",
       "      <td>Станислав</td>\n",
       "      <td>31</td>\n",
       "      <td>Омск</td>\n",
       "      <td>ultra</td>\n",
       "    </tr>\n",
       "    <tr>\n",
       "      <th>2</th>\n",
       "      <td>3</td>\n",
       "      <td>Алексей</td>\n",
       "      <td>20</td>\n",
       "      <td>Москва</td>\n",
       "      <td>ultra</td>\n",
       "    </tr>\n",
       "    <tr>\n",
       "      <th>3</th>\n",
       "      <td>4</td>\n",
       "      <td>Константин</td>\n",
       "      <td>26</td>\n",
       "      <td>Ростов-на-Дону</td>\n",
       "      <td>ultra</td>\n",
       "    </tr>\n",
       "    <tr>\n",
       "      <th>4</th>\n",
       "      <td>5</td>\n",
       "      <td>Адель</td>\n",
       "      <td>28</td>\n",
       "      <td>Омск</td>\n",
       "      <td>ultra</td>\n",
       "    </tr>\n",
       "  </tbody>\n",
       "</table>\n",
       "</div>"
      ],
      "text/plain": [
       "   user_id        name  age            city subscription_type\n",
       "0        1        Кира   22          Тюмень             ultra\n",
       "1        2   Станислав   31            Омск             ultra\n",
       "2        3     Алексей   20          Москва             ultra\n",
       "3        4  Константин   26  Ростов-на-Дону             ultra\n",
       "4        5       Адель   28            Омск             ultra"
      ]
     },
     "metadata": {},
     "output_type": "display_data"
    },
    {
     "name": "stdout",
     "output_type": "stream",
     "text": [
      "<class 'pandas.core.frame.DataFrame'>\n",
      "RangeIndex: 18068 entries, 0 to 18067\n",
      "Data columns (total 4 columns):\n",
      " #   Column    Non-Null Count  Dtype  \n",
      "---  ------    --------------  -----  \n",
      " 0   user_id   18068 non-null  int64  \n",
      " 1   distance  18068 non-null  float64\n",
      " 2   duration  18068 non-null  float64\n",
      " 3   date      18068 non-null  object \n",
      "dtypes: float64(2), int64(1), object(1)\n",
      "memory usage: 564.8+ KB\n"
     ]
    },
    {
     "data": {
      "text/plain": [
       "None"
      ]
     },
     "metadata": {},
     "output_type": "display_data"
    },
    {
     "data": {
      "text/html": [
       "<div>\n",
       "<style scoped>\n",
       "    .dataframe tbody tr th:only-of-type {\n",
       "        vertical-align: middle;\n",
       "    }\n",
       "\n",
       "    .dataframe tbody tr th {\n",
       "        vertical-align: top;\n",
       "    }\n",
       "\n",
       "    .dataframe thead th {\n",
       "        text-align: right;\n",
       "    }\n",
       "</style>\n",
       "<table border=\"1\" class=\"dataframe\">\n",
       "  <thead>\n",
       "    <tr style=\"text-align: right;\">\n",
       "      <th></th>\n",
       "      <th>user_id</th>\n",
       "      <th>distance</th>\n",
       "      <th>duration</th>\n",
       "      <th>date</th>\n",
       "    </tr>\n",
       "  </thead>\n",
       "  <tbody>\n",
       "    <tr>\n",
       "      <th>0</th>\n",
       "      <td>1</td>\n",
       "      <td>4409.919140</td>\n",
       "      <td>25.599769</td>\n",
       "      <td>2021-01-01</td>\n",
       "    </tr>\n",
       "    <tr>\n",
       "      <th>1</th>\n",
       "      <td>1</td>\n",
       "      <td>2617.592153</td>\n",
       "      <td>15.816871</td>\n",
       "      <td>2021-01-18</td>\n",
       "    </tr>\n",
       "    <tr>\n",
       "      <th>2</th>\n",
       "      <td>1</td>\n",
       "      <td>754.159807</td>\n",
       "      <td>6.232113</td>\n",
       "      <td>2021-04-20</td>\n",
       "    </tr>\n",
       "    <tr>\n",
       "      <th>3</th>\n",
       "      <td>1</td>\n",
       "      <td>2694.783254</td>\n",
       "      <td>18.511000</td>\n",
       "      <td>2021-08-11</td>\n",
       "    </tr>\n",
       "    <tr>\n",
       "      <th>4</th>\n",
       "      <td>1</td>\n",
       "      <td>4028.687306</td>\n",
       "      <td>26.265803</td>\n",
       "      <td>2021-08-28</td>\n",
       "    </tr>\n",
       "  </tbody>\n",
       "</table>\n",
       "</div>"
      ],
      "text/plain": [
       "   user_id     distance   duration        date\n",
       "0        1  4409.919140  25.599769  2021-01-01\n",
       "1        1  2617.592153  15.816871  2021-01-18\n",
       "2        1   754.159807   6.232113  2021-04-20\n",
       "3        1  2694.783254  18.511000  2021-08-11\n",
       "4        1  4028.687306  26.265803  2021-08-28"
      ]
     },
     "metadata": {},
     "output_type": "display_data"
    },
    {
     "name": "stdout",
     "output_type": "stream",
     "text": [
      "<class 'pandas.core.frame.DataFrame'>\n",
      "RangeIndex: 2 entries, 0 to 1\n",
      "Data columns (total 4 columns):\n",
      " #   Column             Non-Null Count  Dtype \n",
      "---  ------             --------------  ----- \n",
      " 0   subscription_type  2 non-null      object\n",
      " 1   minute_price       2 non-null      int64 \n",
      " 2   start_ride_price   2 non-null      int64 \n",
      " 3   subscription_fee   2 non-null      int64 \n",
      "dtypes: int64(3), object(1)\n",
      "memory usage: 192.0+ bytes\n"
     ]
    },
    {
     "data": {
      "text/plain": [
       "None"
      ]
     },
     "metadata": {},
     "output_type": "display_data"
    },
    {
     "data": {
      "text/html": [
       "<div>\n",
       "<style scoped>\n",
       "    .dataframe tbody tr th:only-of-type {\n",
       "        vertical-align: middle;\n",
       "    }\n",
       "\n",
       "    .dataframe tbody tr th {\n",
       "        vertical-align: top;\n",
       "    }\n",
       "\n",
       "    .dataframe thead th {\n",
       "        text-align: right;\n",
       "    }\n",
       "</style>\n",
       "<table border=\"1\" class=\"dataframe\">\n",
       "  <thead>\n",
       "    <tr style=\"text-align: right;\">\n",
       "      <th></th>\n",
       "      <th>subscription_type</th>\n",
       "      <th>minute_price</th>\n",
       "      <th>start_ride_price</th>\n",
       "      <th>subscription_fee</th>\n",
       "    </tr>\n",
       "  </thead>\n",
       "  <tbody>\n",
       "    <tr>\n",
       "      <th>0</th>\n",
       "      <td>free</td>\n",
       "      <td>8</td>\n",
       "      <td>50</td>\n",
       "      <td>0</td>\n",
       "    </tr>\n",
       "    <tr>\n",
       "      <th>1</th>\n",
       "      <td>ultra</td>\n",
       "      <td>6</td>\n",
       "      <td>0</td>\n",
       "      <td>199</td>\n",
       "    </tr>\n",
       "  </tbody>\n",
       "</table>\n",
       "</div>"
      ],
      "text/plain": [
       "  subscription_type  minute_price  start_ride_price  subscription_fee\n",
       "0              free             8                50                 0\n",
       "1             ultra             6                 0               199"
      ]
     },
     "metadata": {},
     "output_type": "display_data"
    }
   ],
   "source": [
    "# осмотримся\n",
    "\n",
    "for df in [users,rides,subs]:\n",
    "    display(df.info())\n",
    "    display(df.head())"
   ]
  },
  {
   "cell_type": "markdown",
   "id": "fc0b21c8",
   "metadata": {},
   "source": [
    "<p><span style=\"color:#283593;\">Внешне - очень хорошие и чистые данные. Без пропусков, как минимум</span></p>"
   ]
  },
  {
   "cell_type": "markdown",
   "id": "e95ebca7",
   "metadata": {},
   "source": [
    "#### Шаг 2. Предобработка данных"
   ]
  },
  {
   "cell_type": "code",
   "execution_count": 4,
   "id": "1265a044",
   "metadata": {},
   "outputs": [],
   "source": [
    "# изменим тип данных для даты\n",
    "\n",
    "rides['date'] = pd.to_datetime(rides['date'])"
   ]
  },
  {
   "cell_type": "code",
   "execution_count": 5,
   "id": "ff41f5fe",
   "metadata": {},
   "outputs": [],
   "source": [
    "# добавим столбец с номером месяца\n",
    "\n",
    "rides['month'] = rides['date'].dt.month"
   ]
  },
  {
   "cell_type": "code",
   "execution_count": 44,
   "id": "74730b03",
   "metadata": {},
   "outputs": [
    {
     "name": "stdout",
     "output_type": "stream",
     "text": [
      "Минимальная дата в данных:2021-01-01 00:00:00\n",
      "Минимальная дата в данных:2021-12-30 00:00:00\n"
     ]
    }
   ],
   "source": [
    "print(f'Минимальная дата в данных:{rides[\"date\"].min()}')\n",
    "print(f'Минимальная дата в данных:{rides[\"date\"].max()}')"
   ]
  },
  {
   "cell_type": "code",
   "execution_count": 6,
   "id": "9ea34f26",
   "metadata": {},
   "outputs": [
    {
     "name": "stdout",
     "output_type": "stream",
     "text": [
      "<class 'pandas.core.frame.DataFrame'>\n",
      "RangeIndex: 18068 entries, 0 to 18067\n",
      "Data columns (total 5 columns):\n",
      " #   Column    Non-Null Count  Dtype         \n",
      "---  ------    --------------  -----         \n",
      " 0   user_id   18068 non-null  int64         \n",
      " 1   distance  18068 non-null  float64       \n",
      " 2   duration  18068 non-null  float64       \n",
      " 3   date      18068 non-null  datetime64[ns]\n",
      " 4   month     18068 non-null  int64         \n",
      "dtypes: datetime64[ns](1), float64(2), int64(2)\n",
      "memory usage: 705.9 KB\n"
     ]
    },
    {
     "data": {
      "text/plain": [
       "None"
      ]
     },
     "metadata": {},
     "output_type": "display_data"
    },
    {
     "data": {
      "text/html": [
       "<div>\n",
       "<style scoped>\n",
       "    .dataframe tbody tr th:only-of-type {\n",
       "        vertical-align: middle;\n",
       "    }\n",
       "\n",
       "    .dataframe tbody tr th {\n",
       "        vertical-align: top;\n",
       "    }\n",
       "\n",
       "    .dataframe thead th {\n",
       "        text-align: right;\n",
       "    }\n",
       "</style>\n",
       "<table border=\"1\" class=\"dataframe\">\n",
       "  <thead>\n",
       "    <tr style=\"text-align: right;\">\n",
       "      <th></th>\n",
       "      <th>user_id</th>\n",
       "      <th>distance</th>\n",
       "      <th>duration</th>\n",
       "      <th>date</th>\n",
       "      <th>month</th>\n",
       "    </tr>\n",
       "  </thead>\n",
       "  <tbody>\n",
       "    <tr>\n",
       "      <th>0</th>\n",
       "      <td>1</td>\n",
       "      <td>4409.919140</td>\n",
       "      <td>25.599769</td>\n",
       "      <td>2021-01-01</td>\n",
       "      <td>1</td>\n",
       "    </tr>\n",
       "    <tr>\n",
       "      <th>1</th>\n",
       "      <td>1</td>\n",
       "      <td>2617.592153</td>\n",
       "      <td>15.816871</td>\n",
       "      <td>2021-01-18</td>\n",
       "      <td>1</td>\n",
       "    </tr>\n",
       "    <tr>\n",
       "      <th>2</th>\n",
       "      <td>1</td>\n",
       "      <td>754.159807</td>\n",
       "      <td>6.232113</td>\n",
       "      <td>2021-04-20</td>\n",
       "      <td>4</td>\n",
       "    </tr>\n",
       "    <tr>\n",
       "      <th>3</th>\n",
       "      <td>1</td>\n",
       "      <td>2694.783254</td>\n",
       "      <td>18.511000</td>\n",
       "      <td>2021-08-11</td>\n",
       "      <td>8</td>\n",
       "    </tr>\n",
       "    <tr>\n",
       "      <th>4</th>\n",
       "      <td>1</td>\n",
       "      <td>4028.687306</td>\n",
       "      <td>26.265803</td>\n",
       "      <td>2021-08-28</td>\n",
       "      <td>8</td>\n",
       "    </tr>\n",
       "  </tbody>\n",
       "</table>\n",
       "</div>"
      ],
      "text/plain": [
       "   user_id     distance   duration       date  month\n",
       "0        1  4409.919140  25.599769 2021-01-01      1\n",
       "1        1  2617.592153  15.816871 2021-01-18      1\n",
       "2        1   754.159807   6.232113 2021-04-20      4\n",
       "3        1  2694.783254  18.511000 2021-08-11      8\n",
       "4        1  4028.687306  26.265803 2021-08-28      8"
      ]
     },
     "metadata": {},
     "output_type": "display_data"
    }
   ],
   "source": [
    "# проверим изменения\n",
    "\n",
    "display(rides.info())\n",
    "display(rides.head())"
   ]
  },
  {
   "cell_type": "code",
   "execution_count": 7,
   "id": "dbde414d",
   "metadata": {},
   "outputs": [
    {
     "name": "stdout",
     "output_type": "stream",
     "text": [
      "В датафрейме ['users'] 31 дублей\n",
      "В датафрейме ['rides'] 0 дублей\n"
     ]
    }
   ],
   "source": [
    "# проверим наличие полных дублей\n",
    "\n",
    "dfs = ['users','rides']\n",
    "for df in dfs:\n",
    "    print(f'В датафрейме {[df]} {globals()[df].duplicated().sum()} дублей')"
   ]
  },
  {
   "cell_type": "code",
   "execution_count": 8,
   "id": "20937193",
   "metadata": {},
   "outputs": [],
   "source": [
    "# удаляем дубликаты \n",
    "\n",
    "users.drop_duplicates(inplace=True)"
   ]
  },
  {
   "cell_type": "code",
   "execution_count": 9,
   "id": "392a3547",
   "metadata": {},
   "outputs": [
    {
     "data": {
      "text/plain": [
       "['Екатеринбург',\n",
       " 'Краснодар',\n",
       " 'Москва',\n",
       " 'Омск',\n",
       " 'Пятигорск',\n",
       " 'Ростов-на-Дону',\n",
       " 'Сочи',\n",
       " 'Тюмень']"
      ]
     },
     "execution_count": 9,
     "metadata": {},
     "output_type": "execute_result"
    }
   ],
   "source": [
    "# проверим поле, где могут быть неявные дубликаты\n",
    "\n",
    "sorted(users['city'].unique())"
   ]
  },
  {
   "cell_type": "markdown",
   "id": "e3b3e53e",
   "metadata": {},
   "source": [
    "<p><span style=\"color:#283593;\">Во время обработки данных было проделано следующее:</span></p>\n",
    "<ol>\n",
    "    <li><span style=\"color:#283593;\">Дата была переведена в соответствующий тип данных</span></li>\n",
    "    <li><span style=\"color:#283593;\">Было добавлено поле с номером месяца на основании даты</span></li>\n",
    "    <li><span style=\"color:#283593;\">Была проведена проверка на полные дубликаты. Нашлась 31 запись. Все дубли были удалены.</span></li>\n",
    "    <li><span style=\"color:#283593;\">Проверили столбец с указанием города на предмет возможных неявных дубликатов. Он чист.</span></li>\n",
    "</ol>"
   ]
  },
  {
   "cell_type": "markdown",
   "id": "212593c7",
   "metadata": {},
   "source": [
    "#### Шаг 3. Исследовательский анализ данных"
   ]
  },
  {
   "cell_type": "markdown",
   "id": "cdb54712",
   "metadata": {},
   "source": [
    "<p><span style=\"color:#283593;\">Опишем и визуализируем общую информацию о пользователях и поездках:</span><br><span style=\"color:#283593;\">3.1 частота встречаемости городов;</span><br><span style=\"color:#283593;\">3.2 соотношение пользователей с подпиской и без подписки;</span><br><span style=\"color:#283593;\">3.3 возраст пользователей;</span><br><span style=\"color:#283593;\">3.4 расстояние, которое пользователь преодолел за одну поездку;</span><br><span style=\"color:#283593;\">3.5 продолжительность поездок.</span></p>"
   ]
  },
  {
   "cell_type": "markdown",
   "id": "d98a3e7b",
   "metadata": {},
   "source": [
    "#####  <span style=\"color:#283593;\">Частота встречаемости городов</span>"
   ]
  },
  {
   "cell_type": "code",
   "execution_count": 53,
   "id": "ea98b766",
   "metadata": {},
   "outputs": [
    {
     "data": {
      "image/png": "[encoded data removed]",
      "text/plain": [
       "<Figure size 576x432 with 1 Axes>"
      ]
     },
     "metadata": {
      "needs_background": "light"
     },
     "output_type": "display_data"
    }
   ],
   "source": [
    "# сделаем группировку по городам и сохраним в отдельный датафрейм\n",
    "\n",
    "cities = (users\n",
    "          .groupby('city')['user_id'].count()\n",
    "          .sort_values(ascending=False)\n",
    "          .reset_index())\n",
    "cities['perc'] = round(cities['user_id']/cities['user_id'].sum()*100,2) # добавляем столбец с процентами от общего\n",
    "cities.plot.bar(x='city',y='perc',figsize=(8,6),legend=False) # рисуем бар\n",
    "plt.title('Частота встречаемости городов в датасете')\n",
    "plt.xticks(rotation=75)\n",
    "plt.xlabel('Город')\n",
    "plt.ylabel('Частота встречаемости,%')\n",
    "plt.yticks()\n",
    "plt.grid(alpha=0.5)\n",
    "for i in range(0,len(cities)):\n",
    "    plt.text(i-0.08,cities['perc'][i]*0.8,f'{cities[\"perc\"][i]}%',rotation=90) # добавляем надписи на графики для точности\n",
    "plt.show()\n",
    "del cities # удаляем более не нужный датафрейм"
   ]
  },
  {
   "cell_type": "markdown",
   "id": "3793f71c",
   "metadata": {},
   "source": [
    "#####  <span style=\"color:#283593;\">Соотношение пользователей с подпиской и без подписки</span>"
   ]
  },
  {
   "cell_type": "code",
   "execution_count": 11,
   "id": "7a13f5f3",
   "metadata": {},
   "outputs": [
    {
     "data": {
      "image/png": "[encoded data removed]",
      "text/plain": [
       "<Figure size 432x432 with 1 Axes>"
      ]
     },
     "metadata": {},
     "output_type": "display_data"
    }
   ],
   "source": [
    "subs_rel = users.groupby('subscription_type')['user_id'].count().reset_index() # группируем по типу подписки\n",
    "subs_rel.plot.pie( # рисуем круговую диаграмму\n",
    "    figsize=(6,6),\n",
    "    y='user_id',\n",
    "    autopct='%1.1f%%', # добавляем текст с чслами в процентах\n",
    "    labels=subs_rel['subscription_type'],\n",
    "    title='Cоотношение пользователей с подпиской и без подписки',\n",
    "    label='',\n",
    "    legend=False\n",
    "    )\n",
    "plt.show()\n",
    "del subs_rel # удаляем более не нужный датафрейм"
   ]
  },
  {
   "cell_type": "markdown",
   "id": "4fdc9b5a",
   "metadata": {},
   "source": [
    "<p><span style=\"color:#283593;\">На мой взгляд, довольное хорошее отношение пользователей с подпиской и без. Пользователь с подпиской - это практически постоянный и прогнозируемый поток дохода.</span></p>"
   ]
  },
  {
   "cell_type": "markdown",
   "id": "1ebd749a",
   "metadata": {},
   "source": [
    "#####  <span style=\"color:#283593;\">Возраст пользователей</span>"
   ]
  },
  {
   "cell_type": "code",
   "execution_count": 12,
   "id": "c1e9e083",
   "metadata": {},
   "outputs": [],
   "source": [
    "# функция для категоризации по возрастам\n",
    "\n",
    "def set_age_cat(a):\n",
    "    if a<18: return 'До 18'\n",
    "    if a<25: return 'От 18 до 25'\n",
    "    if a<30: return 'От 25 до 30'\n",
    "    if a<35: return 'От 30 до 35'\n",
    "    if a<40: return 'От 35 до 40'\n",
    "    if a<45: return 'От 40 до 45'\n",
    "    else: return 'Категория не определена'"
   ]
  },
  {
   "cell_type": "code",
   "execution_count": 13,
   "id": "bf3fd512",
   "metadata": {},
   "outputs": [],
   "source": [
    "users['age_cat'] = users['age'].apply(set_age_cat) # добавляем столбец с категорией возраста"
   ]
  },
  {
   "cell_type": "code",
   "execution_count": 55,
   "id": "24bb0906",
   "metadata": {},
   "outputs": [
    {
     "data": {
      "image/png": "[encoded data removed]",
      "text/plain": [
       "<Figure size 432x432 with 1 Axes>"
      ]
     },
     "metadata": {
      "needs_background": "light"
     },
     "output_type": "display_data"
    }
   ],
   "source": [
    "age_rel = users.groupby('age_cat')['user_id'].count().reset_index() # группируем по возрастной категории\n",
    "age_rel['perc'] = round(age_rel['user_id']/age_rel['user_id'].sum()*100,2) # считаем процент категории от общего числа\n",
    "age_rel.plot.bar(x='age_cat',y='perc',legend=False,figsize=(6,6)) # рисуем график\n",
    "plt.title('Возраст пользователей по сегментам')\n",
    "plt.xticks(rotation=75)\n",
    "plt.xlabel('Возрастная категория')\n",
    "plt.ylabel('Процент от общего числа пользователей,%')\n",
    "plt.grid(alpha=0.5)\n",
    "for i in range(0,len(age_rel)):\n",
    "    plt.text(i-0.08,age_rel['perc'][i]*0.3+3,f'{age_rel[\"perc\"][i]}%',rotation=90) # добавляем числа на столбцы\n",
    "plt.show()\n",
    "del age_rel # удаляем более не нужный датафрейм"
   ]
  },
  {
   "cell_type": "code",
   "execution_count": 56,
   "id": "4df92d09",
   "metadata": {},
   "outputs": [
    {
     "data": {
      "image/png": "[encoded data removed]",
      "text/plain": [
       "<Figure size 432x432 with 1 Axes>"
      ]
     },
     "metadata": {
      "needs_background": "light"
     },
     "output_type": "display_data"
    }
   ],
   "source": [
    "# рисуем гистограмму по возрастам пользователей\n",
    "\n",
    "users['age'].plot.hist(bins=30, figsize=(6,6))\n",
    "plt.title('Гистограмма возраста пользователей')\n",
    "plt.xlabel('Возраст, лет')\n",
    "plt.ylabel('Частота появления')\n",
    "plt.grid(alpha=0.5)\n",
    "plt.show()"
   ]
  },
  {
   "cell_type": "markdown",
   "id": "7c9e1407",
   "metadata": {},
   "source": [
    "<p><span style=\"color:#283593;\">Мы построили два графика распределения возраста пользователей: категориальный и гистограмма. Для удобства восприятия различными пользователями.</span><br><span style=\"color:#283593;\">Оба графика говорят о том, наиболее активные пользователи - это люди примерно от 20 до 30 лет. При этом гистограмма выделяет возраст в 25 лет как самый часто встречающийся.</span><br><span style=\"color:#283593;\">Есть категория пользователей до 18 лет, что странно и более того противозаконно. С этим нужно что-то срочно делать =)</span><br><span style=\"color:#283593;\">Ну и после 40 лет люди практически не пользуются арендой самокатов.</span><br><span style=\"color:#283593;\">Таким образом у нас получилась целевая аудитория и первый штрих к портрету пользователя.</span></p>"
   ]
  },
  {
   "cell_type": "markdown",
   "id": "6b6f7f65",
   "metadata": {},
   "source": [
    "#####  <span style=\"color:#283593;\">Расстояние, которое пользователь преодолел за одну поездку</span>"
   ]
  },
  {
   "cell_type": "markdown",
   "id": "f164e51c",
   "metadata": {},
   "source": [
    "и\n",
    "#####  <span style=\"color:#283593;\">Продолжительность поездок</span>"
   ]
  },
  {
   "cell_type": "code",
   "execution_count": 62,
   "id": "88e15775",
   "metadata": {},
   "outputs": [],
   "source": [
    "# функция для построения гистограмм расстояний и продолжительностей поездок\n",
    "# для заданного датафрейма\n",
    "\n",
    "def drow_hist(df, add_title=''):\n",
    "    aims={'distance':'Расстояние','duration':'Продолжительность'} # словарь столбец:имя\n",
    "    plt.figure(figsize=(18,8)) # размер поля для графиков\n",
    "    hist_i = 1 # счетчик графика\n",
    "\n",
    "    for col,name in aims.items(): # перебираем элементы словаря и присваиваем их в переменные\n",
    "        plt.subplot(1,2,hist_i) # подготоваливаем ячейку для графика\n",
    "        df[col].plot.hist(bins=100) # рисуем гистограмму\n",
    "        # наводим красоту \n",
    "        plt.title(f'Гистограмма: \"{name} одной поездки\"') \n",
    "        if add_title: plt.title(f'Гистограмма: \"{name} одной поездки для тарифа {add_title}\"') \n",
    "        measure = ''\n",
    "        if col=='duration':measure = 'минут'\n",
    "        if col=='distance': measure = 'метров'\n",
    "        plt.xlabel(f'{name} одной поездки, {measure}')\n",
    "        plt.ylabel('Частота появления, ед.')\n",
    "        plt.grid(alpha=0.5)\n",
    "        hist_i+=1 # увеличиваем счетчик\n",
    "    plt.show() # отображаем результат"
   ]
  },
  {
   "cell_type": "code",
   "execution_count": 63,
   "id": "1561b1d8",
   "metadata": {},
   "outputs": [
    {
     "data": {
      "image/png": "[encoded data removed]",
      "text/plain": [
       "<Figure size 1296x576 with 2 Axes>"
      ]
     },
     "metadata": {
      "needs_background": "light"
     },
     "output_type": "display_data"
    }
   ],
   "source": [
    "# построим гисторграммы расстрояния и продолжительности поездки для \n",
    "# датафрейма rides\n",
    "\n",
    "drow_hist(rides)"
   ]
  },
  {
   "cell_type": "markdown",
   "id": "67021f3b",
   "metadata": {},
   "source": [
    "<p><span style=\"color:#283593;\">Гистограмма расстояния говорит о том, то средний пробег самоката за одну поездку - около 3км, при этом есть выпадающий всплеск в районе 800м - возможно, это какой-то участок пути от парковки до метро или от метро до какого-то ЖК.</span><br><span style=\"color:#283593;\">Гистограмма продолжительности имеет вполне нормальное распределение, говорящее о том, что в среднем аренда самоката занимает 15-25 минут. Но есть аномалия в районе одной-двух минут. Возможно, это говорит о наличии проблем с самокатом в начале аренды, из-за которой пользователь отказывается от поездки.<br>Основная часть поездок занимает от 2500 до 3800 метров. Медиана 3133 метра. Поездки на расстояние более 5 км редки. Однако на гистограмме видно, что некоторая часть пользователей использует самокаты для коротких поездок - до 1500 м.</span></p>"
   ]
  },
  {
   "cell_type": "markdown",
   "id": "4ef51331",
   "metadata": {},
   "source": [
    "#### Шаг 4. Объединение данных"
   ]
  },
  {
   "cell_type": "code",
   "execution_count": 108,
   "id": "6b7f9cd9",
   "metadata": {},
   "outputs": [
    {
     "data": {
      "text/plain": [
       "'Датафрейм users содержит 1534 записей'"
      ]
     },
     "metadata": {},
     "output_type": "display_data"
    },
    {
     "data": {
      "text/plain": [
       "'Датафрейм rides содержит 18068 записей'"
      ]
     },
     "metadata": {},
     "output_type": "display_data"
    },
    {
     "data": {
      "text/plain": [
       "'Датафрейм subs содержит 2 записей'"
      ]
     },
     "metadata": {},
     "output_type": "display_data"
    }
   ],
   "source": [
    "# размеры датасетов до объединения\n",
    "\n",
    "for df in ['users','rides','subs']:\n",
    "    display(f'Датафрейм {df} содержит {len(globals()[df])} записей')"
   ]
  },
  {
   "cell_type": "markdown",
   "id": "64d1cf07",
   "metadata": {},
   "source": [
    "##### <span style=\"color:#283593;\">Объединим данные о пользователях, поездках и подписках в один датафрейм.</span>"
   ]
  },
  {
   "cell_type": "code",
   "execution_count": 18,
   "id": "6bf288b5",
   "metadata": {},
   "outputs": [],
   "source": [
    "# объединяем данные сначала по user_id\n",
    "merge_data = pd.merge(users,rides, on='user_id')\n",
    "# затем по subscription_type\n",
    "merge_data = pd.merge(merge_data,subs,on='subscription_type')"
   ]
  },
  {
   "cell_type": "code",
   "execution_count": 110,
   "id": "375383c6",
   "metadata": {},
   "outputs": [
    {
     "data": {
      "text/plain": [
       "'Датафрейм merge_data содержит 18068 записей'"
      ]
     },
     "metadata": {},
     "output_type": "display_data"
    }
   ],
   "source": [
    "df = 'merge_data'\n",
    "display(f'Датафрейм {df} содержит {len(globals()[df])} записей')"
   ]
  },
  {
   "cell_type": "markdown",
   "id": "d7de9684",
   "metadata": {},
   "source": [
    "<div class=\"alert alert-info\">Размер объединенного датафрейма равен размеру самого большого исходного датафрейма. Т.к. по умолчанию объединение идет типа inner, т.е. при совпадении значений в обоих объединяемых таблицах, это говорит о том, что для каждой записи в users есть данные о поездках в таблице rides. А данные из subs, лишь слегка расширяют представление для каждой записи</div>"
   ]
  },
  {
   "cell_type": "code",
   "execution_count": 113,
   "id": "b0517965",
   "metadata": {},
   "outputs": [
    {
     "name": "stdout",
     "output_type": "stream",
     "text": [
      "<class 'pandas.core.frame.DataFrame'>\n",
      "Int64Index: 18068 entries, 0 to 18067\n",
      "Data columns (total 13 columns):\n",
      " #   Column             Non-Null Count  Dtype         \n",
      "---  ------             --------------  -----         \n",
      " 0   user_id            18068 non-null  int64         \n",
      " 1   name               18068 non-null  object        \n",
      " 2   age                18068 non-null  int64         \n",
      " 3   city               18068 non-null  object        \n",
      " 4   subscription_type  18068 non-null  object        \n",
      " 5   age_cat            18068 non-null  object        \n",
      " 6   distance           18068 non-null  float64       \n",
      " 7   duration           18068 non-null  float64       \n",
      " 8   date               18068 non-null  datetime64[ns]\n",
      " 9   month              18068 non-null  int64         \n",
      " 10  minute_price       18068 non-null  int64         \n",
      " 11  start_ride_price   18068 non-null  int64         \n",
      " 12  subscription_fee   18068 non-null  int64         \n",
      "dtypes: datetime64[ns](1), float64(2), int64(6), object(4)\n",
      "memory usage: 1.9+ MB\n"
     ]
    },
    {
     "data": {
      "text/plain": [
       "None"
      ]
     },
     "metadata": {},
     "output_type": "display_data"
    },
    {
     "data": {
      "text/html": [
       "<div>\n",
       "<style scoped>\n",
       "    .dataframe tbody tr th:only-of-type {\n",
       "        vertical-align: middle;\n",
       "    }\n",
       "\n",
       "    .dataframe tbody tr th {\n",
       "        vertical-align: top;\n",
       "    }\n",
       "\n",
       "    .dataframe thead th {\n",
       "        text-align: right;\n",
       "    }\n",
       "</style>\n",
       "<table border=\"1\" class=\"dataframe\">\n",
       "  <thead>\n",
       "    <tr style=\"text-align: right;\">\n",
       "      <th></th>\n",
       "      <th>user_id</th>\n",
       "      <th>name</th>\n",
       "      <th>age</th>\n",
       "      <th>city</th>\n",
       "      <th>subscription_type</th>\n",
       "      <th>age_cat</th>\n",
       "      <th>distance</th>\n",
       "      <th>duration</th>\n",
       "      <th>date</th>\n",
       "      <th>month</th>\n",
       "      <th>minute_price</th>\n",
       "      <th>start_ride_price</th>\n",
       "      <th>subscription_fee</th>\n",
       "    </tr>\n",
       "  </thead>\n",
       "  <tbody>\n",
       "    <tr>\n",
       "      <th>0</th>\n",
       "      <td>1</td>\n",
       "      <td>Кира</td>\n",
       "      <td>22</td>\n",
       "      <td>Тюмень</td>\n",
       "      <td>ultra</td>\n",
       "      <td>От 18 до 25</td>\n",
       "      <td>4409.919140</td>\n",
       "      <td>26.0</td>\n",
       "      <td>2021-01-01</td>\n",
       "      <td>1</td>\n",
       "      <td>6</td>\n",
       "      <td>0</td>\n",
       "      <td>199</td>\n",
       "    </tr>\n",
       "    <tr>\n",
       "      <th>1</th>\n",
       "      <td>1</td>\n",
       "      <td>Кира</td>\n",
       "      <td>22</td>\n",
       "      <td>Тюмень</td>\n",
       "      <td>ultra</td>\n",
       "      <td>От 18 до 25</td>\n",
       "      <td>2617.592153</td>\n",
       "      <td>16.0</td>\n",
       "      <td>2021-01-18</td>\n",
       "      <td>1</td>\n",
       "      <td>6</td>\n",
       "      <td>0</td>\n",
       "      <td>199</td>\n",
       "    </tr>\n",
       "    <tr>\n",
       "      <th>2</th>\n",
       "      <td>1</td>\n",
       "      <td>Кира</td>\n",
       "      <td>22</td>\n",
       "      <td>Тюмень</td>\n",
       "      <td>ultra</td>\n",
       "      <td>От 18 до 25</td>\n",
       "      <td>754.159807</td>\n",
       "      <td>7.0</td>\n",
       "      <td>2021-04-20</td>\n",
       "      <td>4</td>\n",
       "      <td>6</td>\n",
       "      <td>0</td>\n",
       "      <td>199</td>\n",
       "    </tr>\n",
       "    <tr>\n",
       "      <th>3</th>\n",
       "      <td>1</td>\n",
       "      <td>Кира</td>\n",
       "      <td>22</td>\n",
       "      <td>Тюмень</td>\n",
       "      <td>ultra</td>\n",
       "      <td>От 18 до 25</td>\n",
       "      <td>2694.783254</td>\n",
       "      <td>19.0</td>\n",
       "      <td>2021-08-11</td>\n",
       "      <td>8</td>\n",
       "      <td>6</td>\n",
       "      <td>0</td>\n",
       "      <td>199</td>\n",
       "    </tr>\n",
       "    <tr>\n",
       "      <th>4</th>\n",
       "      <td>1</td>\n",
       "      <td>Кира</td>\n",
       "      <td>22</td>\n",
       "      <td>Тюмень</td>\n",
       "      <td>ultra</td>\n",
       "      <td>От 18 до 25</td>\n",
       "      <td>4028.687306</td>\n",
       "      <td>27.0</td>\n",
       "      <td>2021-08-28</td>\n",
       "      <td>8</td>\n",
       "      <td>6</td>\n",
       "      <td>0</td>\n",
       "      <td>199</td>\n",
       "    </tr>\n",
       "  </tbody>\n",
       "</table>\n",
       "</div>"
      ],
      "text/plain": [
       "   user_id  name  age    city subscription_type      age_cat     distance  \\\n",
       "0        1  Кира   22  Тюмень             ultra  От 18 до 25  4409.919140   \n",
       "1        1  Кира   22  Тюмень             ultra  От 18 до 25  2617.592153   \n",
       "2        1  Кира   22  Тюмень             ultra  От 18 до 25   754.159807   \n",
       "3        1  Кира   22  Тюмень             ultra  От 18 до 25  2694.783254   \n",
       "4        1  Кира   22  Тюмень             ultra  От 18 до 25  4028.687306   \n",
       "\n",
       "   duration       date  month  minute_price  start_ride_price  \\\n",
       "0      26.0 2021-01-01      1             6                 0   \n",
       "1      16.0 2021-01-18      1             6                 0   \n",
       "2       7.0 2021-04-20      4             6                 0   \n",
       "3      19.0 2021-08-11      8             6                 0   \n",
       "4      27.0 2021-08-28      8             6                 0   \n",
       "\n",
       "   subscription_fee  \n",
       "0               199  \n",
       "1               199  \n",
       "2               199  \n",
       "3               199  \n",
       "4               199  "
      ]
     },
     "metadata": {},
     "output_type": "display_data"
    }
   ],
   "source": [
    "# результат\n",
    "display(merge_data.info())\n",
    "display(merge_data.head())"
   ]
  },
  {
   "cell_type": "markdown",
   "id": "a3895e45",
   "metadata": {},
   "source": [
    "<div class=\"alert alert-info\">Пустых ячеек не появилось. Всё отлично</div>"
   ]
  },
  {
   "cell_type": "markdown",
   "id": "04c3e28e",
   "metadata": {},
   "source": [
    "##### <span style=\"color:#283593;\">Разделим общий датафрейм на 2: подписочные и безподписочные пользователи</span>"
   ]
  },
  {
   "cell_type": "code",
   "execution_count": 20,
   "id": "c0c82475",
   "metadata": {},
   "outputs": [
    {
     "data": {
      "text/html": [
       "<div>\n",
       "<style scoped>\n",
       "    .dataframe tbody tr th:only-of-type {\n",
       "        vertical-align: middle;\n",
       "    }\n",
       "\n",
       "    .dataframe tbody tr th {\n",
       "        vertical-align: top;\n",
       "    }\n",
       "\n",
       "    .dataframe thead th {\n",
       "        text-align: right;\n",
       "    }\n",
       "</style>\n",
       "<table border=\"1\" class=\"dataframe\">\n",
       "  <thead>\n",
       "    <tr style=\"text-align: right;\">\n",
       "      <th></th>\n",
       "      <th>user_id</th>\n",
       "      <th>name</th>\n",
       "      <th>age</th>\n",
       "      <th>city</th>\n",
       "      <th>subscription_type</th>\n",
       "      <th>age_cat</th>\n",
       "      <th>distance</th>\n",
       "      <th>duration</th>\n",
       "      <th>date</th>\n",
       "      <th>month</th>\n",
       "      <th>minute_price</th>\n",
       "      <th>start_ride_price</th>\n",
       "      <th>subscription_fee</th>\n",
       "    </tr>\n",
       "  </thead>\n",
       "  <tbody>\n",
       "    <tr>\n",
       "      <th>0</th>\n",
       "      <td>1</td>\n",
       "      <td>Кира</td>\n",
       "      <td>22</td>\n",
       "      <td>Тюмень</td>\n",
       "      <td>ultra</td>\n",
       "      <td>От 18 до 25</td>\n",
       "      <td>4409.919140</td>\n",
       "      <td>25.599769</td>\n",
       "      <td>2021-01-01</td>\n",
       "      <td>1</td>\n",
       "      <td>6</td>\n",
       "      <td>0</td>\n",
       "      <td>199</td>\n",
       "    </tr>\n",
       "    <tr>\n",
       "      <th>1</th>\n",
       "      <td>1</td>\n",
       "      <td>Кира</td>\n",
       "      <td>22</td>\n",
       "      <td>Тюмень</td>\n",
       "      <td>ultra</td>\n",
       "      <td>От 18 до 25</td>\n",
       "      <td>2617.592153</td>\n",
       "      <td>15.816871</td>\n",
       "      <td>2021-01-18</td>\n",
       "      <td>1</td>\n",
       "      <td>6</td>\n",
       "      <td>0</td>\n",
       "      <td>199</td>\n",
       "    </tr>\n",
       "    <tr>\n",
       "      <th>2</th>\n",
       "      <td>1</td>\n",
       "      <td>Кира</td>\n",
       "      <td>22</td>\n",
       "      <td>Тюмень</td>\n",
       "      <td>ultra</td>\n",
       "      <td>От 18 до 25</td>\n",
       "      <td>754.159807</td>\n",
       "      <td>6.232113</td>\n",
       "      <td>2021-04-20</td>\n",
       "      <td>4</td>\n",
       "      <td>6</td>\n",
       "      <td>0</td>\n",
       "      <td>199</td>\n",
       "    </tr>\n",
       "    <tr>\n",
       "      <th>3</th>\n",
       "      <td>1</td>\n",
       "      <td>Кира</td>\n",
       "      <td>22</td>\n",
       "      <td>Тюмень</td>\n",
       "      <td>ultra</td>\n",
       "      <td>От 18 до 25</td>\n",
       "      <td>2694.783254</td>\n",
       "      <td>18.511000</td>\n",
       "      <td>2021-08-11</td>\n",
       "      <td>8</td>\n",
       "      <td>6</td>\n",
       "      <td>0</td>\n",
       "      <td>199</td>\n",
       "    </tr>\n",
       "    <tr>\n",
       "      <th>4</th>\n",
       "      <td>1</td>\n",
       "      <td>Кира</td>\n",
       "      <td>22</td>\n",
       "      <td>Тюмень</td>\n",
       "      <td>ultra</td>\n",
       "      <td>От 18 до 25</td>\n",
       "      <td>4028.687306</td>\n",
       "      <td>26.265803</td>\n",
       "      <td>2021-08-28</td>\n",
       "      <td>8</td>\n",
       "      <td>6</td>\n",
       "      <td>0</td>\n",
       "      <td>199</td>\n",
       "    </tr>\n",
       "  </tbody>\n",
       "</table>\n",
       "</div>"
      ],
      "text/plain": [
       "   user_id  name  age    city subscription_type      age_cat     distance  \\\n",
       "0        1  Кира   22  Тюмень             ultra  От 18 до 25  4409.919140   \n",
       "1        1  Кира   22  Тюмень             ultra  От 18 до 25  2617.592153   \n",
       "2        1  Кира   22  Тюмень             ultra  От 18 до 25   754.159807   \n",
       "3        1  Кира   22  Тюмень             ultra  От 18 до 25  2694.783254   \n",
       "4        1  Кира   22  Тюмень             ultra  От 18 до 25  4028.687306   \n",
       "\n",
       "    duration       date  month  minute_price  start_ride_price  \\\n",
       "0  25.599769 2021-01-01      1             6                 0   \n",
       "1  15.816871 2021-01-18      1             6                 0   \n",
       "2   6.232113 2021-04-20      4             6                 0   \n",
       "3  18.511000 2021-08-11      8             6                 0   \n",
       "4  26.265803 2021-08-28      8             6                 0   \n",
       "\n",
       "   subscription_fee  \n",
       "0               199  \n",
       "1               199  \n",
       "2               199  \n",
       "3               199  \n",
       "4               199  "
      ]
     },
     "execution_count": 20,
     "metadata": {},
     "output_type": "execute_result"
    }
   ],
   "source": [
    "# фильтруем пользователей с подпиской в датафрейм merge_data_ultra\n",
    "merge_data_ultra = merge_data.query('subscription_type == \"ultra\"')\n",
    "# проверяем результат\n",
    "merge_data_ultra.head()"
   ]
  },
  {
   "cell_type": "code",
   "execution_count": 21,
   "id": "a1db8028",
   "metadata": {},
   "outputs": [
    {
     "data": {
      "text/html": [
       "<div>\n",
       "<style scoped>\n",
       "    .dataframe tbody tr th:only-of-type {\n",
       "        vertical-align: middle;\n",
       "    }\n",
       "\n",
       "    .dataframe tbody tr th {\n",
       "        vertical-align: top;\n",
       "    }\n",
       "\n",
       "    .dataframe thead th {\n",
       "        text-align: right;\n",
       "    }\n",
       "</style>\n",
       "<table border=\"1\" class=\"dataframe\">\n",
       "  <thead>\n",
       "    <tr style=\"text-align: right;\">\n",
       "      <th></th>\n",
       "      <th>user_id</th>\n",
       "      <th>name</th>\n",
       "      <th>age</th>\n",
       "      <th>city</th>\n",
       "      <th>subscription_type</th>\n",
       "      <th>age_cat</th>\n",
       "      <th>distance</th>\n",
       "      <th>duration</th>\n",
       "      <th>date</th>\n",
       "      <th>month</th>\n",
       "      <th>minute_price</th>\n",
       "      <th>start_ride_price</th>\n",
       "      <th>subscription_fee</th>\n",
       "    </tr>\n",
       "  </thead>\n",
       "  <tbody>\n",
       "    <tr>\n",
       "      <th>6500</th>\n",
       "      <td>700</td>\n",
       "      <td>Айдар</td>\n",
       "      <td>22</td>\n",
       "      <td>Омск</td>\n",
       "      <td>free</td>\n",
       "      <td>От 18 до 25</td>\n",
       "      <td>2515.690719</td>\n",
       "      <td>14.944286</td>\n",
       "      <td>2021-01-02</td>\n",
       "      <td>1</td>\n",
       "      <td>8</td>\n",
       "      <td>50</td>\n",
       "      <td>0</td>\n",
       "    </tr>\n",
       "    <tr>\n",
       "      <th>6501</th>\n",
       "      <td>700</td>\n",
       "      <td>Айдар</td>\n",
       "      <td>22</td>\n",
       "      <td>Омск</td>\n",
       "      <td>free</td>\n",
       "      <td>От 18 до 25</td>\n",
       "      <td>846.932642</td>\n",
       "      <td>16.234663</td>\n",
       "      <td>2021-02-01</td>\n",
       "      <td>2</td>\n",
       "      <td>8</td>\n",
       "      <td>50</td>\n",
       "      <td>0</td>\n",
       "    </tr>\n",
       "    <tr>\n",
       "      <th>6502</th>\n",
       "      <td>700</td>\n",
       "      <td>Айдар</td>\n",
       "      <td>22</td>\n",
       "      <td>Омск</td>\n",
       "      <td>free</td>\n",
       "      <td>От 18 до 25</td>\n",
       "      <td>4004.434142</td>\n",
       "      <td>20.016628</td>\n",
       "      <td>2021-02-04</td>\n",
       "      <td>2</td>\n",
       "      <td>8</td>\n",
       "      <td>50</td>\n",
       "      <td>0</td>\n",
       "    </tr>\n",
       "    <tr>\n",
       "      <th>6503</th>\n",
       "      <td>700</td>\n",
       "      <td>Айдар</td>\n",
       "      <td>22</td>\n",
       "      <td>Омск</td>\n",
       "      <td>free</td>\n",
       "      <td>От 18 до 25</td>\n",
       "      <td>1205.911290</td>\n",
       "      <td>9.782872</td>\n",
       "      <td>2021-02-10</td>\n",
       "      <td>2</td>\n",
       "      <td>8</td>\n",
       "      <td>50</td>\n",
       "      <td>0</td>\n",
       "    </tr>\n",
       "    <tr>\n",
       "      <th>6504</th>\n",
       "      <td>700</td>\n",
       "      <td>Айдар</td>\n",
       "      <td>22</td>\n",
       "      <td>Омск</td>\n",
       "      <td>free</td>\n",
       "      <td>От 18 до 25</td>\n",
       "      <td>3047.379435</td>\n",
       "      <td>17.427673</td>\n",
       "      <td>2021-02-14</td>\n",
       "      <td>2</td>\n",
       "      <td>8</td>\n",
       "      <td>50</td>\n",
       "      <td>0</td>\n",
       "    </tr>\n",
       "  </tbody>\n",
       "</table>\n",
       "</div>"
      ],
      "text/plain": [
       "      user_id   name  age  city subscription_type      age_cat     distance  \\\n",
       "6500      700  Айдар   22  Омск              free  От 18 до 25  2515.690719   \n",
       "6501      700  Айдар   22  Омск              free  От 18 до 25   846.932642   \n",
       "6502      700  Айдар   22  Омск              free  От 18 до 25  4004.434142   \n",
       "6503      700  Айдар   22  Омск              free  От 18 до 25  1205.911290   \n",
       "6504      700  Айдар   22  Омск              free  От 18 до 25  3047.379435   \n",
       "\n",
       "       duration       date  month  minute_price  start_ride_price  \\\n",
       "6500  14.944286 2021-01-02      1             8                50   \n",
       "6501  16.234663 2021-02-01      2             8                50   \n",
       "6502  20.016628 2021-02-04      2             8                50   \n",
       "6503   9.782872 2021-02-10      2             8                50   \n",
       "6504  17.427673 2021-02-14      2             8                50   \n",
       "\n",
       "      subscription_fee  \n",
       "6500                 0  \n",
       "6501                 0  \n",
       "6502                 0  \n",
       "6503                 0  \n",
       "6504                 0  "
      ]
     },
     "execution_count": 21,
     "metadata": {},
     "output_type": "execute_result"
    }
   ],
   "source": [
    "# фильтруем пользователей с подпиской в датафрейм merge_data_ultra\n",
    "merge_data_free = merge_data.query('subscription_type == \"free\"')\n",
    "# проверяем результат\n",
    "merge_data_free.head()"
   ]
  },
  {
   "cell_type": "markdown",
   "id": "eb45e0ad",
   "metadata": {},
   "source": [
    "##### <span style=\"color:#283593;\">Визуализируем информацию о расстоянии и времени поездок для пользователей обеих категорий</span>"
   ]
  },
  {
   "cell_type": "code",
   "execution_count": 22,
   "id": "296ed5ab",
   "metadata": {},
   "outputs": [
    {
     "data": {
      "image/png": "[encoded data removed]",
      "text/plain": [
       "<Figure size 1296x576 with 2 Axes>"
      ]
     },
     "metadata": {
      "needs_background": "light"
     },
     "output_type": "display_data"
    }
   ],
   "source": [
    "# построим гисторграммы расстрояния и продолжительности поездки для \n",
    "# датафрейма merge_data_ultra\n",
    "\n",
    "drow_hist(merge_data_ultra,'ultra')"
   ]
  },
  {
   "cell_type": "code",
   "execution_count": 23,
   "id": "1e0923c7",
   "metadata": {},
   "outputs": [
    {
     "data": {
      "image/png": "[encoded data removed]",
      "text/plain": [
       "<Figure size 1296x576 with 2 Axes>"
      ]
     },
     "metadata": {
      "needs_background": "light"
     },
     "output_type": "display_data"
    }
   ],
   "source": [
    "# построим гисторграммы расстрояния и продолжительности поездки для \n",
    "# датафрейма merge_data_free\n",
    "\n",
    "drow_hist(merge_data_free,'free')"
   ]
  },
  {
   "cell_type": "markdown",
   "id": "dd1f4aca",
   "metadata": {},
   "source": [
    "<p><span style=\"color:#283593;\">Анализ гистограмм: подписочные пользователи чаще чаще используют самокат для поездок в предела 3,3км +/- 200-300 метров, безподписочные имеют более широкий диапазон поездок: от ~2,2 до 4х км и дальше. Так же среди них более распространены короткие поездки(до 1км). На графиках продолжительности видно, что предполагаемые проблемы выявляются только у бесподписочных. Возможно, это не проблема самокатов, а ошибки приложения?</span></p>"
   ]
  },
  {
   "cell_type": "markdown",
   "id": "402d620f",
   "metadata": {},
   "source": [
    "#### Шаг 5. Подсчёт выручки"
   ]
  },
  {
   "cell_type": "markdown",
   "id": "e385ab4a",
   "metadata": {},
   "source": [
    "##### <span style=\"color:#283593;\">Создадим датафрейм с агрегированными данными о поездках на основе ранее объединенного датафрейма</span>"
   ]
  },
  {
   "cell_type": "code",
   "execution_count": 24,
   "id": "a4bf5bc7",
   "metadata": {},
   "outputs": [],
   "source": [
    "# округляем вверх продолжительности поездок в соответствии с ТЗ\n",
    "merge_data['duration']=np.ceil(merge_data['duration'])"
   ]
  },
  {
   "cell_type": "code",
   "execution_count": 25,
   "id": "53049e0a",
   "metadata": {},
   "outputs": [],
   "source": [
    "# агрегируем данные по пользователям: общая дистанция, продолжительность аренды и количество поездок в месяц\n",
    "\n",
    "agg_data_by_user = (\n",
    "    pd.merge( # при помощи слияния двух промежуточных сгруппированных датафреймов\n",
    "        merge_data\n",
    "            .groupby(['user_id','month'])[['distance','duration']] # с суммой дистанций и продолжительностей\n",
    "            .sum()\n",
    "            .reset_index(),\n",
    "        pd.DataFrame(\n",
    "            merge_data\n",
    "                .groupby(['user_id','month'])['user_id'] # и с количеством проездок\n",
    "                .count())\n",
    "                .rename(columns={'user_id':'count'})\n",
    "        .reset_index(),\n",
    "        on=['user_id','month'] # объединных по user_id и month\n",
    "    )\n",
    ")"
   ]
  },
  {
   "cell_type": "code",
   "execution_count": 26,
   "id": "4e4c111e",
   "metadata": {},
   "outputs": [
    {
     "data": {
      "text/html": [
       "<div>\n",
       "<style scoped>\n",
       "    .dataframe tbody tr th:only-of-type {\n",
       "        vertical-align: middle;\n",
       "    }\n",
       "\n",
       "    .dataframe tbody tr th {\n",
       "        vertical-align: top;\n",
       "    }\n",
       "\n",
       "    .dataframe thead th {\n",
       "        text-align: right;\n",
       "    }\n",
       "</style>\n",
       "<table border=\"1\" class=\"dataframe\">\n",
       "  <thead>\n",
       "    <tr style=\"text-align: right;\">\n",
       "      <th></th>\n",
       "      <th>user_id</th>\n",
       "      <th>month</th>\n",
       "      <th>distance</th>\n",
       "      <th>duration</th>\n",
       "      <th>count</th>\n",
       "    </tr>\n",
       "  </thead>\n",
       "  <tbody>\n",
       "    <tr>\n",
       "      <th>0</th>\n",
       "      <td>1</td>\n",
       "      <td>1</td>\n",
       "      <td>7027.511294</td>\n",
       "      <td>42.0</td>\n",
       "      <td>2</td>\n",
       "    </tr>\n",
       "    <tr>\n",
       "      <th>1</th>\n",
       "      <td>1</td>\n",
       "      <td>4</td>\n",
       "      <td>754.159807</td>\n",
       "      <td>7.0</td>\n",
       "      <td>1</td>\n",
       "    </tr>\n",
       "    <tr>\n",
       "      <th>2</th>\n",
       "      <td>1</td>\n",
       "      <td>8</td>\n",
       "      <td>6723.470560</td>\n",
       "      <td>46.0</td>\n",
       "      <td>2</td>\n",
       "    </tr>\n",
       "    <tr>\n",
       "      <th>3</th>\n",
       "      <td>1</td>\n",
       "      <td>10</td>\n",
       "      <td>5809.911100</td>\n",
       "      <td>32.0</td>\n",
       "      <td>2</td>\n",
       "    </tr>\n",
       "    <tr>\n",
       "      <th>4</th>\n",
       "      <td>1</td>\n",
       "      <td>11</td>\n",
       "      <td>7003.499363</td>\n",
       "      <td>56.0</td>\n",
       "      <td>3</td>\n",
       "    </tr>\n",
       "    <tr>\n",
       "      <th>...</th>\n",
       "      <td>...</td>\n",
       "      <td>...</td>\n",
       "      <td>...</td>\n",
       "      <td>...</td>\n",
       "      <td>...</td>\n",
       "    </tr>\n",
       "    <tr>\n",
       "      <th>11326</th>\n",
       "      <td>1534</td>\n",
       "      <td>6</td>\n",
       "      <td>3409.468534</td>\n",
       "      <td>26.0</td>\n",
       "      <td>2</td>\n",
       "    </tr>\n",
       "    <tr>\n",
       "      <th>11327</th>\n",
       "      <td>1534</td>\n",
       "      <td>8</td>\n",
       "      <td>7622.453034</td>\n",
       "      <td>48.0</td>\n",
       "      <td>2</td>\n",
       "    </tr>\n",
       "    <tr>\n",
       "      <th>11328</th>\n",
       "      <td>1534</td>\n",
       "      <td>9</td>\n",
       "      <td>4928.173852</td>\n",
       "      <td>23.0</td>\n",
       "      <td>1</td>\n",
       "    </tr>\n",
       "    <tr>\n",
       "      <th>11329</th>\n",
       "      <td>1534</td>\n",
       "      <td>11</td>\n",
       "      <td>13350.015305</td>\n",
       "      <td>78.0</td>\n",
       "      <td>4</td>\n",
       "    </tr>\n",
       "    <tr>\n",
       "      <th>11330</th>\n",
       "      <td>1534</td>\n",
       "      <td>12</td>\n",
       "      <td>2371.711192</td>\n",
       "      <td>16.0</td>\n",
       "      <td>1</td>\n",
       "    </tr>\n",
       "  </tbody>\n",
       "</table>\n",
       "<p>11331 rows × 5 columns</p>\n",
       "</div>"
      ],
      "text/plain": [
       "       user_id  month      distance  duration  count\n",
       "0            1      1   7027.511294      42.0      2\n",
       "1            1      4    754.159807       7.0      1\n",
       "2            1      8   6723.470560      46.0      2\n",
       "3            1     10   5809.911100      32.0      2\n",
       "4            1     11   7003.499363      56.0      3\n",
       "...        ...    ...           ...       ...    ...\n",
       "11326     1534      6   3409.468534      26.0      2\n",
       "11327     1534      8   7622.453034      48.0      2\n",
       "11328     1534      9   4928.173852      23.0      1\n",
       "11329     1534     11  13350.015305      78.0      4\n",
       "11330     1534     12   2371.711192      16.0      1\n",
       "\n",
       "[11331 rows x 5 columns]"
      ]
     },
     "execution_count": 26,
     "metadata": {},
     "output_type": "execute_result"
    }
   ],
   "source": [
    "# смотрим, что получилось\n",
    "agg_data_by_user"
   ]
  },
  {
   "cell_type": "code",
   "execution_count": 27,
   "id": "7b5c4a76",
   "metadata": {},
   "outputs": [
    {
     "data": {
      "text/html": [
       "<div>\n",
       "<style scoped>\n",
       "    .dataframe tbody tr th:only-of-type {\n",
       "        vertical-align: middle;\n",
       "    }\n",
       "\n",
       "    .dataframe tbody tr th {\n",
       "        vertical-align: top;\n",
       "    }\n",
       "\n",
       "    .dataframe thead th {\n",
       "        text-align: right;\n",
       "    }\n",
       "</style>\n",
       "<table border=\"1\" class=\"dataframe\">\n",
       "  <thead>\n",
       "    <tr style=\"text-align: right;\">\n",
       "      <th></th>\n",
       "      <th>user_id</th>\n",
       "      <th>name</th>\n",
       "      <th>age</th>\n",
       "      <th>city</th>\n",
       "      <th>subscription_type</th>\n",
       "      <th>age_cat</th>\n",
       "      <th>distance</th>\n",
       "      <th>duration</th>\n",
       "      <th>date</th>\n",
       "      <th>month</th>\n",
       "      <th>minute_price</th>\n",
       "      <th>start_ride_price</th>\n",
       "      <th>subscription_fee</th>\n",
       "    </tr>\n",
       "  </thead>\n",
       "  <tbody>\n",
       "    <tr>\n",
       "      <th>0</th>\n",
       "      <td>1</td>\n",
       "      <td>Кира</td>\n",
       "      <td>22</td>\n",
       "      <td>Тюмень</td>\n",
       "      <td>ultra</td>\n",
       "      <td>От 18 до 25</td>\n",
       "      <td>4409.919140</td>\n",
       "      <td>26.0</td>\n",
       "      <td>2021-01-01</td>\n",
       "      <td>1</td>\n",
       "      <td>6</td>\n",
       "      <td>0</td>\n",
       "      <td>199</td>\n",
       "    </tr>\n",
       "    <tr>\n",
       "      <th>1</th>\n",
       "      <td>1</td>\n",
       "      <td>Кира</td>\n",
       "      <td>22</td>\n",
       "      <td>Тюмень</td>\n",
       "      <td>ultra</td>\n",
       "      <td>От 18 до 25</td>\n",
       "      <td>2617.592153</td>\n",
       "      <td>16.0</td>\n",
       "      <td>2021-01-18</td>\n",
       "      <td>1</td>\n",
       "      <td>6</td>\n",
       "      <td>0</td>\n",
       "      <td>199</td>\n",
       "    </tr>\n",
       "    <tr>\n",
       "      <th>2</th>\n",
       "      <td>1</td>\n",
       "      <td>Кира</td>\n",
       "      <td>22</td>\n",
       "      <td>Тюмень</td>\n",
       "      <td>ultra</td>\n",
       "      <td>От 18 до 25</td>\n",
       "      <td>754.159807</td>\n",
       "      <td>7.0</td>\n",
       "      <td>2021-04-20</td>\n",
       "      <td>4</td>\n",
       "      <td>6</td>\n",
       "      <td>0</td>\n",
       "      <td>199</td>\n",
       "    </tr>\n",
       "    <tr>\n",
       "      <th>3</th>\n",
       "      <td>1</td>\n",
       "      <td>Кира</td>\n",
       "      <td>22</td>\n",
       "      <td>Тюмень</td>\n",
       "      <td>ultra</td>\n",
       "      <td>От 18 до 25</td>\n",
       "      <td>2694.783254</td>\n",
       "      <td>19.0</td>\n",
       "      <td>2021-08-11</td>\n",
       "      <td>8</td>\n",
       "      <td>6</td>\n",
       "      <td>0</td>\n",
       "      <td>199</td>\n",
       "    </tr>\n",
       "    <tr>\n",
       "      <th>4</th>\n",
       "      <td>1</td>\n",
       "      <td>Кира</td>\n",
       "      <td>22</td>\n",
       "      <td>Тюмень</td>\n",
       "      <td>ultra</td>\n",
       "      <td>От 18 до 25</td>\n",
       "      <td>4028.687306</td>\n",
       "      <td>27.0</td>\n",
       "      <td>2021-08-28</td>\n",
       "      <td>8</td>\n",
       "      <td>6</td>\n",
       "      <td>0</td>\n",
       "      <td>199</td>\n",
       "    </tr>\n",
       "    <tr>\n",
       "      <th>5</th>\n",
       "      <td>1</td>\n",
       "      <td>Кира</td>\n",
       "      <td>22</td>\n",
       "      <td>Тюмень</td>\n",
       "      <td>ultra</td>\n",
       "      <td>От 18 до 25</td>\n",
       "      <td>2770.890808</td>\n",
       "      <td>17.0</td>\n",
       "      <td>2021-10-09</td>\n",
       "      <td>10</td>\n",
       "      <td>6</td>\n",
       "      <td>0</td>\n",
       "      <td>199</td>\n",
       "    </tr>\n",
       "    <tr>\n",
       "      <th>6</th>\n",
       "      <td>1</td>\n",
       "      <td>Кира</td>\n",
       "      <td>22</td>\n",
       "      <td>Тюмень</td>\n",
       "      <td>ultra</td>\n",
       "      <td>От 18 до 25</td>\n",
       "      <td>3039.020292</td>\n",
       "      <td>15.0</td>\n",
       "      <td>2021-10-19</td>\n",
       "      <td>10</td>\n",
       "      <td>6</td>\n",
       "      <td>0</td>\n",
       "      <td>199</td>\n",
       "    </tr>\n",
       "    <tr>\n",
       "      <th>7</th>\n",
       "      <td>1</td>\n",
       "      <td>Кира</td>\n",
       "      <td>22</td>\n",
       "      <td>Тюмень</td>\n",
       "      <td>ultra</td>\n",
       "      <td>От 18 до 25</td>\n",
       "      <td>2842.118050</td>\n",
       "      <td>24.0</td>\n",
       "      <td>2021-11-06</td>\n",
       "      <td>11</td>\n",
       "      <td>6</td>\n",
       "      <td>0</td>\n",
       "      <td>199</td>\n",
       "    </tr>\n",
       "    <tr>\n",
       "      <th>8</th>\n",
       "      <td>1</td>\n",
       "      <td>Кира</td>\n",
       "      <td>22</td>\n",
       "      <td>Тюмень</td>\n",
       "      <td>ultra</td>\n",
       "      <td>От 18 до 25</td>\n",
       "      <td>3412.690668</td>\n",
       "      <td>16.0</td>\n",
       "      <td>2021-11-14</td>\n",
       "      <td>11</td>\n",
       "      <td>6</td>\n",
       "      <td>0</td>\n",
       "      <td>199</td>\n",
       "    </tr>\n",
       "    <tr>\n",
       "      <th>9</th>\n",
       "      <td>1</td>\n",
       "      <td>Кира</td>\n",
       "      <td>22</td>\n",
       "      <td>Тюмень</td>\n",
       "      <td>ultra</td>\n",
       "      <td>От 18 до 25</td>\n",
       "      <td>748.690645</td>\n",
       "      <td>16.0</td>\n",
       "      <td>2021-11-22</td>\n",
       "      <td>11</td>\n",
       "      <td>6</td>\n",
       "      <td>0</td>\n",
       "      <td>199</td>\n",
       "    </tr>\n",
       "  </tbody>\n",
       "</table>\n",
       "</div>"
      ],
      "text/plain": [
       "   user_id  name  age    city subscription_type      age_cat     distance  \\\n",
       "0        1  Кира   22  Тюмень             ultra  От 18 до 25  4409.919140   \n",
       "1        1  Кира   22  Тюмень             ultra  От 18 до 25  2617.592153   \n",
       "2        1  Кира   22  Тюмень             ultra  От 18 до 25   754.159807   \n",
       "3        1  Кира   22  Тюмень             ultra  От 18 до 25  2694.783254   \n",
       "4        1  Кира   22  Тюмень             ultra  От 18 до 25  4028.687306   \n",
       "5        1  Кира   22  Тюмень             ultra  От 18 до 25  2770.890808   \n",
       "6        1  Кира   22  Тюмень             ultra  От 18 до 25  3039.020292   \n",
       "7        1  Кира   22  Тюмень             ultra  От 18 до 25  2842.118050   \n",
       "8        1  Кира   22  Тюмень             ultra  От 18 до 25  3412.690668   \n",
       "9        1  Кира   22  Тюмень             ultra  От 18 до 25   748.690645   \n",
       "\n",
       "   duration       date  month  minute_price  start_ride_price  \\\n",
       "0      26.0 2021-01-01      1             6                 0   \n",
       "1      16.0 2021-01-18      1             6                 0   \n",
       "2       7.0 2021-04-20      4             6                 0   \n",
       "3      19.0 2021-08-11      8             6                 0   \n",
       "4      27.0 2021-08-28      8             6                 0   \n",
       "5      17.0 2021-10-09     10             6                 0   \n",
       "6      15.0 2021-10-19     10             6                 0   \n",
       "7      24.0 2021-11-06     11             6                 0   \n",
       "8      16.0 2021-11-14     11             6                 0   \n",
       "9      16.0 2021-11-22     11             6                 0   \n",
       "\n",
       "   subscription_fee  \n",
       "0               199  \n",
       "1               199  \n",
       "2               199  \n",
       "3               199  \n",
       "4               199  \n",
       "5               199  \n",
       "6               199  \n",
       "7               199  \n",
       "8               199  \n",
       "9               199  "
      ]
     },
     "metadata": {},
     "output_type": "display_data"
    },
    {
     "data": {
      "text/html": [
       "<div>\n",
       "<style scoped>\n",
       "    .dataframe tbody tr th:only-of-type {\n",
       "        vertical-align: middle;\n",
       "    }\n",
       "\n",
       "    .dataframe tbody tr th {\n",
       "        vertical-align: top;\n",
       "    }\n",
       "\n",
       "    .dataframe thead th {\n",
       "        text-align: right;\n",
       "    }\n",
       "</style>\n",
       "<table border=\"1\" class=\"dataframe\">\n",
       "  <thead>\n",
       "    <tr style=\"text-align: right;\">\n",
       "      <th></th>\n",
       "      <th>user_id</th>\n",
       "      <th>month</th>\n",
       "      <th>distance</th>\n",
       "      <th>duration</th>\n",
       "      <th>count</th>\n",
       "    </tr>\n",
       "  </thead>\n",
       "  <tbody>\n",
       "    <tr>\n",
       "      <th>0</th>\n",
       "      <td>1</td>\n",
       "      <td>1</td>\n",
       "      <td>7027.511294</td>\n",
       "      <td>42.0</td>\n",
       "      <td>2</td>\n",
       "    </tr>\n",
       "    <tr>\n",
       "      <th>1</th>\n",
       "      <td>1</td>\n",
       "      <td>4</td>\n",
       "      <td>754.159807</td>\n",
       "      <td>7.0</td>\n",
       "      <td>1</td>\n",
       "    </tr>\n",
       "    <tr>\n",
       "      <th>2</th>\n",
       "      <td>1</td>\n",
       "      <td>8</td>\n",
       "      <td>6723.470560</td>\n",
       "      <td>46.0</td>\n",
       "      <td>2</td>\n",
       "    </tr>\n",
       "    <tr>\n",
       "      <th>3</th>\n",
       "      <td>1</td>\n",
       "      <td>10</td>\n",
       "      <td>5809.911100</td>\n",
       "      <td>32.0</td>\n",
       "      <td>2</td>\n",
       "    </tr>\n",
       "    <tr>\n",
       "      <th>4</th>\n",
       "      <td>1</td>\n",
       "      <td>11</td>\n",
       "      <td>7003.499363</td>\n",
       "      <td>56.0</td>\n",
       "      <td>3</td>\n",
       "    </tr>\n",
       "  </tbody>\n",
       "</table>\n",
       "</div>"
      ],
      "text/plain": [
       "   user_id  month     distance  duration  count\n",
       "0        1      1  7027.511294      42.0      2\n",
       "1        1      4   754.159807       7.0      1\n",
       "2        1      8  6723.470560      46.0      2\n",
       "3        1     10  5809.911100      32.0      2\n",
       "4        1     11  7003.499363      56.0      3"
      ]
     },
     "metadata": {},
     "output_type": "display_data"
    }
   ],
   "source": [
    "# проверяем результат\n",
    "display(merge_data.head(10))\n",
    "display(agg_data_by_user.head())"
   ]
  },
  {
   "cell_type": "markdown",
   "id": "2754d6e7",
   "metadata": {},
   "source": [
    "##### <span style=\"color:#283593;\">Добавим столбец с помесячной выручкой, которую принёс каждый пользователь</span>"
   ]
  },
  {
   "cell_type": "code",
   "execution_count": 28,
   "id": "cb72c968",
   "metadata": {},
   "outputs": [],
   "source": [
    "# создаем временный датафрейм с информацией о стоимостях\n",
    "\n",
    "user_cost = merge_data.groupby(['user_id','month'])[['minute_price','start_ride_price','subscription_fee','subscription_type']].min().reset_index()"
   ]
  },
  {
   "cell_type": "code",
   "execution_count": 29,
   "id": "4fd88a4c",
   "metadata": {},
   "outputs": [
    {
     "data": {
      "text/html": [
       "<div>\n",
       "<style scoped>\n",
       "    .dataframe tbody tr th:only-of-type {\n",
       "        vertical-align: middle;\n",
       "    }\n",
       "\n",
       "    .dataframe tbody tr th {\n",
       "        vertical-align: top;\n",
       "    }\n",
       "\n",
       "    .dataframe thead th {\n",
       "        text-align: right;\n",
       "    }\n",
       "</style>\n",
       "<table border=\"1\" class=\"dataframe\">\n",
       "  <thead>\n",
       "    <tr style=\"text-align: right;\">\n",
       "      <th></th>\n",
       "      <th>user_id</th>\n",
       "      <th>month</th>\n",
       "      <th>minute_price</th>\n",
       "      <th>start_ride_price</th>\n",
       "      <th>subscription_fee</th>\n",
       "      <th>subscription_type</th>\n",
       "    </tr>\n",
       "  </thead>\n",
       "  <tbody>\n",
       "    <tr>\n",
       "      <th>0</th>\n",
       "      <td>1</td>\n",
       "      <td>1</td>\n",
       "      <td>6</td>\n",
       "      <td>0</td>\n",
       "      <td>199</td>\n",
       "      <td>ultra</td>\n",
       "    </tr>\n",
       "    <tr>\n",
       "      <th>1</th>\n",
       "      <td>1</td>\n",
       "      <td>4</td>\n",
       "      <td>6</td>\n",
       "      <td>0</td>\n",
       "      <td>199</td>\n",
       "      <td>ultra</td>\n",
       "    </tr>\n",
       "    <tr>\n",
       "      <th>2</th>\n",
       "      <td>1</td>\n",
       "      <td>8</td>\n",
       "      <td>6</td>\n",
       "      <td>0</td>\n",
       "      <td>199</td>\n",
       "      <td>ultra</td>\n",
       "    </tr>\n",
       "    <tr>\n",
       "      <th>3</th>\n",
       "      <td>1</td>\n",
       "      <td>10</td>\n",
       "      <td>6</td>\n",
       "      <td>0</td>\n",
       "      <td>199</td>\n",
       "      <td>ultra</td>\n",
       "    </tr>\n",
       "    <tr>\n",
       "      <th>4</th>\n",
       "      <td>1</td>\n",
       "      <td>11</td>\n",
       "      <td>6</td>\n",
       "      <td>0</td>\n",
       "      <td>199</td>\n",
       "      <td>ultra</td>\n",
       "    </tr>\n",
       "    <tr>\n",
       "      <th>...</th>\n",
       "      <td>...</td>\n",
       "      <td>...</td>\n",
       "      <td>...</td>\n",
       "      <td>...</td>\n",
       "      <td>...</td>\n",
       "      <td>...</td>\n",
       "    </tr>\n",
       "    <tr>\n",
       "      <th>11326</th>\n",
       "      <td>1534</td>\n",
       "      <td>6</td>\n",
       "      <td>8</td>\n",
       "      <td>50</td>\n",
       "      <td>0</td>\n",
       "      <td>free</td>\n",
       "    </tr>\n",
       "    <tr>\n",
       "      <th>11327</th>\n",
       "      <td>1534</td>\n",
       "      <td>8</td>\n",
       "      <td>8</td>\n",
       "      <td>50</td>\n",
       "      <td>0</td>\n",
       "      <td>free</td>\n",
       "    </tr>\n",
       "    <tr>\n",
       "      <th>11328</th>\n",
       "      <td>1534</td>\n",
       "      <td>9</td>\n",
       "      <td>8</td>\n",
       "      <td>50</td>\n",
       "      <td>0</td>\n",
       "      <td>free</td>\n",
       "    </tr>\n",
       "    <tr>\n",
       "      <th>11329</th>\n",
       "      <td>1534</td>\n",
       "      <td>11</td>\n",
       "      <td>8</td>\n",
       "      <td>50</td>\n",
       "      <td>0</td>\n",
       "      <td>free</td>\n",
       "    </tr>\n",
       "    <tr>\n",
       "      <th>11330</th>\n",
       "      <td>1534</td>\n",
       "      <td>12</td>\n",
       "      <td>8</td>\n",
       "      <td>50</td>\n",
       "      <td>0</td>\n",
       "      <td>free</td>\n",
       "    </tr>\n",
       "  </tbody>\n",
       "</table>\n",
       "<p>11331 rows × 6 columns</p>\n",
       "</div>"
      ],
      "text/plain": [
       "       user_id  month  minute_price  start_ride_price  subscription_fee  \\\n",
       "0            1      1             6                 0               199   \n",
       "1            1      4             6                 0               199   \n",
       "2            1      8             6                 0               199   \n",
       "3            1     10             6                 0               199   \n",
       "4            1     11             6                 0               199   \n",
       "...        ...    ...           ...               ...               ...   \n",
       "11326     1534      6             8                50                 0   \n",
       "11327     1534      8             8                50                 0   \n",
       "11328     1534      9             8                50                 0   \n",
       "11329     1534     11             8                50                 0   \n",
       "11330     1534     12             8                50                 0   \n",
       "\n",
       "      subscription_type  \n",
       "0                 ultra  \n",
       "1                 ultra  \n",
       "2                 ultra  \n",
       "3                 ultra  \n",
       "4                 ultra  \n",
       "...                 ...  \n",
       "11326              free  \n",
       "11327              free  \n",
       "11328              free  \n",
       "11329              free  \n",
       "11330              free  \n",
       "\n",
       "[11331 rows x 6 columns]"
      ]
     },
     "execution_count": 29,
     "metadata": {},
     "output_type": "execute_result"
    }
   ],
   "source": [
    "user_cost"
   ]
  },
  {
   "cell_type": "code",
   "execution_count": 30,
   "id": "218b3d30",
   "metadata": {},
   "outputs": [],
   "source": [
    "# объединяем временный и агрегированный датафреймы\n",
    "\n",
    "agg_data_by_user = pd.merge(agg_data_by_user,user_cost,on=['user_id','month'])\n",
    "del user_cost # удаляем временный датафрейм"
   ]
  },
  {
   "cell_type": "code",
   "execution_count": 31,
   "id": "460b1231",
   "metadata": {},
   "outputs": [],
   "source": [
    "# создаем столбец с выручкой и считаем по данным пользователя\n",
    "\n",
    "agg_data_by_user['cost_by_month'] = (\n",
    "    agg_data_by_user['minute_price']*agg_data_by_user['duration']\n",
    "    +agg_data_by_user['start_ride_price']*agg_data_by_user['count']\n",
    "    +agg_data_by_user['subscription_fee']\n",
    ")"
   ]
  },
  {
   "cell_type": "code",
   "execution_count": 32,
   "id": "698a9c24",
   "metadata": {},
   "outputs": [],
   "source": [
    "# удаляем более не нужные колонки\n",
    "\n",
    "agg_data_by_user.drop(columns=['count','minute_price','start_ride_price','subscription_fee'], inplace=True)"
   ]
  },
  {
   "cell_type": "code",
   "execution_count": 33,
   "id": "cd207757",
   "metadata": {},
   "outputs": [
    {
     "data": {
      "text/html": [
       "<div>\n",
       "<style scoped>\n",
       "    .dataframe tbody tr th:only-of-type {\n",
       "        vertical-align: middle;\n",
       "    }\n",
       "\n",
       "    .dataframe tbody tr th {\n",
       "        vertical-align: top;\n",
       "    }\n",
       "\n",
       "    .dataframe thead th {\n",
       "        text-align: right;\n",
       "    }\n",
       "</style>\n",
       "<table border=\"1\" class=\"dataframe\">\n",
       "  <thead>\n",
       "    <tr style=\"text-align: right;\">\n",
       "      <th></th>\n",
       "      <th>user_id</th>\n",
       "      <th>month</th>\n",
       "      <th>distance</th>\n",
       "      <th>duration</th>\n",
       "      <th>subscription_type</th>\n",
       "      <th>cost_by_month</th>\n",
       "    </tr>\n",
       "  </thead>\n",
       "  <tbody>\n",
       "    <tr>\n",
       "      <th>0</th>\n",
       "      <td>1</td>\n",
       "      <td>1</td>\n",
       "      <td>7027.511294</td>\n",
       "      <td>42.0</td>\n",
       "      <td>ultra</td>\n",
       "      <td>451.0</td>\n",
       "    </tr>\n",
       "    <tr>\n",
       "      <th>1</th>\n",
       "      <td>1</td>\n",
       "      <td>4</td>\n",
       "      <td>754.159807</td>\n",
       "      <td>7.0</td>\n",
       "      <td>ultra</td>\n",
       "      <td>241.0</td>\n",
       "    </tr>\n",
       "    <tr>\n",
       "      <th>2</th>\n",
       "      <td>1</td>\n",
       "      <td>8</td>\n",
       "      <td>6723.470560</td>\n",
       "      <td>46.0</td>\n",
       "      <td>ultra</td>\n",
       "      <td>475.0</td>\n",
       "    </tr>\n",
       "    <tr>\n",
       "      <th>3</th>\n",
       "      <td>1</td>\n",
       "      <td>10</td>\n",
       "      <td>5809.911100</td>\n",
       "      <td>32.0</td>\n",
       "      <td>ultra</td>\n",
       "      <td>391.0</td>\n",
       "    </tr>\n",
       "    <tr>\n",
       "      <th>4</th>\n",
       "      <td>1</td>\n",
       "      <td>11</td>\n",
       "      <td>7003.499363</td>\n",
       "      <td>56.0</td>\n",
       "      <td>ultra</td>\n",
       "      <td>535.0</td>\n",
       "    </tr>\n",
       "    <tr>\n",
       "      <th>...</th>\n",
       "      <td>...</td>\n",
       "      <td>...</td>\n",
       "      <td>...</td>\n",
       "      <td>...</td>\n",
       "      <td>...</td>\n",
       "      <td>...</td>\n",
       "    </tr>\n",
       "    <tr>\n",
       "      <th>11326</th>\n",
       "      <td>1534</td>\n",
       "      <td>6</td>\n",
       "      <td>3409.468534</td>\n",
       "      <td>26.0</td>\n",
       "      <td>free</td>\n",
       "      <td>308.0</td>\n",
       "    </tr>\n",
       "    <tr>\n",
       "      <th>11327</th>\n",
       "      <td>1534</td>\n",
       "      <td>8</td>\n",
       "      <td>7622.453034</td>\n",
       "      <td>48.0</td>\n",
       "      <td>free</td>\n",
       "      <td>484.0</td>\n",
       "    </tr>\n",
       "    <tr>\n",
       "      <th>11328</th>\n",
       "      <td>1534</td>\n",
       "      <td>9</td>\n",
       "      <td>4928.173852</td>\n",
       "      <td>23.0</td>\n",
       "      <td>free</td>\n",
       "      <td>234.0</td>\n",
       "    </tr>\n",
       "    <tr>\n",
       "      <th>11329</th>\n",
       "      <td>1534</td>\n",
       "      <td>11</td>\n",
       "      <td>13350.015305</td>\n",
       "      <td>78.0</td>\n",
       "      <td>free</td>\n",
       "      <td>824.0</td>\n",
       "    </tr>\n",
       "    <tr>\n",
       "      <th>11330</th>\n",
       "      <td>1534</td>\n",
       "      <td>12</td>\n",
       "      <td>2371.711192</td>\n",
       "      <td>16.0</td>\n",
       "      <td>free</td>\n",
       "      <td>178.0</td>\n",
       "    </tr>\n",
       "  </tbody>\n",
       "</table>\n",
       "<p>11331 rows × 6 columns</p>\n",
       "</div>"
      ],
      "text/plain": [
       "       user_id  month      distance  duration subscription_type  cost_by_month\n",
       "0            1      1   7027.511294      42.0             ultra          451.0\n",
       "1            1      4    754.159807       7.0             ultra          241.0\n",
       "2            1      8   6723.470560      46.0             ultra          475.0\n",
       "3            1     10   5809.911100      32.0             ultra          391.0\n",
       "4            1     11   7003.499363      56.0             ultra          535.0\n",
       "...        ...    ...           ...       ...               ...            ...\n",
       "11326     1534      6   3409.468534      26.0              free          308.0\n",
       "11327     1534      8   7622.453034      48.0              free          484.0\n",
       "11328     1534      9   4928.173852      23.0              free          234.0\n",
       "11329     1534     11  13350.015305      78.0              free          824.0\n",
       "11330     1534     12   2371.711192      16.0              free          178.0\n",
       "\n",
       "[11331 rows x 6 columns]"
      ]
     },
     "execution_count": 33,
     "metadata": {},
     "output_type": "execute_result"
    }
   ],
   "source": [
    "# смотрим, как это выглядит\n",
    "\n",
    "agg_data_by_user"
   ]
  },
  {
   "cell_type": "markdown",
   "id": "83b9cfc2",
   "metadata": {},
   "source": [
    "##### <span style=\"color:#283593;\">Гистограмма выручки с одного пользователям</span>"
   ]
  },
  {
   "cell_type": "code",
   "execution_count": 34,
   "id": "8f327fcc",
   "metadata": {},
   "outputs": [
    {
     "data": {
      "image/png": "[encoded data removed]",
      "text/plain": [
       "<Figure size 720x432 with 1 Axes>"
      ]
     },
     "metadata": {
      "needs_background": "light"
     },
     "output_type": "display_data"
    }
   ],
   "source": [
    "# визуализируем полученную выручку\n",
    "\n",
    "agg_data_by_user['cost_by_month'].plot.hist(bins=80, figsize=(10,6))\n",
    "plt.title(f'Гистограмма выручки пользователей') \n",
    "plt.xlabel(f'Ежемесячная выручка с одного пользователя')\n",
    "plt.ylabel('Частота появления')\n",
    "plt.show() # отображаем результат"
   ]
  },
  {
   "cell_type": "markdown",
   "id": "41545ac0",
   "metadata": {},
   "source": [
    "#### Шаг 6. Проверка гипотез"
   ]
  },
  {
   "cell_type": "markdown",
   "id": "32759724",
   "metadata": {},
   "source": [
    "##### <span style=\"color:#283593;\">Тратят ли пользователи с подпиской больше времени на поездки?</span>"
   ]
  },
  {
   "cell_type": "code",
   "execution_count": 35,
   "id": "27804acd",
   "metadata": {},
   "outputs": [],
   "source": [
    "# зададим уровень статистической значимости для всех гипотез\n",
    "\n",
    "alpha = 0.05"
   ]
  },
  {
   "cell_type": "markdown",
   "id": "dee99c28",
   "metadata": {},
   "source": [
    "<p><span style=\"color:#283593;\">H<sub>0</sub>: Пользователи с подпиской тратят столько же времени на поездки, как и пользователи без подписки</span><br><span style=\"color:#283593;\">H<sub>1</sub>: Пользователи с подпиской тратят больше времени на поездки, чем пользователи без подписки</span></p>"
   ]
  },
  {
   "cell_type": "code",
   "execution_count": 36,
   "id": "2ef9aab1",
   "metadata": {},
   "outputs": [
    {
     "name": "stdout",
     "output_type": "stream",
     "text": [
      "p-значение: 1.2804098316645618e-34\n",
      "Нулевая гипотеза отвергается\n"
     ]
    }
   ],
   "source": [
    "results = st.ttest_ind(\n",
    "    merge_data_ultra['duration'],\n",
    "    merge_data_free['duration'],\n",
    "    alternative='greater')\n",
    "print('p-значение:', results.pvalue)\n",
    "if results.pvalue<alpha:\n",
    "    print ('Нулевая гипотеза отвергается')\n",
    "else:\n",
    "    print('Нулевая гипотеза не отвергается')"
   ]
  },
  {
   "cell_type": "code",
   "execution_count": 37,
   "id": "5e5eb093",
   "metadata": {},
   "outputs": [
    {
     "name": "stdout",
     "output_type": "stream",
     "text": [
      "Средняя продолжительность поездки без подписки: 17.39\n",
      "Средняя продолжительность поездки с подпиской: 18.54\n"
     ]
    }
   ],
   "source": [
    "print(f'Средняя продолжительность поездки без подписки: {round(merge_data_free[\"duration\"].mean(),2)}')\n",
    "print(f'Средняя продолжительность поездки с подпиской: {round(merge_data_ultra[\"duration\"].mean(),2)}')"
   ]
  },
  {
   "cell_type": "markdown",
   "id": "cf0aa202",
   "metadata": {},
   "source": [
    "<span style=\"color:#283593;\">Гипотеза отвергается. Пользователи с подпиской катаются несколько больше (18,5 минут против 17,4 минут), чем пользователи без подписки.</span>"
   ]
  },
  {
   "cell_type": "markdown",
   "id": "8b213989",
   "metadata": {},
   "source": [
    "##### <span style=\"color:#283593;\">Среднее расстояние, которое проезжают пользователи с подпиской за одну поездку, не превышает 3130 метров</span>"
   ]
  },
  {
   "cell_type": "markdown",
   "id": "83a3d38a",
   "metadata": {},
   "source": [
    "<p><span style=\"color:#283593;\">H<sub>0</sub>: Пользователи с подпиской проезжают за одну поездку 3130 метров</span><br><span style=\"color:#283593;\">H<sub>1</sub>: Пользователи с подпиской проезжают за одну поездку менее 3130 метров</span></p>"
   ]
  },
  {
   "cell_type": "code",
   "execution_count": 117,
   "id": "6f28900c",
   "metadata": {},
   "outputs": [
    {
     "name": "stdout",
     "output_type": "stream",
     "text": [
      "p-значение: 0.9195368847849785\n",
      "Нулевая гипотеза отвергается\n"
     ]
    }
   ],
   "source": [
    "opt_dist = 3130\n",
    "results = st.ttest_1samp(merge_data_ultra['distance'],opt_dist,alternative='greater')\n",
    "print('p-значение:', results.pvalue)\n",
    "if results.pvalue>alpha:\n",
    "    print ('Нулевая гипотеза отвергается')\n",
    "else:\n",
    "    print('Нулевая гипотеза не отвергается')"
   ]
  },
  {
   "cell_type": "code",
   "execution_count": 39,
   "id": "0a192b0c",
   "metadata": {},
   "outputs": [
    {
     "name": "stdout",
     "output_type": "stream",
     "text": [
      "Средняя продолжительность поездки с подпиской: 3115.0\n"
     ]
    }
   ],
   "source": [
    "print(f'Средняя продолжительность поездки с подпиской: {round(merge_data_ultra[\"distance\"].mean(),0)}')"
   ]
  },
  {
   "cell_type": "markdown",
   "id": "e46f0db6",
   "metadata": {},
   "source": [
    "<span style=\"color:#283593;\"> Гипотеза отвергается. Пользователи с подпиской проезжают в среднем 3115 метров.</span>"
   ]
  },
  {
   "cell_type": "markdown",
   "id": "a9a583a7",
   "metadata": {},
   "source": [
    "##### <span style=\"color:#283593;\">Будет ли помесячная выручка от пользователей с подпиской по месяцам выше, чем выручка от пользователей без подписки?</span>"
   ]
  },
  {
   "cell_type": "markdown",
   "id": "d589f7db",
   "metadata": {},
   "source": [
    "<p><span style=\"color:#283593;\">H<sub>0</sub>: Помесячная выручка от пользователей с подпиской равна помесячной выручке пользоваталей без подписки.</span><br><span style=\"color:#283593;\">H<sub>1</sub>: Помесячная выручка от пользователей с подпиской больше помесячной выручки пользоваталей без подписки.</span></p>"
   ]
  },
  {
   "cell_type": "markdown",
   "id": "2ee0a187",
   "metadata": {},
   "source": []
  },
  {
   "cell_type": "code",
   "execution_count": 40,
   "id": "00c0de66",
   "metadata": {},
   "outputs": [
    {
     "name": "stdout",
     "output_type": "stream",
     "text": [
      "p-значение: 1.8850394384715216e-31\n",
      "Нулевая гипотеза отвергается\n"
     ]
    }
   ],
   "source": [
    "results = st.ttest_ind(\n",
    "    agg_data_by_user.query('subscription_type==\"ultra\"')['cost_by_month'],\n",
    "    agg_data_by_user.query('subscription_type==\"free\"')['cost_by_month'],\n",
    "    alternative='greater')\n",
    "print('p-значение:', results.pvalue)\n",
    "if results.pvalue<alpha:\n",
    "    print ('Нулевая гипотеза отвергается')\n",
    "else:\n",
    "    print('Нулевая гипотеза не отвергается')"
   ]
  },
  {
   "cell_type": "code",
   "execution_count": 41,
   "id": "c84c514c",
   "metadata": {},
   "outputs": [
    {
     "name": "stdout",
     "output_type": "stream",
     "text": [
      "Средняя месячная выручка от пользователей с подпиской: 363.0\n",
      "Средняя месячная выручка от пользователей без подписки: 329.0\n"
     ]
    }
   ],
   "source": [
    "val = agg_data_by_user.query('subscription_type==\"ultra\"')['cost_by_month'].mean()\n",
    "print(f'Средняя месячная выручка от пользователей с подпиской: {round(val,0)}')\n",
    "val = agg_data_by_user.query('subscription_type==\"free\"')['cost_by_month'].mean()\n",
    "print(f'Средняя месячная выручка от пользователей без подписки: {round(val,0)}')\n",
    "del val"
   ]
  },
  {
   "cell_type": "markdown",
   "id": "b9de6a66",
   "metadata": {},
   "source": [
    "<span style=\"color:#283593;\"> Гипотеза отвергается. Среднемесячная прибыль от пользователей с подпиской на 34 рубля больше, чем от пользователя без подписки.</span>"
   ]
  },
  {
   "cell_type": "markdown",
   "id": "475ff11f",
   "metadata": {},
   "source": [
    "6.4 Представьте такую ситуацию: техническая команда сервиса обновила сервера, с которыми взаимодействует мобильное приложение. Она надеется, что из-за этого количество обращений в техподдержку значимо снизилось. Некоторый файл содержит для каждого пользователя данные о количестве обращений до обновления и после него. Какой тест вам понадобился бы для проверки этой гипотезы?"
   ]
  },
  {
   "cell_type": "markdown",
   "id": "86ad29b2",
   "metadata": {},
   "source": [
    "<span style=\"color:#283593;\">Представленный случай - это пример зависимых выборок и для анализа гипотез необходимо будет использовать метод st.ttest_rel() </span>"
   ]
  },
  {
   "cell_type": "markdown",
   "id": "2110896f",
   "metadata": {},
   "source": [
    "#### Вывод"
   ]
  },
  {
   "cell_type": "markdown",
   "id": "c4e6dff4",
   "metadata": {},
   "source": [
    "<p><span style=\"color:#283593;\">В данном проекте была проведена аналитика сервиса аренды самокатов по предоставленным данным за 2021 год.</span></p>\n",
    "<p><span style=\"color:#283593;\">Данные оказались хорошими и чистыми. Объем записей после удаления дубликатов и объединения таблиц составил 18068 шт, что позволяет использовать для анализа не выборки, а генеральные совокупности.</span></p>\n",
    "<p><span style=\"color:#283593;\"><b>В процессе исследования были рассмотрены следующие моменты:</b></span></p>\n",
    "<ol>\n",
    "    <li><span style=\"color:#283593;\">Активность использования самокатов по городам</span></li>\n",
    "    <li><span style=\"color:#283593;\">Соотношение пользователей с подпиской и без</span></li>\n",
    "    <li><span style=\"color:#283593;\">Возрастные категории пользователей</span></li>\n",
    "    <li><span style=\"color:#283593;\">Расстояние и продолжительность одной поездки для всех пользователей</span></li>\n",
    "    <li><span style=\"color:#283593;\">Расстояние и продолжительность одной поездки для пользователей с подпиской и без, в отдельности</span></li>\n",
    "    <li><span style=\"color:#283593;\">Помесячная выручка от пользователей</span></li>\n",
    "    <li><span style=\"color:#283593;\">Были построены визуализации для каждого из исследуемых вопросов</span></li>\n",
    "</ol>\n",
    "<p><span style=\"color:#283593;\"><b>Так же были проверены гипотезы, выдвинутые заказчиком:</b></span></p>\n",
    "<ol>\n",
    "    <li><span style=\"color:#283593;\">Тратят ли пользователи с подпиской больше времени на поездки? Не отвергается.</span></li>\n",
    "    <li><span style=\"color:#283593;\">Среднее расстояние, которое проезжают пользователи с подпиской за одну поездку, не превышает 3130 метров. Не отвергается.</span></li>\n",
    "    <li><span style=\"color:#283593;\">Будет ли помесячная выручка от пользователей с подпиской по месяцам выше, чем выручка от пользователей без подписки? Не отвергается.</span></li>\n",
    "</ol>\n",
    "<p><span style=\"color:#283593;\">Таким образом, можно предположить, что руководство компании ведет правильную работу в направлении развития и бизнес имеет все шансы на рост.</span><br><br><span style=\"color:#283593;\"><b>Рекомендации:</b></span></p>\n",
    "<ol>\n",
    "    <li><span style=\"color:#283593;\">Отказаться от пользователей, моложе 18 лет. Это запрещено текущим законодательством.</span></li>\n",
    "    <li><span style=\"color:#283593;\">Сделать рекламную компанию для стимуляции пользователей оформлять подписку</span></li>\n",
    "    <li><span style=\"color:#283593;\">Выяснить, есть ли проблемы у пользователей без подписки, возникающие в первые 2 минуты аренды, вынуждающие отказываться от поездки.&nbsp;</span></li>\n",
    "</ol>"
   ]
  }
 ],
 "metadata": {
  "ExecuteTimeLog": [
   {
    "duration": 61,
    "start_time": "2024-11-03T10:37:00.655Z"
   },
   {
    "duration": 458,
    "start_time": "2024-11-03T10:37:05.935Z"
   },
   {
    "duration": 106,
    "start_time": "2024-11-03T10:37:08.551Z"
   },
   {
    "duration": 22,
    "start_time": "2024-11-03T10:37:15.162Z"
   },
   {
    "duration": 291,
    "start_time": "2024-11-03T10:38:26.542Z"
   },
   {
    "duration": 19,
    "start_time": "2024-11-03T10:39:18.896Z"
   },
   {
    "duration": 32,
    "start_time": "2024-11-03T10:39:48.553Z"
   },
   {
    "duration": 7,
    "start_time": "2024-11-03T10:41:49.512Z"
   },
   {
    "duration": 21,
    "start_time": "2024-11-03T10:42:20.247Z"
   },
   {
    "duration": 12,
    "start_time": "2024-11-03T10:43:25.207Z"
   },
   {
    "duration": 30,
    "start_time": "2024-11-03T10:43:52.371Z"
   },
   {
    "duration": 8,
    "start_time": "2024-11-03T10:43:58.503Z"
   },
   {
    "duration": 10,
    "start_time": "2024-11-03T10:44:59.791Z"
   },
   {
    "duration": 7,
    "start_time": "2024-11-03T10:45:09.849Z"
   },
   {
    "duration": 10,
    "start_time": "2024-11-03T10:45:43.832Z"
   },
   {
    "duration": 16,
    "start_time": "2024-11-03T10:49:45.850Z"
   },
   {
    "duration": 8,
    "start_time": "2024-11-03T10:50:06.602Z"
   },
   {
    "duration": 7,
    "start_time": "2024-11-03T10:50:10.142Z"
   },
   {
    "duration": 6,
    "start_time": "2024-11-03T10:50:16.658Z"
   },
   {
    "duration": 6,
    "start_time": "2024-11-03T10:50:23.382Z"
   },
   {
    "duration": 15,
    "start_time": "2024-11-03T10:50:59.352Z"
   },
   {
    "duration": 29,
    "start_time": "2024-11-03T10:51:48.750Z"
   },
   {
    "duration": 11,
    "start_time": "2024-11-03T10:52:03.193Z"
   },
   {
    "duration": 8,
    "start_time": "2024-11-03T10:53:26.965Z"
   },
   {
    "duration": 55,
    "start_time": "2024-11-03T10:54:42.734Z"
   },
   {
    "duration": 3,
    "start_time": "2024-11-03T10:54:55.352Z"
   },
   {
    "duration": 4,
    "start_time": "2024-11-03T10:55:03.342Z"
   },
   {
    "duration": 8,
    "start_time": "2024-11-03T10:55:17.222Z"
   },
   {
    "duration": 8,
    "start_time": "2024-11-03T10:55:58.370Z"
   },
   {
    "duration": 13,
    "start_time": "2024-11-03T10:58:08.281Z"
   },
   {
    "duration": 20,
    "start_time": "2024-11-03T10:59:31.001Z"
   },
   {
    "duration": 10,
    "start_time": "2024-11-03T10:59:45.777Z"
   },
   {
    "duration": 11,
    "start_time": "2024-11-03T11:00:45.535Z"
   },
   {
    "duration": 6,
    "start_time": "2024-11-03T11:03:42.055Z"
   },
   {
    "duration": 11,
    "start_time": "2024-11-03T11:04:01.955Z"
   },
   {
    "duration": 4,
    "start_time": "2024-11-03T11:09:34.669Z"
   },
   {
    "duration": 3,
    "start_time": "2024-11-03T11:10:38.748Z"
   },
   {
    "duration": 3,
    "start_time": "2024-11-03T11:10:41.712Z"
   },
   {
    "duration": 3,
    "start_time": "2024-11-03T11:10:42.520Z"
   },
   {
    "duration": 4,
    "start_time": "2024-11-03T11:12:11.230Z"
   },
   {
    "duration": 12,
    "start_time": "2024-11-03T11:12:32.369Z"
   },
   {
    "duration": 10,
    "start_time": "2024-11-03T11:12:42.618Z"
   },
   {
    "duration": 438,
    "start_time": "2024-11-03T11:13:00.650Z"
   },
   {
    "duration": 73,
    "start_time": "2024-11-03T11:13:01.090Z"
   },
   {
    "duration": 37,
    "start_time": "2024-11-03T11:13:01.164Z"
   },
   {
    "duration": 32,
    "start_time": "2024-11-03T11:13:01.203Z"
   },
   {
    "duration": 11,
    "start_time": "2024-11-03T11:13:01.238Z"
   },
   {
    "duration": 10,
    "start_time": "2024-11-03T11:13:01.251Z"
   },
   {
    "duration": 9,
    "start_time": "2024-11-03T11:13:01.263Z"
   },
   {
    "duration": 16,
    "start_time": "2024-11-03T11:13:01.274Z"
   },
   {
    "duration": 58,
    "start_time": "2024-11-05T17:19:40.033Z"
   },
   {
    "duration": 381,
    "start_time": "2024-11-05T17:19:47.764Z"
   },
   {
    "duration": 346,
    "start_time": "2024-11-05T17:19:48.148Z"
   },
   {
    "duration": 31,
    "start_time": "2024-11-05T17:19:48.495Z"
   },
   {
    "duration": 6,
    "start_time": "2024-11-05T17:19:48.529Z"
   },
   {
    "duration": 15,
    "start_time": "2024-11-05T17:19:48.536Z"
   },
   {
    "duration": 9,
    "start_time": "2024-11-05T17:19:48.553Z"
   },
   {
    "duration": 12,
    "start_time": "2024-11-05T17:19:48.563Z"
   },
   {
    "duration": 19,
    "start_time": "2024-11-05T17:19:48.576Z"
   },
   {
    "duration": 10,
    "start_time": "2024-11-05T17:20:09.064Z"
   },
   {
    "duration": 5,
    "start_time": "2024-11-05T17:20:27.487Z"
   },
   {
    "duration": 24,
    "start_time": "2024-11-05T17:24:22.493Z"
   },
   {
    "duration": 4,
    "start_time": "2024-11-05T17:24:27.802Z"
   },
   {
    "duration": 13,
    "start_time": "2024-11-05T17:27:14.190Z"
   },
   {
    "duration": 7,
    "start_time": "2024-11-05T17:28:21.847Z"
   },
   {
    "duration": 15,
    "start_time": "2024-11-05T17:30:00.464Z"
   },
   {
    "duration": 5,
    "start_time": "2024-11-05T17:30:10.354Z"
   },
   {
    "duration": 14,
    "start_time": "2024-11-05T17:30:14.822Z"
   },
   {
    "duration": 15,
    "start_time": "2024-11-05T17:32:09.548Z"
   },
   {
    "duration": 58,
    "start_time": "2024-11-05T17:34:27.619Z"
   },
   {
    "duration": 25,
    "start_time": "2024-11-05T17:34:32.399Z"
   },
   {
    "duration": 44,
    "start_time": "2024-11-05T17:35:24.147Z"
   },
   {
    "duration": 452,
    "start_time": "2024-11-07T06:00:51.199Z"
   },
   {
    "duration": 292,
    "start_time": "2024-11-07T06:00:51.653Z"
   },
   {
    "duration": 69,
    "start_time": "2024-11-07T06:00:51.947Z"
   },
   {
    "duration": 8,
    "start_time": "2024-11-07T06:00:52.020Z"
   },
   {
    "duration": 31,
    "start_time": "2024-11-07T06:00:52.029Z"
   },
   {
    "duration": 21,
    "start_time": "2024-11-07T06:00:52.062Z"
   },
   {
    "duration": 10,
    "start_time": "2024-11-07T06:00:52.085Z"
   },
   {
    "duration": 19,
    "start_time": "2024-11-07T06:00:52.097Z"
   },
   {
    "duration": 10,
    "start_time": "2024-11-07T06:00:52.117Z"
   },
   {
    "duration": 13,
    "start_time": "2024-11-07T06:01:19.896Z"
   },
   {
    "duration": 1071,
    "start_time": "2024-11-07T06:01:43.328Z"
   },
   {
    "duration": 1121,
    "start_time": "2024-11-07T06:01:48.728Z"
   },
   {
    "duration": 5,
    "start_time": "2024-11-07T06:01:56.095Z"
   },
   {
    "duration": 7,
    "start_time": "2024-11-07T06:02:10.888Z"
   },
   {
    "duration": 6,
    "start_time": "2024-11-07T06:02:27.161Z"
   },
   {
    "duration": 5,
    "start_time": "2024-11-07T06:02:31.184Z"
   },
   {
    "duration": 7,
    "start_time": "2024-11-07T06:03:36.296Z"
   },
   {
    "duration": 11,
    "start_time": "2024-11-07T06:03:52.104Z"
   },
   {
    "duration": 12,
    "start_time": "2024-11-07T06:03:55.768Z"
   },
   {
    "duration": 6,
    "start_time": "2024-11-07T06:04:13.080Z"
   },
   {
    "duration": 6,
    "start_time": "2024-11-07T06:05:45.690Z"
   },
   {
    "duration": 7,
    "start_time": "2024-11-07T06:05:58.410Z"
   },
   {
    "duration": 774,
    "start_time": "2024-11-07T06:06:08.385Z"
   },
   {
    "duration": 154,
    "start_time": "2024-11-07T06:06:46.714Z"
   },
   {
    "duration": 2,
    "start_time": "2024-11-07T06:07:29.443Z"
   },
   {
    "duration": 167,
    "start_time": "2024-11-07T06:07:35.067Z"
   },
   {
    "duration": 3,
    "start_time": "2024-11-07T06:09:02.771Z"
   },
   {
    "duration": 138,
    "start_time": "2024-11-07T06:09:07.994Z"
   },
   {
    "duration": 212,
    "start_time": "2024-11-07T06:09:29.156Z"
   },
   {
    "duration": 139,
    "start_time": "2024-11-07T06:09:48.628Z"
   },
   {
    "duration": 156,
    "start_time": "2024-11-07T06:11:21.717Z"
   },
   {
    "duration": 142,
    "start_time": "2024-11-07T06:11:30.645Z"
   },
   {
    "duration": 143,
    "start_time": "2024-11-07T06:11:52.964Z"
   },
   {
    "duration": 144,
    "start_time": "2024-11-07T06:11:58.924Z"
   },
   {
    "duration": 7,
    "start_time": "2024-11-07T06:13:11.214Z"
   },
   {
    "duration": 6,
    "start_time": "2024-11-07T06:14:04.430Z"
   },
   {
    "duration": 11,
    "start_time": "2024-11-07T06:14:10.183Z"
   },
   {
    "duration": 12,
    "start_time": "2024-11-07T06:14:20.926Z"
   },
   {
    "duration": 10,
    "start_time": "2024-11-07T06:14:39.807Z"
   },
   {
    "duration": 8,
    "start_time": "2024-11-07T06:14:46.734Z"
   },
   {
    "duration": 14,
    "start_time": "2024-11-07T06:14:53.814Z"
   },
   {
    "duration": 6,
    "start_time": "2024-11-07T06:17:50.402Z"
   },
   {
    "duration": 8,
    "start_time": "2024-11-07T06:18:35.448Z"
   },
   {
    "duration": 12,
    "start_time": "2024-11-07T06:18:41.448Z"
   },
   {
    "duration": 12,
    "start_time": "2024-11-07T06:18:54.640Z"
   },
   {
    "duration": 12,
    "start_time": "2024-11-07T06:19:03.289Z"
   },
   {
    "duration": 13,
    "start_time": "2024-11-07T06:19:15.537Z"
   },
   {
    "duration": 171,
    "start_time": "2024-11-07T06:21:10.524Z"
   },
   {
    "duration": 187,
    "start_time": "2024-11-07T06:21:28.010Z"
   },
   {
    "duration": 182,
    "start_time": "2024-11-07T06:21:39.459Z"
   },
   {
    "duration": 11,
    "start_time": "2024-11-07T06:21:48.747Z"
   },
   {
    "duration": 188,
    "start_time": "2024-11-07T06:21:52.530Z"
   },
   {
    "duration": 14,
    "start_time": "2024-11-07T06:22:40.428Z"
   },
   {
    "duration": 189,
    "start_time": "2024-11-07T06:22:59.516Z"
   },
   {
    "duration": 249,
    "start_time": "2024-11-07T06:23:11.165Z"
   },
   {
    "duration": 313,
    "start_time": "2024-11-07T06:25:47.030Z"
   },
   {
    "duration": 189,
    "start_time": "2024-11-07T06:26:51.999Z"
   },
   {
    "duration": 193,
    "start_time": "2024-11-07T06:27:00.886Z"
   },
   {
    "duration": 178,
    "start_time": "2024-11-07T06:27:15.606Z"
   },
   {
    "duration": 173,
    "start_time": "2024-11-07T06:27:22.806Z"
   },
   {
    "duration": 194,
    "start_time": "2024-11-07T06:27:27.766Z"
   },
   {
    "duration": 185,
    "start_time": "2024-11-07T06:27:35.494Z"
   },
   {
    "duration": 190,
    "start_time": "2024-11-07T06:28:39.463Z"
   },
   {
    "duration": 186,
    "start_time": "2024-11-07T06:28:56.048Z"
   },
   {
    "duration": 69,
    "start_time": "2024-11-07T06:29:55.008Z"
   },
   {
    "duration": 196,
    "start_time": "2024-11-07T06:30:00.600Z"
   },
   {
    "duration": 261,
    "start_time": "2024-11-07T06:30:26.707Z"
   },
   {
    "duration": 8,
    "start_time": "2024-11-07T06:30:53.152Z"
   },
   {
    "duration": 8,
    "start_time": "2024-11-07T06:31:04.425Z"
   },
   {
    "duration": 8,
    "start_time": "2024-11-07T06:31:10.434Z"
   },
   {
    "duration": 7,
    "start_time": "2024-11-07T06:31:54.066Z"
   },
   {
    "duration": 4,
    "start_time": "2024-11-07T06:31:56.953Z"
   },
   {
    "duration": 8,
    "start_time": "2024-11-07T06:32:53.403Z"
   },
   {
    "duration": 6,
    "start_time": "2024-11-07T06:32:55.779Z"
   },
   {
    "duration": 74,
    "start_time": "2024-11-07T06:33:12.283Z"
   },
   {
    "duration": 190,
    "start_time": "2024-11-07T06:33:22.715Z"
   },
   {
    "duration": 196,
    "start_time": "2024-11-07T06:33:55.500Z"
   },
   {
    "duration": 203,
    "start_time": "2024-11-07T06:33:59.436Z"
   },
   {
    "duration": 193,
    "start_time": "2024-11-07T06:34:18.307Z"
   },
   {
    "duration": 213,
    "start_time": "2024-11-07T06:35:36.494Z"
   },
   {
    "duration": 88,
    "start_time": "2024-11-07T06:36:30.295Z"
   },
   {
    "duration": 84,
    "start_time": "2024-11-07T06:36:44.198Z"
   },
   {
    "duration": 193,
    "start_time": "2024-11-07T06:37:07.015Z"
   },
   {
    "duration": 71,
    "start_time": "2024-11-07T06:37:21.078Z"
   },
   {
    "duration": 79,
    "start_time": "2024-11-07T06:38:00.942Z"
   },
   {
    "duration": 80,
    "start_time": "2024-11-07T06:39:28.559Z"
   },
   {
    "duration": 91,
    "start_time": "2024-11-07T06:39:38.416Z"
   },
   {
    "duration": 81,
    "start_time": "2024-11-07T06:39:51.305Z"
   },
   {
    "duration": 217,
    "start_time": "2024-11-07T06:40:02.409Z"
   },
   {
    "duration": 210,
    "start_time": "2024-11-07T06:40:27.817Z"
   },
   {
    "duration": 203,
    "start_time": "2024-11-07T06:40:34.089Z"
   },
   {
    "duration": 208,
    "start_time": "2024-11-07T06:40:54.505Z"
   },
   {
    "duration": 187,
    "start_time": "2024-11-07T06:41:43.020Z"
   },
   {
    "duration": 95,
    "start_time": "2024-11-07T06:41:52.275Z"
   },
   {
    "duration": 207,
    "start_time": "2024-11-07T06:42:10.882Z"
   },
   {
    "duration": 220,
    "start_time": "2024-11-07T06:42:19.187Z"
   },
   {
    "duration": 201,
    "start_time": "2024-11-07T06:42:38.987Z"
   },
   {
    "duration": 212,
    "start_time": "2024-11-07T06:43:06.460Z"
   },
   {
    "duration": 204,
    "start_time": "2024-11-07T06:43:18.692Z"
   },
   {
    "duration": 205,
    "start_time": "2024-11-07T06:43:22.595Z"
   },
   {
    "duration": 217,
    "start_time": "2024-11-07T06:44:29.947Z"
   },
   {
    "duration": 232,
    "start_time": "2024-11-07T06:44:49.404Z"
   },
   {
    "duration": 208,
    "start_time": "2024-11-07T06:45:06.341Z"
   },
   {
    "duration": 303,
    "start_time": "2024-11-07T06:45:14.676Z"
   },
   {
    "duration": 15,
    "start_time": "2024-11-07T13:42:32.517Z"
   },
   {
    "duration": 7,
    "start_time": "2024-11-07T13:42:41.738Z"
   },
   {
    "duration": 13,
    "start_time": "2024-11-07T13:42:55.242Z"
   },
   {
    "duration": 218,
    "start_time": "2024-11-07T13:43:21.243Z"
   },
   {
    "duration": 217,
    "start_time": "2024-11-07T13:44:06.668Z"
   },
   {
    "duration": 6,
    "start_time": "2024-11-07T13:44:16.923Z"
   },
   {
    "duration": 8,
    "start_time": "2024-11-07T13:45:05.027Z"
   },
   {
    "duration": 6,
    "start_time": "2024-11-07T13:45:59.419Z"
   },
   {
    "duration": 201,
    "start_time": "2024-11-07T13:46:40.284Z"
   },
   {
    "duration": 10,
    "start_time": "2024-11-07T13:46:55.547Z"
   },
   {
    "duration": 15,
    "start_time": "2024-11-07T13:47:07.790Z"
   },
   {
    "duration": 151,
    "start_time": "2024-11-07T13:47:21.805Z"
   },
   {
    "duration": 127,
    "start_time": "2024-11-07T13:47:40.148Z"
   },
   {
    "duration": 7,
    "start_time": "2024-11-07T13:51:07.486Z"
   },
   {
    "duration": 121,
    "start_time": "2024-11-07T13:51:27.207Z"
   },
   {
    "duration": 117,
    "start_time": "2024-11-07T13:51:32.766Z"
   },
   {
    "duration": 67,
    "start_time": "2024-11-07T13:51:51.351Z"
   },
   {
    "duration": 120,
    "start_time": "2024-11-07T13:52:00.911Z"
   },
   {
    "duration": 70,
    "start_time": "2024-11-07T13:52:03.615Z"
   },
   {
    "duration": 5,
    "start_time": "2024-11-07T13:52:17.616Z"
   },
   {
    "duration": 121,
    "start_time": "2024-11-07T13:52:34.663Z"
   },
   {
    "duration": 285,
    "start_time": "2024-11-07T13:53:50.642Z"
   },
   {
    "duration": 258,
    "start_time": "2024-11-07T13:53:56.969Z"
   },
   {
    "duration": 136,
    "start_time": "2024-11-07T13:54:21.108Z"
   },
   {
    "duration": 130,
    "start_time": "2024-11-07T13:54:31.584Z"
   },
   {
    "duration": 121,
    "start_time": "2024-11-07T13:55:39.258Z"
   },
   {
    "duration": 140,
    "start_time": "2024-11-07T13:55:45.740Z"
   },
   {
    "duration": 7,
    "start_time": "2024-11-07T13:56:11.699Z"
   },
   {
    "duration": 128,
    "start_time": "2024-11-07T13:59:25.319Z"
   },
   {
    "duration": 125,
    "start_time": "2024-11-07T14:00:14.800Z"
   },
   {
    "duration": 118,
    "start_time": "2024-11-07T14:01:59.552Z"
   },
   {
    "duration": 119,
    "start_time": "2024-11-07T14:02:11.312Z"
   },
   {
    "duration": 125,
    "start_time": "2024-11-07T14:04:11.643Z"
   },
   {
    "duration": 135,
    "start_time": "2024-11-07T14:08:09.573Z"
   },
   {
    "duration": 138,
    "start_time": "2024-11-07T14:09:07.880Z"
   },
   {
    "duration": 140,
    "start_time": "2024-11-07T14:09:48.982Z"
   },
   {
    "duration": 149,
    "start_time": "2024-11-07T14:21:12.224Z"
   },
   {
    "duration": 154,
    "start_time": "2024-11-07T14:21:21.609Z"
   },
   {
    "duration": 148,
    "start_time": "2024-11-07T14:21:29.455Z"
   },
   {
    "duration": 90,
    "start_time": "2024-11-07T14:23:46.937Z"
   },
   {
    "duration": 96,
    "start_time": "2024-11-07T14:24:23.761Z"
   },
   {
    "duration": 16,
    "start_time": "2024-11-07T14:24:31.137Z"
   },
   {
    "duration": 10,
    "start_time": "2024-11-07T14:24:45.400Z"
   },
   {
    "duration": 5,
    "start_time": "2024-11-07T14:25:03.161Z"
   },
   {
    "duration": 8,
    "start_time": "2024-11-07T14:25:29.360Z"
   },
   {
    "duration": 5,
    "start_time": "2024-11-07T14:25:40.280Z"
   },
   {
    "duration": 4,
    "start_time": "2024-11-07T14:33:31.629Z"
   },
   {
    "duration": 6,
    "start_time": "2024-11-07T14:34:09.390Z"
   },
   {
    "duration": 14,
    "start_time": "2024-11-07T14:34:17.558Z"
   },
   {
    "duration": 7,
    "start_time": "2024-11-07T14:34:59.135Z"
   },
   {
    "duration": 147,
    "start_time": "2024-11-07T14:35:32.047Z"
   },
   {
    "duration": 177,
    "start_time": "2024-11-07T14:35:51.383Z"
   },
   {
    "duration": 8,
    "start_time": "2024-11-07T14:35:59.591Z"
   },
   {
    "duration": 137,
    "start_time": "2024-11-07T14:36:11.439Z"
   },
   {
    "duration": 135,
    "start_time": "2024-11-07T14:36:57.175Z"
   },
   {
    "duration": 7,
    "start_time": "2024-11-07T14:37:03.831Z"
   },
   {
    "duration": 9,
    "start_time": "2024-11-07T14:37:09.023Z"
   },
   {
    "duration": 383,
    "start_time": "2024-11-07T14:37:15.688Z"
   },
   {
    "duration": 150,
    "start_time": "2024-11-07T14:37:38.232Z"
   },
   {
    "duration": 155,
    "start_time": "2024-11-07T14:37:49.544Z"
   },
   {
    "duration": 163,
    "start_time": "2024-11-07T14:40:36.410Z"
   },
   {
    "duration": 171,
    "start_time": "2024-11-07T14:40:53.962Z"
   },
   {
    "duration": 162,
    "start_time": "2024-11-07T14:41:06.378Z"
   },
   {
    "duration": 8,
    "start_time": "2024-11-07T14:41:24.202Z"
   },
   {
    "duration": 180,
    "start_time": "2024-11-07T14:41:55.843Z"
   },
   {
    "duration": 186,
    "start_time": "2024-11-07T14:42:46.852Z"
   },
   {
    "duration": 176,
    "start_time": "2024-11-07T14:42:54.643Z"
   },
   {
    "duration": 186,
    "start_time": "2024-11-07T14:43:07.315Z"
   },
   {
    "duration": 187,
    "start_time": "2024-11-07T14:43:15.852Z"
   },
   {
    "duration": 175,
    "start_time": "2024-11-07T14:43:27.395Z"
   },
   {
    "duration": 176,
    "start_time": "2024-11-07T14:43:37.068Z"
   },
   {
    "duration": 223,
    "start_time": "2024-11-07T14:44:11.731Z"
   },
   {
    "duration": 196,
    "start_time": "2024-11-07T14:44:27.924Z"
   },
   {
    "duration": 172,
    "start_time": "2024-11-07T14:44:39.547Z"
   },
   {
    "duration": 169,
    "start_time": "2024-11-07T14:44:48.907Z"
   },
   {
    "duration": 163,
    "start_time": "2024-11-07T14:45:00.293Z"
   },
   {
    "duration": 167,
    "start_time": "2024-11-07T14:51:30.145Z"
   },
   {
    "duration": 8,
    "start_time": "2024-11-07T14:51:34.337Z"
   },
   {
    "duration": 149,
    "start_time": "2024-11-07T14:52:30.065Z"
   },
   {
    "duration": 160,
    "start_time": "2024-11-07T14:52:39.033Z"
   },
   {
    "duration": 18,
    "start_time": "2024-11-08T14:12:42.304Z"
   },
   {
    "duration": 169,
    "start_time": "2024-11-08T14:13:29.454Z"
   },
   {
    "duration": 461,
    "start_time": "2024-11-08T14:15:21.575Z"
   },
   {
    "duration": 162,
    "start_time": "2024-11-08T14:16:03.359Z"
   },
   {
    "duration": 207,
    "start_time": "2024-11-08T14:16:59.256Z"
   },
   {
    "duration": 174,
    "start_time": "2024-11-08T14:17:45.209Z"
   },
   {
    "duration": 191,
    "start_time": "2024-11-08T14:18:09.705Z"
   },
   {
    "duration": 179,
    "start_time": "2024-11-08T14:18:35.545Z"
   },
   {
    "duration": 193,
    "start_time": "2024-11-08T14:19:02.386Z"
   },
   {
    "duration": 201,
    "start_time": "2024-11-08T14:19:38.220Z"
   },
   {
    "duration": 15,
    "start_time": "2024-11-08T14:20:57.891Z"
   },
   {
    "duration": 15,
    "start_time": "2024-11-08T14:21:04.652Z"
   },
   {
    "duration": 8,
    "start_time": "2024-11-08T14:22:40.453Z"
   },
   {
    "duration": 137,
    "start_time": "2024-11-08T14:23:02.819Z"
   },
   {
    "duration": 165,
    "start_time": "2024-11-08T14:23:10.851Z"
   },
   {
    "duration": 177,
    "start_time": "2024-11-08T14:24:20.492Z"
   },
   {
    "duration": 180,
    "start_time": "2024-11-08T14:25:37.933Z"
   },
   {
    "duration": 15,
    "start_time": "2024-11-08T14:26:12.084Z"
   },
   {
    "duration": 205,
    "start_time": "2024-11-08T14:26:33.478Z"
   },
   {
    "duration": 201,
    "start_time": "2024-11-08T14:27:08.133Z"
   },
   {
    "duration": 192,
    "start_time": "2024-11-08T14:27:26.837Z"
   },
   {
    "duration": 11,
    "start_time": "2024-11-08T14:34:42.345Z"
   },
   {
    "duration": 21,
    "start_time": "2024-11-08T14:34:52.688Z"
   },
   {
    "duration": 17,
    "start_time": "2024-11-08T14:36:31.723Z"
   },
   {
    "duration": 9,
    "start_time": "2024-11-08T14:36:33.523Z"
   },
   {
    "duration": 3,
    "start_time": "2024-11-08T14:36:37.346Z"
   },
   {
    "duration": 4,
    "start_time": "2024-11-08T14:36:39.954Z"
   },
   {
    "duration": 17,
    "start_time": "2024-11-08T14:36:44.450Z"
   },
   {
    "duration": 21,
    "start_time": "2024-11-08T14:36:46.235Z"
   },
   {
    "duration": 8,
    "start_time": "2024-11-08T14:37:10.491Z"
   },
   {
    "duration": 4,
    "start_time": "2024-11-08T14:37:13.323Z"
   },
   {
    "duration": 4,
    "start_time": "2024-11-08T14:37:22.050Z"
   },
   {
    "duration": 4,
    "start_time": "2024-11-08T14:37:28.395Z"
   },
   {
    "duration": 19,
    "start_time": "2024-11-08T14:38:43.411Z"
   },
   {
    "duration": 20,
    "start_time": "2024-11-08T14:38:46.989Z"
   },
   {
    "duration": 17,
    "start_time": "2024-11-08T14:38:56.995Z"
   },
   {
    "duration": 21,
    "start_time": "2024-11-08T14:38:59.628Z"
   },
   {
    "duration": 16,
    "start_time": "2024-11-08T14:39:18.828Z"
   },
   {
    "duration": 27,
    "start_time": "2024-11-08T14:39:22.733Z"
   },
   {
    "duration": 4,
    "start_time": "2024-11-08T14:39:52.821Z"
   },
   {
    "duration": 17,
    "start_time": "2024-11-08T14:40:06.083Z"
   },
   {
    "duration": 21,
    "start_time": "2024-11-08T14:40:07.310Z"
   },
   {
    "duration": 30,
    "start_time": "2024-11-08T14:42:57.911Z"
   },
   {
    "duration": 10,
    "start_time": "2024-11-08T14:43:09.087Z"
   },
   {
    "duration": 22,
    "start_time": "2024-11-08T14:43:17.263Z"
   },
   {
    "duration": 23,
    "start_time": "2024-11-08T14:43:55.312Z"
   },
   {
    "duration": 180,
    "start_time": "2024-11-08T14:45:26.666Z"
   },
   {
    "duration": 168,
    "start_time": "2024-11-08T14:46:16.905Z"
   },
   {
    "duration": 157,
    "start_time": "2024-11-08T14:46:24.481Z"
   },
   {
    "duration": 183,
    "start_time": "2024-11-08T14:46:37.714Z"
   },
   {
    "duration": 320,
    "start_time": "2024-11-08T14:46:58.074Z"
   },
   {
    "duration": 279,
    "start_time": "2024-11-08T14:47:10.473Z"
   },
   {
    "duration": 519,
    "start_time": "2024-11-08T14:47:22.746Z"
   },
   {
    "duration": 326,
    "start_time": "2024-11-08T14:47:58.602Z"
   },
   {
    "duration": 355,
    "start_time": "2024-11-08T14:48:07.435Z"
   },
   {
    "duration": 341,
    "start_time": "2024-11-08T14:48:14.594Z"
   },
   {
    "duration": 378,
    "start_time": "2024-11-08T14:56:50.969Z"
   },
   {
    "duration": 685,
    "start_time": "2024-11-09T12:03:13.957Z"
   },
   {
    "duration": 69,
    "start_time": "2024-11-09T12:03:14.645Z"
   },
   {
    "duration": 52,
    "start_time": "2024-11-09T12:03:14.716Z"
   },
   {
    "duration": 8,
    "start_time": "2024-11-09T12:03:14.770Z"
   },
   {
    "duration": 40,
    "start_time": "2024-11-09T12:03:14.780Z"
   },
   {
    "duration": 20,
    "start_time": "2024-11-09T12:03:14.822Z"
   },
   {
    "duration": 13,
    "start_time": "2024-11-09T12:03:14.843Z"
   },
   {
    "duration": 6,
    "start_time": "2024-11-09T12:03:14.858Z"
   },
   {
    "duration": 5,
    "start_time": "2024-11-09T12:03:14.866Z"
   },
   {
    "duration": 310,
    "start_time": "2024-11-09T12:03:14.874Z"
   },
   {
    "duration": 90,
    "start_time": "2024-11-09T12:03:15.186Z"
   },
   {
    "duration": 3,
    "start_time": "2024-11-09T12:03:15.278Z"
   },
   {
    "duration": 25,
    "start_time": "2024-11-09T12:03:15.282Z"
   },
   {
    "duration": 189,
    "start_time": "2024-11-09T12:03:15.309Z"
   },
   {
    "duration": 189,
    "start_time": "2024-11-09T12:03:15.500Z"
   },
   {
    "duration": 264,
    "start_time": "2024-11-09T12:03:15.692Z"
   },
   {
    "duration": 211,
    "start_time": "2024-11-09T12:03:15.958Z"
   },
   {
    "duration": 18,
    "start_time": "2024-11-09T12:03:16.171Z"
   },
   {
    "duration": 36,
    "start_time": "2024-11-09T12:03:16.191Z"
   },
   {
    "duration": 26,
    "start_time": "2024-11-09T12:03:16.229Z"
   },
   {
    "duration": 28,
    "start_time": "2024-11-09T12:03:16.257Z"
   },
   {
    "duration": 67,
    "start_time": "2024-11-09T12:03:16.287Z"
   },
   {
    "duration": 200,
    "start_time": "2024-11-09T12:07:12.603Z"
   },
   {
    "duration": 73,
    "start_time": "2024-11-09T12:08:02.421Z"
   },
   {
    "duration": 193,
    "start_time": "2024-11-09T12:08:12.827Z"
   },
   {
    "duration": 196,
    "start_time": "2024-11-09T12:08:55.493Z"
   },
   {
    "duration": 271,
    "start_time": "2024-11-09T12:09:16.789Z"
   },
   {
    "duration": 381,
    "start_time": "2024-11-09T12:09:25.147Z"
   },
   {
    "duration": 3,
    "start_time": "2024-11-09T12:13:03.138Z"
   },
   {
    "duration": 4,
    "start_time": "2024-11-09T12:13:09.597Z"
   },
   {
    "duration": 8,
    "start_time": "2024-11-09T12:13:16.393Z"
   },
   {
    "duration": 4,
    "start_time": "2024-11-09T12:13:36.605Z"
   },
   {
    "duration": 5,
    "start_time": "2024-11-09T12:13:39.972Z"
   },
   {
    "duration": 4,
    "start_time": "2024-11-09T12:13:50.646Z"
   },
   {
    "duration": 4,
    "start_time": "2024-11-09T12:14:30.054Z"
   },
   {
    "duration": 4,
    "start_time": "2024-11-09T12:14:40.450Z"
   },
   {
    "duration": 8,
    "start_time": "2024-11-09T12:14:43.630Z"
   },
   {
    "duration": 4,
    "start_time": "2024-11-09T12:15:33.562Z"
   },
   {
    "duration": 7,
    "start_time": "2024-11-09T12:15:46.707Z"
   },
   {
    "duration": 4,
    "start_time": "2024-11-09T12:16:11.614Z"
   },
   {
    "duration": 8,
    "start_time": "2024-11-09T12:16:20.296Z"
   },
   {
    "duration": 89,
    "start_time": "2024-11-09T12:16:27.122Z"
   },
   {
    "duration": 3,
    "start_time": "2024-11-09T12:16:30.453Z"
   },
   {
    "duration": 4,
    "start_time": "2024-11-09T12:16:53.910Z"
   },
   {
    "duration": 3,
    "start_time": "2024-11-09T12:17:21.136Z"
   },
   {
    "duration": 6,
    "start_time": "2024-11-09T12:17:30.571Z"
   },
   {
    "duration": 4,
    "start_time": "2024-11-09T12:18:56.687Z"
   },
   {
    "duration": 181,
    "start_time": "2024-11-09T12:19:00.959Z"
   },
   {
    "duration": 159,
    "start_time": "2024-11-09T12:20:00.191Z"
   },
   {
    "duration": 9,
    "start_time": "2024-11-09T12:21:12.947Z"
   },
   {
    "duration": 165,
    "start_time": "2024-11-09T12:21:26.147Z"
   },
   {
    "duration": 181,
    "start_time": "2024-11-09T12:21:44.232Z"
   },
   {
    "duration": 291,
    "start_time": "2024-11-09T12:21:52.572Z"
   },
   {
    "duration": 161,
    "start_time": "2024-11-09T12:22:01.034Z"
   },
   {
    "duration": 656,
    "start_time": "2024-11-09T12:22:05.259Z"
   },
   {
    "duration": 613,
    "start_time": "2024-11-09T12:22:17.354Z"
   },
   {
    "duration": 579,
    "start_time": "2024-11-09T12:26:31.227Z"
   },
   {
    "duration": 776,
    "start_time": "2024-11-09T12:26:39.093Z"
   },
   {
    "duration": 598,
    "start_time": "2024-11-09T12:26:47.767Z"
   },
   {
    "duration": 526,
    "start_time": "2024-11-09T12:26:53.903Z"
   },
   {
    "duration": 770,
    "start_time": "2024-11-09T12:26:59.162Z"
   },
   {
    "duration": 577,
    "start_time": "2024-11-09T12:27:11.233Z"
   },
   {
    "duration": 596,
    "start_time": "2024-11-09T12:32:33.939Z"
   },
   {
    "duration": 5,
    "start_time": "2024-11-09T13:00:42.087Z"
   },
   {
    "duration": 591,
    "start_time": "2024-11-09T13:00:56.610Z"
   },
   {
    "duration": 819,
    "start_time": "2024-11-09T13:02:13.738Z"
   },
   {
    "duration": 616,
    "start_time": "2024-11-09T13:02:32.496Z"
   },
   {
    "duration": 30,
    "start_time": "2024-11-09T13:04:48.118Z"
   },
   {
    "duration": 18,
    "start_time": "2024-11-09T13:04:52.742Z"
   },
   {
    "duration": 628,
    "start_time": "2024-11-09T13:05:58.503Z"
   },
   {
    "duration": 12,
    "start_time": "2024-11-09T13:07:49.026Z"
   },
   {
    "duration": 8,
    "start_time": "2024-11-09T13:07:51.055Z"
   },
   {
    "duration": 15,
    "start_time": "2024-11-09T13:07:59.018Z"
   },
   {
    "duration": 862,
    "start_time": "2024-11-09T13:08:01.189Z"
   },
   {
    "duration": 698,
    "start_time": "2024-11-09T13:08:12.570Z"
   },
   {
    "duration": 654,
    "start_time": "2024-11-09T13:08:32.800Z"
   },
   {
    "duration": 12,
    "start_time": "2024-11-09T13:17:08.585Z"
   },
   {
    "duration": 12,
    "start_time": "2024-11-09T13:17:19.482Z"
   },
   {
    "duration": 15,
    "start_time": "2024-11-09T13:17:25.961Z"
   },
   {
    "duration": 18,
    "start_time": "2024-11-09T13:17:36.147Z"
   },
   {
    "duration": 16,
    "start_time": "2024-11-09T13:17:47.953Z"
   },
   {
    "duration": 28,
    "start_time": "2024-11-09T13:18:28.627Z"
   },
   {
    "duration": 27,
    "start_time": "2024-11-09T13:18:36.729Z"
   },
   {
    "duration": 23,
    "start_time": "2024-11-09T13:19:15.360Z"
   },
   {
    "duration": 31,
    "start_time": "2024-11-09T13:19:24.814Z"
   },
   {
    "duration": 25,
    "start_time": "2024-11-09T13:19:38.875Z"
   },
   {
    "duration": 19,
    "start_time": "2024-11-09T13:20:32.438Z"
   },
   {
    "duration": 24,
    "start_time": "2024-11-09T13:20:41.140Z"
   },
   {
    "duration": 7,
    "start_time": "2024-11-09T13:21:32.586Z"
   },
   {
    "duration": 135,
    "start_time": "2024-11-09T13:23:48.105Z"
   },
   {
    "duration": 22,
    "start_time": "2024-11-09T13:24:10.709Z"
   },
   {
    "duration": 12,
    "start_time": "2024-11-09T13:28:02.940Z"
   },
   {
    "duration": 22,
    "start_time": "2024-11-09T13:28:10.925Z"
   },
   {
    "duration": 13,
    "start_time": "2024-11-09T13:28:48.175Z"
   },
   {
    "duration": 20,
    "start_time": "2024-11-09T13:28:54.948Z"
   },
   {
    "duration": 14,
    "start_time": "2024-11-09T13:29:04.697Z"
   },
   {
    "duration": 17,
    "start_time": "2024-11-09T13:29:36.042Z"
   },
   {
    "duration": 19,
    "start_time": "2024-11-09T13:30:18.457Z"
   },
   {
    "duration": 16,
    "start_time": "2024-11-09T13:30:30.981Z"
   },
   {
    "duration": 35,
    "start_time": "2024-11-09T13:31:08.006Z"
   },
   {
    "duration": 14,
    "start_time": "2024-11-09T13:31:47.452Z"
   },
   {
    "duration": 10,
    "start_time": "2024-11-09T13:31:57.239Z"
   },
   {
    "duration": 10,
    "start_time": "2024-11-09T13:32:12.152Z"
   },
   {
    "duration": 13,
    "start_time": "2024-11-09T13:32:23.348Z"
   },
   {
    "duration": 17,
    "start_time": "2024-11-09T13:33:06.834Z"
   },
   {
    "duration": 10,
    "start_time": "2024-11-09T13:33:21.891Z"
   },
   {
    "duration": 15,
    "start_time": "2024-11-09T13:33:28.113Z"
   },
   {
    "duration": 7,
    "start_time": "2024-11-09T13:34:16.587Z"
   },
   {
    "duration": 379,
    "start_time": "2024-11-09T13:34:30.057Z"
   },
   {
    "duration": 8,
    "start_time": "2024-11-09T13:34:40.008Z"
   },
   {
    "duration": 8,
    "start_time": "2024-11-09T13:35:19.460Z"
   },
   {
    "duration": 12,
    "start_time": "2024-11-09T13:35:53.039Z"
   },
   {
    "duration": 12,
    "start_time": "2024-11-09T13:36:00.112Z"
   },
   {
    "duration": 17,
    "start_time": "2024-11-09T13:36:09.208Z"
   },
   {
    "duration": 10,
    "start_time": "2024-11-09T13:36:18.283Z"
   },
   {
    "duration": 10,
    "start_time": "2024-11-09T13:36:52.871Z"
   },
   {
    "duration": 11,
    "start_time": "2024-11-09T13:37:05.868Z"
   },
   {
    "duration": 12,
    "start_time": "2024-11-09T13:37:29.256Z"
   },
   {
    "duration": 80,
    "start_time": "2024-11-09T13:37:41.017Z"
   },
   {
    "duration": 8,
    "start_time": "2024-11-09T13:38:43.166Z"
   },
   {
    "duration": 6,
    "start_time": "2024-11-09T13:38:46.307Z"
   },
   {
    "duration": 8,
    "start_time": "2024-11-09T13:38:53.858Z"
   },
   {
    "duration": 4,
    "start_time": "2024-11-09T13:39:09.463Z"
   },
   {
    "duration": 77,
    "start_time": "2024-11-09T13:39:23.429Z"
   },
   {
    "duration": 7,
    "start_time": "2024-11-09T13:39:30.206Z"
   },
   {
    "duration": 11,
    "start_time": "2024-11-09T13:40:10.116Z"
   },
   {
    "duration": 7,
    "start_time": "2024-11-09T13:40:22.669Z"
   },
   {
    "duration": 9,
    "start_time": "2024-11-09T13:41:09.381Z"
   },
   {
    "duration": 16,
    "start_time": "2024-11-09T13:41:31.558Z"
   },
   {
    "duration": 13,
    "start_time": "2024-11-09T13:41:43.499Z"
   },
   {
    "duration": 22,
    "start_time": "2024-11-09T13:41:51.835Z"
   },
   {
    "duration": 21,
    "start_time": "2024-11-09T13:41:58.231Z"
   },
   {
    "duration": 87,
    "start_time": "2024-11-09T13:42:26.286Z"
   },
   {
    "duration": 36,
    "start_time": "2024-11-09T13:42:35.922Z"
   },
   {
    "duration": 20,
    "start_time": "2024-11-09T13:42:48.238Z"
   },
   {
    "duration": 19,
    "start_time": "2024-11-09T13:43:13.944Z"
   },
   {
    "duration": 12,
    "start_time": "2024-11-09T13:43:44.457Z"
   },
   {
    "duration": 13,
    "start_time": "2024-11-09T13:43:47.668Z"
   },
   {
    "duration": 66,
    "start_time": "2024-11-09T13:49:51.599Z"
   },
   {
    "duration": 75,
    "start_time": "2024-11-09T13:50:01.341Z"
   },
   {
    "duration": 21,
    "start_time": "2024-11-09T13:50:29.883Z"
   },
   {
    "duration": 11,
    "start_time": "2024-11-09T13:52:17.604Z"
   },
   {
    "duration": 17,
    "start_time": "2024-11-09T13:52:33.256Z"
   },
   {
    "duration": 23,
    "start_time": "2024-11-09T13:52:58.967Z"
   },
   {
    "duration": 16,
    "start_time": "2024-11-09T13:53:01.153Z"
   },
   {
    "duration": 24,
    "start_time": "2024-11-09T13:53:25.246Z"
   },
   {
    "duration": 30,
    "start_time": "2024-11-09T13:53:27.439Z"
   },
   {
    "duration": 16,
    "start_time": "2024-11-09T13:54:11.502Z"
   },
   {
    "duration": 15,
    "start_time": "2024-11-09T13:54:28.591Z"
   },
   {
    "duration": 20,
    "start_time": "2024-11-09T13:54:36.406Z"
   },
   {
    "duration": 16,
    "start_time": "2024-11-09T13:54:42.570Z"
   },
   {
    "duration": 13,
    "start_time": "2024-11-09T13:56:04.144Z"
   },
   {
    "duration": 4,
    "start_time": "2024-11-09T13:56:09.065Z"
   },
   {
    "duration": 18,
    "start_time": "2024-11-09T13:56:41.063Z"
   },
   {
    "duration": 19,
    "start_time": "2024-11-09T13:57:16.500Z"
   },
   {
    "duration": 14,
    "start_time": "2024-11-09T13:57:33.369Z"
   },
   {
    "duration": 14,
    "start_time": "2024-11-09T14:00:14.979Z"
   },
   {
    "duration": 17,
    "start_time": "2024-11-09T14:01:55.139Z"
   },
   {
    "duration": 15,
    "start_time": "2024-11-09T14:02:11.145Z"
   },
   {
    "duration": 3,
    "start_time": "2024-11-09T14:02:14.679Z"
   },
   {
    "duration": 16,
    "start_time": "2024-11-09T14:02:24.143Z"
   },
   {
    "duration": 3,
    "start_time": "2024-11-09T14:02:29.282Z"
   },
   {
    "duration": 20,
    "start_time": "2024-11-09T14:02:40.156Z"
   },
   {
    "duration": 13,
    "start_time": "2024-11-09T14:02:45.768Z"
   },
   {
    "duration": 3,
    "start_time": "2024-11-09T14:03:24.882Z"
   },
   {
    "duration": 15,
    "start_time": "2024-11-09T14:03:27.691Z"
   },
   {
    "duration": 22,
    "start_time": "2024-11-09T14:04:05.532Z"
   },
   {
    "duration": 5,
    "start_time": "2024-11-09T14:04:24.762Z"
   },
   {
    "duration": 15,
    "start_time": "2024-11-09T14:04:27.156Z"
   },
   {
    "duration": 47,
    "start_time": "2024-11-09T14:10:55.223Z"
   },
   {
    "duration": 20,
    "start_time": "2024-11-09T14:12:10.853Z"
   },
   {
    "duration": 26,
    "start_time": "2024-11-09T14:14:27.414Z"
   },
   {
    "duration": 18,
    "start_time": "2024-11-09T14:14:37.052Z"
   },
   {
    "duration": 20,
    "start_time": "2024-11-09T14:16:38.655Z"
   },
   {
    "duration": 13,
    "start_time": "2024-11-09T14:16:42.704Z"
   },
   {
    "duration": 5,
    "start_time": "2024-11-09T14:18:46.161Z"
   },
   {
    "duration": 14,
    "start_time": "2024-11-09T14:18:57.689Z"
   },
   {
    "duration": 4,
    "start_time": "2024-11-09T14:20:03.047Z"
   },
   {
    "duration": 11,
    "start_time": "2024-11-09T14:20:10.045Z"
   },
   {
    "duration": 1335,
    "start_time": "2024-11-09T14:21:27.724Z"
   },
   {
    "duration": 13,
    "start_time": "2024-11-09T14:21:29.367Z"
   },
   {
    "duration": 19,
    "start_time": "2024-11-09T14:21:38.843Z"
   },
   {
    "duration": 5,
    "start_time": "2024-11-09T14:21:40.659Z"
   },
   {
    "duration": 5,
    "start_time": "2024-11-09T14:21:43.078Z"
   },
   {
    "duration": 11,
    "start_time": "2024-11-09T14:21:45.346Z"
   },
   {
    "duration": 8,
    "start_time": "2024-11-09T14:22:01.493Z"
   },
   {
    "duration": 22,
    "start_time": "2024-11-09T14:22:09.530Z"
   },
   {
    "duration": 687,
    "start_time": "2024-11-09T21:52:34.207Z"
   },
   {
    "duration": 70,
    "start_time": "2024-11-09T21:52:34.896Z"
   },
   {
    "duration": 57,
    "start_time": "2024-11-09T21:52:34.968Z"
   },
   {
    "duration": 9,
    "start_time": "2024-11-09T21:52:35.027Z"
   },
   {
    "duration": 8,
    "start_time": "2024-11-09T21:52:35.039Z"
   },
   {
    "duration": 27,
    "start_time": "2024-11-09T21:52:35.049Z"
   },
   {
    "duration": 52,
    "start_time": "2024-11-09T21:52:35.078Z"
   },
   {
    "duration": 15,
    "start_time": "2024-11-09T21:52:35.132Z"
   },
   {
    "duration": 6,
    "start_time": "2024-11-09T21:52:35.149Z"
   },
   {
    "duration": 247,
    "start_time": "2024-11-09T21:52:35.157Z"
   },
   {
    "duration": 99,
    "start_time": "2024-11-09T21:52:35.406Z"
   },
   {
    "duration": 3,
    "start_time": "2024-11-09T21:52:35.521Z"
   },
   {
    "duration": 23,
    "start_time": "2024-11-09T21:52:35.526Z"
   },
   {
    "duration": 190,
    "start_time": "2024-11-09T21:52:35.553Z"
   },
   {
    "duration": 198,
    "start_time": "2024-11-09T21:52:35.745Z"
   },
   {
    "duration": 6,
    "start_time": "2024-11-09T21:52:35.944Z"
   },
   {
    "duration": 633,
    "start_time": "2024-11-09T21:52:35.951Z"
   },
   {
    "duration": 18,
    "start_time": "2024-11-09T21:52:36.585Z"
   },
   {
    "duration": 35,
    "start_time": "2024-11-09T21:52:36.604Z"
   },
   {
    "duration": 25,
    "start_time": "2024-11-09T21:52:36.641Z"
   },
   {
    "duration": 17,
    "start_time": "2024-11-09T21:52:36.668Z"
   },
   {
    "duration": 609,
    "start_time": "2024-11-09T21:52:36.687Z"
   },
   {
    "duration": 561,
    "start_time": "2024-11-09T21:52:37.297Z"
   },
   {
    "duration": 18,
    "start_time": "2024-11-09T21:52:37.860Z"
   },
   {
    "duration": 12,
    "start_time": "2024-11-09T21:52:37.879Z"
   },
   {
    "duration": 30,
    "start_time": "2024-11-09T21:52:37.892Z"
   },
   {
    "duration": 23,
    "start_time": "2024-11-09T21:52:37.923Z"
   },
   {
    "duration": 22,
    "start_time": "2024-11-09T21:52:37.948Z"
   },
   {
    "duration": 5,
    "start_time": "2024-11-09T21:52:37.972Z"
   },
   {
    "duration": 5,
    "start_time": "2024-11-09T21:52:37.979Z"
   },
   {
    "duration": 37,
    "start_time": "2024-11-09T21:52:37.985Z"
   },
   {
    "duration": 9,
    "start_time": "2024-11-09T21:52:38.024Z"
   },
   {
    "duration": 15,
    "start_time": "2024-11-09T21:52:38.035Z"
   },
   {
    "duration": 10,
    "start_time": "2024-11-09T21:52:38.052Z"
   },
   {
    "duration": 71,
    "start_time": "2024-11-09T21:53:15.181Z"
   },
   {
    "duration": 263,
    "start_time": "2024-11-09T21:53:28.127Z"
   },
   {
    "duration": 13,
    "start_time": "2024-11-10T18:16:43.634Z"
   },
   {
    "duration": 23,
    "start_time": "2024-11-10T18:16:45.518Z"
   },
   {
    "duration": 1112,
    "start_time": "2024-11-10T18:18:41.425Z"
   },
   {
    "duration": 20,
    "start_time": "2024-11-10T18:19:01.156Z"
   },
   {
    "duration": 7,
    "start_time": "2024-11-10T18:19:03.276Z"
   },
   {
    "duration": 6,
    "start_time": "2024-11-10T18:19:05.545Z"
   },
   {
    "duration": 14,
    "start_time": "2024-11-10T18:19:07.407Z"
   },
   {
    "duration": 11,
    "start_time": "2024-11-10T18:19:09.687Z"
   },
   {
    "duration": 18,
    "start_time": "2024-11-10T18:19:14.609Z"
   },
   {
    "duration": 22,
    "start_time": "2024-11-10T18:19:27.309Z"
   },
   {
    "duration": 10,
    "start_time": "2024-11-10T18:19:36.201Z"
   },
   {
    "duration": 23,
    "start_time": "2024-11-10T18:19:47.809Z"
   },
   {
    "duration": 6,
    "start_time": "2024-11-10T18:19:49.537Z"
   },
   {
    "duration": 6,
    "start_time": "2024-11-10T18:19:52.040Z"
   },
   {
    "duration": 15,
    "start_time": "2024-11-10T18:19:53.773Z"
   },
   {
    "duration": 11,
    "start_time": "2024-11-10T18:19:57.185Z"
   },
   {
    "duration": 23,
    "start_time": "2024-11-10T18:20:00.055Z"
   },
   {
    "duration": 266,
    "start_time": "2024-11-10T18:20:02.769Z"
   },
   {
    "duration": 307,
    "start_time": "2024-11-10T18:20:10.957Z"
   },
   {
    "duration": 417,
    "start_time": "2024-11-10T18:21:16.096Z"
   },
   {
    "duration": 21,
    "start_time": "2024-11-10T20:55:16.922Z"
   },
   {
    "duration": 472,
    "start_time": "2024-11-10T20:57:13.856Z"
   },
   {
    "duration": 8,
    "start_time": "2024-11-10T21:05:06.234Z"
   },
   {
    "duration": 5,
    "start_time": "2024-11-10T21:05:13.797Z"
   },
   {
    "duration": 5,
    "start_time": "2024-11-10T21:05:17.063Z"
   },
   {
    "duration": 6,
    "start_time": "2024-11-10T21:05:17.605Z"
   },
   {
    "duration": 6,
    "start_time": "2024-11-10T21:05:18.033Z"
   },
   {
    "duration": 5,
    "start_time": "2024-11-10T21:05:18.478Z"
   },
   {
    "duration": 6,
    "start_time": "2024-11-10T21:05:18.933Z"
   },
   {
    "duration": 5,
    "start_time": "2024-11-10T21:05:19.376Z"
   },
   {
    "duration": 6,
    "start_time": "2024-11-10T21:05:19.822Z"
   },
   {
    "duration": 32,
    "start_time": "2024-11-10T21:06:07.482Z"
   },
   {
    "duration": 5,
    "start_time": "2024-11-10T21:06:24.225Z"
   },
   {
    "duration": 4,
    "start_time": "2024-11-10T21:06:43.607Z"
   },
   {
    "duration": 5,
    "start_time": "2024-11-10T21:09:10.408Z"
   },
   {
    "duration": 6,
    "start_time": "2024-11-10T21:09:16.460Z"
   },
   {
    "duration": 6,
    "start_time": "2024-11-10T21:09:18.426Z"
   },
   {
    "duration": 5,
    "start_time": "2024-11-10T21:09:18.810Z"
   },
   {
    "duration": 5,
    "start_time": "2024-11-10T21:09:19.194Z"
   },
   {
    "duration": 6,
    "start_time": "2024-11-10T21:09:19.579Z"
   },
   {
    "duration": 6,
    "start_time": "2024-11-10T21:09:20.017Z"
   },
   {
    "duration": 6,
    "start_time": "2024-11-10T21:10:35.560Z"
   },
   {
    "duration": 5,
    "start_time": "2024-11-10T21:10:41.447Z"
   },
   {
    "duration": 6,
    "start_time": "2024-11-10T21:11:31.594Z"
   },
   {
    "duration": 7,
    "start_time": "2024-11-10T21:11:32.555Z"
   },
   {
    "duration": 6,
    "start_time": "2024-11-10T21:11:33.285Z"
   },
   {
    "duration": 6,
    "start_time": "2024-11-10T21:11:33.576Z"
   },
   {
    "duration": 36,
    "start_time": "2024-11-10T21:15:42.327Z"
   },
   {
    "duration": 7,
    "start_time": "2024-11-10T21:15:45.204Z"
   },
   {
    "duration": 6,
    "start_time": "2024-11-10T21:16:31.984Z"
   },
   {
    "duration": 6,
    "start_time": "2024-11-10T21:16:47.510Z"
   },
   {
    "duration": 1242,
    "start_time": "2024-11-11T12:58:50.680Z"
   },
   {
    "duration": 79,
    "start_time": "2024-11-11T12:58:51.925Z"
   },
   {
    "duration": 56,
    "start_time": "2024-11-11T12:58:52.006Z"
   },
   {
    "duration": 7,
    "start_time": "2024-11-11T12:58:52.064Z"
   },
   {
    "duration": 23,
    "start_time": "2024-11-11T12:58:52.072Z"
   },
   {
    "duration": 38,
    "start_time": "2024-11-11T12:58:52.096Z"
   },
   {
    "duration": 17,
    "start_time": "2024-11-11T12:58:52.136Z"
   },
   {
    "duration": 17,
    "start_time": "2024-11-11T12:58:52.155Z"
   },
   {
    "duration": 12,
    "start_time": "2024-11-11T12:58:52.173Z"
   },
   {
    "duration": 254,
    "start_time": "2024-11-11T12:58:52.188Z"
   },
   {
    "duration": 115,
    "start_time": "2024-11-11T12:58:52.444Z"
   },
   {
    "duration": 4,
    "start_time": "2024-11-11T12:58:52.561Z"
   },
   {
    "duration": 23,
    "start_time": "2024-11-11T12:58:52.566Z"
   },
   {
    "duration": 193,
    "start_time": "2024-11-11T12:58:52.591Z"
   },
   {
    "duration": 205,
    "start_time": "2024-11-11T12:58:52.786Z"
   },
   {
    "duration": 5,
    "start_time": "2024-11-11T12:58:52.994Z"
   },
   {
    "duration": 593,
    "start_time": "2024-11-11T12:58:53.001Z"
   },
   {
    "duration": 30,
    "start_time": "2024-11-11T12:58:53.596Z"
   },
   {
    "duration": 23,
    "start_time": "2024-11-11T12:58:53.627Z"
   },
   {
    "duration": 22,
    "start_time": "2024-11-11T12:58:53.651Z"
   },
   {
    "duration": 19,
    "start_time": "2024-11-11T12:58:53.675Z"
   },
   {
    "duration": 796,
    "start_time": "2024-11-11T12:58:53.696Z"
   },
   {
    "duration": 594,
    "start_time": "2024-11-11T12:58:54.494Z"
   },
   {
    "duration": 35,
    "start_time": "2024-11-11T12:58:55.090Z"
   },
   {
    "duration": 22,
    "start_time": "2024-11-11T12:58:55.127Z"
   },
   {
    "duration": 20,
    "start_time": "2024-11-11T12:58:55.151Z"
   },
   {
    "duration": 24,
    "start_time": "2024-11-11T12:58:55.173Z"
   },
   {
    "duration": 20,
    "start_time": "2024-11-11T12:58:55.201Z"
   },
   {
    "duration": 22,
    "start_time": "2024-11-11T12:58:55.222Z"
   },
   {
    "duration": 7,
    "start_time": "2024-11-11T12:58:55.246Z"
   },
   {
    "duration": 12,
    "start_time": "2024-11-11T12:58:55.255Z"
   },
   {
    "duration": 15,
    "start_time": "2024-11-11T12:58:55.269Z"
   },
   {
    "duration": 17,
    "start_time": "2024-11-11T12:58:55.285Z"
   },
   {
    "duration": 314,
    "start_time": "2024-11-11T12:58:55.304Z"
   },
   {
    "duration": 3,
    "start_time": "2024-11-11T12:58:55.623Z"
   },
   {
    "duration": 27,
    "start_time": "2024-11-11T12:58:55.628Z"
   },
   {
    "duration": 5,
    "start_time": "2024-11-11T12:58:55.657Z"
   },
   {
    "duration": 5,
    "start_time": "2024-11-11T13:06:02.859Z"
   },
   {
    "duration": 5,
    "start_time": "2024-11-11T13:06:40.442Z"
   },
   {
    "duration": 298,
    "start_time": "2024-11-12T14:40:52.435Z"
   },
   {
    "duration": 17,
    "start_time": "2024-11-12T14:45:18.861Z"
   },
   {
    "duration": 900,
    "start_time": "2024-11-12T14:46:52.054Z"
   },
   {
    "duration": 6,
    "start_time": "2024-11-12T14:46:59.085Z"
   },
   {
    "duration": 5,
    "start_time": "2024-11-12T14:47:00.939Z"
   },
   {
    "duration": 11,
    "start_time": "2024-11-12T14:47:02.765Z"
   },
   {
    "duration": 4,
    "start_time": "2024-11-12T14:47:15.646Z"
   },
   {
    "duration": 15,
    "start_time": "2024-11-12T14:47:17.846Z"
   },
   {
    "duration": 919,
    "start_time": "2024-11-12T14:47:19.516Z"
   },
   {
    "duration": 5,
    "start_time": "2024-11-12T14:47:21.500Z"
   },
   {
    "duration": 6,
    "start_time": "2024-11-12T14:47:23.633Z"
   },
   {
    "duration": 11,
    "start_time": "2024-11-12T14:47:26.165Z"
   },
   {
    "duration": 11,
    "start_time": "2024-11-12T14:47:59.540Z"
   },
   {
    "duration": 18,
    "start_time": "2024-11-12T14:48:01.053Z"
   },
   {
    "duration": 143,
    "start_time": "2024-11-12T14:49:21.975Z"
   },
   {
    "duration": 16,
    "start_time": "2024-11-12T14:50:40.398Z"
   },
   {
    "duration": 1026,
    "start_time": "2024-11-12T14:50:46.342Z"
   },
   {
    "duration": 19,
    "start_time": "2024-11-12T14:51:22.183Z"
   },
   {
    "duration": 20,
    "start_time": "2024-11-12T14:51:23.671Z"
   },
   {
    "duration": 20,
    "start_time": "2024-11-12T14:51:25.854Z"
   },
   {
    "duration": 18,
    "start_time": "2024-11-12T14:51:27.536Z"
   },
   {
    "duration": 608,
    "start_time": "2024-11-12T14:51:29.078Z"
   },
   {
    "duration": 591,
    "start_time": "2024-11-12T14:51:31.222Z"
   },
   {
    "duration": 20,
    "start_time": "2024-11-12T14:51:34.174Z"
   },
   {
    "duration": 14,
    "start_time": "2024-11-12T14:51:36.070Z"
   },
   {
    "duration": 5,
    "start_time": "2024-11-12T14:51:37.862Z"
   },
   {
    "duration": 17,
    "start_time": "2024-11-12T14:51:39.143Z"
   },
   {
    "duration": 883,
    "start_time": "2024-11-12T14:51:42.790Z"
   },
   {
    "duration": 7,
    "start_time": "2024-11-12T14:51:44.751Z"
   },
   {
    "duration": 5,
    "start_time": "2024-11-12T14:51:46.639Z"
   },
   {
    "duration": 17,
    "start_time": "2024-11-12T14:51:47.894Z"
   },
   {
    "duration": 10,
    "start_time": "2024-11-12T14:51:50.127Z"
   },
   {
    "duration": 17,
    "start_time": "2024-11-12T14:51:51.894Z"
   },
   {
    "duration": 10,
    "start_time": "2024-11-12T14:52:02.655Z"
   },
   {
    "duration": 11,
    "start_time": "2024-11-12T14:52:21.441Z"
   },
   {
    "duration": 176,
    "start_time": "2024-11-13T13:00:54.910Z"
   },
   {
    "duration": 5,
    "start_time": "2024-11-13T13:01:11.456Z"
   },
   {
    "duration": 5,
    "start_time": "2024-11-13T13:01:25.711Z"
   },
   {
    "duration": 4,
    "start_time": "2024-11-13T13:01:37.937Z"
   },
   {
    "duration": 171,
    "start_time": "2024-11-13T13:17:06.174Z"
   },
   {
    "duration": 5,
    "start_time": "2024-11-13T13:17:14.940Z"
   },
   {
    "duration": 5,
    "start_time": "2024-11-13T13:17:20.876Z"
   },
   {
    "duration": 11,
    "start_time": "2024-11-13T13:20:09.994Z"
   },
   {
    "duration": 12,
    "start_time": "2024-11-13T16:17:11.533Z"
   },
   {
    "duration": 1205,
    "start_time": "2024-11-13T16:21:32.221Z"
   },
   {
    "duration": 69,
    "start_time": "2024-11-13T16:21:33.428Z"
   },
   {
    "duration": 48,
    "start_time": "2024-11-13T16:21:33.499Z"
   },
   {
    "duration": 7,
    "start_time": "2024-11-13T16:21:33.549Z"
   },
   {
    "duration": 6,
    "start_time": "2024-11-13T16:21:33.558Z"
   },
   {
    "duration": 57,
    "start_time": "2024-11-13T16:21:33.566Z"
   },
   {
    "duration": 10,
    "start_time": "2024-11-13T16:21:33.624Z"
   },
   {
    "duration": 5,
    "start_time": "2024-11-13T16:21:33.636Z"
   },
   {
    "duration": 4,
    "start_time": "2024-11-13T16:21:33.642Z"
   },
   {
    "duration": 276,
    "start_time": "2024-11-13T16:21:33.651Z"
   },
   {
    "duration": 113,
    "start_time": "2024-11-13T16:21:33.929Z"
   },
   {
    "duration": 3,
    "start_time": "2024-11-13T16:21:34.044Z"
   },
   {
    "duration": 24,
    "start_time": "2024-11-13T16:21:34.049Z"
   },
   {
    "duration": 187,
    "start_time": "2024-11-13T16:21:34.075Z"
   },
   {
    "duration": 186,
    "start_time": "2024-11-13T16:21:34.263Z"
   },
   {
    "duration": 6,
    "start_time": "2024-11-13T16:21:34.450Z"
   },
   {
    "duration": 736,
    "start_time": "2024-11-13T16:21:34.457Z"
   },
   {
    "duration": 39,
    "start_time": "2024-11-13T16:21:35.194Z"
   },
   {
    "duration": 27,
    "start_time": "2024-11-13T16:21:35.236Z"
   },
   {
    "duration": 18,
    "start_time": "2024-11-13T16:21:35.265Z"
   },
   {
    "duration": 55,
    "start_time": "2024-11-13T16:21:35.285Z"
   },
   {
    "duration": 722,
    "start_time": "2024-11-13T16:21:35.342Z"
   },
   {
    "duration": 627,
    "start_time": "2024-11-13T16:21:36.066Z"
   },
   {
    "duration": 37,
    "start_time": "2024-11-13T16:21:36.695Z"
   },
   {
    "duration": 17,
    "start_time": "2024-11-13T16:21:36.734Z"
   },
   {
    "duration": 27,
    "start_time": "2024-11-13T16:21:36.753Z"
   },
   {
    "duration": 26,
    "start_time": "2024-11-13T16:21:36.782Z"
   },
   {
    "duration": 924,
    "start_time": "2024-11-13T16:21:36.811Z"
   },
   {
    "duration": 5,
    "start_time": "2024-11-13T16:21:37.737Z"
   },
   {
    "duration": 29,
    "start_time": "2024-11-13T16:21:37.744Z"
   },
   {
    "duration": 30,
    "start_time": "2024-11-13T16:21:37.775Z"
   },
   {
    "duration": 16,
    "start_time": "2024-11-13T16:21:37.807Z"
   },
   {
    "duration": 26,
    "start_time": "2024-11-13T16:21:37.825Z"
   },
   {
    "duration": 294,
    "start_time": "2024-11-13T16:21:37.856Z"
   },
   {
    "duration": 3,
    "start_time": "2024-11-13T16:21:38.152Z"
   },
   {
    "duration": 12,
    "start_time": "2024-11-13T16:21:38.157Z"
   },
   {
    "duration": 20,
    "start_time": "2024-11-13T16:21:38.171Z"
   },
   {
    "duration": 30,
    "start_time": "2024-11-13T16:21:38.193Z"
   },
   {
    "duration": 9,
    "start_time": "2024-11-13T16:21:38.224Z"
   },
   {
    "duration": 22,
    "start_time": "2024-11-13T16:21:38.234Z"
   },
   {
    "duration": 22,
    "start_time": "2024-11-13T16:22:55.759Z"
   },
   {
    "duration": 16,
    "start_time": "2024-11-13T16:23:59.994Z"
   },
   {
    "duration": 108,
    "start_time": "2024-11-13T16:24:48.273Z"
   },
   {
    "duration": 8,
    "start_time": "2024-11-13T16:24:58.930Z"
   },
   {
    "duration": 10,
    "start_time": "2024-11-13T16:25:01.022Z"
   },
   {
    "duration": 881,
    "start_time": "2024-11-13T16:25:06.329Z"
   },
   {
    "duration": 5,
    "start_time": "2024-11-13T16:25:09.563Z"
   },
   {
    "duration": 15,
    "start_time": "2024-11-13T16:25:11.274Z"
   },
   {
    "duration": 15,
    "start_time": "2024-11-13T16:25:39.007Z"
   },
   {
    "duration": 6,
    "start_time": "2024-11-13T16:27:01.384Z"
   },
   {
    "duration": 1204,
    "start_time": "2024-11-13T16:29:32.499Z"
   },
   {
    "duration": 72,
    "start_time": "2024-11-13T16:29:33.704Z"
   },
   {
    "duration": 53,
    "start_time": "2024-11-13T16:29:33.778Z"
   },
   {
    "duration": 9,
    "start_time": "2024-11-13T16:29:33.833Z"
   },
   {
    "duration": 16,
    "start_time": "2024-11-13T16:29:33.844Z"
   },
   {
    "duration": 29,
    "start_time": "2024-11-13T16:29:33.861Z"
   },
   {
    "duration": 10,
    "start_time": "2024-11-13T16:29:33.920Z"
   },
   {
    "duration": 21,
    "start_time": "2024-11-13T16:29:33.932Z"
   },
   {
    "duration": 37,
    "start_time": "2024-11-13T16:29:33.954Z"
   },
   {
    "duration": 232,
    "start_time": "2024-11-13T16:29:33.993Z"
   },
   {
    "duration": 110,
    "start_time": "2024-11-13T16:29:34.227Z"
   },
   {
    "duration": 3,
    "start_time": "2024-11-13T16:29:34.339Z"
   },
   {
    "duration": 27,
    "start_time": "2024-11-13T16:29:34.344Z"
   },
   {
    "duration": 203,
    "start_time": "2024-11-13T16:29:34.375Z"
   },
   {
    "duration": 211,
    "start_time": "2024-11-13T16:29:34.580Z"
   },
   {
    "duration": 8,
    "start_time": "2024-11-13T16:29:34.793Z"
   },
   {
    "duration": 647,
    "start_time": "2024-11-13T16:29:34.803Z"
   },
   {
    "duration": 19,
    "start_time": "2024-11-13T16:29:35.452Z"
   },
   {
    "duration": 36,
    "start_time": "2024-11-13T16:29:35.473Z"
   },
   {
    "duration": 86,
    "start_time": "2024-11-13T16:29:35.521Z"
   },
   {
    "duration": 48,
    "start_time": "2024-11-13T16:29:35.609Z"
   },
   {
    "duration": 715,
    "start_time": "2024-11-13T16:29:35.659Z"
   },
   {
    "duration": 596,
    "start_time": "2024-11-13T16:29:36.377Z"
   },
   {
    "duration": 20,
    "start_time": "2024-11-13T16:29:36.974Z"
   },
   {
    "duration": 34,
    "start_time": "2024-11-13T16:29:36.995Z"
   },
   {
    "duration": 34,
    "start_time": "2024-11-13T16:29:37.030Z"
   },
   {
    "duration": 37,
    "start_time": "2024-11-13T16:29:37.065Z"
   },
   {
    "duration": 920,
    "start_time": "2024-11-13T16:29:37.104Z"
   },
   {
    "duration": 6,
    "start_time": "2024-11-13T16:29:38.025Z"
   },
   {
    "duration": 16,
    "start_time": "2024-11-13T16:29:38.033Z"
   },
   {
    "duration": 14,
    "start_time": "2024-11-13T16:29:38.051Z"
   },
   {
    "duration": 11,
    "start_time": "2024-11-13T16:29:38.066Z"
   },
   {
    "duration": 47,
    "start_time": "2024-11-13T16:29:38.079Z"
   },
   {
    "duration": 272,
    "start_time": "2024-11-13T16:29:38.128Z"
   },
   {
    "duration": 3,
    "start_time": "2024-11-13T16:29:38.401Z"
   },
   {
    "duration": 28,
    "start_time": "2024-11-13T16:29:38.406Z"
   },
   {
    "duration": 12,
    "start_time": "2024-11-13T16:29:38.435Z"
   },
   {
    "duration": 14,
    "start_time": "2024-11-13T16:29:38.449Z"
   },
   {
    "duration": 15,
    "start_time": "2024-11-13T16:29:38.465Z"
   },
   {
    "duration": 100,
    "start_time": "2024-11-13T16:29:38.482Z"
   },
   {
    "duration": 13,
    "start_time": "2024-11-13T16:31:19.872Z"
   },
   {
    "duration": 22,
    "start_time": "2024-11-13T16:31:33.591Z"
   },
   {
    "duration": 23,
    "start_time": "2024-11-13T16:32:39.047Z"
   },
   {
    "duration": 1185,
    "start_time": "2024-11-13T16:34:32.119Z"
   },
   {
    "duration": 71,
    "start_time": "2024-11-13T16:34:33.306Z"
   },
   {
    "duration": 51,
    "start_time": "2024-11-13T16:34:33.379Z"
   },
   {
    "duration": 10,
    "start_time": "2024-11-13T16:34:33.433Z"
   },
   {
    "duration": 9,
    "start_time": "2024-11-13T16:34:33.445Z"
   },
   {
    "duration": 38,
    "start_time": "2024-11-13T16:34:33.456Z"
   },
   {
    "duration": 30,
    "start_time": "2024-11-13T16:34:33.496Z"
   },
   {
    "duration": 85,
    "start_time": "2024-11-13T16:34:33.528Z"
   },
   {
    "duration": 13,
    "start_time": "2024-11-13T16:34:33.615Z"
   },
   {
    "duration": 228,
    "start_time": "2024-11-13T16:34:33.631Z"
   },
   {
    "duration": 111,
    "start_time": "2024-11-13T16:34:33.861Z"
   },
   {
    "duration": 4,
    "start_time": "2024-11-13T16:34:33.975Z"
   },
   {
    "duration": 9,
    "start_time": "2024-11-13T16:34:33.981Z"
   },
   {
    "duration": 198,
    "start_time": "2024-11-13T16:34:33.991Z"
   },
   {
    "duration": 222,
    "start_time": "2024-11-13T16:34:34.191Z"
   },
   {
    "duration": 6,
    "start_time": "2024-11-13T16:34:34.421Z"
   },
   {
    "duration": 622,
    "start_time": "2024-11-13T16:34:34.429Z"
   },
   {
    "duration": 20,
    "start_time": "2024-11-13T16:34:35.053Z"
   },
   {
    "duration": 52,
    "start_time": "2024-11-13T16:34:35.075Z"
   },
   {
    "duration": 26,
    "start_time": "2024-11-13T16:34:35.130Z"
   },
   {
    "duration": 25,
    "start_time": "2024-11-13T16:34:35.159Z"
   },
   {
    "duration": 739,
    "start_time": "2024-11-13T16:34:35.187Z"
   },
   {
    "duration": 618,
    "start_time": "2024-11-13T16:34:35.927Z"
   },
   {
    "duration": 120,
    "start_time": "2024-11-13T16:34:36.547Z"
   },
   {
    "duration": 0,
    "start_time": "2024-11-13T16:34:36.670Z"
   },
   {
    "duration": 0,
    "start_time": "2024-11-13T16:34:36.671Z"
   },
   {
    "duration": 0,
    "start_time": "2024-11-13T16:34:36.672Z"
   },
   {
    "duration": 0,
    "start_time": "2024-11-13T16:34:36.674Z"
   },
   {
    "duration": 0,
    "start_time": "2024-11-13T16:34:36.675Z"
   },
   {
    "duration": 0,
    "start_time": "2024-11-13T16:34:36.677Z"
   },
   {
    "duration": 0,
    "start_time": "2024-11-13T16:34:36.679Z"
   },
   {
    "duration": 0,
    "start_time": "2024-11-13T16:34:36.680Z"
   },
   {
    "duration": 0,
    "start_time": "2024-11-13T16:34:36.682Z"
   },
   {
    "duration": 0,
    "start_time": "2024-11-13T16:34:36.684Z"
   },
   {
    "duration": 0,
    "start_time": "2024-11-13T16:34:36.685Z"
   },
   {
    "duration": 0,
    "start_time": "2024-11-13T16:34:36.720Z"
   },
   {
    "duration": 0,
    "start_time": "2024-11-13T16:34:36.722Z"
   },
   {
    "duration": 0,
    "start_time": "2024-11-13T16:34:36.724Z"
   },
   {
    "duration": 0,
    "start_time": "2024-11-13T16:34:36.726Z"
   },
   {
    "duration": 0,
    "start_time": "2024-11-13T16:34:36.728Z"
   },
   {
    "duration": 4,
    "start_time": "2024-11-13T16:35:07.189Z"
   },
   {
    "duration": 3,
    "start_time": "2024-11-13T16:35:14.878Z"
   },
   {
    "duration": 74,
    "start_time": "2024-11-13T16:35:14.883Z"
   },
   {
    "duration": 62,
    "start_time": "2024-11-13T16:35:14.959Z"
   },
   {
    "duration": 23,
    "start_time": "2024-11-13T16:35:15.024Z"
   },
   {
    "duration": 59,
    "start_time": "2024-11-13T16:35:15.049Z"
   },
   {
    "duration": 96,
    "start_time": "2024-11-13T16:35:15.111Z"
   },
   {
    "duration": 75,
    "start_time": "2024-11-13T16:35:15.209Z"
   },
   {
    "duration": 27,
    "start_time": "2024-11-13T16:35:15.286Z"
   },
   {
    "duration": 59,
    "start_time": "2024-11-13T16:35:15.315Z"
   },
   {
    "duration": 231,
    "start_time": "2024-11-13T16:35:15.376Z"
   },
   {
    "duration": 112,
    "start_time": "2024-11-13T16:35:15.621Z"
   },
   {
    "duration": 4,
    "start_time": "2024-11-13T16:35:15.735Z"
   },
   {
    "duration": 28,
    "start_time": "2024-11-13T16:35:15.740Z"
   },
   {
    "duration": 213,
    "start_time": "2024-11-13T16:35:15.769Z"
   },
   {
    "duration": 192,
    "start_time": "2024-11-13T16:35:15.984Z"
   },
   {
    "duration": 5,
    "start_time": "2024-11-13T16:35:16.178Z"
   },
   {
    "duration": 605,
    "start_time": "2024-11-13T16:35:16.184Z"
   },
   {
    "duration": 31,
    "start_time": "2024-11-13T16:35:16.792Z"
   },
   {
    "duration": 21,
    "start_time": "2024-11-13T16:35:16.824Z"
   },
   {
    "duration": 23,
    "start_time": "2024-11-13T16:35:16.847Z"
   },
   {
    "duration": 17,
    "start_time": "2024-11-13T16:35:16.872Z"
   },
   {
    "duration": 740,
    "start_time": "2024-11-13T16:35:16.921Z"
   },
   {
    "duration": 574,
    "start_time": "2024-11-13T16:35:17.663Z"
   },
   {
    "duration": 1218,
    "start_time": "2024-11-13T16:36:25.259Z"
   },
   {
    "duration": 68,
    "start_time": "2024-11-13T16:36:26.480Z"
   },
   {
    "duration": 74,
    "start_time": "2024-11-13T16:36:26.550Z"
   },
   {
    "duration": 42,
    "start_time": "2024-11-13T16:36:26.625Z"
   },
   {
    "duration": 42,
    "start_time": "2024-11-13T16:36:26.669Z"
   },
   {
    "duration": 19,
    "start_time": "2024-11-13T16:36:26.713Z"
   },
   {
    "duration": 10,
    "start_time": "2024-11-13T16:36:26.733Z"
   },
   {
    "duration": 5,
    "start_time": "2024-11-13T16:36:26.744Z"
   },
   {
    "duration": 6,
    "start_time": "2024-11-13T16:36:26.751Z"
   },
   {
    "duration": 245,
    "start_time": "2024-11-13T16:36:26.758Z"
   },
   {
    "duration": 98,
    "start_time": "2024-11-13T16:36:27.004Z"
   },
   {
    "duration": 17,
    "start_time": "2024-11-13T16:36:27.104Z"
   },
   {
    "duration": 15,
    "start_time": "2024-11-13T16:36:27.122Z"
   },
   {
    "duration": 194,
    "start_time": "2024-11-13T16:36:27.140Z"
   },
   {
    "duration": 229,
    "start_time": "2024-11-13T16:36:27.335Z"
   },
   {
    "duration": 5,
    "start_time": "2024-11-13T16:36:27.566Z"
   },
   {
    "duration": 615,
    "start_time": "2024-11-13T16:36:27.573Z"
   },
   {
    "duration": 31,
    "start_time": "2024-11-13T16:36:28.190Z"
   },
   {
    "duration": 22,
    "start_time": "2024-11-13T16:36:28.222Z"
   },
   {
    "duration": 20,
    "start_time": "2024-11-13T16:36:28.245Z"
   },
   {
    "duration": 55,
    "start_time": "2024-11-13T16:36:28.267Z"
   },
   {
    "duration": 669,
    "start_time": "2024-11-13T16:36:28.324Z"
   },
   {
    "duration": 574,
    "start_time": "2024-11-13T16:36:28.995Z"
   },
   {
    "duration": 4,
    "start_time": "2024-11-13T16:36:29.571Z"
   },
   {
    "duration": 58,
    "start_time": "2024-11-13T16:36:29.576Z"
   },
   {
    "duration": 13,
    "start_time": "2024-11-13T16:36:29.636Z"
   },
   {
    "duration": 23,
    "start_time": "2024-11-13T16:36:29.650Z"
   },
   {
    "duration": 868,
    "start_time": "2024-11-13T16:36:29.674Z"
   },
   {
    "duration": 5,
    "start_time": "2024-11-13T16:36:30.544Z"
   },
   {
    "duration": 67,
    "start_time": "2024-11-13T16:36:30.551Z"
   },
   {
    "duration": 137,
    "start_time": "2024-11-13T16:36:30.620Z"
   },
   {
    "duration": 29,
    "start_time": "2024-11-13T16:36:30.759Z"
   },
   {
    "duration": 33,
    "start_time": "2024-11-13T16:36:30.790Z"
   },
   {
    "duration": 271,
    "start_time": "2024-11-13T16:36:30.825Z"
   },
   {
    "duration": 2,
    "start_time": "2024-11-13T16:36:31.098Z"
   },
   {
    "duration": 20,
    "start_time": "2024-11-13T16:36:31.102Z"
   },
   {
    "duration": 24,
    "start_time": "2024-11-13T16:36:31.124Z"
   },
   {
    "duration": 9,
    "start_time": "2024-11-13T16:36:31.149Z"
   },
   {
    "duration": 19,
    "start_time": "2024-11-13T16:36:31.160Z"
   },
   {
    "duration": 37,
    "start_time": "2024-11-13T16:36:31.180Z"
   },
   {
    "duration": 97,
    "start_time": "2024-11-13T16:40:32.978Z"
   },
   {
    "duration": 8,
    "start_time": "2024-11-13T16:41:17.336Z"
   },
   {
    "duration": 11,
    "start_time": "2024-11-13T16:41:46.064Z"
   },
   {
    "duration": 1195,
    "start_time": "2024-11-13T17:03:40.213Z"
   },
   {
    "duration": 70,
    "start_time": "2024-11-13T17:03:41.410Z"
   },
   {
    "duration": 56,
    "start_time": "2024-11-13T17:03:41.481Z"
   },
   {
    "duration": 8,
    "start_time": "2024-11-13T17:03:41.539Z"
   },
   {
    "duration": 13,
    "start_time": "2024-11-13T17:03:41.549Z"
   },
   {
    "duration": 59,
    "start_time": "2024-11-13T17:03:41.564Z"
   },
   {
    "duration": 14,
    "start_time": "2024-11-13T17:03:41.626Z"
   },
   {
    "duration": 84,
    "start_time": "2024-11-13T17:03:41.641Z"
   },
   {
    "duration": 6,
    "start_time": "2024-11-13T17:03:41.728Z"
   },
   {
    "duration": 265,
    "start_time": "2024-11-13T17:03:41.736Z"
   },
   {
    "duration": 106,
    "start_time": "2024-11-13T17:03:42.003Z"
   },
   {
    "duration": 4,
    "start_time": "2024-11-13T17:03:42.120Z"
   },
   {
    "duration": 11,
    "start_time": "2024-11-13T17:03:42.126Z"
   },
   {
    "duration": 205,
    "start_time": "2024-11-13T17:03:42.139Z"
   },
   {
    "duration": 196,
    "start_time": "2024-11-13T17:03:42.346Z"
   },
   {
    "duration": 7,
    "start_time": "2024-11-13T17:03:42.544Z"
   },
   {
    "duration": 576,
    "start_time": "2024-11-13T17:03:42.553Z"
   },
   {
    "duration": 22,
    "start_time": "2024-11-13T17:03:43.131Z"
   },
   {
    "duration": 24,
    "start_time": "2024-11-13T17:03:43.155Z"
   },
   {
    "duration": 57,
    "start_time": "2024-11-13T17:03:43.181Z"
   },
   {
    "duration": 17,
    "start_time": "2024-11-13T17:03:43.239Z"
   },
   {
    "duration": 721,
    "start_time": "2024-11-13T17:03:43.258Z"
   },
   {
    "duration": 571,
    "start_time": "2024-11-13T17:03:43.981Z"
   },
   {
    "duration": 5,
    "start_time": "2024-11-13T17:03:44.554Z"
   },
   {
    "duration": 22,
    "start_time": "2024-11-13T17:03:44.561Z"
   },
   {
    "duration": 40,
    "start_time": "2024-11-13T17:03:44.585Z"
   },
   {
    "duration": 29,
    "start_time": "2024-11-13T17:03:44.627Z"
   },
   {
    "duration": 101,
    "start_time": "2024-11-13T17:04:22.324Z"
   },
   {
    "duration": 3,
    "start_time": "2024-11-13T17:04:37.409Z"
   },
   {
    "duration": 1167,
    "start_time": "2024-11-13T17:05:28.536Z"
   },
   {
    "duration": 71,
    "start_time": "2024-11-13T17:05:29.705Z"
   },
   {
    "duration": 52,
    "start_time": "2024-11-13T17:05:29.778Z"
   },
   {
    "duration": 8,
    "start_time": "2024-11-13T17:05:29.831Z"
   },
   {
    "duration": 10,
    "start_time": "2024-11-13T17:05:29.841Z"
   },
   {
    "duration": 23,
    "start_time": "2024-11-13T17:05:29.853Z"
   },
   {
    "duration": 51,
    "start_time": "2024-11-13T17:05:29.877Z"
   },
   {
    "duration": 11,
    "start_time": "2024-11-13T17:05:29.930Z"
   },
   {
    "duration": 20,
    "start_time": "2024-11-13T17:05:29.943Z"
   },
   {
    "duration": 239,
    "start_time": "2024-11-13T17:05:29.964Z"
   },
   {
    "duration": 118,
    "start_time": "2024-11-13T17:05:30.205Z"
   },
   {
    "duration": 4,
    "start_time": "2024-11-13T17:05:30.325Z"
   },
   {
    "duration": 31,
    "start_time": "2024-11-13T17:05:30.331Z"
   },
   {
    "duration": 190,
    "start_time": "2024-11-13T17:05:30.365Z"
   },
   {
    "duration": 195,
    "start_time": "2024-11-13T17:05:30.556Z"
   },
   {
    "duration": 5,
    "start_time": "2024-11-13T17:05:30.753Z"
   },
   {
    "duration": 711,
    "start_time": "2024-11-13T17:05:30.760Z"
   },
   {
    "duration": 19,
    "start_time": "2024-11-13T17:05:31.473Z"
   },
   {
    "duration": 34,
    "start_time": "2024-11-13T17:05:31.494Z"
   },
   {
    "duration": 25,
    "start_time": "2024-11-13T17:05:31.530Z"
   },
   {
    "duration": 30,
    "start_time": "2024-11-13T17:05:31.557Z"
   },
   {
    "duration": 717,
    "start_time": "2024-11-13T17:05:31.588Z"
   },
   {
    "duration": 562,
    "start_time": "2024-11-13T17:05:32.308Z"
   },
   {
    "duration": 4,
    "start_time": "2024-11-13T17:05:32.871Z"
   },
   {
    "duration": 28,
    "start_time": "2024-11-13T17:05:32.876Z"
   },
   {
    "duration": 23,
    "start_time": "2024-11-13T17:05:32.906Z"
   },
   {
    "duration": 26,
    "start_time": "2024-11-13T17:05:32.931Z"
   },
   {
    "duration": 114,
    "start_time": "2024-11-13T17:05:37.562Z"
   },
   {
    "duration": 864,
    "start_time": "2024-11-13T17:05:41.913Z"
   },
   {
    "duration": 13,
    "start_time": "2024-11-13T17:05:44.066Z"
   },
   {
    "duration": 10,
    "start_time": "2024-11-13T17:06:54.485Z"
   },
   {
    "duration": 19,
    "start_time": "2024-11-13T17:06:56.409Z"
   },
   {
    "duration": 14,
    "start_time": "2024-11-13T17:09:08.043Z"
   },
   {
    "duration": 879,
    "start_time": "2024-11-13T17:09:16.413Z"
   },
   {
    "duration": 14,
    "start_time": "2024-11-13T17:09:20.349Z"
   },
   {
    "duration": 13,
    "start_time": "2024-11-13T17:09:23.974Z"
   },
   {
    "duration": 4,
    "start_time": "2024-11-13T17:09:34.456Z"
   },
   {
    "duration": 20,
    "start_time": "2024-11-13T17:09:48.862Z"
   },
   {
    "duration": 15,
    "start_time": "2024-11-13T17:09:51.182Z"
   },
   {
    "duration": 10,
    "start_time": "2024-11-13T17:10:00.998Z"
   },
   {
    "duration": 15,
    "start_time": "2024-11-13T17:10:04.569Z"
   },
   {
    "duration": 812,
    "start_time": "2024-11-13T17:14:40.636Z"
   },
   {
    "duration": 8,
    "start_time": "2024-11-13T17:14:42.633Z"
   },
   {
    "duration": 9,
    "start_time": "2024-11-13T17:14:56.643Z"
   },
   {
    "duration": 10,
    "start_time": "2024-11-13T17:15:09.799Z"
   },
   {
    "duration": 899,
    "start_time": "2024-11-13T17:15:19.077Z"
   },
   {
    "duration": 13,
    "start_time": "2024-11-13T17:15:21.012Z"
   },
   {
    "duration": 15,
    "start_time": "2024-11-13T17:15:24.034Z"
   },
   {
    "duration": 20,
    "start_time": "2024-11-13T17:15:57.707Z"
   },
   {
    "duration": 14,
    "start_time": "2024-11-13T17:15:59.740Z"
   },
   {
    "duration": 9,
    "start_time": "2024-11-13T17:17:39.436Z"
   },
   {
    "duration": 17,
    "start_time": "2024-11-13T17:17:41.517Z"
   },
   {
    "duration": 6,
    "start_time": "2024-11-13T17:18:27.660Z"
   },
   {
    "duration": 20,
    "start_time": "2024-11-13T17:18:31.570Z"
   },
   {
    "duration": 16,
    "start_time": "2024-11-13T17:21:49.654Z"
   },
   {
    "duration": 17,
    "start_time": "2024-11-13T17:22:03.507Z"
   },
   {
    "duration": 4,
    "start_time": "2024-11-13T17:22:16.774Z"
   },
   {
    "duration": 21,
    "start_time": "2024-11-13T17:22:19.317Z"
   },
   {
    "duration": 13,
    "start_time": "2024-11-13T17:25:10.909Z"
   },
   {
    "duration": 291,
    "start_time": "2024-11-13T17:25:13.847Z"
   },
   {
    "duration": 1135,
    "start_time": "2024-11-13T17:26:12.661Z"
   },
   {
    "duration": 67,
    "start_time": "2024-11-13T17:26:13.798Z"
   },
   {
    "duration": 54,
    "start_time": "2024-11-13T17:26:13.867Z"
   },
   {
    "duration": 7,
    "start_time": "2024-11-13T17:26:13.923Z"
   },
   {
    "duration": 6,
    "start_time": "2024-11-13T17:26:13.931Z"
   },
   {
    "duration": 18,
    "start_time": "2024-11-13T17:26:13.939Z"
   },
   {
    "duration": 64,
    "start_time": "2024-11-13T17:26:13.959Z"
   },
   {
    "duration": 5,
    "start_time": "2024-11-13T17:26:14.024Z"
   },
   {
    "duration": 5,
    "start_time": "2024-11-13T17:26:14.031Z"
   },
   {
    "duration": 246,
    "start_time": "2024-11-13T17:26:14.039Z"
   },
   {
    "duration": 106,
    "start_time": "2024-11-13T17:26:14.287Z"
   },
   {
    "duration": 3,
    "start_time": "2024-11-13T17:26:14.395Z"
   },
   {
    "duration": 21,
    "start_time": "2024-11-13T17:26:14.400Z"
   },
   {
    "duration": 180,
    "start_time": "2024-11-13T17:26:14.423Z"
   },
   {
    "duration": 203,
    "start_time": "2024-11-13T17:26:14.604Z"
   },
   {
    "duration": 5,
    "start_time": "2024-11-13T17:26:14.809Z"
   },
   {
    "duration": 688,
    "start_time": "2024-11-13T17:26:14.815Z"
   },
   {
    "duration": 30,
    "start_time": "2024-11-13T17:26:15.505Z"
   },
   {
    "duration": 21,
    "start_time": "2024-11-13T17:26:15.537Z"
   },
   {
    "duration": 19,
    "start_time": "2024-11-13T17:26:15.559Z"
   },
   {
    "duration": 53,
    "start_time": "2024-11-13T17:26:15.580Z"
   },
   {
    "duration": 674,
    "start_time": "2024-11-13T17:26:15.635Z"
   },
   {
    "duration": 560,
    "start_time": "2024-11-13T17:26:16.311Z"
   },
   {
    "duration": 4,
    "start_time": "2024-11-13T17:26:16.874Z"
   },
   {
    "duration": 75,
    "start_time": "2024-11-13T17:26:16.879Z"
   },
   {
    "duration": 13,
    "start_time": "2024-11-13T17:26:16.956Z"
   },
   {
    "duration": 30,
    "start_time": "2024-11-13T17:26:16.971Z"
   },
   {
    "duration": 895,
    "start_time": "2024-11-13T17:26:17.004Z"
   },
   {
    "duration": 21,
    "start_time": "2024-11-13T17:26:17.901Z"
   },
   {
    "duration": 10,
    "start_time": "2024-11-13T17:26:17.924Z"
   },
   {
    "duration": 6,
    "start_time": "2024-11-13T17:26:17.936Z"
   },
   {
    "duration": 9,
    "start_time": "2024-11-13T17:26:17.944Z"
   },
   {
    "duration": 19,
    "start_time": "2024-11-13T17:26:17.954Z"
   },
   {
    "duration": 314,
    "start_time": "2024-11-13T17:26:17.975Z"
   },
   {
    "duration": 3,
    "start_time": "2024-11-13T17:26:18.290Z"
   },
   {
    "duration": 25,
    "start_time": "2024-11-13T17:26:18.295Z"
   },
   {
    "duration": 5,
    "start_time": "2024-11-13T17:26:18.322Z"
   },
   {
    "duration": 32,
    "start_time": "2024-11-13T17:26:18.329Z"
   },
   {
    "duration": 15,
    "start_time": "2024-11-13T17:26:18.362Z"
   },
   {
    "duration": 21,
    "start_time": "2024-11-13T17:26:18.379Z"
   },
   {
    "duration": 9,
    "start_time": "2024-11-13T17:26:18.402Z"
   },
   {
    "duration": 1234,
    "start_time": "2024-11-13T18:00:27.368Z"
   },
   {
    "duration": 68,
    "start_time": "2024-11-13T18:00:28.604Z"
   },
   {
    "duration": 50,
    "start_time": "2024-11-13T18:00:28.674Z"
   },
   {
    "duration": 8,
    "start_time": "2024-11-13T18:00:28.726Z"
   },
   {
    "duration": 8,
    "start_time": "2024-11-13T18:00:28.736Z"
   },
   {
    "duration": 20,
    "start_time": "2024-11-13T18:00:28.745Z"
   },
   {
    "duration": 55,
    "start_time": "2024-11-13T18:00:28.766Z"
   },
   {
    "duration": 6,
    "start_time": "2024-11-13T18:00:28.823Z"
   },
   {
    "duration": 6,
    "start_time": "2024-11-13T18:00:28.831Z"
   },
   {
    "duration": 248,
    "start_time": "2024-11-13T18:00:28.841Z"
   },
   {
    "duration": 109,
    "start_time": "2024-11-13T18:00:29.090Z"
   },
   {
    "duration": 19,
    "start_time": "2024-11-13T18:00:29.201Z"
   },
   {
    "duration": 23,
    "start_time": "2024-11-13T18:00:29.223Z"
   },
   {
    "duration": 262,
    "start_time": "2024-11-13T18:00:29.248Z"
   },
   {
    "duration": 189,
    "start_time": "2024-11-13T18:00:29.512Z"
   },
   {
    "duration": 18,
    "start_time": "2024-11-13T18:00:29.703Z"
   },
   {
    "duration": 594,
    "start_time": "2024-11-13T18:00:29.723Z"
   },
   {
    "duration": 20,
    "start_time": "2024-11-13T18:00:30.318Z"
   },
   {
    "duration": 24,
    "start_time": "2024-11-13T18:00:30.340Z"
   },
   {
    "duration": 55,
    "start_time": "2024-11-13T18:00:30.366Z"
   },
   {
    "duration": 48,
    "start_time": "2024-11-13T18:00:30.423Z"
   },
   {
    "duration": 641,
    "start_time": "2024-11-13T18:00:30.474Z"
   },
   {
    "duration": 574,
    "start_time": "2024-11-13T18:00:31.117Z"
   },
   {
    "duration": 4,
    "start_time": "2024-11-13T18:00:31.693Z"
   },
   {
    "duration": 55,
    "start_time": "2024-11-13T18:00:31.700Z"
   },
   {
    "duration": 15,
    "start_time": "2024-11-13T18:00:31.757Z"
   },
   {
    "duration": 129,
    "start_time": "2024-11-13T18:00:31.774Z"
   },
   {
    "duration": 873,
    "start_time": "2024-11-13T18:00:31.907Z"
   },
   {
    "duration": 12,
    "start_time": "2024-11-13T18:00:32.782Z"
   },
   {
    "duration": 29,
    "start_time": "2024-11-13T18:00:32.796Z"
   },
   {
    "duration": 9,
    "start_time": "2024-11-13T18:00:32.827Z"
   },
   {
    "duration": 7,
    "start_time": "2024-11-13T18:00:32.838Z"
   },
   {
    "duration": 30,
    "start_time": "2024-11-13T18:00:32.847Z"
   },
   {
    "duration": 358,
    "start_time": "2024-11-13T18:00:32.879Z"
   },
   {
    "duration": 3,
    "start_time": "2024-11-13T18:00:33.239Z"
   },
   {
    "duration": 82,
    "start_time": "2024-11-13T18:00:33.244Z"
   },
   {
    "duration": 77,
    "start_time": "2024-11-13T18:00:33.328Z"
   },
   {
    "duration": 46,
    "start_time": "2024-11-13T18:00:33.407Z"
   },
   {
    "duration": 7,
    "start_time": "2024-11-13T18:00:33.454Z"
   },
   {
    "duration": 28,
    "start_time": "2024-11-13T18:00:33.462Z"
   },
   {
    "duration": 23,
    "start_time": "2024-11-13T18:00:33.492Z"
   },
   {
    "duration": 1196,
    "start_time": "2024-11-13T20:12:24.144Z"
   },
   {
    "duration": 243,
    "start_time": "2024-11-13T20:12:25.343Z"
   },
   {
    "duration": 62,
    "start_time": "2024-11-13T20:12:25.588Z"
   },
   {
    "duration": 10,
    "start_time": "2024-11-13T20:12:25.653Z"
   },
   {
    "duration": 9,
    "start_time": "2024-11-13T20:12:25.665Z"
   },
   {
    "duration": 63,
    "start_time": "2024-11-13T20:12:25.676Z"
   },
   {
    "duration": 12,
    "start_time": "2024-11-13T20:12:25.745Z"
   },
   {
    "duration": 4,
    "start_time": "2024-11-13T20:12:25.759Z"
   },
   {
    "duration": 5,
    "start_time": "2024-11-13T20:12:25.765Z"
   },
   {
    "duration": 261,
    "start_time": "2024-11-13T20:12:25.772Z"
   },
   {
    "duration": 115,
    "start_time": "2024-11-13T20:12:26.035Z"
   },
   {
    "duration": 3,
    "start_time": "2024-11-13T20:12:26.152Z"
   },
   {
    "duration": 11,
    "start_time": "2024-11-13T20:12:26.156Z"
   },
   {
    "duration": 195,
    "start_time": "2024-11-13T20:12:26.168Z"
   },
   {
    "duration": 199,
    "start_time": "2024-11-13T20:12:26.365Z"
   },
   {
    "duration": 5,
    "start_time": "2024-11-13T20:12:26.566Z"
   },
   {
    "duration": 645,
    "start_time": "2024-11-13T20:12:26.573Z"
   },
   {
    "duration": 27,
    "start_time": "2024-11-13T20:12:27.222Z"
   },
   {
    "duration": 19,
    "start_time": "2024-11-13T20:12:27.250Z"
   },
   {
    "duration": 17,
    "start_time": "2024-11-13T20:12:27.271Z"
   },
   {
    "duration": 56,
    "start_time": "2024-11-13T20:12:27.290Z"
   },
   {
    "duration": 717,
    "start_time": "2024-11-13T20:12:27.348Z"
   },
   {
    "duration": 559,
    "start_time": "2024-11-13T20:12:28.067Z"
   },
   {
    "duration": 5,
    "start_time": "2024-11-13T20:12:28.629Z"
   },
   {
    "duration": 21,
    "start_time": "2024-11-13T20:12:28.637Z"
   },
   {
    "duration": 13,
    "start_time": "2024-11-13T20:12:28.660Z"
   },
   {
    "duration": 62,
    "start_time": "2024-11-13T20:12:28.675Z"
   },
   {
    "duration": 1004,
    "start_time": "2024-11-13T20:12:28.742Z"
   },
   {
    "duration": 11,
    "start_time": "2024-11-13T20:12:29.748Z"
   },
   {
    "duration": 8,
    "start_time": "2024-11-13T20:12:29.761Z"
   },
   {
    "duration": 6,
    "start_time": "2024-11-13T20:12:29.770Z"
   },
   {
    "duration": 6,
    "start_time": "2024-11-13T20:12:29.777Z"
   },
   {
    "duration": 47,
    "start_time": "2024-11-13T20:12:29.784Z"
   },
   {
    "duration": 306,
    "start_time": "2024-11-13T20:12:29.833Z"
   },
   {
    "duration": 2,
    "start_time": "2024-11-13T20:12:30.142Z"
   },
   {
    "duration": 26,
    "start_time": "2024-11-13T20:12:30.146Z"
   },
   {
    "duration": 26,
    "start_time": "2024-11-13T20:12:30.174Z"
   },
   {
    "duration": 16,
    "start_time": "2024-11-13T20:12:30.201Z"
   },
   {
    "duration": 13,
    "start_time": "2024-11-13T20:12:30.219Z"
   },
   {
    "duration": 19,
    "start_time": "2024-11-13T20:12:30.235Z"
   },
   {
    "duration": 33,
    "start_time": "2024-11-13T20:12:30.256Z"
   },
   {
    "duration": 84,
    "start_time": "2024-11-14T09:19:55.703Z"
   },
   {
    "duration": 2715,
    "start_time": "2024-11-14T09:20:03.567Z"
   },
   {
    "duration": 6,
    "start_time": "2024-11-14T09:20:17.455Z"
   },
   {
    "duration": 207,
    "start_time": "2024-11-14T09:24:53.778Z"
   },
   {
    "duration": 209,
    "start_time": "2024-11-14T09:25:47.688Z"
   },
   {
    "duration": 199,
    "start_time": "2024-11-14T09:27:07.913Z"
   },
   {
    "duration": 201,
    "start_time": "2024-11-14T09:27:19.832Z"
   },
   {
    "duration": 224,
    "start_time": "2024-11-14T09:28:28.587Z"
   },
   {
    "duration": 353,
    "start_time": "2024-11-14T09:28:49.800Z"
   },
   {
    "duration": 237,
    "start_time": "2024-11-14T09:29:33.514Z"
   },
   {
    "duration": 245,
    "start_time": "2024-11-14T09:30:35.613Z"
   },
   {
    "duration": 217,
    "start_time": "2024-11-14T09:30:58.780Z"
   },
   {
    "duration": 185,
    "start_time": "2024-11-14T09:33:23.565Z"
   },
   {
    "duration": 208,
    "start_time": "2024-11-14T09:34:21.694Z"
   },
   {
    "duration": 189,
    "start_time": "2024-11-14T09:34:42.175Z"
   },
   {
    "duration": 6,
    "start_time": "2024-11-14T09:35:20.632Z"
   },
   {
    "duration": 599,
    "start_time": "2024-11-14T09:35:23.390Z"
   },
   {
    "duration": 9,
    "start_time": "2024-11-14T09:36:00.775Z"
   },
   {
    "duration": 6,
    "start_time": "2024-11-14T09:36:03.677Z"
   },
   {
    "duration": 734,
    "start_time": "2024-11-14T09:36:05.151Z"
   },
   {
    "duration": 10,
    "start_time": "2024-11-14T09:36:11.902Z"
   },
   {
    "duration": 621,
    "start_time": "2024-11-14T09:36:13.135Z"
   },
   {
    "duration": 19,
    "start_time": "2024-11-14T09:49:15.367Z"
   },
   {
    "duration": 14,
    "start_time": "2024-11-14T09:49:32.393Z"
   },
   {
    "duration": 8,
    "start_time": "2024-11-14T09:51:06.161Z"
   },
   {
    "duration": 10,
    "start_time": "2024-11-14T09:51:10.561Z"
   },
   {
    "duration": 9,
    "start_time": "2024-11-14T09:51:12.776Z"
   },
   {
    "duration": 11,
    "start_time": "2024-11-14T09:51:20.008Z"
   },
   {
    "duration": 6,
    "start_time": "2024-11-14T09:53:09.209Z"
   },
   {
    "duration": 7,
    "start_time": "2024-11-14T09:53:15.604Z"
   },
   {
    "duration": 4,
    "start_time": "2024-11-14T09:53:34.707Z"
   },
   {
    "duration": 8,
    "start_time": "2024-11-14T09:53:56.956Z"
   },
   {
    "duration": 21,
    "start_time": "2024-11-14T09:54:08.178Z"
   },
   {
    "duration": 8,
    "start_time": "2024-11-14T09:55:48.723Z"
   },
   {
    "duration": 6,
    "start_time": "2024-11-14T09:55:57.556Z"
   },
   {
    "duration": 72,
    "start_time": "2024-11-14T09:56:00.380Z"
   },
   {
    "duration": 9,
    "start_time": "2024-11-14T09:58:22.854Z"
   },
   {
    "duration": 22,
    "start_time": "2024-11-14T09:58:30.485Z"
   },
   {
    "duration": 10,
    "start_time": "2024-11-14T09:58:35.623Z"
   },
   {
    "duration": 13,
    "start_time": "2024-11-14T10:44:54.321Z"
   },
   {
    "duration": 9,
    "start_time": "2024-11-14T10:47:13.569Z"
   },
   {
    "duration": 5,
    "start_time": "2024-11-14T10:47:22.987Z"
   },
   {
    "duration": 75,
    "start_time": "2024-11-14T10:47:33.825Z"
   },
   {
    "duration": 4,
    "start_time": "2024-11-14T10:47:37.387Z"
   },
   {
    "duration": 10,
    "start_time": "2024-11-14T10:49:00.282Z"
   },
   {
    "duration": 6,
    "start_time": "2024-11-14T10:51:13.748Z"
   },
   {
    "duration": 6,
    "start_time": "2024-11-14T10:51:41.964Z"
   },
   {
    "duration": 151,
    "start_time": "2024-11-14T10:53:05.173Z"
   },
   {
    "duration": 5,
    "start_time": "2024-11-14T10:53:08.349Z"
   },
   {
    "duration": 5,
    "start_time": "2024-11-14T10:53:15.549Z"
   },
   {
    "duration": 24,
    "start_time": "2024-11-14T10:53:51.079Z"
   },
   {
    "duration": 23,
    "start_time": "2024-11-14T10:54:18.552Z"
   },
   {
    "duration": 17,
    "start_time": "2024-11-14T10:55:42.285Z"
   },
   {
    "duration": 18,
    "start_time": "2024-11-14T10:55:49.849Z"
   },
   {
    "duration": 26,
    "start_time": "2024-11-14T10:56:32.259Z"
   },
   {
    "duration": 4,
    "start_time": "2024-11-14T10:57:21.357Z"
   },
   {
    "duration": 6,
    "start_time": "2024-11-14T10:57:24.891Z"
   },
   {
    "duration": 19,
    "start_time": "2024-11-14T10:57:58.735Z"
   },
   {
    "duration": 20,
    "start_time": "2024-11-14T10:58:54.127Z"
   },
   {
    "duration": 20,
    "start_time": "2024-11-14T10:58:58.126Z"
   },
   {
    "duration": 7,
    "start_time": "2024-11-14T11:00:04.975Z"
   },
   {
    "duration": 10,
    "start_time": "2024-11-14T11:00:46.545Z"
   },
   {
    "duration": 30,
    "start_time": "2024-11-14T11:01:04.448Z"
   },
   {
    "duration": 75,
    "start_time": "2024-11-14T11:01:19.704Z"
   },
   {
    "duration": 8,
    "start_time": "2024-11-14T11:01:22.945Z"
   },
   {
    "duration": 100,
    "start_time": "2024-11-14T11:02:09.081Z"
   },
   {
    "duration": 7,
    "start_time": "2024-11-14T11:02:21.473Z"
   },
   {
    "duration": 19,
    "start_time": "2024-11-14T11:05:58.005Z"
   },
   {
    "duration": 5,
    "start_time": "2024-11-14T11:06:21.959Z"
   },
   {
    "duration": 9,
    "start_time": "2024-11-14T11:21:04.843Z"
   },
   {
    "duration": 8,
    "start_time": "2024-11-14T11:21:09.347Z"
   },
   {
    "duration": 25,
    "start_time": "2024-11-14T11:21:53.621Z"
   },
   {
    "duration": 5,
    "start_time": "2024-11-14T11:26:45.880Z"
   },
   {
    "duration": 6,
    "start_time": "2024-11-14T11:28:21.177Z"
   },
   {
    "duration": 5,
    "start_time": "2024-11-14T11:39:09.145Z"
   },
   {
    "duration": 7,
    "start_time": "2024-11-14T11:39:24.201Z"
   }
  ],
  "kernelspec": {
   "display_name": "Python 3 (ipykernel)",
   "language": "python",
   "name": "python3"
  },
  "language_info": {
   "codemirror_mode": {
    "name": "ipython",
    "version": 3
   },
   "file_extension": ".py",
   "mimetype": "text/x-python",
   "name": "python",
   "nbconvert_exporter": "python",
   "pygments_lexer": "ipython3",
   "version": "3.11.7"
  },
  "toc": {
   "base_numbering": 1,
   "nav_menu": {
    "height": "225px",
    "width": "324px"
   },
   "number_sections": true,
   "sideBar": true,
   "skip_h1_title": true,
   "title_cell": "Table of Contents",
   "title_sidebar": "Contents",
   "toc_cell": false,
   "toc_position": {},
   "toc_section_display": true,
   "toc_window_display": true
  }
 },
 "nbformat": 4,
 "nbformat_minor": 5
}
