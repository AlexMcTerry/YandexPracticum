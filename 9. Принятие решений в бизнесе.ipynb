{
 "cells": [
  {
   "cell_type": "markdown",
   "metadata": {},
   "source": [
    "<h1>Проект: Принятие решений в бизнесе</h1>"
   ]
  },
  {
   "cell_type": "markdown",
   "metadata": {},
   "source": [
    "<p><span style=\"color:#37474f;\">В этом проекте будет проведен анализ крупного интернет-магазина. В наличии есть список гипотез, которые потенциально могут привести к увеличению выручки.</span><br><span style=\"color:#37474f;\">Приоритизируем гипотезы и проанализируем предоставленные результаты A/B-теста.</span></p>"
   ]
  },
  {
   "cell_type": "markdown",
   "metadata": {},
   "source": [
    "<p><span style=\"color:#37474f;\">План проекта:</span></p>\n",
    "<ol>\n",
    "    <li><span style=\"color:#37474f;\">Предобработка данных</span>\n",
    "        <ol>\n",
    "            <li><span style=\"color:#37474f;\">Загрузка и просмотр данных</span></li>\n",
    "            <li><span style=\"color:#37474f;\">Обработка данных</span></li>\n",
    "            <li><span style=\"color:#37474f;\">Проверка проведенной обработки</span></li>\n",
    "            <li><span style=\"color:#37474f;\">Итог по данным</span></li>\n",
    "        </ol>\n",
    "    </li>\n",
    "    <li><span style=\"color:#37474f;\">Приоритизация гипотез</span>\n",
    "        <ol>\n",
    "            <li><span style=\"color:#37474f;\">Приоритизация гипотез по ICE</span></li>\n",
    "            <li><span style=\"color:#37474f;\">Приоритизация гипотез по RICE</span></li>\n",
    "            <li><span style=\"color:#37474f;\">Анализ результата</span></li>\n",
    "        </ol>\n",
    "    </li>\n",
    "    <li><span style=\"color:#37474f;\">Анализ A/B-теста</span>\n",
    "        <ol>\n",
    "            <li><span style=\"color:#37474f;\">Кумулятивная выручка по группам. График. Выводы</span></li>\n",
    "            <li><span style=\"color:#37474f;\">Кумулятивный средний чек по группам. График. Выводы</span></li>\n",
    "            <li><span style=\"color:#37474f;\">Относительное изменение кумулятивного среднего чека группы B к группе A. График. Выводы</span></li>\n",
    "            <li><span style=\"color:#37474f;\">Кумулятивное среднее количества заказов на посетителя по группам. График. Выводы</span></li>\n",
    "            <li><span style=\"color:#37474f;\">Относительное изменение кумулятивного среднего количества заказов на посетителя группы B к группе A. График. Выводы</span></li>\n",
    "            <li><span style=\"color:#37474f;\">Точечный график количества заказов по пользователям. График. Выводы</span></li>\n",
    "            <li><span style=\"color:#37474f;\">95-й и 99-й перцентили количества заказов на пользователя. Граница для определения аномальных пользователей</span></li>\n",
    "            <li><span style=\"color:#37474f;\">Точечный график стоимостей заказов. График. Выводы</span></li>\n",
    "            <li><span style=\"color:#37474f;\">95-й и 99-й перцентили стоимости заказов. Граница для определения аномальных заказов.</span></li>\n",
    "            <li><span style=\"color:#37474f;\">Статистическая значимость различий в среднем количестве заказов на посетителя между группами по «сырым» данным. Выводы</span></li>\n",
    "            <li><span style=\"color:#37474f;\">Статистическая значимость различий в среднем чеке заказа между группами по «сырым» данным. Выводы</span></li>\n",
    "            <li><span style=\"color:#37474f;\">Статистическая значимость различий в среднем количестве заказов на посетителя между группами по «очищенным» данным. Выводы</span></li>\n",
    "            <li><span style=\"color:#37474f;\">Статистическая значимость различий в среднем чеке заказа между группами по «очищенным» данным. Выводы</span></li>\n",
    "            <li><span style=\"color:#37474f;\">Решение по результатам теста</span></li>\n",
    "        </ol>\n",
    "    </li>\n",
    "</ol>"
   ]
  },
  {
   "cell_type": "markdown",
   "metadata": {},
   "source": [
    "<h2><span style=\"color:#37474f;\">Предобработка данных</span></h2>"
   ]
  },
  {
   "cell_type": "markdown",
   "metadata": {},
   "source": [
    "<h3><span style=\"color:#37474f;\">Загрузка и просмотр данных</span></h3>"
   ]
  },
  {
   "cell_type": "code",
   "execution_count": 1,
   "metadata": {},
   "outputs": [],
   "source": [
    "# импорт библиотек, используемых в проекте\n",
    "import pandas as pd\n",
    "import numpy as np\n",
    "import matplotlib.pyplot as plt\n",
    "import scipy.stats as stats"
   ]
  },
  {
   "cell_type": "code",
   "execution_count": 2,
   "metadata": {},
   "outputs": [],
   "source": [
    "# отключения обрезки длинных значений в записях\n",
    "pd.set_option('display.max_colwidth', None)"
   ]
  },
  {
   "cell_type": "code",
   "execution_count": 3,
   "metadata": {},
   "outputs": [],
   "source": [
    "# загрузка данных\n",
    "hypothesis = pd.read_csv('/datasets/hypothesis.csv')\n",
    "orders = pd.read_csv('/datasets/orders.csv') \n",
    "visitors = pd.read_csv('/datasets/visitors.csv')"
   ]
  },
  {
   "cell_type": "code",
   "execution_count": 4,
   "metadata": {},
   "outputs": [
    {
     "data": {
      "text/html": [
       "<div>\n",
       "<style scoped>\n",
       "    .dataframe tbody tr th:only-of-type {\n",
       "        vertical-align: middle;\n",
       "    }\n",
       "\n",
       "    .dataframe tbody tr th {\n",
       "        vertical-align: top;\n",
       "    }\n",
       "\n",
       "    .dataframe thead th {\n",
       "        text-align: right;\n",
       "    }\n",
       "</style>\n",
       "<table border=\"1\" class=\"dataframe\">\n",
       "  <thead>\n",
       "    <tr style=\"text-align: right;\">\n",
       "      <th></th>\n",
       "      <th>Hypothesis</th>\n",
       "      <th>Reach</th>\n",
       "      <th>Impact</th>\n",
       "      <th>Confidence</th>\n",
       "      <th>Efforts</th>\n",
       "    </tr>\n",
       "  </thead>\n",
       "  <tbody>\n",
       "    <tr>\n",
       "      <th>0</th>\n",
       "      <td>Добавить два новых канала привлечения трафика, что позволит привлекать на 30% больше пользователей</td>\n",
       "      <td>3</td>\n",
       "      <td>10</td>\n",
       "      <td>8</td>\n",
       "      <td>6</td>\n",
       "    </tr>\n",
       "    <tr>\n",
       "      <th>1</th>\n",
       "      <td>Запустить собственную службу доставки, что сократит срок доставки заказов</td>\n",
       "      <td>2</td>\n",
       "      <td>5</td>\n",
       "      <td>4</td>\n",
       "      <td>10</td>\n",
       "    </tr>\n",
       "    <tr>\n",
       "      <th>2</th>\n",
       "      <td>Добавить блоки рекомендаций товаров на сайт интернет магазина, чтобы повысить конверсию и средний чек заказа</td>\n",
       "      <td>8</td>\n",
       "      <td>3</td>\n",
       "      <td>7</td>\n",
       "      <td>3</td>\n",
       "    </tr>\n",
       "    <tr>\n",
       "      <th>3</th>\n",
       "      <td>Изменить структура категорий, что увеличит конверсию, т.к. пользователи быстрее найдут нужный товар</td>\n",
       "      <td>8</td>\n",
       "      <td>3</td>\n",
       "      <td>3</td>\n",
       "      <td>8</td>\n",
       "    </tr>\n",
       "    <tr>\n",
       "      <th>4</th>\n",
       "      <td>Изменить цвет фона главной страницы, чтобы увеличить вовлеченность пользователей</td>\n",
       "      <td>3</td>\n",
       "      <td>1</td>\n",
       "      <td>1</td>\n",
       "      <td>1</td>\n",
       "    </tr>\n",
       "    <tr>\n",
       "      <th>5</th>\n",
       "      <td>Добавить страницу отзывов клиентов о магазине, что позволит увеличить количество заказов</td>\n",
       "      <td>3</td>\n",
       "      <td>2</td>\n",
       "      <td>2</td>\n",
       "      <td>3</td>\n",
       "    </tr>\n",
       "    <tr>\n",
       "      <th>6</th>\n",
       "      <td>Показать на главной странице баннеры с актуальными акциями и распродажами, чтобы увеличить конверсию</td>\n",
       "      <td>5</td>\n",
       "      <td>3</td>\n",
       "      <td>8</td>\n",
       "      <td>3</td>\n",
       "    </tr>\n",
       "    <tr>\n",
       "      <th>7</th>\n",
       "      <td>Добавить форму подписки на все основные страницы, чтобы собрать базу клиентов для email-рассылок</td>\n",
       "      <td>10</td>\n",
       "      <td>7</td>\n",
       "      <td>8</td>\n",
       "      <td>5</td>\n",
       "    </tr>\n",
       "    <tr>\n",
       "      <th>8</th>\n",
       "      <td>Запустить акцию, дающую скидку на товар в день рождения</td>\n",
       "      <td>1</td>\n",
       "      <td>9</td>\n",
       "      <td>9</td>\n",
       "      <td>5</td>\n",
       "    </tr>\n",
       "  </tbody>\n",
       "</table>\n",
       "</div>"
      ],
      "text/plain": [
       "                                                                                                     Hypothesis  \\\n",
       "0            Добавить два новых канала привлечения трафика, что позволит привлекать на 30% больше пользователей   \n",
       "1                                     Запустить собственную службу доставки, что сократит срок доставки заказов   \n",
       "2  Добавить блоки рекомендаций товаров на сайт интернет магазина, чтобы повысить конверсию и средний чек заказа   \n",
       "3           Изменить структура категорий, что увеличит конверсию, т.к. пользователи быстрее найдут нужный товар   \n",
       "4                              Изменить цвет фона главной страницы, чтобы увеличить вовлеченность пользователей   \n",
       "5                      Добавить страницу отзывов клиентов о магазине, что позволит увеличить количество заказов   \n",
       "6          Показать на главной странице баннеры с актуальными акциями и распродажами, чтобы увеличить конверсию   \n",
       "7              Добавить форму подписки на все основные страницы, чтобы собрать базу клиентов для email-рассылок   \n",
       "8                                                       Запустить акцию, дающую скидку на товар в день рождения   \n",
       "\n",
       "   Reach  Impact  Confidence  Efforts  \n",
       "0      3      10           8        6  \n",
       "1      2       5           4       10  \n",
       "2      8       3           7        3  \n",
       "3      8       3           3        8  \n",
       "4      3       1           1        1  \n",
       "5      3       2           2        3  \n",
       "6      5       3           8        3  \n",
       "7     10       7           8        5  \n",
       "8      1       9           9        5  "
      ]
     },
     "metadata": {},
     "output_type": "display_data"
    },
    {
     "data": {
      "text/html": [
       "<div>\n",
       "<style scoped>\n",
       "    .dataframe tbody tr th:only-of-type {\n",
       "        vertical-align: middle;\n",
       "    }\n",
       "\n",
       "    .dataframe tbody tr th {\n",
       "        vertical-align: top;\n",
       "    }\n",
       "\n",
       "    .dataframe thead th {\n",
       "        text-align: right;\n",
       "    }\n",
       "</style>\n",
       "<table border=\"1\" class=\"dataframe\">\n",
       "  <thead>\n",
       "    <tr style=\"text-align: right;\">\n",
       "      <th></th>\n",
       "      <th>transactionId</th>\n",
       "      <th>visitorId</th>\n",
       "      <th>date</th>\n",
       "      <th>revenue</th>\n",
       "      <th>group</th>\n",
       "    </tr>\n",
       "  </thead>\n",
       "  <tbody>\n",
       "    <tr>\n",
       "      <th>0</th>\n",
       "      <td>3667963787</td>\n",
       "      <td>3312258926</td>\n",
       "      <td>2019-08-15</td>\n",
       "      <td>1650</td>\n",
       "      <td>B</td>\n",
       "    </tr>\n",
       "    <tr>\n",
       "      <th>1</th>\n",
       "      <td>2804400009</td>\n",
       "      <td>3642806036</td>\n",
       "      <td>2019-08-15</td>\n",
       "      <td>730</td>\n",
       "      <td>B</td>\n",
       "    </tr>\n",
       "    <tr>\n",
       "      <th>2</th>\n",
       "      <td>2961555356</td>\n",
       "      <td>4069496402</td>\n",
       "      <td>2019-08-15</td>\n",
       "      <td>400</td>\n",
       "      <td>A</td>\n",
       "    </tr>\n",
       "    <tr>\n",
       "      <th>3</th>\n",
       "      <td>3797467345</td>\n",
       "      <td>1196621759</td>\n",
       "      <td>2019-08-15</td>\n",
       "      <td>9759</td>\n",
       "      <td>B</td>\n",
       "    </tr>\n",
       "    <tr>\n",
       "      <th>4</th>\n",
       "      <td>2282983706</td>\n",
       "      <td>2322279887</td>\n",
       "      <td>2019-08-15</td>\n",
       "      <td>2308</td>\n",
       "      <td>B</td>\n",
       "    </tr>\n",
       "  </tbody>\n",
       "</table>\n",
       "</div>"
      ],
      "text/plain": [
       "   transactionId   visitorId        date  revenue group\n",
       "0     3667963787  3312258926  2019-08-15     1650     B\n",
       "1     2804400009  3642806036  2019-08-15      730     B\n",
       "2     2961555356  4069496402  2019-08-15      400     A\n",
       "3     3797467345  1196621759  2019-08-15     9759     B\n",
       "4     2282983706  2322279887  2019-08-15     2308     B"
      ]
     },
     "metadata": {},
     "output_type": "display_data"
    },
    {
     "data": {
      "text/html": [
       "<div>\n",
       "<style scoped>\n",
       "    .dataframe tbody tr th:only-of-type {\n",
       "        vertical-align: middle;\n",
       "    }\n",
       "\n",
       "    .dataframe tbody tr th {\n",
       "        vertical-align: top;\n",
       "    }\n",
       "\n",
       "    .dataframe thead th {\n",
       "        text-align: right;\n",
       "    }\n",
       "</style>\n",
       "<table border=\"1\" class=\"dataframe\">\n",
       "  <thead>\n",
       "    <tr style=\"text-align: right;\">\n",
       "      <th></th>\n",
       "      <th>date</th>\n",
       "      <th>group</th>\n",
       "      <th>visitors</th>\n",
       "    </tr>\n",
       "  </thead>\n",
       "  <tbody>\n",
       "    <tr>\n",
       "      <th>0</th>\n",
       "      <td>2019-08-01</td>\n",
       "      <td>A</td>\n",
       "      <td>719</td>\n",
       "    </tr>\n",
       "    <tr>\n",
       "      <th>1</th>\n",
       "      <td>2019-08-02</td>\n",
       "      <td>A</td>\n",
       "      <td>619</td>\n",
       "    </tr>\n",
       "    <tr>\n",
       "      <th>2</th>\n",
       "      <td>2019-08-03</td>\n",
       "      <td>A</td>\n",
       "      <td>507</td>\n",
       "    </tr>\n",
       "    <tr>\n",
       "      <th>3</th>\n",
       "      <td>2019-08-04</td>\n",
       "      <td>A</td>\n",
       "      <td>717</td>\n",
       "    </tr>\n",
       "    <tr>\n",
       "      <th>4</th>\n",
       "      <td>2019-08-05</td>\n",
       "      <td>A</td>\n",
       "      <td>756</td>\n",
       "    </tr>\n",
       "  </tbody>\n",
       "</table>\n",
       "</div>"
      ],
      "text/plain": [
       "         date group  visitors\n",
       "0  2019-08-01     A       719\n",
       "1  2019-08-02     A       619\n",
       "2  2019-08-03     A       507\n",
       "3  2019-08-04     A       717\n",
       "4  2019-08-05     A       756"
      ]
     },
     "metadata": {},
     "output_type": "display_data"
    }
   ],
   "source": [
    "# просмотр содержимого\n",
    "display(hypothesis)\n",
    "display(orders.head())\n",
    "display(visitors.head())"
   ]
  },
  {
   "cell_type": "code",
   "execution_count": 5,
   "metadata": {},
   "outputs": [
    {
     "name": "stdout",
     "output_type": "stream",
     "text": [
      "<class 'pandas.core.frame.DataFrame'>\n",
      "RangeIndex: 9 entries, 0 to 8\n",
      "Data columns (total 5 columns):\n",
      " #   Column      Non-Null Count  Dtype \n",
      "---  ------      --------------  ----- \n",
      " 0   Hypothesis  9 non-null      object\n",
      " 1   Reach       9 non-null      int64 \n",
      " 2   Impact      9 non-null      int64 \n",
      " 3   Confidence  9 non-null      int64 \n",
      " 4   Efforts     9 non-null      int64 \n",
      "dtypes: int64(4), object(1)\n",
      "memory usage: 488.0+ bytes\n",
      "None\n",
      "<class 'pandas.core.frame.DataFrame'>\n",
      "RangeIndex: 1197 entries, 0 to 1196\n",
      "Data columns (total 5 columns):\n",
      " #   Column         Non-Null Count  Dtype \n",
      "---  ------         --------------  ----- \n",
      " 0   transactionId  1197 non-null   int64 \n",
      " 1   visitorId      1197 non-null   int64 \n",
      " 2   date           1197 non-null   object\n",
      " 3   revenue        1197 non-null   int64 \n",
      " 4   group          1197 non-null   object\n",
      "dtypes: int64(3), object(2)\n",
      "memory usage: 46.9+ KB\n",
      "None\n",
      "<class 'pandas.core.frame.DataFrame'>\n",
      "RangeIndex: 62 entries, 0 to 61\n",
      "Data columns (total 3 columns):\n",
      " #   Column    Non-Null Count  Dtype \n",
      "---  ------    --------------  ----- \n",
      " 0   date      62 non-null     object\n",
      " 1   group     62 non-null     object\n",
      " 2   visitors  62 non-null     int64 \n",
      "dtypes: int64(1), object(2)\n",
      "memory usage: 1.6+ KB\n",
      "None\n"
     ]
    }
   ],
   "source": [
    "# информация о данных\n",
    "print(hypothesis.info())\n",
    "print(orders.info())\n",
    "print(visitors.info())"
   ]
  },
  {
   "cell_type": "code",
   "execution_count": 6,
   "metadata": {},
   "outputs": [
    {
     "name": "stdout",
     "output_type": "stream",
     "text": [
      "В файле предоставлены данные с 2019-08-01 по 2019-08-31\n"
     ]
    }
   ],
   "source": [
    "print(f'В файле предоставлены данные с {orders[\"date\"].min()} по {orders[\"date\"].max()}')"
   ]
  },
  {
   "cell_type": "markdown",
   "metadata": {},
   "source": [
    "<h3><span style=\"color:#37474f;\">Обработка данных</span></h3>"
   ]
  },
  {
   "cell_type": "code",
   "execution_count": 7,
   "metadata": {},
   "outputs": [],
   "source": [
    "# корректировка типа данных для даты\n",
    "orders['date'] = pd.to_datetime(orders['date'])\n",
    "visitors['date'] = pd.to_datetime(visitors['date'])"
   ]
  },
  {
   "cell_type": "code",
   "execution_count": 8,
   "metadata": {},
   "outputs": [],
   "source": [
    "# не обязательное, но для соблюдения правил хорошего тона, действие\n",
    "hypothesis.columns = [x.lower() for x in hypothesis.columns]"
   ]
  },
  {
   "cell_type": "code",
   "execution_count": 9,
   "metadata": {},
   "outputs": [
    {
     "name": "stdout",
     "output_type": "stream",
     "text": [
      "Количество явных дубликатов в данных: 0\n",
      "Количество явных дубликатов в данных: 0\n"
     ]
    }
   ],
   "source": [
    "# проверка на дубликаты\n",
    "print(f'Количество явных дубликатов в данных: {orders.duplicated().sum()}')\n",
    "print(f'Количество явных дубликатов в данных: {visitors.duplicated().sum()}')"
   ]
  },
  {
   "cell_type": "markdown",
   "metadata": {},
   "source": [
    "<h3><span style=\"color:#37474f;\">Проверка проведенной обработки</span></h3>"
   ]
  },
  {
   "cell_type": "code",
   "execution_count": 10,
   "metadata": {},
   "outputs": [
    {
     "name": "stdout",
     "output_type": "stream",
     "text": [
      "<class 'pandas.core.frame.DataFrame'>\n",
      "RangeIndex: 1197 entries, 0 to 1196\n",
      "Data columns (total 5 columns):\n",
      " #   Column         Non-Null Count  Dtype         \n",
      "---  ------         --------------  -----         \n",
      " 0   transactionId  1197 non-null   int64         \n",
      " 1   visitorId      1197 non-null   int64         \n",
      " 2   date           1197 non-null   datetime64[ns]\n",
      " 3   revenue        1197 non-null   int64         \n",
      " 4   group          1197 non-null   object        \n",
      "dtypes: datetime64[ns](1), int64(3), object(1)\n",
      "memory usage: 46.9+ KB\n",
      "<class 'pandas.core.frame.DataFrame'>\n",
      "RangeIndex: 62 entries, 0 to 61\n",
      "Data columns (total 3 columns):\n",
      " #   Column    Non-Null Count  Dtype         \n",
      "---  ------    --------------  -----         \n",
      " 0   date      62 non-null     datetime64[ns]\n",
      " 1   group     62 non-null     object        \n",
      " 2   visitors  62 non-null     int64         \n",
      "dtypes: datetime64[ns](1), int64(1), object(1)\n",
      "memory usage: 1.6+ KB\n",
      "<class 'pandas.core.frame.DataFrame'>\n",
      "RangeIndex: 9 entries, 0 to 8\n",
      "Data columns (total 5 columns):\n",
      " #   Column      Non-Null Count  Dtype \n",
      "---  ------      --------------  ----- \n",
      " 0   hypothesis  9 non-null      object\n",
      " 1   reach       9 non-null      int64 \n",
      " 2   impact      9 non-null      int64 \n",
      " 3   confidence  9 non-null      int64 \n",
      " 4   efforts     9 non-null      int64 \n",
      "dtypes: int64(4), object(1)\n",
      "memory usage: 488.0+ bytes\n"
     ]
    }
   ],
   "source": [
    "orders.info()\n",
    "visitors.info()\n",
    "hypothesis.info()"
   ]
  },
  {
   "cell_type": "markdown",
   "metadata": {},
   "source": [
    "<h3><span style=\"color:#37474f;\">Итог по данным</span></h3>"
   ]
  },
  {
   "cell_type": "markdown",
   "metadata": {},
   "source": [
    "<span style=\"color:#37474f;\">Были загружены предоставленные файлы данных. Просмотрено содержимое и качество информации.<br>Охватываемый период: 01 августа 2019 - 31 августа 2019 года.<br>Количество записей по заказам: 1197<br>Количество записей о посещениях: 62, что соответствует наблюдениям за двумя группами в течение 31ого дня<br>Была проведена проверка на наличие явных дубликатов(не выявлено)<br>Колонки с датами были приведены к типу данных datetime<br>Имена колонок таблицы hypothesis были приведены к нижнему регистру.</span>"
   ]
  },
  {
   "cell_type": "markdown",
   "metadata": {},
   "source": [
    "<h2><span style=\"color:#37474f;\">Приоритизация гипотез</span></h2>"
   ]
  },
  {
   "cell_type": "markdown",
   "metadata": {},
   "source": [
    "<h3><span style=\"color:#37474f;\">Приоритизация гипотез по ICE</span></h3>"
   ]
  },
  {
   "cell_type": "code",
   "execution_count": 11,
   "metadata": {},
   "outputs": [
    {
     "name": "stdout",
     "output_type": "stream",
     "text": [
      "ICE приоритизация: (Влияние * Уверенность в успехе)/Объём затраченных на реализацию усилий.\n"
     ]
    },
    {
     "data": {
      "text/html": [
       "<div>\n",
       "<style scoped>\n",
       "    .dataframe tbody tr th:only-of-type {\n",
       "        vertical-align: middle;\n",
       "    }\n",
       "\n",
       "    .dataframe tbody tr th {\n",
       "        vertical-align: top;\n",
       "    }\n",
       "\n",
       "    .dataframe thead th {\n",
       "        text-align: right;\n",
       "    }\n",
       "</style>\n",
       "<table border=\"1\" class=\"dataframe\">\n",
       "  <thead>\n",
       "    <tr style=\"text-align: right;\">\n",
       "      <th></th>\n",
       "      <th>hypothesis</th>\n",
       "      <th>reach</th>\n",
       "      <th>impact</th>\n",
       "      <th>confidence</th>\n",
       "      <th>efforts</th>\n",
       "      <th>ice</th>\n",
       "    </tr>\n",
       "  </thead>\n",
       "  <tbody>\n",
       "    <tr>\n",
       "      <th>8</th>\n",
       "      <td>Запустить акцию, дающую скидку на товар в день рождения</td>\n",
       "      <td>1</td>\n",
       "      <td>9</td>\n",
       "      <td>9</td>\n",
       "      <td>5</td>\n",
       "      <td>16.20</td>\n",
       "    </tr>\n",
       "    <tr>\n",
       "      <th>0</th>\n",
       "      <td>Добавить два новых канала привлечения трафика, что позволит привлекать на 30% больше пользователей</td>\n",
       "      <td>3</td>\n",
       "      <td>10</td>\n",
       "      <td>8</td>\n",
       "      <td>6</td>\n",
       "      <td>13.33</td>\n",
       "    </tr>\n",
       "    <tr>\n",
       "      <th>7</th>\n",
       "      <td>Добавить форму подписки на все основные страницы, чтобы собрать базу клиентов для email-рассылок</td>\n",
       "      <td>10</td>\n",
       "      <td>7</td>\n",
       "      <td>8</td>\n",
       "      <td>5</td>\n",
       "      <td>11.20</td>\n",
       "    </tr>\n",
       "    <tr>\n",
       "      <th>6</th>\n",
       "      <td>Показать на главной странице баннеры с актуальными акциями и распродажами, чтобы увеличить конверсию</td>\n",
       "      <td>5</td>\n",
       "      <td>3</td>\n",
       "      <td>8</td>\n",
       "      <td>3</td>\n",
       "      <td>8.00</td>\n",
       "    </tr>\n",
       "    <tr>\n",
       "      <th>2</th>\n",
       "      <td>Добавить блоки рекомендаций товаров на сайт интернет магазина, чтобы повысить конверсию и средний чек заказа</td>\n",
       "      <td>8</td>\n",
       "      <td>3</td>\n",
       "      <td>7</td>\n",
       "      <td>3</td>\n",
       "      <td>7.00</td>\n",
       "    </tr>\n",
       "    <tr>\n",
       "      <th>1</th>\n",
       "      <td>Запустить собственную службу доставки, что сократит срок доставки заказов</td>\n",
       "      <td>2</td>\n",
       "      <td>5</td>\n",
       "      <td>4</td>\n",
       "      <td>10</td>\n",
       "      <td>2.00</td>\n",
       "    </tr>\n",
       "    <tr>\n",
       "      <th>5</th>\n",
       "      <td>Добавить страницу отзывов клиентов о магазине, что позволит увеличить количество заказов</td>\n",
       "      <td>3</td>\n",
       "      <td>2</td>\n",
       "      <td>2</td>\n",
       "      <td>3</td>\n",
       "      <td>1.33</td>\n",
       "    </tr>\n",
       "    <tr>\n",
       "      <th>3</th>\n",
       "      <td>Изменить структура категорий, что увеличит конверсию, т.к. пользователи быстрее найдут нужный товар</td>\n",
       "      <td>8</td>\n",
       "      <td>3</td>\n",
       "      <td>3</td>\n",
       "      <td>8</td>\n",
       "      <td>1.12</td>\n",
       "    </tr>\n",
       "    <tr>\n",
       "      <th>4</th>\n",
       "      <td>Изменить цвет фона главной страницы, чтобы увеличить вовлеченность пользователей</td>\n",
       "      <td>3</td>\n",
       "      <td>1</td>\n",
       "      <td>1</td>\n",
       "      <td>1</td>\n",
       "      <td>1.00</td>\n",
       "    </tr>\n",
       "  </tbody>\n",
       "</table>\n",
       "</div>"
      ],
      "text/plain": [
       "                                                                                                     hypothesis  \\\n",
       "8                                                       Запустить акцию, дающую скидку на товар в день рождения   \n",
       "0            Добавить два новых канала привлечения трафика, что позволит привлекать на 30% больше пользователей   \n",
       "7              Добавить форму подписки на все основные страницы, чтобы собрать базу клиентов для email-рассылок   \n",
       "6          Показать на главной странице баннеры с актуальными акциями и распродажами, чтобы увеличить конверсию   \n",
       "2  Добавить блоки рекомендаций товаров на сайт интернет магазина, чтобы повысить конверсию и средний чек заказа   \n",
       "1                                     Запустить собственную службу доставки, что сократит срок доставки заказов   \n",
       "5                      Добавить страницу отзывов клиентов о магазине, что позволит увеличить количество заказов   \n",
       "3           Изменить структура категорий, что увеличит конверсию, т.к. пользователи быстрее найдут нужный товар   \n",
       "4                              Изменить цвет фона главной страницы, чтобы увеличить вовлеченность пользователей   \n",
       "\n",
       "   reach  impact  confidence  efforts    ice  \n",
       "8      1       9           9        5  16.20  \n",
       "0      3      10           8        6  13.33  \n",
       "7     10       7           8        5  11.20  \n",
       "6      5       3           8        3   8.00  \n",
       "2      8       3           7        3   7.00  \n",
       "1      2       5           4       10   2.00  \n",
       "5      3       2           2        3   1.33  \n",
       "3      8       3           3        8   1.12  \n",
       "4      3       1           1        1   1.00  "
      ]
     },
     "metadata": {},
     "output_type": "display_data"
    }
   ],
   "source": [
    "# подсчет веса ICE приоритизации\n",
    "hypothesis['ice'] = round((hypothesis['impact']*hypothesis['confidence'])/hypothesis['efforts'],2)\n",
    "\n",
    "# ICE приоритизация\n",
    "print(f'ICE приоритизация: (Влияние * Уверенность в успехе)/Объём затраченных на реализацию усилий.')\n",
    "display(hypothesis.loc[:,hypothesis.columns!='rice'].sort_values(by='ice',ascending=False))"
   ]
  },
  {
   "cell_type": "markdown",
   "metadata": {},
   "source": [
    "<h3><span style=\"color:#37474f;\">Приоритизация гипотез по RICE</span></h3>"
   ]
  },
  {
   "cell_type": "code",
   "execution_count": 12,
   "metadata": {},
   "outputs": [
    {
     "name": "stdout",
     "output_type": "stream",
     "text": [
      "\n",
      "RICE приоритизация: (Охват аудитории * Влияние * Уверенность в успехе)/Объём затраченных на реализацию усилий.\n"
     ]
    },
    {
     "data": {
      "text/html": [
       "<div>\n",
       "<style scoped>\n",
       "    .dataframe tbody tr th:only-of-type {\n",
       "        vertical-align: middle;\n",
       "    }\n",
       "\n",
       "    .dataframe tbody tr th {\n",
       "        vertical-align: top;\n",
       "    }\n",
       "\n",
       "    .dataframe thead th {\n",
       "        text-align: right;\n",
       "    }\n",
       "</style>\n",
       "<table border=\"1\" class=\"dataframe\">\n",
       "  <thead>\n",
       "    <tr style=\"text-align: right;\">\n",
       "      <th></th>\n",
       "      <th>hypothesis</th>\n",
       "      <th>reach</th>\n",
       "      <th>impact</th>\n",
       "      <th>confidence</th>\n",
       "      <th>efforts</th>\n",
       "      <th>rice</th>\n",
       "    </tr>\n",
       "  </thead>\n",
       "  <tbody>\n",
       "    <tr>\n",
       "      <th>7</th>\n",
       "      <td>Добавить форму подписки на все основные страницы, чтобы собрать базу клиентов для email-рассылок</td>\n",
       "      <td>10</td>\n",
       "      <td>7</td>\n",
       "      <td>8</td>\n",
       "      <td>5</td>\n",
       "      <td>112.0</td>\n",
       "    </tr>\n",
       "    <tr>\n",
       "      <th>2</th>\n",
       "      <td>Добавить блоки рекомендаций товаров на сайт интернет магазина, чтобы повысить конверсию и средний чек заказа</td>\n",
       "      <td>8</td>\n",
       "      <td>3</td>\n",
       "      <td>7</td>\n",
       "      <td>3</td>\n",
       "      <td>56.0</td>\n",
       "    </tr>\n",
       "    <tr>\n",
       "      <th>0</th>\n",
       "      <td>Добавить два новых канала привлечения трафика, что позволит привлекать на 30% больше пользователей</td>\n",
       "      <td>3</td>\n",
       "      <td>10</td>\n",
       "      <td>8</td>\n",
       "      <td>6</td>\n",
       "      <td>40.0</td>\n",
       "    </tr>\n",
       "    <tr>\n",
       "      <th>6</th>\n",
       "      <td>Показать на главной странице баннеры с актуальными акциями и распродажами, чтобы увеличить конверсию</td>\n",
       "      <td>5</td>\n",
       "      <td>3</td>\n",
       "      <td>8</td>\n",
       "      <td>3</td>\n",
       "      <td>40.0</td>\n",
       "    </tr>\n",
       "    <tr>\n",
       "      <th>8</th>\n",
       "      <td>Запустить акцию, дающую скидку на товар в день рождения</td>\n",
       "      <td>1</td>\n",
       "      <td>9</td>\n",
       "      <td>9</td>\n",
       "      <td>5</td>\n",
       "      <td>16.2</td>\n",
       "    </tr>\n",
       "    <tr>\n",
       "      <th>3</th>\n",
       "      <td>Изменить структура категорий, что увеличит конверсию, т.к. пользователи быстрее найдут нужный товар</td>\n",
       "      <td>8</td>\n",
       "      <td>3</td>\n",
       "      <td>3</td>\n",
       "      <td>8</td>\n",
       "      <td>9.0</td>\n",
       "    </tr>\n",
       "    <tr>\n",
       "      <th>1</th>\n",
       "      <td>Запустить собственную службу доставки, что сократит срок доставки заказов</td>\n",
       "      <td>2</td>\n",
       "      <td>5</td>\n",
       "      <td>4</td>\n",
       "      <td>10</td>\n",
       "      <td>4.0</td>\n",
       "    </tr>\n",
       "    <tr>\n",
       "      <th>5</th>\n",
       "      <td>Добавить страницу отзывов клиентов о магазине, что позволит увеличить количество заказов</td>\n",
       "      <td>3</td>\n",
       "      <td>2</td>\n",
       "      <td>2</td>\n",
       "      <td>3</td>\n",
       "      <td>4.0</td>\n",
       "    </tr>\n",
       "    <tr>\n",
       "      <th>4</th>\n",
       "      <td>Изменить цвет фона главной страницы, чтобы увеличить вовлеченность пользователей</td>\n",
       "      <td>3</td>\n",
       "      <td>1</td>\n",
       "      <td>1</td>\n",
       "      <td>1</td>\n",
       "      <td>3.0</td>\n",
       "    </tr>\n",
       "  </tbody>\n",
       "</table>\n",
       "</div>"
      ],
      "text/plain": [
       "                                                                                                     hypothesis  \\\n",
       "7              Добавить форму подписки на все основные страницы, чтобы собрать базу клиентов для email-рассылок   \n",
       "2  Добавить блоки рекомендаций товаров на сайт интернет магазина, чтобы повысить конверсию и средний чек заказа   \n",
       "0            Добавить два новых канала привлечения трафика, что позволит привлекать на 30% больше пользователей   \n",
       "6          Показать на главной странице баннеры с актуальными акциями и распродажами, чтобы увеличить конверсию   \n",
       "8                                                       Запустить акцию, дающую скидку на товар в день рождения   \n",
       "3           Изменить структура категорий, что увеличит конверсию, т.к. пользователи быстрее найдут нужный товар   \n",
       "1                                     Запустить собственную службу доставки, что сократит срок доставки заказов   \n",
       "5                      Добавить страницу отзывов клиентов о магазине, что позволит увеличить количество заказов   \n",
       "4                              Изменить цвет фона главной страницы, чтобы увеличить вовлеченность пользователей   \n",
       "\n",
       "   reach  impact  confidence  efforts   rice  \n",
       "7     10       7           8        5  112.0  \n",
       "2      8       3           7        3   56.0  \n",
       "0      3      10           8        6   40.0  \n",
       "6      5       3           8        3   40.0  \n",
       "8      1       9           9        5   16.2  \n",
       "3      8       3           3        8    9.0  \n",
       "1      2       5           4       10    4.0  \n",
       "5      3       2           2        3    4.0  \n",
       "4      3       1           1        1    3.0  "
      ]
     },
     "metadata": {},
     "output_type": "display_data"
    }
   ],
   "source": [
    "# подсчет веса RICE приоритизации\n",
    "hypothesis['rice'] = round((hypothesis['reach']*hypothesis['impact']*hypothesis['confidence'])/hypothesis['efforts'],2)\n",
    "\n",
    "# RICE приоритизация\n",
    "print(f'\\nRICE приоритизация: (Охват аудитории * Влияние * Уверенность в успехе)/Объём затраченных на реализацию усилий.')\n",
    "display(hypothesis.loc[:,hypothesis.columns!='ice'].sort_values(by='rice',ascending=False))"
   ]
  },
  {
   "cell_type": "markdown",
   "metadata": {},
   "source": [
    "<h3><span style=\"color:#37474f;\">Анализ результата</span></h3>"
   ]
  },
  {
   "cell_type": "markdown",
   "metadata": {},
   "source": [
    "<span style=\"color:#37474f;\">Т.к. приоритизация RICE учитывает дополнительно к ICE охват аудитории, то любая гипотеза, влияющая на всех пользователей/клиентов/посетителей, получит более высокий балл.<br>Так и произошло в данном примере: форма подписки, помещенная на все основные страницы, затронет всех посетителей сайта и, следовательно, её приоритет по RICE станет максимальным</span>"
   ]
  },
  {
   "cell_type": "code",
   "execution_count": 13,
   "metadata": {},
   "outputs": [
    {
     "data": {
      "text/html": [
       "<style  type=\"text/css\" >\n",
       "#T_2b15a_row0_col1,#T_2b15a_row2_col2{\n",
       "            background-color:  #081d58;\n",
       "            color:  #f1f1f1;\n",
       "        }#T_2b15a_row0_col2{\n",
       "            background-color:  #e9f7b1;\n",
       "            color:  #000000;\n",
       "        }#T_2b15a_row1_col1{\n",
       "            background-color:  #24479d;\n",
       "            color:  #f1f1f1;\n",
       "        }#T_2b15a_row1_col2,#T_2b15a_row3_col2{\n",
       "            background-color:  #8ed3ba;\n",
       "            color:  #000000;\n",
       "        }#T_2b15a_row2_col1{\n",
       "            background-color:  #2076b3;\n",
       "            color:  #000000;\n",
       "        }#T_2b15a_row3_col1{\n",
       "            background-color:  #46b8c3;\n",
       "            color:  #000000;\n",
       "        }#T_2b15a_row4_col1{\n",
       "            background-color:  #63c3bf;\n",
       "            color:  #000000;\n",
       "        }#T_2b15a_row4_col2{\n",
       "            background-color:  #40b5c4;\n",
       "            color:  #000000;\n",
       "        }#T_2b15a_row5_col1{\n",
       "            background-color:  #eef8b3;\n",
       "            color:  #000000;\n",
       "        }#T_2b15a_row5_col2,#T_2b15a_row6_col2{\n",
       "            background-color:  #fbfdd0;\n",
       "            color:  #000000;\n",
       "        }#T_2b15a_row6_col1,#T_2b15a_row7_col2{\n",
       "            background-color:  #f4fbc0;\n",
       "            color:  #000000;\n",
       "        }#T_2b15a_row7_col1,#T_2b15a_row8_col1{\n",
       "            background-color:  #f7fcc6;\n",
       "            color:  #000000;\n",
       "        }#T_2b15a_row8_col2{\n",
       "            background-color:  #fcfed3;\n",
       "            color:  #000000;\n",
       "        }</style><table id=\"T_2b15a_\" ><caption>ICE/RICE приоритизация гипотез, %от максимального балла</caption><thead>    <tr>        <th class=\"blank level0\" ></th>        <th class=\"col_heading level0 col0\" >hypothesis</th>        <th class=\"col_heading level0 col1\" >ice</th>        <th class=\"col_heading level0 col2\" >rice</th>    </tr></thead><tbody>\n",
       "                <tr>\n",
       "                        <th id=\"T_2b15a_level0_row0\" class=\"row_heading level0 row0\" >8</th>\n",
       "                        <td id=\"T_2b15a_row0_col0\" class=\"data row0 col0\" >Запустить акцию, дающую скидку на товар в день рождения</td>\n",
       "                        <td id=\"T_2b15a_row0_col1\" class=\"data row0 col1\" >100</td>\n",
       "                        <td id=\"T_2b15a_row0_col2\" class=\"data row0 col2\" >14</td>\n",
       "            </tr>\n",
       "            <tr>\n",
       "                        <th id=\"T_2b15a_level0_row1\" class=\"row_heading level0 row1\" >0</th>\n",
       "                        <td id=\"T_2b15a_row1_col0\" class=\"data row1 col0\" >Добавить два новых канала привлечения трафика, что позволит привлекать на 30% больше пользователей</td>\n",
       "                        <td id=\"T_2b15a_row1_col1\" class=\"data row1 col1\" >82</td>\n",
       "                        <td id=\"T_2b15a_row1_col2\" class=\"data row1 col2\" >35</td>\n",
       "            </tr>\n",
       "            <tr>\n",
       "                        <th id=\"T_2b15a_level0_row2\" class=\"row_heading level0 row2\" >7</th>\n",
       "                        <td id=\"T_2b15a_row2_col0\" class=\"data row2 col0\" >Добавить форму подписки на все основные страницы, чтобы собрать базу клиентов для email-рассылок</td>\n",
       "                        <td id=\"T_2b15a_row2_col1\" class=\"data row2 col1\" >69</td>\n",
       "                        <td id=\"T_2b15a_row2_col2\" class=\"data row2 col2\" >100</td>\n",
       "            </tr>\n",
       "            <tr>\n",
       "                        <th id=\"T_2b15a_level0_row3\" class=\"row_heading level0 row3\" >6</th>\n",
       "                        <td id=\"T_2b15a_row3_col0\" class=\"data row3 col0\" >Показать на главной странице баннеры с актуальными акциями и распродажами, чтобы увеличить конверсию</td>\n",
       "                        <td id=\"T_2b15a_row3_col1\" class=\"data row3 col1\" >49</td>\n",
       "                        <td id=\"T_2b15a_row3_col2\" class=\"data row3 col2\" >35</td>\n",
       "            </tr>\n",
       "            <tr>\n",
       "                        <th id=\"T_2b15a_level0_row4\" class=\"row_heading level0 row4\" >2</th>\n",
       "                        <td id=\"T_2b15a_row4_col0\" class=\"data row4 col0\" >Добавить блоки рекомендаций товаров на сайт интернет магазина, чтобы повысить конверсию и средний чек заказа</td>\n",
       "                        <td id=\"T_2b15a_row4_col1\" class=\"data row4 col1\" >43</td>\n",
       "                        <td id=\"T_2b15a_row4_col2\" class=\"data row4 col2\" >50</td>\n",
       "            </tr>\n",
       "            <tr>\n",
       "                        <th id=\"T_2b15a_level0_row5\" class=\"row_heading level0 row5\" >1</th>\n",
       "                        <td id=\"T_2b15a_row5_col0\" class=\"data row5 col0\" >Запустить собственную службу доставки, что сократит срок доставки заказов</td>\n",
       "                        <td id=\"T_2b15a_row5_col1\" class=\"data row5 col1\" >12</td>\n",
       "                        <td id=\"T_2b15a_row5_col2\" class=\"data row5 col2\" >3</td>\n",
       "            </tr>\n",
       "            <tr>\n",
       "                        <th id=\"T_2b15a_level0_row6\" class=\"row_heading level0 row6\" >5</th>\n",
       "                        <td id=\"T_2b15a_row6_col0\" class=\"data row6 col0\" >Добавить страницу отзывов клиентов о магазине, что позволит увеличить количество заказов</td>\n",
       "                        <td id=\"T_2b15a_row6_col1\" class=\"data row6 col1\" >8</td>\n",
       "                        <td id=\"T_2b15a_row6_col2\" class=\"data row6 col2\" >3</td>\n",
       "            </tr>\n",
       "            <tr>\n",
       "                        <th id=\"T_2b15a_level0_row7\" class=\"row_heading level0 row7\" >3</th>\n",
       "                        <td id=\"T_2b15a_row7_col0\" class=\"data row7 col0\" >Изменить структура категорий, что увеличит конверсию, т.к. пользователи быстрее найдут нужный товар</td>\n",
       "                        <td id=\"T_2b15a_row7_col1\" class=\"data row7 col1\" >6</td>\n",
       "                        <td id=\"T_2b15a_row7_col2\" class=\"data row7 col2\" >8</td>\n",
       "            </tr>\n",
       "            <tr>\n",
       "                        <th id=\"T_2b15a_level0_row8\" class=\"row_heading level0 row8\" >4</th>\n",
       "                        <td id=\"T_2b15a_row8_col0\" class=\"data row8 col0\" >Изменить цвет фона главной страницы, чтобы увеличить вовлеченность пользователей</td>\n",
       "                        <td id=\"T_2b15a_row8_col1\" class=\"data row8 col1\" >6</td>\n",
       "                        <td id=\"T_2b15a_row8_col2\" class=\"data row8 col2\" >2</td>\n",
       "            </tr>\n",
       "    </tbody></table>"
      ],
      "text/plain": [
       "<pandas.io.formats.style.Styler at 0x7f8e189936d0>"
      ]
     },
     "execution_count": 13,
     "metadata": {},
     "output_type": "execute_result"
    }
   ],
   "source": [
    "hypothesis['ice'] = hypothesis['ice'].apply(lambda x: int(100*x/hypothesis['ice'].max()))\n",
    "hypothesis['rice'] = hypothesis['rice'].apply(lambda x: int(100*x/hypothesis['rice'].max()))#hypothesis_style.sort_values(by=['ice','rice'])\n",
    "hypothesis.sort_values(by=['ice','rice'],ascending=False,inplace=True)\n",
    "(hypothesis[['hypothesis','ice','rice']].style\n",
    "    .set_caption('ICE/RICE приоритизация гипотез, %от максимального балла')\n",
    "    .background_gradient(axis=None,\n",
    "                         vmin=0,\n",
    "                         vmax=100,\n",
    "                         cmap='YlGnBu')\n",
    ")"
   ]
  },
  {
   "cell_type": "markdown",
   "metadata": {},
   "source": [
    "<h2><span style=\"color:#37474f;\">Анализ A/B-теста</span></h2>"
   ]
  },
  {
   "cell_type": "markdown",
   "metadata": {},
   "source": [
    "<p><span style=\"color:#37474f;\">Перед тем, как приступить непосредственно к анализу, проведем проверку данных на предмет соответствия параметрам A/B тестирования</span>"
   ]
  },
  {
   "cell_type": "code",
   "execution_count": 14,
   "metadata": {},
   "outputs": [
    {
     "name": "stdout",
     "output_type": "stream",
     "text": [
      "Количество пользователей, попавших одновременно в 2 группы: 58\n"
     ]
    }
   ],
   "source": [
    "# проверка посетителей, попавших в обе группы тестирования\n",
    "duplicate_visId = (orders\n",
    "                   .groupby('visitorId')\n",
    "                   .agg({'group':'nunique'})\n",
    "                   .query('group>1')\n",
    "                   .reset_index()\n",
    "                   \n",
    "                  )\n",
    "print(f'Количество пользователей, попавших одновременно в 2 группы: {len(duplicate_visId)}')"
   ]
  },
  {
   "cell_type": "code",
   "execution_count": 15,
   "metadata": {},
   "outputs": [],
   "source": [
    "# уберем этих пользователей из результатов\n",
    "orders = orders.query('~visitorId.isin(@duplicate_visId[\"visitorId\"])')"
   ]
  },
  {
   "cell_type": "code",
   "execution_count": 16,
   "metadata": {},
   "outputs": [
    {
     "data": {
      "text/html": [
       "<div>\n",
       "<style scoped>\n",
       "    .dataframe tbody tr th:only-of-type {\n",
       "        vertical-align: middle;\n",
       "    }\n",
       "\n",
       "    .dataframe tbody tr th {\n",
       "        vertical-align: top;\n",
       "    }\n",
       "\n",
       "    .dataframe thead th {\n",
       "        text-align: right;\n",
       "    }\n",
       "</style>\n",
       "<table border=\"1\" class=\"dataframe\">\n",
       "  <thead>\n",
       "    <tr style=\"text-align: right;\">\n",
       "      <th></th>\n",
       "      <th>date</th>\n",
       "      <th>group</th>\n",
       "    </tr>\n",
       "  </thead>\n",
       "  <tbody>\n",
       "    <tr>\n",
       "      <th>55</th>\n",
       "      <td>2019-08-01</td>\n",
       "      <td>A</td>\n",
       "    </tr>\n",
       "    <tr>\n",
       "      <th>66</th>\n",
       "      <td>2019-08-01</td>\n",
       "      <td>B</td>\n",
       "    </tr>\n",
       "    <tr>\n",
       "      <th>175</th>\n",
       "      <td>2019-08-02</td>\n",
       "      <td>A</td>\n",
       "    </tr>\n",
       "    <tr>\n",
       "      <th>173</th>\n",
       "      <td>2019-08-02</td>\n",
       "      <td>B</td>\n",
       "    </tr>\n",
       "    <tr>\n",
       "      <th>291</th>\n",
       "      <td>2019-08-03</td>\n",
       "      <td>A</td>\n",
       "    </tr>\n",
       "    <tr>\n",
       "      <th>383</th>\n",
       "      <td>2019-08-03</td>\n",
       "      <td>B</td>\n",
       "    </tr>\n",
       "  </tbody>\n",
       "</table>\n",
       "</div>"
      ],
      "text/plain": [
       "          date group\n",
       "55  2019-08-01     A\n",
       "66  2019-08-01     B\n",
       "175 2019-08-02     A\n",
       "173 2019-08-02     B\n",
       "291 2019-08-03     A\n",
       "383 2019-08-03     B"
      ]
     },
     "execution_count": 16,
     "metadata": {},
     "output_type": "execute_result"
    }
   ],
   "source": [
    "# создаем массив уникальных пар значений дат и групп теста\n",
    "datesGroups = orders[['date','group']].drop_duplicates().sort_values(by=['date','group'])\n",
    "datesGroups.head(6)"
   ]
  },
  {
   "cell_type": "markdown",
   "metadata": {},
   "source": [
    "<h3><span style=\"color:#37474f;\">Кумулятивная выручка по группам. График. Выводы</span></h3>"
   ]
  },
  {
   "cell_type": "code",
   "execution_count": 17,
   "metadata": {},
   "outputs": [],
   "source": [
    "# определим функцию для агрегирования данных и построения графиков\n",
    "\n",
    "def rev_review(agg_func,no_graph=False): # передаем функцию агргирования и отключение построения графика\n",
    "    ordersAggregated = (datesGroups\n",
    "                        .apply(lambda x: orders[np.logical_and(orders['date'] <= x['date'], orders['group'] == x['group'])]\n",
    "                               .agg({'date' : 'max', \n",
    "                                     'group' : 'max', \n",
    "                                     'transactionId' : 'nunique', \n",
    "                                     'visitorId' : 'nunique',\n",
    "                                     'revenue':agg_func}),\n",
    "                                 axis=1)\n",
    "                        .sort_values(by=['date','group']))\n",
    "    visitorsAggregated = (datesGroups\n",
    "                          .apply(lambda x: visitors[np.logical_and(visitors['date'] <= x['date'], visitors['group'] == x['group'])]\n",
    "                                 .agg({'date' : 'max',\n",
    "                                       'group' : 'max',\n",
    "                                       'visitors' : 'sum'}),\n",
    "                                 axis=1)\n",
    "                          .sort_values(by=['date','group']))\n",
    "    \n",
    "    cumulativeData = ordersAggregated.merge(visitorsAggregated, \n",
    "                                            left_on=['date', 'group'], \n",
    "                                            right_on=['date', 'group'])\n",
    "    \n",
    "    cumulativeData.columns = ['date', 'group', 'orders', 'buyers', 'revenue', 'visitors']\n",
    "\n",
    "    # датафрейм с кумулятивной выручкой по дням в группе А\n",
    "    cumulativeRevenueA = ordersAggregated[ordersAggregated['group']=='A'][['date','revenue']]\n",
    "    # датафрейм с кумулятивной выручкой по дням в группе B\n",
    "    cumulativeRevenueB = ordersAggregated[ordersAggregated['group']=='B'][['date','revenue']]\n",
    "\n",
    "    if(no_graph==False):\n",
    "        display(ordersAggregated[['date','group','revenue']].head(6))\n",
    "        plt.figure(figsize=(15,7))\n",
    "        title='График кумулятивной выручки по группам'\n",
    "        if (agg_func=='mean'):\n",
    "            title='График кумулятивного среднего чека по группам'\n",
    "        plt.title(title)\n",
    "        # Строим график выручки группы А\n",
    "        plt.plot(cumulativeRevenueA['date'], cumulativeRevenueA['revenue'], label='A')\n",
    "        # Строим график выручки группы B\n",
    "        plt.plot(cumulativeRevenueB['date'], cumulativeRevenueB['revenue'], label='B')\n",
    "        plt.grid(True)\n",
    "        plt.xlabel('Дата')\n",
    "        plt.ylabel('Выручка')\n",
    "        plt.legend() \n",
    "        plt.show()\n",
    "    else:    \n",
    "        return cumulativeData # возвращаем кумулятивную таблицу с заданной агрегацией"
   ]
  },
  {
   "cell_type": "code",
   "execution_count": 18,
   "metadata": {},
   "outputs": [
    {
     "data": {
      "text/html": [
       "<div>\n",
       "<style scoped>\n",
       "    .dataframe tbody tr th:only-of-type {\n",
       "        vertical-align: middle;\n",
       "    }\n",
       "\n",
       "    .dataframe tbody tr th {\n",
       "        vertical-align: top;\n",
       "    }\n",
       "\n",
       "    .dataframe thead th {\n",
       "        text-align: right;\n",
       "    }\n",
       "</style>\n",
       "<table border=\"1\" class=\"dataframe\">\n",
       "  <thead>\n",
       "    <tr style=\"text-align: right;\">\n",
       "      <th></th>\n",
       "      <th>date</th>\n",
       "      <th>group</th>\n",
       "      <th>revenue</th>\n",
       "    </tr>\n",
       "  </thead>\n",
       "  <tbody>\n",
       "    <tr>\n",
       "      <th>55</th>\n",
       "      <td>2019-08-01</td>\n",
       "      <td>A</td>\n",
       "      <td>142779</td>\n",
       "    </tr>\n",
       "    <tr>\n",
       "      <th>66</th>\n",
       "      <td>2019-08-01</td>\n",
       "      <td>B</td>\n",
       "      <td>59758</td>\n",
       "    </tr>\n",
       "    <tr>\n",
       "      <th>175</th>\n",
       "      <td>2019-08-02</td>\n",
       "      <td>A</td>\n",
       "      <td>234381</td>\n",
       "    </tr>\n",
       "    <tr>\n",
       "      <th>173</th>\n",
       "      <td>2019-08-02</td>\n",
       "      <td>B</td>\n",
       "      <td>221801</td>\n",
       "    </tr>\n",
       "    <tr>\n",
       "      <th>291</th>\n",
       "      <td>2019-08-03</td>\n",
       "      <td>A</td>\n",
       "      <td>346854</td>\n",
       "    </tr>\n",
       "    <tr>\n",
       "      <th>383</th>\n",
       "      <td>2019-08-03</td>\n",
       "      <td>B</td>\n",
       "      <td>288850</td>\n",
       "    </tr>\n",
       "  </tbody>\n",
       "</table>\n",
       "</div>"
      ],
      "text/plain": [
       "          date group  revenue\n",
       "55  2019-08-01     A   142779\n",
       "66  2019-08-01     B    59758\n",
       "175 2019-08-02     A   234381\n",
       "173 2019-08-02     B   221801\n",
       "291 2019-08-03     A   346854\n",
       "383 2019-08-03     B   288850"
      ]
     },
     "metadata": {},
     "output_type": "display_data"
    },
    {
     "data": {
      "image/png": "[encoded data removed]",
      "text/plain": [
       "<Figure size 1080x504 with 1 Axes>"
      ]
     },
     "metadata": {
      "needs_background": "light"
     },
     "output_type": "display_data"
    }
   ],
   "source": [
    "rev_review('sum') # кумулятивная выручка (функция sum) + график"
   ]
  },
  {
   "cell_type": "markdown",
   "metadata": {},
   "source": [
    "<span style=\"color:#37474f;\">В начале тестирования выручка у обоих групп растет равномерно и без сильных различий, но 18-19 августе в группе B был зафиксирован резкий скачок. После него плавный рост обоих групп продолжился. Что это был за скачок: аномальный случайный заказ или результат доработок - возможно, следует рассмотреть более внимательно</span>"
   ]
  },
  {
   "cell_type": "markdown",
   "metadata": {},
   "source": [
    "<h3><span style=\"color:#37474f;\">Кумулятивный средний чек по группам. График. Выводы</span></h3>"
   ]
  },
  {
   "cell_type": "code",
   "execution_count": 19,
   "metadata": {},
   "outputs": [
    {
     "data": {
      "text/html": [
       "<div>\n",
       "<style scoped>\n",
       "    .dataframe tbody tr th:only-of-type {\n",
       "        vertical-align: middle;\n",
       "    }\n",
       "\n",
       "    .dataframe tbody tr th {\n",
       "        vertical-align: top;\n",
       "    }\n",
       "\n",
       "    .dataframe thead th {\n",
       "        text-align: right;\n",
       "    }\n",
       "</style>\n",
       "<table border=\"1\" class=\"dataframe\">\n",
       "  <thead>\n",
       "    <tr style=\"text-align: right;\">\n",
       "      <th></th>\n",
       "      <th>date</th>\n",
       "      <th>group</th>\n",
       "      <th>revenue</th>\n",
       "    </tr>\n",
       "  </thead>\n",
       "  <tbody>\n",
       "    <tr>\n",
       "      <th>55</th>\n",
       "      <td>2019-08-01</td>\n",
       "      <td>A</td>\n",
       "      <td>6207.782609</td>\n",
       "    </tr>\n",
       "    <tr>\n",
       "      <th>66</th>\n",
       "      <td>2019-08-01</td>\n",
       "      <td>B</td>\n",
       "      <td>3515.176471</td>\n",
       "    </tr>\n",
       "    <tr>\n",
       "      <th>175</th>\n",
       "      <td>2019-08-02</td>\n",
       "      <td>A</td>\n",
       "      <td>5580.500000</td>\n",
       "    </tr>\n",
       "    <tr>\n",
       "      <th>173</th>\n",
       "      <td>2019-08-02</td>\n",
       "      <td>B</td>\n",
       "      <td>5545.025000</td>\n",
       "    </tr>\n",
       "    <tr>\n",
       "      <th>291</th>\n",
       "      <td>2019-08-03</td>\n",
       "      <td>A</td>\n",
       "      <td>5255.363636</td>\n",
       "    </tr>\n",
       "    <tr>\n",
       "      <th>383</th>\n",
       "      <td>2019-08-03</td>\n",
       "      <td>B</td>\n",
       "      <td>5349.074074</td>\n",
       "    </tr>\n",
       "  </tbody>\n",
       "</table>\n",
       "</div>"
      ],
      "text/plain": [
       "          date group      revenue\n",
       "55  2019-08-01     A  6207.782609\n",
       "66  2019-08-01     B  3515.176471\n",
       "175 2019-08-02     A  5580.500000\n",
       "173 2019-08-02     B  5545.025000\n",
       "291 2019-08-03     A  5255.363636\n",
       "383 2019-08-03     B  5349.074074"
      ]
     },
     "metadata": {},
     "output_type": "display_data"
    },
    {
     "data": {
      "image/png": "[encoded data removed]",
      "text/plain": [
       "<Figure size 1080x504 with 1 Axes>"
      ]
     },
     "metadata": {
      "needs_background": "light"
     },
     "output_type": "display_data"
    }
   ],
   "source": [
    "rev_review('mean') # кумулятивная средний чек (функция mean) + график"
   ]
  },
  {
   "cell_type": "markdown",
   "metadata": {},
   "source": [
    "<span style=\"color:#37474f;\">Картина по среднему чеку более говорящая: практически с самого начала средний кумулятивный чек в группе B был значительно выше, чем в группе A. В периоде с 12-08 по 18-08 средний чек группы A был несколько выше, но как в в случае с выручкой, 18-19 августа средний чек группы B резко ушел вверх. Этот скачок поднял график группы B выше, но в дальнейшем можно наблюдать его снижение. Для ясности и понимания требуется разбор скачка и больше данных для анализа.</span>"
   ]
  },
  {
   "cell_type": "markdown",
   "metadata": {},
   "source": [
    "<h3><span style=\"color:#37474f;\">Относительное изменение кумулятивного среднего чека группы B к группе A. График. Выводы</span></h3>"
   ]
  },
  {
   "cell_type": "code",
   "execution_count": 20,
   "metadata": {},
   "outputs": [
    {
     "data": {
      "image/png": "[encoded data removed]",
      "text/plain": [
       "<Figure size 1080x504 with 1 Axes>"
      ]
     },
     "metadata": {
      "needs_background": "light"
     },
     "output_type": "display_data"
    }
   ],
   "source": [
    "cd = rev_review('mean',no_graph=True) # нам нужны только кумулятивные данные среднего, без построения графика \n",
    "\n",
    "# собираем сводную таблицу для объединения 2 строк для групп A/B в одну строчку \n",
    "rev_rel = cd.pivot_table(index='date',columns='group',values='revenue').reset_index()\n",
    "\n",
    "# добавляем столбец с отношением B к A\n",
    "rev_rel['relation'] = round(rev_rel['B']/rev_rel['A']-1,2)\n",
    "\n",
    "# строим график по этому столбцу\n",
    "plt.figure(figsize=(15,7))\n",
    "plt.title(f'График относительного изменения кумулятивного среднего чека группы B к группе A')\n",
    "plt.plot(rev_rel['date'],rev_rel['relation'])\n",
    "plt.grid(True)\n",
    "plt.axhline(y=0, color='red', linestyle='dashed')\n",
    "plt.xlabel('Дата')\n",
    "plt.ylabel('Отношение группы B к группе A')\n",
    "plt.show()\n",
    "del rev_rel # освобождаем память от ненужных в дальнейшем данных"
   ]
  },
  {
   "cell_type": "markdown",
   "metadata": {},
   "source": [
    "<span style=\"color:#37474f;\">Сделать определенные выводы по этому графику нельзя. Никакой стабильности нет.</span>"
   ]
  },
  {
   "cell_type": "markdown",
   "metadata": {},
   "source": [
    "<h3><span style=\"color:#37474f;\">Кумулятивное среднее количества заказов на посетителя по группам. График. Выводы</span></h3>"
   ]
  },
  {
   "cell_type": "code",
   "execution_count": 21,
   "metadata": {},
   "outputs": [
    {
     "data": {
      "image/png": "[encoded data removed]",
      "text/plain": [
       "<Figure size 1080x504 with 1 Axes>"
      ]
     },
     "metadata": {
      "needs_background": "light"
     },
     "output_type": "display_data"
    }
   ],
   "source": [
    "cd['order_per_visitor']=cd['orders']/cd['visitors'] # используя ранее сделанную кумулятивную таблицу,\n",
    "# добавляем в нее новый столбец со средним количеством заказов\n",
    "\n",
    "# строим графики по этому столбцу с раделением по группам\n",
    "plt.figure(figsize=(15,7))\n",
    "plt.title(f'График среднего количества заказов на посетителя по группам')\n",
    "\n",
    "# Строим график выручки группы A\n",
    "plt.plot(cd.query('group==\"A\"')['date'], cd.query('group==\"A\"')['order_per_visitor'], label='A')\n",
    "# Строим график выручки группы B\n",
    "plt.plot(cd.query('group==\"B\"')['date'], cd.query('group==\"B\"')['order_per_visitor'], label='B')\n",
    "\n",
    "plt.grid(True)\n",
    "plt.legend()\n",
    "plt.xlabel('Дата')\n",
    "plt.ylabel('Заказов на посетителя')\n",
    "plt.show()"
   ]
  },
  {
   "cell_type": "markdown",
   "metadata": {},
   "source": [
    "<span style=\"color:#37474f;\">Хороший график для того, чтобы сделать вывод о том, что среднее количество заказов в группе B лучше, чем в группе A. Стабильно. Снижение обоих кривых свзяно с накоплением данных и приближением к реальным показателям.</span>"
   ]
  },
  {
   "cell_type": "markdown",
   "metadata": {},
   "source": [
    "<h3><span style=\"color:#37474f;\">Относительное изменение кумулятивного среднего количества заказов на посетителя группы B к группе A. График. Выводы</span></h3>"
   ]
  },
  {
   "cell_type": "code",
   "execution_count": 22,
   "metadata": {},
   "outputs": [
    {
     "data": {
      "image/png": "[encoded data removed]",
      "text/plain": [
       "<Figure size 1080x504 with 1 Axes>"
      ]
     },
     "metadata": {
      "needs_background": "light"
     },
     "output_type": "display_data"
    }
   ],
   "source": [
    "# используя ранее сделанную кумулятивную таблицу, создаем на ее основе сводную\n",
    "# чтобы строки групп стали столбцами\n",
    "orders_rel = cd.pivot_table(index='date',columns='group',values='orders').reset_index()\n",
    "\n",
    "orders_rel['change'] = orders_rel['B']/orders_rel['A']-1 # считаем отношение заказов группы В к группе A\n",
    "\n",
    "# строим график по этому столбцу\n",
    "plt.figure(figsize=(15,7))\n",
    "plt.title(f'График относительного изменения кумулятивного среднего количества заказов на посетителя группы B к группе A.')\n",
    "plt.plot(orders_rel['date'],orders_rel['change'])\n",
    "plt.grid(True)\n",
    "plt.axhline(y=0, color='red', linestyle='dashed')\n",
    "plt.xlabel('Дата')\n",
    "plt.ylabel('Отношение группы B к группе A')\n",
    "plt.show()\n",
    "del orders_rel # освобождаем память от ненужных в дальнейшем данных"
   ]
  },
  {
   "cell_type": "markdown",
   "metadata": {},
   "source": [
    "<span style=\"color:#37474f;\">Этот график так же показывает, что среднее количество заказов в группе B стабильно выше, чем в группе A. Отрицательные значения в левой части графика - недостаточное количество накопленных данных в начале тестирования. Я бы посоветовал не обращать на них внимания из-за выстокой вероятности влияния выбросов в этот момент</span>"
   ]
  },
  {
   "cell_type": "markdown",
   "metadata": {},
   "source": [
    "<h3><span style=\"color:#37474f;\">Точечный график количества заказов по пользователям. График. Выводы</span></h3>"
   ]
  },
  {
   "cell_type": "code",
   "execution_count": 23,
   "metadata": {},
   "outputs": [
    {
     "data": {
      "image/png": "[encoded data removed]",
      "text/plain": [
       "<Figure size 1080x504 with 1 Axes>"
      ]
     },
     "metadata": {
      "needs_background": "light"
     },
     "output_type": "display_data"
    }
   ],
   "source": [
    "# используя ранее сделанную кумулятивную таблицу, создаем на ее основе группировку\n",
    "# по посетителям и количеству их заказов\n",
    "orders_per_user = orders.groupby('visitorId',as_index=False).agg({'transactionId':'nunique'})\n",
    "\n",
    "# строим точечный график\n",
    "x_value = pd.Series(range(0,len(orders_per_user)))\n",
    "plt.figure(figsize=(15,7))\n",
    "plt.title(f'График количества заказов по пользователям')\n",
    "plt.xlabel('Пользователей')\n",
    "plt.ylabel(f'Количество заказов')\n",
    "plt.scatter(x_value,orders_per_user['transactionId'])\n",
    "plt.show()"
   ]
  },
  {
   "cell_type": "markdown",
   "metadata": {},
   "source": [
    "<span style=\"color:#37474f;\">Прекрасно видно, что подавляющее число пользователей делает один заказ. Два заказа - редкость, три - исключение</span>"
   ]
  },
  {
   "cell_type": "markdown",
   "metadata": {},
   "source": [
    "<h3><span style=\"color:#37474f;\">95-й и 99-й перцентили количества заказов на пользователя. Граница для определения аномальных пользователей</span></h3>"
   ]
  },
  {
   "cell_type": "code",
   "execution_count": 24,
   "metadata": {},
   "outputs": [
    {
     "name": "stdout",
     "output_type": "stream",
     "text": [
      "Не более 5% посетителей делают более 1 заказов\n",
      "Не более 1% посетителей делают более 2 заказов\n"
     ]
    }
   ],
   "source": [
    "perc=[95,99] # задаем целевые перцентили\n",
    "abnormal_order = np.percentile(orders_per_user['transactionId'],perc)\n",
    "\n",
    "for i in range(0,len(perc)):\n",
    "    print(f'Не более {100-perc[i]}% посетителей делают более {int(abnormal_order[i])} заказов')"
   ]
  },
  {
   "cell_type": "markdown",
   "metadata": {},
   "source": [
    "<span style=\"color:#37474f;\">Перцентили показывают те же самые результаты: 95% пользователей делают 1 заказ, 5% делают более одного заказа и 1% из них - более 2х заказов</span>"
   ]
  },
  {
   "cell_type": "code",
   "execution_count": 25,
   "metadata": {},
   "outputs": [],
   "source": [
    "# возьмем за аномальные значения 99 перцентиль, т.е. более 2х заказов на посетителя\n",
    "abnormal_order = abnormal_order[1]"
   ]
  },
  {
   "cell_type": "markdown",
   "metadata": {},
   "source": [
    "<span style=\"color:#37474f;\">За границу аномальности принимаем 99 перцентиль, т.е. пользователей, сделавших более 2х заказов</span>"
   ]
  },
  {
   "cell_type": "markdown",
   "metadata": {},
   "source": [
    "<h3><span style=\"color:#37474f;\">Точечный график стоимостей заказов. График. Выводы</span></h3>"
   ]
  },
  {
   "cell_type": "code",
   "execution_count": 26,
   "metadata": {},
   "outputs": [
    {
     "data": {
      "image/png": "[encoded data removed]",
      "text/plain": [
       "<Figure size 1080x504 with 1 Axes>"
      ]
     },
     "metadata": {
      "needs_background": "light"
     },
     "output_type": "display_data"
    }
   ],
   "source": [
    "# строим точечный график стоимостей заказов\n",
    "\n",
    "x_value = pd.Series(range(0,len(orders)))\n",
    "plt.figure(figsize=(15,7))\n",
    "plt.title(f'График стоимостей заказов')\n",
    "plt.xlabel('Пользователей')\n",
    "plt.ylabel(f'Стоимость заказа')\n",
    "plt.scatter(x_value,orders['revenue'])\n",
    "plt.show()"
   ]
  },
  {
   "cell_type": "markdown",
   "metadata": {},
   "source": [
    "<span style=\"color:#37474f;\">Точки стоимости на графике показывают выбросы. И это практически без сомнений. Расмотрим перцентили</span>"
   ]
  },
  {
   "cell_type": "markdown",
   "metadata": {},
   "source": [
    "<h3><span style=\"color:#37474f;\">95-й и 99-й перцентили стоимости заказов. Граница для определения аномальных заказов.</span></h3>"
   ]
  },
  {
   "cell_type": "code",
   "execution_count": 27,
   "metadata": {},
   "outputs": [
    {
     "name": "stdout",
     "output_type": "stream",
     "text": [
      "Не более 5% заказов дороже 26785\n",
      "Не более 1% заказов дороже 53904\n",
      "[26785. 53904.]\n"
     ]
    }
   ],
   "source": [
    "perc=[95,99] # задаем целевые перцентили\n",
    "abnormal_revenue = np.percentile(orders['revenue'],perc)\n",
    "\n",
    "for i in range(0,len(perc)):\n",
    "    print(f'Не более {100-perc[i]}% заказов дороже {int(abnormal_revenue[i])}')\n",
    "print(np.percentile(orders['revenue'],[95,99]))"
   ]
  },
  {
   "cell_type": "markdown",
   "metadata": {},
   "source": [
    "<span style=\"color:#37474f;\">95% заказов - до 26785 у.е., 5% - дороже этой суммы, но всего 1% дороже 53904</span>"
   ]
  },
  {
   "cell_type": "code",
   "execution_count": 28,
   "metadata": {},
   "outputs": [],
   "source": [
    "# возьмем за аномальные значения 99 перцентиль, т.е. заказ стоимостью более 53904\n",
    "abnormal_revenue = abnormal_revenue[1]"
   ]
  },
  {
   "cell_type": "markdown",
   "metadata": {},
   "source": [
    "<span style=\"color:#37474f;\">Как и в случае с количеством заказов, аномальными значениями принимаем сумму, больше 99 перцентиля, т.е. больше 53904 у.е.</span>"
   ]
  },
  {
   "cell_type": "markdown",
   "metadata": {},
   "source": [
    "<h3><span style=\"color:#37474f;\">Статистическая значимость различий в среднем количестве заказов на посетителя между группами по «сырым» данным. Выводы</span></h3>"
   ]
  },
  {
   "cell_type": "code",
   "execution_count": 29,
   "metadata": {},
   "outputs": [],
   "source": [
    "# функция формирования выборки для группы A \n",
    "# аргументы: включить аномальных пользователей в расчет и список аномальных пользователей, если \n",
    "# их включать не надо\n",
    "def sampleA(use_abnornmal_data=True,abnormal_visitors=''):\n",
    "    \n",
    "    tempA = (\n",
    "        orders.query('group==\"A\"')\n",
    "              .groupby(['visitorId'],as_index=False)\n",
    "              .agg({'transactionId':'nunique'})\n",
    "              .rename(columns={'transactionId':'orders'})\n",
    "    )\n",
    "    \n",
    "    if use_abnornmal_data == False:\n",
    "        tempA=tempA.query('~visitorId.isin(@abnormal_visitors)')\n",
    "        \n",
    "    sampleA = pd.concat([tempA['orders'],\n",
    "                         pd.Series(0, index=np.arange(visitors.query('group==\"A\"')['visitors'].sum() - len(tempA['orders'])),\n",
    "                                   name='orders')],\n",
    "                        axis=0)\n",
    "    return sampleA"
   ]
  },
  {
   "cell_type": "code",
   "execution_count": 30,
   "metadata": {},
   "outputs": [],
   "source": [
    "# функция формирования выборки для группы B \n",
    "# аргументы: включить аномальных пользователей в расчет и список аномальных пользователей, если \n",
    "# их включать не надо\n",
    "def sampleB(use_abnornmal_data=True,abnormal_visitors=''):\n",
    "    \n",
    "    tempB = (\n",
    "        orders.query('group==\"B\"')\n",
    "              .groupby(['visitorId'],as_index=False)\n",
    "              .agg({'transactionId':'nunique'})\n",
    "              .rename(columns={'transactionId':'orders'})\n",
    "    )\n",
    "    \n",
    "    if use_abnornmal_data == False:\n",
    "        tempB=tempB.query('~visitorId.isin(@abnormal_visitors)')\n",
    "\n",
    "    sampleB = pd.concat([tempB['orders'],\n",
    "                         pd.Series(0, index=np.arange(visitors.query('group==\"B\"')['visitors'].sum() - len(tempB['orders'])),\n",
    "                                   name='orders')],\n",
    "                        axis=0) \n",
    "    return sampleB"
   ]
  },
  {
   "cell_type": "markdown",
   "metadata": {},
   "source": [
    "<p><span style=\"color:#37474f;\">Гипотезы:</span></p>\n",
    "<p><span style=\"color:#37474f;\">H<sub>0</sub>: Статистически значимых различий в среднем количестве заказов между группами по \"сырым\" данным нет</span></p>\n",
    "<p><span style=\"color:#37474f;\">H<sub>1</sub>: Статистически значимые различия в среднем количестве заказов между группами по \"сырым\" данным есть</span></p>\n",
    "<hr>\n",
    "<p><span style=\"color:#37474f;\">Здесь и далее для тестирования был использован тест Манна-Уитни, т.к. при анализе данных были выявлены выбросы, от которых нельзя избавится без потери корректности теста.</span></p>\n",
    "<p><span style=\"color:#37474f;\">Статистический уровень значимости принимаем стандартный в 0,05</span></p>"
   ]
  },
  {
   "cell_type": "code",
   "execution_count": 31,
   "metadata": {},
   "outputs": [
    {
     "name": "stdout",
     "output_type": "stream",
     "text": [
      "P-Value: 0.011\n",
      "Относительное различие: 0.16\n"
     ]
    }
   ],
   "source": [
    "groupA = sampleA(use_abnornmal_data=True)\n",
    "groupB = sampleB(use_abnornmal_data=True)\n",
    "\n",
    "print('P-Value: '\"{0:.3f}\".format(stats.mannwhitneyu(groupA,groupB)[1]))\n",
    "\n",
    "print(f'Относительное различие: {round(groupB.mean()/groupA.mean()-1,2)}')\n",
    "\n",
    "del groupA,groupB"
   ]
  },
  {
   "cell_type": "markdown",
   "metadata": {},
   "source": [
    "<p><span style=\"color:#37474f;\">P-value после проведения теста меньше, чем заданный уровень статистической значимости (0,011&lt;0,05). Значит, H<sub>0</sub> отвергается. Разница в данных есть.<br><br>Среднее количество заказов по \"сырым\" данным в группе B больше на 16%, чем в группе A </span></p>"
   ]
  },
  {
   "cell_type": "markdown",
   "metadata": {},
   "source": [
    "<h3><span style=\"color:#37474f;\">Статистическая значимость различий в среднем чеке заказа между группами по «сырым» данным. Выводы</span></h3>"
   ]
  },
  {
   "cell_type": "markdown",
   "metadata": {},
   "source": [
    "<p><span style=\"color:#37474f;\">Гипотезы:</span></p>\n",
    "<p><span style=\"color:#37474f;\">H<sub>0</sub>: Статистически значимых различий в среднем чеке заказа между группами по \"сырым\" данным нет</span></p>\n",
    "<p><span style=\"color:#37474f;\">H<sub>1</sub>: Статистически значимые различия в среднем чеке заказа между группами по \"сырым\" данным есть</span></p>\n",
    "<hr>\n",
    "<p><span style=\"color:#37474f;\">Статистический уровень значимости принимаем стандартный в 0,05</span></p>"
   ]
  },
  {
   "cell_type": "code",
   "execution_count": 32,
   "metadata": {},
   "outputs": [
    {
     "name": "stdout",
     "output_type": "stream",
     "text": [
      "P-Value: 0.829\n",
      "Относительное различие: 0.29\n"
     ]
    }
   ],
   "source": [
    "groupA = orders.query('group==\"A\"')['revenue']\n",
    "groupB = orders.query('group==\"B\"')['revenue']\n",
    "\n",
    "print('P-Value: '\"{0:.3f}\".format(stats.mannwhitneyu(groupA,groupB)[1]))\n",
    "\n",
    "print(f'Относительное различие: {round(groupB.mean()/groupA.mean()-1,2)}')\n",
    "\n",
    "del groupA,groupB"
   ]
  },
  {
   "cell_type": "markdown",
   "metadata": {},
   "source": [
    "<p><span style=\"color:#37474f;\">P-value после проведения теста ощутимо больше, чем заданный уровень статистической значимости (0,829&gt;0,05). Значит, H<sub>1</sub> отвергать нет оснований.<br><br>Средний чек заказа в группе B по \"сырым\" данным на 29% больше, чем в группе A</span></p>"
   ]
  },
  {
   "cell_type": "markdown",
   "metadata": {},
   "source": [
    "<h3><span style=\"color:#37474f;\">Статистическая значимость различий в среднем количестве заказов на посетителя между группами по «очищенным» данным. Выводы</span></h3>"
   ]
  },
  {
   "cell_type": "markdown",
   "metadata": {},
   "source": [
    "<p><span style=\"color:#37474f;\">Гипотезы:</span></p>\n",
    "<p><span style=\"color:#37474f;\">H<sub>0</sub>: Статистически значимых различий в среднем количестве заказов между группами по \"очищенным\" данным нет</span></p>\n",
    "<p><span style=\"color:#37474f;\">H<sub>1</sub>: Статистически значимые различия в среднем количестве заказов между группами по \"очищенным\" данным есть</span></p>\n",
    "<hr>\n",
    "<p><span style=\"color:#37474f;\">Статистический уровень значимости принимаем стандартный в 0,05</span></p>"
   ]
  },
  {
   "cell_type": "code",
   "execution_count": 33,
   "metadata": {},
   "outputs": [
    {
     "name": "stdout",
     "output_type": "stream",
     "text": [
      "Количество аномальных посетителей: 45(4.62% от общего количества)\n"
     ]
    }
   ],
   "source": [
    "# выделяем посетителей с аномальным количеством заказов \n",
    "# или суммой заказа, превышающей заданный уровень\n",
    "abnormal_visitors =(orders\n",
    " .groupby('visitorId',as_index=False)\n",
    " .agg({'transactionId':'nunique','revenue':'max'})\n",
    " .query('transactionId>=@abnormal_order or revenue>@abnormal_revenue')\n",
    " .drop_duplicates()\n",
    ")['visitorId']\n",
    "\n",
    "print(f'Количество аномальных посетителей: {len(abnormal_visitors)}\\\n",
    "({round(100*len(abnormal_visitors)/orders[\"visitorId\"].nunique(),2)}% от общего количества)')"
   ]
  },
  {
   "cell_type": "code",
   "execution_count": 34,
   "metadata": {},
   "outputs": [
    {
     "name": "stdout",
     "output_type": "stream",
     "text": [
      "P-Value: 0.008\n",
      "Относительное различие: 0.19\n"
     ]
    }
   ],
   "source": [
    "groupA = sampleA(use_abnornmal_data=False,abnormal_visitors=abnormal_visitors)\n",
    "groupB = sampleB(use_abnornmal_data=False,abnormal_visitors=abnormal_visitors)\n",
    "\n",
    "print('P-Value: '\"{0:.3f}\".format(stats.mannwhitneyu(groupA,groupB)[1]))\n",
    "\n",
    "print(f'Относительное различие: {round(groupB.mean()/groupA.mean()-1,2)}')\n",
    "\n",
    "del groupA,groupB"
   ]
  },
  {
   "cell_type": "markdown",
   "metadata": {},
   "source": [
    "<p><span style=\"color:#37474f;\">P-value после проведения теста меньше, чем заданный уровень статистической значимости, но практически не изменился по сравнению с \"сырыми\" данными (0,008&lt;0,05). Значит, H<sub>0</sub> &nbsp;так же отвергается. Разница в данных продолжает оставаться и после удаления аномальных посетителей.<br><br>Среднее количество заказов по \"очищенным\" данным в группе B больше на 19%, чем в группе A, т.е. несколько больше, чем по \"сырым\"</span></p>"
   ]
  },
  {
   "cell_type": "markdown",
   "metadata": {},
   "source": [
    "<h3><span style=\"color:#37474f;\">Статистическая значимость различий в среднем чеке заказа между группами по «очищенным» данным. Выводы</span></h3>"
   ]
  },
  {
   "cell_type": "markdown",
   "metadata": {},
   "source": [
    "<p><span style=\"color:#37474f;\">Гипотезы:</span></p>\n",
    "<p><span style=\"color:#37474f;\">H<sub>0</sub>: Статистически значимых различий в среднем чеке заказа между группами по \"очищенным\" данным нет</span></p>\n",
    "<p><span style=\"color:#37474f;\">H<sub>1</sub>: Статистически значимые различия в среднем чеке заказа между группами по \"очищенным\" данным есть</span></p>\n",
    "<hr>\n",
    "<p><span style=\"color:#37474f;\">Статистический уровень значимости принимаем стандартный в 0,05</span></p>"
   ]
  },
  {
   "cell_type": "code",
   "execution_count": 35,
   "metadata": {},
   "outputs": [
    {
     "name": "stdout",
     "output_type": "stream",
     "text": [
      "P-Value: 0.969\n",
      "Относительное различие: 0.0\n"
     ]
    }
   ],
   "source": [
    "groupA = orders.query('group==\"A\" and ~visitorId.isin(@abnormal_visitors)')['revenue']\n",
    "groupB = orders.query('group==\"B\" and ~visitorId.isin(@abnormal_visitors)')['revenue']\n",
    "\n",
    "print('P-Value: '\"{0:.3f}\".format(stats.mannwhitneyu(groupA,groupB)[1]))\n",
    "\n",
    "print(f'Относительное различие: {round(groupB.mean()/groupA.mean()-1,2)}')\n",
    "\n",
    "del groupA,groupB"
   ]
  },
  {
   "cell_type": "markdown",
   "metadata": {},
   "source": [
    "<p><span style=\"color:#37474f;\">P-value после удаления аномальных пользователей стал еще больше, чем заданный уровень статистической значимости (0,969&gt;0,05). Значит, H<sub>1</sub> не отвергается и в этом случае.<br><br>Средний чек заказа в группе B по \"очищенным\" данным не отличается от группы A</span></p>"
   ]
  },
  {
   "cell_type": "markdown",
   "metadata": {},
   "source": [
    "<h2><span style=\"color:#37474f;\">Решение по результатам теста</span></h2>"
   ]
  },
  {
   "cell_type": "markdown",
   "metadata": {},
   "source": [
    "<p><span style=\"color:#37474f;\">\n",
    "    <p>В ходе проведенного исследования были построены, рассмотрены и проанализированы графики сравнения и изменения кумулятивных средних чеков и выручек между группами тестирования A и B.<br><br>Были найдены аномальные значения количества заказов и их сумм.<br>\n",
    "Были проверены гипотезы значимости различий.<br><br>В качестве общего вывода, объединив выводы по кумулятивным данным и статистическим различиям, можно сказать, что группа B имеет более высокое количество заказов - это наглядно видно на графиках, но сумма среднего чека, особенно после очистки данных от аномальных зачений, не отличается - статистические выводы получаются именно такие.<br>Вкупе, этот факт приведет к росту выручки, но задачу по возможности увеличения среднего чека было бы не плохо принять в работу. В этом случае, при успехе её выполнения, рост выручки может произойти кратно исходному.<br><br>\n",
    "    На текущем же этапе, тест можно признать успешным и закончить его</p></span></p>"
   ]
  }
 ],
 "metadata": {
  "ExecuteTimeLog": [
   {
    "duration": 49,
    "start_time": "2024-11-30T13:12:06.565Z"
   },
   {
    "duration": 481,
    "start_time": "2024-11-30T13:12:10.651Z"
   },
   {
    "duration": 166,
    "start_time": "2024-11-30T13:12:12.338Z"
   },
   {
    "duration": 24,
    "start_time": "2024-11-30T13:12:33.039Z"
   },
   {
    "duration": 28,
    "start_time": "2024-11-30T13:14:53.763Z"
   },
   {
    "duration": 7,
    "start_time": "2024-11-30T13:15:11.091Z"
   },
   {
    "duration": 5,
    "start_time": "2024-11-30T13:15:17.255Z"
   },
   {
    "duration": 12,
    "start_time": "2024-11-30T13:15:20.317Z"
   },
   {
    "duration": 12,
    "start_time": "2024-11-30T13:15:31.014Z"
   },
   {
    "duration": 64,
    "start_time": "2024-11-30T13:15:33.134Z"
   },
   {
    "duration": 6,
    "start_time": "2024-11-30T13:15:35.071Z"
   },
   {
    "duration": 17,
    "start_time": "2024-11-30T13:15:36.494Z"
   },
   {
    "duration": 11,
    "start_time": "2024-11-30T13:23:39.140Z"
   },
   {
    "duration": 11,
    "start_time": "2024-11-30T13:24:31.997Z"
   },
   {
    "duration": 16,
    "start_time": "2024-11-30T13:24:38.764Z"
   },
   {
    "duration": 7,
    "start_time": "2024-11-30T13:24:44.595Z"
   },
   {
    "duration": 7,
    "start_time": "2024-11-30T13:25:02.504Z"
   },
   {
    "duration": 8,
    "start_time": "2024-11-30T13:25:08.376Z"
   },
   {
    "duration": 3,
    "start_time": "2024-11-30T13:26:42.397Z"
   },
   {
    "duration": 4,
    "start_time": "2024-11-30T13:26:48.115Z"
   },
   {
    "duration": 5,
    "start_time": "2024-11-30T13:27:04.555Z"
   },
   {
    "duration": 18,
    "start_time": "2024-11-30T13:32:48.408Z"
   },
   {
    "duration": 7,
    "start_time": "2024-11-30T13:35:44.256Z"
   },
   {
    "duration": 4,
    "start_time": "2024-11-30T13:36:17.629Z"
   },
   {
    "duration": 21,
    "start_time": "2024-11-30T13:36:38.259Z"
   },
   {
    "duration": 1387,
    "start_time": "2024-11-30T13:36:44.159Z"
   },
   {
    "duration": 1346,
    "start_time": "2024-11-30T13:36:49.161Z"
   },
   {
    "duration": 358,
    "start_time": "2024-11-30T13:37:04.452Z"
   },
   {
    "duration": 381,
    "start_time": "2024-11-30T13:37:25.719Z"
   },
   {
    "duration": 105,
    "start_time": "2024-11-30T13:39:26.344Z"
   },
   {
    "duration": 4,
    "start_time": "2024-11-30T13:39:57.552Z"
   },
   {
    "duration": 3,
    "start_time": "2024-11-30T13:40:10.021Z"
   },
   {
    "duration": 4,
    "start_time": "2024-11-30T13:40:24.605Z"
   },
   {
    "duration": 3,
    "start_time": "2024-11-30T13:40:33.986Z"
   },
   {
    "duration": 7,
    "start_time": "2024-11-30T13:40:43.023Z"
   },
   {
    "duration": 4,
    "start_time": "2024-11-30T13:40:52.459Z"
   },
   {
    "duration": 4,
    "start_time": "2024-11-30T13:41:01.385Z"
   },
   {
    "duration": 3,
    "start_time": "2024-11-30T13:41:50.835Z"
   },
   {
    "duration": 357,
    "start_time": "2024-11-30T13:41:55.446Z"
   },
   {
    "duration": 7,
    "start_time": "2024-11-30T13:42:42.556Z"
   },
   {
    "duration": 3,
    "start_time": "2024-11-30T13:44:49.381Z"
   },
   {
    "duration": 4,
    "start_time": "2024-11-30T13:45:13.695Z"
   },
   {
    "duration": 15,
    "start_time": "2024-11-30T13:45:27.286Z"
   },
   {
    "duration": 509,
    "start_time": "2024-11-30T13:49:43.681Z"
   },
   {
    "duration": 65,
    "start_time": "2024-11-30T13:49:44.192Z"
   },
   {
    "duration": 9,
    "start_time": "2024-11-30T13:49:44.259Z"
   },
   {
    "duration": 41,
    "start_time": "2024-11-30T13:49:44.274Z"
   },
   {
    "duration": 27,
    "start_time": "2024-11-30T13:49:44.318Z"
   },
   {
    "duration": 20,
    "start_time": "2024-11-30T13:49:44.347Z"
   },
   {
    "duration": 13,
    "start_time": "2024-11-30T13:49:44.369Z"
   },
   {
    "duration": 6,
    "start_time": "2024-11-30T13:49:44.384Z"
   },
   {
    "duration": 10,
    "start_time": "2024-11-30T14:02:47.071Z"
   },
   {
    "duration": 76,
    "start_time": "2024-11-30T14:05:55.670Z"
   },
   {
    "duration": 10,
    "start_time": "2024-11-30T14:06:25.655Z"
   },
   {
    "duration": 14,
    "start_time": "2024-11-30T14:06:31.436Z"
   },
   {
    "duration": 18,
    "start_time": "2024-11-30T14:06:43.487Z"
   },
   {
    "duration": 32,
    "start_time": "2024-11-30T14:06:57.647Z"
   },
   {
    "duration": 102,
    "start_time": "2024-11-30T14:09:08.938Z"
   },
   {
    "duration": 18,
    "start_time": "2024-11-30T14:09:27.533Z"
   },
   {
    "duration": 26,
    "start_time": "2024-11-30T14:10:15.446Z"
   },
   {
    "duration": 23,
    "start_time": "2024-11-30T14:10:27.028Z"
   },
   {
    "duration": 30,
    "start_time": "2024-11-30T14:14:20.627Z"
   },
   {
    "duration": 25,
    "start_time": "2024-11-30T14:14:34.530Z"
   },
   {
    "duration": 29,
    "start_time": "2024-11-30T14:15:39.388Z"
   },
   {
    "duration": 2,
    "start_time": "2024-11-30T14:19:52.833Z"
   },
   {
    "duration": 23,
    "start_time": "2024-11-30T14:19:55.723Z"
   },
   {
    "duration": 25,
    "start_time": "2024-11-30T14:20:04.811Z"
   },
   {
    "duration": 25,
    "start_time": "2024-11-30T14:24:11.291Z"
   },
   {
    "duration": 47,
    "start_time": "2024-12-02T07:48:53.313Z"
   },
   {
    "duration": 428,
    "start_time": "2024-12-02T07:49:06.052Z"
   },
   {
    "duration": 2,
    "start_time": "2024-12-02T07:49:06.482Z"
   },
   {
    "duration": 184,
    "start_time": "2024-12-02T07:49:06.486Z"
   },
   {
    "duration": 7,
    "start_time": "2024-12-02T07:49:06.672Z"
   },
   {
    "duration": 47,
    "start_time": "2024-12-02T07:49:06.681Z"
   },
   {
    "duration": 17,
    "start_time": "2024-12-02T07:49:06.729Z"
   },
   {
    "duration": 35,
    "start_time": "2024-12-02T07:49:06.747Z"
   },
   {
    "duration": 13,
    "start_time": "2024-12-02T07:49:06.783Z"
   },
   {
    "duration": 7,
    "start_time": "2024-12-02T07:49:06.798Z"
   },
   {
    "duration": 24,
    "start_time": "2024-12-02T07:49:06.807Z"
   },
   {
    "duration": 11,
    "start_time": "2024-12-02T07:49:06.833Z"
   },
   {
    "duration": 18,
    "start_time": "2024-12-02T07:56:47.769Z"
   },
   {
    "duration": 79,
    "start_time": "2024-12-02T07:59:30.549Z"
   },
   {
    "duration": 3,
    "start_time": "2024-12-02T08:00:06.963Z"
   },
   {
    "duration": 170,
    "start_time": "2024-12-02T08:00:14.258Z"
   },
   {
    "duration": 415,
    "start_time": "2024-12-02T08:02:58.055Z"
   },
   {
    "duration": 17,
    "start_time": "2024-12-02T08:03:04.409Z"
   },
   {
    "duration": 9,
    "start_time": "2024-12-02T08:04:14.782Z"
   },
   {
    "duration": 256,
    "start_time": "2024-12-02T08:06:08.070Z"
   },
   {
    "duration": 212,
    "start_time": "2024-12-02T08:07:58.266Z"
   },
   {
    "duration": 236,
    "start_time": "2024-12-02T08:08:13.408Z"
   },
   {
    "duration": 194,
    "start_time": "2024-12-02T08:08:22.113Z"
   },
   {
    "duration": 211,
    "start_time": "2024-12-02T08:08:47.337Z"
   },
   {
    "duration": 217,
    "start_time": "2024-12-02T08:09:47.771Z"
   },
   {
    "duration": 231,
    "start_time": "2024-12-02T08:10:18.314Z"
   },
   {
    "duration": 102,
    "start_time": "2024-12-02T08:18:07.493Z"
   },
   {
    "duration": 189,
    "start_time": "2024-12-02T08:19:10.088Z"
   },
   {
    "duration": 177,
    "start_time": "2024-12-02T08:19:53.850Z"
   },
   {
    "duration": 99,
    "start_time": "2024-12-02T08:21:50.843Z"
   },
   {
    "duration": 5,
    "start_time": "2024-12-02T08:43:18.836Z"
   },
   {
    "duration": 98,
    "start_time": "2024-12-02T08:45:16.892Z"
   },
   {
    "duration": 137,
    "start_time": "2024-12-02T08:47:44.275Z"
   },
   {
    "duration": 10,
    "start_time": "2024-12-02T08:47:54.373Z"
   },
   {
    "duration": 102,
    "start_time": "2024-12-02T08:48:30.832Z"
   },
   {
    "duration": 13,
    "start_time": "2024-12-02T08:48:34.998Z"
   },
   {
    "duration": 196,
    "start_time": "2024-12-02T08:49:20.735Z"
   },
   {
    "duration": 167,
    "start_time": "2024-12-02T08:49:54.214Z"
   },
   {
    "duration": 756,
    "start_time": "2024-12-02T08:51:29.809Z"
   },
   {
    "duration": 732,
    "start_time": "2024-12-02T08:53:27.090Z"
   },
   {
    "duration": 15,
    "start_time": "2024-12-02T08:55:23.132Z"
   },
   {
    "duration": 17,
    "start_time": "2024-12-02T08:55:47.443Z"
   },
   {
    "duration": 90,
    "start_time": "2024-12-02T09:00:37.499Z"
   },
   {
    "duration": 93,
    "start_time": "2024-12-02T09:01:07.298Z"
   },
   {
    "duration": 172,
    "start_time": "2024-12-02T09:01:16.400Z"
   },
   {
    "duration": 179,
    "start_time": "2024-12-02T09:02:03.559Z"
   },
   {
    "duration": 323,
    "start_time": "2024-12-02T09:46:06.534Z"
   },
   {
    "duration": 312,
    "start_time": "2024-12-02T09:46:43.374Z"
   },
   {
    "duration": 306,
    "start_time": "2024-12-02T09:48:16.619Z"
   },
   {
    "duration": 214,
    "start_time": "2024-12-02T09:48:24.987Z"
   },
   {
    "duration": 318,
    "start_time": "2024-12-02T09:48:57.924Z"
   },
   {
    "duration": 311,
    "start_time": "2024-12-02T09:51:16.480Z"
   },
   {
    "duration": 105,
    "start_time": "2024-12-02T09:51:23.634Z"
   },
   {
    "duration": 1119,
    "start_time": "2024-12-02T09:51:32.397Z"
   },
   {
    "duration": 1388,
    "start_time": "2024-12-02T09:51:48.265Z"
   },
   {
    "duration": 108,
    "start_time": "2024-12-02T09:52:29.738Z"
   },
   {
    "duration": 1137,
    "start_time": "2024-12-02T09:52:53.053Z"
   },
   {
    "duration": 1426,
    "start_time": "2024-12-02T09:53:17.368Z"
   },
   {
    "duration": 4,
    "start_time": "2024-12-02T09:53:45.239Z"
   },
   {
    "duration": 112,
    "start_time": "2024-12-02T09:54:09.681Z"
   },
   {
    "duration": 1086,
    "start_time": "2024-12-02T09:54:21.005Z"
   },
   {
    "duration": 182,
    "start_time": "2024-12-02T09:54:58.089Z"
   },
   {
    "duration": 115,
    "start_time": "2024-12-02T09:55:10.793Z"
   },
   {
    "duration": 185,
    "start_time": "2024-12-02T09:55:17.117Z"
   },
   {
    "duration": 352,
    "start_time": "2024-12-02T09:56:00.897Z"
   },
   {
    "duration": 164,
    "start_time": "2024-12-02T09:56:14.345Z"
   },
   {
    "duration": 88,
    "start_time": "2024-12-02T09:56:30.786Z"
   },
   {
    "duration": 175,
    "start_time": "2024-12-02T09:56:38.777Z"
   },
   {
    "duration": 9,
    "start_time": "2024-12-02T10:49:00.660Z"
   },
   {
    "duration": 371,
    "start_time": "2024-12-02T10:50:03.162Z"
   },
   {
    "duration": 378,
    "start_time": "2024-12-02T10:50:14.841Z"
   },
   {
    "duration": 101,
    "start_time": "2024-12-02T10:52:03.451Z"
   },
   {
    "duration": 135,
    "start_time": "2024-12-02T10:52:27.995Z"
   },
   {
    "duration": 93,
    "start_time": "2024-12-02T10:53:56.789Z"
   },
   {
    "duration": 84,
    "start_time": "2024-12-02T10:54:06.700Z"
   },
   {
    "duration": 6,
    "start_time": "2024-12-02T10:54:16.548Z"
   },
   {
    "duration": 389,
    "start_time": "2024-12-02T10:54:38.596Z"
   },
   {
    "duration": 382,
    "start_time": "2024-12-02T10:54:53.501Z"
   },
   {
    "duration": 6,
    "start_time": "2024-12-02T10:55:43.419Z"
   },
   {
    "duration": 446,
    "start_time": "2024-12-02T10:55:45.709Z"
   },
   {
    "duration": 6,
    "start_time": "2024-12-02T10:56:01.261Z"
   },
   {
    "duration": 374,
    "start_time": "2024-12-02T10:56:03.006Z"
   },
   {
    "duration": 6,
    "start_time": "2024-12-02T10:56:14.645Z"
   },
   {
    "duration": 409,
    "start_time": "2024-12-02T10:56:16.903Z"
   },
   {
    "duration": 397,
    "start_time": "2024-12-02T10:56:21.288Z"
   },
   {
    "duration": 13,
    "start_time": "2024-12-02T10:57:23.799Z"
   },
   {
    "duration": 381,
    "start_time": "2024-12-02T10:57:41.567Z"
   },
   {
    "duration": 16,
    "start_time": "2024-12-02T10:57:44.847Z"
   },
   {
    "duration": 7,
    "start_time": "2024-12-02T10:58:15.199Z"
   },
   {
    "duration": 6,
    "start_time": "2024-12-02T10:58:16.720Z"
   },
   {
    "duration": 527,
    "start_time": "2024-12-02T10:58:18.735Z"
   },
   {
    "duration": 394,
    "start_time": "2024-12-02T10:58:23.031Z"
   },
   {
    "duration": 12,
    "start_time": "2024-12-02T10:58:25.999Z"
   },
   {
    "duration": 390,
    "start_time": "2024-12-02T11:00:46.480Z"
   },
   {
    "duration": 375,
    "start_time": "2024-12-02T11:01:00.817Z"
   },
   {
    "duration": 389,
    "start_time": "2024-12-02T11:01:11.282Z"
   },
   {
    "duration": 393,
    "start_time": "2024-12-02T11:02:43.946Z"
   },
   {
    "duration": 420,
    "start_time": "2024-12-02T11:02:47.315Z"
   },
   {
    "duration": 7,
    "start_time": "2024-12-02T11:03:01.227Z"
   },
   {
    "duration": 8,
    "start_time": "2024-12-02T11:11:14.547Z"
   },
   {
    "duration": 11,
    "start_time": "2024-12-02T11:11:16.970Z"
   },
   {
    "duration": 8,
    "start_time": "2024-12-02T11:11:18.728Z"
   },
   {
    "duration": 7,
    "start_time": "2024-12-02T11:12:37.925Z"
   },
   {
    "duration": 7,
    "start_time": "2024-12-02T11:12:40.074Z"
   },
   {
    "duration": 407,
    "start_time": "2024-12-02T11:12:46.961Z"
   },
   {
    "duration": 172,
    "start_time": "2024-12-02T11:12:52.569Z"
   },
   {
    "duration": 170,
    "start_time": "2024-12-02T11:32:26.597Z"
   },
   {
    "duration": 208,
    "start_time": "2024-12-02T11:32:59.407Z"
   },
   {
    "duration": 165,
    "start_time": "2024-12-02T11:33:55.985Z"
   },
   {
    "duration": 3624,
    "start_time": "2024-12-02T11:34:05.570Z"
   },
   {
    "duration": 4954,
    "start_time": "2024-12-02T11:34:11.096Z"
   },
   {
    "duration": 167,
    "start_time": "2024-12-02T11:34:17.226Z"
   },
   {
    "duration": 6,
    "start_time": "2024-12-02T11:37:04.197Z"
   },
   {
    "duration": 175,
    "start_time": "2024-12-02T11:37:14.276Z"
   },
   {
    "duration": 159,
    "start_time": "2024-12-02T11:37:45.396Z"
   },
   {
    "duration": 174,
    "start_time": "2024-12-02T11:38:05.212Z"
   },
   {
    "duration": 6,
    "start_time": "2024-12-02T11:38:51.148Z"
   },
   {
    "duration": 162,
    "start_time": "2024-12-02T11:38:56.140Z"
   },
   {
    "duration": 168,
    "start_time": "2024-12-02T11:39:03.597Z"
   },
   {
    "duration": 197,
    "start_time": "2024-12-02T11:42:53.921Z"
   },
   {
    "duration": 169,
    "start_time": "2024-12-02T11:44:14.395Z"
   },
   {
    "duration": 177,
    "start_time": "2024-12-02T11:44:32.178Z"
   },
   {
    "duration": 174,
    "start_time": "2024-12-02T11:44:52.145Z"
   },
   {
    "duration": 187,
    "start_time": "2024-12-02T11:46:19.836Z"
   },
   {
    "duration": 167,
    "start_time": "2024-12-02T11:46:47.828Z"
   },
   {
    "duration": 176,
    "start_time": "2024-12-02T11:46:52.876Z"
   },
   {
    "duration": 191,
    "start_time": "2024-12-02T11:47:10.716Z"
   },
   {
    "duration": 188,
    "start_time": "2024-12-02T11:47:47.724Z"
   },
   {
    "duration": 173,
    "start_time": "2024-12-02T11:48:19.453Z"
   },
   {
    "duration": 185,
    "start_time": "2024-12-02T11:48:42.460Z"
   },
   {
    "duration": 183,
    "start_time": "2024-12-02T11:49:47.382Z"
   },
   {
    "duration": 185,
    "start_time": "2024-12-02T11:49:54.309Z"
   },
   {
    "duration": 201,
    "start_time": "2024-12-02T11:50:21.374Z"
   },
   {
    "duration": 162,
    "start_time": "2024-12-02T11:52:58.880Z"
   },
   {
    "duration": 168,
    "start_time": "2024-12-02T11:53:04.071Z"
   },
   {
    "duration": 216,
    "start_time": "2024-12-02T11:53:23.817Z"
   },
   {
    "duration": 365,
    "start_time": "2024-12-02T11:53:47.360Z"
   },
   {
    "duration": 373,
    "start_time": "2024-12-02T11:55:54.545Z"
   },
   {
    "duration": 641,
    "start_time": "2024-12-02T11:57:37.611Z"
   },
   {
    "duration": 575,
    "start_time": "2024-12-02T11:59:30.284Z"
   },
   {
    "duration": 504,
    "start_time": "2024-12-02T11:59:36.989Z"
   },
   {
    "duration": 396,
    "start_time": "2024-12-02T12:01:29.717Z"
   },
   {
    "duration": 413,
    "start_time": "2024-12-02T12:17:00.501Z"
   },
   {
    "duration": 538,
    "start_time": "2024-12-02T12:17:22.299Z"
   },
   {
    "duration": 510,
    "start_time": "2024-12-02T12:17:43.610Z"
   },
   {
    "duration": 6,
    "start_time": "2024-12-02T12:54:17.921Z"
   },
   {
    "duration": 487,
    "start_time": "2024-12-02T12:54:27.239Z"
   },
   {
    "duration": 12,
    "start_time": "2024-12-02T12:54:33.554Z"
   },
   {
    "duration": 6,
    "start_time": "2024-12-02T12:56:58.193Z"
   },
   {
    "duration": 483,
    "start_time": "2024-12-02T12:57:03.311Z"
   },
   {
    "duration": 16,
    "start_time": "2024-12-02T12:57:06.393Z"
   },
   {
    "duration": 6,
    "start_time": "2024-12-02T12:57:52.137Z"
   },
   {
    "duration": 455,
    "start_time": "2024-12-02T12:57:56.537Z"
   },
   {
    "duration": 13,
    "start_time": "2024-12-02T12:57:59.185Z"
   },
   {
    "duration": 48,
    "start_time": "2024-12-02T12:59:37.281Z"
   },
   {
    "duration": 20,
    "start_time": "2024-12-02T12:59:46.963Z"
   },
   {
    "duration": 13,
    "start_time": "2024-12-02T13:00:10.323Z"
   },
   {
    "duration": 15,
    "start_time": "2024-12-02T13:00:51.741Z"
   },
   {
    "duration": 14,
    "start_time": "2024-12-02T13:01:01.297Z"
   },
   {
    "duration": 19,
    "start_time": "2024-12-03T07:55:02.391Z"
   },
   {
    "duration": 6,
    "start_time": "2024-12-03T07:56:00.172Z"
   },
   {
    "duration": 19,
    "start_time": "2024-12-03T07:56:09.802Z"
   },
   {
    "duration": 25,
    "start_time": "2024-12-03T08:00:19.009Z"
   },
   {
    "duration": 278,
    "start_time": "2024-12-03T08:00:46.268Z"
   },
   {
    "duration": 280,
    "start_time": "2024-12-03T08:01:02.885Z"
   },
   {
    "duration": 270,
    "start_time": "2024-12-03T08:01:22.071Z"
   },
   {
    "duration": 283,
    "start_time": "2024-12-03T08:01:44.749Z"
   },
   {
    "duration": 127,
    "start_time": "2024-12-03T14:19:18.176Z"
   },
   {
    "duration": 34,
    "start_time": "2024-12-03T14:19:35.159Z"
   },
   {
    "duration": 27,
    "start_time": "2024-12-03T14:20:39.734Z"
   },
   {
    "duration": 11,
    "start_time": "2024-12-03T14:28:41.568Z"
   },
   {
    "duration": 11,
    "start_time": "2024-12-03T14:29:31.740Z"
   },
   {
    "duration": 8,
    "start_time": "2024-12-03T14:31:19.093Z"
   },
   {
    "duration": 11,
    "start_time": "2024-12-03T14:31:22.997Z"
   },
   {
    "duration": 3,
    "start_time": "2024-12-03T14:31:29.118Z"
   },
   {
    "duration": 4,
    "start_time": "2024-12-03T14:31:32.325Z"
   },
   {
    "duration": 6,
    "start_time": "2024-12-03T14:31:41.613Z"
   },
   {
    "duration": 8,
    "start_time": "2024-12-03T14:33:35.777Z"
   },
   {
    "duration": 8,
    "start_time": "2024-12-03T14:34:34.009Z"
   },
   {
    "duration": 4,
    "start_time": "2024-12-03T14:34:40.816Z"
   },
   {
    "duration": 18,
    "start_time": "2024-12-03T14:34:54.712Z"
   },
   {
    "duration": 17,
    "start_time": "2024-12-03T14:35:03.328Z"
   },
   {
    "duration": 92,
    "start_time": "2024-12-03T14:39:39.435Z"
   },
   {
    "duration": 7,
    "start_time": "2024-12-03T14:39:50.325Z"
   },
   {
    "duration": 694,
    "start_time": "2024-12-03T15:59:56.004Z"
   },
   {
    "duration": 3,
    "start_time": "2024-12-03T15:59:56.700Z"
   },
   {
    "duration": 79,
    "start_time": "2024-12-03T15:59:56.705Z"
   },
   {
    "duration": 25,
    "start_time": "2024-12-03T15:59:56.786Z"
   },
   {
    "duration": 26,
    "start_time": "2024-12-03T15:59:56.813Z"
   },
   {
    "duration": 6,
    "start_time": "2024-12-03T15:59:56.841Z"
   },
   {
    "duration": 24,
    "start_time": "2024-12-03T15:59:56.865Z"
   },
   {
    "duration": 2,
    "start_time": "2024-12-03T15:59:56.891Z"
   },
   {
    "duration": 12,
    "start_time": "2024-12-03T15:59:56.895Z"
   },
   {
    "duration": 5,
    "start_time": "2024-12-03T15:59:56.909Z"
   },
   {
    "duration": 69,
    "start_time": "2024-12-03T15:59:56.916Z"
   },
   {
    "duration": 6,
    "start_time": "2024-12-03T15:59:56.987Z"
   },
   {
    "duration": 8,
    "start_time": "2024-12-03T15:59:56.994Z"
   },
   {
    "duration": 656,
    "start_time": "2024-12-03T15:59:57.004Z"
   },
   {
    "duration": 583,
    "start_time": "2024-12-03T15:59:57.662Z"
   },
   {
    "duration": 693,
    "start_time": "2024-12-03T15:59:58.247Z"
   },
   {
    "duration": 334,
    "start_time": "2024-12-03T15:59:58.941Z"
   },
   {
    "duration": 21,
    "start_time": "2024-12-03T15:59:59.277Z"
   },
   {
    "duration": 97,
    "start_time": "2024-12-03T16:02:47.102Z"
   },
   {
    "duration": 13,
    "start_time": "2024-12-03T16:02:55.885Z"
   },
   {
    "duration": 109,
    "start_time": "2024-12-03T16:03:47.738Z"
   },
   {
    "duration": 7,
    "start_time": "2024-12-03T16:03:56.240Z"
   },
   {
    "duration": 442,
    "start_time": "2024-12-03T16:04:34.259Z"
   },
   {
    "duration": 474,
    "start_time": "2024-12-03T16:05:14.618Z"
   },
   {
    "duration": 10,
    "start_time": "2024-12-03T16:05:58.694Z"
   },
   {
    "duration": 486,
    "start_time": "2024-12-03T16:06:01.838Z"
   },
   {
    "duration": 446,
    "start_time": "2024-12-03T16:06:17.073Z"
   },
   {
    "duration": 522,
    "start_time": "2024-12-03T16:06:26.114Z"
   },
   {
    "duration": 8,
    "start_time": "2024-12-03T16:06:47.460Z"
   },
   {
    "duration": 594,
    "start_time": "2024-12-03T16:06:50.634Z"
   },
   {
    "duration": 527,
    "start_time": "2024-12-03T16:06:54.619Z"
   },
   {
    "duration": 756,
    "start_time": "2024-12-03T16:07:17.502Z"
   },
   {
    "duration": 8,
    "start_time": "2024-12-03T16:09:25.926Z"
   },
   {
    "duration": 541,
    "start_time": "2024-12-03T16:09:34.216Z"
   },
   {
    "duration": 8,
    "start_time": "2024-12-03T16:12:28.539Z"
   },
   {
    "duration": 86,
    "start_time": "2024-12-03T16:12:59.048Z"
   },
   {
    "duration": 317,
    "start_time": "2024-12-03T16:13:17.405Z"
   },
   {
    "duration": 8,
    "start_time": "2024-12-03T16:13:36.531Z"
   },
   {
    "duration": 318,
    "start_time": "2024-12-03T16:13:43.711Z"
   },
   {
    "duration": 336,
    "start_time": "2024-12-03T16:13:47.181Z"
   },
   {
    "duration": 293,
    "start_time": "2024-12-03T16:18:41.576Z"
   },
   {
    "duration": 114,
    "start_time": "2024-12-03T16:24:16.337Z"
   },
   {
    "duration": 1644,
    "start_time": "2024-12-03T16:24:35.555Z"
   },
   {
    "duration": 1519,
    "start_time": "2024-12-03T16:24:51.062Z"
   },
   {
    "duration": 351,
    "start_time": "2024-12-03T16:26:41.062Z"
   },
   {
    "duration": 297,
    "start_time": "2024-12-03T16:26:49.989Z"
   },
   {
    "duration": 338,
    "start_time": "2024-12-03T17:30:10.480Z"
   },
   {
    "duration": 351,
    "start_time": "2024-12-03T17:30:24.536Z"
   },
   {
    "duration": 363,
    "start_time": "2024-12-03T17:32:33.648Z"
   },
   {
    "duration": 314,
    "start_time": "2024-12-03T17:32:44.558Z"
   },
   {
    "duration": 114,
    "start_time": "2024-12-03T17:33:01.240Z"
   },
   {
    "duration": 343,
    "start_time": "2024-12-03T17:33:32.513Z"
   },
   {
    "duration": 340,
    "start_time": "2024-12-03T17:34:13.919Z"
   },
   {
    "duration": 337,
    "start_time": "2024-12-03T18:00:25.389Z"
   },
   {
    "duration": 6,
    "start_time": "2024-12-03T18:01:09.492Z"
   },
   {
    "duration": 334,
    "start_time": "2024-12-03T18:02:13.014Z"
   },
   {
    "duration": 349,
    "start_time": "2024-12-03T18:02:36.747Z"
   },
   {
    "duration": 348,
    "start_time": "2024-12-03T18:03:55.776Z"
   },
   {
    "duration": 367,
    "start_time": "2024-12-03T18:04:18.966Z"
   },
   {
    "duration": 95,
    "start_time": "2024-12-03T18:04:52.450Z"
   },
   {
    "duration": 345,
    "start_time": "2024-12-03T18:11:31.096Z"
   },
   {
    "duration": 360,
    "start_time": "2024-12-03T18:12:00.268Z"
   },
   {
    "duration": 314,
    "start_time": "2024-12-03T18:12:27.087Z"
   },
   {
    "duration": 332,
    "start_time": "2024-12-03T18:12:33.550Z"
   },
   {
    "duration": 373,
    "start_time": "2024-12-03T18:12:42.620Z"
   },
   {
    "duration": 692,
    "start_time": "2024-12-03T18:14:19.740Z"
   },
   {
    "duration": 18,
    "start_time": "2024-12-03T18:23:12.989Z"
   },
   {
    "duration": 7,
    "start_time": "2024-12-03T18:23:20.412Z"
   },
   {
    "duration": 23,
    "start_time": "2024-12-03T18:23:27.264Z"
   },
   {
    "duration": 12,
    "start_time": "2024-12-03T18:23:39.713Z"
   },
   {
    "duration": 8,
    "start_time": "2024-12-03T18:24:26.840Z"
   },
   {
    "duration": 17,
    "start_time": "2024-12-03T18:24:31.074Z"
   },
   {
    "duration": 8,
    "start_time": "2024-12-03T18:24:58.072Z"
   },
   {
    "duration": 11,
    "start_time": "2024-12-03T18:25:55.599Z"
   },
   {
    "duration": 6,
    "start_time": "2024-12-03T18:26:50.277Z"
   },
   {
    "duration": 8,
    "start_time": "2024-12-03T18:26:56.096Z"
   },
   {
    "duration": 77,
    "start_time": "2024-12-03T18:27:56.829Z"
   },
   {
    "duration": 15,
    "start_time": "2024-12-03T18:28:06.077Z"
   },
   {
    "duration": 16,
    "start_time": "2024-12-03T18:28:48.002Z"
   },
   {
    "duration": 14,
    "start_time": "2024-12-03T18:29:10.620Z"
   },
   {
    "duration": 17,
    "start_time": "2024-12-03T18:29:28.516Z"
   },
   {
    "duration": 12,
    "start_time": "2024-12-03T18:29:36.620Z"
   },
   {
    "duration": 16,
    "start_time": "2024-12-03T18:29:47.588Z"
   },
   {
    "duration": 9,
    "start_time": "2024-12-03T18:29:54.734Z"
   },
   {
    "duration": 104,
    "start_time": "2024-12-03T18:30:34.532Z"
   },
   {
    "duration": 189,
    "start_time": "2024-12-03T18:30:58.097Z"
   },
   {
    "duration": 12,
    "start_time": "2024-12-03T18:31:06.652Z"
   },
   {
    "duration": 18,
    "start_time": "2024-12-03T18:31:51.562Z"
   },
   {
    "duration": 6,
    "start_time": "2024-12-03T18:32:00.398Z"
   },
   {
    "duration": 33,
    "start_time": "2024-12-03T18:33:21.528Z"
   },
   {
    "duration": 42,
    "start_time": "2024-12-03T18:33:57.443Z"
   },
   {
    "duration": 9,
    "start_time": "2024-12-03T18:34:04.438Z"
   },
   {
    "duration": 34,
    "start_time": "2024-12-03T18:34:08.384Z"
   },
   {
    "duration": 12,
    "start_time": "2024-12-03T18:34:25.249Z"
   },
   {
    "duration": 55,
    "start_time": "2024-12-03T18:34:44.035Z"
   },
   {
    "duration": 37,
    "start_time": "2024-12-03T18:35:15.434Z"
   },
   {
    "duration": 12,
    "start_time": "2024-12-03T18:35:30.401Z"
   },
   {
    "duration": 48,
    "start_time": "2024-12-03T18:35:40.054Z"
   },
   {
    "duration": 31,
    "start_time": "2024-12-03T18:36:05.680Z"
   },
   {
    "duration": 20,
    "start_time": "2024-12-03T18:36:19.592Z"
   },
   {
    "duration": 19,
    "start_time": "2024-12-03T18:37:07.943Z"
   },
   {
    "duration": 11,
    "start_time": "2024-12-03T18:37:16.088Z"
   },
   {
    "duration": 6,
    "start_time": "2024-12-03T18:37:19.390Z"
   },
   {
    "duration": 8,
    "start_time": "2024-12-03T18:37:22.802Z"
   },
   {
    "duration": 727,
    "start_time": "2024-12-03T18:37:29.917Z"
   },
   {
    "duration": 590,
    "start_time": "2024-12-03T18:37:50.952Z"
   },
   {
    "duration": 694,
    "start_time": "2024-12-03T18:38:06.422Z"
   },
   {
    "duration": 284,
    "start_time": "2024-12-03T18:38:18.057Z"
   },
   {
    "duration": 17,
    "start_time": "2024-12-04T06:54:52.499Z"
   },
   {
    "duration": 13,
    "start_time": "2024-12-04T07:00:19.228Z"
   },
   {
    "duration": 24,
    "start_time": "2024-12-04T07:00:23.673Z"
   },
   {
    "duration": 10,
    "start_time": "2024-12-04T07:00:58.017Z"
   },
   {
    "duration": 8,
    "start_time": "2024-12-04T07:01:07.025Z"
   },
   {
    "duration": 4,
    "start_time": "2024-12-04T07:01:58.179Z"
   },
   {
    "duration": 17,
    "start_time": "2024-12-04T07:02:04.994Z"
   },
   {
    "duration": 17,
    "start_time": "2024-12-04T07:02:22.179Z"
   },
   {
    "duration": 194,
    "start_time": "2024-12-04T07:04:07.094Z"
   },
   {
    "duration": 207,
    "start_time": "2024-12-04T07:04:29.718Z"
   },
   {
    "duration": 219,
    "start_time": "2024-12-04T07:04:52.149Z"
   },
   {
    "duration": 225,
    "start_time": "2024-12-04T07:05:07.598Z"
   },
   {
    "duration": 222,
    "start_time": "2024-12-04T07:05:27.013Z"
   },
   {
    "duration": 244,
    "start_time": "2024-12-04T07:05:52.942Z"
   },
   {
    "duration": 265,
    "start_time": "2024-12-04T07:06:09.453Z"
   },
   {
    "duration": 16,
    "start_time": "2024-12-04T07:12:57.139Z"
   },
   {
    "duration": 20,
    "start_time": "2024-12-04T07:14:15.120Z"
   },
   {
    "duration": 22,
    "start_time": "2024-12-04T07:17:41.966Z"
   },
   {
    "duration": 333,
    "start_time": "2024-12-04T07:18:18.064Z"
   },
   {
    "duration": 328,
    "start_time": "2024-12-04T07:19:53.216Z"
   },
   {
    "duration": 317,
    "start_time": "2024-12-04T07:21:24.455Z"
   },
   {
    "duration": 460,
    "start_time": "2024-12-04T07:21:46.913Z"
   },
   {
    "duration": 17,
    "start_time": "2024-12-04T08:06:55.227Z"
   },
   {
    "duration": 97,
    "start_time": "2024-12-04T08:12:47.846Z"
   },
   {
    "duration": 10,
    "start_time": "2024-12-04T08:13:38.302Z"
   },
   {
    "duration": 129,
    "start_time": "2024-12-04T08:13:47.540Z"
   },
   {
    "duration": 85,
    "start_time": "2024-12-04T08:14:39.190Z"
   },
   {
    "duration": 6,
    "start_time": "2024-12-04T08:14:54.565Z"
   },
   {
    "duration": 72,
    "start_time": "2024-12-04T08:15:56.807Z"
   },
   {
    "duration": 125,
    "start_time": "2024-12-04T08:18:00.101Z"
   },
   {
    "duration": 13,
    "start_time": "2024-12-04T08:18:28.336Z"
   },
   {
    "duration": 11,
    "start_time": "2024-12-04T08:19:33.500Z"
   },
   {
    "duration": 11,
    "start_time": "2024-12-04T08:20:29.091Z"
   },
   {
    "duration": 265,
    "start_time": "2024-12-04T09:30:11.025Z"
   },
   {
    "duration": 137,
    "start_time": "2024-12-04T09:32:26.608Z"
   },
   {
    "duration": 131,
    "start_time": "2024-12-04T09:34:09.298Z"
   },
   {
    "duration": 144,
    "start_time": "2024-12-04T09:34:59.961Z"
   },
   {
    "duration": 168,
    "start_time": "2024-12-04T09:35:52.978Z"
   },
   {
    "duration": 186,
    "start_time": "2024-12-04T09:36:00.698Z"
   },
   {
    "duration": 8,
    "start_time": "2024-12-04T09:36:47.659Z"
   },
   {
    "duration": 530,
    "start_time": "2024-12-04T09:36:51.723Z"
   },
   {
    "duration": 9,
    "start_time": "2024-12-04T09:37:18.043Z"
   },
   {
    "duration": 509,
    "start_time": "2024-12-04T09:37:21.019Z"
   },
   {
    "duration": 529,
    "start_time": "2024-12-04T09:37:25.380Z"
   },
   {
    "duration": 655,
    "start_time": "2024-12-04T09:38:17.380Z"
   },
   {
    "duration": 246,
    "start_time": "2024-12-04T09:38:50.748Z"
   },
   {
    "duration": 336,
    "start_time": "2024-12-04T09:39:37.605Z"
   },
   {
    "duration": 775,
    "start_time": "2024-12-04T09:39:43.428Z"
   },
   {
    "duration": 172,
    "start_time": "2024-12-04T09:40:11.412Z"
   },
   {
    "duration": 6,
    "start_time": "2024-12-04T09:42:33.295Z"
   },
   {
    "duration": 183,
    "start_time": "2024-12-04T09:53:37.050Z"
   },
   {
    "duration": 5,
    "start_time": "2024-12-04T10:03:21.959Z"
   },
   {
    "duration": 10,
    "start_time": "2024-12-04T10:06:49.107Z"
   },
   {
    "duration": 70,
    "start_time": "2024-12-04T10:09:09.764Z"
   },
   {
    "duration": 5,
    "start_time": "2024-12-04T10:09:29.396Z"
   },
   {
    "duration": 185,
    "start_time": "2024-12-04T10:09:30.826Z"
   },
   {
    "duration": 5,
    "start_time": "2024-12-04T10:10:52.084Z"
   },
   {
    "duration": 210,
    "start_time": "2024-12-04T10:10:53.780Z"
   },
   {
    "duration": 8,
    "start_time": "2024-12-04T10:11:02.460Z"
   },
   {
    "duration": 206,
    "start_time": "2024-12-04T10:11:03.813Z"
   },
   {
    "duration": 5,
    "start_time": "2024-12-04T10:16:08.513Z"
   },
   {
    "duration": 192,
    "start_time": "2024-12-04T10:16:17.033Z"
   },
   {
    "duration": 15,
    "start_time": "2024-12-04T10:16:50.818Z"
   },
   {
    "duration": 8,
    "start_time": "2024-12-04T10:17:25.226Z"
   },
   {
    "duration": 204,
    "start_time": "2024-12-04T10:17:42.289Z"
   },
   {
    "duration": 7,
    "start_time": "2024-12-04T10:22:11.287Z"
   },
   {
    "duration": 11,
    "start_time": "2024-12-04T10:22:13.492Z"
   },
   {
    "duration": 4,
    "start_time": "2024-12-04T10:22:29.257Z"
   },
   {
    "duration": 11,
    "start_time": "2024-12-04T10:22:32.300Z"
   },
   {
    "duration": 31,
    "start_time": "2024-12-04T12:17:42.253Z"
   },
   {
    "duration": 121,
    "start_time": "2024-12-04T12:18:25.729Z"
   },
   {
    "duration": 7,
    "start_time": "2024-12-04T12:18:33.737Z"
   },
   {
    "duration": 4,
    "start_time": "2024-12-04T12:18:45.081Z"
   },
   {
    "duration": 4,
    "start_time": "2024-12-04T12:18:47.795Z"
   },
   {
    "duration": 196,
    "start_time": "2024-12-04T12:18:49.628Z"
   },
   {
    "duration": 45,
    "start_time": "2024-12-04T17:32:05.415Z"
   },
   {
    "duration": 4,
    "start_time": "2024-12-04T17:32:11.215Z"
   },
   {
    "duration": 7,
    "start_time": "2024-12-04T17:32:13.461Z"
   },
   {
    "duration": 825,
    "start_time": "2024-12-04T17:32:24.184Z"
   },
   {
    "duration": 3,
    "start_time": "2024-12-04T17:32:25.011Z"
   },
   {
    "duration": 208,
    "start_time": "2024-12-04T17:32:25.015Z"
   },
   {
    "duration": 27,
    "start_time": "2024-12-04T17:32:25.225Z"
   },
   {
    "duration": 70,
    "start_time": "2024-12-04T17:32:25.254Z"
   },
   {
    "duration": 6,
    "start_time": "2024-12-04T17:32:25.325Z"
   },
   {
    "duration": 23,
    "start_time": "2024-12-04T17:32:25.332Z"
   },
   {
    "duration": 3,
    "start_time": "2024-12-04T17:32:25.356Z"
   },
   {
    "duration": 12,
    "start_time": "2024-12-04T17:32:25.360Z"
   },
   {
    "duration": 6,
    "start_time": "2024-12-04T17:32:25.374Z"
   },
   {
    "duration": 30,
    "start_time": "2024-12-04T17:32:25.381Z"
   },
   {
    "duration": 8,
    "start_time": "2024-12-04T17:32:25.413Z"
   },
   {
    "duration": 99,
    "start_time": "2024-12-04T17:32:25.422Z"
   },
   {
    "duration": 5,
    "start_time": "2024-12-04T17:32:25.524Z"
   },
   {
    "duration": 11,
    "start_time": "2024-12-04T17:32:25.530Z"
   },
   {
    "duration": 572,
    "start_time": "2024-12-04T17:32:25.543Z"
   },
   {
    "duration": 498,
    "start_time": "2024-12-04T17:32:26.117Z"
   },
   {
    "duration": 640,
    "start_time": "2024-12-04T17:32:26.616Z"
   },
   {
    "duration": 295,
    "start_time": "2024-12-04T17:32:27.258Z"
   },
   {
    "duration": 351,
    "start_time": "2024-12-04T17:32:27.555Z"
   },
   {
    "duration": 4,
    "start_time": "2024-12-04T17:32:27.907Z"
   },
   {
    "duration": 172,
    "start_time": "2024-12-04T17:32:27.912Z"
   },
   {
    "duration": 0,
    "start_time": "2024-12-04T17:32:28.092Z"
   },
   {
    "duration": 0,
    "start_time": "2024-12-04T17:32:28.093Z"
   },
   {
    "duration": 158,
    "start_time": "2024-12-04T17:32:44.664Z"
   },
   {
    "duration": 7,
    "start_time": "2024-12-04T17:32:49.144Z"
   },
   {
    "duration": 19,
    "start_time": "2024-12-04T17:33:42.991Z"
   },
   {
    "duration": 11,
    "start_time": "2024-12-04T17:34:16.652Z"
   },
   {
    "duration": 13,
    "start_time": "2024-12-04T17:37:41.267Z"
   },
   {
    "duration": 12,
    "start_time": "2024-12-04T17:37:50.712Z"
   },
   {
    "duration": 15,
    "start_time": "2024-12-04T17:38:08.939Z"
   },
   {
    "duration": 147,
    "start_time": "2024-12-04T17:38:18.529Z"
   },
   {
    "duration": 182,
    "start_time": "2024-12-04T17:42:28.478Z"
   },
   {
    "duration": 9,
    "start_time": "2024-12-04T17:43:15.594Z"
   },
   {
    "duration": 12,
    "start_time": "2024-12-04T17:43:42.449Z"
   },
   {
    "duration": 154,
    "start_time": "2024-12-04T17:43:48.581Z"
   },
   {
    "duration": 4,
    "start_time": "2024-12-04T17:43:52.042Z"
   },
   {
    "duration": 3,
    "start_time": "2024-12-04T17:43:57.857Z"
   },
   {
    "duration": 12,
    "start_time": "2024-12-04T17:44:39.075Z"
   },
   {
    "duration": 116,
    "start_time": "2024-12-04T17:48:34.250Z"
   },
   {
    "duration": 156,
    "start_time": "2024-12-04T17:49:52.719Z"
   },
   {
    "duration": 4,
    "start_time": "2024-12-04T17:50:37.714Z"
   },
   {
    "duration": 25,
    "start_time": "2024-12-04T18:05:19.651Z"
   },
   {
    "duration": 15,
    "start_time": "2024-12-04T18:08:01.999Z"
   },
   {
    "duration": 509,
    "start_time": "2024-12-04T18:32:08.302Z"
   },
   {
    "duration": 65,
    "start_time": "2024-12-04T18:33:39.742Z"
   },
   {
    "duration": 9,
    "start_time": "2024-12-04T18:34:07.204Z"
   },
   {
    "duration": 8,
    "start_time": "2024-12-04T18:34:13.923Z"
   },
   {
    "duration": 8,
    "start_time": "2024-12-04T18:35:08.972Z"
   },
   {
    "duration": 12,
    "start_time": "2024-12-04T18:37:32.669Z"
   },
   {
    "duration": 14,
    "start_time": "2024-12-04T18:38:33.096Z"
   },
   {
    "duration": 35,
    "start_time": "2024-12-04T18:39:06.952Z"
   },
   {
    "duration": 6,
    "start_time": "2024-12-04T18:39:12.888Z"
   },
   {
    "duration": 12,
    "start_time": "2024-12-04T18:39:30.633Z"
   },
   {
    "duration": 57,
    "start_time": "2024-12-04T18:40:28.236Z"
   },
   {
    "duration": 12,
    "start_time": "2024-12-04T18:40:35.967Z"
   },
   {
    "duration": 13,
    "start_time": "2024-12-04T18:40:50.077Z"
   },
   {
    "duration": 13,
    "start_time": "2024-12-04T18:41:15.183Z"
   },
   {
    "duration": 10,
    "start_time": "2024-12-04T18:42:55.761Z"
   },
   {
    "duration": 15,
    "start_time": "2024-12-04T18:43:27.180Z"
   },
   {
    "duration": 14,
    "start_time": "2024-12-04T18:43:36.014Z"
   },
   {
    "duration": 19,
    "start_time": "2024-12-04T18:44:38.185Z"
   },
   {
    "duration": 15,
    "start_time": "2024-12-04T18:45:31.144Z"
   },
   {
    "duration": 18,
    "start_time": "2024-12-04T18:47:12.732Z"
   },
   {
    "duration": 19,
    "start_time": "2024-12-04T18:48:17.069Z"
   },
   {
    "duration": 16,
    "start_time": "2024-12-04T18:48:40.092Z"
   },
   {
    "duration": 18,
    "start_time": "2024-12-04T18:49:04.637Z"
   },
   {
    "duration": 12,
    "start_time": "2024-12-04T18:49:15.821Z"
   },
   {
    "duration": 8,
    "start_time": "2024-12-04T18:50:29.573Z"
   },
   {
    "duration": 54,
    "start_time": "2024-12-04T18:50:34.572Z"
   },
   {
    "duration": 14,
    "start_time": "2024-12-04T18:50:41.489Z"
   },
   {
    "duration": 10,
    "start_time": "2024-12-04T18:50:44.759Z"
   },
   {
    "duration": 54,
    "start_time": "2024-12-04T18:51:17.349Z"
   },
   {
    "duration": 6,
    "start_time": "2024-12-04T18:51:29.016Z"
   },
   {
    "duration": 20,
    "start_time": "2024-12-04T19:16:20.728Z"
   },
   {
    "duration": 15,
    "start_time": "2024-12-04T19:18:00.193Z"
   },
   {
    "duration": 19,
    "start_time": "2024-12-04T19:18:05.669Z"
   },
   {
    "duration": 16,
    "start_time": "2024-12-04T19:23:52.653Z"
   },
   {
    "duration": 20,
    "start_time": "2024-12-04T19:23:58.405Z"
   },
   {
    "duration": 17,
    "start_time": "2024-12-04T19:25:40.564Z"
   },
   {
    "duration": 17,
    "start_time": "2024-12-04T19:26:05.249Z"
   },
   {
    "duration": 24,
    "start_time": "2024-12-04T19:26:10.642Z"
   },
   {
    "duration": 15,
    "start_time": "2024-12-04T19:27:05.605Z"
   },
   {
    "duration": 17,
    "start_time": "2024-12-04T19:27:10.698Z"
   },
   {
    "duration": 1658,
    "start_time": "2024-12-04T19:27:27.533Z"
   },
   {
    "duration": 7,
    "start_time": "2024-12-04T19:27:38.940Z"
   },
   {
    "duration": 4,
    "start_time": "2024-12-04T19:32:26.794Z"
   },
   {
    "duration": 1239,
    "start_time": "2024-12-04T19:32:30.003Z"
   },
   {
    "duration": 1190,
    "start_time": "2024-12-04T19:32:46.019Z"
   },
   {
    "duration": 14,
    "start_time": "2024-12-04T19:32:54.069Z"
   },
   {
    "duration": 8,
    "start_time": "2024-12-04T19:33:30.459Z"
   },
   {
    "duration": 11,
    "start_time": "2024-12-04T19:34:20.336Z"
   },
   {
    "duration": 11,
    "start_time": "2024-12-04T19:34:43.231Z"
   },
   {
    "duration": 12,
    "start_time": "2024-12-04T19:34:50.041Z"
   },
   {
    "duration": 14,
    "start_time": "2024-12-04T19:35:10.632Z"
   },
   {
    "duration": 1204,
    "start_time": "2024-12-04T19:36:29.001Z"
   },
   {
    "duration": 1135,
    "start_time": "2024-12-04T19:36:45.288Z"
   },
   {
    "duration": 11,
    "start_time": "2024-12-04T19:36:55.498Z"
   },
   {
    "duration": 11,
    "start_time": "2024-12-04T19:37:24.301Z"
   },
   {
    "duration": 27,
    "start_time": "2024-12-04T19:37:27.355Z"
   },
   {
    "duration": 23,
    "start_time": "2024-12-04T19:38:45.803Z"
   },
   {
    "duration": 9,
    "start_time": "2024-12-04T19:39:40.591Z"
   },
   {
    "duration": 8,
    "start_time": "2024-12-04T19:40:05.783Z"
   },
   {
    "duration": 11,
    "start_time": "2024-12-04T19:40:38.236Z"
   },
   {
    "duration": 35,
    "start_time": "2024-12-04T19:40:58.173Z"
   },
   {
    "duration": 23,
    "start_time": "2024-12-04T19:41:09.415Z"
   },
   {
    "duration": 10,
    "start_time": "2024-12-04T19:43:25.635Z"
   },
   {
    "duration": 11,
    "start_time": "2024-12-04T19:44:25.376Z"
   },
   {
    "duration": 65,
    "start_time": "2024-12-04T19:45:13.172Z"
   },
   {
    "duration": 10,
    "start_time": "2024-12-04T19:45:28.618Z"
   },
   {
    "duration": 29,
    "start_time": "2024-12-04T19:45:30.636Z"
   },
   {
    "duration": 13,
    "start_time": "2024-12-04T19:47:27.745Z"
   },
   {
    "duration": 9,
    "start_time": "2024-12-04T19:51:07.262Z"
   },
   {
    "duration": 8,
    "start_time": "2024-12-04T19:57:35.138Z"
   },
   {
    "duration": 15,
    "start_time": "2024-12-04T19:59:18.599Z"
   },
   {
    "duration": 11,
    "start_time": "2024-12-04T19:59:26.076Z"
   },
   {
    "duration": 12,
    "start_time": "2024-12-04T19:59:52.638Z"
   },
   {
    "duration": 24,
    "start_time": "2024-12-04T19:59:54.838Z"
   },
   {
    "duration": 10,
    "start_time": "2024-12-04T20:00:03.697Z"
   },
   {
    "duration": 160,
    "start_time": "2024-12-04T20:01:10.281Z"
   },
   {
    "duration": 57,
    "start_time": "2024-12-04T20:01:15.428Z"
   },
   {
    "duration": 31,
    "start_time": "2024-12-04T20:01:32.043Z"
   },
   {
    "duration": 28,
    "start_time": "2024-12-04T20:01:50.728Z"
   },
   {
    "duration": 8,
    "start_time": "2024-12-04T20:02:01.319Z"
   },
   {
    "duration": 17,
    "start_time": "2024-12-04T20:02:56.874Z"
   },
   {
    "duration": 3,
    "start_time": "2024-12-04T20:03:23.671Z"
   },
   {
    "duration": 4,
    "start_time": "2024-12-04T20:03:50.056Z"
   },
   {
    "duration": 27,
    "start_time": "2024-12-04T20:04:04.819Z"
   },
   {
    "duration": 30,
    "start_time": "2024-12-04T20:04:50.011Z"
   },
   {
    "duration": 4,
    "start_time": "2024-12-04T20:05:01.654Z"
   },
   {
    "duration": 5,
    "start_time": "2024-12-04T20:05:43.089Z"
   },
   {
    "duration": 5,
    "start_time": "2024-12-04T20:06:54.222Z"
   },
   {
    "duration": 3,
    "start_time": "2024-12-04T20:06:59.884Z"
   },
   {
    "duration": 5,
    "start_time": "2024-12-04T20:07:20.864Z"
   },
   {
    "duration": 8,
    "start_time": "2024-12-04T20:07:30.147Z"
   },
   {
    "duration": 12,
    "start_time": "2024-12-04T20:08:57.439Z"
   },
   {
    "duration": 10,
    "start_time": "2024-12-04T20:09:00.052Z"
   },
   {
    "duration": 4,
    "start_time": "2024-12-04T20:14:56.665Z"
   },
   {
    "duration": 4,
    "start_time": "2024-12-04T20:15:30.429Z"
   },
   {
    "duration": 4,
    "start_time": "2024-12-04T20:16:30.171Z"
   },
   {
    "duration": 14,
    "start_time": "2024-12-04T20:16:38.652Z"
   },
   {
    "duration": 4,
    "start_time": "2024-12-04T20:16:54.311Z"
   },
   {
    "duration": 12,
    "start_time": "2024-12-04T20:17:09.640Z"
   },
   {
    "duration": 13,
    "start_time": "2024-12-04T20:17:18.641Z"
   },
   {
    "duration": 35,
    "start_time": "2024-12-04T20:18:02.271Z"
   },
   {
    "duration": 37,
    "start_time": "2024-12-04T20:18:54.456Z"
   },
   {
    "duration": 4,
    "start_time": "2024-12-04T20:21:56.981Z"
   },
   {
    "duration": 4,
    "start_time": "2024-12-04T20:21:58.513Z"
   },
   {
    "duration": 39,
    "start_time": "2024-12-04T20:22:01.382Z"
   },
   {
    "duration": 12,
    "start_time": "2024-12-04T20:29:34.408Z"
   },
   {
    "duration": 11,
    "start_time": "2024-12-04T20:30:58.490Z"
   },
   {
    "duration": 11,
    "start_time": "2024-12-04T20:31:07.902Z"
   },
   {
    "duration": 10,
    "start_time": "2024-12-04T20:31:23.924Z"
   },
   {
    "duration": 12,
    "start_time": "2024-12-04T20:32:22.900Z"
   },
   {
    "duration": 12,
    "start_time": "2024-12-04T20:32:54.771Z"
   },
   {
    "duration": 13,
    "start_time": "2024-12-04T20:33:03.896Z"
   },
   {
    "duration": 14,
    "start_time": "2024-12-04T20:33:27.980Z"
   },
   {
    "duration": 12,
    "start_time": "2024-12-04T20:34:21.305Z"
   },
   {
    "duration": 13,
    "start_time": "2024-12-04T20:34:47.745Z"
   },
   {
    "duration": 5,
    "start_time": "2024-12-04T20:35:49.727Z"
   },
   {
    "duration": 14,
    "start_time": "2024-12-04T20:36:30.278Z"
   },
   {
    "duration": 15,
    "start_time": "2024-12-04T20:37:03.902Z"
   },
   {
    "duration": 12,
    "start_time": "2024-12-04T20:38:04.096Z"
   },
   {
    "duration": 9,
    "start_time": "2024-12-04T20:38:18.774Z"
   },
   {
    "duration": 11,
    "start_time": "2024-12-04T20:38:26.761Z"
   },
   {
    "duration": 12,
    "start_time": "2024-12-04T20:38:39.740Z"
   },
   {
    "duration": 2415,
    "start_time": "2024-12-04T20:39:31.950Z"
   },
   {
    "duration": 5,
    "start_time": "2024-12-04T20:40:06.792Z"
   },
   {
    "duration": 62,
    "start_time": "2024-12-04T20:40:25.383Z"
   },
   {
    "duration": 4,
    "start_time": "2024-12-04T20:40:31.525Z"
   },
   {
    "duration": 35,
    "start_time": "2024-12-04T20:40:35.133Z"
   },
   {
    "duration": 4,
    "start_time": "2024-12-04T20:42:03.277Z"
   },
   {
    "duration": 10,
    "start_time": "2024-12-04T20:42:15.059Z"
   },
   {
    "duration": 35,
    "start_time": "2024-12-04T20:42:43.942Z"
   },
   {
    "duration": 5,
    "start_time": "2024-12-04T20:43:54.698Z"
   },
   {
    "duration": 39,
    "start_time": "2024-12-04T20:43:59.126Z"
   },
   {
    "duration": 31,
    "start_time": "2024-12-04T20:48:08.714Z"
   },
   {
    "duration": 58,
    "start_time": "2024-12-04T20:48:43.264Z"
   },
   {
    "duration": 10,
    "start_time": "2024-12-04T20:49:28.113Z"
   },
   {
    "duration": 67,
    "start_time": "2024-12-04T20:49:36.229Z"
   },
   {
    "duration": 57,
    "start_time": "2024-12-04T20:49:41.365Z"
   },
   {
    "duration": 13,
    "start_time": "2024-12-04T20:49:50.692Z"
   },
   {
    "duration": 24,
    "start_time": "2024-12-04T20:50:35.397Z"
   },
   {
    "duration": 14,
    "start_time": "2024-12-04T20:50:48.823Z"
   },
   {
    "duration": 14,
    "start_time": "2024-12-04T20:50:57.143Z"
   },
   {
    "duration": 15,
    "start_time": "2024-12-04T20:51:11.044Z"
   },
   {
    "duration": 5,
    "start_time": "2024-12-04T20:51:38.616Z"
   },
   {
    "duration": 14,
    "start_time": "2024-12-04T20:52:10.557Z"
   },
   {
    "duration": 4,
    "start_time": "2024-12-04T20:52:57.223Z"
   },
   {
    "duration": 4,
    "start_time": "2024-12-04T20:53:15.414Z"
   },
   {
    "duration": 36,
    "start_time": "2024-12-04T20:53:22.258Z"
   },
   {
    "duration": 41,
    "start_time": "2024-12-04T20:54:21.990Z"
   },
   {
    "duration": 31,
    "start_time": "2024-12-04T20:57:15.017Z"
   },
   {
    "duration": 12,
    "start_time": "2024-12-04T20:57:52.172Z"
   },
   {
    "duration": 28,
    "start_time": "2024-12-04T20:58:05.336Z"
   },
   {
    "duration": 29,
    "start_time": "2024-12-04T20:58:48.995Z"
   },
   {
    "duration": 12,
    "start_time": "2024-12-04T20:58:53.356Z"
   },
   {
    "duration": 4,
    "start_time": "2024-12-04T21:02:42.996Z"
   },
   {
    "duration": 4,
    "start_time": "2024-12-04T21:04:00.118Z"
   },
   {
    "duration": 12,
    "start_time": "2024-12-04T21:04:09.417Z"
   },
   {
    "duration": 11,
    "start_time": "2024-12-04T21:04:17.196Z"
   },
   {
    "duration": 4,
    "start_time": "2024-12-04T21:04:43.374Z"
   },
   {
    "duration": 9,
    "start_time": "2024-12-04T21:05:20.752Z"
   },
   {
    "duration": 8,
    "start_time": "2024-12-04T21:05:28.091Z"
   },
   {
    "duration": 9,
    "start_time": "2024-12-04T21:05:54.551Z"
   },
   {
    "duration": 6,
    "start_time": "2024-12-04T21:06:05.794Z"
   },
   {
    "duration": 6,
    "start_time": "2024-12-04T21:06:33.711Z"
   },
   {
    "duration": 9,
    "start_time": "2024-12-04T21:06:40.725Z"
   },
   {
    "duration": 9,
    "start_time": "2024-12-04T21:07:05.427Z"
   },
   {
    "duration": 43,
    "start_time": "2024-12-04T21:07:18.001Z"
   },
   {
    "duration": 14,
    "start_time": "2024-12-04T21:07:30.916Z"
   },
   {
    "duration": 9,
    "start_time": "2024-12-04T21:07:46.537Z"
   },
   {
    "duration": 41,
    "start_time": "2024-12-04T21:07:48.280Z"
   },
   {
    "duration": 11,
    "start_time": "2024-12-04T21:07:50.572Z"
   },
   {
    "duration": 4,
    "start_time": "2024-12-04T21:08:17.760Z"
   },
   {
    "duration": 4,
    "start_time": "2024-12-04T21:11:02.693Z"
   },
   {
    "duration": 13,
    "start_time": "2024-12-04T21:11:15.650Z"
   },
   {
    "duration": 29,
    "start_time": "2024-12-04T21:11:37.025Z"
   },
   {
    "duration": 16,
    "start_time": "2024-12-04T21:11:46.429Z"
   },
   {
    "duration": 10,
    "start_time": "2024-12-04T21:14:04.545Z"
   },
   {
    "duration": 19,
    "start_time": "2024-12-04T21:16:57.822Z"
   },
   {
    "duration": 10,
    "start_time": "2024-12-04T21:17:02.130Z"
   },
   {
    "duration": 4,
    "start_time": "2024-12-04T21:17:11.146Z"
   },
   {
    "duration": 11,
    "start_time": "2024-12-04T21:17:47.552Z"
   },
   {
    "duration": 4,
    "start_time": "2024-12-04T21:18:41.875Z"
   },
   {
    "duration": 4,
    "start_time": "2024-12-04T21:18:43.702Z"
   },
   {
    "duration": 13,
    "start_time": "2024-12-04T21:19:59.657Z"
   },
   {
    "duration": 11,
    "start_time": "2024-12-04T21:20:17.693Z"
   },
   {
    "duration": 27,
    "start_time": "2024-12-04T21:23:48.800Z"
   },
   {
    "duration": 11,
    "start_time": "2024-12-04T21:23:58.842Z"
   },
   {
    "duration": 9,
    "start_time": "2024-12-04T21:24:30.936Z"
   },
   {
    "duration": 11,
    "start_time": "2024-12-04T21:25:03.029Z"
   },
   {
    "duration": 10,
    "start_time": "2024-12-04T21:25:07.081Z"
   },
   {
    "duration": 11,
    "start_time": "2024-12-04T21:25:55.443Z"
   },
   {
    "duration": 11,
    "start_time": "2024-12-04T21:26:01.751Z"
   },
   {
    "duration": 13,
    "start_time": "2024-12-04T21:26:39.364Z"
   },
   {
    "duration": 16,
    "start_time": "2024-12-04T21:26:52.245Z"
   },
   {
    "duration": 8,
    "start_time": "2024-12-04T21:27:07.465Z"
   },
   {
    "duration": 20,
    "start_time": "2024-12-04T21:27:12.054Z"
   },
   {
    "duration": 12,
    "start_time": "2024-12-04T21:27:30.440Z"
   },
   {
    "duration": 20,
    "start_time": "2024-12-04T21:28:27.799Z"
   },
   {
    "duration": 18,
    "start_time": "2024-12-04T21:30:12.798Z"
   },
   {
    "duration": 70,
    "start_time": "2024-12-04T21:30:36.426Z"
   },
   {
    "duration": 12,
    "start_time": "2024-12-04T21:30:46.972Z"
   },
   {
    "duration": 9,
    "start_time": "2024-12-04T21:30:51.090Z"
   },
   {
    "duration": 18,
    "start_time": "2024-12-04T21:30:57.046Z"
   },
   {
    "duration": 4,
    "start_time": "2024-12-04T21:31:15.963Z"
   },
   {
    "duration": 5,
    "start_time": "2024-12-04T21:31:33.391Z"
   },
   {
    "duration": 13,
    "start_time": "2024-12-04T21:31:46.324Z"
   },
   {
    "duration": 4,
    "start_time": "2024-12-04T21:32:27.073Z"
   },
   {
    "duration": 10,
    "start_time": "2024-12-04T21:32:29.724Z"
   },
   {
    "duration": 3,
    "start_time": "2024-12-04T21:32:32.387Z"
   },
   {
    "duration": 18,
    "start_time": "2024-12-04T21:32:35.221Z"
   },
   {
    "duration": 8,
    "start_time": "2024-12-04T21:35:49.061Z"
   },
   {
    "duration": 1234,
    "start_time": "2024-12-04T21:36:05.066Z"
   },
   {
    "duration": 22,
    "start_time": "2024-12-04T21:36:24.077Z"
   },
   {
    "duration": 1065,
    "start_time": "2024-12-04T21:36:38.685Z"
   },
   {
    "duration": 2,
    "start_time": "2024-12-04T21:36:39.752Z"
   },
   {
    "duration": 91,
    "start_time": "2024-12-04T21:36:39.756Z"
   },
   {
    "duration": 26,
    "start_time": "2024-12-04T21:36:39.848Z"
   },
   {
    "duration": 23,
    "start_time": "2024-12-04T21:36:39.876Z"
   },
   {
    "duration": 5,
    "start_time": "2024-12-04T21:36:39.901Z"
   },
   {
    "duration": 18,
    "start_time": "2024-12-04T21:36:39.908Z"
   },
   {
    "duration": 3,
    "start_time": "2024-12-04T21:36:39.928Z"
   },
   {
    "duration": 11,
    "start_time": "2024-12-04T21:36:39.932Z"
   },
   {
    "duration": 4,
    "start_time": "2024-12-04T21:36:39.945Z"
   },
   {
    "duration": 52,
    "start_time": "2024-12-04T21:36:39.951Z"
   },
   {
    "duration": 10,
    "start_time": "2024-12-04T21:36:40.004Z"
   },
   {
    "duration": 25,
    "start_time": "2024-12-04T21:36:40.015Z"
   },
   {
    "duration": 104,
    "start_time": "2024-12-04T21:36:40.042Z"
   },
   {
    "duration": 6,
    "start_time": "2024-12-04T21:36:40.147Z"
   },
   {
    "duration": 8,
    "start_time": "2024-12-04T21:36:40.154Z"
   },
   {
    "duration": 592,
    "start_time": "2024-12-04T21:36:40.163Z"
   },
   {
    "duration": 476,
    "start_time": "2024-12-04T21:36:40.756Z"
   },
   {
    "duration": 576,
    "start_time": "2024-12-04T21:36:41.234Z"
   },
   {
    "duration": 238,
    "start_time": "2024-12-04T21:36:41.811Z"
   },
   {
    "duration": 347,
    "start_time": "2024-12-04T21:36:42.051Z"
   },
   {
    "duration": 165,
    "start_time": "2024-12-04T21:36:42.399Z"
   },
   {
    "duration": 4,
    "start_time": "2024-12-04T21:36:42.565Z"
   },
   {
    "duration": 174,
    "start_time": "2024-12-04T21:36:42.571Z"
   },
   {
    "duration": 5,
    "start_time": "2024-12-04T21:36:42.746Z"
   },
   {
    "duration": 5,
    "start_time": "2024-12-04T21:36:42.752Z"
   },
   {
    "duration": 6,
    "start_time": "2024-12-04T21:36:42.759Z"
   },
   {
    "duration": 55,
    "start_time": "2024-12-04T21:36:42.766Z"
   },
   {
    "duration": 9,
    "start_time": "2024-12-04T21:36:42.823Z"
   },
   {
    "duration": 22,
    "start_time": "2024-12-04T21:36:42.833Z"
   },
   {
    "duration": 44,
    "start_time": "2024-12-04T21:36:42.856Z"
   },
   {
    "duration": 12,
    "start_time": "2024-12-04T21:36:42.902Z"
   },
   {
    "duration": 10,
    "start_time": "2024-12-04T21:37:34.827Z"
   },
   {
    "duration": 8,
    "start_time": "2024-12-04T21:37:41.949Z"
   },
   {
    "duration": 111,
    "start_time": "2024-12-04T21:37:52.825Z"
   },
   {
    "duration": 171,
    "start_time": "2024-12-04T21:38:48.328Z"
   },
   {
    "duration": 100,
    "start_time": "2024-12-04T21:38:58.712Z"
   },
   {
    "duration": 97,
    "start_time": "2024-12-04T21:39:14.457Z"
   },
   {
    "duration": 104,
    "start_time": "2024-12-04T21:39:19.997Z"
   },
   {
    "duration": 103,
    "start_time": "2024-12-04T21:39:28.678Z"
   },
   {
    "duration": 123,
    "start_time": "2024-12-04T21:39:40.655Z"
   },
   {
    "duration": 68,
    "start_time": "2024-12-04T21:39:55.623Z"
   },
   {
    "duration": 91,
    "start_time": "2024-12-04T21:40:36.081Z"
   },
   {
    "duration": 1113,
    "start_time": "2024-12-04T21:40:58.948Z"
   },
   {
    "duration": 106,
    "start_time": "2024-12-04T21:41:10.616Z"
   },
   {
    "duration": 90,
    "start_time": "2024-12-04T21:41:24.021Z"
   },
   {
    "duration": 90,
    "start_time": "2024-12-04T21:42:02.306Z"
   },
   {
    "duration": 94,
    "start_time": "2024-12-04T21:42:09.131Z"
   },
   {
    "duration": 97,
    "start_time": "2024-12-04T21:42:15.939Z"
   },
   {
    "duration": 3,
    "start_time": "2024-12-04T21:42:50.345Z"
   },
   {
    "duration": 10,
    "start_time": "2024-12-04T21:43:03.576Z"
   },
   {
    "duration": 8,
    "start_time": "2024-12-04T21:43:26.338Z"
   },
   {
    "duration": 140,
    "start_time": "2024-12-04T21:43:35.628Z"
   },
   {
    "duration": 135,
    "start_time": "2024-12-04T21:43:45.627Z"
   },
   {
    "duration": 59,
    "start_time": "2024-12-04T21:43:56.734Z"
   },
   {
    "duration": 153,
    "start_time": "2024-12-04T21:44:01.719Z"
   },
   {
    "duration": 151,
    "start_time": "2024-12-04T21:44:05.699Z"
   },
   {
    "duration": 132,
    "start_time": "2024-12-04T21:44:23.731Z"
   },
   {
    "duration": 131,
    "start_time": "2024-12-04T21:44:51.820Z"
   },
   {
    "duration": 227,
    "start_time": "2024-12-04T21:45:08.344Z"
   },
   {
    "duration": 21,
    "start_time": "2024-12-04T21:46:18.704Z"
   },
   {
    "duration": 23,
    "start_time": "2024-12-04T21:46:45.685Z"
   },
   {
    "duration": 23,
    "start_time": "2024-12-04T21:51:19.775Z"
   },
   {
    "duration": 21,
    "start_time": "2024-12-04T21:51:37.323Z"
   },
   {
    "duration": 10,
    "start_time": "2024-12-04T22:08:45.904Z"
   },
   {
    "duration": 9,
    "start_time": "2024-12-04T22:08:56.658Z"
   },
   {
    "duration": 6,
    "start_time": "2024-12-04T22:08:59.218Z"
   },
   {
    "duration": 9,
    "start_time": "2024-12-04T22:09:11.893Z"
   },
   {
    "duration": 9,
    "start_time": "2024-12-04T22:09:14.205Z"
   },
   {
    "duration": 3,
    "start_time": "2024-12-04T22:09:31.899Z"
   },
   {
    "duration": 8,
    "start_time": "2024-12-04T22:09:39.610Z"
   },
   {
    "duration": 4,
    "start_time": "2024-12-04T22:13:36.677Z"
   },
   {
    "duration": 54,
    "start_time": "2024-12-04T22:13:43.325Z"
   },
   {
    "duration": 49,
    "start_time": "2024-12-04T22:13:58.753Z"
   },
   {
    "duration": 49,
    "start_time": "2024-12-04T22:14:18.732Z"
   },
   {
    "duration": 9,
    "start_time": "2024-12-04T22:15:31.936Z"
   },
   {
    "duration": 39,
    "start_time": "2024-12-04T22:15:33.572Z"
   },
   {
    "duration": 11,
    "start_time": "2024-12-04T22:15:36.141Z"
   },
   {
    "duration": 5,
    "start_time": "2024-12-04T22:15:42.540Z"
   },
   {
    "duration": 8,
    "start_time": "2024-12-04T22:19:48.469Z"
   },
   {
    "duration": 10,
    "start_time": "2024-12-04T22:19:56.722Z"
   },
   {
    "duration": 12,
    "start_time": "2024-12-04T22:20:09.669Z"
   },
   {
    "duration": 6,
    "start_time": "2024-12-04T22:20:47.871Z"
   },
   {
    "duration": 9,
    "start_time": "2024-12-04T22:20:56.744Z"
   },
   {
    "duration": 12,
    "start_time": "2024-12-04T22:21:01.870Z"
   },
   {
    "duration": 15,
    "start_time": "2024-12-04T22:21:22.861Z"
   },
   {
    "duration": 10,
    "start_time": "2024-12-04T22:21:33.754Z"
   },
   {
    "duration": 14,
    "start_time": "2024-12-04T22:22:17.483Z"
   },
   {
    "duration": 13,
    "start_time": "2024-12-04T22:22:23.513Z"
   },
   {
    "duration": 15,
    "start_time": "2024-12-04T22:22:27.692Z"
   },
   {
    "duration": 11,
    "start_time": "2024-12-04T22:22:39.127Z"
   },
   {
    "duration": 10,
    "start_time": "2024-12-04T22:23:19.858Z"
   },
   {
    "duration": 12,
    "start_time": "2024-12-04T22:23:26.300Z"
   },
   {
    "duration": 12,
    "start_time": "2024-12-04T22:23:37.017Z"
   },
   {
    "duration": 9,
    "start_time": "2024-12-04T22:23:40.719Z"
   },
   {
    "duration": 9,
    "start_time": "2024-12-04T22:23:41.166Z"
   },
   {
    "duration": 10,
    "start_time": "2024-12-04T22:23:41.463Z"
   },
   {
    "duration": 11,
    "start_time": "2024-12-04T22:23:41.614Z"
   },
   {
    "duration": 9,
    "start_time": "2024-12-04T22:23:41.768Z"
   },
   {
    "duration": 9,
    "start_time": "2024-12-04T22:23:42.203Z"
   },
   {
    "duration": 9,
    "start_time": "2024-12-04T22:23:42.311Z"
   },
   {
    "duration": 10,
    "start_time": "2024-12-04T22:23:42.464Z"
   },
   {
    "duration": 9,
    "start_time": "2024-12-04T22:23:42.933Z"
   },
   {
    "duration": 10,
    "start_time": "2024-12-04T22:23:43.282Z"
   },
   {
    "duration": 3,
    "start_time": "2024-12-04T22:23:55.457Z"
   },
   {
    "duration": 9,
    "start_time": "2024-12-04T22:24:43.460Z"
   },
   {
    "duration": 14,
    "start_time": "2024-12-04T22:24:48.581Z"
   },
   {
    "duration": 8,
    "start_time": "2024-12-04T22:25:12.780Z"
   },
   {
    "duration": 14,
    "start_time": "2024-12-04T22:25:30.796Z"
   },
   {
    "duration": 14,
    "start_time": "2024-12-04T22:25:50.927Z"
   },
   {
    "duration": 14,
    "start_time": "2024-12-04T22:26:03.209Z"
   },
   {
    "duration": 16,
    "start_time": "2024-12-04T22:28:16.263Z"
   },
   {
    "duration": 9,
    "start_time": "2024-12-04T22:29:20.264Z"
   },
   {
    "duration": 14,
    "start_time": "2024-12-04T22:29:32.418Z"
   },
   {
    "duration": 55,
    "start_time": "2024-12-05T08:40:55.315Z"
   },
   {
    "duration": 1465,
    "start_time": "2024-12-05T08:41:13.952Z"
   },
   {
    "duration": 4,
    "start_time": "2024-12-05T08:41:15.419Z"
   },
   {
    "duration": 224,
    "start_time": "2024-12-05T08:41:15.424Z"
   },
   {
    "duration": 42,
    "start_time": "2024-12-05T08:41:15.650Z"
   },
   {
    "duration": 56,
    "start_time": "2024-12-05T08:41:15.695Z"
   },
   {
    "duration": 7,
    "start_time": "2024-12-05T08:41:15.753Z"
   },
   {
    "duration": 13,
    "start_time": "2024-12-05T08:41:15.762Z"
   },
   {
    "duration": 7,
    "start_time": "2024-12-05T08:41:15.777Z"
   },
   {
    "duration": 39,
    "start_time": "2024-12-05T08:41:15.786Z"
   },
   {
    "duration": 30,
    "start_time": "2024-12-05T08:41:15.827Z"
   },
   {
    "duration": 16,
    "start_time": "2024-12-05T08:41:15.858Z"
   },
   {
    "duration": 11,
    "start_time": "2024-12-05T08:41:15.877Z"
   },
   {
    "duration": 153,
    "start_time": "2024-12-05T08:41:15.890Z"
   },
   {
    "duration": 8,
    "start_time": "2024-12-05T08:41:16.045Z"
   },
   {
    "duration": 19,
    "start_time": "2024-12-05T08:41:16.055Z"
   },
   {
    "duration": 649,
    "start_time": "2024-12-05T08:41:16.076Z"
   },
   {
    "duration": 575,
    "start_time": "2024-12-05T08:41:16.727Z"
   },
   {
    "duration": 723,
    "start_time": "2024-12-05T08:41:17.304Z"
   },
   {
    "duration": 277,
    "start_time": "2024-12-05T08:41:18.028Z"
   },
   {
    "duration": 406,
    "start_time": "2024-12-05T08:41:18.307Z"
   },
   {
    "duration": 203,
    "start_time": "2024-12-05T08:41:18.715Z"
   },
   {
    "duration": 7,
    "start_time": "2024-12-05T08:41:18.920Z"
   },
   {
    "duration": 265,
    "start_time": "2024-12-05T08:41:18.929Z"
   },
   {
    "duration": 5,
    "start_time": "2024-12-05T08:41:19.196Z"
   },
   {
    "duration": 54,
    "start_time": "2024-12-05T08:41:19.203Z"
   },
   {
    "duration": 6,
    "start_time": "2024-12-05T08:41:19.259Z"
   },
   {
    "duration": 66,
    "start_time": "2024-12-05T08:41:19.267Z"
   },
   {
    "duration": 21,
    "start_time": "2024-12-05T08:41:19.337Z"
   },
   {
    "duration": 13,
    "start_time": "2024-12-05T08:41:19.360Z"
   },
   {
    "duration": 47,
    "start_time": "2024-12-05T08:41:19.375Z"
   },
   {
    "duration": 41,
    "start_time": "2024-12-05T08:41:19.424Z"
   },
   {
    "duration": 38,
    "start_time": "2024-12-05T08:41:19.468Z"
   },
   {
    "duration": 11,
    "start_time": "2024-12-05T08:41:19.507Z"
   },
   {
    "duration": 17,
    "start_time": "2024-12-05T08:49:26.335Z"
   },
   {
    "duration": 29,
    "start_time": "2024-12-05T08:49:33.647Z"
   },
   {
    "duration": 204,
    "start_time": "2024-12-05T10:02:48.861Z"
   },
   {
    "duration": 11,
    "start_time": "2024-12-05T10:17:24.766Z"
   },
   {
    "duration": 281,
    "start_time": "2024-12-05T10:17:33.391Z"
   },
   {
    "duration": 201,
    "start_time": "2024-12-05T10:17:38.975Z"
   },
   {
    "duration": 7,
    "start_time": "2024-12-05T10:17:42.621Z"
   },
   {
    "duration": 11,
    "start_time": "2024-12-05T10:18:01.568Z"
   },
   {
    "duration": 7,
    "start_time": "2024-12-05T10:18:22.935Z"
   },
   {
    "duration": 6,
    "start_time": "2024-12-05T10:18:26.368Z"
   },
   {
    "duration": 7,
    "start_time": "2024-12-05T10:19:00.520Z"
   },
   {
    "duration": 10,
    "start_time": "2024-12-05T10:19:18.857Z"
   },
   {
    "duration": 84,
    "start_time": "2024-12-05T10:21:42.074Z"
   },
   {
    "duration": 7,
    "start_time": "2024-12-05T10:23:08.867Z"
   },
   {
    "duration": 4,
    "start_time": "2024-12-05T10:23:22.539Z"
   },
   {
    "duration": 3,
    "start_time": "2024-12-05T11:39:40.899Z"
   },
   {
    "duration": 9,
    "start_time": "2024-12-05T11:39:47.922Z"
   },
   {
    "duration": 4,
    "start_time": "2024-12-05T11:40:04.643Z"
   },
   {
    "duration": 186,
    "start_time": "2024-12-05T11:42:08.741Z"
   },
   {
    "duration": 189,
    "start_time": "2024-12-05T11:50:21.282Z"
   },
   {
    "duration": 174,
    "start_time": "2024-12-05T11:53:08.252Z"
   },
   {
    "duration": 6,
    "start_time": "2024-12-05T11:56:01.839Z"
   },
   {
    "duration": 7,
    "start_time": "2024-12-05T12:05:16.870Z"
   },
   {
    "duration": 6,
    "start_time": "2024-12-05T12:05:56.079Z"
   },
   {
    "duration": 9,
    "start_time": "2024-12-05T12:06:32.134Z"
   },
   {
    "duration": 6,
    "start_time": "2024-12-05T12:06:39.982Z"
   },
   {
    "duration": 8,
    "start_time": "2024-12-05T12:06:42.479Z"
   },
   {
    "duration": 6,
    "start_time": "2024-12-05T12:06:48.806Z"
   },
   {
    "duration": 2,
    "start_time": "2024-12-05T12:06:50.807Z"
   },
   {
    "duration": 12,
    "start_time": "2024-12-05T12:24:30.043Z"
   },
   {
    "duration": 162,
    "start_time": "2024-12-05T12:24:47.964Z"
   },
   {
    "duration": 10,
    "start_time": "2024-12-05T12:25:00.724Z"
   },
   {
    "duration": 77,
    "start_time": "2024-12-05T12:25:11.436Z"
   },
   {
    "duration": 12,
    "start_time": "2024-12-05T12:25:19.627Z"
   },
   {
    "duration": 13,
    "start_time": "2024-12-05T12:25:52.571Z"
   },
   {
    "duration": 12,
    "start_time": "2024-12-05T12:27:22.902Z"
   },
   {
    "duration": 82,
    "start_time": "2024-12-05T12:28:23.847Z"
   },
   {
    "duration": 91,
    "start_time": "2024-12-05T12:28:58.926Z"
   },
   {
    "duration": 81,
    "start_time": "2024-12-05T12:29:20.456Z"
   },
   {
    "duration": 85,
    "start_time": "2024-12-05T12:29:43.711Z"
   },
   {
    "duration": 12,
    "start_time": "2024-12-05T12:30:12.079Z"
   },
   {
    "duration": 12,
    "start_time": "2024-12-05T12:30:41.263Z"
   },
   {
    "duration": 13,
    "start_time": "2024-12-05T12:30:57.695Z"
   },
   {
    "duration": 13,
    "start_time": "2024-12-05T12:31:03.441Z"
   },
   {
    "duration": 12,
    "start_time": "2024-12-05T12:31:05.312Z"
   },
   {
    "duration": 12,
    "start_time": "2024-12-05T12:31:15.280Z"
   },
   {
    "duration": 13,
    "start_time": "2024-12-05T12:31:44.620Z"
   },
   {
    "duration": 12,
    "start_time": "2024-12-05T12:31:50.690Z"
   },
   {
    "duration": 13,
    "start_time": "2024-12-05T12:32:29.481Z"
   },
   {
    "duration": 4,
    "start_time": "2024-12-05T12:41:32.192Z"
   },
   {
    "duration": 4,
    "start_time": "2024-12-05T12:41:37.047Z"
   },
   {
    "duration": 104,
    "start_time": "2024-12-05T12:42:51.096Z"
   },
   {
    "duration": 4,
    "start_time": "2024-12-05T12:43:06.609Z"
   },
   {
    "duration": 5,
    "start_time": "2024-12-05T12:43:38.697Z"
   },
   {
    "duration": 4,
    "start_time": "2024-12-05T12:43:52.962Z"
   },
   {
    "duration": 12,
    "start_time": "2024-12-05T13:58:34.480Z"
   },
   {
    "duration": 12,
    "start_time": "2024-12-05T13:58:40.112Z"
   },
   {
    "duration": 14,
    "start_time": "2024-12-05T13:59:27.288Z"
   },
   {
    "duration": 13,
    "start_time": "2024-12-05T13:59:31.696Z"
   },
   {
    "duration": 14,
    "start_time": "2024-12-05T13:59:59.955Z"
   },
   {
    "duration": 9,
    "start_time": "2024-12-05T14:07:25.356Z"
   },
   {
    "duration": 550,
    "start_time": "2024-12-05T14:07:27.881Z"
   },
   {
    "duration": 9,
    "start_time": "2024-12-05T14:08:30.723Z"
   },
   {
    "duration": 537,
    "start_time": "2024-12-05T14:08:32.695Z"
   },
   {
    "duration": 555,
    "start_time": "2024-12-05T14:08:47.768Z"
   },
   {
    "duration": 10,
    "start_time": "2024-12-05T14:10:27.354Z"
   },
   {
    "duration": 538,
    "start_time": "2024-12-05T14:10:29.096Z"
   },
   {
    "duration": 10,
    "start_time": "2024-12-05T14:10:36.880Z"
   },
   {
    "duration": 557,
    "start_time": "2024-12-05T14:10:38.929Z"
   },
   {
    "duration": 562,
    "start_time": "2024-12-05T14:10:51.744Z"
   },
   {
    "duration": 9,
    "start_time": "2024-12-05T14:23:41.124Z"
   },
   {
    "duration": 508,
    "start_time": "2024-12-05T14:23:43.235Z"
   },
   {
    "duration": 501,
    "start_time": "2024-12-05T14:23:49.025Z"
   },
   {
    "duration": 35,
    "start_time": "2024-12-06T07:31:00.304Z"
   },
   {
    "duration": 1170,
    "start_time": "2024-12-06T08:16:19.864Z"
   },
   {
    "duration": 3,
    "start_time": "2024-12-06T08:16:21.036Z"
   },
   {
    "duration": 117,
    "start_time": "2024-12-06T08:16:21.040Z"
   },
   {
    "duration": 29,
    "start_time": "2024-12-06T08:16:21.159Z"
   },
   {
    "duration": 25,
    "start_time": "2024-12-06T08:16:21.190Z"
   },
   {
    "duration": 4,
    "start_time": "2024-12-06T08:16:21.216Z"
   },
   {
    "duration": 35,
    "start_time": "2024-12-06T08:16:21.222Z"
   },
   {
    "duration": 3,
    "start_time": "2024-12-06T08:16:21.263Z"
   },
   {
    "duration": 11,
    "start_time": "2024-12-06T08:16:21.268Z"
   },
   {
    "duration": 27,
    "start_time": "2024-12-06T08:16:21.281Z"
   },
   {
    "duration": 34,
    "start_time": "2024-12-06T08:16:21.309Z"
   },
   {
    "duration": 24,
    "start_time": "2024-12-06T08:16:21.345Z"
   },
   {
    "duration": 27,
    "start_time": "2024-12-06T08:16:21.371Z"
   },
   {
    "duration": 117,
    "start_time": "2024-12-06T08:16:21.399Z"
   },
   {
    "duration": 13,
    "start_time": "2024-12-06T08:16:21.518Z"
   },
   {
    "duration": 32,
    "start_time": "2024-12-06T08:16:21.533Z"
   },
   {
    "duration": 637,
    "start_time": "2024-12-06T08:16:21.567Z"
   },
   {
    "duration": 563,
    "start_time": "2024-12-06T08:16:22.206Z"
   },
   {
    "duration": 642,
    "start_time": "2024-12-06T08:16:22.771Z"
   },
   {
    "duration": 280,
    "start_time": "2024-12-06T08:16:23.414Z"
   },
   {
    "duration": 357,
    "start_time": "2024-12-06T08:16:23.696Z"
   },
   {
    "duration": 202,
    "start_time": "2024-12-06T08:16:24.062Z"
   },
   {
    "duration": 5,
    "start_time": "2024-12-06T08:16:24.266Z"
   },
   {
    "duration": 4,
    "start_time": "2024-12-06T08:16:24.272Z"
   },
   {
    "duration": 186,
    "start_time": "2024-12-06T08:16:24.278Z"
   },
   {
    "duration": 6,
    "start_time": "2024-12-06T08:16:24.466Z"
   },
   {
    "duration": 11,
    "start_time": "2024-12-06T08:16:24.473Z"
   },
   {
    "duration": 5,
    "start_time": "2024-12-06T08:16:24.488Z"
   },
   {
    "duration": 5,
    "start_time": "2024-12-06T08:16:24.494Z"
   },
   {
    "duration": 65,
    "start_time": "2024-12-06T08:16:24.501Z"
   },
   {
    "duration": 17,
    "start_time": "2024-12-06T08:16:24.570Z"
   },
   {
    "duration": 19,
    "start_time": "2024-12-06T08:16:24.590Z"
   },
   {
    "duration": 73,
    "start_time": "2024-12-06T08:16:24.611Z"
   },
   {
    "duration": 14,
    "start_time": "2024-12-06T08:16:24.685Z"
   },
   {
    "duration": 1160,
    "start_time": "2024-12-06T08:29:58.038Z"
   },
   {
    "duration": 2,
    "start_time": "2024-12-06T08:29:59.200Z"
   },
   {
    "duration": 142,
    "start_time": "2024-12-06T08:29:59.203Z"
   },
   {
    "duration": 25,
    "start_time": "2024-12-06T08:29:59.347Z"
   },
   {
    "duration": 26,
    "start_time": "2024-12-06T08:29:59.373Z"
   },
   {
    "duration": 3,
    "start_time": "2024-12-06T08:29:59.401Z"
   },
   {
    "duration": 16,
    "start_time": "2024-12-06T08:29:59.406Z"
   },
   {
    "duration": 26,
    "start_time": "2024-12-06T08:29:59.423Z"
   },
   {
    "duration": 9,
    "start_time": "2024-12-06T08:29:59.451Z"
   },
   {
    "duration": 38,
    "start_time": "2024-12-06T08:29:59.463Z"
   },
   {
    "duration": 14,
    "start_time": "2024-12-06T08:29:59.502Z"
   },
   {
    "duration": 12,
    "start_time": "2024-12-06T08:29:59.518Z"
   },
   {
    "duration": 16,
    "start_time": "2024-12-06T08:29:59.531Z"
   },
   {
    "duration": 117,
    "start_time": "2024-12-06T08:29:59.548Z"
   },
   {
    "duration": 12,
    "start_time": "2024-12-06T08:29:59.667Z"
   },
   {
    "duration": 67,
    "start_time": "2024-12-06T08:29:59.680Z"
   },
   {
    "duration": 585,
    "start_time": "2024-12-06T08:29:59.748Z"
   },
   {
    "duration": 490,
    "start_time": "2024-12-06T08:30:00.335Z"
   },
   {
    "duration": 620,
    "start_time": "2024-12-06T08:30:00.827Z"
   },
   {
    "duration": 247,
    "start_time": "2024-12-06T08:30:01.449Z"
   },
   {
    "duration": 369,
    "start_time": "2024-12-06T08:30:01.698Z"
   },
   {
    "duration": 186,
    "start_time": "2024-12-06T08:30:02.069Z"
   },
   {
    "duration": 5,
    "start_time": "2024-12-06T08:30:02.257Z"
   },
   {
    "duration": 13,
    "start_time": "2024-12-06T08:30:02.263Z"
   },
   {
    "duration": 181,
    "start_time": "2024-12-06T08:30:02.278Z"
   },
   {
    "duration": 5,
    "start_time": "2024-12-06T08:30:02.461Z"
   },
   {
    "duration": 186,
    "start_time": "2024-12-06T08:30:02.468Z"
   },
   {
    "duration": 17,
    "start_time": "2024-12-06T08:30:02.657Z"
   },
   {
    "duration": 14,
    "start_time": "2024-12-06T08:30:02.676Z"
   },
   {
    "duration": 88,
    "start_time": "2024-12-06T08:30:02.692Z"
   },
   {
    "duration": 52,
    "start_time": "2024-12-06T08:30:02.782Z"
   },
   {
    "duration": 23,
    "start_time": "2024-12-06T08:30:02.836Z"
   },
   {
    "duration": 73,
    "start_time": "2024-12-06T08:30:02.861Z"
   },
   {
    "duration": 13,
    "start_time": "2024-12-06T08:30:02.936Z"
   },
   {
    "duration": 1113,
    "start_time": "2024-12-06T08:30:23.371Z"
   },
   {
    "duration": 2,
    "start_time": "2024-12-06T08:30:24.486Z"
   },
   {
    "duration": 121,
    "start_time": "2024-12-06T08:30:24.490Z"
   },
   {
    "duration": 28,
    "start_time": "2024-12-06T08:30:24.613Z"
   },
   {
    "duration": 22,
    "start_time": "2024-12-06T08:30:24.643Z"
   },
   {
    "duration": 4,
    "start_time": "2024-12-06T08:30:24.667Z"
   },
   {
    "duration": 8,
    "start_time": "2024-12-06T08:30:24.673Z"
   },
   {
    "duration": 14,
    "start_time": "2024-12-06T08:30:24.682Z"
   },
   {
    "duration": 26,
    "start_time": "2024-12-06T08:30:24.698Z"
   },
   {
    "duration": 23,
    "start_time": "2024-12-06T08:30:24.726Z"
   },
   {
    "duration": 16,
    "start_time": "2024-12-06T08:30:24.750Z"
   },
   {
    "duration": 14,
    "start_time": "2024-12-06T08:30:24.768Z"
   },
   {
    "duration": 45,
    "start_time": "2024-12-06T08:30:24.784Z"
   },
   {
    "duration": 124,
    "start_time": "2024-12-06T08:30:24.832Z"
   },
   {
    "duration": 14,
    "start_time": "2024-12-06T08:30:24.958Z"
   },
   {
    "duration": 10,
    "start_time": "2024-12-06T08:30:24.974Z"
   },
   {
    "duration": 1181,
    "start_time": "2024-12-06T08:30:24.985Z"
   },
   {
    "duration": 705,
    "start_time": "2024-12-06T08:30:26.167Z"
   },
   {
    "duration": 600,
    "start_time": "2024-12-06T08:30:26.874Z"
   },
   {
    "duration": 266,
    "start_time": "2024-12-06T08:30:27.475Z"
   },
   {
    "duration": 322,
    "start_time": "2024-12-06T08:30:27.742Z"
   },
   {
    "duration": 183,
    "start_time": "2024-12-06T08:30:28.065Z"
   },
   {
    "duration": 5,
    "start_time": "2024-12-06T08:30:28.249Z"
   },
   {
    "duration": 8,
    "start_time": "2024-12-06T08:30:28.256Z"
   },
   {
    "duration": 185,
    "start_time": "2024-12-06T08:30:28.265Z"
   },
   {
    "duration": 5,
    "start_time": "2024-12-06T08:30:28.452Z"
   },
   {
    "duration": 28,
    "start_time": "2024-12-06T08:30:28.458Z"
   },
   {
    "duration": 25,
    "start_time": "2024-12-06T08:30:28.487Z"
   },
   {
    "duration": 21,
    "start_time": "2024-12-06T08:30:28.514Z"
   },
   {
    "duration": 99,
    "start_time": "2024-12-06T08:30:28.537Z"
   },
   {
    "duration": 9,
    "start_time": "2024-12-06T08:30:28.638Z"
   },
   {
    "duration": 28,
    "start_time": "2024-12-06T08:30:28.648Z"
   },
   {
    "duration": 44,
    "start_time": "2024-12-06T08:30:28.677Z"
   },
   {
    "duration": 15,
    "start_time": "2024-12-06T08:30:28.722Z"
   },
   {
    "duration": 52,
    "start_time": "2024-12-06T13:08:25.869Z"
   },
   {
    "duration": 1340,
    "start_time": "2024-12-06T13:08:29.708Z"
   },
   {
    "duration": 1130,
    "start_time": "2024-12-06T13:08:36.300Z"
   },
   {
    "duration": 4,
    "start_time": "2024-12-06T13:08:40.993Z"
   },
   {
    "duration": 18,
    "start_time": "2024-12-06T13:08:40.999Z"
   },
   {
    "duration": 226,
    "start_time": "2024-12-06T13:08:41.019Z"
   },
   {
    "duration": 23,
    "start_time": "2024-12-06T13:08:41.247Z"
   },
   {
    "duration": 84,
    "start_time": "2024-12-06T13:08:41.271Z"
   },
   {
    "duration": 18,
    "start_time": "2024-12-06T13:08:41.357Z"
   },
   {
    "duration": 13,
    "start_time": "2024-12-06T13:08:41.376Z"
   },
   {
    "duration": 5,
    "start_time": "2024-12-06T13:08:41.391Z"
   },
   {
    "duration": 9,
    "start_time": "2024-12-06T13:08:41.398Z"
   },
   {
    "duration": 39,
    "start_time": "2024-12-06T13:08:41.411Z"
   },
   {
    "duration": 15,
    "start_time": "2024-12-06T13:08:41.452Z"
   },
   {
    "duration": 14,
    "start_time": "2024-12-06T13:08:41.469Z"
   },
   {
    "duration": 17,
    "start_time": "2024-12-06T13:08:41.485Z"
   },
   {
    "duration": 136,
    "start_time": "2024-12-06T13:08:41.504Z"
   },
   {
    "duration": 19,
    "start_time": "2024-12-06T13:08:41.642Z"
   },
   {
    "duration": 14,
    "start_time": "2024-12-06T13:08:41.662Z"
   },
   {
    "duration": 695,
    "start_time": "2024-12-06T13:08:41.678Z"
   },
   {
    "duration": 555,
    "start_time": "2024-12-06T13:08:42.374Z"
   },
   {
    "duration": 653,
    "start_time": "2024-12-06T13:08:42.931Z"
   },
   {
    "duration": 270,
    "start_time": "2024-12-06T13:08:43.586Z"
   },
   {
    "duration": 347,
    "start_time": "2024-12-06T13:08:43.858Z"
   },
   {
    "duration": 193,
    "start_time": "2024-12-06T13:08:44.207Z"
   },
   {
    "duration": 5,
    "start_time": "2024-12-06T13:08:44.402Z"
   },
   {
    "duration": 5,
    "start_time": "2024-12-06T13:08:44.409Z"
   },
   {
    "duration": 226,
    "start_time": "2024-12-06T13:08:44.416Z"
   },
   {
    "duration": 10,
    "start_time": "2024-12-06T13:08:44.643Z"
   },
   {
    "duration": 9,
    "start_time": "2024-12-06T13:08:44.655Z"
   },
   {
    "duration": 10,
    "start_time": "2024-12-06T13:08:44.668Z"
   },
   {
    "duration": 30,
    "start_time": "2024-12-06T13:08:44.680Z"
   },
   {
    "duration": 49,
    "start_time": "2024-12-06T13:08:44.711Z"
   },
   {
    "duration": 10,
    "start_time": "2024-12-06T13:08:44.762Z"
   },
   {
    "duration": 15,
    "start_time": "2024-12-06T13:08:44.773Z"
   },
   {
    "duration": 82,
    "start_time": "2024-12-06T13:08:44.790Z"
   },
   {
    "duration": 17,
    "start_time": "2024-12-06T13:08:44.875Z"
   },
   {
    "duration": 4,
    "start_time": "2024-12-06T13:09:30.044Z"
   },
   {
    "duration": 22,
    "start_time": "2024-12-06T13:09:33.034Z"
   },
   {
    "duration": 8,
    "start_time": "2024-12-06T13:11:42.916Z"
   },
   {
    "duration": 60,
    "start_time": "2024-12-06T14:04:26.147Z"
   },
   {
    "duration": 56,
    "start_time": "2024-12-06T14:04:47.108Z"
   },
   {
    "duration": 70,
    "start_time": "2024-12-06T14:06:25.636Z"
   },
   {
    "duration": 87,
    "start_time": "2024-12-06T14:06:34.670Z"
   },
   {
    "duration": 106,
    "start_time": "2024-12-06T14:06:43.716Z"
   },
   {
    "duration": 81,
    "start_time": "2024-12-06T14:07:01.766Z"
   },
   {
    "duration": 97,
    "start_time": "2024-12-06T14:07:35.509Z"
   },
   {
    "duration": 89,
    "start_time": "2024-12-06T14:07:39.261Z"
   },
   {
    "duration": 82,
    "start_time": "2024-12-06T14:07:44.317Z"
   },
   {
    "duration": 53,
    "start_time": "2024-12-06T14:07:54.133Z"
   },
   {
    "duration": 54,
    "start_time": "2024-12-06T14:08:03.761Z"
   },
   {
    "duration": 53,
    "start_time": "2024-12-06T14:08:34.887Z"
   },
   {
    "duration": 54,
    "start_time": "2024-12-06T14:08:50.942Z"
   },
   {
    "duration": 107,
    "start_time": "2024-12-06T14:09:51.824Z"
   },
   {
    "duration": 93,
    "start_time": "2024-12-06T14:10:09.407Z"
   },
   {
    "duration": 77,
    "start_time": "2024-12-06T14:10:31.008Z"
   },
   {
    "duration": 115,
    "start_time": "2024-12-06T14:10:50.663Z"
   },
   {
    "duration": 16,
    "start_time": "2024-12-06T14:12:18.464Z"
   },
   {
    "duration": 14,
    "start_time": "2024-12-06T14:12:23.512Z"
   },
   {
    "duration": 54,
    "start_time": "2024-12-06T14:14:01.770Z"
   },
   {
    "duration": 56,
    "start_time": "2024-12-06T14:14:14.717Z"
   },
   {
    "duration": 17,
    "start_time": "2024-12-06T14:14:30.234Z"
   },
   {
    "duration": 89,
    "start_time": "2024-12-06T14:15:46.253Z"
   },
   {
    "duration": 68,
    "start_time": "2024-12-06T14:15:51.555Z"
   },
   {
    "duration": 76,
    "start_time": "2024-12-06T14:16:04.587Z"
   },
   {
    "duration": 60,
    "start_time": "2024-12-06T14:16:37.571Z"
   },
   {
    "duration": 70,
    "start_time": "2024-12-06T14:17:09.556Z"
   },
   {
    "duration": 44,
    "start_time": "2024-12-06T14:18:04.069Z"
   },
   {
    "duration": 13,
    "start_time": "2024-12-06T14:19:00.237Z"
   },
   {
    "duration": 19,
    "start_time": "2024-12-06T14:20:13.711Z"
   },
   {
    "duration": 3,
    "start_time": "2024-12-07T09:50:19.575Z"
   },
   {
    "duration": 25,
    "start_time": "2024-12-07T09:50:19.584Z"
   },
   {
    "duration": 76,
    "start_time": "2024-12-07T09:50:19.611Z"
   },
   {
    "duration": 19,
    "start_time": "2024-12-07T09:50:19.688Z"
   },
   {
    "duration": 67,
    "start_time": "2024-12-07T09:50:19.709Z"
   },
   {
    "duration": 5,
    "start_time": "2024-12-07T09:50:19.778Z"
   },
   {
    "duration": 8,
    "start_time": "2024-12-07T09:50:19.785Z"
   },
   {
    "duration": 4,
    "start_time": "2024-12-07T09:50:19.795Z"
   },
   {
    "duration": 10,
    "start_time": "2024-12-07T09:50:19.801Z"
   },
   {
    "duration": 58,
    "start_time": "2024-12-07T09:50:19.813Z"
   },
   {
    "duration": 14,
    "start_time": "2024-12-07T09:50:19.874Z"
   },
   {
    "duration": 17,
    "start_time": "2024-12-07T09:50:19.890Z"
   },
   {
    "duration": 49,
    "start_time": "2024-12-07T09:50:19.909Z"
   },
   {
    "duration": 23,
    "start_time": "2024-12-07T09:50:19.960Z"
   },
   {
    "duration": 17,
    "start_time": "2024-12-07T09:50:19.985Z"
   },
   {
    "duration": 54,
    "start_time": "2024-12-07T09:50:20.004Z"
   },
   {
    "duration": 553,
    "start_time": "2024-12-07T09:50:20.061Z"
   },
   {
    "duration": 557,
    "start_time": "2024-12-07T09:50:20.616Z"
   },
   {
    "duration": 630,
    "start_time": "2024-12-07T09:50:21.175Z"
   },
   {
    "duration": 278,
    "start_time": "2024-12-07T09:50:21.807Z"
   },
   {
    "duration": 322,
    "start_time": "2024-12-07T09:50:22.087Z"
   },
   {
    "duration": 197,
    "start_time": "2024-12-07T09:50:22.411Z"
   },
   {
    "duration": 6,
    "start_time": "2024-12-07T09:50:22.610Z"
   },
   {
    "duration": 4,
    "start_time": "2024-12-07T09:50:22.617Z"
   },
   {
    "duration": 208,
    "start_time": "2024-12-07T09:50:22.623Z"
   },
   {
    "duration": 17,
    "start_time": "2024-12-07T09:50:22.833Z"
   },
   {
    "duration": 2,
    "start_time": "2024-12-07T09:50:22.852Z"
   },
   {
    "duration": 7,
    "start_time": "2024-12-07T09:50:22.856Z"
   },
   {
    "duration": 10,
    "start_time": "2024-12-07T09:50:22.866Z"
   },
   {
    "duration": 80,
    "start_time": "2024-12-07T09:50:22.877Z"
   },
   {
    "duration": 11,
    "start_time": "2024-12-07T09:50:22.959Z"
   },
   {
    "duration": 13,
    "start_time": "2024-12-07T09:50:22.972Z"
   },
   {
    "duration": 105,
    "start_time": "2024-12-07T09:50:22.988Z"
   },
   {
    "duration": 16,
    "start_time": "2024-12-07T09:50:23.095Z"
   },
   {
    "duration": 11,
    "start_time": "2024-12-07T09:52:03.166Z"
   },
   {
    "duration": 43,
    "start_time": "2024-12-07T09:55:07.965Z"
   },
   {
    "duration": 13,
    "start_time": "2024-12-07T09:59:52.159Z"
   },
   {
    "duration": 11,
    "start_time": "2024-12-07T10:01:59.668Z"
   },
   {
    "duration": 10,
    "start_time": "2024-12-07T10:02:03.380Z"
   },
   {
    "duration": 11,
    "start_time": "2024-12-07T10:02:05.331Z"
   },
   {
    "duration": 8,
    "start_time": "2024-12-07T10:02:44.103Z"
   },
   {
    "duration": 7,
    "start_time": "2024-12-07T10:02:55.101Z"
   },
   {
    "duration": 11,
    "start_time": "2024-12-07T10:03:01.634Z"
   },
   {
    "duration": 11,
    "start_time": "2024-12-07T10:03:15.223Z"
   },
   {
    "duration": 10,
    "start_time": "2024-12-07T10:06:18.994Z"
   },
   {
    "duration": 10,
    "start_time": "2024-12-07T10:06:27.306Z"
   },
   {
    "duration": 26,
    "start_time": "2024-12-07T10:09:55.497Z"
   },
   {
    "duration": 373,
    "start_time": "2024-12-07T10:14:18.685Z"
   },
   {
    "duration": 343,
    "start_time": "2024-12-07T10:14:36.445Z"
   },
   {
    "duration": 343,
    "start_time": "2024-12-07T10:14:57.330Z"
   },
   {
    "duration": 369,
    "start_time": "2024-12-07T10:16:25.462Z"
   },
   {
    "duration": 378,
    "start_time": "2024-12-07T10:16:50.918Z"
   },
   {
    "duration": 586,
    "start_time": "2024-12-07T10:17:01.637Z"
   },
   {
    "duration": 73,
    "start_time": "2024-12-07T10:17:39.670Z"
   },
   {
    "duration": 3,
    "start_time": "2024-12-07T10:17:44.774Z"
   },
   {
    "duration": 16,
    "start_time": "2024-12-07T10:17:49.814Z"
   },
   {
    "duration": 18,
    "start_time": "2024-12-07T10:17:54.790Z"
   },
   {
    "duration": 390,
    "start_time": "2024-12-07T10:18:06.928Z"
   },
   {
    "duration": 414,
    "start_time": "2024-12-07T10:18:24.032Z"
   },
   {
    "duration": 367,
    "start_time": "2024-12-07T10:18:34.679Z"
   },
   {
    "duration": 328,
    "start_time": "2024-12-07T10:18:38.838Z"
   },
   {
    "duration": 7,
    "start_time": "2024-12-07T10:18:49.683Z"
   },
   {
    "duration": 331,
    "start_time": "2024-12-07T10:18:59.026Z"
   },
   {
    "duration": 577,
    "start_time": "2024-12-07T10:19:26.800Z"
   },
   {
    "duration": 6,
    "start_time": "2024-12-07T10:19:39.040Z"
   },
   {
    "duration": 7,
    "start_time": "2024-12-07T10:19:47.919Z"
   },
   {
    "duration": 6,
    "start_time": "2024-12-07T10:19:53.952Z"
   },
   {
    "duration": 7,
    "start_time": "2024-12-07T10:20:40.804Z"
   },
   {
    "duration": 85,
    "start_time": "2024-12-07T10:21:28.711Z"
   },
   {
    "duration": 7,
    "start_time": "2024-12-07T10:21:47.579Z"
   },
   {
    "duration": 6,
    "start_time": "2024-12-07T10:22:02.384Z"
   },
   {
    "duration": 18,
    "start_time": "2024-12-07T10:22:46.019Z"
   },
   {
    "duration": 78,
    "start_time": "2024-12-07T10:23:42.108Z"
   },
   {
    "duration": 117,
    "start_time": "2024-12-07T10:24:08.814Z"
   },
   {
    "duration": 103,
    "start_time": "2024-12-07T10:24:24.811Z"
   },
   {
    "duration": 29,
    "start_time": "2024-12-07T10:24:38.952Z"
   },
   {
    "duration": 17,
    "start_time": "2024-12-07T10:24:50.927Z"
   },
   {
    "duration": 17,
    "start_time": "2024-12-07T10:25:14.635Z"
   },
   {
    "duration": 15,
    "start_time": "2024-12-07T10:25:50.211Z"
   },
   {
    "duration": 18,
    "start_time": "2024-12-07T10:25:59.160Z"
   },
   {
    "duration": 18,
    "start_time": "2024-12-07T10:26:15.451Z"
   },
   {
    "duration": 27,
    "start_time": "2024-12-07T10:26:29.821Z"
   },
   {
    "duration": 1184,
    "start_time": "2024-12-07T10:26:53.251Z"
   },
   {
    "duration": 3,
    "start_time": "2024-12-07T10:26:54.438Z"
   },
   {
    "duration": 88,
    "start_time": "2024-12-07T10:26:54.450Z"
   },
   {
    "duration": 32,
    "start_time": "2024-12-07T10:26:54.540Z"
   },
   {
    "duration": 34,
    "start_time": "2024-12-07T10:26:54.574Z"
   },
   {
    "duration": 5,
    "start_time": "2024-12-07T10:26:54.610Z"
   },
   {
    "duration": 37,
    "start_time": "2024-12-07T10:26:54.617Z"
   },
   {
    "duration": 11,
    "start_time": "2024-12-07T10:26:54.656Z"
   },
   {
    "duration": 15,
    "start_time": "2024-12-07T10:26:54.669Z"
   },
   {
    "duration": 25,
    "start_time": "2024-12-07T10:26:54.687Z"
   },
   {
    "duration": 44,
    "start_time": "2024-12-07T10:26:54.714Z"
   },
   {
    "duration": 14,
    "start_time": "2024-12-07T10:26:54.759Z"
   },
   {
    "duration": 80,
    "start_time": "2024-12-07T10:26:54.775Z"
   },
   {
    "duration": 10,
    "start_time": "2024-12-07T10:26:54.857Z"
   },
   {
    "duration": 147,
    "start_time": "2024-12-07T10:26:54.869Z"
   },
   {
    "duration": 17,
    "start_time": "2024-12-07T10:26:55.018Z"
   },
   {
    "duration": 9,
    "start_time": "2024-12-07T10:26:55.049Z"
   },
   {
    "duration": 629,
    "start_time": "2024-12-07T10:26:55.060Z"
   },
   {
    "duration": 573,
    "start_time": "2024-12-07T10:26:55.691Z"
   },
   {
    "duration": 632,
    "start_time": "2024-12-07T10:26:56.265Z"
   },
   {
    "duration": 265,
    "start_time": "2024-12-07T10:26:56.898Z"
   },
   {
    "duration": 350,
    "start_time": "2024-12-07T10:26:57.165Z"
   },
   {
    "duration": 183,
    "start_time": "2024-12-07T10:26:57.516Z"
   },
   {
    "duration": 5,
    "start_time": "2024-12-07T10:26:57.701Z"
   },
   {
    "duration": 4,
    "start_time": "2024-12-07T10:26:57.708Z"
   },
   {
    "duration": 196,
    "start_time": "2024-12-07T10:26:57.713Z"
   },
   {
    "duration": 7,
    "start_time": "2024-12-07T10:26:57.910Z"
   },
   {
    "duration": 39,
    "start_time": "2024-12-07T10:26:57.920Z"
   },
   {
    "duration": 6,
    "start_time": "2024-12-07T10:26:57.961Z"
   },
   {
    "duration": 8,
    "start_time": "2024-12-07T10:26:57.969Z"
   },
   {
    "duration": 42,
    "start_time": "2024-12-07T10:26:57.979Z"
   },
   {
    "duration": 29,
    "start_time": "2024-12-07T10:26:58.024Z"
   },
   {
    "duration": 16,
    "start_time": "2024-12-07T10:26:58.055Z"
   },
   {
    "duration": 149,
    "start_time": "2024-12-07T10:26:58.073Z"
   },
   {
    "duration": 28,
    "start_time": "2024-12-07T10:26:58.224Z"
   },
   {
    "duration": 25,
    "start_time": "2024-12-07T10:30:59.115Z"
   },
   {
    "duration": 20,
    "start_time": "2024-12-07T10:31:39.829Z"
   },
   {
    "duration": 18,
    "start_time": "2024-12-07T10:31:47.295Z"
   },
   {
    "duration": 19,
    "start_time": "2024-12-07T10:32:19.763Z"
   },
   {
    "duration": 19,
    "start_time": "2024-12-07T10:32:31.731Z"
   },
   {
    "duration": 19,
    "start_time": "2024-12-07T10:32:32.487Z"
   },
   {
    "duration": 21,
    "start_time": "2024-12-07T10:32:32.971Z"
   },
   {
    "duration": 26,
    "start_time": "2024-12-07T10:32:33.371Z"
   },
   {
    "duration": 26,
    "start_time": "2024-12-07T10:32:33.700Z"
   },
   {
    "duration": 25,
    "start_time": "2024-12-07T10:32:33.980Z"
   },
   {
    "duration": 25,
    "start_time": "2024-12-07T10:32:34.231Z"
   },
   {
    "duration": 24,
    "start_time": "2024-12-07T10:32:34.508Z"
   },
   {
    "duration": 20,
    "start_time": "2024-12-07T10:32:34.742Z"
   },
   {
    "duration": 19,
    "start_time": "2024-12-07T10:32:34.986Z"
   },
   {
    "duration": 21,
    "start_time": "2024-12-07T10:32:35.282Z"
   },
   {
    "duration": 20,
    "start_time": "2024-12-07T10:32:35.815Z"
   },
   {
    "duration": 1212,
    "start_time": "2024-12-07T10:53:15.624Z"
   },
   {
    "duration": 3,
    "start_time": "2024-12-07T10:53:16.838Z"
   },
   {
    "duration": 81,
    "start_time": "2024-12-07T10:53:16.850Z"
   },
   {
    "duration": 35,
    "start_time": "2024-12-07T10:53:16.933Z"
   },
   {
    "duration": 27,
    "start_time": "2024-12-07T10:53:16.970Z"
   },
   {
    "duration": 92,
    "start_time": "2024-12-07T10:53:16.999Z"
   },
   {
    "duration": 19,
    "start_time": "2024-12-07T10:53:17.093Z"
   },
   {
    "duration": 3,
    "start_time": "2024-12-07T10:53:17.114Z"
   },
   {
    "duration": 14,
    "start_time": "2024-12-07T10:53:17.119Z"
   },
   {
    "duration": 50,
    "start_time": "2024-12-07T10:53:17.134Z"
   },
   {
    "duration": 39,
    "start_time": "2024-12-07T10:53:17.187Z"
   },
   {
    "duration": 16,
    "start_time": "2024-12-07T10:53:17.227Z"
   },
   {
    "duration": 70,
    "start_time": "2024-12-07T10:53:17.245Z"
   },
   {
    "duration": 103,
    "start_time": "2024-12-07T10:53:17.318Z"
   },
   {
    "duration": 135,
    "start_time": "2024-12-07T10:53:17.423Z"
   },
   {
    "duration": 15,
    "start_time": "2024-12-07T10:53:17.565Z"
   },
   {
    "duration": 20,
    "start_time": "2024-12-07T10:53:17.583Z"
   },
   {
    "duration": 660,
    "start_time": "2024-12-07T10:53:17.605Z"
   },
   {
    "duration": 581,
    "start_time": "2024-12-07T10:53:18.267Z"
   },
   {
    "duration": 660,
    "start_time": "2024-12-07T10:53:18.850Z"
   },
   {
    "duration": 283,
    "start_time": "2024-12-07T10:53:19.512Z"
   },
   {
    "duration": 425,
    "start_time": "2024-12-07T10:53:19.797Z"
   },
   {
    "duration": 216,
    "start_time": "2024-12-07T10:53:20.224Z"
   },
   {
    "duration": 7,
    "start_time": "2024-12-07T10:53:20.459Z"
   },
   {
    "duration": 9,
    "start_time": "2024-12-07T10:53:20.468Z"
   },
   {
    "duration": 208,
    "start_time": "2024-12-07T10:53:20.479Z"
   },
   {
    "duration": 8,
    "start_time": "2024-12-07T10:53:20.689Z"
   },
   {
    "duration": 30,
    "start_time": "2024-12-07T10:53:20.699Z"
   },
   {
    "duration": 38,
    "start_time": "2024-12-07T10:53:20.730Z"
   },
   {
    "duration": 9,
    "start_time": "2024-12-07T10:53:20.770Z"
   },
   {
    "duration": 54,
    "start_time": "2024-12-07T10:53:20.781Z"
   },
   {
    "duration": 17,
    "start_time": "2024-12-07T10:53:20.837Z"
   },
   {
    "duration": 109,
    "start_time": "2024-12-07T10:53:20.856Z"
   },
   {
    "duration": 46,
    "start_time": "2024-12-07T10:53:20.968Z"
   },
   {
    "duration": 15,
    "start_time": "2024-12-07T10:53:21.016Z"
   },
   {
    "duration": 1397,
    "start_time": "2024-12-07T12:47:27.650Z"
   },
   {
    "duration": 4,
    "start_time": "2024-12-07T12:47:29.051Z"
   },
   {
    "duration": 237,
    "start_time": "2024-12-07T12:47:29.056Z"
   },
   {
    "duration": 21,
    "start_time": "2024-12-07T12:47:29.295Z"
   },
   {
    "duration": 25,
    "start_time": "2024-12-07T12:47:29.318Z"
   },
   {
    "duration": 7,
    "start_time": "2024-12-07T12:47:29.344Z"
   },
   {
    "duration": 7,
    "start_time": "2024-12-07T12:47:29.352Z"
   },
   {
    "duration": 11,
    "start_time": "2024-12-07T12:47:29.361Z"
   },
   {
    "duration": 7,
    "start_time": "2024-12-07T12:47:29.374Z"
   },
   {
    "duration": 31,
    "start_time": "2024-12-07T12:47:29.384Z"
   },
   {
    "duration": 15,
    "start_time": "2024-12-07T12:47:29.417Z"
   },
   {
    "duration": 57,
    "start_time": "2024-12-07T12:47:29.434Z"
   },
   {
    "duration": 61,
    "start_time": "2024-12-07T12:47:29.492Z"
   },
   {
    "duration": 9,
    "start_time": "2024-12-07T12:47:29.555Z"
   },
   {
    "duration": 123,
    "start_time": "2024-12-07T12:47:29.566Z"
   },
   {
    "duration": 13,
    "start_time": "2024-12-07T12:47:29.691Z"
   },
   {
    "duration": 9,
    "start_time": "2024-12-07T12:47:29.706Z"
   },
   {
    "duration": 937,
    "start_time": "2024-12-07T12:47:29.717Z"
   },
   {
    "duration": 1033,
    "start_time": "2024-12-07T12:47:30.656Z"
   },
   {
    "duration": 651,
    "start_time": "2024-12-07T12:47:31.691Z"
   },
   {
    "duration": 266,
    "start_time": "2024-12-07T12:47:32.344Z"
   },
   {
    "duration": 376,
    "start_time": "2024-12-07T12:47:32.611Z"
   },
   {
    "duration": 195,
    "start_time": "2024-12-07T12:47:32.988Z"
   },
   {
    "duration": 5,
    "start_time": "2024-12-07T12:47:33.185Z"
   },
   {
    "duration": 33,
    "start_time": "2024-12-07T12:47:33.192Z"
   },
   {
    "duration": 185,
    "start_time": "2024-12-07T12:47:33.227Z"
   },
   {
    "duration": 6,
    "start_time": "2024-12-07T12:47:33.414Z"
   },
   {
    "duration": 83,
    "start_time": "2024-12-07T12:47:33.423Z"
   },
   {
    "duration": 25,
    "start_time": "2024-12-07T12:47:33.507Z"
   },
   {
    "duration": 28,
    "start_time": "2024-12-07T12:47:33.533Z"
   },
   {
    "duration": 49,
    "start_time": "2024-12-07T12:47:33.563Z"
   },
   {
    "duration": 46,
    "start_time": "2024-12-07T12:47:33.614Z"
   },
   {
    "duration": 12,
    "start_time": "2024-12-07T12:47:33.662Z"
   },
   {
    "duration": 137,
    "start_time": "2024-12-07T12:47:33.676Z"
   },
   {
    "duration": 14,
    "start_time": "2024-12-07T12:47:33.814Z"
   }
  ],
  "kernelspec": {
   "display_name": "Python 3 (ipykernel)",
   "language": "python",
   "name": "python3"
  },
  "language_info": {
   "codemirror_mode": {
    "name": "ipython",
    "version": 3
   },
   "file_extension": ".py",
   "mimetype": "text/x-python",
   "name": "python",
   "nbconvert_exporter": "python",
   "pygments_lexer": "ipython3",
   "version": "3.11.7"
  },
  "toc": {
   "base_numbering": 1,
   "nav_menu": {
    "height": "469px",
    "width": "430px"
   },
   "number_sections": true,
   "sideBar": true,
   "skip_h1_title": true,
   "title_cell": "Table of Contents",
   "title_sidebar": "Contents",
   "toc_cell": false,
   "toc_position": {
    "height": "calc(100% - 180px)",
    "left": "10px",
    "top": "150px",
    "width": "247.675003px"
   },
   "toc_section_display": true,
   "toc_window_display": true
  }
 },
 "nbformat": 4,
 "nbformat_minor": 4
}
