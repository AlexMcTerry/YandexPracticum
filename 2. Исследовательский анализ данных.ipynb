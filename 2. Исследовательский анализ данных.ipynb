{
 "cells": [
  {
   "cell_type": "markdown",
   "metadata": {
    "id": "-VFbjcb3Awb7"
   },
   "source": [
    "# Исследование объявлений о продаже квартир\n",
    "\n",
    "В вашем распоряжении данные сервиса Яндекс Недвижимость — архив объявлений о продаже квартир в Санкт-Петербурге и соседних населённых пунктах за несколько лет. Вам нужно научиться определять рыночную стоимость объектов недвижимости. Для этого проведите исследовательский анализ данных и установите параметры, влияющие на цену объектов. Это позволит построить автоматизированную систему: она отследит аномалии и мошенническую деятельность.\n",
    "\n",
    "По каждой квартире на продажу доступны два вида данных. Первые вписаны пользователем, вторые — получены автоматически на основе картографических данных. Например, расстояние до центра, аэропорта и других объектов — эти данные автоматически получены из геосервисов. Количество парков и водоёмов также заполняется без участия пользователя."
   ]
  },
  {
   "cell_type": "markdown",
   "metadata": {
    "id": "aeFLH07FAwb9"
   },
   "source": [
    "### Откройте файл с данными и изучите общую информацию"
   ]
  },
  {
   "cell_type": "code",
   "execution_count": 65,
   "metadata": {
    "id": "7MZxY65pAwb9"
   },
   "outputs": [],
   "source": [
    "import pandas as pd # импорт библиотеки pandas"
   ]
  },
  {
   "cell_type": "code",
   "execution_count": 70,
   "metadata": {},
   "outputs": [],
   "source": [
    "data = pd.read_csv('/datasets/real_estate_data.csv',sep='\\t') # считываем файл в data"
   ]
  },
  {
   "cell_type": "code",
   "execution_count": 3,
   "metadata": {},
   "outputs": [
    {
     "name": "stdout",
     "output_type": "stream",
     "text": [
      "<class 'pandas.core.frame.DataFrame'>\n",
      "RangeIndex: 23699 entries, 0 to 23698\n",
      "Data columns (total 22 columns):\n",
      " #   Column                Non-Null Count  Dtype  \n",
      "---  ------                --------------  -----  \n",
      " 0   total_images          23699 non-null  int64  \n",
      " 1   last_price            23699 non-null  float64\n",
      " 2   total_area            23699 non-null  float64\n",
      " 3   first_day_exposition  23699 non-null  object \n",
      " 4   rooms                 23699 non-null  int64  \n",
      " 5   ceiling_height        14504 non-null  float64\n",
      " 6   floors_total          23613 non-null  float64\n",
      " 7   living_area           21796 non-null  float64\n",
      " 8   floor                 23699 non-null  int64  \n",
      " 9   is_apartment          2775 non-null   object \n",
      " 10  studio                23699 non-null  bool   \n",
      " 11  open_plan             23699 non-null  bool   \n",
      " 12  kitchen_area          21421 non-null  float64\n",
      " 13  balcony               12180 non-null  float64\n",
      " 14  locality_name         23650 non-null  object \n",
      " 15  airports_nearest      18157 non-null  float64\n",
      " 16  cityCenters_nearest   18180 non-null  float64\n",
      " 17  parks_around3000      18181 non-null  float64\n",
      " 18  parks_nearest         8079 non-null   float64\n",
      " 19  ponds_around3000      18181 non-null  float64\n",
      " 20  ponds_nearest         9110 non-null   float64\n",
      " 21  days_exposition       20518 non-null  float64\n",
      "dtypes: bool(2), float64(14), int64(3), object(3)\n",
      "memory usage: 3.7+ MB\n",
      "total_images                0\n",
      "last_price                  0\n",
      "total_area                  0\n",
      "first_day_exposition        0\n",
      "rooms                       0\n",
      "ceiling_height           9195\n",
      "floors_total               86\n",
      "living_area              1903\n",
      "floor                       0\n",
      "is_apartment            20924\n",
      "studio                      0\n",
      "open_plan                   0\n",
      "kitchen_area             2278\n",
      "balcony                 11519\n",
      "locality_name              49\n",
      "airports_nearest         5542\n",
      "cityCenters_nearest      5519\n",
      "parks_around3000         5518\n",
      "parks_nearest           15620\n",
      "ponds_around3000         5518\n",
      "ponds_nearest           14589\n",
      "days_exposition          3181\n",
      "dtype: int64\n",
      "   total_images  last_price  total_area first_day_exposition  rooms  \\\n",
      "0            20  13000000.0       108.0  2019-03-07T00:00:00      3   \n",
      "1             7   3350000.0        40.4  2018-12-04T00:00:00      1   \n",
      "2            10   5196000.0        56.0  2015-08-20T00:00:00      2   \n",
      "3             0  64900000.0       159.0  2015-07-24T00:00:00      3   \n",
      "4             2  10000000.0       100.0  2018-06-19T00:00:00      2   \n",
      "\n",
      "   ceiling_height  floors_total  living_area  floor is_apartment  ...  \\\n",
      "0            2.70          16.0         51.0      8          NaN  ...   \n",
      "1             NaN          11.0         18.6      1          NaN  ...   \n",
      "2             NaN           5.0         34.3      4          NaN  ...   \n",
      "3             NaN          14.0          NaN      9          NaN  ...   \n",
      "4            3.03          14.0         32.0     13          NaN  ...   \n",
      "\n",
      "   kitchen_area  balcony    locality_name  airports_nearest  \\\n",
      "0          25.0      NaN  Санкт-Петербург           18863.0   \n",
      "1          11.0      2.0   посёлок Шушары           12817.0   \n",
      "2           8.3      0.0  Санкт-Петербург           21741.0   \n",
      "3           NaN      0.0  Санкт-Петербург           28098.0   \n",
      "4          41.0      NaN  Санкт-Петербург           31856.0   \n",
      "\n",
      "  cityCenters_nearest  parks_around3000  parks_nearest  ponds_around3000  \\\n",
      "0             16028.0               1.0          482.0               2.0   \n",
      "1             18603.0               0.0            NaN               0.0   \n",
      "2             13933.0               1.0           90.0               2.0   \n",
      "3              6800.0               2.0           84.0               3.0   \n",
      "4              8098.0               2.0          112.0               1.0   \n",
      "\n",
      "   ponds_nearest  days_exposition  \n",
      "0          755.0              NaN  \n",
      "1            NaN             81.0  \n",
      "2          574.0            558.0  \n",
      "3          234.0            424.0  \n",
      "4           48.0            121.0  \n",
      "\n",
      "[5 rows x 22 columns]\n"
     ]
    },
    {
     "data": {
      "text/plain": [
       "array([[<AxesSubplot:title={'center':'total_images'}>,\n",
       "        <AxesSubplot:title={'center':'last_price'}>,\n",
       "        <AxesSubplot:title={'center':'total_area'}>,\n",
       "        <AxesSubplot:title={'center':'rooms'}>],\n",
       "       [<AxesSubplot:title={'center':'ceiling_height'}>,\n",
       "        <AxesSubplot:title={'center':'floors_total'}>,\n",
       "        <AxesSubplot:title={'center':'living_area'}>,\n",
       "        <AxesSubplot:title={'center':'floor'}>],\n",
       "       [<AxesSubplot:title={'center':'kitchen_area'}>,\n",
       "        <AxesSubplot:title={'center':'balcony'}>,\n",
       "        <AxesSubplot:title={'center':'airports_nearest'}>,\n",
       "        <AxesSubplot:title={'center':'cityCenters_nearest'}>],\n",
       "       [<AxesSubplot:title={'center':'parks_around3000'}>,\n",
       "        <AxesSubplot:title={'center':'parks_nearest'}>,\n",
       "        <AxesSubplot:title={'center':'ponds_around3000'}>,\n",
       "        <AxesSubplot:title={'center':'ponds_nearest'}>],\n",
       "       [<AxesSubplot:title={'center':'days_exposition'}>, <AxesSubplot:>,\n",
       "        <AxesSubplot:>, <AxesSubplot:>]], dtype=object)"
      ]
     },
     "execution_count": 3,
     "metadata": {},
     "output_type": "execute_result"
    },
    {
     "data": {
      "image/png": "[encoded data removed]",
      "text/plain": [
       "<Figure size 1080x1440 with 20 Axes>"
      ]
     },
     "metadata": {
      "needs_background": "light"
     },
     "output_type": "display_data"
    }
   ],
   "source": [
    "data.info() # Общая информация о данных\n",
    "print(data.isna().sum()) # количество nan-данных\n",
    "print(data.head()) # вывод первых 5 строк\n",
    "data.hist(figsize=(15, 20)) # построение гистограмм по всем возможным данным"
   ]
  },
  {
   "cell_type": "markdown",
   "metadata": {
    "id": "-O5NtivEAwb9"
   },
   "source": [
    "### Выполните предобработку данных"
   ]
  },
  {
   "cell_type": "code",
   "execution_count": 5,
   "metadata": {},
   "outputs": [],
   "source": [
    "# приводим имена столбцов к одному формату\n",
    "data = data.rename(columns={'cityCenters_nearest':'city_center_nearest'})"
   ]
  },
  {
   "cell_type": "code",
   "execution_count": 6,
   "metadata": {
    "id": "7v3vAeTuAwb-"
   },
   "outputs": [],
   "source": [
    "data['balcony'] = data['balcony'].fillna(0).astype('int') # заполняем пропуски в балконах\n",
    "data['parks_around3000'] = data['parks_around3000'].fillna(0).astype('int') # парках в округе 3000 м\n",
    "data['ponds_around3000'] = data['ponds_around3000'].fillna(0).astype('int') # и прудах в округе 3000 м нулями\n",
    "\n",
    "data['airports_nearest'].fillna(0,inplace=True) # заполняем пропуски в наличии аэропорта\n",
    "\n",
    "data['floors_total'] = data['floors_total'].fillna(0).astype('int') # заполняем пропуски в общей этажности дома\n",
    "\n",
    "data['is_apartment'].unique() # проверка вариантов значений заполнения\n",
    "data['is_apartment'] = data['is_apartment'].fillna('False').astype('bool') # отсутствие заполнения = False\n",
    "\n",
    "\n",
    "data['parks_nearest'].fillna(3001,inplace=True) # заполняем расстояние до ближайшего парка\n",
    "data['ponds_nearest'].fillna(3001,inplace=True) # и пруда"
   ]
  },
  {
   "cell_type": "markdown",
   "metadata": {},
   "source": [
    "Пропуски в кол-ве балконов, прудов и парков в радиусе 3км подразумеваем отсутствием, т.е. = 0. Делаем столбец целочисленным,т.к. дробными эти числа быть не могут.\n",
    "\n",
    "То же самое делаем и для пропусков в растоянии до аэропорта. Тип данных оставляем как есть - вещественным.\n",
    "\n",
    "Строки с пропусками в количестве этажей обнуляем, чтобы в дальнейшем можно было такие объявления отсортировать.\n",
    "Тип данных - целочисленный, этаж дробный быть не может.\n",
    "\n",
    "Cтолбец is_apartment: да\\нет. Если не указано, берем \"нет\"(заполняем 'False'). Тип столбца - логический.\n",
    "\n",
    "Пропуски в расстояниях до парков и прудов были собраны автоматически по данным от заказчика и их отсутствие означает, что расстояние до ближайщего парка/пруда > 3000м. Поэтому заменяем на 3001. Чтобы на графике это выводилось отдельными показателями."
   ]
  },
  {
   "cell_type": "code",
   "execution_count": 7,
   "metadata": {},
   "outputs": [],
   "source": [
    "# форматируем столбец с датой размещения объявления\n",
    "data['first_day_exposition'] = pd.to_datetime(data['first_day_exposition'],format='%Y-%m-%dT%H:%M:%S')"
   ]
  },
  {
   "cell_type": "code",
   "execution_count": 8,
   "metadata": {},
   "outputs": [],
   "source": [
    "data['locality_name'] = data['locality_name'].fillna('Не указано')# заполняем пропущенные данные населенного пункта\n",
    "\n",
    "# избавляемся от неявных дубликатов в названиях населеных пунктов\n",
    "data['locality_name'] = (\n",
    "    data['locality_name']\n",
    "    .str.replace('ё', 'е')\n",
    "    .replace(['[а-я, ]*поселок[а-я, ]* ','деревня ','садов[а-я, ]*','село '], '', regex=True)\n",
    ")"
   ]
  },
  {
   "cell_type": "markdown",
   "metadata": {},
   "source": [
    "Если населенный пункт пропущен, то он \"Не указан\". Логично )"
   ]
  },
  {
   "cell_type": "code",
   "execution_count": 9,
   "metadata": {},
   "outputs": [],
   "source": [
    "# заполняем пропуски в living_area и kitchen_area медианными значениями для квартир\n",
    "# аналогичной комнатности\n",
    "\n",
    "# создаем сводную таблицу для мединанных значений 'living_area' и 'kitchen_area' с группировкой по количеству комнат\n",
    "pt = data.pivot_table(index='rooms',values=['living_area','kitchen_area'],aggfunc=['mean'])\n",
    "\n",
    "# функции заполнения пропущенных значений 'living_area' и 'kitchen_area'\n",
    "def living_area_fill(row):\n",
    "    if row['living_area']!=row['living_area']:\n",
    "        return pt.loc[row['rooms']]['mean']['living_area']\n",
    "    else:\n",
    "        return row['living_area']\n",
    "    \n",
    "def kitchen_area_fill(row):\n",
    "    if row['kitchen_area']!=row['kitchen_area']:\n",
    "        if row['rooms']>0:\n",
    "            return pt.loc[row['rooms']]['mean']['kitchen_area']\n",
    "        else:\n",
    "            return row['total_area']-row['living_area']\n",
    "    else:\n",
    "        return row['kitchen_area']\n",
    "    \n",
    "# заполняем пропущенные значения    \n",
    "data['living_area'] = data.apply(living_area_fill, axis=1)\n",
    "data['kitchen_area'] = data.apply(kitchen_area_fill, axis=1)"
   ]
  },
  {
   "cell_type": "markdown",
   "metadata": {},
   "source": [
    "да, функции повторяют друг друга. Не красиво. Как это оптимизировать - я не придумал."
   ]
  },
  {
   "cell_type": "code",
   "execution_count": 10,
   "metadata": {},
   "outputs": [],
   "source": [
    "# заполняем высоту потолков медианой\n",
    "data['ceiling_height'].fillna(data['ceiling_height'].mean(),inplace=True)\n",
    "\n",
    "# высоты потолков более 19 метров считаем ошибками ввода и делим их на 10\n",
    "data['ceiling_height'] = data['ceiling_height'].apply(lambda x: x/10 if x>19 else x)"
   ]
  },
  {
   "cell_type": "code",
   "execution_count": 11,
   "metadata": {},
   "outputs": [],
   "source": [
    "data['days_exposition'].fillna(-1, inplace=True) # заполняем пропуски в столбце days_exposition"
   ]
  },
  {
   "cell_type": "markdown",
   "metadata": {},
   "source": [
    "Предполагаем, что пропущенные значения в столбце days_exposition означают, что квартира на момент предоставления данных находится в продаже, поэтому заполним их -1"
   ]
  },
  {
   "cell_type": "code",
   "execution_count": 12,
   "metadata": {},
   "outputs": [
    {
     "name": "stdout",
     "output_type": "stream",
     "text": [
      "Количество явных дубликатов: 0.0\n"
     ]
    }
   ],
   "source": [
    "data['city_center_nearest'].fillna(0, inplace=True) # заполняем пропуски в city_center_nearest\n",
    "data['city_center_nearest'].astype('int') # меняем тип данных на int\n",
    "\n",
    "# создаем сводную таблицу по медианным расстояниям от центра города для всех упомянутых населенных пунктов\n",
    "pt = data.pivot_table(index='locality_name',values=['city_center_nearest'], aggfunc=['mean'])\n",
    "\n",
    "# функция меняет 0 в столбце city_center_nearest на медианное значение для данного населенного пункта. Иначе возвращает текущее.\n",
    "def try_to_fill_city_center_nearest(row):\n",
    "    if row['city_center_nearest']==0:\n",
    "        return pt.loc[row['locality_name']]['mean']['city_center_nearest']\n",
    "    else:\n",
    "        return row['city_center_nearest']\n",
    "\n",
    "# заполняем столбец функцией\n",
    "data['city_center_nearest'] = data.apply(try_to_fill_city_center_nearest, axis=1)\n",
    "\n",
    "print('Количество явных дубликатов:',data.duplicated().mean())"
   ]
  },
  {
   "cell_type": "markdown",
   "metadata": {},
   "source": [
    "Заменяем пропущенные значения в колонке city_center_nearest нулямя, чтобы можно было сделать сводную таблицу для всех населенных пунктов. Меняет тип столбца на int. Точность в метрах не нужна"
   ]
  },
  {
   "cell_type": "markdown",
   "metadata": {},
   "source": [
    "На этом предобработка исходных данных завершена. В таблице было достаточно много пропусков, как полученных от ручного ввода, так и от автоматизированного. Все они были заполнены подходящими по смыслу или медианным значением. \n",
    "Можно дать рекомендации разработчикам (или сотрудникам, ответственным за сбор подобных данных) по минимизации пропусков:\n",
    "1. ввести проверку полей ручного ввода и сделать их или обязательными или с возможностью выбора из списка значений\n",
    "2. автоматически полученные данные должны обязательно иметь какое-либо значение. Полностью исключить пропуски. Это возможно."
   ]
  },
  {
   "cell_type": "markdown",
   "metadata": {
    "id": "QCcvyY6YAwb-"
   },
   "source": [
    "### Добавьте в таблицу новые столбцы"
   ]
  },
  {
   "cell_type": "code",
   "execution_count": 13,
   "metadata": {},
   "outputs": [],
   "source": [
    "# функция перевода номера дня недели в его название\n",
    "def num_to_day(num):\n",
    "    weekdays={0:'ПН',1:'ВТ',2:'СР',3:'ЧТ',4:'ПТ',5:'СБ',6:'ВС'}\n",
    "    return(weekdays[num])\n",
    "\n",
    "# функция определения типа этажа: \"первый\", \"последний\", \"другое\", если не то и не то.\n",
    "def type_of_floor(row):\n",
    "    if (row['floor'] > 1) & (row['floor'] == row['floors_total']):\n",
    "        return 'Последний этаж'\n",
    "    elif (row['floor'] == 1) & (row['floors_total'] > 1):\n",
    "        return 'Первый этаж'\n",
    "    else:\n",
    "        return 'Другое'"
   ]
  },
  {
   "cell_type": "code",
   "execution_count": 14,
   "metadata": {},
   "outputs": [],
   "source": [
    "import numpy as np # импорт numpy для использования функции ceil"
   ]
  },
  {
   "cell_type": "code",
   "execution_count": 15,
   "metadata": {
    "id": "Z8eJek3IAwb-"
   },
   "outputs": [
    {
     "name": "stdout",
     "output_type": "stream",
     "text": [
      "Значения нового столбца ['Другое' 'Первый этаж' 'Последний этаж']\n"
     ]
    }
   ],
   "source": [
    "data['1m_price'] = data['last_price']/data['total_area'] # добавляем столбец цены за 1 кв.метра\n",
    "\n",
    "# добавляем столбцы для даты размещения объявления: день недели, месяц, год    \n",
    "data['day_of_week'] = data['first_day_exposition'].dt.weekday.apply(num_to_day)\n",
    "data['month'] = data['first_day_exposition'].dt.month\n",
    "data['year'] = data['first_day_exposition'].dt.year\n",
    "\n",
    "   \n",
    "data['floor_type'] = data.apply(type_of_floor, axis=1) # добавляем столбец функцией с типом этажа\n",
    "# проверим работу функции, выведя уникальные значения нового столбца\n",
    "print('Значения нового столбца',data['floor_type'].unique()) \n",
    "\n",
    "# Записываем столбец city_center_nearest_km\n",
    "data['city_center_nearest_km'] = (\n",
    "    (data['city_center_nearest']/1000)# переводим расстояние до центра города из метров в километры.\n",
    "    .apply(np.ceil) # округляем вверх\n",
    "    .astype('int',copy=False) # меняем тип данных на int\n",
    "    )"
   ]
  },
  {
   "cell_type": "code",
   "execution_count": 16,
   "metadata": {},
   "outputs": [
    {
     "name": "stdout",
     "output_type": "stream",
     "text": [
      "<class 'pandas.core.frame.DataFrame'>\n",
      "RangeIndex: 23699 entries, 0 to 23698\n",
      "Data columns (total 28 columns):\n",
      " #   Column                  Non-Null Count  Dtype         \n",
      "---  ------                  --------------  -----         \n",
      " 0   total_images            23699 non-null  int64         \n",
      " 1   last_price              23699 non-null  int64         \n",
      " 2   total_area              23699 non-null  float64       \n",
      " 3   first_day_exposition    23699 non-null  datetime64[ns]\n",
      " 4   rooms                   23699 non-null  int64         \n",
      " 5   ceiling_height          23699 non-null  float64       \n",
      " 6   floors_total            23699 non-null  int64         \n",
      " 7   living_area             23699 non-null  float64       \n",
      " 8   floor                   23699 non-null  int64         \n",
      " 9   is_apartment            23699 non-null  bool          \n",
      " 10  studio                  23699 non-null  bool          \n",
      " 11  open_plan               23699 non-null  bool          \n",
      " 12  kitchen_area            23699 non-null  float64       \n",
      " 13  balcony                 23699 non-null  int64         \n",
      " 14  locality_name           23699 non-null  object        \n",
      " 15  airports_nearest        23699 non-null  float64       \n",
      " 16  city_center_nearest     23699 non-null  float64       \n",
      " 17  parks_around3000        23699 non-null  int64         \n",
      " 18  parks_nearest           23699 non-null  float64       \n",
      " 19  ponds_around3000        23699 non-null  int64         \n",
      " 20  ponds_nearest           23699 non-null  float64       \n",
      " 21  days_exposition         23699 non-null  int64         \n",
      " 22  1m_price                23699 non-null  float64       \n",
      " 23  day_of_week             23699 non-null  object        \n",
      " 24  month                   23699 non-null  int64         \n",
      " 25  year                    23699 non-null  int64         \n",
      " 26  floor_type              23699 non-null  object        \n",
      " 27  city_center_nearest_km  23699 non-null  int64         \n",
      "dtypes: bool(3), datetime64[ns](1), float64(9), int64(12), object(3)\n",
      "memory usage: 4.6+ MB\n"
     ]
    }
   ],
   "source": [
    "# поменяем тип данных на целочисленный для цены и количества дней на продаже\n",
    "data['last_price'] = data['last_price'].astype('int')\n",
    "data['days_exposition'] = data['days_exposition'].astype('int')\n",
    "\n",
    "# посмотрим, что получилось\n",
    "data.info()"
   ]
  },
  {
   "cell_type": "markdown",
   "metadata": {
    "id": "pPyxrKWTAwb-"
   },
   "source": [
    "### Проведите исследовательский анализ данных"
   ]
  },
  {
   "cell_type": "code",
   "execution_count": 17,
   "metadata": {
    "id": "V2f0D3kLAwb-",
    "scrolled": true
   },
   "outputs": [
    {
     "name": "stdout",
     "output_type": "stream",
     "text": [
      "count    23699.000000\n",
      "mean        60.348651\n",
      "std         35.654083\n",
      "min         12.000000\n",
      "25%         40.000000\n",
      "50%         52.000000\n",
      "75%         69.900000\n",
      "max        900.000000\n",
      "Name: total_area, dtype: float64\n"
     ]
    },
    {
     "data": {
      "text/html": [
       "<div>\n",
       "<style scoped>\n",
       "    .dataframe tbody tr th:only-of-type {\n",
       "        vertical-align: middle;\n",
       "    }\n",
       "\n",
       "    .dataframe tbody tr th {\n",
       "        vertical-align: top;\n",
       "    }\n",
       "\n",
       "    .dataframe thead th {\n",
       "        text-align: right;\n",
       "    }\n",
       "</style>\n",
       "<table border=\"1\" class=\"dataframe\">\n",
       "  <thead>\n",
       "    <tr style=\"text-align: right;\">\n",
       "      <th></th>\n",
       "      <th>last_price</th>\n",
       "      <th>total_area</th>\n",
       "      <th>living_area</th>\n",
       "      <th>kitchen_area</th>\n",
       "      <th>rooms</th>\n",
       "      <th>floors_total</th>\n",
       "      <th>floor</th>\n",
       "      <th>locality_name</th>\n",
       "    </tr>\n",
       "  </thead>\n",
       "  <tbody>\n",
       "    <tr>\n",
       "      <th>660</th>\n",
       "      <td>49950000</td>\n",
       "      <td>483.90</td>\n",
       "      <td>312.500000</td>\n",
       "      <td>26.400000</td>\n",
       "      <td>7</td>\n",
       "      <td>6</td>\n",
       "      <td>4</td>\n",
       "      <td>Санкт-Петербург</td>\n",
       "    </tr>\n",
       "    <tr>\n",
       "      <th>3117</th>\n",
       "      <td>140000000</td>\n",
       "      <td>631.00</td>\n",
       "      <td>163.564151</td>\n",
       "      <td>60.000000</td>\n",
       "      <td>7</td>\n",
       "      <td>5</td>\n",
       "      <td>5</td>\n",
       "      <td>Санкт-Петербург</td>\n",
       "    </tr>\n",
       "    <tr>\n",
       "      <th>3676</th>\n",
       "      <td>28789000</td>\n",
       "      <td>441.98</td>\n",
       "      <td>66.983223</td>\n",
       "      <td>35.050000</td>\n",
       "      <td>4</td>\n",
       "      <td>6</td>\n",
       "      <td>6</td>\n",
       "      <td>Санкт-Петербург</td>\n",
       "    </tr>\n",
       "    <tr>\n",
       "      <th>4237</th>\n",
       "      <td>50000000</td>\n",
       "      <td>517.00</td>\n",
       "      <td>332.000000</td>\n",
       "      <td>22.000000</td>\n",
       "      <td>7</td>\n",
       "      <td>4</td>\n",
       "      <td>3</td>\n",
       "      <td>Санкт-Петербург</td>\n",
       "    </tr>\n",
       "    <tr>\n",
       "      <th>5358</th>\n",
       "      <td>65000000</td>\n",
       "      <td>590.00</td>\n",
       "      <td>409.000000</td>\n",
       "      <td>100.000000</td>\n",
       "      <td>15</td>\n",
       "      <td>6</td>\n",
       "      <td>3</td>\n",
       "      <td>Санкт-Петербург</td>\n",
       "    </tr>\n",
       "    <tr>\n",
       "      <th>5893</th>\n",
       "      <td>230000000</td>\n",
       "      <td>500.00</td>\n",
       "      <td>130.983636</td>\n",
       "      <td>40.000000</td>\n",
       "      <td>6</td>\n",
       "      <td>7</td>\n",
       "      <td>7</td>\n",
       "      <td>Санкт-Петербург</td>\n",
       "    </tr>\n",
       "    <tr>\n",
       "      <th>6221</th>\n",
       "      <td>34000000</td>\n",
       "      <td>470.30</td>\n",
       "      <td>248.700000</td>\n",
       "      <td>40.000000</td>\n",
       "      <td>4</td>\n",
       "      <td>3</td>\n",
       "      <td>3</td>\n",
       "      <td>Санкт-Петербург</td>\n",
       "    </tr>\n",
       "    <tr>\n",
       "      <th>6621</th>\n",
       "      <td>99000000</td>\n",
       "      <td>488.00</td>\n",
       "      <td>216.000000</td>\n",
       "      <td>50.000000</td>\n",
       "      <td>5</td>\n",
       "      <td>20</td>\n",
       "      <td>17</td>\n",
       "      <td>Санкт-Петербург</td>\n",
       "    </tr>\n",
       "    <tr>\n",
       "      <th>8018</th>\n",
       "      <td>84000000</td>\n",
       "      <td>507.00</td>\n",
       "      <td>301.500000</td>\n",
       "      <td>45.500000</td>\n",
       "      <td>5</td>\n",
       "      <td>7</td>\n",
       "      <td>7</td>\n",
       "      <td>Санкт-Петербург</td>\n",
       "    </tr>\n",
       "    <tr>\n",
       "      <th>9826</th>\n",
       "      <td>43185328</td>\n",
       "      <td>494.10</td>\n",
       "      <td>17.893552</td>\n",
       "      <td>9.550118</td>\n",
       "      <td>1</td>\n",
       "      <td>12</td>\n",
       "      <td>3</td>\n",
       "      <td>Санкт-Петербург</td>\n",
       "    </tr>\n",
       "    <tr>\n",
       "      <th>12401</th>\n",
       "      <td>91500000</td>\n",
       "      <td>495.00</td>\n",
       "      <td>347.500000</td>\n",
       "      <td>25.000000</td>\n",
       "      <td>7</td>\n",
       "      <td>7</td>\n",
       "      <td>7</td>\n",
       "      <td>Санкт-Петербург</td>\n",
       "    </tr>\n",
       "    <tr>\n",
       "      <th>12859</th>\n",
       "      <td>140000000</td>\n",
       "      <td>631.20</td>\n",
       "      <td>322.300000</td>\n",
       "      <td>19.500000</td>\n",
       "      <td>7</td>\n",
       "      <td>4</td>\n",
       "      <td>4</td>\n",
       "      <td>Санкт-Петербург</td>\n",
       "    </tr>\n",
       "    <tr>\n",
       "      <th>13749</th>\n",
       "      <td>240000000</td>\n",
       "      <td>410.00</td>\n",
       "      <td>218.000000</td>\n",
       "      <td>40.000000</td>\n",
       "      <td>6</td>\n",
       "      <td>7</td>\n",
       "      <td>7</td>\n",
       "      <td>Санкт-Петербург</td>\n",
       "    </tr>\n",
       "    <tr>\n",
       "      <th>14088</th>\n",
       "      <td>51000000</td>\n",
       "      <td>402.00</td>\n",
       "      <td>300.000000</td>\n",
       "      <td>56.000000</td>\n",
       "      <td>6</td>\n",
       "      <td>8</td>\n",
       "      <td>6</td>\n",
       "      <td>Санкт-Петербург</td>\n",
       "    </tr>\n",
       "    <tr>\n",
       "      <th>14706</th>\n",
       "      <td>401300000</td>\n",
       "      <td>401.00</td>\n",
       "      <td>204.000000</td>\n",
       "      <td>24.000000</td>\n",
       "      <td>5</td>\n",
       "      <td>9</td>\n",
       "      <td>9</td>\n",
       "      <td>Санкт-Петербург</td>\n",
       "    </tr>\n",
       "    <tr>\n",
       "      <th>14991</th>\n",
       "      <td>45000000</td>\n",
       "      <td>413.50</td>\n",
       "      <td>74.200000</td>\n",
       "      <td>13.900000</td>\n",
       "      <td>7</td>\n",
       "      <td>20</td>\n",
       "      <td>18</td>\n",
       "      <td>Санкт-Петербург</td>\n",
       "    </tr>\n",
       "    <tr>\n",
       "      <th>15016</th>\n",
       "      <td>150000000</td>\n",
       "      <td>500.00</td>\n",
       "      <td>66.983223</td>\n",
       "      <td>13.664033</td>\n",
       "      <td>4</td>\n",
       "      <td>7</td>\n",
       "      <td>7</td>\n",
       "      <td>Санкт-Петербург</td>\n",
       "    </tr>\n",
       "    <tr>\n",
       "      <th>15651</th>\n",
       "      <td>300000000</td>\n",
       "      <td>618.00</td>\n",
       "      <td>258.000000</td>\n",
       "      <td>70.000000</td>\n",
       "      <td>7</td>\n",
       "      <td>7</td>\n",
       "      <td>5</td>\n",
       "      <td>Санкт-Петербург</td>\n",
       "    </tr>\n",
       "    <tr>\n",
       "      <th>19540</th>\n",
       "      <td>420000000</td>\n",
       "      <td>900.00</td>\n",
       "      <td>409.700000</td>\n",
       "      <td>112.000000</td>\n",
       "      <td>12</td>\n",
       "      <td>25</td>\n",
       "      <td>25</td>\n",
       "      <td>Санкт-Петербург</td>\n",
       "    </tr>\n",
       "    <tr>\n",
       "      <th>20273</th>\n",
       "      <td>20000000</td>\n",
       "      <td>460.80</td>\n",
       "      <td>279.600000</td>\n",
       "      <td>55.500000</td>\n",
       "      <td>6</td>\n",
       "      <td>3</td>\n",
       "      <td>1</td>\n",
       "      <td>Санкт-Петербург</td>\n",
       "    </tr>\n",
       "    <tr>\n",
       "      <th>21955</th>\n",
       "      <td>130000000</td>\n",
       "      <td>431.00</td>\n",
       "      <td>220.000000</td>\n",
       "      <td>20.000000</td>\n",
       "      <td>7</td>\n",
       "      <td>8</td>\n",
       "      <td>5</td>\n",
       "      <td>Санкт-Петербург</td>\n",
       "    </tr>\n",
       "    <tr>\n",
       "      <th>22131</th>\n",
       "      <td>27000000</td>\n",
       "      <td>422.20</td>\n",
       "      <td>100.009247</td>\n",
       "      <td>18.367649</td>\n",
       "      <td>5</td>\n",
       "      <td>13</td>\n",
       "      <td>11</td>\n",
       "      <td>Санкт-Петербург</td>\n",
       "    </tr>\n",
       "    <tr>\n",
       "      <th>22494</th>\n",
       "      <td>91075000</td>\n",
       "      <td>491.00</td>\n",
       "      <td>274.000000</td>\n",
       "      <td>45.000000</td>\n",
       "      <td>5</td>\n",
       "      <td>9</td>\n",
       "      <td>9</td>\n",
       "      <td>Санкт-Петербург</td>\n",
       "    </tr>\n",
       "  </tbody>\n",
       "</table>\n",
       "</div>"
      ],
      "text/plain": [
       "       last_price  total_area  living_area  kitchen_area  rooms  floors_total  \\\n",
       "660      49950000      483.90   312.500000     26.400000      7             6   \n",
       "3117    140000000      631.00   163.564151     60.000000      7             5   \n",
       "3676     28789000      441.98    66.983223     35.050000      4             6   \n",
       "4237     50000000      517.00   332.000000     22.000000      7             4   \n",
       "5358     65000000      590.00   409.000000    100.000000     15             6   \n",
       "5893    230000000      500.00   130.983636     40.000000      6             7   \n",
       "6221     34000000      470.30   248.700000     40.000000      4             3   \n",
       "6621     99000000      488.00   216.000000     50.000000      5            20   \n",
       "8018     84000000      507.00   301.500000     45.500000      5             7   \n",
       "9826     43185328      494.10    17.893552      9.550118      1            12   \n",
       "12401    91500000      495.00   347.500000     25.000000      7             7   \n",
       "12859   140000000      631.20   322.300000     19.500000      7             4   \n",
       "13749   240000000      410.00   218.000000     40.000000      6             7   \n",
       "14088    51000000      402.00   300.000000     56.000000      6             8   \n",
       "14706   401300000      401.00   204.000000     24.000000      5             9   \n",
       "14991    45000000      413.50    74.200000     13.900000      7            20   \n",
       "15016   150000000      500.00    66.983223     13.664033      4             7   \n",
       "15651   300000000      618.00   258.000000     70.000000      7             7   \n",
       "19540   420000000      900.00   409.700000    112.000000     12            25   \n",
       "20273    20000000      460.80   279.600000     55.500000      6             3   \n",
       "21955   130000000      431.00   220.000000     20.000000      7             8   \n",
       "22131    27000000      422.20   100.009247     18.367649      5            13   \n",
       "22494    91075000      491.00   274.000000     45.000000      5             9   \n",
       "\n",
       "       floor    locality_name  \n",
       "660        4  Санкт-Петербург  \n",
       "3117       5  Санкт-Петербург  \n",
       "3676       6  Санкт-Петербург  \n",
       "4237       3  Санкт-Петербург  \n",
       "5358       3  Санкт-Петербург  \n",
       "5893       7  Санкт-Петербург  \n",
       "6221       3  Санкт-Петербург  \n",
       "6621      17  Санкт-Петербург  \n",
       "8018       7  Санкт-Петербург  \n",
       "9826       3  Санкт-Петербург  \n",
       "12401      7  Санкт-Петербург  \n",
       "12859      4  Санкт-Петербург  \n",
       "13749      7  Санкт-Петербург  \n",
       "14088      6  Санкт-Петербург  \n",
       "14706      9  Санкт-Петербург  \n",
       "14991     18  Санкт-Петербург  \n",
       "15016      7  Санкт-Петербург  \n",
       "15651      5  Санкт-Петербург  \n",
       "19540     25  Санкт-Петербург  \n",
       "20273      1  Санкт-Петербург  \n",
       "21955      5  Санкт-Петербург  \n",
       "22131     11  Санкт-Петербург  \n",
       "22494      9  Санкт-Петербург  "
      ]
     },
     "execution_count": 17,
     "metadata": {},
     "output_type": "execute_result"
    },
    {
     "data": {
      "image/png": "[encoded data removed]",
      "text/plain": [
       "<Figure size 432x288 with 1 Axes>"
      ]
     },
     "metadata": {
      "needs_background": "light"
     },
     "output_type": "display_data"
    },
    {
     "data": {
      "image/png": "[encoded data removed]",
      "text/plain": [
       "<Figure size 432x288 with 1 Axes>"
      ]
     },
     "metadata": {
      "needs_background": "light"
     },
     "output_type": "display_data"
    }
   ],
   "source": [
    "# ящик с усами для общей площади\n",
    "data.boxplot(column='total_area')\n",
    "\n",
    "# гистограмма для общей площади\n",
    "data.hist(column='total_area',bins=50)\n",
    "\n",
    "# числовое распределение данных\n",
    "print(data['total_area'].describe())\n",
    "\n",
    "# просмотрим квартиры с площадью 400\n",
    "data.loc[data['total_area'] > 400,['last_price','total_area','living_area','kitchen_area','rooms','floors_total','floor','locality_name']]"
   ]
  },
  {
   "cell_type": "markdown",
   "metadata": {},
   "source": [
    "Среднее и мадианное значение сильно отличаются.75% объявлений - квартиры до 70 кв.м. \n",
    "Существует как минимум 1 аномальный выброс, но лучше рассмотреть все значения, больше ~400.\n",
    "Единственная строчка, к которой есть сомнения - 9826. Однокомнатная квартира, жилой площадью в 18кв.м., но при этом общая площадь почти 500кв.м. Остальное ещё хоть как-то можно представить."
   ]
  },
  {
   "cell_type": "code",
   "execution_count": 18,
   "metadata": {},
   "outputs": [
    {
     "data": {
      "text/plain": [
       "count    23699.000000\n",
       "mean        34.441157\n",
       "std         21.802121\n",
       "min          2.000000\n",
       "25%         18.400000\n",
       "50%         30.300000\n",
       "75%         42.700000\n",
       "max        409.700000\n",
       "Name: living_area, dtype: float64"
      ]
     },
     "execution_count": 18,
     "metadata": {},
     "output_type": "execute_result"
    },
    {
     "data": {
      "image/png": "[encoded data removed]",
      "text/plain": [
       "<Figure size 432x288 with 1 Axes>"
      ]
     },
     "metadata": {
      "needs_background": "light"
     },
     "output_type": "display_data"
    },
    {
     "data": {
      "image/png": "[encoded data removed]",
      "text/plain": [
       "<Figure size 432x288 with 1 Axes>"
      ]
     },
     "metadata": {
      "needs_background": "light"
     },
     "output_type": "display_data"
    }
   ],
   "source": [
    "# ящик с усами для жилой площади\n",
    "data.boxplot(column='living_area')\n",
    "\n",
    "# гистограмма для жилой площади\n",
    "data.hist(column='living_area',bins=50)\n",
    "\n",
    "# числовое распределение данных\n",
    "data['living_area'].describe()"
   ]
  },
  {
   "cell_type": "markdown",
   "metadata": {},
   "source": [
    "Среднее и мадианное значение отличаются уже не сильно.\n",
    "1 из 2 явных выбросов >400кв.м. соответствует тому же объкту, что являюется выбросом по общей площади"
   ]
  },
  {
   "cell_type": "code",
   "execution_count": 19,
   "metadata": {},
   "outputs": [
    {
     "name": "stdout",
     "output_type": "stream",
     "text": [
      "count    23699.000000\n",
      "mean        10.565624\n",
      "std          6.078027\n",
      "min          0.000000\n",
      "25%          7.300000\n",
      "50%          9.550118\n",
      "75%         11.600000\n",
      "max        352.134754\n",
      "Name: kitchen_area, dtype: float64\n",
      "count    23699.000000\n",
      "mean        10.550914\n",
      "std          5.658720\n",
      "min          0.000000\n",
      "25%          7.300000\n",
      "50%          9.550118\n",
      "75%         11.600000\n",
      "max        112.000000\n",
      "Name: kitchen_area, dtype: float64\n"
     ]
    },
    {
     "data": {
      "image/png": "[encoded data removed]",
      "text/plain": [
       "<Figure size 432x288 with 1 Axes>"
      ]
     },
     "metadata": {
      "needs_background": "light"
     },
     "output_type": "display_data"
    },
    {
     "data": {
      "image/png": "[encoded data removed]",
      "text/plain": [
       "<Figure size 432x288 with 1 Axes>"
      ]
     },
     "metadata": {
      "needs_background": "light"
     },
     "output_type": "display_data"
    }
   ],
   "source": [
    "# ящик с усами для площади кухни\n",
    "data.boxplot(column='kitchen_area')\n",
    "\n",
    "# гистограмма для площади кухни\n",
    "data.hist(column='kitchen_area',bins=50)\n",
    "\n",
    "# числовое распределение данных\n",
    "print(data['kitchen_area'].describe())\n",
    "\n",
    "# Рассмотрим строки с площадью кухни более 300 кв.м.\n",
    "data.loc[data['kitchen_area'] > 300,['total_area','living_area','kitchen_area','rooms']]\n",
    "\n",
    "# исправим предполагаемую ошибку ввода\n",
    "data.loc[19392,'kitchen_area'] = data.loc[19392,'kitchen_area']/100\n",
    "data.loc[19392,'total_area'] = data.loc[19392,'total_area']/10\n",
    "\n",
    "# проверим распределения еще раз\n",
    "print(data['kitchen_area'].describe())"
   ]
  },
  {
   "cell_type": "markdown",
   "metadata": {},
   "source": [
    "Ситуция в целом аналогична жилой площади\n",
    "Есть один выброс, который при рассмотрении можно предположить ошибкой ввода данных: т.к. это студия, судя по количеству комнат, то общая площадь и площадь кухни увеличены в 100 и в 10 раз соответственно.Руками поменяем данные.\n",
    "Но площадь кухни не имеет большого разброса и довольно статична."
   ]
  },
  {
   "cell_type": "code",
   "execution_count": 20,
   "metadata": {},
   "outputs": [
    {
     "name": "stdout",
     "output_type": "stream",
     "text": [
      "count    2.369900e+04\n",
      "mean     6.541549e+06\n",
      "std      1.088701e+07\n",
      "min      1.219000e+04\n",
      "25%      3.400000e+06\n",
      "50%      4.650000e+06\n",
      "75%      6.800000e+06\n",
      "max      7.630000e+08\n",
      "Name: last_price, dtype: float64\n"
     ]
    },
    {
     "data": {
      "text/html": [
       "<div>\n",
       "<style scoped>\n",
       "    .dataframe tbody tr th:only-of-type {\n",
       "        vertical-align: middle;\n",
       "    }\n",
       "\n",
       "    .dataframe tbody tr th {\n",
       "        vertical-align: top;\n",
       "    }\n",
       "\n",
       "    .dataframe thead th {\n",
       "        text-align: right;\n",
       "    }\n",
       "</style>\n",
       "<table border=\"1\" class=\"dataframe\">\n",
       "  <thead>\n",
       "    <tr style=\"text-align: right;\">\n",
       "      <th></th>\n",
       "      <th>total_images</th>\n",
       "      <th>last_price</th>\n",
       "      <th>total_area</th>\n",
       "      <th>first_day_exposition</th>\n",
       "      <th>rooms</th>\n",
       "      <th>ceiling_height</th>\n",
       "      <th>floors_total</th>\n",
       "      <th>living_area</th>\n",
       "      <th>floor</th>\n",
       "      <th>is_apartment</th>\n",
       "      <th>...</th>\n",
       "      <th>parks_nearest</th>\n",
       "      <th>ponds_around3000</th>\n",
       "      <th>ponds_nearest</th>\n",
       "      <th>days_exposition</th>\n",
       "      <th>1m_price</th>\n",
       "      <th>day_of_week</th>\n",
       "      <th>month</th>\n",
       "      <th>year</th>\n",
       "      <th>floor_type</th>\n",
       "      <th>city_center_nearest_km</th>\n",
       "    </tr>\n",
       "  </thead>\n",
       "  <tbody>\n",
       "    <tr>\n",
       "      <th>1436</th>\n",
       "      <td>19</td>\n",
       "      <td>330000000</td>\n",
       "      <td>190.0</td>\n",
       "      <td>2018-04-04</td>\n",
       "      <td>3</td>\n",
       "      <td>3.500000</td>\n",
       "      <td>7</td>\n",
       "      <td>95.0</td>\n",
       "      <td>5</td>\n",
       "      <td>True</td>\n",
       "      <td>...</td>\n",
       "      <td>519.0</td>\n",
       "      <td>3</td>\n",
       "      <td>285.0</td>\n",
       "      <td>233</td>\n",
       "      <td>1.736842e+06</td>\n",
       "      <td>СР</td>\n",
       "      <td>4</td>\n",
       "      <td>2018</td>\n",
       "      <td>Другое</td>\n",
       "      <td>2</td>\n",
       "    </tr>\n",
       "    <tr>\n",
       "      <th>12971</th>\n",
       "      <td>19</td>\n",
       "      <td>763000000</td>\n",
       "      <td>400.0</td>\n",
       "      <td>2017-09-30</td>\n",
       "      <td>7</td>\n",
       "      <td>2.771499</td>\n",
       "      <td>10</td>\n",
       "      <td>250.0</td>\n",
       "      <td>10</td>\n",
       "      <td>True</td>\n",
       "      <td>...</td>\n",
       "      <td>530.0</td>\n",
       "      <td>3</td>\n",
       "      <td>756.0</td>\n",
       "      <td>33</td>\n",
       "      <td>1.907500e+06</td>\n",
       "      <td>СБ</td>\n",
       "      <td>9</td>\n",
       "      <td>2017</td>\n",
       "      <td>Последний этаж</td>\n",
       "      <td>4</td>\n",
       "    </tr>\n",
       "    <tr>\n",
       "      <th>14706</th>\n",
       "      <td>15</td>\n",
       "      <td>401300000</td>\n",
       "      <td>401.0</td>\n",
       "      <td>2016-02-20</td>\n",
       "      <td>5</td>\n",
       "      <td>2.771499</td>\n",
       "      <td>9</td>\n",
       "      <td>204.0</td>\n",
       "      <td>9</td>\n",
       "      <td>False</td>\n",
       "      <td>...</td>\n",
       "      <td>545.0</td>\n",
       "      <td>1</td>\n",
       "      <td>478.0</td>\n",
       "      <td>393</td>\n",
       "      <td>1.000748e+06</td>\n",
       "      <td>СБ</td>\n",
       "      <td>2</td>\n",
       "      <td>2016</td>\n",
       "      <td>Последний этаж</td>\n",
       "      <td>3</td>\n",
       "    </tr>\n",
       "    <tr>\n",
       "      <th>15651</th>\n",
       "      <td>20</td>\n",
       "      <td>300000000</td>\n",
       "      <td>618.0</td>\n",
       "      <td>2017-12-18</td>\n",
       "      <td>7</td>\n",
       "      <td>3.400000</td>\n",
       "      <td>7</td>\n",
       "      <td>258.0</td>\n",
       "      <td>5</td>\n",
       "      <td>True</td>\n",
       "      <td>...</td>\n",
       "      <td>3001.0</td>\n",
       "      <td>2</td>\n",
       "      <td>198.0</td>\n",
       "      <td>111</td>\n",
       "      <td>4.854369e+05</td>\n",
       "      <td>ПН</td>\n",
       "      <td>12</td>\n",
       "      <td>2017</td>\n",
       "      <td>Другое</td>\n",
       "      <td>6</td>\n",
       "    </tr>\n",
       "    <tr>\n",
       "      <th>19540</th>\n",
       "      <td>8</td>\n",
       "      <td>420000000</td>\n",
       "      <td>900.0</td>\n",
       "      <td>2017-12-06</td>\n",
       "      <td>12</td>\n",
       "      <td>2.800000</td>\n",
       "      <td>25</td>\n",
       "      <td>409.7</td>\n",
       "      <td>25</td>\n",
       "      <td>True</td>\n",
       "      <td>...</td>\n",
       "      <td>3001.0</td>\n",
       "      <td>2</td>\n",
       "      <td>318.0</td>\n",
       "      <td>106</td>\n",
       "      <td>4.666667e+05</td>\n",
       "      <td>СР</td>\n",
       "      <td>12</td>\n",
       "      <td>2017</td>\n",
       "      <td>Последний этаж</td>\n",
       "      <td>8</td>\n",
       "    </tr>\n",
       "    <tr>\n",
       "      <th>22831</th>\n",
       "      <td>18</td>\n",
       "      <td>289238400</td>\n",
       "      <td>187.5</td>\n",
       "      <td>2019-03-19</td>\n",
       "      <td>2</td>\n",
       "      <td>3.370000</td>\n",
       "      <td>6</td>\n",
       "      <td>63.7</td>\n",
       "      <td>6</td>\n",
       "      <td>True</td>\n",
       "      <td>...</td>\n",
       "      <td>386.0</td>\n",
       "      <td>3</td>\n",
       "      <td>188.0</td>\n",
       "      <td>-1</td>\n",
       "      <td>1.542605e+06</td>\n",
       "      <td>ВТ</td>\n",
       "      <td>3</td>\n",
       "      <td>2019</td>\n",
       "      <td>Последний этаж</td>\n",
       "      <td>2</td>\n",
       "    </tr>\n",
       "  </tbody>\n",
       "</table>\n",
       "<p>6 rows × 28 columns</p>\n",
       "</div>"
      ],
      "text/plain": [
       "       total_images  last_price  total_area first_day_exposition  rooms  \\\n",
       "1436             19   330000000       190.0           2018-04-04      3   \n",
       "12971            19   763000000       400.0           2017-09-30      7   \n",
       "14706            15   401300000       401.0           2016-02-20      5   \n",
       "15651            20   300000000       618.0           2017-12-18      7   \n",
       "19540             8   420000000       900.0           2017-12-06     12   \n",
       "22831            18   289238400       187.5           2019-03-19      2   \n",
       "\n",
       "       ceiling_height  floors_total  living_area  floor  is_apartment  ...  \\\n",
       "1436         3.500000             7         95.0      5          True  ...   \n",
       "12971        2.771499            10        250.0     10          True  ...   \n",
       "14706        2.771499             9        204.0      9         False  ...   \n",
       "15651        3.400000             7        258.0      5          True  ...   \n",
       "19540        2.800000            25        409.7     25          True  ...   \n",
       "22831        3.370000             6         63.7      6          True  ...   \n",
       "\n",
       "       parks_nearest  ponds_around3000  ponds_nearest  days_exposition  \\\n",
       "1436           519.0                 3          285.0              233   \n",
       "12971          530.0                 3          756.0               33   \n",
       "14706          545.0                 1          478.0              393   \n",
       "15651         3001.0                 2          198.0              111   \n",
       "19540         3001.0                 2          318.0              106   \n",
       "22831          386.0                 3          188.0               -1   \n",
       "\n",
       "           1m_price  day_of_week  month  year      floor_type  \\\n",
       "1436   1.736842e+06           СР      4  2018          Другое   \n",
       "12971  1.907500e+06           СБ      9  2017  Последний этаж   \n",
       "14706  1.000748e+06           СБ      2  2016  Последний этаж   \n",
       "15651  4.854369e+05           ПН     12  2017          Другое   \n",
       "19540  4.666667e+05           СР     12  2017  Последний этаж   \n",
       "22831  1.542605e+06           ВТ      3  2019  Последний этаж   \n",
       "\n",
       "       city_center_nearest_km  \n",
       "1436                        2  \n",
       "12971                       4  \n",
       "14706                       3  \n",
       "15651                       6  \n",
       "19540                       8  \n",
       "22831                       2  \n",
       "\n",
       "[6 rows x 28 columns]"
      ]
     },
     "execution_count": 20,
     "metadata": {},
     "output_type": "execute_result"
    },
    {
     "data": {
      "image/png": "[encoded data removed]",
      "text/plain": [
       "<Figure size 432x288 with 1 Axes>"
      ]
     },
     "metadata": {
      "needs_background": "light"
     },
     "output_type": "display_data"
    },
    {
     "data": {
      "image/png": "[encoded data removed]",
      "text/plain": [
       "<Figure size 432x288 with 1 Axes>"
      ]
     },
     "metadata": {
      "needs_background": "light"
     },
     "output_type": "display_data"
    },
    {
     "data": {
      "image/png": "[encoded data removed]",
      "text/plain": [
       "<Figure size 432x288 with 1 Axes>"
      ]
     },
     "metadata": {
      "needs_background": "light"
     },
     "output_type": "display_data"
    }
   ],
   "source": [
    "# ящик с усами для цены объекта\n",
    "data.boxplot(column='last_price')\n",
    "\n",
    "# гистограмма для цены объекта\n",
    "data.hist(column='last_price',bins=50)\n",
    "\n",
    "# гистограмма для площади кухни с ограничением по цене в 50млн\n",
    "data.hist(column='last_price',bins=50, range=(0,50e6))\n",
    "\n",
    "# числовое распределение данных\n",
    "print(data['last_price'].describe())\n",
    "\n",
    "data.query('last_price > 250000000')"
   ]
  },
  {
   "cell_type": "markdown",
   "metadata": {},
   "source": [
    "Разброс мин. и макс. цен отличается на 4 порядка. Возможно, что для рынка недвижимости это нормально. Особенно, в столичных регионах.\n",
    "Квартира площадью в 900 кв.м. так же среди лидеров по стоимости. \n",
    "Но основная масса предложений - до 50 млн."
   ]
  },
  {
   "cell_type": "code",
   "execution_count": 21,
   "metadata": {},
   "outputs": [
    {
     "name": "stdout",
     "output_type": "stream",
     "text": [
      "count    23699.000000\n",
      "mean         2.070636\n",
      "std          1.078405\n",
      "min          0.000000\n",
      "25%          1.000000\n",
      "50%          2.000000\n",
      "75%          3.000000\n",
      "max         19.000000\n",
      "Name: rooms, dtype: float64\n"
     ]
    },
    {
     "data": {
      "text/html": [
       "<div>\n",
       "<style scoped>\n",
       "    .dataframe tbody tr th:only-of-type {\n",
       "        vertical-align: middle;\n",
       "    }\n",
       "\n",
       "    .dataframe tbody tr th {\n",
       "        vertical-align: top;\n",
       "    }\n",
       "\n",
       "    .dataframe thead th {\n",
       "        text-align: right;\n",
       "    }\n",
       "</style>\n",
       "<table border=\"1\" class=\"dataframe\">\n",
       "  <thead>\n",
       "    <tr style=\"text-align: right;\">\n",
       "      <th></th>\n",
       "      <th>total_images</th>\n",
       "      <th>last_price</th>\n",
       "      <th>total_area</th>\n",
       "      <th>first_day_exposition</th>\n",
       "      <th>rooms</th>\n",
       "      <th>ceiling_height</th>\n",
       "      <th>floors_total</th>\n",
       "      <th>living_area</th>\n",
       "      <th>floor</th>\n",
       "      <th>is_apartment</th>\n",
       "      <th>...</th>\n",
       "      <th>parks_nearest</th>\n",
       "      <th>ponds_around3000</th>\n",
       "      <th>ponds_nearest</th>\n",
       "      <th>days_exposition</th>\n",
       "      <th>1m_price</th>\n",
       "      <th>day_of_week</th>\n",
       "      <th>month</th>\n",
       "      <th>year</th>\n",
       "      <th>floor_type</th>\n",
       "      <th>city_center_nearest_km</th>\n",
       "    </tr>\n",
       "  </thead>\n",
       "  <tbody>\n",
       "    <tr>\n",
       "      <th>648</th>\n",
       "      <td>3</td>\n",
       "      <td>17500000</td>\n",
       "      <td>183.7</td>\n",
       "      <td>2018-07-01</td>\n",
       "      <td>11</td>\n",
       "      <td>3.400000</td>\n",
       "      <td>7</td>\n",
       "      <td>138.800000</td>\n",
       "      <td>7</td>\n",
       "      <td>True</td>\n",
       "      <td>...</td>\n",
       "      <td>3001.0</td>\n",
       "      <td>0</td>\n",
       "      <td>3001.0</td>\n",
       "      <td>-1</td>\n",
       "      <td>95264.017420</td>\n",
       "      <td>ВС</td>\n",
       "      <td>7</td>\n",
       "      <td>2018</td>\n",
       "      <td>Последний этаж</td>\n",
       "      <td>4</td>\n",
       "    </tr>\n",
       "    <tr>\n",
       "      <th>866</th>\n",
       "      <td>5</td>\n",
       "      <td>25000000</td>\n",
       "      <td>363.0</td>\n",
       "      <td>2017-12-23</td>\n",
       "      <td>14</td>\n",
       "      <td>3.160000</td>\n",
       "      <td>5</td>\n",
       "      <td>222.000000</td>\n",
       "      <td>4</td>\n",
       "      <td>True</td>\n",
       "      <td>...</td>\n",
       "      <td>3001.0</td>\n",
       "      <td>2</td>\n",
       "      <td>435.0</td>\n",
       "      <td>418</td>\n",
       "      <td>68870.523416</td>\n",
       "      <td>СБ</td>\n",
       "      <td>12</td>\n",
       "      <td>2017</td>\n",
       "      <td>Другое</td>\n",
       "      <td>8</td>\n",
       "    </tr>\n",
       "    <tr>\n",
       "      <th>4149</th>\n",
       "      <td>6</td>\n",
       "      <td>23000000</td>\n",
       "      <td>272.6</td>\n",
       "      <td>2018-01-11</td>\n",
       "      <td>10</td>\n",
       "      <td>3.140000</td>\n",
       "      <td>7</td>\n",
       "      <td>145.900000</td>\n",
       "      <td>7</td>\n",
       "      <td>True</td>\n",
       "      <td>...</td>\n",
       "      <td>191.0</td>\n",
       "      <td>1</td>\n",
       "      <td>531.0</td>\n",
       "      <td>-1</td>\n",
       "      <td>84372.707263</td>\n",
       "      <td>ЧТ</td>\n",
       "      <td>1</td>\n",
       "      <td>2018</td>\n",
       "      <td>Последний этаж</td>\n",
       "      <td>13</td>\n",
       "    </tr>\n",
       "    <tr>\n",
       "      <th>5358</th>\n",
       "      <td>20</td>\n",
       "      <td>65000000</td>\n",
       "      <td>590.0</td>\n",
       "      <td>2019-02-14</td>\n",
       "      <td>15</td>\n",
       "      <td>3.500000</td>\n",
       "      <td>6</td>\n",
       "      <td>409.000000</td>\n",
       "      <td>3</td>\n",
       "      <td>True</td>\n",
       "      <td>...</td>\n",
       "      <td>767.0</td>\n",
       "      <td>0</td>\n",
       "      <td>3001.0</td>\n",
       "      <td>14</td>\n",
       "      <td>110169.491525</td>\n",
       "      <td>ЧТ</td>\n",
       "      <td>2</td>\n",
       "      <td>2019</td>\n",
       "      <td>Другое</td>\n",
       "      <td>5</td>\n",
       "    </tr>\n",
       "    <tr>\n",
       "      <th>8822</th>\n",
       "      <td>14</td>\n",
       "      <td>49968900</td>\n",
       "      <td>398.0</td>\n",
       "      <td>2017-07-12</td>\n",
       "      <td>9</td>\n",
       "      <td>3.000000</td>\n",
       "      <td>2</td>\n",
       "      <td>160.100000</td>\n",
       "      <td>1</td>\n",
       "      <td>False</td>\n",
       "      <td>...</td>\n",
       "      <td>471.0</td>\n",
       "      <td>2</td>\n",
       "      <td>440.0</td>\n",
       "      <td>471</td>\n",
       "      <td>125550.000000</td>\n",
       "      <td>СР</td>\n",
       "      <td>7</td>\n",
       "      <td>2017</td>\n",
       "      <td>Первый этаж</td>\n",
       "      <td>17</td>\n",
       "    </tr>\n",
       "    <tr>\n",
       "      <th>8860</th>\n",
       "      <td>12</td>\n",
       "      <td>17000000</td>\n",
       "      <td>235.0</td>\n",
       "      <td>2018-07-14</td>\n",
       "      <td>9</td>\n",
       "      <td>3.000000</td>\n",
       "      <td>6</td>\n",
       "      <td>190.257143</td>\n",
       "      <td>3</td>\n",
       "      <td>True</td>\n",
       "      <td>...</td>\n",
       "      <td>346.0</td>\n",
       "      <td>0</td>\n",
       "      <td>3001.0</td>\n",
       "      <td>90</td>\n",
       "      <td>72340.425532</td>\n",
       "      <td>СБ</td>\n",
       "      <td>7</td>\n",
       "      <td>2018</td>\n",
       "      <td>Другое</td>\n",
       "      <td>6</td>\n",
       "    </tr>\n",
       "    <tr>\n",
       "      <th>9550</th>\n",
       "      <td>10</td>\n",
       "      <td>23500000</td>\n",
       "      <td>313.0</td>\n",
       "      <td>2017-02-13</td>\n",
       "      <td>9</td>\n",
       "      <td>3.200000</td>\n",
       "      <td>6</td>\n",
       "      <td>179.200000</td>\n",
       "      <td>5</td>\n",
       "      <td>True</td>\n",
       "      <td>...</td>\n",
       "      <td>146.0</td>\n",
       "      <td>0</td>\n",
       "      <td>3001.0</td>\n",
       "      <td>-1</td>\n",
       "      <td>75079.872204</td>\n",
       "      <td>ПН</td>\n",
       "      <td>2</td>\n",
       "      <td>2017</td>\n",
       "      <td>Другое</td>\n",
       "      <td>11</td>\n",
       "    </tr>\n",
       "    <tr>\n",
       "      <th>9688</th>\n",
       "      <td>8</td>\n",
       "      <td>33000000</td>\n",
       "      <td>194.1</td>\n",
       "      <td>2017-02-07</td>\n",
       "      <td>11</td>\n",
       "      <td>3.430000</td>\n",
       "      <td>5</td>\n",
       "      <td>129.000000</td>\n",
       "      <td>2</td>\n",
       "      <td>True</td>\n",
       "      <td>...</td>\n",
       "      <td>686.0</td>\n",
       "      <td>2</td>\n",
       "      <td>66.0</td>\n",
       "      <td>813</td>\n",
       "      <td>170015.455951</td>\n",
       "      <td>ВТ</td>\n",
       "      <td>2</td>\n",
       "      <td>2017</td>\n",
       "      <td>Другое</td>\n",
       "      <td>2</td>\n",
       "    </tr>\n",
       "    <tr>\n",
       "      <th>13019</th>\n",
       "      <td>0</td>\n",
       "      <td>22250000</td>\n",
       "      <td>249.9</td>\n",
       "      <td>2019-04-23</td>\n",
       "      <td>9</td>\n",
       "      <td>3.200000</td>\n",
       "      <td>5</td>\n",
       "      <td>157.000000</td>\n",
       "      <td>5</td>\n",
       "      <td>True</td>\n",
       "      <td>...</td>\n",
       "      <td>352.0</td>\n",
       "      <td>0</td>\n",
       "      <td>3001.0</td>\n",
       "      <td>-1</td>\n",
       "      <td>89035.614246</td>\n",
       "      <td>ВТ</td>\n",
       "      <td>4</td>\n",
       "      <td>2019</td>\n",
       "      <td>Последний этаж</td>\n",
       "      <td>10</td>\n",
       "    </tr>\n",
       "    <tr>\n",
       "      <th>13397</th>\n",
       "      <td>14</td>\n",
       "      <td>19500000</td>\n",
       "      <td>309.7</td>\n",
       "      <td>2016-02-03</td>\n",
       "      <td>9</td>\n",
       "      <td>2.771499</td>\n",
       "      <td>5</td>\n",
       "      <td>199.000000</td>\n",
       "      <td>5</td>\n",
       "      <td>True</td>\n",
       "      <td>...</td>\n",
       "      <td>352.0</td>\n",
       "      <td>0</td>\n",
       "      <td>3001.0</td>\n",
       "      <td>468</td>\n",
       "      <td>62964.158863</td>\n",
       "      <td>СР</td>\n",
       "      <td>2</td>\n",
       "      <td>2016</td>\n",
       "      <td>Последний этаж</td>\n",
       "      <td>10</td>\n",
       "    </tr>\n",
       "    <tr>\n",
       "      <th>14498</th>\n",
       "      <td>6</td>\n",
       "      <td>32250000</td>\n",
       "      <td>374.6</td>\n",
       "      <td>2018-06-09</td>\n",
       "      <td>19</td>\n",
       "      <td>2.771499</td>\n",
       "      <td>5</td>\n",
       "      <td>264.500000</td>\n",
       "      <td>2</td>\n",
       "      <td>True</td>\n",
       "      <td>...</td>\n",
       "      <td>3001.0</td>\n",
       "      <td>2</td>\n",
       "      <td>548.0</td>\n",
       "      <td>114</td>\n",
       "      <td>86091.831287</td>\n",
       "      <td>СБ</td>\n",
       "      <td>6</td>\n",
       "      <td>2018</td>\n",
       "      <td>Другое</td>\n",
       "      <td>4</td>\n",
       "    </tr>\n",
       "    <tr>\n",
       "      <th>15151</th>\n",
       "      <td>15</td>\n",
       "      <td>88000000</td>\n",
       "      <td>400.0</td>\n",
       "      <td>2019-03-27</td>\n",
       "      <td>9</td>\n",
       "      <td>2.500000</td>\n",
       "      <td>2</td>\n",
       "      <td>250.000000</td>\n",
       "      <td>1</td>\n",
       "      <td>True</td>\n",
       "      <td>...</td>\n",
       "      <td>315.0</td>\n",
       "      <td>1</td>\n",
       "      <td>578.0</td>\n",
       "      <td>-1</td>\n",
       "      <td>220000.000000</td>\n",
       "      <td>СР</td>\n",
       "      <td>3</td>\n",
       "      <td>2019</td>\n",
       "      <td>Первый этаж</td>\n",
       "      <td>3</td>\n",
       "    </tr>\n",
       "    <tr>\n",
       "      <th>16915</th>\n",
       "      <td>14</td>\n",
       "      <td>29000000</td>\n",
       "      <td>292.2</td>\n",
       "      <td>2017-01-12</td>\n",
       "      <td>9</td>\n",
       "      <td>3.350000</td>\n",
       "      <td>5</td>\n",
       "      <td>225.900000</td>\n",
       "      <td>4</td>\n",
       "      <td>True</td>\n",
       "      <td>...</td>\n",
       "      <td>263.0</td>\n",
       "      <td>0</td>\n",
       "      <td>3001.0</td>\n",
       "      <td>825</td>\n",
       "      <td>99247.091034</td>\n",
       "      <td>ЧТ</td>\n",
       "      <td>1</td>\n",
       "      <td>2017</td>\n",
       "      <td>Другое</td>\n",
       "      <td>6</td>\n",
       "    </tr>\n",
       "    <tr>\n",
       "      <th>18119</th>\n",
       "      <td>4</td>\n",
       "      <td>15500000</td>\n",
       "      <td>216.1</td>\n",
       "      <td>2016-07-04</td>\n",
       "      <td>10</td>\n",
       "      <td>3.150000</td>\n",
       "      <td>5</td>\n",
       "      <td>161.400000</td>\n",
       "      <td>2</td>\n",
       "      <td>True</td>\n",
       "      <td>...</td>\n",
       "      <td>368.0</td>\n",
       "      <td>0</td>\n",
       "      <td>3001.0</td>\n",
       "      <td>11</td>\n",
       "      <td>71726.052753</td>\n",
       "      <td>ПН</td>\n",
       "      <td>7</td>\n",
       "      <td>2016</td>\n",
       "      <td>Другое</td>\n",
       "      <td>5</td>\n",
       "    </tr>\n",
       "    <tr>\n",
       "      <th>18848</th>\n",
       "      <td>6</td>\n",
       "      <td>28500000</td>\n",
       "      <td>270.0</td>\n",
       "      <td>2015-03-02</td>\n",
       "      <td>16</td>\n",
       "      <td>3.000000</td>\n",
       "      <td>4</td>\n",
       "      <td>180.000000</td>\n",
       "      <td>4</td>\n",
       "      <td>True</td>\n",
       "      <td>...</td>\n",
       "      <td>516.0</td>\n",
       "      <td>0</td>\n",
       "      <td>3001.0</td>\n",
       "      <td>1365</td>\n",
       "      <td>105555.555556</td>\n",
       "      <td>ПН</td>\n",
       "      <td>3</td>\n",
       "      <td>2015</td>\n",
       "      <td>Последний этаж</td>\n",
       "      <td>5</td>\n",
       "    </tr>\n",
       "    <tr>\n",
       "      <th>18891</th>\n",
       "      <td>11</td>\n",
       "      <td>40000000</td>\n",
       "      <td>290.0</td>\n",
       "      <td>2016-06-21</td>\n",
       "      <td>10</td>\n",
       "      <td>3.500000</td>\n",
       "      <td>6</td>\n",
       "      <td>189.400000</td>\n",
       "      <td>6</td>\n",
       "      <td>True</td>\n",
       "      <td>...</td>\n",
       "      <td>316.0</td>\n",
       "      <td>1</td>\n",
       "      <td>227.0</td>\n",
       "      <td>77</td>\n",
       "      <td>137931.034483</td>\n",
       "      <td>ВТ</td>\n",
       "      <td>6</td>\n",
       "      <td>2016</td>\n",
       "      <td>Последний этаж</td>\n",
       "      <td>5</td>\n",
       "    </tr>\n",
       "    <tr>\n",
       "      <th>19540</th>\n",
       "      <td>8</td>\n",
       "      <td>420000000</td>\n",
       "      <td>900.0</td>\n",
       "      <td>2017-12-06</td>\n",
       "      <td>12</td>\n",
       "      <td>2.800000</td>\n",
       "      <td>25</td>\n",
       "      <td>409.700000</td>\n",
       "      <td>25</td>\n",
       "      <td>True</td>\n",
       "      <td>...</td>\n",
       "      <td>3001.0</td>\n",
       "      <td>2</td>\n",
       "      <td>318.0</td>\n",
       "      <td>106</td>\n",
       "      <td>466666.666667</td>\n",
       "      <td>СР</td>\n",
       "      <td>12</td>\n",
       "      <td>2017</td>\n",
       "      <td>Последний этаж</td>\n",
       "      <td>8</td>\n",
       "    </tr>\n",
       "    <tr>\n",
       "      <th>20791</th>\n",
       "      <td>0</td>\n",
       "      <td>24000000</td>\n",
       "      <td>250.0</td>\n",
       "      <td>2019-04-23</td>\n",
       "      <td>9</td>\n",
       "      <td>3.200000</td>\n",
       "      <td>5</td>\n",
       "      <td>160.600000</td>\n",
       "      <td>3</td>\n",
       "      <td>True</td>\n",
       "      <td>...</td>\n",
       "      <td>352.0</td>\n",
       "      <td>0</td>\n",
       "      <td>3001.0</td>\n",
       "      <td>-1</td>\n",
       "      <td>96000.000000</td>\n",
       "      <td>ВТ</td>\n",
       "      <td>4</td>\n",
       "      <td>2019</td>\n",
       "      <td>Другое</td>\n",
       "      <td>10</td>\n",
       "    </tr>\n",
       "    <tr>\n",
       "      <th>20829</th>\n",
       "      <td>6</td>\n",
       "      <td>28659000</td>\n",
       "      <td>245.4</td>\n",
       "      <td>2016-03-31</td>\n",
       "      <td>14</td>\n",
       "      <td>2.771499</td>\n",
       "      <td>4</td>\n",
       "      <td>168.300000</td>\n",
       "      <td>2</td>\n",
       "      <td>True</td>\n",
       "      <td>...</td>\n",
       "      <td>541.0</td>\n",
       "      <td>2</td>\n",
       "      <td>118.0</td>\n",
       "      <td>95</td>\n",
       "      <td>116784.841076</td>\n",
       "      <td>ЧТ</td>\n",
       "      <td>3</td>\n",
       "      <td>2016</td>\n",
       "      <td>Другое</td>\n",
       "      <td>3</td>\n",
       "    </tr>\n",
       "  </tbody>\n",
       "</table>\n",
       "<p>19 rows × 28 columns</p>\n",
       "</div>"
      ],
      "text/plain": [
       "       total_images  last_price  total_area first_day_exposition  rooms  \\\n",
       "648               3    17500000       183.7           2018-07-01     11   \n",
       "866               5    25000000       363.0           2017-12-23     14   \n",
       "4149              6    23000000       272.6           2018-01-11     10   \n",
       "5358             20    65000000       590.0           2019-02-14     15   \n",
       "8822             14    49968900       398.0           2017-07-12      9   \n",
       "8860             12    17000000       235.0           2018-07-14      9   \n",
       "9550             10    23500000       313.0           2017-02-13      9   \n",
       "9688              8    33000000       194.1           2017-02-07     11   \n",
       "13019             0    22250000       249.9           2019-04-23      9   \n",
       "13397            14    19500000       309.7           2016-02-03      9   \n",
       "14498             6    32250000       374.6           2018-06-09     19   \n",
       "15151            15    88000000       400.0           2019-03-27      9   \n",
       "16915            14    29000000       292.2           2017-01-12      9   \n",
       "18119             4    15500000       216.1           2016-07-04     10   \n",
       "18848             6    28500000       270.0           2015-03-02     16   \n",
       "18891            11    40000000       290.0           2016-06-21     10   \n",
       "19540             8   420000000       900.0           2017-12-06     12   \n",
       "20791             0    24000000       250.0           2019-04-23      9   \n",
       "20829             6    28659000       245.4           2016-03-31     14   \n",
       "\n",
       "       ceiling_height  floors_total  living_area  floor  is_apartment  ...  \\\n",
       "648          3.400000             7   138.800000      7          True  ...   \n",
       "866          3.160000             5   222.000000      4          True  ...   \n",
       "4149         3.140000             7   145.900000      7          True  ...   \n",
       "5358         3.500000             6   409.000000      3          True  ...   \n",
       "8822         3.000000             2   160.100000      1         False  ...   \n",
       "8860         3.000000             6   190.257143      3          True  ...   \n",
       "9550         3.200000             6   179.200000      5          True  ...   \n",
       "9688         3.430000             5   129.000000      2          True  ...   \n",
       "13019        3.200000             5   157.000000      5          True  ...   \n",
       "13397        2.771499             5   199.000000      5          True  ...   \n",
       "14498        2.771499             5   264.500000      2          True  ...   \n",
       "15151        2.500000             2   250.000000      1          True  ...   \n",
       "16915        3.350000             5   225.900000      4          True  ...   \n",
       "18119        3.150000             5   161.400000      2          True  ...   \n",
       "18848        3.000000             4   180.000000      4          True  ...   \n",
       "18891        3.500000             6   189.400000      6          True  ...   \n",
       "19540        2.800000            25   409.700000     25          True  ...   \n",
       "20791        3.200000             5   160.600000      3          True  ...   \n",
       "20829        2.771499             4   168.300000      2          True  ...   \n",
       "\n",
       "       parks_nearest  ponds_around3000  ponds_nearest  days_exposition  \\\n",
       "648           3001.0                 0         3001.0               -1   \n",
       "866           3001.0                 2          435.0              418   \n",
       "4149           191.0                 1          531.0               -1   \n",
       "5358           767.0                 0         3001.0               14   \n",
       "8822           471.0                 2          440.0              471   \n",
       "8860           346.0                 0         3001.0               90   \n",
       "9550           146.0                 0         3001.0               -1   \n",
       "9688           686.0                 2           66.0              813   \n",
       "13019          352.0                 0         3001.0               -1   \n",
       "13397          352.0                 0         3001.0              468   \n",
       "14498         3001.0                 2          548.0              114   \n",
       "15151          315.0                 1          578.0               -1   \n",
       "16915          263.0                 0         3001.0              825   \n",
       "18119          368.0                 0         3001.0               11   \n",
       "18848          516.0                 0         3001.0             1365   \n",
       "18891          316.0                 1          227.0               77   \n",
       "19540         3001.0                 2          318.0              106   \n",
       "20791          352.0                 0         3001.0               -1   \n",
       "20829          541.0                 2          118.0               95   \n",
       "\n",
       "            1m_price  day_of_week  month  year      floor_type  \\\n",
       "648     95264.017420           ВС      7  2018  Последний этаж   \n",
       "866     68870.523416           СБ     12  2017          Другое   \n",
       "4149    84372.707263           ЧТ      1  2018  Последний этаж   \n",
       "5358   110169.491525           ЧТ      2  2019          Другое   \n",
       "8822   125550.000000           СР      7  2017     Первый этаж   \n",
       "8860    72340.425532           СБ      7  2018          Другое   \n",
       "9550    75079.872204           ПН      2  2017          Другое   \n",
       "9688   170015.455951           ВТ      2  2017          Другое   \n",
       "13019   89035.614246           ВТ      4  2019  Последний этаж   \n",
       "13397   62964.158863           СР      2  2016  Последний этаж   \n",
       "14498   86091.831287           СБ      6  2018          Другое   \n",
       "15151  220000.000000           СР      3  2019     Первый этаж   \n",
       "16915   99247.091034           ЧТ      1  2017          Другое   \n",
       "18119   71726.052753           ПН      7  2016          Другое   \n",
       "18848  105555.555556           ПН      3  2015  Последний этаж   \n",
       "18891  137931.034483           ВТ      6  2016  Последний этаж   \n",
       "19540  466666.666667           СР     12  2017  Последний этаж   \n",
       "20791   96000.000000           ВТ      4  2019          Другое   \n",
       "20829  116784.841076           ЧТ      3  2016          Другое   \n",
       "\n",
       "       city_center_nearest_km  \n",
       "648                         4  \n",
       "866                         8  \n",
       "4149                       13  \n",
       "5358                        5  \n",
       "8822                       17  \n",
       "8860                        6  \n",
       "9550                       11  \n",
       "9688                        2  \n",
       "13019                      10  \n",
       "13397                      10  \n",
       "14498                       4  \n",
       "15151                       3  \n",
       "16915                       6  \n",
       "18119                       5  \n",
       "18848                       5  \n",
       "18891                       5  \n",
       "19540                       8  \n",
       "20791                      10  \n",
       "20829                       3  \n",
       "\n",
       "[19 rows x 28 columns]"
      ]
     },
     "execution_count": 21,
     "metadata": {},
     "output_type": "execute_result"
    },
    {
     "data": {
      "image/png": "[encoded data removed]",
      "text/plain": [
       "<Figure size 432x288 with 1 Axes>"
      ]
     },
     "metadata": {
      "needs_background": "light"
     },
     "output_type": "display_data"
    },
    {
     "data": {
      "image/png": "[encoded data removed]",
      "text/plain": [
       "<Figure size 432x288 with 1 Axes>"
      ]
     },
     "metadata": {
      "needs_background": "light"
     },
     "output_type": "display_data"
    }
   ],
   "source": [
    "##### ящик с усами для количества комнат\n",
    "data.boxplot(column='rooms')\n",
    "\n",
    "# гистограмма для количества комнат\n",
    "data.hist(column='rooms',bins=25)\n",
    "\n",
    "# числовое распределение данных\n",
    "print(data['rooms'].describe())\n",
    "\n",
    "# квартиры с количеством комнат более 8\n",
    "data.query('rooms > 8')"
   ]
  },
  {
   "cell_type": "markdown",
   "metadata": {},
   "source": [
    "Разброс по количеству комнат так же большой. 19ти комнатная квартира? Возможно. И площадь подходящая. Но таких предложений не так много и при анализе ими можно будет пренебречь. Они будут выглядеть как одиночные выбросы. В основном же, на рынке стандартно 1-2-3х-комнатные квартиры. "
   ]
  },
  {
   "cell_type": "code",
   "execution_count": 22,
   "metadata": {},
   "outputs": [
    {
     "name": "stdout",
     "output_type": "stream",
     "text": [
      "count    23699.000000\n",
      "mean         2.745861\n",
      "std          0.251050\n",
      "min          1.000000\n",
      "25%          2.600000\n",
      "50%          2.771499\n",
      "75%          2.771499\n",
      "max         14.000000\n",
      "Name: ceiling_height, dtype: float64\n"
     ]
    },
    {
     "data": {
      "text/html": [
       "<div>\n",
       "<style scoped>\n",
       "    .dataframe tbody tr th:only-of-type {\n",
       "        vertical-align: middle;\n",
       "    }\n",
       "\n",
       "    .dataframe tbody tr th {\n",
       "        vertical-align: top;\n",
       "    }\n",
       "\n",
       "    .dataframe thead th {\n",
       "        text-align: right;\n",
       "    }\n",
       "</style>\n",
       "<table border=\"1\" class=\"dataframe\">\n",
       "  <thead>\n",
       "    <tr style=\"text-align: right;\">\n",
       "      <th></th>\n",
       "      <th>total_images</th>\n",
       "      <th>last_price</th>\n",
       "      <th>total_area</th>\n",
       "      <th>first_day_exposition</th>\n",
       "      <th>rooms</th>\n",
       "      <th>ceiling_height</th>\n",
       "      <th>floors_total</th>\n",
       "      <th>living_area</th>\n",
       "      <th>floor</th>\n",
       "      <th>is_apartment</th>\n",
       "      <th>...</th>\n",
       "      <th>parks_nearest</th>\n",
       "      <th>ponds_around3000</th>\n",
       "      <th>ponds_nearest</th>\n",
       "      <th>days_exposition</th>\n",
       "      <th>1m_price</th>\n",
       "      <th>day_of_week</th>\n",
       "      <th>month</th>\n",
       "      <th>year</th>\n",
       "      <th>floor_type</th>\n",
       "      <th>city_center_nearest_km</th>\n",
       "    </tr>\n",
       "  </thead>\n",
       "  <tbody>\n",
       "    <tr>\n",
       "      <th>3474</th>\n",
       "      <td>3</td>\n",
       "      <td>1400000</td>\n",
       "      <td>30.0</td>\n",
       "      <td>2018-03-16</td>\n",
       "      <td>1</td>\n",
       "      <td>8.00</td>\n",
       "      <td>5</td>\n",
       "      <td>15.3</td>\n",
       "      <td>2</td>\n",
       "      <td>False</td>\n",
       "      <td>...</td>\n",
       "      <td>3001.0</td>\n",
       "      <td>0</td>\n",
       "      <td>3001.0</td>\n",
       "      <td>125</td>\n",
       "      <td>46666.666667</td>\n",
       "      <td>ПТ</td>\n",
       "      <td>3</td>\n",
       "      <td>2018</td>\n",
       "      <td>Другое</td>\n",
       "      <td>0</td>\n",
       "    </tr>\n",
       "    <tr>\n",
       "      <th>5712</th>\n",
       "      <td>5</td>\n",
       "      <td>1500000</td>\n",
       "      <td>42.8</td>\n",
       "      <td>2017-08-14</td>\n",
       "      <td>2</td>\n",
       "      <td>1.20</td>\n",
       "      <td>2</td>\n",
       "      <td>27.5</td>\n",
       "      <td>1</td>\n",
       "      <td>True</td>\n",
       "      <td>...</td>\n",
       "      <td>3001.0</td>\n",
       "      <td>0</td>\n",
       "      <td>3001.0</td>\n",
       "      <td>248</td>\n",
       "      <td>35046.728972</td>\n",
       "      <td>ПН</td>\n",
       "      <td>8</td>\n",
       "      <td>2017</td>\n",
       "      <td>Первый этаж</td>\n",
       "      <td>0</td>\n",
       "    </tr>\n",
       "    <tr>\n",
       "      <th>5863</th>\n",
       "      <td>20</td>\n",
       "      <td>5650000</td>\n",
       "      <td>45.0</td>\n",
       "      <td>2018-08-15</td>\n",
       "      <td>1</td>\n",
       "      <td>8.30</td>\n",
       "      <td>16</td>\n",
       "      <td>19.3</td>\n",
       "      <td>14</td>\n",
       "      <td>True</td>\n",
       "      <td>...</td>\n",
       "      <td>3001.0</td>\n",
       "      <td>1</td>\n",
       "      <td>613.0</td>\n",
       "      <td>14</td>\n",
       "      <td>125555.555556</td>\n",
       "      <td>СР</td>\n",
       "      <td>8</td>\n",
       "      <td>2018</td>\n",
       "      <td>Другое</td>\n",
       "      <td>11</td>\n",
       "    </tr>\n",
       "    <tr>\n",
       "      <th>15061</th>\n",
       "      <td>19</td>\n",
       "      <td>5600000</td>\n",
       "      <td>56.4</td>\n",
       "      <td>2018-05-11</td>\n",
       "      <td>2</td>\n",
       "      <td>14.00</td>\n",
       "      <td>14</td>\n",
       "      <td>32.4</td>\n",
       "      <td>5</td>\n",
       "      <td>True</td>\n",
       "      <td>...</td>\n",
       "      <td>3001.0</td>\n",
       "      <td>0</td>\n",
       "      <td>3001.0</td>\n",
       "      <td>315</td>\n",
       "      <td>99290.780142</td>\n",
       "      <td>ПТ</td>\n",
       "      <td>5</td>\n",
       "      <td>2018</td>\n",
       "      <td>Другое</td>\n",
       "      <td>14</td>\n",
       "    </tr>\n",
       "    <tr>\n",
       "      <th>15743</th>\n",
       "      <td>14</td>\n",
       "      <td>5600000</td>\n",
       "      <td>67.0</td>\n",
       "      <td>2016-11-11</td>\n",
       "      <td>3</td>\n",
       "      <td>8.00</td>\n",
       "      <td>16</td>\n",
       "      <td>41.0</td>\n",
       "      <td>1</td>\n",
       "      <td>True</td>\n",
       "      <td>...</td>\n",
       "      <td>723.0</td>\n",
       "      <td>0</td>\n",
       "      <td>3001.0</td>\n",
       "      <td>474</td>\n",
       "      <td>83582.089552</td>\n",
       "      <td>ПТ</td>\n",
       "      <td>11</td>\n",
       "      <td>2016</td>\n",
       "      <td>Первый этаж</td>\n",
       "      <td>12</td>\n",
       "    </tr>\n",
       "    <tr>\n",
       "      <th>16934</th>\n",
       "      <td>5</td>\n",
       "      <td>4100000</td>\n",
       "      <td>40.0</td>\n",
       "      <td>2017-10-17</td>\n",
       "      <td>1</td>\n",
       "      <td>1.75</td>\n",
       "      <td>37</td>\n",
       "      <td>17.4</td>\n",
       "      <td>5</td>\n",
       "      <td>True</td>\n",
       "      <td>...</td>\n",
       "      <td>3001.0</td>\n",
       "      <td>3</td>\n",
       "      <td>80.0</td>\n",
       "      <td>71</td>\n",
       "      <td>102500.000000</td>\n",
       "      <td>ВТ</td>\n",
       "      <td>10</td>\n",
       "      <td>2017</td>\n",
       "      <td>Другое</td>\n",
       "      <td>21</td>\n",
       "    </tr>\n",
       "    <tr>\n",
       "      <th>17442</th>\n",
       "      <td>0</td>\n",
       "      <td>5350000</td>\n",
       "      <td>54.0</td>\n",
       "      <td>2015-06-16</td>\n",
       "      <td>2</td>\n",
       "      <td>8.00</td>\n",
       "      <td>5</td>\n",
       "      <td>29.0</td>\n",
       "      <td>2</td>\n",
       "      <td>True</td>\n",
       "      <td>...</td>\n",
       "      <td>3001.0</td>\n",
       "      <td>0</td>\n",
       "      <td>3001.0</td>\n",
       "      <td>469</td>\n",
       "      <td>99074.074074</td>\n",
       "      <td>ВТ</td>\n",
       "      <td>6</td>\n",
       "      <td>2015</td>\n",
       "      <td>Другое</td>\n",
       "      <td>29</td>\n",
       "    </tr>\n",
       "    <tr>\n",
       "      <th>22309</th>\n",
       "      <td>20</td>\n",
       "      <td>5300000</td>\n",
       "      <td>45.0</td>\n",
       "      <td>2017-09-30</td>\n",
       "      <td>1</td>\n",
       "      <td>10.30</td>\n",
       "      <td>16</td>\n",
       "      <td>15.5</td>\n",
       "      <td>15</td>\n",
       "      <td>True</td>\n",
       "      <td>...</td>\n",
       "      <td>440.0</td>\n",
       "      <td>2</td>\n",
       "      <td>450.0</td>\n",
       "      <td>136</td>\n",
       "      <td>117777.777778</td>\n",
       "      <td>СБ</td>\n",
       "      <td>9</td>\n",
       "      <td>2017</td>\n",
       "      <td>Другое</td>\n",
       "      <td>12</td>\n",
       "    </tr>\n",
       "    <tr>\n",
       "      <th>22590</th>\n",
       "      <td>16</td>\n",
       "      <td>6000000</td>\n",
       "      <td>55.0</td>\n",
       "      <td>2018-10-31</td>\n",
       "      <td>2</td>\n",
       "      <td>1.00</td>\n",
       "      <td>12</td>\n",
       "      <td>32.4</td>\n",
       "      <td>7</td>\n",
       "      <td>True</td>\n",
       "      <td>...</td>\n",
       "      <td>293.0</td>\n",
       "      <td>2</td>\n",
       "      <td>289.0</td>\n",
       "      <td>13</td>\n",
       "      <td>109090.909091</td>\n",
       "      <td>СР</td>\n",
       "      <td>10</td>\n",
       "      <td>2018</td>\n",
       "      <td>Другое</td>\n",
       "      <td>15</td>\n",
       "    </tr>\n",
       "    <tr>\n",
       "      <th>22869</th>\n",
       "      <td>0</td>\n",
       "      <td>15000000</td>\n",
       "      <td>25.0</td>\n",
       "      <td>2018-07-25</td>\n",
       "      <td>1</td>\n",
       "      <td>10.00</td>\n",
       "      <td>5</td>\n",
       "      <td>14.0</td>\n",
       "      <td>5</td>\n",
       "      <td>True</td>\n",
       "      <td>...</td>\n",
       "      <td>223.0</td>\n",
       "      <td>3</td>\n",
       "      <td>30.0</td>\n",
       "      <td>19</td>\n",
       "      <td>600000.000000</td>\n",
       "      <td>СР</td>\n",
       "      <td>7</td>\n",
       "      <td>2018</td>\n",
       "      <td>Последний этаж</td>\n",
       "      <td>9</td>\n",
       "    </tr>\n",
       "  </tbody>\n",
       "</table>\n",
       "<p>10 rows × 28 columns</p>\n",
       "</div>"
      ],
      "text/plain": [
       "       total_images  last_price  total_area first_day_exposition  rooms  \\\n",
       "3474              3     1400000        30.0           2018-03-16      1   \n",
       "5712              5     1500000        42.8           2017-08-14      2   \n",
       "5863             20     5650000        45.0           2018-08-15      1   \n",
       "15061            19     5600000        56.4           2018-05-11      2   \n",
       "15743            14     5600000        67.0           2016-11-11      3   \n",
       "16934             5     4100000        40.0           2017-10-17      1   \n",
       "17442             0     5350000        54.0           2015-06-16      2   \n",
       "22309            20     5300000        45.0           2017-09-30      1   \n",
       "22590            16     6000000        55.0           2018-10-31      2   \n",
       "22869             0    15000000        25.0           2018-07-25      1   \n",
       "\n",
       "       ceiling_height  floors_total  living_area  floor  is_apartment  ...  \\\n",
       "3474             8.00             5         15.3      2         False  ...   \n",
       "5712             1.20             2         27.5      1          True  ...   \n",
       "5863             8.30            16         19.3     14          True  ...   \n",
       "15061           14.00            14         32.4      5          True  ...   \n",
       "15743            8.00            16         41.0      1          True  ...   \n",
       "16934            1.75            37         17.4      5          True  ...   \n",
       "17442            8.00             5         29.0      2          True  ...   \n",
       "22309           10.30            16         15.5     15          True  ...   \n",
       "22590            1.00            12         32.4      7          True  ...   \n",
       "22869           10.00             5         14.0      5          True  ...   \n",
       "\n",
       "       parks_nearest  ponds_around3000  ponds_nearest  days_exposition  \\\n",
       "3474          3001.0                 0         3001.0              125   \n",
       "5712          3001.0                 0         3001.0              248   \n",
       "5863          3001.0                 1          613.0               14   \n",
       "15061         3001.0                 0         3001.0              315   \n",
       "15743          723.0                 0         3001.0              474   \n",
       "16934         3001.0                 3           80.0               71   \n",
       "17442         3001.0                 0         3001.0              469   \n",
       "22309          440.0                 2          450.0              136   \n",
       "22590          293.0                 2          289.0               13   \n",
       "22869          223.0                 3           30.0               19   \n",
       "\n",
       "            1m_price  day_of_week  month  year      floor_type  \\\n",
       "3474    46666.666667           ПТ      3  2018          Другое   \n",
       "5712    35046.728972           ПН      8  2017     Первый этаж   \n",
       "5863   125555.555556           СР      8  2018          Другое   \n",
       "15061   99290.780142           ПТ      5  2018          Другое   \n",
       "15743   83582.089552           ПТ     11  2016     Первый этаж   \n",
       "16934  102500.000000           ВТ     10  2017          Другое   \n",
       "17442   99074.074074           ВТ      6  2015          Другое   \n",
       "22309  117777.777778           СБ      9  2017          Другое   \n",
       "22590  109090.909091           СР     10  2018          Другое   \n",
       "22869  600000.000000           СР      7  2018  Последний этаж   \n",
       "\n",
       "       city_center_nearest_km  \n",
       "3474                        0  \n",
       "5712                        0  \n",
       "5863                       11  \n",
       "15061                      14  \n",
       "15743                      12  \n",
       "16934                      21  \n",
       "17442                      29  \n",
       "22309                      12  \n",
       "22590                      15  \n",
       "22869                       9  \n",
       "\n",
       "[10 rows x 28 columns]"
      ]
     },
     "execution_count": 22,
     "metadata": {},
     "output_type": "execute_result"
    },
    {
     "data": {
      "image/png": "[encoded data removed]",
      "text/plain": [
       "<Figure size 432x288 with 1 Axes>"
      ]
     },
     "metadata": {
      "needs_background": "light"
     },
     "output_type": "display_data"
    },
    {
     "data": {
      "image/png": "[encoded data removed]",
      "text/plain": [
       "<Figure size 432x288 with 1 Axes>"
      ]
     },
     "metadata": {
      "needs_background": "light"
     },
     "output_type": "display_data"
    }
   ],
   "source": [
    "# ящик с усами для высоты потолков\n",
    "data.boxplot(column='ceiling_height')\n",
    "\n",
    "# гистограмма для высот потолков\n",
    "data.hist(column='ceiling_height',bins=50)\n",
    "\n",
    "# числовое распределение данных\n",
    "print(data['ceiling_height'].describe())\n",
    "\n",
    "# просмотрим квартиры с аномальными потолками (более 6м или менее 2м)\n",
    "data.query('ceiling_height > 6 or ceiling_height < 2')\n"
   ]
  },
  {
   "cell_type": "markdown",
   "metadata": {},
   "source": [
    "Даже несмотря на то, что во время предобработки высоты потолков более 19 метров были понижены на один порядок, всё равно остались аномальные значения как в большую сторону >6м так и в меньшую <2м\n",
    "Пока оставляем, но не забываем о них. В целом, высота потолков соответствует строительным нормам."
   ]
  },
  {
   "cell_type": "code",
   "execution_count": 23,
   "metadata": {},
   "outputs": [
    {
     "name": "stdout",
     "output_type": "stream",
     "text": [
      "count      23699\n",
      "unique         3\n",
      "top       Другое\n",
      "freq       17474\n",
      "Name: floor_type, dtype: object\n"
     ]
    },
    {
     "data": {
      "image/png": "[encoded data removed]",
      "text/plain": [
       "<Figure size 432x288 with 1 Axes>"
      ]
     },
     "metadata": {
      "needs_background": "light"
     },
     "output_type": "display_data"
    }
   ],
   "source": [
    "# Гистограмма для типов этажей квартир\n",
    "data['floor_type'].hist(bins=5)\n",
    "\n",
    "# числовое распределение данных\n",
    "print(data['floor_type'].describe())"
   ]
  },
  {
   "cell_type": "markdown",
   "metadata": {},
   "source": [
    "Тут ничего удивительного. Естественно, что квартир не на первом и не на последнем этажах больше не в один и не в 2 раза.\n",
    "И продается их больше. Поэтому распределение вполне ожидаемое."
   ]
  },
  {
   "cell_type": "code",
   "execution_count": 24,
   "metadata": {},
   "outputs": [
    {
     "name": "stdout",
     "output_type": "stream",
     "text": [
      "count    23699.000000\n",
      "mean        10.635090\n",
      "std          6.616396\n",
      "min          0.000000\n",
      "25%          5.000000\n",
      "50%          9.000000\n",
      "75%         16.000000\n",
      "max         60.000000\n",
      "Name: floors_total, dtype: float64\n"
     ]
    },
    {
     "data": {
      "text/html": [
       "<div>\n",
       "<style scoped>\n",
       "    .dataframe tbody tr th:only-of-type {\n",
       "        vertical-align: middle;\n",
       "    }\n",
       "\n",
       "    .dataframe tbody tr th {\n",
       "        vertical-align: top;\n",
       "    }\n",
       "\n",
       "    .dataframe thead th {\n",
       "        text-align: right;\n",
       "    }\n",
       "</style>\n",
       "<table border=\"1\" class=\"dataframe\">\n",
       "  <thead>\n",
       "    <tr style=\"text-align: right;\">\n",
       "      <th></th>\n",
       "      <th>total_images</th>\n",
       "      <th>last_price</th>\n",
       "      <th>total_area</th>\n",
       "      <th>first_day_exposition</th>\n",
       "      <th>rooms</th>\n",
       "      <th>ceiling_height</th>\n",
       "      <th>floors_total</th>\n",
       "      <th>living_area</th>\n",
       "      <th>floor</th>\n",
       "      <th>is_apartment</th>\n",
       "      <th>...</th>\n",
       "      <th>parks_nearest</th>\n",
       "      <th>ponds_around3000</th>\n",
       "      <th>ponds_nearest</th>\n",
       "      <th>days_exposition</th>\n",
       "      <th>1m_price</th>\n",
       "      <th>day_of_week</th>\n",
       "      <th>month</th>\n",
       "      <th>year</th>\n",
       "      <th>floor_type</th>\n",
       "      <th>city_center_nearest_km</th>\n",
       "    </tr>\n",
       "  </thead>\n",
       "  <tbody>\n",
       "    <tr>\n",
       "      <th>397</th>\n",
       "      <td>15</td>\n",
       "      <td>5990000</td>\n",
       "      <td>54.0</td>\n",
       "      <td>2018-03-22</td>\n",
       "      <td>2</td>\n",
       "      <td>2.771499</td>\n",
       "      <td>36</td>\n",
       "      <td>21.400000</td>\n",
       "      <td>28</td>\n",
       "      <td>True</td>\n",
       "      <td>...</td>\n",
       "      <td>3001.0</td>\n",
       "      <td>3</td>\n",
       "      <td>80.0</td>\n",
       "      <td>11</td>\n",
       "      <td>110925.925926</td>\n",
       "      <td>ЧТ</td>\n",
       "      <td>3</td>\n",
       "      <td>2018</td>\n",
       "      <td>Другое</td>\n",
       "      <td>21</td>\n",
       "    </tr>\n",
       "    <tr>\n",
       "      <th>871</th>\n",
       "      <td>14</td>\n",
       "      <td>7777777</td>\n",
       "      <td>75.0</td>\n",
       "      <td>2017-11-16</td>\n",
       "      <td>2</td>\n",
       "      <td>2.771499</td>\n",
       "      <td>35</td>\n",
       "      <td>40.500000</td>\n",
       "      <td>23</td>\n",
       "      <td>True</td>\n",
       "      <td>...</td>\n",
       "      <td>3001.0</td>\n",
       "      <td>3</td>\n",
       "      <td>80.0</td>\n",
       "      <td>169</td>\n",
       "      <td>103703.693333</td>\n",
       "      <td>ЧТ</td>\n",
       "      <td>11</td>\n",
       "      <td>2017</td>\n",
       "      <td>Другое</td>\n",
       "      <td>21</td>\n",
       "    </tr>\n",
       "    <tr>\n",
       "      <th>1060</th>\n",
       "      <td>10</td>\n",
       "      <td>5200000</td>\n",
       "      <td>50.0</td>\n",
       "      <td>2015-11-06</td>\n",
       "      <td>2</td>\n",
       "      <td>2.771499</td>\n",
       "      <td>35</td>\n",
       "      <td>39.000000</td>\n",
       "      <td>15</td>\n",
       "      <td>False</td>\n",
       "      <td>...</td>\n",
       "      <td>3001.0</td>\n",
       "      <td>3</td>\n",
       "      <td>80.0</td>\n",
       "      <td>281</td>\n",
       "      <td>104000.000000</td>\n",
       "      <td>ПТ</td>\n",
       "      <td>11</td>\n",
       "      <td>2015</td>\n",
       "      <td>Другое</td>\n",
       "      <td>21</td>\n",
       "    </tr>\n",
       "    <tr>\n",
       "      <th>1697</th>\n",
       "      <td>11</td>\n",
       "      <td>3550000</td>\n",
       "      <td>28.0</td>\n",
       "      <td>2018-02-08</td>\n",
       "      <td>1</td>\n",
       "      <td>2.650000</td>\n",
       "      <td>34</td>\n",
       "      <td>18.000000</td>\n",
       "      <td>23</td>\n",
       "      <td>True</td>\n",
       "      <td>...</td>\n",
       "      <td>3001.0</td>\n",
       "      <td>3</td>\n",
       "      <td>80.0</td>\n",
       "      <td>410</td>\n",
       "      <td>126785.714286</td>\n",
       "      <td>ЧТ</td>\n",
       "      <td>2</td>\n",
       "      <td>2018</td>\n",
       "      <td>Другое</td>\n",
       "      <td>21</td>\n",
       "    </tr>\n",
       "    <tr>\n",
       "      <th>1917</th>\n",
       "      <td>13</td>\n",
       "      <td>10150000</td>\n",
       "      <td>74.0</td>\n",
       "      <td>2017-11-17</td>\n",
       "      <td>2</td>\n",
       "      <td>2.800000</td>\n",
       "      <td>35</td>\n",
       "      <td>34.400000</td>\n",
       "      <td>30</td>\n",
       "      <td>True</td>\n",
       "      <td>...</td>\n",
       "      <td>3001.0</td>\n",
       "      <td>3</td>\n",
       "      <td>80.0</td>\n",
       "      <td>-1</td>\n",
       "      <td>137162.162162</td>\n",
       "      <td>ПТ</td>\n",
       "      <td>11</td>\n",
       "      <td>2017</td>\n",
       "      <td>Другое</td>\n",
       "      <td>21</td>\n",
       "    </tr>\n",
       "    <tr>\n",
       "      <th>2253</th>\n",
       "      <td>12</td>\n",
       "      <td>3800000</td>\n",
       "      <td>45.5</td>\n",
       "      <td>2018-06-28</td>\n",
       "      <td>2</td>\n",
       "      <td>2.880000</td>\n",
       "      <td>60</td>\n",
       "      <td>27.400000</td>\n",
       "      <td>4</td>\n",
       "      <td>True</td>\n",
       "      <td>...</td>\n",
       "      <td>342.0</td>\n",
       "      <td>3</td>\n",
       "      <td>614.0</td>\n",
       "      <td>166</td>\n",
       "      <td>83516.483516</td>\n",
       "      <td>ЧТ</td>\n",
       "      <td>6</td>\n",
       "      <td>2018</td>\n",
       "      <td>Другое</td>\n",
       "      <td>50</td>\n",
       "    </tr>\n",
       "    <tr>\n",
       "      <th>2966</th>\n",
       "      <td>9</td>\n",
       "      <td>4300000</td>\n",
       "      <td>37.0</td>\n",
       "      <td>2017-08-08</td>\n",
       "      <td>1</td>\n",
       "      <td>2.771499</td>\n",
       "      <td>35</td>\n",
       "      <td>14.000000</td>\n",
       "      <td>15</td>\n",
       "      <td>True</td>\n",
       "      <td>...</td>\n",
       "      <td>3001.0</td>\n",
       "      <td>3</td>\n",
       "      <td>80.0</td>\n",
       "      <td>50</td>\n",
       "      <td>116216.216216</td>\n",
       "      <td>ВТ</td>\n",
       "      <td>8</td>\n",
       "      <td>2017</td>\n",
       "      <td>Другое</td>\n",
       "      <td>21</td>\n",
       "    </tr>\n",
       "    <tr>\n",
       "      <th>4855</th>\n",
       "      <td>12</td>\n",
       "      <td>5500000</td>\n",
       "      <td>50.0</td>\n",
       "      <td>2017-06-22</td>\n",
       "      <td>1</td>\n",
       "      <td>2.800000</td>\n",
       "      <td>35</td>\n",
       "      <td>22.000000</td>\n",
       "      <td>4</td>\n",
       "      <td>True</td>\n",
       "      <td>...</td>\n",
       "      <td>609.0</td>\n",
       "      <td>3</td>\n",
       "      <td>145.0</td>\n",
       "      <td>537</td>\n",
       "      <td>110000.000000</td>\n",
       "      <td>ЧТ</td>\n",
       "      <td>6</td>\n",
       "      <td>2017</td>\n",
       "      <td>Другое</td>\n",
       "      <td>21</td>\n",
       "    </tr>\n",
       "    <tr>\n",
       "      <th>5749</th>\n",
       "      <td>20</td>\n",
       "      <td>3590000</td>\n",
       "      <td>25.0</td>\n",
       "      <td>2017-08-30</td>\n",
       "      <td>0</td>\n",
       "      <td>2.800000</td>\n",
       "      <td>35</td>\n",
       "      <td>18.865246</td>\n",
       "      <td>26</td>\n",
       "      <td>True</td>\n",
       "      <td>...</td>\n",
       "      <td>3001.0</td>\n",
       "      <td>3</td>\n",
       "      <td>80.0</td>\n",
       "      <td>198</td>\n",
       "      <td>143600.000000</td>\n",
       "      <td>СР</td>\n",
       "      <td>8</td>\n",
       "      <td>2017</td>\n",
       "      <td>Другое</td>\n",
       "      <td>21</td>\n",
       "    </tr>\n",
       "    <tr>\n",
       "      <th>5807</th>\n",
       "      <td>17</td>\n",
       "      <td>8150000</td>\n",
       "      <td>80.0</td>\n",
       "      <td>2019-01-09</td>\n",
       "      <td>2</td>\n",
       "      <td>2.700000</td>\n",
       "      <td>36</td>\n",
       "      <td>41.000000</td>\n",
       "      <td>13</td>\n",
       "      <td>True</td>\n",
       "      <td>...</td>\n",
       "      <td>3001.0</td>\n",
       "      <td>3</td>\n",
       "      <td>80.0</td>\n",
       "      <td>38</td>\n",
       "      <td>101875.000000</td>\n",
       "      <td>СР</td>\n",
       "      <td>1</td>\n",
       "      <td>2019</td>\n",
       "      <td>Другое</td>\n",
       "      <td>21</td>\n",
       "    </tr>\n",
       "    <tr>\n",
       "      <th>5808</th>\n",
       "      <td>12</td>\n",
       "      <td>4590000</td>\n",
       "      <td>43.0</td>\n",
       "      <td>2018-10-19</td>\n",
       "      <td>1</td>\n",
       "      <td>2.771499</td>\n",
       "      <td>35</td>\n",
       "      <td>14.000000</td>\n",
       "      <td>11</td>\n",
       "      <td>True</td>\n",
       "      <td>...</td>\n",
       "      <td>3001.0</td>\n",
       "      <td>3</td>\n",
       "      <td>80.0</td>\n",
       "      <td>82</td>\n",
       "      <td>106744.186047</td>\n",
       "      <td>ПТ</td>\n",
       "      <td>10</td>\n",
       "      <td>2018</td>\n",
       "      <td>Другое</td>\n",
       "      <td>21</td>\n",
       "    </tr>\n",
       "    <tr>\n",
       "      <th>7236</th>\n",
       "      <td>10</td>\n",
       "      <td>4599000</td>\n",
       "      <td>42.0</td>\n",
       "      <td>2019-01-10</td>\n",
       "      <td>1</td>\n",
       "      <td>2.771499</td>\n",
       "      <td>35</td>\n",
       "      <td>15.000000</td>\n",
       "      <td>12</td>\n",
       "      <td>True</td>\n",
       "      <td>...</td>\n",
       "      <td>3001.0</td>\n",
       "      <td>3</td>\n",
       "      <td>80.0</td>\n",
       "      <td>72</td>\n",
       "      <td>109500.000000</td>\n",
       "      <td>ЧТ</td>\n",
       "      <td>1</td>\n",
       "      <td>2019</td>\n",
       "      <td>Другое</td>\n",
       "      <td>21</td>\n",
       "    </tr>\n",
       "    <tr>\n",
       "      <th>8496</th>\n",
       "      <td>20</td>\n",
       "      <td>7500000</td>\n",
       "      <td>73.3</td>\n",
       "      <td>2017-05-18</td>\n",
       "      <td>3</td>\n",
       "      <td>2.771499</td>\n",
       "      <td>35</td>\n",
       "      <td>28.000000</td>\n",
       "      <td>27</td>\n",
       "      <td>True</td>\n",
       "      <td>...</td>\n",
       "      <td>3001.0</td>\n",
       "      <td>3</td>\n",
       "      <td>80.0</td>\n",
       "      <td>250</td>\n",
       "      <td>102319.236016</td>\n",
       "      <td>ЧТ</td>\n",
       "      <td>5</td>\n",
       "      <td>2017</td>\n",
       "      <td>Другое</td>\n",
       "      <td>21</td>\n",
       "    </tr>\n",
       "    <tr>\n",
       "      <th>9186</th>\n",
       "      <td>7</td>\n",
       "      <td>6500000</td>\n",
       "      <td>49.1</td>\n",
       "      <td>2019-04-12</td>\n",
       "      <td>1</td>\n",
       "      <td>2.500000</td>\n",
       "      <td>35</td>\n",
       "      <td>31.000000</td>\n",
       "      <td>3</td>\n",
       "      <td>True</td>\n",
       "      <td>...</td>\n",
       "      <td>3001.0</td>\n",
       "      <td>3</td>\n",
       "      <td>80.0</td>\n",
       "      <td>3</td>\n",
       "      <td>132382.892057</td>\n",
       "      <td>ПТ</td>\n",
       "      <td>4</td>\n",
       "      <td>2019</td>\n",
       "      <td>Другое</td>\n",
       "      <td>21</td>\n",
       "    </tr>\n",
       "    <tr>\n",
       "      <th>9370</th>\n",
       "      <td>12</td>\n",
       "      <td>7390000</td>\n",
       "      <td>70.0</td>\n",
       "      <td>2017-02-21</td>\n",
       "      <td>2</td>\n",
       "      <td>2.700000</td>\n",
       "      <td>35</td>\n",
       "      <td>28.000000</td>\n",
       "      <td>3</td>\n",
       "      <td>False</td>\n",
       "      <td>...</td>\n",
       "      <td>3001.0</td>\n",
       "      <td>3</td>\n",
       "      <td>80.0</td>\n",
       "      <td>236</td>\n",
       "      <td>105571.428571</td>\n",
       "      <td>ВТ</td>\n",
       "      <td>2</td>\n",
       "      <td>2017</td>\n",
       "      <td>Другое</td>\n",
       "      <td>21</td>\n",
       "    </tr>\n",
       "    <tr>\n",
       "      <th>9579</th>\n",
       "      <td>9</td>\n",
       "      <td>3450000</td>\n",
       "      <td>24.8</td>\n",
       "      <td>2019-02-01</td>\n",
       "      <td>0</td>\n",
       "      <td>2.680000</td>\n",
       "      <td>35</td>\n",
       "      <td>16.000000</td>\n",
       "      <td>17</td>\n",
       "      <td>True</td>\n",
       "      <td>...</td>\n",
       "      <td>3001.0</td>\n",
       "      <td>3</td>\n",
       "      <td>80.0</td>\n",
       "      <td>45</td>\n",
       "      <td>139112.903226</td>\n",
       "      <td>ПТ</td>\n",
       "      <td>2</td>\n",
       "      <td>2019</td>\n",
       "      <td>Другое</td>\n",
       "      <td>21</td>\n",
       "    </tr>\n",
       "    <tr>\n",
       "      <th>11079</th>\n",
       "      <td>16</td>\n",
       "      <td>9200000</td>\n",
       "      <td>75.0</td>\n",
       "      <td>2019-02-22</td>\n",
       "      <td>2</td>\n",
       "      <td>2.700000</td>\n",
       "      <td>36</td>\n",
       "      <td>40.000000</td>\n",
       "      <td>29</td>\n",
       "      <td>True</td>\n",
       "      <td>...</td>\n",
       "      <td>3001.0</td>\n",
       "      <td>3</td>\n",
       "      <td>80.0</td>\n",
       "      <td>-1</td>\n",
       "      <td>122666.666667</td>\n",
       "      <td>ПТ</td>\n",
       "      <td>2</td>\n",
       "      <td>2019</td>\n",
       "      <td>Другое</td>\n",
       "      <td>21</td>\n",
       "    </tr>\n",
       "    <tr>\n",
       "      <th>11575</th>\n",
       "      <td>9</td>\n",
       "      <td>9900000</td>\n",
       "      <td>101.0</td>\n",
       "      <td>2016-04-28</td>\n",
       "      <td>3</td>\n",
       "      <td>2.771499</td>\n",
       "      <td>33</td>\n",
       "      <td>53.000000</td>\n",
       "      <td>32</td>\n",
       "      <td>False</td>\n",
       "      <td>...</td>\n",
       "      <td>3001.0</td>\n",
       "      <td>3</td>\n",
       "      <td>80.0</td>\n",
       "      <td>53</td>\n",
       "      <td>98019.801980</td>\n",
       "      <td>ЧТ</td>\n",
       "      <td>4</td>\n",
       "      <td>2016</td>\n",
       "      <td>Другое</td>\n",
       "      <td>21</td>\n",
       "    </tr>\n",
       "    <tr>\n",
       "      <th>12888</th>\n",
       "      <td>7</td>\n",
       "      <td>7600000</td>\n",
       "      <td>70.0</td>\n",
       "      <td>2016-11-18</td>\n",
       "      <td>3</td>\n",
       "      <td>2.700000</td>\n",
       "      <td>35</td>\n",
       "      <td>36.500000</td>\n",
       "      <td>27</td>\n",
       "      <td>True</td>\n",
       "      <td>...</td>\n",
       "      <td>3001.0</td>\n",
       "      <td>3</td>\n",
       "      <td>80.0</td>\n",
       "      <td>413</td>\n",
       "      <td>108571.428571</td>\n",
       "      <td>ПТ</td>\n",
       "      <td>11</td>\n",
       "      <td>2016</td>\n",
       "      <td>Другое</td>\n",
       "      <td>21</td>\n",
       "    </tr>\n",
       "    <tr>\n",
       "      <th>12960</th>\n",
       "      <td>20</td>\n",
       "      <td>6140000</td>\n",
       "      <td>54.0</td>\n",
       "      <td>2018-10-09</td>\n",
       "      <td>2</td>\n",
       "      <td>2.700000</td>\n",
       "      <td>35</td>\n",
       "      <td>26.600000</td>\n",
       "      <td>13</td>\n",
       "      <td>True</td>\n",
       "      <td>...</td>\n",
       "      <td>3001.0</td>\n",
       "      <td>3</td>\n",
       "      <td>80.0</td>\n",
       "      <td>155</td>\n",
       "      <td>113703.703704</td>\n",
       "      <td>ВТ</td>\n",
       "      <td>10</td>\n",
       "      <td>2018</td>\n",
       "      <td>Другое</td>\n",
       "      <td>21</td>\n",
       "    </tr>\n",
       "    <tr>\n",
       "      <th>13975</th>\n",
       "      <td>19</td>\n",
       "      <td>6990000</td>\n",
       "      <td>65.0</td>\n",
       "      <td>2018-10-06</td>\n",
       "      <td>2</td>\n",
       "      <td>2.771499</td>\n",
       "      <td>35</td>\n",
       "      <td>32.100000</td>\n",
       "      <td>23</td>\n",
       "      <td>True</td>\n",
       "      <td>...</td>\n",
       "      <td>3001.0</td>\n",
       "      <td>3</td>\n",
       "      <td>80.0</td>\n",
       "      <td>89</td>\n",
       "      <td>107538.461538</td>\n",
       "      <td>СБ</td>\n",
       "      <td>10</td>\n",
       "      <td>2018</td>\n",
       "      <td>Другое</td>\n",
       "      <td>21</td>\n",
       "    </tr>\n",
       "    <tr>\n",
       "      <th>14347</th>\n",
       "      <td>14</td>\n",
       "      <td>8595000</td>\n",
       "      <td>69.7</td>\n",
       "      <td>2018-09-26</td>\n",
       "      <td>2</td>\n",
       "      <td>2.771499</td>\n",
       "      <td>35</td>\n",
       "      <td>27.400000</td>\n",
       "      <td>26</td>\n",
       "      <td>True</td>\n",
       "      <td>...</td>\n",
       "      <td>3001.0</td>\n",
       "      <td>3</td>\n",
       "      <td>80.0</td>\n",
       "      <td>-1</td>\n",
       "      <td>123314.203730</td>\n",
       "      <td>СР</td>\n",
       "      <td>9</td>\n",
       "      <td>2018</td>\n",
       "      <td>Другое</td>\n",
       "      <td>21</td>\n",
       "    </tr>\n",
       "    <tr>\n",
       "      <th>15982</th>\n",
       "      <td>1</td>\n",
       "      <td>5900000</td>\n",
       "      <td>62.0</td>\n",
       "      <td>2015-03-01</td>\n",
       "      <td>2</td>\n",
       "      <td>2.771499</td>\n",
       "      <td>35</td>\n",
       "      <td>34.000000</td>\n",
       "      <td>9</td>\n",
       "      <td>False</td>\n",
       "      <td>...</td>\n",
       "      <td>3001.0</td>\n",
       "      <td>3</td>\n",
       "      <td>80.0</td>\n",
       "      <td>547</td>\n",
       "      <td>95161.290323</td>\n",
       "      <td>ВС</td>\n",
       "      <td>3</td>\n",
       "      <td>2015</td>\n",
       "      <td>Другое</td>\n",
       "      <td>21</td>\n",
       "    </tr>\n",
       "    <tr>\n",
       "      <th>16731</th>\n",
       "      <td>9</td>\n",
       "      <td>3978000</td>\n",
       "      <td>40.0</td>\n",
       "      <td>2018-09-24</td>\n",
       "      <td>1</td>\n",
       "      <td>2.650000</td>\n",
       "      <td>52</td>\n",
       "      <td>10.500000</td>\n",
       "      <td>18</td>\n",
       "      <td>True</td>\n",
       "      <td>...</td>\n",
       "      <td>793.0</td>\n",
       "      <td>0</td>\n",
       "      <td>3001.0</td>\n",
       "      <td>45</td>\n",
       "      <td>99450.000000</td>\n",
       "      <td>ПН</td>\n",
       "      <td>9</td>\n",
       "      <td>2018</td>\n",
       "      <td>Другое</td>\n",
       "      <td>13</td>\n",
       "    </tr>\n",
       "    <tr>\n",
       "      <th>16934</th>\n",
       "      <td>5</td>\n",
       "      <td>4100000</td>\n",
       "      <td>40.0</td>\n",
       "      <td>2017-10-17</td>\n",
       "      <td>1</td>\n",
       "      <td>1.750000</td>\n",
       "      <td>37</td>\n",
       "      <td>17.400000</td>\n",
       "      <td>5</td>\n",
       "      <td>True</td>\n",
       "      <td>...</td>\n",
       "      <td>3001.0</td>\n",
       "      <td>3</td>\n",
       "      <td>80.0</td>\n",
       "      <td>71</td>\n",
       "      <td>102500.000000</td>\n",
       "      <td>ВТ</td>\n",
       "      <td>10</td>\n",
       "      <td>2017</td>\n",
       "      <td>Другое</td>\n",
       "      <td>21</td>\n",
       "    </tr>\n",
       "    <tr>\n",
       "      <th>18218</th>\n",
       "      <td>4</td>\n",
       "      <td>9900000</td>\n",
       "      <td>101.0</td>\n",
       "      <td>2018-09-27</td>\n",
       "      <td>3</td>\n",
       "      <td>2.771499</td>\n",
       "      <td>35</td>\n",
       "      <td>53.400000</td>\n",
       "      <td>33</td>\n",
       "      <td>True</td>\n",
       "      <td>...</td>\n",
       "      <td>3001.0</td>\n",
       "      <td>3</td>\n",
       "      <td>72.0</td>\n",
       "      <td>7</td>\n",
       "      <td>98019.801980</td>\n",
       "      <td>ЧТ</td>\n",
       "      <td>9</td>\n",
       "      <td>2018</td>\n",
       "      <td>Другое</td>\n",
       "      <td>21</td>\n",
       "    </tr>\n",
       "    <tr>\n",
       "      <th>18617</th>\n",
       "      <td>8</td>\n",
       "      <td>7350000</td>\n",
       "      <td>68.5</td>\n",
       "      <td>2017-10-09</td>\n",
       "      <td>2</td>\n",
       "      <td>2.771499</td>\n",
       "      <td>35</td>\n",
       "      <td>27.000000</td>\n",
       "      <td>3</td>\n",
       "      <td>True</td>\n",
       "      <td>...</td>\n",
       "      <td>609.0</td>\n",
       "      <td>3</td>\n",
       "      <td>145.0</td>\n",
       "      <td>41</td>\n",
       "      <td>107299.270073</td>\n",
       "      <td>ПН</td>\n",
       "      <td>10</td>\n",
       "      <td>2017</td>\n",
       "      <td>Другое</td>\n",
       "      <td>21</td>\n",
       "    </tr>\n",
       "    <tr>\n",
       "      <th>18629</th>\n",
       "      <td>20</td>\n",
       "      <td>5700000</td>\n",
       "      <td>54.0</td>\n",
       "      <td>2017-12-08</td>\n",
       "      <td>1</td>\n",
       "      <td>2.771499</td>\n",
       "      <td>35</td>\n",
       "      <td>21.000000</td>\n",
       "      <td>31</td>\n",
       "      <td>True</td>\n",
       "      <td>...</td>\n",
       "      <td>3001.0</td>\n",
       "      <td>3</td>\n",
       "      <td>80.0</td>\n",
       "      <td>128</td>\n",
       "      <td>105555.555556</td>\n",
       "      <td>ПТ</td>\n",
       "      <td>12</td>\n",
       "      <td>2017</td>\n",
       "      <td>Другое</td>\n",
       "      <td>21</td>\n",
       "    </tr>\n",
       "    <tr>\n",
       "      <th>20938</th>\n",
       "      <td>18</td>\n",
       "      <td>9900000</td>\n",
       "      <td>100.9</td>\n",
       "      <td>2019-04-08</td>\n",
       "      <td>3</td>\n",
       "      <td>2.771499</td>\n",
       "      <td>35</td>\n",
       "      <td>53.400000</td>\n",
       "      <td>22</td>\n",
       "      <td>True</td>\n",
       "      <td>...</td>\n",
       "      <td>3001.0</td>\n",
       "      <td>3</td>\n",
       "      <td>80.0</td>\n",
       "      <td>-1</td>\n",
       "      <td>98116.947473</td>\n",
       "      <td>ПН</td>\n",
       "      <td>4</td>\n",
       "      <td>2019</td>\n",
       "      <td>Другое</td>\n",
       "      <td>21</td>\n",
       "    </tr>\n",
       "    <tr>\n",
       "      <th>21599</th>\n",
       "      <td>12</td>\n",
       "      <td>6200000</td>\n",
       "      <td>51.0</td>\n",
       "      <td>2017-08-27</td>\n",
       "      <td>2</td>\n",
       "      <td>2.771499</td>\n",
       "      <td>35</td>\n",
       "      <td>27.000000</td>\n",
       "      <td>13</td>\n",
       "      <td>True</td>\n",
       "      <td>...</td>\n",
       "      <td>3001.0</td>\n",
       "      <td>3</td>\n",
       "      <td>80.0</td>\n",
       "      <td>-1</td>\n",
       "      <td>121568.627451</td>\n",
       "      <td>ВС</td>\n",
       "      <td>8</td>\n",
       "      <td>2017</td>\n",
       "      <td>Другое</td>\n",
       "      <td>21</td>\n",
       "    </tr>\n",
       "    <tr>\n",
       "      <th>21809</th>\n",
       "      <td>20</td>\n",
       "      <td>10600000</td>\n",
       "      <td>77.0</td>\n",
       "      <td>2019-04-16</td>\n",
       "      <td>2</td>\n",
       "      <td>2.771499</td>\n",
       "      <td>35</td>\n",
       "      <td>39.000000</td>\n",
       "      <td>11</td>\n",
       "      <td>True</td>\n",
       "      <td>...</td>\n",
       "      <td>3001.0</td>\n",
       "      <td>3</td>\n",
       "      <td>80.0</td>\n",
       "      <td>-1</td>\n",
       "      <td>137662.337662</td>\n",
       "      <td>ВТ</td>\n",
       "      <td>4</td>\n",
       "      <td>2019</td>\n",
       "      <td>Другое</td>\n",
       "      <td>21</td>\n",
       "    </tr>\n",
       "    <tr>\n",
       "      <th>22946</th>\n",
       "      <td>14</td>\n",
       "      <td>7690000</td>\n",
       "      <td>75.0</td>\n",
       "      <td>2018-03-27</td>\n",
       "      <td>2</td>\n",
       "      <td>2.771499</td>\n",
       "      <td>35</td>\n",
       "      <td>40.000000</td>\n",
       "      <td>8</td>\n",
       "      <td>True</td>\n",
       "      <td>...</td>\n",
       "      <td>3001.0</td>\n",
       "      <td>3</td>\n",
       "      <td>80.0</td>\n",
       "      <td>-1</td>\n",
       "      <td>102533.333333</td>\n",
       "      <td>ВТ</td>\n",
       "      <td>3</td>\n",
       "      <td>2018</td>\n",
       "      <td>Другое</td>\n",
       "      <td>21</td>\n",
       "    </tr>\n",
       "  </tbody>\n",
       "</table>\n",
       "<p>32 rows × 28 columns</p>\n",
       "</div>"
      ],
      "text/plain": [
       "       total_images  last_price  total_area first_day_exposition  rooms  \\\n",
       "397              15     5990000        54.0           2018-03-22      2   \n",
       "871              14     7777777        75.0           2017-11-16      2   \n",
       "1060             10     5200000        50.0           2015-11-06      2   \n",
       "1697             11     3550000        28.0           2018-02-08      1   \n",
       "1917             13    10150000        74.0           2017-11-17      2   \n",
       "2253             12     3800000        45.5           2018-06-28      2   \n",
       "2966              9     4300000        37.0           2017-08-08      1   \n",
       "4855             12     5500000        50.0           2017-06-22      1   \n",
       "5749             20     3590000        25.0           2017-08-30      0   \n",
       "5807             17     8150000        80.0           2019-01-09      2   \n",
       "5808             12     4590000        43.0           2018-10-19      1   \n",
       "7236             10     4599000        42.0           2019-01-10      1   \n",
       "8496             20     7500000        73.3           2017-05-18      3   \n",
       "9186              7     6500000        49.1           2019-04-12      1   \n",
       "9370             12     7390000        70.0           2017-02-21      2   \n",
       "9579              9     3450000        24.8           2019-02-01      0   \n",
       "11079            16     9200000        75.0           2019-02-22      2   \n",
       "11575             9     9900000       101.0           2016-04-28      3   \n",
       "12888             7     7600000        70.0           2016-11-18      3   \n",
       "12960            20     6140000        54.0           2018-10-09      2   \n",
       "13975            19     6990000        65.0           2018-10-06      2   \n",
       "14347            14     8595000        69.7           2018-09-26      2   \n",
       "15982             1     5900000        62.0           2015-03-01      2   \n",
       "16731             9     3978000        40.0           2018-09-24      1   \n",
       "16934             5     4100000        40.0           2017-10-17      1   \n",
       "18218             4     9900000       101.0           2018-09-27      3   \n",
       "18617             8     7350000        68.5           2017-10-09      2   \n",
       "18629            20     5700000        54.0           2017-12-08      1   \n",
       "20938            18     9900000       100.9           2019-04-08      3   \n",
       "21599            12     6200000        51.0           2017-08-27      2   \n",
       "21809            20    10600000        77.0           2019-04-16      2   \n",
       "22946            14     7690000        75.0           2018-03-27      2   \n",
       "\n",
       "       ceiling_height  floors_total  living_area  floor  is_apartment  ...  \\\n",
       "397          2.771499            36    21.400000     28          True  ...   \n",
       "871          2.771499            35    40.500000     23          True  ...   \n",
       "1060         2.771499            35    39.000000     15         False  ...   \n",
       "1697         2.650000            34    18.000000     23          True  ...   \n",
       "1917         2.800000            35    34.400000     30          True  ...   \n",
       "2253         2.880000            60    27.400000      4          True  ...   \n",
       "2966         2.771499            35    14.000000     15          True  ...   \n",
       "4855         2.800000            35    22.000000      4          True  ...   \n",
       "5749         2.800000            35    18.865246     26          True  ...   \n",
       "5807         2.700000            36    41.000000     13          True  ...   \n",
       "5808         2.771499            35    14.000000     11          True  ...   \n",
       "7236         2.771499            35    15.000000     12          True  ...   \n",
       "8496         2.771499            35    28.000000     27          True  ...   \n",
       "9186         2.500000            35    31.000000      3          True  ...   \n",
       "9370         2.700000            35    28.000000      3         False  ...   \n",
       "9579         2.680000            35    16.000000     17          True  ...   \n",
       "11079        2.700000            36    40.000000     29          True  ...   \n",
       "11575        2.771499            33    53.000000     32         False  ...   \n",
       "12888        2.700000            35    36.500000     27          True  ...   \n",
       "12960        2.700000            35    26.600000     13          True  ...   \n",
       "13975        2.771499            35    32.100000     23          True  ...   \n",
       "14347        2.771499            35    27.400000     26          True  ...   \n",
       "15982        2.771499            35    34.000000      9         False  ...   \n",
       "16731        2.650000            52    10.500000     18          True  ...   \n",
       "16934        1.750000            37    17.400000      5          True  ...   \n",
       "18218        2.771499            35    53.400000     33          True  ...   \n",
       "18617        2.771499            35    27.000000      3          True  ...   \n",
       "18629        2.771499            35    21.000000     31          True  ...   \n",
       "20938        2.771499            35    53.400000     22          True  ...   \n",
       "21599        2.771499            35    27.000000     13          True  ...   \n",
       "21809        2.771499            35    39.000000     11          True  ...   \n",
       "22946        2.771499            35    40.000000      8          True  ...   \n",
       "\n",
       "       parks_nearest  ponds_around3000  ponds_nearest  days_exposition  \\\n",
       "397           3001.0                 3           80.0               11   \n",
       "871           3001.0                 3           80.0              169   \n",
       "1060          3001.0                 3           80.0              281   \n",
       "1697          3001.0                 3           80.0              410   \n",
       "1917          3001.0                 3           80.0               -1   \n",
       "2253           342.0                 3          614.0              166   \n",
       "2966          3001.0                 3           80.0               50   \n",
       "4855           609.0                 3          145.0              537   \n",
       "5749          3001.0                 3           80.0              198   \n",
       "5807          3001.0                 3           80.0               38   \n",
       "5808          3001.0                 3           80.0               82   \n",
       "7236          3001.0                 3           80.0               72   \n",
       "8496          3001.0                 3           80.0              250   \n",
       "9186          3001.0                 3           80.0                3   \n",
       "9370          3001.0                 3           80.0              236   \n",
       "9579          3001.0                 3           80.0               45   \n",
       "11079         3001.0                 3           80.0               -1   \n",
       "11575         3001.0                 3           80.0               53   \n",
       "12888         3001.0                 3           80.0              413   \n",
       "12960         3001.0                 3           80.0              155   \n",
       "13975         3001.0                 3           80.0               89   \n",
       "14347         3001.0                 3           80.0               -1   \n",
       "15982         3001.0                 3           80.0              547   \n",
       "16731          793.0                 0         3001.0               45   \n",
       "16934         3001.0                 3           80.0               71   \n",
       "18218         3001.0                 3           72.0                7   \n",
       "18617          609.0                 3          145.0               41   \n",
       "18629         3001.0                 3           80.0              128   \n",
       "20938         3001.0                 3           80.0               -1   \n",
       "21599         3001.0                 3           80.0               -1   \n",
       "21809         3001.0                 3           80.0               -1   \n",
       "22946         3001.0                 3           80.0               -1   \n",
       "\n",
       "            1m_price  day_of_week  month  year  floor_type  \\\n",
       "397    110925.925926           ЧТ      3  2018      Другое   \n",
       "871    103703.693333           ЧТ     11  2017      Другое   \n",
       "1060   104000.000000           ПТ     11  2015      Другое   \n",
       "1697   126785.714286           ЧТ      2  2018      Другое   \n",
       "1917   137162.162162           ПТ     11  2017      Другое   \n",
       "2253    83516.483516           ЧТ      6  2018      Другое   \n",
       "2966   116216.216216           ВТ      8  2017      Другое   \n",
       "4855   110000.000000           ЧТ      6  2017      Другое   \n",
       "5749   143600.000000           СР      8  2017      Другое   \n",
       "5807   101875.000000           СР      1  2019      Другое   \n",
       "5808   106744.186047           ПТ     10  2018      Другое   \n",
       "7236   109500.000000           ЧТ      1  2019      Другое   \n",
       "8496   102319.236016           ЧТ      5  2017      Другое   \n",
       "9186   132382.892057           ПТ      4  2019      Другое   \n",
       "9370   105571.428571           ВТ      2  2017      Другое   \n",
       "9579   139112.903226           ПТ      2  2019      Другое   \n",
       "11079  122666.666667           ПТ      2  2019      Другое   \n",
       "11575   98019.801980           ЧТ      4  2016      Другое   \n",
       "12888  108571.428571           ПТ     11  2016      Другое   \n",
       "12960  113703.703704           ВТ     10  2018      Другое   \n",
       "13975  107538.461538           СБ     10  2018      Другое   \n",
       "14347  123314.203730           СР      9  2018      Другое   \n",
       "15982   95161.290323           ВС      3  2015      Другое   \n",
       "16731   99450.000000           ПН      9  2018      Другое   \n",
       "16934  102500.000000           ВТ     10  2017      Другое   \n",
       "18218   98019.801980           ЧТ      9  2018      Другое   \n",
       "18617  107299.270073           ПН     10  2017      Другое   \n",
       "18629  105555.555556           ПТ     12  2017      Другое   \n",
       "20938   98116.947473           ПН      4  2019      Другое   \n",
       "21599  121568.627451           ВС      8  2017      Другое   \n",
       "21809  137662.337662           ВТ      4  2019      Другое   \n",
       "22946  102533.333333           ВТ      3  2018      Другое   \n",
       "\n",
       "       city_center_nearest_km  \n",
       "397                        21  \n",
       "871                        21  \n",
       "1060                       21  \n",
       "1697                       21  \n",
       "1917                       21  \n",
       "2253                       50  \n",
       "2966                       21  \n",
       "4855                       21  \n",
       "5749                       21  \n",
       "5807                       21  \n",
       "5808                       21  \n",
       "7236                       21  \n",
       "8496                       21  \n",
       "9186                       21  \n",
       "9370                       21  \n",
       "9579                       21  \n",
       "11079                      21  \n",
       "11575                      21  \n",
       "12888                      21  \n",
       "12960                      21  \n",
       "13975                      21  \n",
       "14347                      21  \n",
       "15982                      21  \n",
       "16731                      13  \n",
       "16934                      21  \n",
       "18218                      21  \n",
       "18617                      21  \n",
       "18629                      21  \n",
       "20938                      21  \n",
       "21599                      21  \n",
       "21809                      21  \n",
       "22946                      21  \n",
       "\n",
       "[32 rows x 28 columns]"
      ]
     },
     "execution_count": 24,
     "metadata": {},
     "output_type": "execute_result"
    },
    {
     "data": {
      "image/png": "[encoded data removed]",
      "text/plain": [
       "<Figure size 432x288 with 1 Axes>"
      ]
     },
     "metadata": {
      "needs_background": "light"
     },
     "output_type": "display_data"
    }
   ],
   "source": [
    "# гистограмма для общего количества этажей в домах\n",
    "data['floors_total'].hist()\n",
    "\n",
    "# числовое распределение данных\n",
    "print(data['floors_total'].describe())\n",
    "\n",
    "data.query('floors_total > 30')"
   ]
  },
  {
   "cell_type": "markdown",
   "metadata": {},
   "source": [
    "Тоже ничего необычного. Большинство предложений из многоэтажек до 13 этажей.\n",
    "Предложений из 30+ этажных домов довольно мало. А если обратить внимание на колонку city_center_nearest_km, то можно\n",
    "предположить, что большинство этих квартир продаются в одном доме в 35 этажей. Возможно, что это новостройка или ЖК?"
   ]
  },
  {
   "cell_type": "code",
   "execution_count": 25,
   "metadata": {},
   "outputs": [
    {
     "name": "stdout",
     "output_type": "stream",
     "text": [
      "count    23699.000000\n",
      "mean        11.347103\n",
      "std          9.730296\n",
      "min          0.000000\n",
      "25%          3.000000\n",
      "50%         12.000000\n",
      "75%         16.000000\n",
      "max         66.000000\n",
      "Name: city_center_nearest_km, dtype: float64\n"
     ]
    },
    {
     "data": {
      "image/png": "[encoded data removed]",
      "text/plain": [
       "<Figure size 432x288 with 1 Axes>"
      ]
     },
     "metadata": {
      "needs_background": "light"
     },
     "output_type": "display_data"
    }
   ],
   "source": [
    "# гистограмма расстояния до центра города в километрах для всех данных\n",
    "data['city_center_nearest_km'].hist()\n",
    "\n",
    "# гистограмма расстояния до центра города в километрах для всех данных за исклюением обнуленных при предобработке\n",
    "data[data['city_center_nearest_km']>0]['city_center_nearest_km'].hist(alpha=0.5)\n",
    "\n",
    "# числовое распределение данных\n",
    "print(data['city_center_nearest_km'].describe())"
   ]
  },
  {
   "cell_type": "markdown",
   "metadata": {},
   "source": [
    "Тоже не видно ничего особенного. Распределение вполне ожидаемое(Синий)\n",
    "Еще нужно помнить о том, что неуказанные  расстояния я обнулил, поэтому для корректности убраем их из отображения(Оранжевый)"
   ]
  },
  {
   "cell_type": "code",
   "execution_count": 26,
   "metadata": {},
   "outputs": [
    {
     "name": "stdout",
     "output_type": "stream",
     "text": [
      "count    23699.000000\n",
      "mean      2145.273218\n",
      "std       1206.555797\n",
      "min          1.000000\n",
      "25%        601.000000\n",
      "50%       3001.000000\n",
      "75%       3001.000000\n",
      "max       3190.000000\n",
      "Name: parks_nearest, dtype: float64\n"
     ]
    },
    {
     "data": {
      "image/png": "[encoded data removed]",
      "text/plain": [
       "<Figure size 432x288 with 1 Axes>"
      ]
     },
     "metadata": {
      "needs_background": "light"
     },
     "output_type": "display_data"
    }
   ],
   "source": [
    "# гистограмма расстояний до ближайшего парка\n",
    "data['parks_nearest'].hist(bins=10)\n",
    "\n",
    "# числовое распределение данных\n",
    "print(data['parks_nearest'].describe())"
   ]
  },
  {
   "cell_type": "markdown",
   "metadata": {},
   "source": [
    "Неуказанные расстояния в исходной таблице были заменены на 3001(м). Поэтому здесь и наблюдается всплеск. Но он говорит только о том, что до ближайшего парка больше 3х км."
   ]
  },
  {
   "cell_type": "code",
   "execution_count": 38,
   "metadata": {},
   "outputs": [
    {
     "data": {
      "text/html": [
       "<div>\n",
       "<style scoped>\n",
       "    .dataframe tbody tr th:only-of-type {\n",
       "        vertical-align: middle;\n",
       "    }\n",
       "\n",
       "    .dataframe tbody tr th {\n",
       "        vertical-align: top;\n",
       "    }\n",
       "\n",
       "    .dataframe thead th {\n",
       "        text-align: right;\n",
       "    }\n",
       "</style>\n",
       "<table border=\"1\" class=\"dataframe\">\n",
       "  <thead>\n",
       "    <tr style=\"text-align: right;\">\n",
       "      <th></th>\n",
       "      <th>total_images</th>\n",
       "      <th>last_price</th>\n",
       "      <th>total_area</th>\n",
       "      <th>rooms</th>\n",
       "      <th>ceiling_height</th>\n",
       "      <th>floors_total</th>\n",
       "      <th>living_area</th>\n",
       "      <th>floor</th>\n",
       "      <th>kitchen_area</th>\n",
       "      <th>balcony</th>\n",
       "      <th>...</th>\n",
       "      <th>city_center_nearest</th>\n",
       "      <th>parks_around3000</th>\n",
       "      <th>parks_nearest</th>\n",
       "      <th>ponds_around3000</th>\n",
       "      <th>ponds_nearest</th>\n",
       "      <th>days_exposition</th>\n",
       "      <th>1m_price</th>\n",
       "      <th>month</th>\n",
       "      <th>year</th>\n",
       "      <th>city_center_nearest_km</th>\n",
       "    </tr>\n",
       "  </thead>\n",
       "  <tbody>\n",
       "    <tr>\n",
       "      <th>count</th>\n",
       "      <td>23,699.000</td>\n",
       "      <td>23,699.000</td>\n",
       "      <td>23,699.000</td>\n",
       "      <td>23,699.000</td>\n",
       "      <td>23,699.000</td>\n",
       "      <td>23,699.000</td>\n",
       "      <td>23,699.000</td>\n",
       "      <td>23,699.000</td>\n",
       "      <td>23,699.000</td>\n",
       "      <td>23,699.000</td>\n",
       "      <td>...</td>\n",
       "      <td>23,699.000</td>\n",
       "      <td>23,699.000</td>\n",
       "      <td>23,699.000</td>\n",
       "      <td>23,699.000</td>\n",
       "      <td>23,699.000</td>\n",
       "      <td>23,699.000</td>\n",
       "      <td>23,699.000</td>\n",
       "      <td>23,699.000</td>\n",
       "      <td>23,699.000</td>\n",
       "      <td>23,699.000</td>\n",
       "    </tr>\n",
       "    <tr>\n",
       "      <th>mean</th>\n",
       "      <td>9.858</td>\n",
       "      <td>6,541,548.772</td>\n",
       "      <td>60.335</td>\n",
       "      <td>2.071</td>\n",
       "      <td>2.746</td>\n",
       "      <td>10.635</td>\n",
       "      <td>34.441</td>\n",
       "      <td>5.892</td>\n",
       "      <td>10.551</td>\n",
       "      <td>0.591</td>\n",
       "      <td>...</td>\n",
       "      <td>10,935.877</td>\n",
       "      <td>0.469</td>\n",
       "      <td>2,145.273</td>\n",
       "      <td>0.591</td>\n",
       "      <td>2,046.517</td>\n",
       "      <td>156.475</td>\n",
       "      <td>99,421.656</td>\n",
       "      <td>6.400</td>\n",
       "      <td>2,017.367</td>\n",
       "      <td>11.347</td>\n",
       "    </tr>\n",
       "    <tr>\n",
       "      <th>std</th>\n",
       "      <td>5.683</td>\n",
       "      <td>10,887,013.268</td>\n",
       "      <td>35.597</td>\n",
       "      <td>1.078</td>\n",
       "      <td>0.251</td>\n",
       "      <td>6.616</td>\n",
       "      <td>21.802</td>\n",
       "      <td>4.885</td>\n",
       "      <td>5.659</td>\n",
       "      <td>0.959</td>\n",
       "      <td>...</td>\n",
       "      <td>9,621.813</td>\n",
       "      <td>0.749</td>\n",
       "      <td>1,206.556</td>\n",
       "      <td>0.884</td>\n",
       "      <td>1,220.111</td>\n",
       "      <td>213.646</td>\n",
       "      <td>50,306.802</td>\n",
       "      <td>3.492</td>\n",
       "      <td>1.040</td>\n",
       "      <td>9.730</td>\n",
       "    </tr>\n",
       "    <tr>\n",
       "      <th>min</th>\n",
       "      <td>0.000</td>\n",
       "      <td>12,190.000</td>\n",
       "      <td>12.000</td>\n",
       "      <td>0.000</td>\n",
       "      <td>1.000</td>\n",
       "      <td>0.000</td>\n",
       "      <td>2.000</td>\n",
       "      <td>1.000</td>\n",
       "      <td>0.000</td>\n",
       "      <td>0.000</td>\n",
       "      <td>...</td>\n",
       "      <td>0.000</td>\n",
       "      <td>0.000</td>\n",
       "      <td>1.000</td>\n",
       "      <td>0.000</td>\n",
       "      <td>13.000</td>\n",
       "      <td>-1.000</td>\n",
       "      <td>111.835</td>\n",
       "      <td>1.000</td>\n",
       "      <td>2,014.000</td>\n",
       "      <td>0.000</td>\n",
       "    </tr>\n",
       "    <tr>\n",
       "      <th>25%</th>\n",
       "      <td>6.000</td>\n",
       "      <td>3,400,000.000</td>\n",
       "      <td>40.000</td>\n",
       "      <td>1.000</td>\n",
       "      <td>2.600</td>\n",
       "      <td>5.000</td>\n",
       "      <td>18.400</td>\n",
       "      <td>2.000</td>\n",
       "      <td>7.300</td>\n",
       "      <td>0.000</td>\n",
       "      <td>...</td>\n",
       "      <td>2,410.000</td>\n",
       "      <td>0.000</td>\n",
       "      <td>601.000</td>\n",
       "      <td>0.000</td>\n",
       "      <td>637.000</td>\n",
       "      <td>22.000</td>\n",
       "      <td>76,585.470</td>\n",
       "      <td>3.000</td>\n",
       "      <td>2,017.000</td>\n",
       "      <td>3.000</td>\n",
       "    </tr>\n",
       "    <tr>\n",
       "      <th>50%</th>\n",
       "      <td>9.000</td>\n",
       "      <td>4,650,000.000</td>\n",
       "      <td>52.000</td>\n",
       "      <td>2.000</td>\n",
       "      <td>2.771</td>\n",
       "      <td>9.000</td>\n",
       "      <td>30.300</td>\n",
       "      <td>4.000</td>\n",
       "      <td>9.550</td>\n",
       "      <td>0.000</td>\n",
       "      <td>...</td>\n",
       "      <td>11,308.000</td>\n",
       "      <td>0.000</td>\n",
       "      <td>3,001.000</td>\n",
       "      <td>0.000</td>\n",
       "      <td>3,001.000</td>\n",
       "      <td>74.000</td>\n",
       "      <td>95,000.000</td>\n",
       "      <td>6.000</td>\n",
       "      <td>2,017.000</td>\n",
       "      <td>12.000</td>\n",
       "    </tr>\n",
       "    <tr>\n",
       "      <th>75%</th>\n",
       "      <td>14.000</td>\n",
       "      <td>6,800,000.000</td>\n",
       "      <td>69.850</td>\n",
       "      <td>3.000</td>\n",
       "      <td>2.771</td>\n",
       "      <td>16.000</td>\n",
       "      <td>42.700</td>\n",
       "      <td>8.000</td>\n",
       "      <td>11.600</td>\n",
       "      <td>1.000</td>\n",
       "      <td>...</td>\n",
       "      <td>15,255.000</td>\n",
       "      <td>1.000</td>\n",
       "      <td>3,001.000</td>\n",
       "      <td>1.000</td>\n",
       "      <td>3,001.000</td>\n",
       "      <td>199.000</td>\n",
       "      <td>114,256.326</td>\n",
       "      <td>10.000</td>\n",
       "      <td>2,018.000</td>\n",
       "      <td>16.000</td>\n",
       "    </tr>\n",
       "    <tr>\n",
       "      <th>max</th>\n",
       "      <td>50.000</td>\n",
       "      <td>763,000,000.000</td>\n",
       "      <td>900.000</td>\n",
       "      <td>19.000</td>\n",
       "      <td>14.000</td>\n",
       "      <td>60.000</td>\n",
       "      <td>409.700</td>\n",
       "      <td>33.000</td>\n",
       "      <td>112.000</td>\n",
       "      <td>5.000</td>\n",
       "      <td>...</td>\n",
       "      <td>65,968.000</td>\n",
       "      <td>3.000</td>\n",
       "      <td>3,190.000</td>\n",
       "      <td>3.000</td>\n",
       "      <td>3,001.000</td>\n",
       "      <td>1,580.000</td>\n",
       "      <td>1,907,500.000</td>\n",
       "      <td>12.000</td>\n",
       "      <td>2,019.000</td>\n",
       "      <td>66.000</td>\n",
       "    </tr>\n",
       "  </tbody>\n",
       "</table>\n",
       "<p>8 rows × 21 columns</p>\n",
       "</div>"
      ],
      "text/plain": [
       "       total_images      last_price  total_area      rooms  ceiling_height  \\\n",
       "count    23,699.000      23,699.000  23,699.000 23,699.000      23,699.000   \n",
       "mean          9.858   6,541,548.772      60.335      2.071           2.746   \n",
       "std           5.683  10,887,013.268      35.597      1.078           0.251   \n",
       "min           0.000      12,190.000      12.000      0.000           1.000   \n",
       "25%           6.000   3,400,000.000      40.000      1.000           2.600   \n",
       "50%           9.000   4,650,000.000      52.000      2.000           2.771   \n",
       "75%          14.000   6,800,000.000      69.850      3.000           2.771   \n",
       "max          50.000 763,000,000.000     900.000     19.000          14.000   \n",
       "\n",
       "       floors_total  living_area      floor  kitchen_area    balcony  ...  \\\n",
       "count    23,699.000   23,699.000 23,699.000    23,699.000 23,699.000  ...   \n",
       "mean         10.635       34.441      5.892        10.551      0.591  ...   \n",
       "std           6.616       21.802      4.885         5.659      0.959  ...   \n",
       "min           0.000        2.000      1.000         0.000      0.000  ...   \n",
       "25%           5.000       18.400      2.000         7.300      0.000  ...   \n",
       "50%           9.000       30.300      4.000         9.550      0.000  ...   \n",
       "75%          16.000       42.700      8.000        11.600      1.000  ...   \n",
       "max          60.000      409.700     33.000       112.000      5.000  ...   \n",
       "\n",
       "       city_center_nearest  parks_around3000  parks_nearest  ponds_around3000  \\\n",
       "count           23,699.000        23,699.000     23,699.000        23,699.000   \n",
       "mean            10,935.877             0.469      2,145.273             0.591   \n",
       "std              9,621.813             0.749      1,206.556             0.884   \n",
       "min                  0.000             0.000          1.000             0.000   \n",
       "25%              2,410.000             0.000        601.000             0.000   \n",
       "50%             11,308.000             0.000      3,001.000             0.000   \n",
       "75%             15,255.000             1.000      3,001.000             1.000   \n",
       "max             65,968.000             3.000      3,190.000             3.000   \n",
       "\n",
       "       ponds_nearest  days_exposition      1m_price      month       year  \\\n",
       "count     23,699.000       23,699.000    23,699.000 23,699.000 23,699.000   \n",
       "mean       2,046.517          156.475    99,421.656      6.400  2,017.367   \n",
       "std        1,220.111          213.646    50,306.802      3.492      1.040   \n",
       "min           13.000           -1.000       111.835      1.000  2,014.000   \n",
       "25%          637.000           22.000    76,585.470      3.000  2,017.000   \n",
       "50%        3,001.000           74.000    95,000.000      6.000  2,017.000   \n",
       "75%        3,001.000          199.000   114,256.326     10.000  2,018.000   \n",
       "max        3,001.000        1,580.000 1,907,500.000     12.000  2,019.000   \n",
       "\n",
       "       city_center_nearest_km  \n",
       "count              23,699.000  \n",
       "mean                   11.347  \n",
       "std                     9.730  \n",
       "min                     0.000  \n",
       "25%                     3.000  \n",
       "50%                    12.000  \n",
       "75%                    16.000  \n",
       "max                    66.000  \n",
       "\n",
       "[8 rows x 21 columns]"
      ]
     },
     "execution_count": 38,
     "metadata": {},
     "output_type": "execute_result"
    }
   ],
   "source": [
    "data.describe()"
   ]
  },
  {
   "cell_type": "markdown",
   "metadata": {},
   "source": [
    "<b>Как быстро продавались квартиры<b>"
   ]
  },
  {
   "cell_type": "code",
   "execution_count": 27,
   "metadata": {},
   "outputs": [
    {
     "name": "stdout",
     "output_type": "stream",
     "text": [
      "Среднее время продажи: 181.0 день(дней)\n",
      "Медианное время продажи: 95.0 день(дней)\n",
      "Я думаю, что быстрые продажи - это продажи, совершенные менее, чем за 45.0 дней\n",
      "А медленные - совершенные более, чем за 232.0 дней\n"
     ]
    },
    {
     "data": {
      "image/png": "[encoded data removed]",
      "text/plain": [
       "<Figure size 1440x720 with 1 Axes>"
      ]
     },
     "metadata": {
      "needs_background": "light"
     },
     "output_type": "display_data"
    },
    {
     "data": {
      "image/png": "[encoded data removed]",
      "text/plain": [
       "<Figure size 1440x720 with 1 Axes>"
      ]
     },
     "metadata": {
      "needs_background": "light"
     },
     "output_type": "display_data"
    }
   ],
   "source": [
    "data[data['days_exposition']>0].hist(column='days_exposition',bins=200,figsize=(20,10)) # все продажи\n",
    "data[data['days_exposition']>0].hist(column='days_exposition',bins=100,figsize=(20,10),range=(0,200)) # продажи до 200хсот дней\n",
    "\n",
    "# числовое распределение известных данных\n",
    "desc = data[data['days_exposition']>0]['days_exposition'].describe()\n",
    "\n",
    "print('Среднее время продажи:',desc['mean'].round(),'день(дней)')\n",
    "print('Медианное время продажи:',desc['50%'].round(),'день(дней)')\n",
    "\n",
    "print('Я думаю, что быстрые продажи - это продажи, совершенные менее, чем за',desc['25%'].round(),'дней')\n",
    "print('А медленные - совершенные более, чем за',desc['75%'].round(),'дней')\n",
    "\n"
   ]
  },
  {
   "cell_type": "markdown",
   "metadata": {},
   "source": [
    "Собственно. Продажи быстрее Q1-быстрые. Между Q1 и Q3 - обычное время на продажу квартиры. Всё, что дольше Q3 - затянувшаяся.\n",
    "Если укрупнить продажи от 0 до 200 дней, то видны 2 пика как раз в районе 45 и 60 дней, т.е. как раз во время типичной продажи"
   ]
  },
  {
   "cell_type": "markdown",
   "metadata": {},
   "source": [
    "<b>Факторы, которые больше всего влияют на общую (полную) стоимость объекта<b>"
   ]
  },
  {
   "cell_type": "code",
   "execution_count": 28,
   "metadata": {},
   "outputs": [
    {
     "name": "stdout",
     "output_type": "stream",
     "text": [
      "Коэффициент корреляции: 0.6523752726680954\n"
     ]
    },
    {
     "data": {
      "image/png": "[encoded data removed]",
      "text/plain": [
       "<Figure size 432x288 with 1 Axes>"
      ]
     },
     "metadata": {
      "needs_background": "light"
     },
     "output_type": "display_data"
    },
    {
     "data": {
      "image/png": "[encoded data removed]",
      "text/plain": [
       "<Figure size 432x288 with 1 Axes>"
      ]
     },
     "metadata": {
      "needs_background": "light"
     },
     "output_type": "display_data"
    }
   ],
   "source": [
    "# Зависимость цены от общей площади\n",
    "data.plot.scatter(x='last_price',y='total_area')\n",
    "\n",
    "data.plot.scatter(x='last_price',y='total_area',ylim=(0,450),xlim=(0,8E7))\n",
    "\n",
    "print('Коэффициент корреляции:',data['last_price'].corr(data['total_area']))"
   ]
  },
  {
   "cell_type": "markdown",
   "metadata": {},
   "source": [
    "Эта и следующие диаграммы рассеяния представленны в 2х видах: общий и \"укрупненный\", с ограничением по шкалам X и/или Y, отсеивая таким образом выбросы данных. При этом коэффициент корреляции подсчитан для всего набора."
   ]
  },
  {
   "cell_type": "code",
   "execution_count": 29,
   "metadata": {},
   "outputs": [
    {
     "name": "stdout",
     "output_type": "stream",
     "text": [
      "Коэффициент корреляции: 0.5564104267344321\n"
     ]
    },
    {
     "data": {
      "image/png": "[encoded data removed]",
      "text/plain": [
       "<Figure size 432x288 with 1 Axes>"
      ]
     },
     "metadata": {
      "needs_background": "light"
     },
     "output_type": "display_data"
    },
    {
     "data": {
      "image/png": "[encoded data removed]",
      "text/plain": [
       "<Figure size 432x288 with 1 Axes>"
      ]
     },
     "metadata": {
      "needs_background": "light"
     },
     "output_type": "display_data"
    }
   ],
   "source": [
    "# Зависимость цены от жилой площади\n",
    "data.plot.scatter(x='last_price',y='living_area')\n",
    "\n",
    "data.plot.scatter(x='last_price',y='total_area',ylim=(0,250),xlim=(0,8E7))\n",
    "\n",
    "print('Коэффициент корреляции:',data['last_price'].corr(data['living_area']))"
   ]
  },
  {
   "cell_type": "code",
   "execution_count": 30,
   "metadata": {},
   "outputs": [
    {
     "name": "stdout",
     "output_type": "stream",
     "text": [
      "Коэффициент корреляции: 0.45702864078038996\n"
     ]
    },
    {
     "data": {
      "image/png": "[encoded data removed]",
      "text/plain": [
       "<Figure size 432x288 with 1 Axes>"
      ]
     },
     "metadata": {
      "needs_background": "light"
     },
     "output_type": "display_data"
    },
    {
     "data": {
      "image/png": "[encoded data removed]",
      "text/plain": [
       "<Figure size 432x288 with 1 Axes>"
      ]
     },
     "metadata": {
      "needs_background": "light"
     },
     "output_type": "display_data"
    }
   ],
   "source": [
    "# Зависимость цены от площади кухни\n",
    "data.plot.scatter(x='last_price',y='kitchen_area')\n",
    "\n",
    "data.plot.scatter(x='last_price',y='kitchen_area',ylim=(0,80),xlim=(0,8E7))\n",
    "\n",
    "print('Коэффициент корреляции:',data['last_price'].corr(data['kitchen_area']))"
   ]
  },
  {
   "cell_type": "code",
   "execution_count": 31,
   "metadata": {},
   "outputs": [
    {
     "name": "stdout",
     "output_type": "stream",
     "text": [
      "Коэффициент корреляции: 0.3633428499648948\n"
     ]
    },
    {
     "data": {
      "image/png": "[encoded data removed]",
      "text/plain": [
       "<Figure size 432x288 with 1 Axes>"
      ]
     },
     "metadata": {
      "needs_background": "light"
     },
     "output_type": "display_data"
    }
   ],
   "source": [
    "# Зависимость цены от количества комнат\n",
    "(data.groupby('rooms')['last_price'].mean()).plot(kind='barh')\n",
    "\n",
    "print('Коэффициент корреляции:',data['last_price'].corr(data['rooms']))"
   ]
  },
  {
   "cell_type": "markdown",
   "metadata": {},
   "source": [
    "Как видно, с ростом количества комнат цена начинает рости. Потом в какой-то момент закономерность пропадает. Это связано с тем, что основная часть данных - это квартиры до 5 комнат. Остальное - это уникальные предложения с единичными ценами. В реальной жизни, я бы уточнил, стоит ли учитывать такие \"неходовые\" предложения в общей массе или их рассматривать отдельно, или вообще не рассматривать."
   ]
  },
  {
   "cell_type": "code",
   "execution_count": 32,
   "metadata": {},
   "outputs": [
    {
     "name": "stdout",
     "output_type": "stream",
     "text": [
      "Зависимость цены от типа этажа\n"
     ]
    },
    {
     "data": {
      "image/png": "[encoded data removed]",
      "text/plain": [
       "<Figure size 432x288 with 1 Axes>"
      ]
     },
     "metadata": {
      "needs_background": "light"
     },
     "output_type": "display_data"
    }
   ],
   "source": [
    "# Зависимость цены от типа этажа\n",
    "(data.groupby('floor_type')['last_price'].mean()).plot(kind='barh')\n",
    "\n",
    "print('Зависимость цены от типа этажа')"
   ]
  },
  {
   "cell_type": "markdown",
   "metadata": {},
   "source": [
    "Да, данные снова повтрояют нам, что самые дешевые квартиры на первых этажах.\n",
    "Последние этажи вытягивают в цене за счет, возможно, премиум-сегмента с многоуровневыми квартирами на последних этажах и пентхаусов."
   ]
  },
  {
   "cell_type": "code",
   "execution_count": 33,
   "metadata": {},
   "outputs": [
    {
     "data": {
      "image/png": "[encoded data removed]",
      "text/plain": [
       "<Figure size 432x288 with 1 Axes>"
      ]
     },
     "metadata": {
      "needs_background": "light"
     },
     "output_type": "display_data"
    },
    {
     "data": {
      "image/png": "[encoded data removed]",
      "text/plain": [
       "<Figure size 432x288 with 1 Axes>"
      ]
     },
     "metadata": {
      "needs_background": "light"
     },
     "output_type": "display_data"
    },
    {
     "data": {
      "image/png": "[encoded data removed]",
      "text/plain": [
       "<Figure size 432x288 with 1 Axes>"
      ]
     },
     "metadata": {
      "needs_background": "light"
     },
     "output_type": "display_data"
    },
    {
     "name": "stdout",
     "output_type": "stream",
     "text": [
      "Зависимость цены от даты размещения ниже по тексту\n"
     ]
    }
   ],
   "source": [
    ">>> import matplotlib.pyplot as plt\n",
    "# Зависимость цены от даты размещения\n",
    "(data.groupby('day_of_week')['last_price'].mean()).plot(kind='barh')\n",
    "plt.show()\n",
    "(data.groupby('month')['last_price'].mean()).plot(kind='barh')\n",
    "plt.show()\n",
    "(data.groupby('year')['last_price'].mean()).plot(kind='barh')\n",
    "plt.show()\n",
    "\n",
    "print('Зависимость цены от даты размещения ниже по тексту')"
   ]
  },
  {
   "cell_type": "markdown",
   "metadata": {},
   "source": [
    "<b>Вывод по зависимости цены от параметров</b>\n",
    "    <ul>\n",
    "        <li> <b>Общая площадь:</b></li>\n",
    "            По графикам, даже с учетом выбросов, которые есть в данных, коэффициент корреляции составляет 0.65, что дает основание полагать наличие зависимости стоимости от общей площади квартиры\n",
    "        <li> <b>Жилая площадь:</b></li>\n",
    "    Аналогично общей площади, прямая зависимость есть. Коэффициент корреляции 0.55\n",
    "        <li> <b>Площадь кухни:</b></li>\n",
    "    Как и по остальным площадям, прямая зависимость прослеживается, хотя и значительно меньше: коэффициент корреляции 0.46\n",
    "        <li> <b>Этаж квартиры:</b></li>\n",
    "    Графики подтверждают общее мнение о зависимости стоимости от этажа: квартиры на первом заметно дешевле, чем квартиры на средних этажах. Причем, на первом еще дешевле, чем на последнем.<br>Последние этажи вытягивают в цене за счет, возможно, премиум-сегмента с многоуровневыми квартирами на последних этажах и пентхаусов.\n",
    "        <li> <b>Дата размещения:</b></li>\n",
    "    Самые пртиворечивые графики, по которым сложно найти зависимости. Можно найти только замечания: <br>более дешевые квартиры выставляются на продажу про воскресеньям<br>цена заметно не зависит от месяца размещения<br>Квартиры в 2014 стоили дешевле, чем в остальные годы. Внимание привлекает 2017 год. По сообщениям информационных сайтов этот год был рекордным по количеству совершенных сделок и стоимости недвижимости. Чему поспособствовали низкие ипотечные ставки и начало программы реновации и сноса 5ти-этажек.\n",
    "    </ul>\n",
    "            "
   ]
  },
  {
   "cell_type": "markdown",
   "metadata": {},
   "source": [
    "<b>Средняя цена одного квадратного метра в 10 населённых пунктах с наибольшим числом объявлений</b>"
   ]
  },
  {
   "cell_type": "code",
   "execution_count": 34,
   "metadata": {},
   "outputs": [
    {
     "name": "stdout",
     "output_type": "stream",
     "text": [
      "Населенные пункты с самой высокой ценой за 1кв.м. жилплощади по количеству объявлений:\n",
      "\n",
      "                  Средняя цена 1 кв.м.  Кол-во объявлений\n",
      "locality_name                                           \n",
      "Санкт-Петербург           104,761.905              15721\n",
      "Мурино                     86,175.644                590\n",
      "Кудрово                    95,675.474                472\n",
      "Шушары                     76,876.173                440\n",
      "Всеволожск                 65,789.474                398\n",
      "Пушкин                    100,000.000                369\n",
      "Колпино                    74,723.748                338\n",
      "Парголово                  91,642.857                327\n",
      "Гатчина                    67,796.610                307\n",
      "Выборг                     58,158.320                237\n",
      "\n",
      "\n",
      "Населенные пункты с самой высокой ценой за 1кв.м. жилплощади:\n",
      "\n",
      "                  Средняя цена 1 кв.м.  Кол-во объявлений\n",
      "locality_name                                           \n",
      "Санкт-Петербург           104,761.905              15721\n",
      "Зеленогорск               101,666.667                 24\n",
      "Пушкин                    100,000.000                369\n",
      "Сестрорецк                 99,678.457                183\n",
      "Левашово                   96,997.691                  1\n",
      "Кудрово                    95,675.474                472\n",
      "Парголово                  91,642.857                327\n",
      "Мистолово                  90,888.889                 11\n",
      "Не указано                 89,772.727                 49\n",
      "Стрельна                   87,498.419                 44\n",
      "\n",
      "\n",
      "Населенные пункты с самой низкой ценой за 1кв.м. жилплощади:\n",
      "\n",
      "                  Средняя цена 1 кв.м.  Кол-во объявлений\n",
      "locality_name                                           \n",
      "Житково                    14,956.275                  2\n",
      "Ям-Тесово                  13,711.553                  2\n",
      "Сижно                      13,709.677                  1\n",
      "Тесово-4                   12,931.034                  1\n",
      "Малая Романовка            12,724.551                  1\n",
      "Совхозный                  12,629.129                  2\n",
      "Выскатка                   12,335.481                  2\n",
      "Вахнова Кара               11,688.312                  1\n",
      "Свирь                      11,481.481                  2\n",
      "Старополье                 11,000.000                  3\n"
     ]
    }
   ],
   "source": [
    "pd.options.display.float_format ='{:,.3f}'.format\n",
    "pt = data.pivot_table(index='locality_name',values='1m_price',aggfunc=['median','count'])\n",
    "pt.columns = [('median'),('count')]\n",
    "pt = pt.sort_values(by=['count','median'],ascending=False)\n",
    "pt.columns = [('Средняя цена 1 кв.м.'),('Кол-во объявлений')]\n",
    "print('Населенные пункты с самой высокой ценой за 1кв.м. жилплощади по количеству объявлений:\\n\\n',pt.head(10))\n",
    "\n",
    "pt = pt.sort_values(by=['Средняя цена 1 кв.м.'],ascending=False)\n",
    "print('\\n\\nНаселенные пункты с самой высокой ценой за 1кв.м. жилплощади:\\n\\n',pt.head(10))\n",
    "print('\\n\\nНаселенные пункты с самой низкой ценой за 1кв.м. жилплощади:\\n\\n',pt.tail(10))"
   ]
  },
  {
   "cell_type": "markdown",
   "metadata": {},
   "source": [
    "<b>Квартиры в Санкт-Петербурге и их средняя стоимость на разном удалении от центра</b>"
   ]
  },
  {
   "cell_type": "code",
   "execution_count": 35,
   "metadata": {},
   "outputs": [
    {
     "name": "stdout",
     "output_type": "stream",
     "text": [
      "Категории расстояния от центра города:\n",
      "1 - от 0 до 1км\n",
      "2 - от 1 до 2км\n",
      "3 - от 2 до 3км       \n",
      "4 - от 3 до 4км\n",
      "5 - от 4 до 5км\n",
      "и так далее\n",
      "\n",
      "    dist_cat   Средняя цена  Кол-во объявлений\n",
      "0          1 23,442,315.442                 86\n",
      "1          2 18,850,851.663                240\n",
      "2          3 16,163,313.616                307\n",
      "3          4 13,436,830.553                526\n",
      "4          5 13,632,024.645                907\n",
      "5          6 15,306,121.120                769\n",
      "6          7 14,389,106.185                470\n",
      "7          8 12,797,673.740                407\n",
      "8          9  8,445,271.997                670\n",
      "9         10  6,426,054.857                690\n",
      "10        11  6,376,091.669                912\n",
      "11        12  6,378,591.273               1476\n",
      "12        13  5,980,211.397               1520\n",
      "13        14  6,016,125.467               1398\n",
      "14        15  5,768,323.754               1511\n",
      "15        16  5,545,776.114               1373\n",
      "16        17  5,527,927.703               1106\n",
      "17        18  4,865,574.004                534\n",
      "18        19  5,334,928.793                174\n",
      "19        20  4,678,755.671                 82\n",
      "20        21  6,365,864.202                 84\n",
      "21        22  5,183,239.246                195\n",
      "22        23  5,425,513.324                139\n",
      "23        24  4,126,866.667                 30\n",
      "24        25  3,862,235.000                 22\n",
      "25        26  4,014,913.347                 75\n",
      "26        27  3,575,000.000                  3\n",
      "27        28  8,300,000.000                  2\n",
      "28        29  4,910,500.000                 10\n",
      "29        30  3,833,333.333                  3\n"
     ]
    },
    {
     "data": {
      "image/png": "[encoded data removed]",
      "text/plain": [
       "<Figure size 432x288 with 1 Axes>"
      ]
     },
     "metadata": {
      "needs_background": "light"
     },
     "output_type": "display_data"
    }
   ],
   "source": [
    "import math\n",
    "\n",
    "spb_ad = (\n",
    "    data.query('locality_name ==\"Санкт-Петербург\"')\n",
    "    .loc[:,['locality_name','last_price','city_center_nearest_km']]\n",
    ")\n",
    "\n",
    "def distance_category(km):\n",
    "    try:\n",
    "        return math.ceil(km)\n",
    "    except: return -1\n",
    "\n",
    "spb_ad['dist_cat'] = spb_ad['city_center_nearest_km'].apply(distance_category)\n",
    "spb_ad = spb_ad.pivot_table(index='dist_cat', values='last_price', aggfunc=['mean','count'])\n",
    "spb_ad.columns = [('Средняя цена'),('Кол-во объявлений')]\n",
    "spb_ad.reset_index(inplace=True)\n",
    "spb_ad.plot(x='dist_cat',y='Средняя цена',grid=True,style='o-')\n",
    "print('Категории расстояния от центра города:\\n1 - от 0 до 1км\\n2 - от 1 до 2км\\n3 - от 2 до 3км\\\n",
    "       \\n4 - от 3 до 4км\\n5 - от 4 до 5км\\nи так далее\\n')\n",
    "print(spb_ad)"
   ]
  },
  {
   "cell_type": "markdown",
   "metadata": {},
   "source": [
    "Логичный вывод: чем ближе к центру, тем более дорогая недвижимость.\n",
    "Есть 2 пика, выделяющихся по цене - на расстоянии 4-5 км и 27-28 км.\n",
    "Можно рассмотреть причину отдельно"
   ]
  },
  {
   "cell_type": "code",
   "execution_count": 36,
   "metadata": {},
   "outputs": [
    {
     "data": {
      "text/html": [
       "<div>\n",
       "<style scoped>\n",
       "    .dataframe tbody tr th:only-of-type {\n",
       "        vertical-align: middle;\n",
       "    }\n",
       "\n",
       "    .dataframe tbody tr th {\n",
       "        vertical-align: top;\n",
       "    }\n",
       "\n",
       "    .dataframe thead th {\n",
       "        text-align: right;\n",
       "    }\n",
       "</style>\n",
       "<table border=\"1\" class=\"dataframe\">\n",
       "  <thead>\n",
       "    <tr style=\"text-align: right;\">\n",
       "      <th></th>\n",
       "      <th>total_images</th>\n",
       "      <th>last_price</th>\n",
       "      <th>total_area</th>\n",
       "      <th>first_day_exposition</th>\n",
       "      <th>rooms</th>\n",
       "      <th>ceiling_height</th>\n",
       "      <th>floors_total</th>\n",
       "      <th>living_area</th>\n",
       "      <th>floor</th>\n",
       "      <th>is_apartment</th>\n",
       "      <th>...</th>\n",
       "      <th>parks_nearest</th>\n",
       "      <th>ponds_around3000</th>\n",
       "      <th>ponds_nearest</th>\n",
       "      <th>days_exposition</th>\n",
       "      <th>1m_price</th>\n",
       "      <th>day_of_week</th>\n",
       "      <th>month</th>\n",
       "      <th>year</th>\n",
       "      <th>floor_type</th>\n",
       "      <th>city_center_nearest_km</th>\n",
       "    </tr>\n",
       "  </thead>\n",
       "  <tbody>\n",
       "  </tbody>\n",
       "</table>\n",
       "<p>0 rows × 28 columns</p>\n",
       "</div>"
      ],
      "text/plain": [
       "Empty DataFrame\n",
       "Columns: [total_images, last_price, total_area, first_day_exposition, rooms, ceiling_height, floors_total, living_area, floor, is_apartment, studio, open_plan, kitchen_area, balcony, locality_name, airports_nearest, city_center_nearest, parks_around3000, parks_nearest, ponds_around3000, ponds_nearest, days_exposition, 1m_price, day_of_week, month, year, floor_type, city_center_nearest_km]\n",
       "Index: []\n",
       "\n",
       "[0 rows x 28 columns]"
      ]
     },
     "execution_count": 36,
     "metadata": {},
     "output_type": "execute_result"
    }
   ],
   "source": [
    "data.query('5<city_center_nearest_km<6').sort_values(by='last_price',ascending=False)"
   ]
  },
  {
   "cell_type": "code",
   "execution_count": 37,
   "metadata": {},
   "outputs": [
    {
     "data": {
      "text/html": [
       "<div>\n",
       "<style scoped>\n",
       "    .dataframe tbody tr th:only-of-type {\n",
       "        vertical-align: middle;\n",
       "    }\n",
       "\n",
       "    .dataframe tbody tr th {\n",
       "        vertical-align: top;\n",
       "    }\n",
       "\n",
       "    .dataframe thead th {\n",
       "        text-align: right;\n",
       "    }\n",
       "</style>\n",
       "<table border=\"1\" class=\"dataframe\">\n",
       "  <thead>\n",
       "    <tr style=\"text-align: right;\">\n",
       "      <th></th>\n",
       "      <th>total_images</th>\n",
       "      <th>last_price</th>\n",
       "      <th>total_area</th>\n",
       "      <th>first_day_exposition</th>\n",
       "      <th>rooms</th>\n",
       "      <th>ceiling_height</th>\n",
       "      <th>floors_total</th>\n",
       "      <th>living_area</th>\n",
       "      <th>floor</th>\n",
       "      <th>is_apartment</th>\n",
       "      <th>...</th>\n",
       "      <th>parks_nearest</th>\n",
       "      <th>ponds_around3000</th>\n",
       "      <th>ponds_nearest</th>\n",
       "      <th>days_exposition</th>\n",
       "      <th>1m_price</th>\n",
       "      <th>day_of_week</th>\n",
       "      <th>month</th>\n",
       "      <th>year</th>\n",
       "      <th>floor_type</th>\n",
       "      <th>city_center_nearest_km</th>\n",
       "    </tr>\n",
       "  </thead>\n",
       "  <tbody>\n",
       "  </tbody>\n",
       "</table>\n",
       "<p>0 rows × 28 columns</p>\n",
       "</div>"
      ],
      "text/plain": [
       "Empty DataFrame\n",
       "Columns: [total_images, last_price, total_area, first_day_exposition, rooms, ceiling_height, floors_total, living_area, floor, is_apartment, studio, open_plan, kitchen_area, balcony, locality_name, airports_nearest, city_center_nearest, parks_around3000, parks_nearest, ponds_around3000, ponds_nearest, days_exposition, 1m_price, day_of_week, month, year, floor_type, city_center_nearest_km]\n",
       "Index: []\n",
       "\n",
       "[0 rows x 28 columns]"
      ]
     },
     "execution_count": 37,
     "metadata": {},
     "output_type": "execute_result"
    }
   ],
   "source": [
    "data.query('27<city_center_nearest_km<28').sort_values(by='last_price',ascending=False)"
   ]
  },
  {
   "cell_type": "markdown",
   "metadata": {},
   "source": [
    "И в первом и во втором случае мы видим квартиры по превышающей среднюю цену стоимости в домах одинаковой этажности.\n",
    "Возможно, это один и и тот же дом: новостройка или дом, относящийся к премиум сегменту для данного района."
   ]
  },
  {
   "cell_type": "markdown",
   "metadata": {
    "id": "h7VpzkIDAwb-"
   },
   "source": [
    "### Напишите общий вывод"
   ]
  },
  {
   "cell_type": "markdown",
   "metadata": {
    "id": "3H4lnp_KAwb-"
   },
   "source": [
    "Во время данной работы был обработан файл с архивом объявлений о продаже квартир в Санкт-Петербурге и соседних населённых пунктах за несколько лет.<br><br>\n",
    "В ходе предобработки были заполнены пропущенные значения в столбцах, полученных от пользователя и от системы, добавляющей количество объектов и ближайшее расстояние до них: пруды, парки, аэропорты, центр города. <br><br>\n",
    "Были удалены неявные дубликаты в географических названиях населенных пунктов.<br><br>\n",
    "Были исправлены некоторые строки, которые походили на аномальные или на ошибку ввода.<br><br>\n",
    "Были добавлены столбцы, которые в дальнейшем использовались для анализа данных, например, стоимость 1 кв.м. площади недвижимости.<br><br>\n",
    "Во время анализа были изучены данные по надвижимости, такие как площади: общая, жилая и кухонной зоны, стоимость объекта, количество комнат, высота потолков, этаж расположения квартиры, общее количество этажей в доме, расстояния до центра города и до ближайшего парка.<br><br>\n",
    "Были получены результаты о сроках продажи квартир. Сделано разделение на быстро продаваемые и медленно продаваемые объекты на основе количества дней, которые квартира находилась в продаже. Определенно среднее и медианное время продажи.<br><br>\n",
    "Были найдены зависимости стоимости недвижимости от площадей: общей, жилой и кухонной, от количества комнат, этажа и даты размещения объявления.<br><br>\n",
    "Была подсчитана средняя цена 1 кв.м. площади в 10 населенных пунктах с наибольшим числом объявлений. Выделены населенные пункты с самой высокой и самой низкой стоимостью квадратного метра.<br><br>\n",
    "Была рассчитана средняя стоимость квартиры в Санкт-Петербурге, с разбивкой по удалению от центра города с шагом в 1км. Описана закономерность и построен график.\n"
   ]
  },
  {
   "cell_type": "code",
   "execution_count": null,
   "metadata": {},
   "outputs": [],
   "source": []
  }
 ],
 "metadata": {
  "ExecuteTimeLog": [
   {
    "duration": 473,
    "start_time": "2024-04-22T17:38:10.502Z"
   },
   {
    "duration": 287,
    "start_time": "2024-04-22T17:38:19.263Z"
   },
   {
    "duration": 105,
    "start_time": "2024-04-22T17:38:52.226Z"
   },
   {
    "duration": 96,
    "start_time": "2024-04-22T17:39:09.805Z"
   },
   {
    "duration": 107,
    "start_time": "2024-04-22T17:39:19.631Z"
   },
   {
    "duration": 107,
    "start_time": "2024-04-22T17:42:34.934Z"
   },
   {
    "duration": 10,
    "start_time": "2024-04-22T17:43:01.609Z"
   },
   {
    "duration": 130,
    "start_time": "2024-04-22T17:43:45.688Z"
   },
   {
    "duration": 113,
    "start_time": "2024-04-22T17:44:00.813Z"
   },
   {
    "duration": 2737,
    "start_time": "2024-04-22T17:45:02.840Z"
   },
   {
    "duration": 2238,
    "start_time": "2024-04-22T17:47:12.611Z"
   },
   {
    "duration": 2331,
    "start_time": "2024-04-22T17:47:30.092Z"
   },
   {
    "duration": 61,
    "start_time": "2024-04-22T17:53:40.171Z"
   },
   {
    "duration": 7,
    "start_time": "2024-04-22T17:54:07.544Z"
   },
   {
    "duration": 7,
    "start_time": "2024-04-22T17:55:49.942Z"
   },
   {
    "duration": 6,
    "start_time": "2024-04-22T17:57:15.543Z"
   },
   {
    "duration": 7,
    "start_time": "2024-04-22T17:58:16.742Z"
   },
   {
    "duration": 7,
    "start_time": "2024-04-22T17:59:24.386Z"
   },
   {
    "duration": 22,
    "start_time": "2024-04-22T17:59:46.210Z"
   },
   {
    "duration": 6,
    "start_time": "2024-04-22T17:59:57.648Z"
   },
   {
    "duration": 8,
    "start_time": "2024-04-22T18:00:47.801Z"
   },
   {
    "duration": 2207,
    "start_time": "2024-04-22T18:01:00.920Z"
   },
   {
    "duration": 6,
    "start_time": "2024-04-22T18:02:11.580Z"
   },
   {
    "duration": 13,
    "start_time": "2024-04-22T18:04:36.940Z"
   },
   {
    "duration": 6,
    "start_time": "2024-04-22T18:05:03.156Z"
   },
   {
    "duration": 9,
    "start_time": "2024-04-22T18:05:52.426Z"
   },
   {
    "duration": 14,
    "start_time": "2024-04-22T18:06:19.119Z"
   },
   {
    "duration": 8,
    "start_time": "2024-04-22T18:06:40.975Z"
   },
   {
    "duration": 11,
    "start_time": "2024-04-22T18:06:45.959Z"
   },
   {
    "duration": 10,
    "start_time": "2024-04-22T18:07:05.258Z"
   },
   {
    "duration": 8,
    "start_time": "2024-04-22T18:07:34.477Z"
   },
   {
    "duration": 33,
    "start_time": "2024-04-22T18:10:50.404Z"
   },
   {
    "duration": 1254,
    "start_time": "2024-04-22T18:11:13.261Z"
   },
   {
    "duration": 49,
    "start_time": "2024-04-22T18:11:40.269Z"
   },
   {
    "duration": 8,
    "start_time": "2024-04-22T18:12:26.110Z"
   },
   {
    "duration": 15,
    "start_time": "2024-04-22T18:22:43.087Z"
   },
   {
    "duration": 224,
    "start_time": "2024-04-22T18:23:15.957Z"
   },
   {
    "duration": 69,
    "start_time": "2024-04-22T18:24:26.675Z"
   },
   {
    "duration": 51,
    "start_time": "2024-04-22T18:24:58.210Z"
   },
   {
    "duration": 12,
    "start_time": "2024-04-22T18:27:14.277Z"
   },
   {
    "duration": 43,
    "start_time": "2024-04-22T18:28:17.261Z"
   },
   {
    "duration": 95,
    "start_time": "2024-04-22T18:28:40.014Z"
   },
   {
    "duration": 43,
    "start_time": "2024-04-22T18:28:46.593Z"
   },
   {
    "duration": 19,
    "start_time": "2024-04-22T18:33:44.957Z"
   },
   {
    "duration": 21,
    "start_time": "2024-04-22T18:34:03.019Z"
   },
   {
    "duration": 43,
    "start_time": "2024-04-22T18:34:16.753Z"
   },
   {
    "duration": 19,
    "start_time": "2024-04-22T18:34:43.101Z"
   },
   {
    "duration": 17,
    "start_time": "2024-04-22T18:38:52.101Z"
   },
   {
    "duration": 23,
    "start_time": "2024-04-22T18:39:48.322Z"
   },
   {
    "duration": 1263,
    "start_time": "2024-04-22T18:41:27.049Z"
   },
   {
    "duration": 6,
    "start_time": "2024-04-22T18:43:04.054Z"
   },
   {
    "duration": 12,
    "start_time": "2024-04-22T18:43:49.408Z"
   },
   {
    "duration": 6,
    "start_time": "2024-04-22T18:44:40.816Z"
   },
   {
    "duration": 8,
    "start_time": "2024-04-22T18:51:16.720Z"
   },
   {
    "duration": 5,
    "start_time": "2024-04-22T18:51:56.516Z"
   },
   {
    "duration": 3,
    "start_time": "2024-04-22T18:53:13.037Z"
   },
   {
    "duration": 6,
    "start_time": "2024-04-22T18:53:24.820Z"
   },
   {
    "duration": 11,
    "start_time": "2024-04-22T18:55:22.598Z"
   },
   {
    "duration": 6,
    "start_time": "2024-04-22T18:56:19.446Z"
   },
   {
    "duration": 7,
    "start_time": "2024-04-22T18:58:16.361Z"
   },
   {
    "duration": 6,
    "start_time": "2024-04-22T18:59:16.785Z"
   },
   {
    "duration": 26,
    "start_time": "2024-04-22T19:09:27.016Z"
   },
   {
    "duration": 19,
    "start_time": "2024-04-22T19:10:10.780Z"
   },
   {
    "duration": 46,
    "start_time": "2024-04-22T19:13:12.637Z"
   },
   {
    "duration": 43,
    "start_time": "2024-04-22T19:14:38.985Z"
   },
   {
    "duration": 2183,
    "start_time": "2024-04-22T19:15:19.168Z"
   },
   {
    "duration": 49,
    "start_time": "2024-04-22T19:15:24.717Z"
   },
   {
    "duration": 44,
    "start_time": "2024-04-22T19:17:13.344Z"
   },
   {
    "duration": 9,
    "start_time": "2024-04-22T19:17:34.872Z"
   },
   {
    "duration": 2525,
    "start_time": "2024-04-22T19:17:55.996Z"
   },
   {
    "duration": 11,
    "start_time": "2024-04-22T19:18:13.065Z"
   },
   {
    "duration": 12,
    "start_time": "2024-04-22T19:18:37.322Z"
   },
   {
    "duration": 16,
    "start_time": "2024-04-22T19:21:55.730Z"
   },
   {
    "duration": 17,
    "start_time": "2024-04-22T19:22:16.105Z"
   },
   {
    "duration": 18,
    "start_time": "2024-04-22T19:23:11.971Z"
   },
   {
    "duration": 19,
    "start_time": "2024-04-22T19:30:37.542Z"
   },
   {
    "duration": 20,
    "start_time": "2024-04-22T19:32:51.505Z"
   },
   {
    "duration": 6,
    "start_time": "2024-04-22T19:33:56.964Z"
   },
   {
    "duration": 6,
    "start_time": "2024-04-22T19:34:06.465Z"
   },
   {
    "duration": 5,
    "start_time": "2024-04-22T19:34:43.506Z"
   },
   {
    "duration": 9,
    "start_time": "2024-04-22T19:34:52.942Z"
   },
   {
    "duration": 5,
    "start_time": "2024-04-22T19:35:44.748Z"
   },
   {
    "duration": 4,
    "start_time": "2024-04-22T19:35:55.842Z"
   },
   {
    "duration": 6,
    "start_time": "2024-04-22T19:36:41.752Z"
   },
   {
    "duration": 20,
    "start_time": "2024-04-22T19:38:13.570Z"
   },
   {
    "duration": 16,
    "start_time": "2024-04-22T19:38:27.933Z"
   },
   {
    "duration": 26,
    "start_time": "2024-04-22T19:52:06.305Z"
   },
   {
    "duration": 22,
    "start_time": "2024-04-22T19:54:01.074Z"
   },
   {
    "duration": 9,
    "start_time": "2024-04-22T20:02:01.093Z"
   },
   {
    "duration": 8,
    "start_time": "2024-04-22T20:05:52.913Z"
   },
   {
    "duration": 13,
    "start_time": "2024-04-22T20:06:22.155Z"
   },
   {
    "duration": 7,
    "start_time": "2024-04-22T20:06:50.038Z"
   },
   {
    "duration": 15,
    "start_time": "2024-04-22T20:08:07.543Z"
   },
   {
    "duration": 14,
    "start_time": "2024-04-22T20:09:02.987Z"
   },
   {
    "duration": 2695,
    "start_time": "2024-04-23T14:52:16.778Z"
   },
   {
    "duration": 1659,
    "start_time": "2024-04-23T14:52:47.357Z"
   },
   {
    "duration": 136,
    "start_time": "2024-04-23T14:53:07.674Z"
   },
   {
    "duration": 142,
    "start_time": "2024-04-24T12:58:43.913Z"
   },
   {
    "duration": 177,
    "start_time": "2024-04-24T12:59:17.908Z"
   },
   {
    "duration": 9,
    "start_time": "2024-04-24T13:10:00.024Z"
   },
   {
    "duration": 63,
    "start_time": "2024-04-24T13:10:17.063Z"
   },
   {
    "duration": 6,
    "start_time": "2024-04-25T07:59:52.046Z"
   },
   {
    "duration": 15,
    "start_time": "2024-04-25T08:00:01.603Z"
   },
   {
    "duration": 69,
    "start_time": "2024-04-25T08:01:47.026Z"
   },
   {
    "duration": 24,
    "start_time": "2024-04-25T08:02:12.483Z"
   },
   {
    "duration": 22,
    "start_time": "2024-04-25T08:02:28.353Z"
   },
   {
    "duration": 20,
    "start_time": "2024-04-25T08:03:47.895Z"
   },
   {
    "duration": 9,
    "start_time": "2024-04-25T08:06:30.130Z"
   },
   {
    "duration": 10,
    "start_time": "2024-04-25T08:07:28.453Z"
   },
   {
    "duration": 13,
    "start_time": "2024-04-25T08:07:47.302Z"
   },
   {
    "duration": 85,
    "start_time": "2024-04-25T08:40:23.572Z"
   },
   {
    "duration": 82,
    "start_time": "2024-04-25T08:40:58.003Z"
   },
   {
    "duration": 56,
    "start_time": "2024-04-25T08:41:31.965Z"
   },
   {
    "duration": 96,
    "start_time": "2024-04-25T08:45:01.942Z"
   },
   {
    "duration": 108,
    "start_time": "2024-04-25T09:56:29.859Z"
   },
   {
    "duration": 153,
    "start_time": "2024-04-25T09:56:46.681Z"
   },
   {
    "duration": 140,
    "start_time": "2024-04-25T09:57:12.462Z"
   },
   {
    "duration": 142,
    "start_time": "2024-04-25T09:57:43.871Z"
   },
   {
    "duration": 109,
    "start_time": "2024-04-25T11:28:45.021Z"
   },
   {
    "duration": 95,
    "start_time": "2024-04-25T11:29:04.184Z"
   },
   {
    "duration": 17,
    "start_time": "2024-04-25T11:59:05.385Z"
   },
   {
    "duration": 28,
    "start_time": "2024-04-25T11:59:23.165Z"
   },
   {
    "duration": 32,
    "start_time": "2024-04-25T13:11:17.127Z"
   },
   {
    "duration": 157,
    "start_time": "2024-04-25T13:20:46.770Z"
   },
   {
    "duration": 151,
    "start_time": "2024-04-25T13:21:08.945Z"
   },
   {
    "duration": 145,
    "start_time": "2024-04-25T13:21:18.433Z"
   },
   {
    "duration": 156,
    "start_time": "2024-04-25T13:22:32.719Z"
   },
   {
    "duration": 150,
    "start_time": "2024-04-25T13:22:51.131Z"
   },
   {
    "duration": 171,
    "start_time": "2024-04-25T13:23:46.728Z"
   },
   {
    "duration": 166,
    "start_time": "2024-04-25T13:27:40.185Z"
   },
   {
    "duration": 150,
    "start_time": "2024-04-25T13:39:16.798Z"
   },
   {
    "duration": 162,
    "start_time": "2024-04-25T13:39:50.938Z"
   },
   {
    "duration": 5,
    "start_time": "2024-04-25T13:43:29.282Z"
   },
   {
    "duration": 14,
    "start_time": "2024-04-25T13:43:44.176Z"
   },
   {
    "duration": 14,
    "start_time": "2024-04-25T13:44:43.356Z"
   },
   {
    "duration": 14,
    "start_time": "2024-04-25T14:14:06.354Z"
   },
   {
    "duration": 14,
    "start_time": "2024-04-25T14:14:38.955Z"
   },
   {
    "duration": 15,
    "start_time": "2024-04-25T14:15:02.062Z"
   },
   {
    "duration": 17,
    "start_time": "2024-04-25T14:15:31.413Z"
   },
   {
    "duration": 151,
    "start_time": "2024-04-25T14:16:54.475Z"
   },
   {
    "duration": 116,
    "start_time": "2024-04-25T14:16:58.838Z"
   },
   {
    "duration": 38,
    "start_time": "2024-04-25T14:17:02.894Z"
   },
   {
    "duration": 532,
    "start_time": "2024-04-28T08:37:42.957Z"
   },
   {
    "duration": 98,
    "start_time": "2024-04-28T08:37:48.140Z"
   },
   {
    "duration": 37,
    "start_time": "2024-04-28T08:37:57.336Z"
   },
   {
    "duration": 31,
    "start_time": "2024-04-28T08:38:57.480Z"
   },
   {
    "duration": 33,
    "start_time": "2024-04-28T08:40:22.070Z"
   },
   {
    "duration": 32,
    "start_time": "2024-04-28T08:40:36.776Z"
   },
   {
    "duration": 36,
    "start_time": "2024-04-28T08:40:54.683Z"
   },
   {
    "duration": 33,
    "start_time": "2024-04-28T08:41:08.679Z"
   },
   {
    "duration": 32,
    "start_time": "2024-04-28T08:41:14.296Z"
   },
   {
    "duration": 4,
    "start_time": "2024-04-28T08:46:23.135Z"
   },
   {
    "duration": 66,
    "start_time": "2024-04-28T08:46:25.094Z"
   },
   {
    "duration": 27,
    "start_time": "2024-04-28T08:46:40.489Z"
   },
   {
    "duration": 423,
    "start_time": "2024-04-28T08:49:36.831Z"
   },
   {
    "duration": 391,
    "start_time": "2024-04-28T08:53:57.540Z"
   },
   {
    "duration": 393,
    "start_time": "2024-04-28T08:54:29.237Z"
   },
   {
    "duration": 391,
    "start_time": "2024-04-28T08:54:46.594Z"
   },
   {
    "duration": 414,
    "start_time": "2024-04-28T08:55:20.671Z"
   },
   {
    "duration": 394,
    "start_time": "2024-04-28T08:55:39.244Z"
   },
   {
    "duration": 1847,
    "start_time": "2024-04-28T08:56:47.446Z"
   },
   {
    "duration": 18,
    "start_time": "2024-04-28T08:59:14.179Z"
   },
   {
    "duration": 1570,
    "start_time": "2024-04-28T08:59:30.677Z"
   },
   {
    "duration": 95,
    "start_time": "2024-04-28T08:59:33.023Z"
   },
   {
    "duration": 3,
    "start_time": "2024-04-28T08:59:35.616Z"
   },
   {
    "duration": 144,
    "start_time": "2024-04-28T08:59:53.970Z"
   },
   {
    "duration": 3,
    "start_time": "2024-04-28T08:59:56.408Z"
   },
   {
    "duration": 90,
    "start_time": "2024-04-28T09:00:07.850Z"
   },
   {
    "duration": 4,
    "start_time": "2024-04-28T09:00:11.890Z"
   },
   {
    "duration": 393,
    "start_time": "2024-04-28T09:00:18.953Z"
   },
   {
    "duration": 8,
    "start_time": "2024-04-28T09:02:16.187Z"
   },
   {
    "duration": 502,
    "start_time": "2024-04-28T09:03:06.716Z"
   },
   {
    "duration": 7,
    "start_time": "2024-04-28T09:03:57.715Z"
   },
   {
    "duration": 9,
    "start_time": "2024-04-28T09:04:59.783Z"
   },
   {
    "duration": 34,
    "start_time": "2024-04-28T09:05:48.748Z"
   },
   {
    "duration": 34,
    "start_time": "2024-04-28T09:06:11.054Z"
   },
   {
    "duration": 34,
    "start_time": "2024-04-28T09:06:34.187Z"
   },
   {
    "duration": 152,
    "start_time": "2024-04-28T09:07:29.944Z"
   },
   {
    "duration": 105,
    "start_time": "2024-04-28T09:07:45.797Z"
   },
   {
    "duration": 147,
    "start_time": "2024-04-28T09:07:57.088Z"
   },
   {
    "duration": 108,
    "start_time": "2024-04-28T09:08:03.617Z"
   },
   {
    "duration": 7,
    "start_time": "2024-04-28T09:08:08.736Z"
   },
   {
    "duration": 108,
    "start_time": "2024-04-28T09:08:16.337Z"
   },
   {
    "duration": 109,
    "start_time": "2024-04-28T09:08:57.955Z"
   },
   {
    "duration": 182,
    "start_time": "2024-04-28T09:09:20.799Z"
   },
   {
    "duration": 189,
    "start_time": "2024-04-28T09:10:16.200Z"
   },
   {
    "duration": 13,
    "start_time": "2024-04-28T09:10:52.727Z"
   },
   {
    "duration": 10,
    "start_time": "2024-04-28T09:14:39.964Z"
   },
   {
    "duration": 10,
    "start_time": "2024-04-28T09:15:05.845Z"
   },
   {
    "duration": 23,
    "start_time": "2024-04-28T09:16:02.844Z"
   },
   {
    "duration": 24,
    "start_time": "2024-04-28T09:16:37.095Z"
   },
   {
    "duration": 21,
    "start_time": "2024-04-28T09:18:12.357Z"
   },
   {
    "duration": 24,
    "start_time": "2024-04-28T09:18:39.619Z"
   },
   {
    "duration": 152,
    "start_time": "2024-04-28T09:22:32.893Z"
   },
   {
    "duration": 159,
    "start_time": "2024-04-28T09:22:38.345Z"
   },
   {
    "duration": 184,
    "start_time": "2024-04-28T09:22:45.190Z"
   },
   {
    "duration": 0,
    "start_time": "2024-04-28T09:25:26.273Z"
   },
   {
    "duration": 13742,
    "start_time": "2024-04-28T09:25:33.967Z"
   },
   {
    "duration": 12153,
    "start_time": "2024-04-28T09:26:16.202Z"
   },
   {
    "duration": 0,
    "start_time": "2024-04-28T09:26:28.356Z"
   },
   {
    "duration": 23,
    "start_time": "2024-04-28T09:28:43.649Z"
   },
   {
    "duration": 7,
    "start_time": "2024-04-28T09:29:12.131Z"
   },
   {
    "duration": 140,
    "start_time": "2024-04-28T09:30:22.529Z"
   },
   {
    "duration": 5,
    "start_time": "2024-04-28T09:31:24.977Z"
   },
   {
    "duration": 7,
    "start_time": "2024-04-28T09:32:40.109Z"
   },
   {
    "duration": 6,
    "start_time": "2024-04-28T09:32:59.062Z"
   },
   {
    "duration": 13,
    "start_time": "2024-04-28T09:34:03.315Z"
   },
   {
    "duration": 7,
    "start_time": "2024-04-28T09:35:50.524Z"
   },
   {
    "duration": 101,
    "start_time": "2024-04-28T09:36:00.584Z"
   },
   {
    "duration": 7,
    "start_time": "2024-04-28T09:36:03.675Z"
   },
   {
    "duration": 4,
    "start_time": "2024-04-28T09:37:20.442Z"
   },
   {
    "duration": 161,
    "start_time": "2024-04-28T09:38:12.549Z"
   },
   {
    "duration": 101,
    "start_time": "2024-04-28T09:38:40.631Z"
   },
   {
    "duration": 6,
    "start_time": "2024-04-28T09:38:42.788Z"
   },
   {
    "duration": 6,
    "start_time": "2024-04-28T09:38:56.671Z"
   },
   {
    "duration": 9,
    "start_time": "2024-04-28T09:39:39.006Z"
   },
   {
    "duration": 11,
    "start_time": "2024-04-28T09:39:51.418Z"
   },
   {
    "duration": 13,
    "start_time": "2024-04-28T09:40:09.850Z"
   },
   {
    "duration": 137,
    "start_time": "2024-04-28T09:41:05.831Z"
   },
   {
    "duration": 8,
    "start_time": "2024-04-28T09:43:02.525Z"
   },
   {
    "duration": 100,
    "start_time": "2024-04-28T09:43:08.893Z"
   },
   {
    "duration": 6,
    "start_time": "2024-04-28T09:43:10.890Z"
   },
   {
    "duration": 3,
    "start_time": "2024-04-28T09:43:12.897Z"
   },
   {
    "duration": 7,
    "start_time": "2024-04-28T09:43:15.191Z"
   },
   {
    "duration": 9,
    "start_time": "2024-04-28T09:46:04.977Z"
   },
   {
    "duration": 9,
    "start_time": "2024-04-28T09:46:15.620Z"
   },
   {
    "duration": 36,
    "start_time": "2024-04-28T09:48:37.282Z"
   },
   {
    "duration": 4,
    "start_time": "2024-04-28T09:57:23.687Z"
   },
   {
    "duration": 4,
    "start_time": "2024-04-28T09:57:33.025Z"
   },
   {
    "duration": 7,
    "start_time": "2024-04-28T09:58:02.083Z"
   },
   {
    "duration": 3,
    "start_time": "2024-04-28T09:59:18.051Z"
   },
   {
    "duration": 4,
    "start_time": "2024-04-28T09:59:28.555Z"
   },
   {
    "duration": 3,
    "start_time": "2024-04-28T09:59:36.247Z"
   },
   {
    "duration": 8,
    "start_time": "2024-04-28T09:59:49.548Z"
   },
   {
    "duration": 3,
    "start_time": "2024-04-28T10:00:11.639Z"
   },
   {
    "duration": 143,
    "start_time": "2024-04-28T10:00:24.589Z"
   },
   {
    "duration": 104,
    "start_time": "2024-04-28T10:00:27.238Z"
   },
   {
    "duration": 6,
    "start_time": "2024-04-28T10:00:33.118Z"
   },
   {
    "duration": 3,
    "start_time": "2024-04-28T10:00:34.923Z"
   },
   {
    "duration": 4,
    "start_time": "2024-04-28T10:00:36.103Z"
   },
   {
    "duration": 4,
    "start_time": "2024-04-28T10:00:45.530Z"
   },
   {
    "duration": 140,
    "start_time": "2024-04-28T10:00:48.532Z"
   },
   {
    "duration": 102,
    "start_time": "2024-04-28T10:00:53.586Z"
   },
   {
    "duration": 7,
    "start_time": "2024-04-28T10:00:55.345Z"
   },
   {
    "duration": 4,
    "start_time": "2024-04-28T10:01:00.379Z"
   },
   {
    "duration": 3,
    "start_time": "2024-04-28T10:01:07.970Z"
   },
   {
    "duration": 7,
    "start_time": "2024-04-28T10:01:58.573Z"
   },
   {
    "duration": 8,
    "start_time": "2024-04-28T10:02:13.495Z"
   },
   {
    "duration": 6,
    "start_time": "2024-04-28T10:02:44.862Z"
   },
   {
    "duration": 4,
    "start_time": "2024-04-28T10:02:49.030Z"
   },
   {
    "duration": 6,
    "start_time": "2024-04-28T10:03:27.603Z"
   },
   {
    "duration": 8,
    "start_time": "2024-04-28T10:03:55.118Z"
   },
   {
    "duration": 18,
    "start_time": "2024-04-28T10:04:07.630Z"
   },
   {
    "duration": 8,
    "start_time": "2024-04-28T10:04:57.827Z"
   },
   {
    "duration": 145,
    "start_time": "2024-04-28T10:07:30.412Z"
   },
   {
    "duration": 103,
    "start_time": "2024-04-28T10:07:41.127Z"
   },
   {
    "duration": 6,
    "start_time": "2024-04-28T10:07:41.613Z"
   },
   {
    "duration": 3,
    "start_time": "2024-04-28T10:07:42.538Z"
   },
   {
    "duration": 6,
    "start_time": "2024-04-28T10:07:47.202Z"
   },
   {
    "duration": 16,
    "start_time": "2024-04-28T10:08:39.985Z"
   },
   {
    "duration": 40,
    "start_time": "2024-04-28T10:08:49.029Z"
   },
   {
    "duration": 16,
    "start_time": "2024-04-28T10:08:55.084Z"
   },
   {
    "duration": 15,
    "start_time": "2024-04-28T10:08:58.429Z"
   },
   {
    "duration": 18,
    "start_time": "2024-04-28T10:09:02.731Z"
   },
   {
    "duration": 7,
    "start_time": "2024-04-28T10:09:21.647Z"
   },
   {
    "duration": 7,
    "start_time": "2024-04-28T10:09:41.403Z"
   },
   {
    "duration": 1250,
    "start_time": "2024-04-28T10:10:30.988Z"
   },
   {
    "duration": 17,
    "start_time": "2024-04-28T10:10:50.966Z"
   },
   {
    "duration": 9,
    "start_time": "2024-04-28T10:11:40.445Z"
   },
   {
    "duration": 6,
    "start_time": "2024-04-28T10:12:19.092Z"
   },
   {
    "duration": 9,
    "start_time": "2024-04-28T10:14:31.779Z"
   },
   {
    "duration": 30,
    "start_time": "2024-04-28T10:14:46.479Z"
   },
   {
    "duration": 71,
    "start_time": "2024-04-28T10:18:23.158Z"
   },
   {
    "duration": 12,
    "start_time": "2024-04-28T10:19:29.598Z"
   },
   {
    "duration": 30,
    "start_time": "2024-04-28T10:19:37.096Z"
   },
   {
    "duration": 1174,
    "start_time": "2024-04-28T10:24:52.116Z"
   },
   {
    "duration": 30,
    "start_time": "2024-04-28T10:25:12.778Z"
   },
   {
    "duration": 1148,
    "start_time": "2024-04-28T10:25:21.169Z"
   },
   {
    "duration": 31,
    "start_time": "2024-04-28T10:27:11.060Z"
   },
   {
    "duration": 21,
    "start_time": "2024-04-28T10:29:23.247Z"
   },
   {
    "duration": 3,
    "start_time": "2024-04-28T10:29:23.344Z"
   },
   {
    "duration": 24,
    "start_time": "2024-04-28T10:30:08.014Z"
   },
   {
    "duration": 22,
    "start_time": "2024-04-28T10:30:16.530Z"
   },
   {
    "duration": 1055,
    "start_time": "2024-04-28T10:30:32.018Z"
   },
   {
    "duration": 34,
    "start_time": "2024-04-28T10:30:50.618Z"
   },
   {
    "duration": 23,
    "start_time": "2024-04-28T10:31:04.010Z"
   },
   {
    "duration": 21,
    "start_time": "2024-04-28T10:31:13.585Z"
   },
   {
    "duration": 132,
    "start_time": "2024-04-28T10:31:17.949Z"
   },
   {
    "duration": 96,
    "start_time": "2024-04-28T10:31:24.081Z"
   },
   {
    "duration": 32,
    "start_time": "2024-04-28T10:31:45.026Z"
   },
   {
    "duration": 28,
    "start_time": "2024-04-28T10:31:51.425Z"
   },
   {
    "duration": 24,
    "start_time": "2024-04-28T10:32:11.301Z"
   },
   {
    "duration": 24,
    "start_time": "2024-04-28T10:32:25.842Z"
   },
   {
    "duration": 22,
    "start_time": "2024-04-28T10:32:41.988Z"
   },
   {
    "duration": 22,
    "start_time": "2024-04-28T10:32:47.065Z"
   },
   {
    "duration": 20,
    "start_time": "2024-04-28T10:32:53.118Z"
   },
   {
    "duration": 20,
    "start_time": "2024-04-28T10:33:02.593Z"
   },
   {
    "duration": 29,
    "start_time": "2024-04-28T10:33:06.793Z"
   },
   {
    "duration": 31,
    "start_time": "2024-04-28T10:35:11.778Z"
   },
   {
    "duration": 18,
    "start_time": "2024-04-28T10:40:55.427Z"
   },
   {
    "duration": 16,
    "start_time": "2024-04-28T10:41:27.161Z"
   },
   {
    "duration": 8,
    "start_time": "2024-04-28T10:41:38.179Z"
   },
   {
    "duration": 4,
    "start_time": "2024-04-28T10:41:45.498Z"
   },
   {
    "duration": 3,
    "start_time": "2024-04-28T10:41:52.906Z"
   },
   {
    "duration": 7,
    "start_time": "2024-04-28T10:42:57.387Z"
   },
   {
    "duration": 5,
    "start_time": "2024-04-28T10:43:04.941Z"
   },
   {
    "duration": 112,
    "start_time": "2024-04-28T10:46:17.539Z"
   },
   {
    "duration": 7,
    "start_time": "2024-04-28T10:46:23.764Z"
   },
   {
    "duration": 30,
    "start_time": "2024-04-28T10:47:34.615Z"
   },
   {
    "duration": 32,
    "start_time": "2024-04-28T10:48:03.281Z"
   },
   {
    "duration": 34,
    "start_time": "2024-04-28T10:48:12.529Z"
   },
   {
    "duration": 34,
    "start_time": "2024-04-28T10:49:46.529Z"
   },
   {
    "duration": 36,
    "start_time": "2024-04-28T10:50:02.810Z"
   },
   {
    "duration": 3,
    "start_time": "2024-04-28T10:52:44.984Z"
   },
   {
    "duration": 3,
    "start_time": "2024-04-28T10:53:21.341Z"
   },
   {
    "duration": 12,
    "start_time": "2024-04-28T10:53:51.637Z"
   },
   {
    "duration": 13,
    "start_time": "2024-04-28T10:54:20.062Z"
   },
   {
    "duration": 14,
    "start_time": "2024-04-28T10:54:35.609Z"
   },
   {
    "duration": 14,
    "start_time": "2024-04-28T10:54:50.544Z"
   },
   {
    "duration": 3,
    "start_time": "2024-04-28T10:54:54.055Z"
   },
   {
    "duration": 14,
    "start_time": "2024-04-28T10:55:01.535Z"
   },
   {
    "duration": 3,
    "start_time": "2024-04-28T10:55:16.583Z"
   },
   {
    "duration": 33,
    "start_time": "2024-04-28T10:55:38.583Z"
   },
   {
    "duration": 35,
    "start_time": "2024-04-28T10:55:46.244Z"
   },
   {
    "duration": 35,
    "start_time": "2024-04-28T10:56:15.505Z"
   },
   {
    "duration": 3,
    "start_time": "2024-04-28T10:56:25.788Z"
   },
   {
    "duration": 34,
    "start_time": "2024-04-28T10:56:54.361Z"
   },
   {
    "duration": 36,
    "start_time": "2024-04-28T10:57:02.133Z"
   },
   {
    "duration": 18,
    "start_time": "2024-04-28T10:57:42.983Z"
   },
   {
    "duration": 37,
    "start_time": "2024-04-28T10:57:59.800Z"
   },
   {
    "duration": 38,
    "start_time": "2024-04-28T10:58:43.547Z"
   },
   {
    "duration": 36,
    "start_time": "2024-04-28T10:59:40.745Z"
   },
   {
    "duration": 42,
    "start_time": "2024-04-28T11:00:46.699Z"
   },
   {
    "duration": 23,
    "start_time": "2024-04-28T11:01:53.439Z"
   },
   {
    "duration": 30,
    "start_time": "2024-04-28T11:02:01.442Z"
   },
   {
    "duration": 21,
    "start_time": "2024-04-28T11:02:59.093Z"
   },
   {
    "duration": 22,
    "start_time": "2024-04-28T11:03:10.810Z"
   },
   {
    "duration": 24,
    "start_time": "2024-04-28T11:03:17.843Z"
   },
   {
    "duration": 25,
    "start_time": "2024-04-28T11:03:39.059Z"
   },
   {
    "duration": 88,
    "start_time": "2024-04-28T11:05:41.204Z"
   },
   {
    "duration": 19,
    "start_time": "2024-04-28T11:05:47.180Z"
   },
   {
    "duration": 20,
    "start_time": "2024-04-28T11:05:56.361Z"
   },
   {
    "duration": 21,
    "start_time": "2024-04-28T11:08:08.007Z"
   },
   {
    "duration": 110,
    "start_time": "2024-04-28T11:19:26.028Z"
   },
   {
    "duration": 604,
    "start_time": "2024-04-28T11:19:37.934Z"
   },
   {
    "duration": 30,
    "start_time": "2024-04-28T11:21:13.384Z"
   },
   {
    "duration": 133,
    "start_time": "2024-04-28T11:21:28.292Z"
   },
   {
    "duration": 5,
    "start_time": "2024-04-28T11:23:49.579Z"
   },
   {
    "duration": 30,
    "start_time": "2024-04-28T11:23:58.375Z"
   },
   {
    "duration": 66,
    "start_time": "2024-04-28T11:24:20.540Z"
   },
   {
    "duration": 4,
    "start_time": "2024-04-28T11:27:43.917Z"
   },
   {
    "duration": 24,
    "start_time": "2024-04-28T11:27:47.982Z"
   },
   {
    "duration": 22,
    "start_time": "2024-04-28T11:28:09.094Z"
   },
   {
    "duration": 25,
    "start_time": "2024-04-28T11:46:42.020Z"
   },
   {
    "duration": 103,
    "start_time": "2024-04-28T11:47:02.330Z"
   },
   {
    "duration": 78,
    "start_time": "2024-04-28T11:50:38.853Z"
   },
   {
    "duration": 23,
    "start_time": "2024-04-28T11:50:43.238Z"
   },
   {
    "duration": 24,
    "start_time": "2024-04-28T11:50:58.982Z"
   },
   {
    "duration": 30,
    "start_time": "2024-04-28T11:51:12.364Z"
   },
   {
    "duration": 19,
    "start_time": "2024-04-28T11:51:40.591Z"
   },
   {
    "duration": 28,
    "start_time": "2024-04-28T11:52:23.501Z"
   },
   {
    "duration": 27,
    "start_time": "2024-04-28T11:53:20.375Z"
   },
   {
    "duration": 24,
    "start_time": "2024-04-28T11:54:00.828Z"
   },
   {
    "duration": 31,
    "start_time": "2024-04-28T11:55:09.664Z"
   },
   {
    "duration": 29,
    "start_time": "2024-04-28T11:56:51.129Z"
   },
   {
    "duration": 34,
    "start_time": "2024-04-28T11:57:10.621Z"
   },
   {
    "duration": 208,
    "start_time": "2024-04-28T11:57:24.104Z"
   },
   {
    "duration": 161,
    "start_time": "2024-04-28T11:58:00.497Z"
   },
   {
    "duration": 133,
    "start_time": "2024-04-28T11:59:32.869Z"
   },
   {
    "duration": 251,
    "start_time": "2024-04-28T12:01:08.247Z"
   },
   {
    "duration": 128,
    "start_time": "2024-04-28T12:01:39.453Z"
   },
   {
    "duration": 125,
    "start_time": "2024-04-28T12:01:52.453Z"
   },
   {
    "duration": 125,
    "start_time": "2024-04-28T12:02:15.774Z"
   },
   {
    "duration": 140,
    "start_time": "2024-04-28T12:03:22.782Z"
   },
   {
    "duration": 100,
    "start_time": "2024-04-28T12:03:25.805Z"
   },
   {
    "duration": 6,
    "start_time": "2024-04-28T12:03:26.783Z"
   },
   {
    "duration": 4,
    "start_time": "2024-04-28T12:03:27.517Z"
   },
   {
    "duration": 9,
    "start_time": "2024-04-28T12:03:30.504Z"
   },
   {
    "duration": 9,
    "start_time": "2024-04-28T12:03:32.175Z"
   },
   {
    "duration": 252,
    "start_time": "2024-04-28T12:03:34.703Z"
   },
   {
    "duration": 11,
    "start_time": "2024-04-28T12:03:58.398Z"
   },
   {
    "duration": 20,
    "start_time": "2024-04-28T12:04:17.438Z"
   },
   {
    "duration": 138,
    "start_time": "2024-04-28T12:04:38.760Z"
   },
   {
    "duration": 99,
    "start_time": "2024-04-28T12:04:39.647Z"
   },
   {
    "duration": 6,
    "start_time": "2024-04-28T12:04:40.107Z"
   },
   {
    "duration": 3,
    "start_time": "2024-04-28T12:04:42.560Z"
   },
   {
    "duration": 9,
    "start_time": "2024-04-28T12:04:44.551Z"
   },
   {
    "duration": 8,
    "start_time": "2024-04-28T12:04:45.870Z"
   },
   {
    "duration": 19,
    "start_time": "2024-04-28T12:04:52.292Z"
   },
   {
    "duration": 25,
    "start_time": "2024-04-28T12:06:55.174Z"
   },
   {
    "duration": 30,
    "start_time": "2024-04-28T12:07:19.962Z"
   },
   {
    "duration": 136,
    "start_time": "2024-04-28T12:07:55.541Z"
   },
   {
    "duration": 43,
    "start_time": "2024-04-28T12:08:12.117Z"
   },
   {
    "duration": 58,
    "start_time": "2024-04-28T12:08:55.044Z"
   },
   {
    "duration": 39,
    "start_time": "2024-04-28T12:09:13.175Z"
   },
   {
    "duration": 22,
    "start_time": "2024-04-28T12:10:49.543Z"
   },
   {
    "duration": 137,
    "start_time": "2024-04-28T12:13:24.520Z"
   },
   {
    "duration": 4,
    "start_time": "2024-04-28T12:13:41.249Z"
   },
   {
    "duration": 159,
    "start_time": "2024-04-28T12:13:46.992Z"
   },
   {
    "duration": 19,
    "start_time": "2024-04-28T12:14:07.006Z"
   },
   {
    "duration": 51,
    "start_time": "2024-04-28T12:14:30.567Z"
   },
   {
    "duration": 145,
    "start_time": "2024-04-28T12:15:01.081Z"
   },
   {
    "duration": 102,
    "start_time": "2024-04-28T12:15:02.562Z"
   },
   {
    "duration": 6,
    "start_time": "2024-04-28T12:15:03.154Z"
   },
   {
    "duration": 4,
    "start_time": "2024-04-28T12:15:03.667Z"
   },
   {
    "duration": 9,
    "start_time": "2024-04-28T12:15:04.309Z"
   },
   {
    "duration": 9,
    "start_time": "2024-04-28T12:15:05.193Z"
   },
   {
    "duration": 57,
    "start_time": "2024-04-28T12:15:07.505Z"
   },
   {
    "duration": 19,
    "start_time": "2024-04-28T12:15:26.261Z"
   },
   {
    "duration": 75,
    "start_time": "2024-04-28T12:16:28.207Z"
   },
   {
    "duration": 20,
    "start_time": "2024-04-28T12:16:39.121Z"
   },
   {
    "duration": 24,
    "start_time": "2024-04-28T12:17:02.437Z"
   },
   {
    "duration": 20,
    "start_time": "2024-04-28T12:17:22.999Z"
   },
   {
    "duration": 59,
    "start_time": "2024-04-28T12:17:54.934Z"
   },
   {
    "duration": 19,
    "start_time": "2024-04-28T12:19:57.880Z"
   },
   {
    "duration": 1060,
    "start_time": "2024-04-28T12:23:31.472Z"
   },
   {
    "duration": 1071,
    "start_time": "2024-04-28T12:23:55.187Z"
   },
   {
    "duration": 38,
    "start_time": "2024-04-28T12:26:15.340Z"
   },
   {
    "duration": 19,
    "start_time": "2024-04-28T12:26:22.242Z"
   },
   {
    "duration": 1078,
    "start_time": "2024-04-28T12:28:11.436Z"
   },
   {
    "duration": 29,
    "start_time": "2024-04-28T12:29:32.701Z"
   },
   {
    "duration": 195,
    "start_time": "2024-04-28T12:31:09.163Z"
   },
   {
    "duration": 45,
    "start_time": "2024-04-28T12:31:31.171Z"
   },
   {
    "duration": 228,
    "start_time": "2024-04-28T12:32:30.004Z"
   },
   {
    "duration": 32,
    "start_time": "2024-04-28T12:33:52.128Z"
   },
   {
    "duration": 31,
    "start_time": "2024-04-28T12:34:15.684Z"
   },
   {
    "duration": 22,
    "start_time": "2024-04-28T12:34:46.654Z"
   },
   {
    "duration": 20,
    "start_time": "2024-04-28T12:43:02.970Z"
   },
   {
    "duration": 20,
    "start_time": "2024-04-28T12:43:52.055Z"
   },
   {
    "duration": 94,
    "start_time": "2024-04-28T13:22:53.539Z"
   },
   {
    "duration": 87,
    "start_time": "2024-04-28T13:23:19.735Z"
   },
   {
    "duration": 19,
    "start_time": "2024-04-28T13:24:07.447Z"
   },
   {
    "duration": 86,
    "start_time": "2024-04-28T13:25:01.682Z"
   },
   {
    "duration": 207,
    "start_time": "2024-04-28T13:28:30.626Z"
   },
   {
    "duration": 208,
    "start_time": "2024-04-28T13:28:42.251Z"
   },
   {
    "duration": 198,
    "start_time": "2024-04-28T13:28:59.749Z"
   },
   {
    "duration": 197,
    "start_time": "2024-04-28T13:29:22.465Z"
   },
   {
    "duration": 210,
    "start_time": "2024-04-28T13:29:43.580Z"
   },
   {
    "duration": 195,
    "start_time": "2024-04-28T13:30:04.741Z"
   },
   {
    "duration": 199,
    "start_time": "2024-04-28T13:30:13.163Z"
   },
   {
    "duration": 25,
    "start_time": "2024-04-28T13:31:01.334Z"
   },
   {
    "duration": 21,
    "start_time": "2024-04-28T13:31:36.237Z"
   },
   {
    "duration": 31,
    "start_time": "2024-04-28T13:31:56.386Z"
   },
   {
    "duration": 137,
    "start_time": "2024-04-28T13:32:19.143Z"
   },
   {
    "duration": 156,
    "start_time": "2024-04-28T13:32:32.705Z"
   },
   {
    "duration": 138,
    "start_time": "2024-04-28T13:33:27.031Z"
   },
   {
    "duration": 163,
    "start_time": "2024-04-28T13:33:47.895Z"
   },
   {
    "duration": 140,
    "start_time": "2024-04-28T13:33:58.025Z"
   },
   {
    "duration": 19,
    "start_time": "2024-04-28T13:34:35.822Z"
   },
   {
    "duration": 20,
    "start_time": "2024-04-28T13:34:55.296Z"
   },
   {
    "duration": 20,
    "start_time": "2024-04-28T13:35:18.243Z"
   },
   {
    "duration": 20,
    "start_time": "2024-04-28T13:35:31.398Z"
   },
   {
    "duration": 20,
    "start_time": "2024-04-28T13:36:02.420Z"
   },
   {
    "duration": 25,
    "start_time": "2024-04-28T13:36:15.081Z"
   },
   {
    "duration": 21,
    "start_time": "2024-04-28T13:39:31.861Z"
   },
   {
    "duration": 580,
    "start_time": "2024-04-28T13:40:22.913Z"
   },
   {
    "duration": 20,
    "start_time": "2024-04-28T13:40:31.959Z"
   },
   {
    "duration": 4501,
    "start_time": "2024-04-28T13:41:03.083Z"
   },
   {
    "duration": 136,
    "start_time": "2024-04-28T13:41:14.917Z"
   },
   {
    "duration": 97,
    "start_time": "2024-04-28T13:41:16.489Z"
   },
   {
    "duration": 7,
    "start_time": "2024-04-28T13:41:17.077Z"
   },
   {
    "duration": 4,
    "start_time": "2024-04-28T13:41:18.897Z"
   },
   {
    "duration": 9,
    "start_time": "2024-04-28T13:41:19.456Z"
   },
   {
    "duration": 8,
    "start_time": "2024-04-28T13:41:20.506Z"
   },
   {
    "duration": 704,
    "start_time": "2024-04-28T13:41:27.771Z"
   },
   {
    "duration": 19,
    "start_time": "2024-04-28T13:41:30.821Z"
   },
   {
    "duration": 6,
    "start_time": "2024-04-28T13:41:51.973Z"
   },
   {
    "duration": 1087,
    "start_time": "2024-04-28T13:49:11.054Z"
   },
   {
    "duration": 6,
    "start_time": "2024-04-28T13:49:15.566Z"
   },
   {
    "duration": 5,
    "start_time": "2024-04-28T13:57:14.726Z"
   },
   {
    "duration": 5,
    "start_time": "2024-04-28T13:57:30.030Z"
   },
   {
    "duration": 6,
    "start_time": "2024-04-28T13:57:59.535Z"
   },
   {
    "duration": 38,
    "start_time": "2024-04-28T13:59:40.862Z"
   },
   {
    "duration": 7,
    "start_time": "2024-04-28T14:00:40.208Z"
   },
   {
    "duration": 8,
    "start_time": "2024-04-28T14:00:45.443Z"
   },
   {
    "duration": 36,
    "start_time": "2024-04-28T14:00:58.360Z"
   },
   {
    "duration": 9,
    "start_time": "2024-04-28T14:03:27.505Z"
   },
   {
    "duration": 6,
    "start_time": "2024-04-28T14:03:34.472Z"
   },
   {
    "duration": 112,
    "start_time": "2024-04-28T14:04:48.604Z"
   },
   {
    "duration": 80,
    "start_time": "2024-04-28T14:04:54.497Z"
   },
   {
    "duration": 121,
    "start_time": "2024-04-28T14:06:11.128Z"
   },
   {
    "duration": 135,
    "start_time": "2024-04-28T14:08:58.372Z"
   },
   {
    "duration": 102,
    "start_time": "2024-04-28T14:09:00.574Z"
   },
   {
    "duration": 5,
    "start_time": "2024-04-28T14:09:01.451Z"
   },
   {
    "duration": 4,
    "start_time": "2024-04-28T14:09:02.155Z"
   },
   {
    "duration": 9,
    "start_time": "2024-04-28T14:09:03.164Z"
   },
   {
    "duration": 9,
    "start_time": "2024-04-28T14:09:05.311Z"
   },
   {
    "duration": 1525,
    "start_time": "2024-04-28T14:09:07.298Z"
   },
   {
    "duration": 114,
    "start_time": "2024-04-28T14:09:09.961Z"
   },
   {
    "duration": 107,
    "start_time": "2024-04-28T14:11:24.410Z"
   },
   {
    "duration": 40,
    "start_time": "2024-04-28T14:14:15.683Z"
   },
   {
    "duration": 714,
    "start_time": "2024-04-28T14:14:25.172Z"
   },
   {
    "duration": 100,
    "start_time": "2024-04-28T14:14:26.847Z"
   },
   {
    "duration": 6,
    "start_time": "2024-04-28T14:14:27.243Z"
   },
   {
    "duration": 3,
    "start_time": "2024-04-28T14:14:28.265Z"
   },
   {
    "duration": 9,
    "start_time": "2024-04-28T14:14:29.023Z"
   },
   {
    "duration": 8,
    "start_time": "2024-04-28T14:14:29.641Z"
   },
   {
    "duration": 1532,
    "start_time": "2024-04-28T14:14:30.819Z"
   },
   {
    "duration": 41,
    "start_time": "2024-04-28T14:14:56.427Z"
   },
   {
    "duration": 691,
    "start_time": "2024-04-28T14:15:03.456Z"
   },
   {
    "duration": 104,
    "start_time": "2024-04-28T14:15:05.314Z"
   },
   {
    "duration": 8,
    "start_time": "2024-04-28T14:15:07.604Z"
   },
   {
    "duration": 4,
    "start_time": "2024-04-28T14:15:08.516Z"
   },
   {
    "duration": 8,
    "start_time": "2024-04-28T14:15:10.855Z"
   },
   {
    "duration": 8,
    "start_time": "2024-04-28T14:15:13.352Z"
   },
   {
    "duration": 1453,
    "start_time": "2024-04-28T14:15:16.489Z"
   },
   {
    "duration": 41,
    "start_time": "2024-04-28T14:17:03.689Z"
   },
   {
    "duration": 636,
    "start_time": "2024-04-28T14:17:40.960Z"
   },
   {
    "duration": 84,
    "start_time": "2024-04-28T14:17:46.998Z"
   },
   {
    "duration": 88,
    "start_time": "2024-04-28T14:18:51.903Z"
   },
   {
    "duration": 95,
    "start_time": "2024-04-28T14:19:09.335Z"
   },
   {
    "duration": 404,
    "start_time": "2024-04-28T14:19:32.457Z"
   },
   {
    "duration": 91,
    "start_time": "2024-04-28T14:19:50.418Z"
   },
   {
    "duration": 492,
    "start_time": "2024-04-28T14:20:39.994Z"
   },
   {
    "duration": 113,
    "start_time": "2024-04-28T14:20:42.442Z"
   },
   {
    "duration": 6,
    "start_time": "2024-04-28T14:20:44.416Z"
   },
   {
    "duration": 3,
    "start_time": "2024-04-28T14:20:47.021Z"
   },
   {
    "duration": 10,
    "start_time": "2024-04-28T14:20:48.510Z"
   },
   {
    "duration": 8,
    "start_time": "2024-04-28T14:20:50.525Z"
   },
   {
    "duration": 1467,
    "start_time": "2024-04-28T14:20:55.626Z"
   },
   {
    "duration": 7,
    "start_time": "2024-04-28T14:21:00.016Z"
   },
   {
    "duration": 7,
    "start_time": "2024-04-28T14:21:19.280Z"
   },
   {
    "duration": 620,
    "start_time": "2024-04-28T14:21:49.132Z"
   },
   {
    "duration": 6,
    "start_time": "2024-04-28T14:21:51.294Z"
   },
   {
    "duration": 62,
    "start_time": "2024-04-28T14:22:44.700Z"
   },
   {
    "duration": 45,
    "start_time": "2024-04-28T14:22:52.989Z"
   },
   {
    "duration": 4,
    "start_time": "2024-04-28T14:29:21.942Z"
   },
   {
    "duration": 30,
    "start_time": "2024-04-28T14:30:31.314Z"
   },
   {
    "duration": 378,
    "start_time": "2024-04-28T14:31:08.978Z"
   },
   {
    "duration": 587,
    "start_time": "2024-04-28T14:31:44.397Z"
   },
   {
    "duration": 12,
    "start_time": "2024-04-28T14:31:48.567Z"
   },
   {
    "duration": 6,
    "start_time": "2024-04-28T14:32:11.261Z"
   },
   {
    "duration": 7,
    "start_time": "2024-04-28T14:32:17.125Z"
   },
   {
    "duration": 6,
    "start_time": "2024-04-28T14:32:19.124Z"
   },
   {
    "duration": 12,
    "start_time": "2024-04-28T14:33:16.490Z"
   },
   {
    "duration": 5,
    "start_time": "2024-04-28T14:33:23.083Z"
   },
   {
    "duration": 565,
    "start_time": "2024-04-28T14:33:33.232Z"
   },
   {
    "duration": 4,
    "start_time": "2024-04-28T14:33:40.112Z"
   },
   {
    "duration": 29,
    "start_time": "2024-04-28T14:33:59.752Z"
   },
   {
    "duration": 4,
    "start_time": "2024-04-28T14:35:53.547Z"
   },
   {
    "duration": 7,
    "start_time": "2024-04-28T14:36:13.401Z"
   },
   {
    "duration": 9,
    "start_time": "2024-04-28T14:37:59.143Z"
   },
   {
    "duration": 8,
    "start_time": "2024-04-28T14:38:05.344Z"
   },
   {
    "duration": 8,
    "start_time": "2024-04-28T14:38:46.017Z"
   },
   {
    "duration": 75,
    "start_time": "2024-04-28T14:39:02.520Z"
   },
   {
    "duration": 2,
    "start_time": "2024-04-28T14:39:07.843Z"
   },
   {
    "duration": 6,
    "start_time": "2024-04-28T14:39:10.703Z"
   },
   {
    "duration": 5,
    "start_time": "2024-04-28T14:39:41.426Z"
   },
   {
    "duration": 4,
    "start_time": "2024-04-28T14:39:54.932Z"
   },
   {
    "duration": 13,
    "start_time": "2024-04-28T14:40:03.130Z"
   },
   {
    "duration": 5,
    "start_time": "2024-04-28T14:50:32.624Z"
   },
   {
    "duration": 2,
    "start_time": "2024-04-28T14:50:55.652Z"
   },
   {
    "duration": 6,
    "start_time": "2024-04-28T14:51:15.300Z"
   },
   {
    "duration": 31,
    "start_time": "2024-04-28T14:52:01.357Z"
   },
   {
    "duration": 3,
    "start_time": "2024-04-28T14:54:00.346Z"
   },
   {
    "duration": 4,
    "start_time": "2024-04-28T14:54:08.615Z"
   },
   {
    "duration": 6,
    "start_time": "2024-04-28T14:55:25.049Z"
   },
   {
    "duration": 7,
    "start_time": "2024-04-28T14:55:30.559Z"
   },
   {
    "duration": 3,
    "start_time": "2024-04-28T14:56:36.294Z"
   },
   {
    "duration": 5,
    "start_time": "2024-04-28T14:56:49.308Z"
   },
   {
    "duration": 3,
    "start_time": "2024-04-28T14:56:56.285Z"
   },
   {
    "duration": 29,
    "start_time": "2024-04-28T14:57:06.312Z"
   },
   {
    "duration": 7,
    "start_time": "2024-04-28T14:57:41.350Z"
   },
   {
    "duration": 6,
    "start_time": "2024-04-28T14:58:13.869Z"
   },
   {
    "duration": 7,
    "start_time": "2024-04-28T14:58:22.549Z"
   },
   {
    "duration": 14,
    "start_time": "2024-04-28T15:00:03.332Z"
   },
   {
    "duration": 13,
    "start_time": "2024-04-28T15:00:46.523Z"
   },
   {
    "duration": 15,
    "start_time": "2024-04-28T15:00:58.774Z"
   },
   {
    "duration": 22,
    "start_time": "2024-04-28T15:01:11.674Z"
   },
   {
    "duration": 15,
    "start_time": "2024-04-28T15:02:59.302Z"
   },
   {
    "duration": 13,
    "start_time": "2024-04-28T15:07:27.294Z"
   },
   {
    "duration": 13,
    "start_time": "2024-04-28T15:07:43.151Z"
   },
   {
    "duration": 15,
    "start_time": "2024-04-28T15:08:15.799Z"
   },
   {
    "duration": 23,
    "start_time": "2024-04-28T15:08:27.360Z"
   },
   {
    "duration": 5,
    "start_time": "2024-04-28T15:12:54.250Z"
   },
   {
    "duration": 3,
    "start_time": "2024-04-28T15:13:07.806Z"
   },
   {
    "duration": 11,
    "start_time": "2024-04-28T15:13:38.642Z"
   },
   {
    "duration": 1136,
    "start_time": "2024-04-28T15:14:48.608Z"
   },
   {
    "duration": 11,
    "start_time": "2024-04-28T15:15:37.529Z"
   },
   {
    "duration": 10,
    "start_time": "2024-04-28T15:15:40.744Z"
   },
   {
    "duration": 12,
    "start_time": "2024-04-28T15:15:44.745Z"
   },
   {
    "duration": 13,
    "start_time": "2024-04-28T15:15:51.930Z"
   },
   {
    "duration": 8,
    "start_time": "2024-04-28T15:16:36.905Z"
   },
   {
    "duration": 4,
    "start_time": "2024-04-28T15:17:44.577Z"
   },
   {
    "duration": 9,
    "start_time": "2024-04-28T15:17:57.503Z"
   },
   {
    "duration": 14,
    "start_time": "2024-04-28T15:18:01.256Z"
   },
   {
    "duration": 6,
    "start_time": "2024-04-28T15:18:51.257Z"
   },
   {
    "duration": 1470,
    "start_time": "2024-04-28T15:19:24.787Z"
   },
   {
    "duration": 19,
    "start_time": "2024-04-28T15:19:42.689Z"
   },
   {
    "duration": 18,
    "start_time": "2024-04-28T15:19:55.705Z"
   },
   {
    "duration": 1397,
    "start_time": "2024-04-28T15:20:20.111Z"
   },
   {
    "duration": 1326,
    "start_time": "2024-04-28T15:20:30.610Z"
   },
   {
    "duration": 1274,
    "start_time": "2024-04-28T15:20:55.975Z"
   },
   {
    "duration": 1207,
    "start_time": "2024-04-28T15:21:33.897Z"
   },
   {
    "duration": 1222,
    "start_time": "2024-04-28T15:22:59.842Z"
   },
   {
    "duration": 3,
    "start_time": "2024-04-28T15:27:45.437Z"
   },
   {
    "duration": 503,
    "start_time": "2024-04-28T15:28:00.694Z"
   },
   {
    "duration": 97,
    "start_time": "2024-04-28T15:28:04.953Z"
   },
   {
    "duration": 6,
    "start_time": "2024-04-28T15:28:07.738Z"
   },
   {
    "duration": 4,
    "start_time": "2024-04-28T15:28:08.489Z"
   },
   {
    "duration": 10,
    "start_time": "2024-04-28T15:28:09.267Z"
   },
   {
    "duration": 8,
    "start_time": "2024-04-28T15:28:10.285Z"
   },
   {
    "duration": 1466,
    "start_time": "2024-04-28T15:28:11.775Z"
   },
   {
    "duration": 8,
    "start_time": "2024-04-28T15:28:13.242Z"
   },
   {
    "duration": 5,
    "start_time": "2024-04-28T15:28:13.799Z"
   },
   {
    "duration": 1357,
    "start_time": "2024-04-28T15:28:14.637Z"
   },
   {
    "duration": 3,
    "start_time": "2024-04-28T15:28:17.561Z"
   },
   {
    "duration": 407,
    "start_time": "2024-04-28T15:28:40.630Z"
   },
   {
    "duration": 422,
    "start_time": "2024-04-28T15:29:27.981Z"
   },
   {
    "duration": 401,
    "start_time": "2024-04-28T15:29:53.976Z"
   },
   {
    "duration": 395,
    "start_time": "2024-04-28T15:30:11.389Z"
   },
   {
    "duration": 140,
    "start_time": "2024-04-28T15:30:42.297Z"
   },
   {
    "duration": 98,
    "start_time": "2024-04-28T15:30:44.534Z"
   },
   {
    "duration": 5,
    "start_time": "2024-04-28T15:30:45.280Z"
   },
   {
    "duration": 4,
    "start_time": "2024-04-28T15:30:45.903Z"
   },
   {
    "duration": 10,
    "start_time": "2024-04-28T15:30:46.481Z"
   },
   {
    "duration": 8,
    "start_time": "2024-04-28T15:30:46.963Z"
   },
   {
    "duration": 1429,
    "start_time": "2024-04-28T15:30:47.606Z"
   },
   {
    "duration": 7,
    "start_time": "2024-04-28T15:30:49.037Z"
   },
   {
    "duration": 10,
    "start_time": "2024-04-28T15:30:49.045Z"
   },
   {
    "duration": 1346,
    "start_time": "2024-04-28T15:30:49.385Z"
   },
   {
    "duration": 3,
    "start_time": "2024-04-28T15:30:50.859Z"
   },
   {
    "duration": 407,
    "start_time": "2024-04-28T15:30:51.584Z"
   },
   {
    "duration": 20,
    "start_time": "2024-04-28T15:31:03.218Z"
   },
   {
    "duration": 17,
    "start_time": "2024-04-28T16:40:43.135Z"
   },
   {
    "duration": 7151,
    "start_time": "2024-04-28T16:42:23.112Z"
   },
   {
    "duration": 7085,
    "start_time": "2024-04-28T16:42:57.005Z"
   },
   {
    "duration": 7059,
    "start_time": "2024-04-28T16:43:08.897Z"
   },
   {
    "duration": 6987,
    "start_time": "2024-04-28T16:43:44.856Z"
   },
   {
    "duration": 7133,
    "start_time": "2024-04-28T16:44:00.825Z"
   },
   {
    "duration": 7460,
    "start_time": "2024-04-28T16:44:42.225Z"
   },
   {
    "duration": 6,
    "start_time": "2024-04-28T16:46:51.297Z"
   },
   {
    "duration": 94,
    "start_time": "2024-04-28T16:49:56.000Z"
   },
   {
    "duration": 262,
    "start_time": "2024-04-28T16:50:45.592Z"
   },
   {
    "duration": 285,
    "start_time": "2024-04-28T16:52:03.612Z"
   },
   {
    "duration": 88,
    "start_time": "2024-04-28T16:53:15.968Z"
   },
   {
    "duration": 91,
    "start_time": "2024-04-28T16:53:22.425Z"
   },
   {
    "duration": 291,
    "start_time": "2024-04-28T16:55:58.094Z"
   },
   {
    "duration": 323,
    "start_time": "2024-04-28T16:59:31.931Z"
   },
   {
    "duration": 302,
    "start_time": "2024-04-28T16:59:37.145Z"
   },
   {
    "duration": 842,
    "start_time": "2024-04-28T16:59:42.875Z"
   },
   {
    "duration": 18,
    "start_time": "2024-04-28T17:03:11.801Z"
   },
   {
    "duration": 1594,
    "start_time": "2024-04-28T17:15:36.838Z"
   },
   {
    "duration": 1841,
    "start_time": "2024-04-28T17:16:04.390Z"
   },
   {
    "duration": 1570,
    "start_time": "2024-04-28T17:16:28.238Z"
   },
   {
    "duration": 1568,
    "start_time": "2024-04-28T17:17:59.596Z"
   },
   {
    "duration": 3,
    "start_time": "2024-04-28T17:18:01.207Z"
   },
   {
    "duration": 13,
    "start_time": "2024-04-28T17:18:01.754Z"
   },
   {
    "duration": 7,
    "start_time": "2024-04-28T17:18:02.398Z"
   },
   {
    "duration": 90,
    "start_time": "2024-04-28T17:18:03.117Z"
   },
   {
    "duration": 1648,
    "start_time": "2024-04-28T17:18:04.112Z"
   },
   {
    "duration": 8,
    "start_time": "2024-04-28T17:18:07.841Z"
   },
   {
    "duration": 4,
    "start_time": "2024-04-28T17:18:09.348Z"
   },
   {
    "duration": 3,
    "start_time": "2024-04-28T17:18:20.316Z"
   },
   {
    "duration": 1409,
    "start_time": "2024-04-28T17:18:21.753Z"
   },
   {
    "duration": 3,
    "start_time": "2024-04-28T17:18:27.014Z"
   },
   {
    "duration": 399,
    "start_time": "2024-04-28T17:18:28.188Z"
   },
   {
    "duration": 20,
    "start_time": "2024-04-28T17:18:43.316Z"
   },
   {
    "duration": 13,
    "start_time": "2024-04-28T17:19:07.953Z"
   },
   {
    "duration": 6,
    "start_time": "2024-04-28T17:21:41.482Z"
   },
   {
    "duration": 12,
    "start_time": "2024-04-28T17:22:13.091Z"
   },
   {
    "duration": 13,
    "start_time": "2024-04-28T17:22:20.274Z"
   },
   {
    "duration": 15,
    "start_time": "2024-04-28T17:23:27.992Z"
   },
   {
    "duration": 12,
    "start_time": "2024-04-28T17:35:13.976Z"
   },
   {
    "duration": 117,
    "start_time": "2024-04-28T17:38:00.541Z"
   },
   {
    "duration": 97,
    "start_time": "2024-04-28T17:38:11.766Z"
   },
   {
    "duration": 8,
    "start_time": "2024-04-28T17:38:35.749Z"
   },
   {
    "duration": 97,
    "start_time": "2024-04-28T17:39:33.456Z"
   },
   {
    "duration": 107,
    "start_time": "2024-04-28T17:40:01.148Z"
   },
   {
    "duration": 89,
    "start_time": "2024-04-28T17:40:55.265Z"
   },
   {
    "duration": 87,
    "start_time": "2024-04-28T17:51:08.886Z"
   },
   {
    "duration": 104,
    "start_time": "2024-04-28T17:52:38.027Z"
   },
   {
    "duration": 116,
    "start_time": "2024-04-28T17:53:30.118Z"
   },
   {
    "duration": 110,
    "start_time": "2024-04-28T18:00:36.381Z"
   },
   {
    "duration": 112,
    "start_time": "2024-04-28T18:01:02.305Z"
   },
   {
    "duration": 116,
    "start_time": "2024-04-28T18:01:16.707Z"
   },
   {
    "duration": 108,
    "start_time": "2024-04-28T18:03:09.508Z"
   },
   {
    "duration": 95,
    "start_time": "2024-04-28T18:03:51.544Z"
   },
   {
    "duration": 109,
    "start_time": "2024-04-28T18:04:03.615Z"
   },
   {
    "duration": 91,
    "start_time": "2024-04-28T18:04:17.994Z"
   },
   {
    "duration": 110,
    "start_time": "2024-04-28T18:04:34.005Z"
   },
   {
    "duration": 109,
    "start_time": "2024-04-28T18:06:28.929Z"
   },
   {
    "duration": 1491,
    "start_time": "2024-04-28T18:10:53.080Z"
   },
   {
    "duration": 76,
    "start_time": "2024-04-28T18:11:03.832Z"
   },
   {
    "duration": 110,
    "start_time": "2024-04-28T18:11:22.108Z"
   },
   {
    "duration": 1325,
    "start_time": "2024-04-28T18:13:54.760Z"
   },
   {
    "duration": 118,
    "start_time": "2024-04-28T18:14:18.385Z"
   },
   {
    "duration": 1140,
    "start_time": "2024-04-28T18:14:26.613Z"
   },
   {
    "duration": 88,
    "start_time": "2024-04-28T18:15:04.278Z"
   },
   {
    "duration": 677,
    "start_time": "2024-04-28T18:17:02.798Z"
   },
   {
    "duration": 732,
    "start_time": "2024-04-28T18:17:27.502Z"
   },
   {
    "duration": 89,
    "start_time": "2024-04-28T18:17:34.375Z"
   },
   {
    "duration": 101,
    "start_time": "2024-04-28T18:17:55.315Z"
   },
   {
    "duration": 99,
    "start_time": "2024-04-28T18:19:13.358Z"
   },
   {
    "duration": 116,
    "start_time": "2024-04-28T18:21:22.093Z"
   },
   {
    "duration": 94,
    "start_time": "2024-04-28T18:24:27.900Z"
   },
   {
    "duration": 109,
    "start_time": "2024-04-28T18:26:56.141Z"
   },
   {
    "duration": 91,
    "start_time": "2024-04-28T18:29:00.108Z"
   },
   {
    "duration": 99,
    "start_time": "2024-04-28T18:29:13.556Z"
   },
   {
    "duration": 98,
    "start_time": "2024-04-28T18:29:35.736Z"
   },
   {
    "duration": 96,
    "start_time": "2024-04-28T18:34:53.111Z"
   },
   {
    "duration": 96,
    "start_time": "2024-04-28T18:35:48.918Z"
   },
   {
    "duration": 116,
    "start_time": "2024-04-28T18:36:04.118Z"
   },
   {
    "duration": 92,
    "start_time": "2024-04-28T18:36:16.912Z"
   },
   {
    "duration": 92,
    "start_time": "2024-04-28T18:36:27.118Z"
   },
   {
    "duration": 92,
    "start_time": "2024-04-28T18:36:51.569Z"
   },
   {
    "duration": 98,
    "start_time": "2024-04-28T18:38:53.222Z"
   },
   {
    "duration": 126,
    "start_time": "2024-04-28T18:40:04.664Z"
   },
   {
    "duration": 138,
    "start_time": "2024-04-28T18:40:14.313Z"
   },
   {
    "duration": 130,
    "start_time": "2024-04-28T18:40:19.557Z"
   },
   {
    "duration": 118,
    "start_time": "2024-04-28T18:40:50.114Z"
   },
   {
    "duration": 130,
    "start_time": "2024-04-28T18:44:52.092Z"
   },
   {
    "duration": 117,
    "start_time": "2024-04-28T18:46:16.141Z"
   },
   {
    "duration": 114,
    "start_time": "2024-04-28T18:48:54.785Z"
   },
   {
    "duration": 96,
    "start_time": "2024-04-28T18:49:23.701Z"
   },
   {
    "duration": 115,
    "start_time": "2024-04-28T18:49:56.547Z"
   },
   {
    "duration": 92,
    "start_time": "2024-04-28T18:54:55.854Z"
   },
   {
    "duration": 115,
    "start_time": "2024-04-28T19:01:20.055Z"
   },
   {
    "duration": 115,
    "start_time": "2024-04-28T19:03:31.607Z"
   },
   {
    "duration": 1036,
    "start_time": "2024-04-28T19:05:23.896Z"
   },
   {
    "duration": 101,
    "start_time": "2024-04-28T19:05:49.472Z"
   },
   {
    "duration": 104,
    "start_time": "2024-04-28T19:09:36.594Z"
   },
   {
    "duration": 1114,
    "start_time": "2024-04-28T19:13:06.385Z"
   },
   {
    "duration": 95,
    "start_time": "2024-04-28T19:13:34.593Z"
   },
   {
    "duration": 99,
    "start_time": "2024-04-28T19:13:39.519Z"
   },
   {
    "duration": 100,
    "start_time": "2024-04-28T19:13:42.794Z"
   },
   {
    "duration": 97,
    "start_time": "2024-04-28T19:13:49.038Z"
   },
   {
    "duration": 94,
    "start_time": "2024-04-28T19:13:55.624Z"
   },
   {
    "duration": 94,
    "start_time": "2024-04-28T19:14:11.940Z"
   },
   {
    "duration": 94,
    "start_time": "2024-04-28T19:14:17.208Z"
   },
   {
    "duration": 108,
    "start_time": "2024-04-28T19:14:41.910Z"
   },
   {
    "duration": 117,
    "start_time": "2024-04-28T19:22:52.288Z"
   },
   {
    "duration": 110,
    "start_time": "2024-04-28T19:22:56.607Z"
   },
   {
    "duration": 145,
    "start_time": "2024-04-28T19:23:59.177Z"
   },
   {
    "duration": 151,
    "start_time": "2024-04-28T19:24:16.750Z"
   },
   {
    "duration": 425,
    "start_time": "2024-04-28T19:29:06.139Z"
   },
   {
    "duration": 95,
    "start_time": "2024-04-28T19:32:36.166Z"
   },
   {
    "duration": 94,
    "start_time": "2024-04-28T19:36:52.887Z"
   },
   {
    "duration": 1458,
    "start_time": "2024-04-28T19:37:39.536Z"
   },
   {
    "duration": 107,
    "start_time": "2024-04-28T19:38:04.744Z"
   },
   {
    "duration": 107,
    "start_time": "2024-04-28T19:38:14.816Z"
   },
   {
    "duration": 107,
    "start_time": "2024-04-28T19:38:19.911Z"
   },
   {
    "duration": 120,
    "start_time": "2024-04-28T19:38:26.039Z"
   },
   {
    "duration": 116,
    "start_time": "2024-04-28T19:44:23.033Z"
   },
   {
    "duration": 119,
    "start_time": "2024-04-28T19:46:29.186Z"
   },
   {
    "duration": 1346,
    "start_time": "2024-04-28T19:49:31.576Z"
   },
   {
    "duration": 77,
    "start_time": "2024-04-28T19:49:52.362Z"
   },
   {
    "duration": 121,
    "start_time": "2024-04-28T19:49:58.706Z"
   },
   {
    "duration": 120,
    "start_time": "2024-04-28T19:50:59.793Z"
   },
   {
    "duration": 117,
    "start_time": "2024-04-28T19:51:29.709Z"
   },
   {
    "duration": 120,
    "start_time": "2024-04-28T19:52:11.250Z"
   },
   {
    "duration": 398,
    "start_time": "2024-04-28T19:52:25.187Z"
   },
   {
    "duration": 133,
    "start_time": "2024-04-28T19:53:40.484Z"
   },
   {
    "duration": 141,
    "start_time": "2024-04-28T19:53:49.585Z"
   },
   {
    "duration": 169,
    "start_time": "2024-04-28T19:54:42.626Z"
   },
   {
    "duration": 121,
    "start_time": "2024-04-28T19:54:54.155Z"
   },
   {
    "duration": 127,
    "start_time": "2024-04-28T19:55:34.635Z"
   },
   {
    "duration": 124,
    "start_time": "2024-04-28T19:55:39.740Z"
   },
   {
    "duration": 8,
    "start_time": "2024-04-28T19:59:00.789Z"
   },
   {
    "duration": 119,
    "start_time": "2024-04-28T19:59:09.332Z"
   },
   {
    "duration": 120,
    "start_time": "2024-04-28T19:59:18.376Z"
   },
   {
    "duration": 1522,
    "start_time": "2024-04-28T19:59:24.569Z"
   },
   {
    "duration": 4,
    "start_time": "2024-04-28T19:59:26.092Z"
   },
   {
    "duration": 13,
    "start_time": "2024-04-28T19:59:26.450Z"
   },
   {
    "duration": 7,
    "start_time": "2024-04-28T19:59:27.050Z"
   },
   {
    "duration": 90,
    "start_time": "2024-04-28T19:59:27.606Z"
   },
   {
    "duration": 1717,
    "start_time": "2024-04-28T19:59:28.108Z"
   },
   {
    "duration": 7,
    "start_time": "2024-04-28T19:59:29.827Z"
   },
   {
    "duration": 3,
    "start_time": "2024-04-28T19:59:29.835Z"
   },
   {
    "duration": 1338,
    "start_time": "2024-04-28T19:59:29.839Z"
   },
   {
    "duration": 5,
    "start_time": "2024-04-28T19:59:31.179Z"
   },
   {
    "duration": 425,
    "start_time": "2024-04-28T19:59:31.186Z"
   },
   {
    "duration": 15,
    "start_time": "2024-04-28T19:59:31.914Z"
   },
   {
    "duration": 101,
    "start_time": "2024-04-28T19:59:33.600Z"
   },
   {
    "duration": 99,
    "start_time": "2024-04-28T19:59:34.355Z"
   },
   {
    "duration": 100,
    "start_time": "2024-04-28T19:59:35.051Z"
   },
   {
    "duration": 116,
    "start_time": "2024-04-28T19:59:35.892Z"
   },
   {
    "duration": 122,
    "start_time": "2024-04-28T19:59:36.775Z"
   },
   {
    "duration": 111,
    "start_time": "2024-04-28T19:59:37.405Z"
   },
   {
    "duration": 90,
    "start_time": "2024-04-28T19:59:38.259Z"
   },
   {
    "duration": 133,
    "start_time": "2024-04-28T19:59:38.839Z"
   },
   {
    "duration": 104,
    "start_time": "2024-04-28T19:59:43.921Z"
   },
   {
    "duration": 119,
    "start_time": "2024-04-28T19:59:48.023Z"
   },
   {
    "duration": 107,
    "start_time": "2024-04-28T19:59:58.564Z"
   },
   {
    "duration": 112,
    "start_time": "2024-04-28T20:00:22.127Z"
   },
   {
    "duration": 113,
    "start_time": "2024-04-28T20:03:35.458Z"
   },
   {
    "duration": 128,
    "start_time": "2024-04-28T20:04:14.786Z"
   },
   {
    "duration": 109,
    "start_time": "2024-04-28T20:08:27.300Z"
   },
   {
    "duration": 1285,
    "start_time": "2024-04-28T20:09:11.525Z"
   },
   {
    "duration": 9,
    "start_time": "2024-04-28T20:09:18.648Z"
   },
   {
    "duration": 108,
    "start_time": "2024-04-28T20:09:23.870Z"
   },
   {
    "duration": 5,
    "start_time": "2024-04-28T20:09:46.493Z"
   },
   {
    "duration": 106,
    "start_time": "2024-04-28T20:09:57.954Z"
   },
   {
    "duration": 180,
    "start_time": "2024-04-28T20:10:17.422Z"
   },
   {
    "duration": 84,
    "start_time": "2024-04-28T20:10:51.208Z"
   },
   {
    "duration": 224,
    "start_time": "2024-04-28T20:10:56.953Z"
   },
   {
    "duration": 218,
    "start_time": "2024-04-28T20:11:03.597Z"
   },
   {
    "duration": 228,
    "start_time": "2024-04-28T20:11:33.630Z"
   },
   {
    "duration": 264,
    "start_time": "2024-04-28T20:14:38.413Z"
   },
   {
    "duration": 602,
    "start_time": "2024-04-28T20:15:41.167Z"
   },
   {
    "duration": 248,
    "start_time": "2024-04-28T20:16:26.984Z"
   },
   {
    "duration": 255,
    "start_time": "2024-04-28T20:17:27.487Z"
   },
   {
    "duration": 241,
    "start_time": "2024-04-28T20:17:33.545Z"
   },
   {
    "duration": 244,
    "start_time": "2024-04-28T20:17:49.278Z"
   },
   {
    "duration": 235,
    "start_time": "2024-04-28T20:18:37.155Z"
   },
   {
    "duration": 263,
    "start_time": "2024-04-28T20:18:52.644Z"
   },
   {
    "duration": 240,
    "start_time": "2024-04-28T20:19:03.518Z"
   },
   {
    "duration": 1392,
    "start_time": "2024-04-28T20:19:25.516Z"
   },
   {
    "duration": 232,
    "start_time": "2024-04-28T20:19:44.832Z"
   },
   {
    "duration": 251,
    "start_time": "2024-04-28T20:20:14.520Z"
   },
   {
    "duration": 238,
    "start_time": "2024-04-28T20:23:43.384Z"
   },
   {
    "duration": 356,
    "start_time": "2024-04-28T20:27:17.450Z"
   },
   {
    "duration": 327,
    "start_time": "2024-04-28T20:30:24.801Z"
   },
   {
    "duration": 654,
    "start_time": "2024-04-28T20:31:09.865Z"
   },
   {
    "duration": 654,
    "start_time": "2024-04-28T20:32:22.858Z"
   },
   {
    "duration": 970,
    "start_time": "2024-04-28T20:32:42.288Z"
   },
   {
    "duration": 555,
    "start_time": "2024-04-28T20:33:22.450Z"
   },
   {
    "duration": 576,
    "start_time": "2024-04-28T20:34:15.412Z"
   },
   {
    "duration": 577,
    "start_time": "2024-04-28T20:34:29.172Z"
   },
   {
    "duration": 6,
    "start_time": "2024-04-28T20:38:28.217Z"
   },
   {
    "duration": 141,
    "start_time": "2024-04-28T20:38:33.971Z"
   },
   {
    "duration": 6,
    "start_time": "2024-04-28T20:40:32.232Z"
   },
   {
    "duration": 7,
    "start_time": "2024-04-28T20:40:36.644Z"
   },
   {
    "duration": 136,
    "start_time": "2024-04-28T20:40:48.060Z"
   },
   {
    "duration": 100,
    "start_time": "2024-04-28T20:41:51.124Z"
   },
   {
    "duration": 108,
    "start_time": "2024-04-28T20:42:01.252Z"
   },
   {
    "duration": 111,
    "start_time": "2024-04-28T20:42:08.716Z"
   },
   {
    "duration": 133,
    "start_time": "2024-04-28T20:42:20.486Z"
   },
   {
    "duration": 115,
    "start_time": "2024-04-28T20:42:32.161Z"
   },
   {
    "duration": 127,
    "start_time": "2024-04-28T20:42:38.102Z"
   },
   {
    "duration": 136,
    "start_time": "2024-04-28T20:42:41.249Z"
   },
   {
    "duration": 134,
    "start_time": "2024-04-28T20:42:46.132Z"
   },
   {
    "duration": 141,
    "start_time": "2024-04-28T20:42:49.673Z"
   },
   {
    "duration": 137,
    "start_time": "2024-04-28T20:43:40.796Z"
   },
   {
    "duration": 143,
    "start_time": "2024-04-28T20:45:11.158Z"
   },
   {
    "duration": 3,
    "start_time": "2024-04-28T20:46:55.046Z"
   },
   {
    "duration": 137,
    "start_time": "2024-04-28T20:47:07.717Z"
   },
   {
    "duration": 139,
    "start_time": "2024-04-28T20:47:17.357Z"
   },
   {
    "duration": 72,
    "start_time": "2024-04-28T20:50:27.918Z"
   },
   {
    "duration": 278,
    "start_time": "2024-04-28T20:50:33.358Z"
   },
   {
    "duration": 280,
    "start_time": "2024-04-28T20:50:51.383Z"
   },
   {
    "duration": 280,
    "start_time": "2024-04-28T20:51:41.622Z"
   },
   {
    "duration": 297,
    "start_time": "2024-04-28T20:51:57.750Z"
   },
   {
    "duration": 272,
    "start_time": "2024-04-28T20:52:05.247Z"
   },
   {
    "duration": 147,
    "start_time": "2024-04-28T20:53:43.735Z"
   },
   {
    "duration": 274,
    "start_time": "2024-04-28T20:54:29.311Z"
   },
   {
    "duration": 248,
    "start_time": "2024-04-28T20:54:40.008Z"
   },
   {
    "duration": 274,
    "start_time": "2024-04-28T20:54:45.213Z"
   },
   {
    "duration": 304,
    "start_time": "2024-04-28T20:54:52.527Z"
   },
   {
    "duration": 289,
    "start_time": "2024-04-28T20:55:09.428Z"
   },
   {
    "duration": 283,
    "start_time": "2024-04-28T20:55:21.748Z"
   },
   {
    "duration": 280,
    "start_time": "2024-04-28T20:55:52.255Z"
   },
   {
    "duration": 273,
    "start_time": "2024-04-28T20:58:05.936Z"
   },
   {
    "duration": 285,
    "start_time": "2024-04-28T20:58:11.646Z"
   },
   {
    "duration": 289,
    "start_time": "2024-04-28T20:58:31.589Z"
   },
   {
    "duration": 289,
    "start_time": "2024-04-28T20:58:43.886Z"
   },
   {
    "duration": 288,
    "start_time": "2024-04-28T20:59:18.744Z"
   },
   {
    "duration": 310,
    "start_time": "2024-04-28T20:59:26.096Z"
   },
   {
    "duration": 278,
    "start_time": "2024-04-28T21:00:26.008Z"
   },
   {
    "duration": 295,
    "start_time": "2024-04-28T21:00:45.925Z"
   },
   {
    "duration": 299,
    "start_time": "2024-04-28T21:01:59.156Z"
   },
   {
    "duration": 295,
    "start_time": "2024-04-28T21:02:10.945Z"
   },
   {
    "duration": 257,
    "start_time": "2024-04-28T21:03:49.809Z"
   },
   {
    "duration": 304,
    "start_time": "2024-04-28T21:04:00.000Z"
   },
   {
    "duration": 289,
    "start_time": "2024-04-28T21:04:08.112Z"
   },
   {
    "duration": 283,
    "start_time": "2024-04-28T21:04:27.731Z"
   },
   {
    "duration": 292,
    "start_time": "2024-04-28T21:04:36.477Z"
   },
   {
    "duration": 289,
    "start_time": "2024-04-28T21:04:55.073Z"
   },
   {
    "duration": 292,
    "start_time": "2024-04-28T21:05:22.305Z"
   },
   {
    "duration": 257,
    "start_time": "2024-04-28T21:05:35.922Z"
   },
   {
    "duration": 297,
    "start_time": "2024-04-28T21:05:40.528Z"
   },
   {
    "duration": 293,
    "start_time": "2024-04-28T21:05:47.216Z"
   },
   {
    "duration": 319,
    "start_time": "2024-04-28T21:05:57.876Z"
   },
   {
    "duration": 304,
    "start_time": "2024-04-28T21:06:10.776Z"
   },
   {
    "duration": 300,
    "start_time": "2024-04-28T21:06:19.528Z"
   },
   {
    "duration": 308,
    "start_time": "2024-04-28T21:06:26.984Z"
   },
   {
    "duration": 299,
    "start_time": "2024-04-28T21:06:39.688Z"
   },
   {
    "duration": 311,
    "start_time": "2024-04-28T21:06:46.321Z"
   },
   {
    "duration": 307,
    "start_time": "2024-04-28T21:07:05.819Z"
   },
   {
    "duration": 306,
    "start_time": "2024-04-28T21:07:26.422Z"
   },
   {
    "duration": 635,
    "start_time": "2024-04-28T21:08:40.003Z"
   },
   {
    "duration": 1118,
    "start_time": "2024-04-28T21:08:53.828Z"
   },
   {
    "duration": 1048,
    "start_time": "2024-04-28T21:09:25.188Z"
   },
   {
    "duration": 263,
    "start_time": "2024-04-28T21:09:45.494Z"
   },
   {
    "duration": 278,
    "start_time": "2024-04-28T21:10:17.827Z"
   },
   {
    "duration": 139,
    "start_time": "2024-04-29T08:06:49.893Z"
   },
   {
    "duration": 426,
    "start_time": "2024-04-29T08:09:06.132Z"
   },
   {
    "duration": 840,
    "start_time": "2024-04-29T08:10:27.414Z"
   },
   {
    "duration": 264,
    "start_time": "2024-04-29T09:54:53.499Z"
   },
   {
    "duration": 838,
    "start_time": "2024-04-29T09:55:10.443Z"
   },
   {
    "duration": 6,
    "start_time": "2024-04-29T10:14:19.526Z"
   },
   {
    "duration": 6,
    "start_time": "2024-04-29T10:16:31.767Z"
   },
   {
    "duration": 15,
    "start_time": "2024-04-29T10:16:35.970Z"
   },
   {
    "duration": 14,
    "start_time": "2024-04-29T10:17:25.327Z"
   },
   {
    "duration": 22,
    "start_time": "2024-04-29T10:18:11.684Z"
   },
   {
    "duration": 23,
    "start_time": "2024-04-29T10:18:47.297Z"
   },
   {
    "duration": 21,
    "start_time": "2024-04-29T10:20:10.536Z"
   },
   {
    "duration": 20,
    "start_time": "2024-04-29T10:21:38.242Z"
   },
   {
    "duration": 21,
    "start_time": "2024-04-29T10:21:54.184Z"
   },
   {
    "duration": 22,
    "start_time": "2024-04-29T10:22:01.128Z"
   },
   {
    "duration": 20,
    "start_time": "2024-04-29T10:25:15.946Z"
   },
   {
    "duration": 20,
    "start_time": "2024-04-29T10:25:31.961Z"
   },
   {
    "duration": 22,
    "start_time": "2024-04-29T10:25:58.969Z"
   },
   {
    "duration": 22,
    "start_time": "2024-04-29T10:26:46.785Z"
   },
   {
    "duration": 20,
    "start_time": "2024-04-29T10:27:45.633Z"
   },
   {
    "duration": 18,
    "start_time": "2024-04-29T10:28:05.858Z"
   },
   {
    "duration": 18,
    "start_time": "2024-04-29T10:28:55.305Z"
   },
   {
    "duration": 23,
    "start_time": "2024-04-29T10:29:05.138Z"
   },
   {
    "duration": 21,
    "start_time": "2024-04-29T10:29:44.386Z"
   },
   {
    "duration": 70,
    "start_time": "2024-04-29T10:32:20.035Z"
   },
   {
    "duration": 20,
    "start_time": "2024-04-29T10:32:24.930Z"
   },
   {
    "duration": 20,
    "start_time": "2024-04-29T10:32:33.394Z"
   },
   {
    "duration": 21,
    "start_time": "2024-04-29T10:32:42.650Z"
   },
   {
    "duration": 20,
    "start_time": "2024-04-29T10:32:57.722Z"
   },
   {
    "duration": 21,
    "start_time": "2024-04-29T10:34:06.315Z"
   },
   {
    "duration": 72,
    "start_time": "2024-04-29T10:55:38.175Z"
   },
   {
    "duration": 19,
    "start_time": "2024-04-29T10:55:42.959Z"
   },
   {
    "duration": 20,
    "start_time": "2024-04-29T10:56:27.778Z"
   },
   {
    "duration": 18,
    "start_time": "2024-04-29T10:57:41.191Z"
   },
   {
    "duration": 19,
    "start_time": "2024-04-29T10:57:53.391Z"
   },
   {
    "duration": 19,
    "start_time": "2024-04-29T10:58:10.919Z"
   },
   {
    "duration": 21,
    "start_time": "2024-04-29T10:58:38.367Z"
   },
   {
    "duration": 20,
    "start_time": "2024-04-29T10:58:51.910Z"
   },
   {
    "duration": 22,
    "start_time": "2024-04-29T10:59:55.247Z"
   },
   {
    "duration": 20,
    "start_time": "2024-04-29T11:00:07.420Z"
   },
   {
    "duration": 1018,
    "start_time": "2024-04-29T11:05:10.639Z"
   },
   {
    "duration": 1120,
    "start_time": "2024-04-29T11:05:24.074Z"
   },
   {
    "duration": 6,
    "start_time": "2024-04-29T11:05:34.262Z"
   },
   {
    "duration": 18,
    "start_time": "2024-04-29T11:05:45.873Z"
   },
   {
    "duration": 9,
    "start_time": "2024-04-29T11:06:06.477Z"
   },
   {
    "duration": 525,
    "start_time": "2024-04-29T11:06:31.599Z"
   },
   {
    "duration": 9,
    "start_time": "2024-04-29T11:06:41.681Z"
   },
   {
    "duration": 9,
    "start_time": "2024-04-29T11:06:51.013Z"
   },
   {
    "duration": 2480,
    "start_time": "2024-04-29T11:06:59.815Z"
   },
   {
    "duration": 19,
    "start_time": "2024-04-29T11:08:47.955Z"
   },
   {
    "duration": 20,
    "start_time": "2024-04-29T11:09:24.031Z"
   },
   {
    "duration": 1302,
    "start_time": "2024-04-29T11:10:10.339Z"
   },
   {
    "duration": 7,
    "start_time": "2024-04-29T11:10:20.921Z"
   },
   {
    "duration": 8,
    "start_time": "2024-04-29T11:10:27.840Z"
   },
   {
    "duration": 1095,
    "start_time": "2024-04-29T11:10:38.144Z"
   },
   {
    "duration": 11,
    "start_time": "2024-04-29T11:11:14.047Z"
   },
   {
    "duration": 11,
    "start_time": "2024-04-29T11:11:59.926Z"
   },
   {
    "duration": 11,
    "start_time": "2024-04-29T11:12:33.599Z"
   },
   {
    "duration": 11,
    "start_time": "2024-04-29T11:12:58.943Z"
   },
   {
    "duration": 11,
    "start_time": "2024-04-29T11:13:37.652Z"
   },
   {
    "duration": 11,
    "start_time": "2024-04-29T11:18:53.702Z"
   },
   {
    "duration": 12,
    "start_time": "2024-04-29T11:19:15.022Z"
   },
   {
    "duration": 9,
    "start_time": "2024-04-29T11:19:19.861Z"
   },
   {
    "duration": 66,
    "start_time": "2024-04-29T11:19:26.844Z"
   },
   {
    "duration": 8,
    "start_time": "2024-04-29T11:19:36.125Z"
   },
   {
    "duration": 14,
    "start_time": "2024-04-29T11:19:43.423Z"
   },
   {
    "duration": 9,
    "start_time": "2024-04-29T11:19:52.278Z"
   },
   {
    "duration": 12,
    "start_time": "2024-04-29T11:20:58.950Z"
   },
   {
    "duration": 12,
    "start_time": "2024-04-29T11:21:06.984Z"
   },
   {
    "duration": 10,
    "start_time": "2024-04-29T11:22:15.024Z"
   },
   {
    "duration": 20,
    "start_time": "2024-04-29T11:23:22.408Z"
   },
   {
    "duration": 19,
    "start_time": "2024-04-29T11:24:54.735Z"
   },
   {
    "duration": 22,
    "start_time": "2024-04-29T11:24:59.924Z"
   },
   {
    "duration": 27,
    "start_time": "2024-04-29T11:25:25.123Z"
   },
   {
    "duration": 27,
    "start_time": "2024-04-29T11:26:08.930Z"
   },
   {
    "duration": 28,
    "start_time": "2024-04-29T11:26:44.838Z"
   },
   {
    "duration": 25,
    "start_time": "2024-04-29T11:27:01.699Z"
   },
   {
    "duration": 28,
    "start_time": "2024-04-29T11:27:09.108Z"
   },
   {
    "duration": 33,
    "start_time": "2024-04-29T11:28:05.613Z"
   },
   {
    "duration": 27,
    "start_time": "2024-04-29T11:28:11.067Z"
   },
   {
    "duration": 203,
    "start_time": "2024-04-29T11:28:27.075Z"
   },
   {
    "duration": 179,
    "start_time": "2024-04-29T11:28:57.196Z"
   },
   {
    "duration": 119,
    "start_time": "2024-04-29T11:29:19.140Z"
   },
   {
    "duration": 29,
    "start_time": "2024-04-29T11:29:38.675Z"
   },
   {
    "duration": 1213,
    "start_time": "2024-04-29T11:30:24.441Z"
   },
   {
    "duration": 32,
    "start_time": "2024-04-29T11:30:44.916Z"
   },
   {
    "duration": 30,
    "start_time": "2024-04-29T11:30:56.682Z"
   },
   {
    "duration": 27,
    "start_time": "2024-04-29T11:31:00.179Z"
   },
   {
    "duration": 126,
    "start_time": "2024-04-29T11:31:20.350Z"
   },
   {
    "duration": 28,
    "start_time": "2024-04-29T11:31:35.437Z"
   },
   {
    "duration": 27,
    "start_time": "2024-04-29T11:31:43.304Z"
   },
   {
    "duration": 18,
    "start_time": "2024-04-29T11:32:56.083Z"
   },
   {
    "duration": 21,
    "start_time": "2024-04-29T11:33:12.749Z"
   },
   {
    "duration": 22,
    "start_time": "2024-04-29T11:34:20.757Z"
   },
   {
    "duration": 22,
    "start_time": "2024-04-29T11:34:29.242Z"
   },
   {
    "duration": 21,
    "start_time": "2024-04-29T11:35:46.279Z"
   },
   {
    "duration": 35,
    "start_time": "2024-04-29T11:36:01.836Z"
   },
   {
    "duration": 21,
    "start_time": "2024-04-29T11:36:09.197Z"
   },
   {
    "duration": 1126,
    "start_time": "2024-04-29T11:38:01.975Z"
   },
   {
    "duration": 28,
    "start_time": "2024-04-29T11:38:16.595Z"
   },
   {
    "duration": 27,
    "start_time": "2024-04-29T11:38:26.607Z"
   },
   {
    "duration": 1225,
    "start_time": "2024-04-29T11:38:31.968Z"
   },
   {
    "duration": 29,
    "start_time": "2024-04-29T11:38:49.526Z"
   },
   {
    "duration": 123,
    "start_time": "2024-04-29T11:39:01.016Z"
   },
   {
    "duration": 124,
    "start_time": "2024-04-29T11:40:29.983Z"
   },
   {
    "duration": 119,
    "start_time": "2024-04-29T11:40:44.799Z"
   },
   {
    "duration": 133,
    "start_time": "2024-04-29T11:41:06.945Z"
   },
   {
    "duration": 70,
    "start_time": "2024-04-29T11:43:58.811Z"
   },
   {
    "duration": 122,
    "start_time": "2024-04-29T11:44:15.225Z"
   },
   {
    "duration": 149,
    "start_time": "2024-04-29T11:44:21.811Z"
   },
   {
    "duration": 118,
    "start_time": "2024-04-29T11:44:33.392Z"
   },
   {
    "duration": 127,
    "start_time": "2024-04-29T11:44:39.483Z"
   },
   {
    "duration": 121,
    "start_time": "2024-04-29T11:45:06.137Z"
   },
   {
    "duration": 119,
    "start_time": "2024-04-29T11:45:13.995Z"
   },
   {
    "duration": 1361,
    "start_time": "2024-04-29T11:46:07.818Z"
   },
   {
    "duration": 127,
    "start_time": "2024-04-29T11:46:30.659Z"
   },
   {
    "duration": 119,
    "start_time": "2024-04-29T11:46:47.925Z"
   },
   {
    "duration": 140,
    "start_time": "2024-04-29T11:47:02.097Z"
   },
   {
    "duration": 9,
    "start_time": "2024-04-29T11:50:39.216Z"
   },
   {
    "duration": 14,
    "start_time": "2024-04-29T11:50:48.898Z"
   },
   {
    "duration": 10,
    "start_time": "2024-04-29T11:50:53.450Z"
   },
   {
    "duration": 9,
    "start_time": "2024-04-29T11:51:11.291Z"
   },
   {
    "duration": 9,
    "start_time": "2024-04-29T11:51:19.163Z"
   },
   {
    "duration": 9,
    "start_time": "2024-04-29T11:51:23.138Z"
   },
   {
    "duration": 9,
    "start_time": "2024-04-29T11:51:26.357Z"
   },
   {
    "duration": 9,
    "start_time": "2024-04-29T11:51:30.899Z"
   },
   {
    "duration": 10,
    "start_time": "2024-04-29T11:51:39.612Z"
   },
   {
    "duration": 14,
    "start_time": "2024-04-29T11:51:51.654Z"
   },
   {
    "duration": 122,
    "start_time": "2024-04-29T11:52:28.546Z"
   },
   {
    "duration": 119,
    "start_time": "2024-04-29T11:55:08.871Z"
   },
   {
    "duration": 8,
    "start_time": "2024-04-29T11:56:37.446Z"
   },
   {
    "duration": 9,
    "start_time": "2024-04-29T11:56:43.062Z"
   },
   {
    "duration": 9,
    "start_time": "2024-04-29T11:56:47.613Z"
   },
   {
    "duration": 9,
    "start_time": "2024-04-29T11:57:08.000Z"
   },
   {
    "duration": 9,
    "start_time": "2024-04-29T11:57:24.077Z"
   },
   {
    "duration": 9,
    "start_time": "2024-04-29T11:57:34.495Z"
   },
   {
    "duration": 11,
    "start_time": "2024-04-29T11:57:41.645Z"
   },
   {
    "duration": 9,
    "start_time": "2024-04-29T11:58:03.878Z"
   },
   {
    "duration": 137,
    "start_time": "2024-04-29T11:59:16.735Z"
   },
   {
    "duration": 137,
    "start_time": "2024-04-29T12:00:37.409Z"
   },
   {
    "duration": 134,
    "start_time": "2024-04-29T12:01:14.908Z"
   },
   {
    "duration": 37,
    "start_time": "2024-04-29T12:04:09.783Z"
   },
   {
    "duration": 33,
    "start_time": "2024-04-29T12:05:12.693Z"
   },
   {
    "duration": 10,
    "start_time": "2024-04-29T12:05:26.340Z"
   },
   {
    "duration": 26,
    "start_time": "2024-04-29T12:05:31.087Z"
   },
   {
    "duration": 29,
    "start_time": "2024-04-29T12:05:39.288Z"
   },
   {
    "duration": 37,
    "start_time": "2024-04-29T12:06:06.576Z"
   },
   {
    "duration": 30,
    "start_time": "2024-04-29T12:06:20.433Z"
   },
   {
    "duration": 31,
    "start_time": "2024-04-29T12:06:29.968Z"
   },
   {
    "duration": 28,
    "start_time": "2024-04-29T12:06:42.784Z"
   },
   {
    "duration": 29,
    "start_time": "2024-04-29T12:07:26.411Z"
   },
   {
    "duration": 28,
    "start_time": "2024-04-29T12:07:36.472Z"
   },
   {
    "duration": 27,
    "start_time": "2024-04-29T12:09:21.250Z"
   },
   {
    "duration": 20,
    "start_time": "2024-04-29T12:55:31.140Z"
   },
   {
    "duration": 24,
    "start_time": "2024-04-29T12:56:00.590Z"
   },
   {
    "duration": 21,
    "start_time": "2024-04-29T12:56:27.702Z"
   },
   {
    "duration": 26,
    "start_time": "2024-04-29T12:57:02.718Z"
   },
   {
    "duration": 24,
    "start_time": "2024-04-29T12:57:22.208Z"
   },
   {
    "duration": 3092,
    "start_time": "2024-04-29T18:24:36.686Z"
   },
   {
    "duration": 7,
    "start_time": "2024-04-29T18:24:39.780Z"
   },
   {
    "duration": 30,
    "start_time": "2024-04-29T18:24:39.788Z"
   },
   {
    "duration": 9,
    "start_time": "2024-04-29T18:24:39.819Z"
   },
   {
    "duration": 118,
    "start_time": "2024-04-29T18:24:39.829Z"
   },
   {
    "duration": 1886,
    "start_time": "2024-04-29T18:24:39.949Z"
   },
   {
    "duration": 13,
    "start_time": "2024-04-29T18:24:41.837Z"
   },
   {
    "duration": 26,
    "start_time": "2024-04-29T18:24:41.852Z"
   },
   {
    "duration": 1789,
    "start_time": "2024-04-29T18:24:41.880Z"
   },
   {
    "duration": 4,
    "start_time": "2024-04-29T18:24:43.672Z"
   },
   {
    "duration": 472,
    "start_time": "2024-04-29T18:24:43.678Z"
   },
   {
    "duration": 18,
    "start_time": "2024-04-29T18:24:44.151Z"
   },
   {
    "duration": 139,
    "start_time": "2024-04-29T18:24:44.171Z"
   },
   {
    "duration": 135,
    "start_time": "2024-04-29T18:24:44.312Z"
   },
   {
    "duration": 134,
    "start_time": "2024-04-29T18:24:44.449Z"
   },
   {
    "duration": 164,
    "start_time": "2024-04-29T18:24:44.585Z"
   },
   {
    "duration": 162,
    "start_time": "2024-04-29T18:24:44.751Z"
   },
   {
    "duration": 233,
    "start_time": "2024-04-29T18:24:44.915Z"
   },
   {
    "duration": 136,
    "start_time": "2024-04-29T18:24:45.150Z"
   },
   {
    "duration": 212,
    "start_time": "2024-04-29T18:24:45.288Z"
   },
   {
    "duration": 153,
    "start_time": "2024-04-29T18:24:45.502Z"
   },
   {
    "duration": 153,
    "start_time": "2024-04-29T18:24:45.657Z"
   },
   {
    "duration": 848,
    "start_time": "2024-04-29T18:24:45.812Z"
   },
   {
    "duration": 398,
    "start_time": "2024-04-29T18:24:46.662Z"
   },
   {
    "duration": 510,
    "start_time": "2024-04-29T18:24:47.062Z"
   },
   {
    "duration": 384,
    "start_time": "2024-04-29T18:24:47.573Z"
   },
   {
    "duration": 389,
    "start_time": "2024-04-29T18:24:47.959Z"
   },
   {
    "duration": 384,
    "start_time": "2024-04-29T18:24:48.353Z"
   },
   {
    "duration": 1113,
    "start_time": "2024-04-29T18:24:48.739Z"
   },
   {
    "duration": 25,
    "start_time": "2024-04-29T18:24:49.854Z"
   },
   {
    "duration": 181,
    "start_time": "2024-04-29T18:24:49.881Z"
   },
   {
    "duration": 55,
    "start_time": "2024-04-29T18:24:50.064Z"
   },
   {
    "duration": 36,
    "start_time": "2024-04-29T18:24:50.120Z"
   },
   {
    "duration": 14,
    "start_time": "2024-04-29T18:25:48.677Z"
   },
   {
    "duration": 476,
    "start_time": "2024-05-01T19:26:56.843Z"
   },
   {
    "duration": 3,
    "start_time": "2024-05-01T19:27:00.108Z"
   },
   {
    "duration": 217,
    "start_time": "2024-05-01T19:28:04.161Z"
   },
   {
    "duration": 2521,
    "start_time": "2024-05-01T19:30:41.085Z"
   },
   {
    "duration": 119,
    "start_time": "2024-05-01T19:31:48.899Z"
   },
   {
    "duration": 56,
    "start_time": "2024-05-01T19:31:59.322Z"
   },
   {
    "duration": 6,
    "start_time": "2024-05-01T19:33:41.938Z"
   },
   {
    "duration": 52,
    "start_time": "2024-05-01T19:34:46.258Z"
   },
   {
    "duration": 18,
    "start_time": "2024-05-01T19:50:23.218Z"
   },
   {
    "duration": 43,
    "start_time": "2024-05-01T19:52:55.078Z"
   },
   {
    "duration": 113,
    "start_time": "2024-05-01T19:53:06.503Z"
   },
   {
    "duration": 77,
    "start_time": "2024-05-01T19:54:41.762Z"
   },
   {
    "duration": 75,
    "start_time": "2024-05-01T19:58:05.950Z"
   },
   {
    "duration": 3,
    "start_time": "2024-05-01T20:01:52.424Z"
   },
   {
    "duration": 1824,
    "start_time": "2024-05-01T20:07:10.694Z"
   },
   {
    "duration": 1564,
    "start_time": "2024-05-01T20:07:42.463Z"
   },
   {
    "duration": 1536,
    "start_time": "2024-05-01T20:08:02.949Z"
   },
   {
    "duration": 1564,
    "start_time": "2024-05-01T20:08:41.954Z"
   },
   {
    "duration": 55,
    "start_time": "2024-05-01T20:09:51.806Z"
   },
   {
    "duration": 768,
    "start_time": "2024-05-01T20:19:34.503Z"
   },
   {
    "duration": 5,
    "start_time": "2024-05-01T20:20:21.128Z"
   },
   {
    "duration": 14,
    "start_time": "2024-05-01T20:20:33.197Z"
   },
   {
    "duration": 5,
    "start_time": "2024-05-01T20:20:59.716Z"
   },
   {
    "duration": 17,
    "start_time": "2024-05-01T20:21:03.188Z"
   },
   {
    "duration": 9,
    "start_time": "2024-05-01T20:21:46.784Z"
   },
   {
    "duration": 1178,
    "start_time": "2024-05-01T20:21:52.879Z"
   },
   {
    "duration": 620,
    "start_time": "2024-05-01T20:22:21.828Z"
   },
   {
    "duration": 498,
    "start_time": "2024-05-01T20:22:35.968Z"
   },
   {
    "duration": 468,
    "start_time": "2024-05-01T20:23:00.280Z"
   },
   {
    "duration": 501,
    "start_time": "2024-05-01T20:23:12.648Z"
   },
   {
    "duration": 555,
    "start_time": "2024-05-01T20:23:47.749Z"
   },
   {
    "duration": 484,
    "start_time": "2024-05-01T20:26:38.284Z"
   },
   {
    "duration": 48,
    "start_time": "2024-05-01T20:27:43.347Z"
   },
   {
    "duration": 495,
    "start_time": "2024-05-01T20:29:17.111Z"
   },
   {
    "duration": 469,
    "start_time": "2024-05-01T20:29:54.710Z"
   },
   {
    "duration": 547,
    "start_time": "2024-05-01T20:30:22.183Z"
   },
   {
    "duration": 481,
    "start_time": "2024-05-01T20:30:58.962Z"
   },
   {
    "duration": 475,
    "start_time": "2024-05-01T20:31:12.290Z"
   },
   {
    "duration": 485,
    "start_time": "2024-05-01T20:31:27.477Z"
   },
   {
    "duration": 575,
    "start_time": "2024-05-01T20:32:02.758Z"
   },
   {
    "duration": 496,
    "start_time": "2024-05-01T20:32:30.003Z"
   },
   {
    "duration": 495,
    "start_time": "2024-05-01T20:34:24.783Z"
   },
   {
    "duration": 501,
    "start_time": "2024-05-01T20:37:43.951Z"
   },
   {
    "duration": 520,
    "start_time": "2024-05-01T20:38:00.632Z"
   },
   {
    "duration": 464,
    "start_time": "2024-05-01T20:38:15.530Z"
   },
   {
    "duration": 45,
    "start_time": "2024-05-01T20:38:56.774Z"
   },
   {
    "duration": 509,
    "start_time": "2024-05-01T20:38:59.128Z"
   },
   {
    "duration": 545,
    "start_time": "2024-05-01T20:39:03.402Z"
   },
   {
    "duration": 504,
    "start_time": "2024-05-01T20:39:06.688Z"
   },
   {
    "duration": 481,
    "start_time": "2024-05-01T20:39:10.647Z"
   },
   {
    "duration": 60,
    "start_time": "2024-05-01T20:40:11.275Z"
   },
   {
    "duration": 10,
    "start_time": "2024-05-01T20:40:15.096Z"
   },
   {
    "duration": 3,
    "start_time": "2024-05-01T20:40:39.072Z"
   },
   {
    "duration": 463,
    "start_time": "2024-05-01T20:40:49.276Z"
   },
   {
    "duration": 577,
    "start_time": "2024-05-01T20:41:36.362Z"
   },
   {
    "duration": 486,
    "start_time": "2024-05-01T20:41:50.418Z"
   },
   {
    "duration": 499,
    "start_time": "2024-05-01T20:42:02.544Z"
   },
   {
    "duration": 49,
    "start_time": "2024-05-01T20:42:35.201Z"
   },
   {
    "duration": 488,
    "start_time": "2024-05-01T20:42:40.990Z"
   },
   {
    "duration": 588,
    "start_time": "2024-05-01T20:42:52.226Z"
   },
   {
    "duration": 474,
    "start_time": "2024-05-01T20:44:26.259Z"
   },
   {
    "duration": 497,
    "start_time": "2024-05-01T20:44:55.218Z"
   },
   {
    "duration": 484,
    "start_time": "2024-05-01T20:45:16.924Z"
   },
   {
    "duration": 605,
    "start_time": "2024-05-01T20:45:33.845Z"
   },
   {
    "duration": 461,
    "start_time": "2024-05-01T20:46:27.948Z"
   },
   {
    "duration": 536,
    "start_time": "2024-05-01T20:46:41.084Z"
   },
   {
    "duration": 471,
    "start_time": "2024-05-01T20:48:14.776Z"
   },
   {
    "duration": 3,
    "start_time": "2024-05-01T20:48:59.674Z"
   },
   {
    "duration": 49,
    "start_time": "2024-05-02T13:40:55.085Z"
   },
   {
    "duration": 14,
    "start_time": "2024-05-02T14:28:44.084Z"
   },
   {
    "duration": 79,
    "start_time": "2024-05-02T14:40:56.210Z"
   },
   {
    "duration": 405,
    "start_time": "2024-05-02T16:58:28.210Z"
   },
   {
    "duration": 256,
    "start_time": "2024-05-02T16:58:29.228Z"
   },
   {
    "duration": 2790,
    "start_time": "2024-05-02T16:58:30.464Z"
   },
   {
    "duration": 68,
    "start_time": "2024-05-02T16:58:46.647Z"
   },
   {
    "duration": 6,
    "start_time": "2024-05-02T16:58:50.692Z"
   },
   {
    "duration": 28,
    "start_time": "2024-05-02T16:58:51.652Z"
   },
   {
    "duration": 17,
    "start_time": "2024-05-02T16:58:56.255Z"
   },
   {
    "duration": 125,
    "start_time": "2024-05-02T16:58:57.585Z"
   },
   {
    "duration": 2132,
    "start_time": "2024-05-02T16:59:08.147Z"
   },
   {
    "duration": 11,
    "start_time": "2024-05-02T16:59:18.701Z"
   },
   {
    "duration": 4,
    "start_time": "2024-05-02T16:59:35.180Z"
   },
   {
    "duration": 2053,
    "start_time": "2024-05-02T16:59:39.632Z"
   },
   {
    "duration": 4,
    "start_time": "2024-05-02T16:59:45.813Z"
   },
   {
    "duration": 3,
    "start_time": "2024-05-02T16:59:49.255Z"
   },
   {
    "duration": 540,
    "start_time": "2024-05-02T16:59:51.742Z"
   },
   {
    "duration": 31,
    "start_time": "2024-05-02T16:59:56.357Z"
   },
   {
    "duration": 311,
    "start_time": "2024-05-02T17:00:03.093Z"
   },
   {
    "duration": 341,
    "start_time": "2024-05-02T17:03:12.272Z"
   },
   {
    "duration": 488,
    "start_time": "2024-05-02T17:03:47.346Z"
   },
   {
    "duration": 380,
    "start_time": "2024-05-02T17:06:30.319Z"
   },
   {
    "duration": 368,
    "start_time": "2024-05-02T17:07:08.671Z"
   },
   {
    "duration": 386,
    "start_time": "2024-05-02T17:07:57.570Z"
   },
   {
    "duration": 368,
    "start_time": "2024-05-02T17:11:32.953Z"
   },
   {
    "duration": 579,
    "start_time": "2024-05-02T17:12:45.721Z"
   },
   {
    "duration": 636,
    "start_time": "2024-05-02T17:12:53.131Z"
   },
   {
    "duration": 539,
    "start_time": "2024-05-02T17:13:07.999Z"
   },
   {
    "duration": 560,
    "start_time": "2024-05-02T17:14:04.384Z"
   },
   {
    "duration": 591,
    "start_time": "2024-05-02T17:14:33.899Z"
   },
   {
    "duration": 703,
    "start_time": "2024-05-02T17:15:03.722Z"
   },
   {
    "duration": 591,
    "start_time": "2024-05-02T17:15:32.461Z"
   },
   {
    "duration": 555,
    "start_time": "2024-05-02T17:16:37.528Z"
   },
   {
    "duration": 685,
    "start_time": "2024-05-02T17:16:47.547Z"
   },
   {
    "duration": 523,
    "start_time": "2024-05-02T17:17:20.024Z"
   },
   {
    "duration": 365,
    "start_time": "2024-05-02T17:18:39.157Z"
   },
   {
    "duration": 310,
    "start_time": "2024-05-02T17:18:53.367Z"
   },
   {
    "duration": 561,
    "start_time": "2024-05-02T17:22:37.418Z"
   },
   {
    "duration": 346,
    "start_time": "2024-05-02T17:22:43.732Z"
   },
   {
    "duration": 313,
    "start_time": "2024-05-02T17:23:25.399Z"
   },
   {
    "duration": 330,
    "start_time": "2024-05-02T17:27:48.706Z"
   },
   {
    "duration": 322,
    "start_time": "2024-05-02T17:28:05.918Z"
   },
   {
    "duration": 330,
    "start_time": "2024-05-02T17:28:22.578Z"
   },
   {
    "duration": 57,
    "start_time": "2024-05-02T17:29:57.513Z"
   },
   {
    "duration": 449,
    "start_time": "2024-05-02T17:30:00.264Z"
   },
   {
    "duration": 332,
    "start_time": "2024-05-02T17:30:10.131Z"
   },
   {
    "duration": 385,
    "start_time": "2024-05-02T17:30:18.207Z"
   },
   {
    "duration": 378,
    "start_time": "2024-05-02T17:31:01.161Z"
   },
   {
    "duration": 42,
    "start_time": "2024-05-02T17:31:16.356Z"
   },
   {
    "duration": 346,
    "start_time": "2024-05-02T17:31:21.664Z"
   },
   {
    "duration": 1429,
    "start_time": "2024-05-02T17:33:02.192Z"
   },
   {
    "duration": 264,
    "start_time": "2024-05-02T17:33:14.160Z"
   },
   {
    "duration": 228,
    "start_time": "2024-05-02T17:34:02.437Z"
   },
   {
    "duration": 144,
    "start_time": "2024-05-02T17:34:42.281Z"
   },
   {
    "duration": 438,
    "start_time": "2024-05-02T17:37:44.637Z"
   },
   {
    "duration": 105,
    "start_time": "2024-05-02T17:37:45.077Z"
   },
   {
    "duration": 2535,
    "start_time": "2024-05-02T17:37:45.183Z"
   },
   {
    "duration": 60,
    "start_time": "2024-05-02T17:37:47.721Z"
   },
   {
    "duration": 8,
    "start_time": "2024-05-02T17:37:47.783Z"
   },
   {
    "duration": 17,
    "start_time": "2024-05-02T17:37:47.793Z"
   },
   {
    "duration": 9,
    "start_time": "2024-05-02T17:37:47.812Z"
   },
   {
    "duration": 159,
    "start_time": "2024-05-02T17:37:47.823Z"
   },
   {
    "duration": 2139,
    "start_time": "2024-05-02T17:37:47.983Z"
   },
   {
    "duration": 10,
    "start_time": "2024-05-02T17:37:50.125Z"
   },
   {
    "duration": 5,
    "start_time": "2024-05-02T17:37:50.136Z"
   },
   {
    "duration": 2234,
    "start_time": "2024-05-02T17:37:50.142Z"
   },
   {
    "duration": 5,
    "start_time": "2024-05-02T17:37:52.378Z"
   },
   {
    "duration": 10,
    "start_time": "2024-05-02T17:37:52.386Z"
   },
   {
    "duration": 580,
    "start_time": "2024-05-02T17:37:52.397Z"
   },
   {
    "duration": 20,
    "start_time": "2024-05-02T17:37:52.980Z"
   },
   {
    "duration": 364,
    "start_time": "2024-05-02T17:37:53.002Z"
   },
   {
    "duration": 382,
    "start_time": "2024-05-02T17:37:53.368Z"
   },
   {
    "duration": 477,
    "start_time": "2024-05-02T17:37:53.752Z"
   },
   {
    "duration": 612,
    "start_time": "2024-05-02T17:37:54.230Z"
   },
   {
    "duration": 366,
    "start_time": "2024-05-02T17:37:54.844Z"
   },
   {
    "duration": 176,
    "start_time": "2024-05-02T17:37:55.211Z"
   },
   {
    "duration": 157,
    "start_time": "2024-05-02T17:37:55.389Z"
   },
   {
    "duration": 208,
    "start_time": "2024-05-02T17:37:55.560Z"
   },
   {
    "duration": 185,
    "start_time": "2024-05-02T17:37:55.771Z"
   },
   {
    "duration": 177,
    "start_time": "2024-05-02T17:37:55.958Z"
   },
   {
    "duration": 1867,
    "start_time": "2024-05-02T17:37:56.137Z"
   },
   {
    "duration": 434,
    "start_time": "2024-05-02T17:37:58.060Z"
   },
   {
    "duration": 444,
    "start_time": "2024-05-02T17:37:58.496Z"
   },
   {
    "duration": 437,
    "start_time": "2024-05-02T17:37:58.942Z"
   },
   {
    "duration": 440,
    "start_time": "2024-05-02T17:37:59.382Z"
   },
   {
    "duration": 389,
    "start_time": "2024-05-02T17:37:59.823Z"
   },
   {
    "duration": 1314,
    "start_time": "2024-05-02T17:38:00.214Z"
   },
   {
    "duration": 43,
    "start_time": "2024-05-02T17:38:01.530Z"
   },
   {
    "duration": 219,
    "start_time": "2024-05-02T17:38:01.574Z"
   },
   {
    "duration": 17,
    "start_time": "2024-05-02T17:38:01.795Z"
   },
   {
    "duration": 17,
    "start_time": "2024-05-02T17:38:01.814Z"
   },
   {
    "duration": 348,
    "start_time": "2024-05-02T17:40:27.315Z"
   },
   {
    "duration": 394,
    "start_time": "2024-05-02T17:40:44.658Z"
   },
   {
    "duration": 385,
    "start_time": "2024-05-02T17:40:56.056Z"
   },
   {
    "duration": 334,
    "start_time": "2024-05-02T17:41:06.127Z"
   },
   {
    "duration": 508,
    "start_time": "2024-05-02T17:41:26.727Z"
   },
   {
    "duration": 405,
    "start_time": "2024-05-02T17:43:12.260Z"
   },
   {
    "duration": 847,
    "start_time": "2024-05-02T17:47:32.596Z"
   },
   {
    "duration": 453,
    "start_time": "2024-05-02T17:57:56.985Z"
   },
   {
    "duration": 437,
    "start_time": "2024-05-02T17:58:04.816Z"
   },
   {
    "duration": 547,
    "start_time": "2024-05-02T17:58:13.384Z"
   },
   {
    "duration": 417,
    "start_time": "2024-05-02T17:58:18.810Z"
   },
   {
    "duration": 6,
    "start_time": "2024-05-02T18:00:12.275Z"
   },
   {
    "duration": 5,
    "start_time": "2024-05-02T18:00:53.315Z"
   },
   {
    "duration": 8,
    "start_time": "2024-05-02T18:01:08.970Z"
   },
   {
    "duration": 49,
    "start_time": "2024-05-02T18:01:59.016Z"
   },
   {
    "duration": 59,
    "start_time": "2024-05-02T18:03:33.978Z"
   },
   {
    "duration": 11,
    "start_time": "2024-05-02T18:03:38.362Z"
   },
   {
    "duration": 213,
    "start_time": "2024-05-02T18:04:37.721Z"
   },
   {
    "duration": 193,
    "start_time": "2024-05-02T18:07:02.346Z"
   },
   {
    "duration": 125,
    "start_time": "2024-05-02T18:12:34.220Z"
   },
   {
    "duration": 194,
    "start_time": "2024-05-02T18:16:55.635Z"
   },
   {
    "duration": 328,
    "start_time": "2024-05-02T18:18:08.642Z"
   },
   {
    "duration": 485,
    "start_time": "2024-05-02T18:18:18.557Z"
   },
   {
    "duration": 593,
    "start_time": "2024-05-02T18:18:39.115Z"
   },
   {
    "duration": 34,
    "start_time": "2024-05-02T18:19:38.141Z"
   },
   {
    "duration": 404,
    "start_time": "2024-05-02T18:22:25.701Z"
   },
   {
    "duration": 52,
    "start_time": "2024-05-02T18:23:34.128Z"
   },
   {
    "duration": 397,
    "start_time": "2024-05-02T18:52:14.667Z"
   },
   {
    "duration": 88,
    "start_time": "2024-05-02T18:52:15.065Z"
   },
   {
    "duration": 1745,
    "start_time": "2024-05-02T18:52:15.155Z"
   },
   {
    "duration": 43,
    "start_time": "2024-05-02T18:52:16.902Z"
   },
   {
    "duration": 5,
    "start_time": "2024-05-02T18:52:16.946Z"
   },
   {
    "duration": 22,
    "start_time": "2024-05-02T18:52:16.952Z"
   },
   {
    "duration": 8,
    "start_time": "2024-05-02T18:52:16.975Z"
   },
   {
    "duration": 95,
    "start_time": "2024-05-02T18:52:16.984Z"
   },
   {
    "duration": 1470,
    "start_time": "2024-05-02T18:52:17.080Z"
   },
   {
    "duration": 9,
    "start_time": "2024-05-02T18:52:18.552Z"
   },
   {
    "duration": 60,
    "start_time": "2024-05-02T18:52:18.562Z"
   },
   {
    "duration": 1351,
    "start_time": "2024-05-02T18:52:18.624Z"
   },
   {
    "duration": 4,
    "start_time": "2024-05-02T18:52:19.976Z"
   },
   {
    "duration": 13,
    "start_time": "2024-05-02T18:52:19.982Z"
   },
   {
    "duration": 475,
    "start_time": "2024-05-02T18:52:19.997Z"
   },
   {
    "duration": 19,
    "start_time": "2024-05-02T18:52:20.473Z"
   },
   {
    "duration": 296,
    "start_time": "2024-05-02T18:52:20.501Z"
   },
   {
    "duration": 266,
    "start_time": "2024-05-02T18:52:20.798Z"
   },
   {
    "duration": 332,
    "start_time": "2024-05-02T18:52:21.065Z"
   },
   {
    "duration": 402,
    "start_time": "2024-05-02T18:52:21.401Z"
   },
   {
    "duration": 274,
    "start_time": "2024-05-02T18:52:21.805Z"
   },
   {
    "duration": 270,
    "start_time": "2024-05-02T18:52:22.080Z"
   },
   {
    "duration": 106,
    "start_time": "2024-05-02T18:52:22.352Z"
   },
   {
    "duration": 149,
    "start_time": "2024-05-02T18:52:22.460Z"
   },
   {
    "duration": 137,
    "start_time": "2024-05-02T18:52:22.611Z"
   },
   {
    "duration": 202,
    "start_time": "2024-05-02T18:52:22.750Z"
   },
   {
    "duration": 643,
    "start_time": "2024-05-02T18:52:22.953Z"
   },
   {
    "duration": 310,
    "start_time": "2024-05-02T18:52:23.602Z"
   },
   {
    "duration": 320,
    "start_time": "2024-05-02T18:52:23.914Z"
   },
   {
    "duration": 314,
    "start_time": "2024-05-02T18:52:24.235Z"
   },
   {
    "duration": 151,
    "start_time": "2024-05-02T18:52:24.550Z"
   },
   {
    "duration": 100,
    "start_time": "2024-05-02T18:52:24.703Z"
   },
   {
    "duration": 396,
    "start_time": "2024-05-02T18:52:24.804Z"
   },
   {
    "duration": 23,
    "start_time": "2024-05-02T18:52:25.202Z"
   },
   {
    "duration": 156,
    "start_time": "2024-05-02T18:52:25.227Z"
   },
   {
    "duration": 23,
    "start_time": "2024-05-02T18:52:25.384Z"
   },
   {
    "duration": 17,
    "start_time": "2024-05-02T18:52:25.408Z"
   },
   {
    "duration": 70,
    "start_time": "2024-05-02T18:54:51.198Z"
   },
   {
    "duration": 3,
    "start_time": "2024-05-03T06:45:19.090Z"
   },
   {
    "duration": 105,
    "start_time": "2024-05-03T06:45:20.880Z"
   },
   {
    "duration": 37,
    "start_time": "2024-05-03T06:45:30.183Z"
   },
   {
    "duration": 36,
    "start_time": "2024-05-03T06:46:05.434Z"
   },
   {
    "duration": 50,
    "start_time": "2024-05-03T06:46:56.354Z"
   },
   {
    "duration": 118,
    "start_time": "2024-05-03T06:48:21.146Z"
   },
   {
    "duration": 78,
    "start_time": "2024-05-03T06:48:28.467Z"
   },
   {
    "duration": 55,
    "start_time": "2024-05-03T06:48:35.850Z"
   },
   {
    "duration": 47,
    "start_time": "2025-01-10T08:46:34.796Z"
   }
  ],
  "colab": {
   "provenance": []
  },
  "kernelspec": {
   "display_name": "Python 3 (ipykernel)",
   "language": "python",
   "name": "python3"
  },
  "language_info": {
   "codemirror_mode": {
    "name": "ipython",
    "version": 3
   },
   "file_extension": ".py",
   "mimetype": "text/x-python",
   "name": "python",
   "nbconvert_exporter": "python",
   "pygments_lexer": "ipython3",
   "version": "3.11.7"
  },
  "toc": {
   "base_numbering": 1,
   "nav_menu": {},
   "number_sections": true,
   "sideBar": true,
   "skip_h1_title": true,
   "title_cell": "Table of Contents",
   "title_sidebar": "Contents",
   "toc_cell": false,
   "toc_position": {
    "height": "calc(100% - 180px)",
    "left": "10px",
    "top": "150px",
    "width": "208px"
   },
   "toc_section_display": true,
   "toc_window_display": true
  }
 },
 "nbformat": 4,
 "nbformat_minor": 4
}
