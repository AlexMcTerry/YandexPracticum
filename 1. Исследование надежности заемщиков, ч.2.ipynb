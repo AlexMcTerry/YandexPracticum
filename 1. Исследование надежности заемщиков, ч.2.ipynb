{
 "cells": [
  {
   "cell_type": "markdown",
   "id": "386f2ae7",
   "metadata": {
    "deletable": false,
    "editable": false,
    "id": "386f2ae7"
   },
   "source": [
    "# Исследование надежности заемщиков\n"
   ]
  },
  {
   "cell_type": "markdown",
   "id": "ffe86f65",
   "metadata": {
    "deletable": false,
    "editable": false,
    "id": "ffe86f65"
   },
   "source": [
    "Во второй части проекта вы выполните шаги 3 и 4. Их вручную проверит ревьюер.\n",
    "Чтобы вам не пришлось писать код заново для шагов 1 и 2, мы добавили авторские решения в ячейки с кодом. \n",
    "\n"
   ]
  },
  {
   "cell_type": "markdown",
   "id": "26613308",
   "metadata": {
    "deletable": false,
    "editable": false,
    "id": "26613308"
   },
   "source": [
    "## Откройте таблицу и изучите общую информацию о данных"
   ]
  },
  {
   "cell_type": "markdown",
   "id": "3c9f838e",
   "metadata": {
    "deletable": false,
    "editable": false,
    "id": "3c9f838e"
   },
   "source": [
    "**Задание 1. Импортируйте библиотеку pandas. Считайте данные из csv-файла в датафрейм и сохраните в переменную `data`. Путь к файлу:**\n",
    "\n",
    "`/datasets/data.csv`"
   ]
  },
  {
   "cell_type": "code",
   "execution_count": 72,
   "id": "77a68a90",
   "metadata": {
    "deletable": false,
    "id": "77a68a90"
   },
   "outputs": [],
   "source": [
    "import pandas as pd\n",
    "\n",
    "try:\n",
    "    data = pd.read_csv('/datasets/data.csv')\n",
    "except:\n",
    "    data = pd.read_csv('https://code.s3.yandex.net/datasets/data.csv')"
   ]
  },
  {
   "cell_type": "markdown",
   "id": "45365635",
   "metadata": {
    "deletable": false,
    "editable": false,
    "id": "45365635"
   },
   "source": [
    "**Задание 2. Выведите первые 20 строчек датафрейма `data` на экран.**"
   ]
  },
  {
   "cell_type": "code",
   "execution_count": 73,
   "id": "b0451a9a",
   "metadata": {
    "deletable": false,
    "id": "b0451a9a",
    "outputId": "1a8f3ef2-d323-4ec2-ddf7-89670b5944c4"
   },
   "outputs": [
    {
     "data": {
      "text/html": [
       "<div>\n",
       "<style scoped>\n",
       "    .dataframe tbody tr th:only-of-type {\n",
       "        vertical-align: middle;\n",
       "    }\n",
       "\n",
       "    .dataframe tbody tr th {\n",
       "        vertical-align: top;\n",
       "    }\n",
       "\n",
       "    .dataframe thead th {\n",
       "        text-align: right;\n",
       "    }\n",
       "</style>\n",
       "<table border=\"1\" class=\"dataframe\">\n",
       "  <thead>\n",
       "    <tr style=\"text-align: right;\">\n",
       "      <th></th>\n",
       "      <th>children</th>\n",
       "      <th>days_employed</th>\n",
       "      <th>dob_years</th>\n",
       "      <th>education</th>\n",
       "      <th>education_id</th>\n",
       "      <th>family_status</th>\n",
       "      <th>family_status_id</th>\n",
       "      <th>gender</th>\n",
       "      <th>income_type</th>\n",
       "      <th>debt</th>\n",
       "      <th>total_income</th>\n",
       "      <th>purpose</th>\n",
       "    </tr>\n",
       "  </thead>\n",
       "  <tbody>\n",
       "    <tr>\n",
       "      <th>0</th>\n",
       "      <td>1</td>\n",
       "      <td>-8437.673028</td>\n",
       "      <td>42</td>\n",
       "      <td>высшее</td>\n",
       "      <td>0</td>\n",
       "      <td>женат / замужем</td>\n",
       "      <td>0</td>\n",
       "      <td>F</td>\n",
       "      <td>сотрудник</td>\n",
       "      <td>0</td>\n",
       "      <td>253875.639453</td>\n",
       "      <td>покупка жилья</td>\n",
       "    </tr>\n",
       "    <tr>\n",
       "      <th>1</th>\n",
       "      <td>1</td>\n",
       "      <td>-4024.803754</td>\n",
       "      <td>36</td>\n",
       "      <td>среднее</td>\n",
       "      <td>1</td>\n",
       "      <td>женат / замужем</td>\n",
       "      <td>0</td>\n",
       "      <td>F</td>\n",
       "      <td>сотрудник</td>\n",
       "      <td>0</td>\n",
       "      <td>112080.014102</td>\n",
       "      <td>приобретение автомобиля</td>\n",
       "    </tr>\n",
       "    <tr>\n",
       "      <th>2</th>\n",
       "      <td>0</td>\n",
       "      <td>-5623.422610</td>\n",
       "      <td>33</td>\n",
       "      <td>Среднее</td>\n",
       "      <td>1</td>\n",
       "      <td>женат / замужем</td>\n",
       "      <td>0</td>\n",
       "      <td>M</td>\n",
       "      <td>сотрудник</td>\n",
       "      <td>0</td>\n",
       "      <td>145885.952297</td>\n",
       "      <td>покупка жилья</td>\n",
       "    </tr>\n",
       "    <tr>\n",
       "      <th>3</th>\n",
       "      <td>3</td>\n",
       "      <td>-4124.747207</td>\n",
       "      <td>32</td>\n",
       "      <td>среднее</td>\n",
       "      <td>1</td>\n",
       "      <td>женат / замужем</td>\n",
       "      <td>0</td>\n",
       "      <td>M</td>\n",
       "      <td>сотрудник</td>\n",
       "      <td>0</td>\n",
       "      <td>267628.550329</td>\n",
       "      <td>дополнительное образование</td>\n",
       "    </tr>\n",
       "    <tr>\n",
       "      <th>4</th>\n",
       "      <td>0</td>\n",
       "      <td>340266.072047</td>\n",
       "      <td>53</td>\n",
       "      <td>среднее</td>\n",
       "      <td>1</td>\n",
       "      <td>гражданский брак</td>\n",
       "      <td>1</td>\n",
       "      <td>F</td>\n",
       "      <td>пенсионер</td>\n",
       "      <td>0</td>\n",
       "      <td>158616.077870</td>\n",
       "      <td>сыграть свадьбу</td>\n",
       "    </tr>\n",
       "    <tr>\n",
       "      <th>5</th>\n",
       "      <td>0</td>\n",
       "      <td>-926.185831</td>\n",
       "      <td>27</td>\n",
       "      <td>высшее</td>\n",
       "      <td>0</td>\n",
       "      <td>гражданский брак</td>\n",
       "      <td>1</td>\n",
       "      <td>M</td>\n",
       "      <td>компаньон</td>\n",
       "      <td>0</td>\n",
       "      <td>255763.565419</td>\n",
       "      <td>покупка жилья</td>\n",
       "    </tr>\n",
       "    <tr>\n",
       "      <th>6</th>\n",
       "      <td>0</td>\n",
       "      <td>-2879.202052</td>\n",
       "      <td>43</td>\n",
       "      <td>высшее</td>\n",
       "      <td>0</td>\n",
       "      <td>женат / замужем</td>\n",
       "      <td>0</td>\n",
       "      <td>F</td>\n",
       "      <td>компаньон</td>\n",
       "      <td>0</td>\n",
       "      <td>240525.971920</td>\n",
       "      <td>операции с жильем</td>\n",
       "    </tr>\n",
       "    <tr>\n",
       "      <th>7</th>\n",
       "      <td>0</td>\n",
       "      <td>-152.779569</td>\n",
       "      <td>50</td>\n",
       "      <td>СРЕДНЕЕ</td>\n",
       "      <td>1</td>\n",
       "      <td>женат / замужем</td>\n",
       "      <td>0</td>\n",
       "      <td>M</td>\n",
       "      <td>сотрудник</td>\n",
       "      <td>0</td>\n",
       "      <td>135823.934197</td>\n",
       "      <td>образование</td>\n",
       "    </tr>\n",
       "    <tr>\n",
       "      <th>8</th>\n",
       "      <td>2</td>\n",
       "      <td>-6929.865299</td>\n",
       "      <td>35</td>\n",
       "      <td>ВЫСШЕЕ</td>\n",
       "      <td>0</td>\n",
       "      <td>гражданский брак</td>\n",
       "      <td>1</td>\n",
       "      <td>F</td>\n",
       "      <td>сотрудник</td>\n",
       "      <td>0</td>\n",
       "      <td>95856.832424</td>\n",
       "      <td>на проведение свадьбы</td>\n",
       "    </tr>\n",
       "    <tr>\n",
       "      <th>9</th>\n",
       "      <td>0</td>\n",
       "      <td>-2188.756445</td>\n",
       "      <td>41</td>\n",
       "      <td>среднее</td>\n",
       "      <td>1</td>\n",
       "      <td>женат / замужем</td>\n",
       "      <td>0</td>\n",
       "      <td>M</td>\n",
       "      <td>сотрудник</td>\n",
       "      <td>0</td>\n",
       "      <td>144425.938277</td>\n",
       "      <td>покупка жилья для семьи</td>\n",
       "    </tr>\n",
       "    <tr>\n",
       "      <th>10</th>\n",
       "      <td>2</td>\n",
       "      <td>-4171.483647</td>\n",
       "      <td>36</td>\n",
       "      <td>высшее</td>\n",
       "      <td>0</td>\n",
       "      <td>женат / замужем</td>\n",
       "      <td>0</td>\n",
       "      <td>M</td>\n",
       "      <td>компаньон</td>\n",
       "      <td>0</td>\n",
       "      <td>113943.491460</td>\n",
       "      <td>покупка недвижимости</td>\n",
       "    </tr>\n",
       "    <tr>\n",
       "      <th>11</th>\n",
       "      <td>0</td>\n",
       "      <td>-792.701887</td>\n",
       "      <td>40</td>\n",
       "      <td>среднее</td>\n",
       "      <td>1</td>\n",
       "      <td>женат / замужем</td>\n",
       "      <td>0</td>\n",
       "      <td>F</td>\n",
       "      <td>сотрудник</td>\n",
       "      <td>0</td>\n",
       "      <td>77069.234271</td>\n",
       "      <td>покупка коммерческой недвижимости</td>\n",
       "    </tr>\n",
       "    <tr>\n",
       "      <th>12</th>\n",
       "      <td>0</td>\n",
       "      <td>NaN</td>\n",
       "      <td>65</td>\n",
       "      <td>среднее</td>\n",
       "      <td>1</td>\n",
       "      <td>гражданский брак</td>\n",
       "      <td>1</td>\n",
       "      <td>M</td>\n",
       "      <td>пенсионер</td>\n",
       "      <td>0</td>\n",
       "      <td>NaN</td>\n",
       "      <td>сыграть свадьбу</td>\n",
       "    </tr>\n",
       "    <tr>\n",
       "      <th>13</th>\n",
       "      <td>0</td>\n",
       "      <td>-1846.641941</td>\n",
       "      <td>54</td>\n",
       "      <td>неоконченное высшее</td>\n",
       "      <td>2</td>\n",
       "      <td>женат / замужем</td>\n",
       "      <td>0</td>\n",
       "      <td>F</td>\n",
       "      <td>сотрудник</td>\n",
       "      <td>0</td>\n",
       "      <td>130458.228857</td>\n",
       "      <td>приобретение автомобиля</td>\n",
       "    </tr>\n",
       "    <tr>\n",
       "      <th>14</th>\n",
       "      <td>0</td>\n",
       "      <td>-1844.956182</td>\n",
       "      <td>56</td>\n",
       "      <td>высшее</td>\n",
       "      <td>0</td>\n",
       "      <td>гражданский брак</td>\n",
       "      <td>1</td>\n",
       "      <td>F</td>\n",
       "      <td>компаньон</td>\n",
       "      <td>1</td>\n",
       "      <td>165127.911772</td>\n",
       "      <td>покупка жилой недвижимости</td>\n",
       "    </tr>\n",
       "    <tr>\n",
       "      <th>15</th>\n",
       "      <td>1</td>\n",
       "      <td>-972.364419</td>\n",
       "      <td>26</td>\n",
       "      <td>среднее</td>\n",
       "      <td>1</td>\n",
       "      <td>женат / замужем</td>\n",
       "      <td>0</td>\n",
       "      <td>F</td>\n",
       "      <td>сотрудник</td>\n",
       "      <td>0</td>\n",
       "      <td>116820.904450</td>\n",
       "      <td>строительство собственной недвижимости</td>\n",
       "    </tr>\n",
       "    <tr>\n",
       "      <th>16</th>\n",
       "      <td>0</td>\n",
       "      <td>-1719.934226</td>\n",
       "      <td>35</td>\n",
       "      <td>среднее</td>\n",
       "      <td>1</td>\n",
       "      <td>женат / замужем</td>\n",
       "      <td>0</td>\n",
       "      <td>F</td>\n",
       "      <td>сотрудник</td>\n",
       "      <td>0</td>\n",
       "      <td>289202.704229</td>\n",
       "      <td>недвижимость</td>\n",
       "    </tr>\n",
       "    <tr>\n",
       "      <th>17</th>\n",
       "      <td>0</td>\n",
       "      <td>-2369.999720</td>\n",
       "      <td>33</td>\n",
       "      <td>высшее</td>\n",
       "      <td>0</td>\n",
       "      <td>гражданский брак</td>\n",
       "      <td>1</td>\n",
       "      <td>M</td>\n",
       "      <td>сотрудник</td>\n",
       "      <td>0</td>\n",
       "      <td>90410.586745</td>\n",
       "      <td>строительство недвижимости</td>\n",
       "    </tr>\n",
       "    <tr>\n",
       "      <th>18</th>\n",
       "      <td>0</td>\n",
       "      <td>400281.136913</td>\n",
       "      <td>53</td>\n",
       "      <td>среднее</td>\n",
       "      <td>1</td>\n",
       "      <td>вдовец / вдова</td>\n",
       "      <td>2</td>\n",
       "      <td>F</td>\n",
       "      <td>пенсионер</td>\n",
       "      <td>0</td>\n",
       "      <td>56823.777243</td>\n",
       "      <td>на покупку подержанного автомобиля</td>\n",
       "    </tr>\n",
       "    <tr>\n",
       "      <th>19</th>\n",
       "      <td>0</td>\n",
       "      <td>-10038.818549</td>\n",
       "      <td>48</td>\n",
       "      <td>СРЕДНЕЕ</td>\n",
       "      <td>1</td>\n",
       "      <td>в разводе</td>\n",
       "      <td>3</td>\n",
       "      <td>F</td>\n",
       "      <td>сотрудник</td>\n",
       "      <td>0</td>\n",
       "      <td>242831.107982</td>\n",
       "      <td>на покупку своего автомобиля</td>\n",
       "    </tr>\n",
       "  </tbody>\n",
       "</table>\n",
       "</div>"
      ],
      "text/plain": [
       "    children  days_employed  dob_years            education  education_id  \\\n",
       "0          1   -8437.673028         42               высшее             0   \n",
       "1          1   -4024.803754         36              среднее             1   \n",
       "2          0   -5623.422610         33              Среднее             1   \n",
       "3          3   -4124.747207         32              среднее             1   \n",
       "4          0  340266.072047         53              среднее             1   \n",
       "5          0    -926.185831         27               высшее             0   \n",
       "6          0   -2879.202052         43               высшее             0   \n",
       "7          0    -152.779569         50              СРЕДНЕЕ             1   \n",
       "8          2   -6929.865299         35               ВЫСШЕЕ             0   \n",
       "9          0   -2188.756445         41              среднее             1   \n",
       "10         2   -4171.483647         36               высшее             0   \n",
       "11         0    -792.701887         40              среднее             1   \n",
       "12         0            NaN         65              среднее             1   \n",
       "13         0   -1846.641941         54  неоконченное высшее             2   \n",
       "14         0   -1844.956182         56               высшее             0   \n",
       "15         1    -972.364419         26              среднее             1   \n",
       "16         0   -1719.934226         35              среднее             1   \n",
       "17         0   -2369.999720         33               высшее             0   \n",
       "18         0  400281.136913         53              среднее             1   \n",
       "19         0  -10038.818549         48              СРЕДНЕЕ             1   \n",
       "\n",
       "       family_status  family_status_id gender income_type  debt  \\\n",
       "0    женат / замужем                 0      F   сотрудник     0   \n",
       "1    женат / замужем                 0      F   сотрудник     0   \n",
       "2    женат / замужем                 0      M   сотрудник     0   \n",
       "3    женат / замужем                 0      M   сотрудник     0   \n",
       "4   гражданский брак                 1      F   пенсионер     0   \n",
       "5   гражданский брак                 1      M   компаньон     0   \n",
       "6    женат / замужем                 0      F   компаньон     0   \n",
       "7    женат / замужем                 0      M   сотрудник     0   \n",
       "8   гражданский брак                 1      F   сотрудник     0   \n",
       "9    женат / замужем                 0      M   сотрудник     0   \n",
       "10   женат / замужем                 0      M   компаньон     0   \n",
       "11   женат / замужем                 0      F   сотрудник     0   \n",
       "12  гражданский брак                 1      M   пенсионер     0   \n",
       "13   женат / замужем                 0      F   сотрудник     0   \n",
       "14  гражданский брак                 1      F   компаньон     1   \n",
       "15   женат / замужем                 0      F   сотрудник     0   \n",
       "16   женат / замужем                 0      F   сотрудник     0   \n",
       "17  гражданский брак                 1      M   сотрудник     0   \n",
       "18    вдовец / вдова                 2      F   пенсионер     0   \n",
       "19         в разводе                 3      F   сотрудник     0   \n",
       "\n",
       "     total_income                                 purpose  \n",
       "0   253875.639453                           покупка жилья  \n",
       "1   112080.014102                 приобретение автомобиля  \n",
       "2   145885.952297                           покупка жилья  \n",
       "3   267628.550329              дополнительное образование  \n",
       "4   158616.077870                         сыграть свадьбу  \n",
       "5   255763.565419                           покупка жилья  \n",
       "6   240525.971920                       операции с жильем  \n",
       "7   135823.934197                             образование  \n",
       "8    95856.832424                   на проведение свадьбы  \n",
       "9   144425.938277                 покупка жилья для семьи  \n",
       "10  113943.491460                    покупка недвижимости  \n",
       "11   77069.234271       покупка коммерческой недвижимости  \n",
       "12            NaN                         сыграть свадьбу  \n",
       "13  130458.228857                 приобретение автомобиля  \n",
       "14  165127.911772              покупка жилой недвижимости  \n",
       "15  116820.904450  строительство собственной недвижимости  \n",
       "16  289202.704229                            недвижимость  \n",
       "17   90410.586745              строительство недвижимости  \n",
       "18   56823.777243      на покупку подержанного автомобиля  \n",
       "19  242831.107982            на покупку своего автомобиля  "
      ]
     },
     "execution_count": 73,
     "metadata": {},
     "output_type": "execute_result"
    }
   ],
   "source": [
    "data.head(20)\n"
   ]
  },
  {
   "cell_type": "markdown",
   "id": "0ed8f27f",
   "metadata": {
    "deletable": false,
    "editable": false,
    "id": "0ed8f27f"
   },
   "source": [
    "**Задание 3. Выведите основную информацию о датафрейме с помощью метода `info()`.**"
   ]
  },
  {
   "cell_type": "code",
   "execution_count": 6,
   "id": "ab3f863b",
   "metadata": {
    "deletable": false,
    "id": "ab3f863b",
    "outputId": "15376089-8dad-46c9-b520-c05248d43158"
   },
   "outputs": [
    {
     "name": "stdout",
     "output_type": "stream",
     "text": [
      "<class 'pandas.core.frame.DataFrame'>\n",
      "RangeIndex: 21525 entries, 0 to 21524\n",
      "Data columns (total 12 columns):\n",
      " #   Column            Non-Null Count  Dtype  \n",
      "---  ------            --------------  -----  \n",
      " 0   children          21525 non-null  int64  \n",
      " 1   days_employed     19351 non-null  float64\n",
      " 2   dob_years         21525 non-null  int64  \n",
      " 3   education         21525 non-null  object \n",
      " 4   education_id      21525 non-null  int64  \n",
      " 5   family_status     21525 non-null  object \n",
      " 6   family_status_id  21525 non-null  int64  \n",
      " 7   gender            21525 non-null  object \n",
      " 8   income_type       21525 non-null  object \n",
      " 9   debt              21525 non-null  int64  \n",
      " 10  total_income      19351 non-null  float64\n",
      " 11  purpose           21525 non-null  object \n",
      "dtypes: float64(2), int64(5), object(5)\n",
      "memory usage: 2.0+ MB\n"
     ]
    }
   ],
   "source": [
    "data.info()"
   ]
  },
  {
   "cell_type": "markdown",
   "id": "60e3e22d",
   "metadata": {
    "deletable": false,
    "editable": false,
    "id": "60e3e22d"
   },
   "source": [
    "## Предобработка данных"
   ]
  },
  {
   "cell_type": "markdown",
   "id": "03dc170c",
   "metadata": {
    "deletable": false,
    "editable": false,
    "id": "03dc170c"
   },
   "source": [
    "### Удаление пропусков"
   ]
  },
  {
   "cell_type": "markdown",
   "id": "a4f54eef",
   "metadata": {
    "deletable": false,
    "editable": false,
    "id": "a4f54eef"
   },
   "source": [
    "**Задание 4. Выведите количество пропущенных значений для каждого столбца. Используйте комбинацию двух методов.**"
   ]
  },
  {
   "cell_type": "code",
   "execution_count": 4,
   "id": "2dc372b2",
   "metadata": {
    "deletable": false,
    "id": "2dc372b2",
    "outputId": "81f4d817-781c-465c-ed15-91ce4446810d"
   },
   "outputs": [
    {
     "data": {
      "text/plain": [
       "children               0\n",
       "days_employed       2174\n",
       "dob_years              0\n",
       "education              0\n",
       "education_id           0\n",
       "family_status          0\n",
       "family_status_id       0\n",
       "gender                 0\n",
       "income_type            0\n",
       "debt                   0\n",
       "total_income        2174\n",
       "purpose                0\n",
       "dtype: int64"
      ]
     },
     "execution_count": 4,
     "metadata": {},
     "output_type": "execute_result"
    }
   ],
   "source": [
    "data.isna().sum()"
   ]
  },
  {
   "cell_type": "markdown",
   "id": "14f011b1",
   "metadata": {
    "deletable": false,
    "editable": false,
    "id": "14f011b1"
   },
   "source": [
    "**Задание 5. В двух столбцах есть пропущенные значения. Один из них — `days_employed`. Пропуски в этом столбце вы обработаете на следующем этапе. Другой столбец с пропущенными значениями — `total_income` — хранит данные о доходах. На сумму дохода сильнее всего влияет тип занятости, поэтому заполнить пропуски в этом столбце нужно медианным значением по каждому типу из столбца `income_type`. Например, у человека с типом занятости `сотрудник` пропуск в столбце `total_income` должен быть заполнен медианным доходом среди всех записей с тем же типом.**"
   ]
  },
  {
   "cell_type": "code",
   "execution_count": 2,
   "id": "bdabfb6e",
   "metadata": {
    "deletable": false,
    "id": "bdabfb6e"
   },
   "outputs": [],
   "source": [
    "for t in data['income_type'].unique():\n",
    "    data.loc[(data['income_type'] == t) & (data['total_income'].isna()), 'total_income'] = \\\n",
    "    data.loc[(data['income_type'] == t), 'total_income'].median()"
   ]
  },
  {
   "cell_type": "markdown",
   "id": "5be34059",
   "metadata": {
    "deletable": false,
    "editable": false,
    "id": "5be34059"
   },
   "source": [
    "### Обработка аномальных значений"
   ]
  },
  {
   "cell_type": "markdown",
   "id": "a87606cb",
   "metadata": {
    "deletable": false,
    "editable": false,
    "id": "a87606cb"
   },
   "source": [
    "**Задание 6. В данных могут встречаться артефакты (аномалии) — значения, которые не отражают действительность и появились по какой-то ошибке. таким артефактом будет отрицательное количество дней трудового стажа в столбце `days_employed`. Для реальных данных это нормально. Обработайте значения в этом столбце: замените все отрицательные значения положительными с помощью метода `abs()`.**"
   ]
  },
  {
   "cell_type": "code",
   "execution_count": 3,
   "id": "020c46cc",
   "metadata": {
    "deletable": false,
    "id": "020c46cc"
   },
   "outputs": [],
   "source": [
    "data['days_employed'] = data['days_employed'].abs()"
   ]
  },
  {
   "cell_type": "markdown",
   "id": "45538a3a",
   "metadata": {
    "deletable": false,
    "editable": false,
    "id": "45538a3a"
   },
   "source": [
    "**Задание 7. Для каждого типа занятости выведите медианное значение трудового стажа `days_employed` в днях.**"
   ]
  },
  {
   "cell_type": "code",
   "execution_count": 7,
   "id": "cd3e6328",
   "metadata": {
    "deletable": false,
    "id": "cd3e6328",
    "outputId": "801ef80e-522b-4668-f34e-565af7432bcf"
   },
   "outputs": [
    {
     "data": {
      "text/plain": [
       "income_type\n",
       "безработный        366413.652744\n",
       "в декрете            3296.759962\n",
       "госслужащий          2689.368353\n",
       "компаньон            1547.382223\n",
       "пенсионер          365213.306266\n",
       "предприниматель       520.848083\n",
       "сотрудник            1574.202821\n",
       "студент               578.751554\n",
       "Name: days_employed, dtype: float64"
      ]
     },
     "execution_count": 7,
     "metadata": {},
     "output_type": "execute_result"
    }
   ],
   "source": [
    "data.groupby('income_type')['days_employed'].agg('median')"
   ]
  },
  {
   "cell_type": "markdown",
   "id": "90c5f058",
   "metadata": {
    "deletable": false,
    "editable": false,
    "id": "90c5f058"
   },
   "source": [
    "У двух типов (безработные и пенсионеры) получатся аномально большие значения. Исправить такие значения сложно, поэтому оставьте их как есть."
   ]
  },
  {
   "cell_type": "markdown",
   "id": "9652e50d",
   "metadata": {
    "deletable": false,
    "editable": false,
    "id": "9652e50d"
   },
   "source": [
    "**Задание 8. Выведите перечень уникальных значений столбца `children`.**"
   ]
  },
  {
   "cell_type": "code",
   "execution_count": 8,
   "id": "dbb37b8e",
   "metadata": {
    "deletable": false,
    "id": "dbb37b8e",
    "outputId": "6975b15c-7f95-4697-d16d-a0c79b657b03"
   },
   "outputs": [
    {
     "data": {
      "text/plain": [
       "array([ 1,  0,  3,  2, -1,  4, 20,  5])"
      ]
     },
     "execution_count": 8,
     "metadata": {},
     "output_type": "execute_result"
    }
   ],
   "source": [
    "data['children'].unique()"
   ]
  },
  {
   "cell_type": "markdown",
   "id": "2b8b0715",
   "metadata": {
    "deletable": false,
    "editable": false,
    "id": "2b8b0715"
   },
   "source": [
    "**Задание 9. В столбце `children` есть два аномальных значения. Удалите строки, в которых встречаются такие аномальные значения из датафрейма `data`.**"
   ]
  },
  {
   "cell_type": "code",
   "execution_count": 4,
   "id": "20009df8",
   "metadata": {
    "deletable": false,
    "id": "20009df8"
   },
   "outputs": [],
   "source": [
    "data = data[(data['children'] != -1) & (data['children'] != 20)]"
   ]
  },
  {
   "cell_type": "markdown",
   "id": "8c6ac9f1",
   "metadata": {
    "deletable": false,
    "editable": false,
    "id": "8c6ac9f1"
   },
   "source": [
    "**Задание 10. Ещё раз выведите перечень уникальных значений столбца `children`, чтобы убедиться, что артефакты удалены.**"
   ]
  },
  {
   "cell_type": "code",
   "execution_count": 10,
   "id": "07337b81",
   "metadata": {
    "deletable": false,
    "id": "07337b81",
    "outputId": "b2097101-d49d-44d9-901b-32a65c9463d1"
   },
   "outputs": [
    {
     "data": {
      "text/plain": [
       "array([1, 0, 3, 2, 4, 5])"
      ]
     },
     "execution_count": 10,
     "metadata": {},
     "output_type": "execute_result"
    }
   ],
   "source": [
    "data['children'].unique()"
   ]
  },
  {
   "cell_type": "markdown",
   "id": "ee3f52d4",
   "metadata": {
    "deletable": false,
    "editable": false,
    "id": "ee3f52d4"
   },
   "source": [
    "### Удаление пропусков (продолжение)"
   ]
  },
  {
   "cell_type": "markdown",
   "id": "a700b0e4",
   "metadata": {
    "deletable": false,
    "editable": false,
    "id": "a700b0e4"
   },
   "source": [
    "**Задание 11. Заполните пропуски в столбце `days_employed` медианными значениями по каждого типа занятости `income_type`.**"
   ]
  },
  {
   "cell_type": "code",
   "execution_count": 5,
   "id": "61946b83",
   "metadata": {
    "deletable": false,
    "id": "61946b83"
   },
   "outputs": [],
   "source": [
    "for t in data['income_type'].unique():\n",
    "    data.loc[(data['income_type'] == t) & (data['days_employed'].isna()), 'days_employed'] = \\\n",
    "    data.loc[(data['income_type'] == t), 'days_employed'].median()"
   ]
  },
  {
   "cell_type": "markdown",
   "id": "550dcd9b",
   "metadata": {
    "deletable": false,
    "editable": false,
    "id": "550dcd9b"
   },
   "source": [
    "**Задание 12. Убедитесь, что все пропуски заполнены. Проверьте себя и ещё раз выведите количество пропущенных значений для каждого столбца с помощью двух методов.**"
   ]
  },
  {
   "cell_type": "code",
   "execution_count": 7,
   "id": "937c7014",
   "metadata": {
    "deletable": false,
    "id": "937c7014",
    "outputId": "8da1e4e1-358e-4e87-98c9-f261bce0a7b2"
   },
   "outputs": [
    {
     "data": {
      "text/plain": [
       "children            0\n",
       "days_employed       0\n",
       "dob_years           0\n",
       "education           0\n",
       "education_id        0\n",
       "family_status       0\n",
       "family_status_id    0\n",
       "gender              0\n",
       "income_type         0\n",
       "debt                0\n",
       "total_income        0\n",
       "purpose             0\n",
       "dtype: int64"
      ]
     },
     "execution_count": 7,
     "metadata": {},
     "output_type": "execute_result"
    }
   ],
   "source": [
    "data.isna().sum()"
   ]
  },
  {
   "cell_type": "markdown",
   "id": "d522e295",
   "metadata": {
    "deletable": false,
    "editable": false,
    "id": "d522e295"
   },
   "source": [
    "### Изменение типов данных"
   ]
  },
  {
   "cell_type": "markdown",
   "id": "c229c581",
   "metadata": {
    "deletable": false,
    "editable": false,
    "id": "c229c581"
   },
   "source": [
    "**Задание 13. Замените вещественный тип данных в столбце `total_income` на целочисленный с помощью метода `astype()`.**"
   ]
  },
  {
   "cell_type": "code",
   "execution_count": 6,
   "id": "31036462",
   "metadata": {
    "deletable": false,
    "id": "31036462"
   },
   "outputs": [],
   "source": [
    "data['total_income'] = data['total_income'].astype(int)"
   ]
  },
  {
   "cell_type": "markdown",
   "id": "b8e3d1d9",
   "metadata": {
    "deletable": false,
    "editable": false,
    "id": "b8e3d1d9"
   },
   "source": [
    "### Обработка дубликатов"
   ]
  },
  {
   "cell_type": "markdown",
   "id": "9be53c49",
   "metadata": {
    "deletable": false,
    "editable": false,
    "id": "9be53c49"
   },
   "source": [
    "**Задание 14. Обработайте неявные дубликаты в столбце `education`. В этом столбце есть одни и те же значения, но записанные по-разному: с использованием заглавных и строчных букв. Приведите их к нижнему регистру.**"
   ]
  },
  {
   "cell_type": "code",
   "execution_count": 7,
   "id": "d89e73e1",
   "metadata": {
    "deletable": false,
    "id": "d89e73e1"
   },
   "outputs": [],
   "source": [
    "data['education'] = data['education'].str.lower()"
   ]
  },
  {
   "cell_type": "markdown",
   "id": "01d4500e",
   "metadata": {
    "deletable": false,
    "editable": false,
    "id": "01d4500e"
   },
   "source": [
    "**Задание 15. Выведите на экран количество строк-дубликатов в данных. Если такие строки присутствуют, удалите их.**"
   ]
  },
  {
   "cell_type": "code",
   "execution_count": 15,
   "id": "e10efb23",
   "metadata": {
    "deletable": false,
    "id": "e10efb23",
    "outputId": "9684deba-1934-42d1-99e1-cda61740f822"
   },
   "outputs": [
    {
     "data": {
      "text/plain": [
       "71"
      ]
     },
     "execution_count": 15,
     "metadata": {},
     "output_type": "execute_result"
    }
   ],
   "source": [
    "data.duplicated().sum()"
   ]
  },
  {
   "cell_type": "code",
   "execution_count": 8,
   "id": "df853f20",
   "metadata": {
    "deletable": false,
    "id": "df853f20"
   },
   "outputs": [],
   "source": [
    "data = data.drop_duplicates()"
   ]
  },
  {
   "cell_type": "markdown",
   "id": "627be38f",
   "metadata": {
    "deletable": false,
    "editable": false,
    "id": "627be38f"
   },
   "source": [
    "### Категоризация данных"
   ]
  },
  {
   "cell_type": "markdown",
   "id": "4684c3e0",
   "metadata": {
    "deletable": false,
    "editable": false,
    "id": "4684c3e0"
   },
   "source": [
    "**Задание 16. На основании диапазонов, указанных ниже, создайте в датафрейме `data` столбец `total_income_category` с категориями:**\n",
    "\n",
    "- 0–30000 — `'E'`;\n",
    "- 30001–50000 — `'D'`;\n",
    "- 50001–200000 — `'C'`;\n",
    "- 200001–1000000 — `'B'`;\n",
    "- 1000001 и выше — `'A'`.\n",
    "\n",
    "\n",
    "**Например, кредитополучателю с доходом 25000 нужно назначить категорию `'E'`, а клиенту, получающему 235000, — `'B'`. Используйте собственную функцию с именем `categorize_income()` и метод `apply()`.**"
   ]
  },
  {
   "cell_type": "code",
   "execution_count": 9,
   "id": "78965238",
   "metadata": {
    "deletable": false,
    "id": "78965238"
   },
   "outputs": [],
   "source": [
    "def categorize_income(income):\n",
    "    try:\n",
    "        if 0 <= income <= 30000:\n",
    "            return 'E'\n",
    "        elif 30001 <= income <= 50000:\n",
    "            return 'D'\n",
    "        elif 50001 <= income <= 200000:\n",
    "            return 'C'\n",
    "        elif 200001 <= income <= 1000000:\n",
    "            return 'B'\n",
    "        elif income >= 1000001:\n",
    "            return 'A'\n",
    "    except:\n",
    "        pass"
   ]
  },
  {
   "cell_type": "code",
   "execution_count": 12,
   "id": "0980ada1",
   "metadata": {
    "deletable": false,
    "id": "0980ada1"
   },
   "outputs": [],
   "source": [
    "data['total_income_category'] = data['total_income'].apply(categorize_income)"
   ]
  },
  {
   "cell_type": "markdown",
   "id": "9917bba0",
   "metadata": {
    "deletable": false,
    "editable": false,
    "id": "9917bba0"
   },
   "source": [
    "**Задание 17. Выведите на экран перечень уникальных целей взятия кредита из столбца `purpose`.**"
   ]
  },
  {
   "cell_type": "code",
   "execution_count": 19,
   "id": "ee07b65e",
   "metadata": {
    "deletable": false,
    "id": "ee07b65e",
    "outputId": "673c12d9-7d7e-4ae0-9812-c622c89dd244"
   },
   "outputs": [
    {
     "data": {
      "text/plain": [
       "array(['покупка жилья', 'приобретение автомобиля',\n",
       "       'дополнительное образование', 'сыграть свадьбу',\n",
       "       'операции с жильем', 'образование', 'на проведение свадьбы',\n",
       "       'покупка жилья для семьи', 'покупка недвижимости',\n",
       "       'покупка коммерческой недвижимости', 'покупка жилой недвижимости',\n",
       "       'строительство собственной недвижимости', 'недвижимость',\n",
       "       'строительство недвижимости', 'на покупку подержанного автомобиля',\n",
       "       'на покупку своего автомобиля',\n",
       "       'операции с коммерческой недвижимостью',\n",
       "       'строительство жилой недвижимости', 'жилье',\n",
       "       'операции со своей недвижимостью', 'автомобили',\n",
       "       'заняться образованием', 'сделка с подержанным автомобилем',\n",
       "       'получение образования', 'автомобиль', 'свадьба',\n",
       "       'получение дополнительного образования', 'покупка своего жилья',\n",
       "       'операции с недвижимостью', 'получение высшего образования',\n",
       "       'свой автомобиль', 'сделка с автомобилем',\n",
       "       'профильное образование', 'высшее образование',\n",
       "       'покупка жилья для сдачи', 'на покупку автомобиля', 'ремонт жилью',\n",
       "       'заняться высшим образованием'], dtype=object)"
      ]
     },
     "execution_count": 19,
     "metadata": {},
     "output_type": "execute_result"
    }
   ],
   "source": [
    "data['purpose'].unique()"
   ]
  },
  {
   "cell_type": "markdown",
   "id": "52b79d56",
   "metadata": {
    "deletable": false,
    "editable": false,
    "id": "52b79d56"
   },
   "source": [
    "**Задание 18. Создайте функцию, которая на основании данных из столбца `purpose` сформирует новый столбец `purpose_category`, в который войдут следующие категории:**\n",
    "\n",
    "- `'операции с автомобилем'`,\n",
    "- `'операции с недвижимостью'`,\n",
    "- `'проведение свадьбы'`,\n",
    "- `'получение образования'`.\n",
    "\n",
    "**Например, если в столбце `purpose` находится подстрока `'на покупку автомобиля'`, то в столбце `purpose_category` должна появиться строка `'операции с автомобилем'`.**\n",
    "\n",
    "**Используйте собственную функцию с именем `categorize_purpose()` и метод `apply()`. Изучите данные в столбце `purpose` и определите, какие подстроки помогут вам правильно определить категорию.**"
   ]
  },
  {
   "cell_type": "code",
   "execution_count": 10,
   "id": "be41da5d",
   "metadata": {
    "deletable": false,
    "id": "be41da5d"
   },
   "outputs": [],
   "source": [
    "def categorize_purpose(row):\n",
    "    try:\n",
    "        if 'автом' in row:\n",
    "            return 'операции с автомобилем'\n",
    "        elif 'жил' in row or 'недвиж' in row:\n",
    "            return 'операции с недвижимостью'\n",
    "        elif 'свад' in row:\n",
    "            return 'проведение свадьбы'\n",
    "        elif 'образов' in row:\n",
    "            return 'получение образования'\n",
    "    except:\n",
    "        return 'нет категории'"
   ]
  },
  {
   "cell_type": "code",
   "execution_count": 11,
   "id": "94c4a19a",
   "metadata": {
    "deletable": false,
    "id": "94c4a19a"
   },
   "outputs": [],
   "source": [
    "data['purpose_category'] = data['purpose'].apply(categorize_purpose)"
   ]
  },
  {
   "cell_type": "markdown",
   "id": "3d596c34",
   "metadata": {
    "deletable": false,
    "editable": false,
    "id": "3d596c34"
   },
   "source": [
    "### Шаг 3. Исследуйте данные и ответьте на вопросы"
   ]
  },
  {
   "cell_type": "markdown",
   "id": "648db036",
   "metadata": {
    "deletable": false,
    "editable": false,
    "id": "648db036"
   },
   "source": [
    "#### 3.1 Есть ли зависимость между количеством детей и возвратом кредита в срок?"
   ]
  },
  {
   "cell_type": "code",
   "execution_count": 62,
   "id": "7fcff25e",
   "metadata": {
    "deletable": false,
    "id": "7fcff25e"
   },
   "outputs": [
    {
     "name": "stdout",
     "output_type": "stream",
     "text": [
      "          count   sum   delay,%\n",
      "           debt  debt          \n",
      "children                       \n",
      "0         14091  1063  7.543822\n",
      "1          4808   444  9.234609\n",
      "2          2052   194  9.454191\n",
      "3           330    27  8.181818\n",
      "4            41     4  9.756098\n",
      "5             9     0  0.000000\n"
     ]
    },
    {
     "data": {
      "text/plain": [
       "<AxesSubplot:xlabel='Количество детей'>"
      ]
     },
     "execution_count": 62,
     "metadata": {},
     "output_type": "execute_result"
    },
    {
     "data": {
      "image/png": "[encoded data removed]",
      "text/plain": [
       "<Figure size 432x288 with 1 Axes>"
      ]
     },
     "metadata": {
      "needs_background": "light"
     },
     "output_type": "display_data"
    }
   ],
   "source": [
    "pivot = data.pivot_table(index=['children'],values='debt',aggfunc=['count','sum'])\n",
    "pivot['delay,%'] = 100 * pivot['sum']/pivot['count']\n",
    "print(pivot)\n",
    "(100*(data.groupby('children')['debt'].sum())/data.groupby('children')['gender'].count()).plot.bar(xlabel='Количество детей')\n",
    "#print(data.groupby('children')['gender'].count())"
   ]
  },
  {
   "cell_type": "markdown",
   "id": "2eb9088e",
   "metadata": {
    "deletable": false,
    "id": "2eb9088e"
   },
   "source": [
    "**Вывод:** Описание графика: процент задержек по выплате кредита, в зависимости от количества детей в семье.\n",
    "График дает возможность сделать предположение, что наиболее надежны в плане кредитования семьи без детей и семьи с 3мя детьми. Это может быть связанно с тем, что в первом случае, бюджет семьи не расходуется на детей и есть возможность погашения кредита в срок. Во втором случае, возможно, играет роль наличие компенсаций, выплат и льгот для многодетных семей. Причем, при появлении 4ого ребенка, все эти меры поддержки резко перестают влиять на способность выплаты долга по кредиту в срок.\n",
    "График для семей с 5тью детьми можно и нужно в расчет не брать, поскольку количество данных по этой категории - 9 случаев. Это ничтожно мало для анализа статистики."
   ]
  },
  {
   "cell_type": "markdown",
   "id": "74c9b3a7",
   "metadata": {
    "deletable": false,
    "editable": false,
    "id": "74c9b3a7"
   },
   "source": [
    "#### 3.2 Есть ли зависимость между семейным положением и возвратом кредита в срок?"
   ]
  },
  {
   "cell_type": "code",
   "execution_count": 58,
   "id": "8098ab3b",
   "metadata": {
    "deletable": false,
    "id": "8098ab3b"
   },
   "outputs": [
    {
     "name": "stdout",
     "output_type": "stream",
     "text": [
      "                       count  sum   delay,%\n",
      "                        debt debt          \n",
      "family_status                              \n",
      "Не женат / не замужем   2796  273  9.763948\n",
      "в разводе               1189   84  7.064760\n",
      "вдовец / вдова           951   63  6.624606\n",
      "гражданский брак        4134  385  9.313014\n",
      "женат / замужем        12261  927  7.560558\n"
     ]
    },
    {
     "data": {
      "text/plain": [
       "<AxesSubplot:xlabel='family_status'>"
      ]
     },
     "execution_count": 58,
     "metadata": {},
     "output_type": "execute_result"
    },
    {
     "data": {
      "image/png": "[encoded data removed]",
      "text/plain": [
       "<Figure size 432x288 with 1 Axes>"
      ]
     },
     "metadata": {
      "needs_background": "light"
     },
     "output_type": "display_data"
    }
   ],
   "source": [
    "pivot = data.pivot_table(index=['family_status'],values='debt',aggfunc=['count','sum'])\n",
    "pivot['delay,%'] = 100 * pivot['sum']/pivot['count']\n",
    "print(pivot)\n",
    "(100*(data.groupby('family_status')['debt'].sum())/data.groupby('family_status')['gender'].count()).plot.bar()\n",
    "#print(data.groupby('family_status')['gender'].count())"
   ]
  },
  {
   "cell_type": "markdown",
   "id": "c389ca63",
   "metadata": {
    "deletable": false,
    "id": "c389ca63"
   },
   "source": [
    "**Вывод:** Описание графика: процент задержек по выплате кредита, в зависимости от семейного положения заемщика.\n",
    "Можно предположить, что наиболее благонадежные заемщики - люди, которые побывали в официальном браке, но на текущий момент либо овдовели, либо находятся в разводе. Возможно, брак учит людей более грамотно распоряжаться денежными ресурсами и планировать расходы, т.к., например, судя по столбцу \"Не женат/не замужем\" эта категория людей наиболее подвержена риску задержки платежа по кредиту. Гражданский брак так же не прививает культуру планирования и оценки финансовых возможностей, судя по статистике."
   ]
  },
  {
   "cell_type": "markdown",
   "id": "9529de68",
   "metadata": {
    "deletable": false,
    "editable": false,
    "id": "9529de68"
   },
   "source": [
    "#### 3.3 Есть ли зависимость между уровнем дохода и возвратом кредита в срок?"
   ]
  },
  {
   "cell_type": "code",
   "execution_count": 64,
   "id": "8787f44a",
   "metadata": {
    "deletable": false,
    "id": "8787f44a"
   },
   "outputs": [
    {
     "name": "stdout",
     "output_type": "stream",
     "text": [
      "                       count   sum   delay,%\n",
      "                        debt  debt          \n",
      "total_income_category                       \n",
      "A                         25     2  8.000000\n",
      "B                       5014   354  7.060231\n",
      "C                      15921  1353  8.498210\n",
      "D                        349    21  6.017192\n",
      "E                         22     2  9.090909\n"
     ]
    },
    {
     "data": {
      "text/plain": [
       "<AxesSubplot:xlabel='total_income_category'>"
      ]
     },
     "execution_count": 64,
     "metadata": {},
     "output_type": "execute_result"
    },
    {
     "data": {
      "image/png": "[encoded data removed]",
      "text/plain": [
       "<Figure size 432x288 with 1 Axes>"
      ]
     },
     "metadata": {
      "needs_background": "light"
     },
     "output_type": "display_data"
    }
   ],
   "source": [
    "pivot = data.pivot_table(index=['total_income_category'],values='debt',aggfunc=['count','sum'])\n",
    "pivot['delay,%'] = 100 * pivot['sum']/pivot['count']\n",
    "print(pivot)\n",
    "(100*(data.groupby('total_income_category')['debt'].sum())/data.groupby('total_income_category')['gender'].count()).plot.bar()\n",
    "#print(data.groupby('total_income_category')['gender'].count())"
   ]
  },
  {
   "cell_type": "markdown",
   "id": "6dd14b57",
   "metadata": {
    "deletable": false,
    "id": "6dd14b57"
   },
   "source": [
    "**Вывод:** Описание графика: процент задержек по выплате кредита, в зависимости от дохода заемщика.\n",
    "Категории:\n",
    "0–30000 — 'E';\n",
    "30001–50000 — 'D';\n",
    "50001–200000 — 'C';\n",
    "200001–1000000 — 'B';\n",
    "1000001 и выше — 'A'\n",
    "Казалось бы, что ожидаемо, наименее благонадежными заемщиками оказываются люди с низким уровнем дохода. Но если взглянуть на количество случаев - 22, то быть уверенным в получившхся итогах не получается, как и для категории с высоким уровнем дохода, где количество случаев немногим больше - 25.\n",
    "Поэтому для оценки предположения я бы использовал только средние категории доходов заемщиков.\n",
    "Но даже в этом случае зависимости между уровнем дохода и наличием просрочек не заметна.\n",
    "Да, если рассматривать только категории В и С, как наиболее \"массовые\", то зависимость \"чем больше доход - тем меньше просрочек\" явно прослеживается, но её трудно подтвердить или опровергнуть, т.к. нет как нет достаточно данных для соседних категорий дохода"
   ]
  },
  {
   "cell_type": "markdown",
   "id": "1dcc9b12",
   "metadata": {
    "deletable": false,
    "editable": false,
    "id": "1dcc9b12"
   },
   "source": [
    "#### 3.4 Как разные цели кредита влияют на его возврат в срок?"
   ]
  },
  {
   "cell_type": "code",
   "execution_count": 65,
   "id": "c602bc8b",
   "metadata": {
    "deletable": false,
    "id": "c602bc8b"
   },
   "outputs": [
    {
     "name": "stdout",
     "output_type": "stream",
     "text": [
      "                          count  sum   delay,%\n",
      "                           debt debt          \n",
      "purpose_category                              \n",
      "операции с автомобилем     4279  400  9.347978\n",
      "операции с недвижимостью  10751  780  7.255139\n",
      "получение образования      3988  369  9.252758\n",
      "проведение свадьбы         2313  183  7.911803\n"
     ]
    },
    {
     "data": {
      "text/plain": [
       "<AxesSubplot:xlabel='purpose_category'>"
      ]
     },
     "execution_count": 65,
     "metadata": {},
     "output_type": "execute_result"
    },
    {
     "data": {
      "image/png": "[encoded data removed]",
      "text/plain": [
       "<Figure size 432x288 with 1 Axes>"
      ]
     },
     "metadata": {
      "needs_background": "light"
     },
     "output_type": "display_data"
    }
   ],
   "source": [
    "pivot = data.pivot_table(index=['purpose_category'],values='debt',aggfunc=['count','sum'])\n",
    "pivot['delay,%'] = 100 * pivot['sum']/pivot['count']\n",
    "print(pivot)\n",
    "(100*(data.groupby('purpose_category')['debt'].sum())/data.groupby('purpose_category')['gender'].count()).plot.bar()\n",
    "#print(data.groupby('purpose_category')['gender'].count())"
   ]
  },
  {
   "cell_type": "markdown",
   "id": "cf05ed63",
   "metadata": {
    "deletable": false,
    "id": "cf05ed63"
   },
   "source": [
    "**Вывод:**  Описание графика: процент задержек по выплате кредита, в зависимости от цели кредита.\n",
    "Наиболее надежными в этом виде зависимости получаются заемщики, берущие кредит на недвижимость. Вполне объяснимо, т.к. чаще всего приобретаемый объект недвижимости остается в залоге у банка, тем самым появляется стимул даже не выплату в срок, а на ранее погашение кредита."
   ]
  },
  {
   "cell_type": "markdown",
   "id": "831832f3",
   "metadata": {},
   "source": [
    "Самые ненадежные: покупка автомобиля и получение образования.\n",
    "Вероятнее всего, что то, что другое - это обычный потребительский кредит, выданный наличными деньгами.<br><b>Возможные причины:</b> автомобиль покупается на всю сумму (на \"последние деньги\"), требует обслуживания и средства вместо погашения кредита уходят на цель кредита<br><b>С получением образования:</b> родители оплачивают некоторый срок обучения ребенка, а на какой-то оставшийся срок - отпускают в вольное плавание: чтобы ребенок нашел работу и самостоятельно оплачивал свое обучение. Нестабильный заработок - нестабильная оплата</font>"
   ]
  },
  {
   "cell_type": "markdown",
   "id": "46c1f10b",
   "metadata": {
    "deletable": false,
    "editable": false,
    "id": "46c1f10b"
   },
   "source": [
    "#### 3.5 Приведите возможные причины появления пропусков в исходных данных."
   ]
  },
  {
   "cell_type": "markdown",
   "id": "3697d2a9",
   "metadata": {
    "deletable": false,
    "id": "3697d2a9"
   },
   "source": [
    "*Ответ:* В таблице пропуски встречаются в 2х столбцах: days_employed (общий трудовой стаж в днях) и total_income (ежемесячный доход). Т.к. количество пропусков в столбцах равно друг другу и они находятся в одних и тех же строчках, то вероятнее всего, это техническая проблема формирования файла."
   ]
  },
  {
   "cell_type": "markdown",
   "id": "3137d257",
   "metadata": {
    "deletable": false,
    "editable": false,
    "id": "3137d257"
   },
   "source": [
    "#### 3.6 Объясните, почему заполнить пропуски медианным значением — лучшее решение для количественных переменных."
   ]
  },
  {
   "cell_type": "markdown",
   "id": "cf40012a",
   "metadata": {
    "deletable": false,
    "id": "cf40012a"
   },
   "source": [
    "*Ответ:* Т.к. в исходных данных возможны артефакты и выбросы, например, по уровню дохода, то дабы не учитывать эти значения лучше брать медианное значение, тем самым получаем более приближенные к реальным значениям результаты. "
   ]
  },
  {
   "cell_type": "markdown",
   "id": "57bc304e",
   "metadata": {
    "deletable": false,
    "editable": false,
    "id": "57bc304e"
   },
   "source": [
    "### Шаг 4: общий вывод."
   ]
  },
  {
   "cell_type": "markdown",
   "id": "1ab75d1c",
   "metadata": {
    "deletable": false,
    "id": "1ab75d1c"
   },
   "source": [
    "В данном проекте по оценке надежности заемщиков были проделаны следующие подготовительные шаги по предобработке данных:<ul><li>Пропущенные значения в столбце total_income(ежемесячный доход) были заменены на медианные значение дохода по типу занятости заемщика</li><li>отрицательные значения столбца days_employed(общий трудовой стаж в днях) были заменены на соответствующие положительные значения</li><li>удалены строки, содержащие аномальные значения (-1 и 20) в столбце children (количество детей в семье)</li><li>Пропущенные значения в столбце days_employed(общий трудовой стаж в днях) были заменены на медианные значение стажа, соответствующего типу занятости заемщика</li><li>значения столбца total_income(ежемесячный доход) был приведен к целочисленному типу</li><li>были удалены явные дубликаты строк в количестве 71 штуки</li><li>были проведены 2 категоризации заемщиков: по сумме ежемесячного дохода (5 категорий: 0–30000 — 'E'; 30001–50000 — 'D'; 50001–200000 — 'C'; 200001–1000000 — 'B'; 1000001 и выше — 'A' ) и по цели кредита (4 категории: 'операции с автомобилем', 'операции с недвижимостью', 'проведение свадьбы', 'получение образования')</li></ul><br>\n",
    "На основании подготовленных данных были проверены 4 предположения: влияет ли <br>1. количество детей <br>2. семейное положение<br>3. уровень дохода<br>4. цель кредитования <br>на возврат кредита в срок?<br><br>\n",
    "На основании получившихся срезов можно создать портреты хорошего и плохого заемщика.<br><br>\n",
    "Хороший заемщик:<br>\n",
    "1. Не имеет детей или имеет 3х детей<br>\n",
    "2. В разводе, овдовел(-а) или в настоящее время находится в браке<br>\n",
    "3. С доходом от 200 тысяч до 1 млн<br>\n",
    "4. Цель кредита: операция с недвижимостью<br><br>\n",
    "Плохой заемщик:<br>\n",
    "1. 1, 2, 4 детей<br>\n",
    "2. Не замужем/не женат или живет в гражданском браке<br>\n",
    "3. Имеет доход ниже среднего (по данным таблицы, получается ниже 200 тысяч в месяц)<br>\n",
    "4. Цели кредита: операции с автомобилем или получение образования<br><br>\n",
    "\n",
    "Как рекомендацию, можно посоветовать добавить столбец с указанием региона фактического проживания заемщика, т.к. уровень дохода, стоимость жизни и, например, недвижимости будет сильно отличаться. Тем самым текущая категоризация заемщиков становится непоказательна.<br> Так же столбец с указанием наличия уже выданных кредитов, чтобы оценивать кредитную нагрузку.<br>\n",
    "    Думаю, что в этом случае можно будет более точно проводить оценку надежности заемщика."
   ]
  }
 ],
 "metadata": {
  "ExecuteTimeLog": [
   {
    "duration": 469,
    "start_time": "2024-03-27T18:56:38.000Z"
   },
   {
    "duration": 24,
    "start_time": "2024-03-27T18:56:43.025Z"
   },
   {
    "duration": 17,
    "start_time": "2024-03-27T18:56:44.820Z"
   },
   {
    "duration": 10,
    "start_time": "2024-03-27T18:56:48.243Z"
   },
   {
    "duration": 36,
    "start_time": "2024-03-27T18:56:49.748Z"
   },
   {
    "duration": 4,
    "start_time": "2024-03-27T18:56:51.801Z"
   },
   {
    "duration": 7,
    "start_time": "2024-03-27T18:56:53.411Z"
   },
   {
    "duration": 4,
    "start_time": "2024-03-27T18:56:58.306Z"
   },
   {
    "duration": 6,
    "start_time": "2024-03-27T18:56:59.888Z"
   },
   {
    "duration": 4,
    "start_time": "2024-03-27T18:57:01.439Z"
   },
   {
    "duration": 34,
    "start_time": "2024-03-27T18:57:03.964Z"
   },
   {
    "duration": 11,
    "start_time": "2024-03-27T18:57:06.758Z"
   },
   {
    "duration": 4,
    "start_time": "2024-03-27T18:57:11.688Z"
   },
   {
    "duration": 12,
    "start_time": "2024-03-27T18:57:51.284Z"
   },
   {
    "duration": 20,
    "start_time": "2024-03-27T18:57:53.275Z"
   },
   {
    "duration": 18,
    "start_time": "2024-03-27T18:57:56.463Z"
   },
   {
    "duration": 4,
    "start_time": "2024-03-27T18:58:00.155Z"
   },
   {
    "duration": 16,
    "start_time": "2024-03-27T18:58:01.027Z"
   },
   {
    "duration": 6,
    "start_time": "2024-03-27T18:58:03.081Z"
   },
   {
    "duration": 4,
    "start_time": "2024-03-27T18:58:47.050Z"
   },
   {
    "duration": 14,
    "start_time": "2024-03-27T18:58:47.873Z"
   },
   {
    "duration": 75,
    "start_time": "2024-03-27T18:58:52.711Z"
   },
   {
    "duration": 5,
    "start_time": "2024-03-27T18:59:19.037Z"
   },
   {
    "duration": 7,
    "start_time": "2024-03-27T19:00:04.897Z"
   },
   {
    "duration": 7,
    "start_time": "2024-03-27T19:00:24.898Z"
   },
   {
    "duration": 10,
    "start_time": "2024-03-27T19:03:27.243Z"
   },
   {
    "duration": 7,
    "start_time": "2024-03-27T19:05:06.173Z"
   },
   {
    "duration": 17,
    "start_time": "2024-03-27T19:07:13.287Z"
   },
   {
    "duration": 20,
    "start_time": "2024-03-27T19:07:22.131Z"
   },
   {
    "duration": 15,
    "start_time": "2024-03-27T19:10:35.273Z"
   },
   {
    "duration": 18,
    "start_time": "2024-03-27T19:11:07.395Z"
   },
   {
    "duration": 8,
    "start_time": "2024-03-27T19:11:38.233Z"
   },
   {
    "duration": 8,
    "start_time": "2024-03-27T19:21:34.930Z"
   },
   {
    "duration": 6,
    "start_time": "2024-03-27T19:21:50.684Z"
   },
   {
    "duration": 6,
    "start_time": "2024-03-27T19:21:55.794Z"
   },
   {
    "duration": 7,
    "start_time": "2024-03-27T19:22:46.516Z"
   },
   {
    "duration": 9,
    "start_time": "2024-03-27T19:25:00.878Z"
   },
   {
    "duration": 6,
    "start_time": "2024-03-27T19:30:15.791Z"
   },
   {
    "duration": 8,
    "start_time": "2024-03-27T19:31:01.063Z"
   },
   {
    "duration": 4,
    "start_time": "2024-03-27T19:31:23.821Z"
   },
   {
    "duration": 10,
    "start_time": "2024-03-27T19:31:31.679Z"
   },
   {
    "duration": 6,
    "start_time": "2024-03-27T19:31:42.087Z"
   },
   {
    "duration": 11,
    "start_time": "2024-03-27T19:32:58.508Z"
   },
   {
    "duration": 15,
    "start_time": "2024-03-27T19:34:44.791Z"
   },
   {
    "duration": 11,
    "start_time": "2024-03-27T19:35:14.984Z"
   },
   {
    "duration": 12,
    "start_time": "2024-03-27T19:36:11.927Z"
   },
   {
    "duration": 25,
    "start_time": "2024-03-27T19:43:16.849Z"
   },
   {
    "duration": 9,
    "start_time": "2024-03-27T19:47:10.380Z"
   },
   {
    "duration": 1051,
    "start_time": "2024-03-27T19:52:27.382Z"
   },
   {
    "duration": 10,
    "start_time": "2024-03-27T19:53:36.429Z"
   },
   {
    "duration": 55,
    "start_time": "2024-03-27T19:53:44.985Z"
   },
   {
    "duration": 98,
    "start_time": "2024-03-27T19:59:57.069Z"
   },
   {
    "duration": 141,
    "start_time": "2024-03-27T20:00:24.590Z"
   },
   {
    "duration": 124,
    "start_time": "2024-03-27T20:00:38.657Z"
   },
   {
    "duration": 120,
    "start_time": "2024-03-27T20:01:00.935Z"
   },
   {
    "duration": 114,
    "start_time": "2024-03-27T20:01:21.139Z"
   },
   {
    "duration": 153,
    "start_time": "2024-03-27T20:01:28.059Z"
   },
   {
    "duration": 131,
    "start_time": "2024-03-27T20:01:51.248Z"
   },
   {
    "duration": 110,
    "start_time": "2024-03-27T20:02:10.619Z"
   },
   {
    "duration": 23,
    "start_time": "2024-03-27T20:02:40.616Z"
   },
   {
    "duration": 183,
    "start_time": "2024-03-27T20:02:58.498Z"
   },
   {
    "duration": 123,
    "start_time": "2024-03-27T20:05:07.677Z"
   },
   {
    "duration": 117,
    "start_time": "2024-03-27T20:05:40.519Z"
   },
   {
    "duration": 124,
    "start_time": "2024-03-27T20:08:04.159Z"
   },
   {
    "duration": 121,
    "start_time": "2024-03-27T20:08:13.388Z"
   },
   {
    "duration": 116,
    "start_time": "2024-03-27T20:08:39.835Z"
   },
   {
    "duration": 50,
    "start_time": "2024-03-31T17:53:49.900Z"
   },
   {
    "duration": 691,
    "start_time": "2024-03-31T17:53:56.661Z"
   },
   {
    "duration": 37,
    "start_time": "2024-03-31T17:54:15.317Z"
   },
   {
    "duration": 3,
    "start_time": "2024-03-31T17:54:19.404Z"
   },
   {
    "duration": 7,
    "start_time": "2024-03-31T17:54:30.803Z"
   },
   {
    "duration": 37,
    "start_time": "2024-03-31T17:54:35.728Z"
   },
   {
    "duration": 20,
    "start_time": "2024-03-31T17:54:42.082Z"
   },
   {
    "duration": 4,
    "start_time": "2024-03-31T17:54:46.578Z"
   },
   {
    "duration": 12,
    "start_time": "2024-03-31T17:54:49.536Z"
   },
   {
    "duration": 20,
    "start_time": "2024-03-31T17:54:54.219Z"
   },
   {
    "duration": 4,
    "start_time": "2024-03-31T17:54:57.682Z"
   },
   {
    "duration": 3,
    "start_time": "2024-03-31T17:55:09.571Z"
   },
   {
    "duration": 10,
    "start_time": "2024-03-31T17:55:11.987Z"
   },
   {
    "duration": 546,
    "start_time": "2024-03-31T17:55:15.375Z"
   },
   {
    "duration": 106,
    "start_time": "2024-03-31T17:56:42.992Z"
   },
   {
    "duration": 132,
    "start_time": "2024-03-31T17:57:05.284Z"
   },
   {
    "duration": 138,
    "start_time": "2024-03-31T18:08:43.136Z"
   },
   {
    "duration": 133,
    "start_time": "2024-03-31T18:09:18.038Z"
   },
   {
    "duration": 45,
    "start_time": "2024-03-31T18:23:29.960Z"
   },
   {
    "duration": 10,
    "start_time": "2024-03-31T18:24:15.904Z"
   },
   {
    "duration": 11,
    "start_time": "2024-03-31T18:24:22.289Z"
   },
   {
    "duration": 11,
    "start_time": "2024-03-31T18:24:41.906Z"
   },
   {
    "duration": 168,
    "start_time": "2024-03-31T18:24:55.494Z"
   },
   {
    "duration": 127,
    "start_time": "2024-03-31T18:35:37.782Z"
   },
   {
    "duration": 121,
    "start_time": "2024-03-31T18:35:51.396Z"
   },
   {
    "duration": 133,
    "start_time": "2024-03-31T18:35:57.668Z"
   },
   {
    "duration": 623,
    "start_time": "2024-04-01T18:49:54.947Z"
   },
   {
    "duration": 25,
    "start_time": "2024-04-01T18:50:00.364Z"
   },
   {
    "duration": 23,
    "start_time": "2024-04-01T18:50:23.792Z"
   },
   {
    "duration": 11,
    "start_time": "2024-04-01T18:50:29.811Z"
   },
   {
    "duration": 25,
    "start_time": "2024-04-01T18:56:21.407Z"
   },
   {
    "duration": 14,
    "start_time": "2024-04-01T18:56:48.243Z"
   },
   {
    "duration": 616,
    "start_time": "2024-04-02T17:36:54.861Z"
   },
   {
    "duration": 36,
    "start_time": "2024-04-02T17:37:03.446Z"
   },
   {
    "duration": 4,
    "start_time": "2024-04-02T17:37:08.924Z"
   },
   {
    "duration": 8,
    "start_time": "2024-04-02T17:37:24.576Z"
   },
   {
    "duration": 36,
    "start_time": "2024-04-02T17:37:32.580Z"
   },
   {
    "duration": 4,
    "start_time": "2024-04-02T17:37:40.194Z"
   },
   {
    "duration": 12,
    "start_time": "2024-04-02T17:37:51.668Z"
   },
   {
    "duration": 19,
    "start_time": "2024-04-02T17:38:00.469Z"
   },
   {
    "duration": 3,
    "start_time": "2024-04-02T17:38:17.922Z"
   },
   {
    "duration": 3,
    "start_time": "2024-04-02T17:38:26.605Z"
   },
   {
    "duration": 9,
    "start_time": "2024-04-02T17:38:29.624Z"
   },
   {
    "duration": 10,
    "start_time": "2024-04-02T17:38:34.639Z"
   },
   {
    "duration": 561,
    "start_time": "2024-04-02T17:40:37.749Z"
   },
   {
    "duration": 123,
    "start_time": "2024-04-02T17:40:52.645Z"
   },
   {
    "duration": 127,
    "start_time": "2024-04-02T17:41:26.940Z"
   },
   {
    "duration": 128,
    "start_time": "2024-04-02T17:42:37.124Z"
   },
   {
    "duration": 173,
    "start_time": "2024-04-02T17:43:48.198Z"
   },
   {
    "duration": 160,
    "start_time": "2024-04-02T17:44:04.123Z"
   },
   {
    "duration": 79,
    "start_time": "2024-04-02T17:50:42.842Z"
   },
   {
    "duration": 72,
    "start_time": "2024-04-02T17:51:44.004Z"
   },
   {
    "duration": 85,
    "start_time": "2024-04-02T17:52:05.344Z"
   },
   {
    "duration": 69,
    "start_time": "2024-04-02T17:52:14.360Z"
   },
   {
    "duration": 63,
    "start_time": "2024-04-02T17:53:32.446Z"
   },
   {
    "duration": 128,
    "start_time": "2024-04-02T17:54:06.285Z"
   },
   {
    "duration": 62,
    "start_time": "2024-04-02T17:55:42.941Z"
   },
   {
    "duration": 143,
    "start_time": "2024-04-02T18:17:23.494Z"
   },
   {
    "duration": 142,
    "start_time": "2024-04-02T18:18:07.889Z"
   },
   {
    "duration": 204,
    "start_time": "2024-04-02T18:18:39.826Z"
   },
   {
    "duration": 144,
    "start_time": "2024-04-02T18:19:03.464Z"
   },
   {
    "duration": 129,
    "start_time": "2024-04-02T18:25:56.084Z"
   },
   {
    "duration": 70,
    "start_time": "2024-04-02T18:34:15.907Z"
   },
   {
    "duration": 160,
    "start_time": "2024-04-02T18:34:36.863Z"
   },
   {
    "duration": 195,
    "start_time": "2024-04-02T18:35:11.054Z"
   },
   {
    "duration": 163,
    "start_time": "2024-04-02T18:41:01.128Z"
   },
   {
    "duration": 153,
    "start_time": "2024-04-02T18:41:14.807Z"
   },
   {
    "duration": 1160,
    "start_time": "2024-04-02T18:42:13.552Z"
   },
   {
    "duration": 1007,
    "start_time": "2024-04-02T18:42:34.441Z"
   },
   {
    "duration": 138,
    "start_time": "2024-04-02T18:42:45.406Z"
   },
   {
    "duration": 159,
    "start_time": "2024-04-02T18:44:56.867Z"
   },
   {
    "duration": 939,
    "start_time": "2024-04-02T18:45:55.214Z"
   },
   {
    "duration": 1008,
    "start_time": "2024-04-02T18:46:03.440Z"
   },
   {
    "duration": 973,
    "start_time": "2024-04-02T18:46:17.557Z"
   },
   {
    "duration": 1008,
    "start_time": "2024-04-02T18:46:53.730Z"
   },
   {
    "duration": 138,
    "start_time": "2024-04-02T18:48:38.664Z"
   },
   {
    "duration": 148,
    "start_time": "2024-04-02T18:49:00.804Z"
   },
   {
    "duration": 209,
    "start_time": "2024-04-02T18:49:41.798Z"
   },
   {
    "duration": 131,
    "start_time": "2024-04-02T18:49:50.107Z"
   },
   {
    "duration": 212,
    "start_time": "2024-04-02T18:50:33.035Z"
   },
   {
    "duration": 140,
    "start_time": "2024-04-02T18:50:55.094Z"
   },
   {
    "duration": 125,
    "start_time": "2024-04-02T18:52:13.984Z"
   },
   {
    "duration": 126,
    "start_time": "2024-04-02T18:52:34.223Z"
   },
   {
    "duration": 33,
    "start_time": "2024-04-02T18:55:07.263Z"
   },
   {
    "duration": 134,
    "start_time": "2024-04-02T18:55:22.775Z"
   },
   {
    "duration": 23,
    "start_time": "2024-04-02T18:57:14.515Z"
   },
   {
    "duration": 27,
    "start_time": "2024-04-02T18:57:43.668Z"
   },
   {
    "duration": 138,
    "start_time": "2024-04-02T18:59:23.560Z"
   },
   {
    "duration": 159,
    "start_time": "2024-04-02T19:09:07.105Z"
   },
   {
    "duration": 149,
    "start_time": "2024-04-02T19:10:33.755Z"
   },
   {
    "duration": 169,
    "start_time": "2024-04-02T19:11:22.057Z"
   },
   {
    "duration": 128,
    "start_time": "2024-04-02T19:12:43.697Z"
   },
   {
    "duration": 129,
    "start_time": "2024-04-02T19:12:49.909Z"
   },
   {
    "duration": 208,
    "start_time": "2024-04-02T19:13:02.552Z"
   },
   {
    "duration": 131,
    "start_time": "2024-04-02T19:16:39.920Z"
   },
   {
    "duration": 119,
    "start_time": "2024-04-02T19:16:56.599Z"
   },
   {
    "duration": 142,
    "start_time": "2024-04-02T19:33:05.402Z"
   },
   {
    "duration": 22,
    "start_time": "2024-04-02T19:45:43.852Z"
   },
   {
    "duration": 75,
    "start_time": "2024-04-02T19:46:33.651Z"
   },
   {
    "duration": 19,
    "start_time": "2024-04-02T19:46:37.038Z"
   },
   {
    "duration": 9,
    "start_time": "2024-04-02T19:47:41.830Z"
   },
   {
    "duration": 7,
    "start_time": "2024-04-02T19:47:52.962Z"
   },
   {
    "duration": 6,
    "start_time": "2024-04-02T19:48:11.729Z"
   },
   {
    "duration": 77,
    "start_time": "2024-04-03T11:54:10.368Z"
   },
   {
    "duration": 15,
    "start_time": "2024-04-03T11:54:16.606Z"
   }
  ],
  "colab": {
   "provenance": []
  },
  "kernelspec": {
   "display_name": "Python 3 (ipykernel)",
   "language": "python",
   "name": "python3"
  },
  "language_info": {
   "codemirror_mode": {
    "name": "ipython",
    "version": 3
   },
   "file_extension": ".py",
   "mimetype": "text/x-python",
   "name": "python",
   "nbconvert_exporter": "python",
   "pygments_lexer": "ipython3",
   "version": "3.11.7"
  },
  "toc": {
   "base_numbering": 1,
   "nav_menu": {},
   "number_sections": true,
   "sideBar": true,
   "skip_h1_title": true,
   "title_cell": "Table of Contents",
   "title_sidebar": "Contents",
   "toc_cell": false,
   "toc_position": {},
   "toc_section_display": true,
   "toc_window_display": false
  }
 },
 "nbformat": 4,
 "nbformat_minor": 5
}
