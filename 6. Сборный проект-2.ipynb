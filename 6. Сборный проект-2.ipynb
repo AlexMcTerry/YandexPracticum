{
 "cells": [
  {
   "cell_type": "code",
   "execution_count": 2,
   "id": "fc7efa54",
   "metadata": {},
   "outputs": [],
   "source": [
    "import os\n",
    "import pandas as pd\n",
    "import numpy as np\n",
    "\n",
    "from sqlalchemy import create_engine"
   ]
  },
  {
   "cell_type": "code",
   "execution_count": 3,
   "id": "0017f8e7",
   "metadata": {},
   "outputs": [],
   "source": [
    "path_to_db_local = 'telecomm_csi.db'\n",
    "path_to_db_platform = '/datasets/telecomm_csi.db'\n",
    "path_to_db = None\n",
    "\n",
    "if os.path.exists(path_to_db_local):\n",
    "    path_to_db = path_to_db_local\n",
    "elif os.path.exists(path_to_db_platform):\n",
    "    path_to_db = path_to_db_platform\n",
    "else:\n",
    "    raise Exception('Файл с базой данных SQLite не найден!')\n",
    "\n",
    "if path_to_db:\n",
    "    engine = create_engine(f'sqlite:///{path_to_db}', echo=False)"
   ]
  },
  {
   "cell_type": "code",
   "execution_count": 11,
   "id": "84ebad43",
   "metadata": {},
   "outputs": [],
   "source": [
    "query = \"\"\"\n",
    "SELECT u.user_id,\n",
    "       u.lt_day,\n",
    "       CASE \n",
    "            WHEN u.lt_day>=0 and u.lt_day<365 THEN 1\n",
    "            WHEN u.lt_day>=365 THEN 0\n",
    "            ELSE -1\n",
    "       END AS is_new,\n",
    "       u.age,\n",
    "       CASE \n",
    "            WHEN u.gender_segment=1 THEN 'Female'\n",
    "            WHEN u.gender_segment =0 THEN 'Male'\n",
    "            ELSE 'Not define'\n",
    "       END AS gender_segment,\n",
    "      u.os_name,\n",
    "      u.cpe_type_name,\n",
    "      l.country,\n",
    "      l.city,\n",
    "      SUBSTRING(ags.title,4)as age_segment,\n",
    "      SUBSTRING(ts.title,4) as traffic_segment,\n",
    "      SUBSTRING(ls.title,4) as lifetime_segment,\n",
    "      u.nps_score,\n",
    "      CASE \n",
    "            WHEN u.nps_score>=0 and u.nps_score<=6 THEN 'Detractors'\n",
    "            WHEN u.nps_score>=7 and u.nps_score<=8 THEN 'Passives'\n",
    "            WHEN u.nps_score>=9 and u.nps_score<=10 THEN 'Promoters'\n",
    "            ELSE 'Not Define'\n",
    "      END AS nps_group\n",
    "FROM user AS u\n",
    "JOIN location AS l ON u.location_id = l.location_id\n",
    "JOIN age_segment AS ags ON u.age_gr_id = ags.age_gr_id \n",
    "JOIN traffic_segment AS ts ON u.tr_gr_id = ts.tr_gr_id \n",
    "JOIN lifetime_segment AS ls ON u.lt_gr_id = ls.lt_gr_id \n",
    "\"\"\""
   ]
  },
  {
   "cell_type": "code",
   "execution_count": 12,
   "id": "3965faf2",
   "metadata": {
    "scrolled": true
   },
   "outputs": [
    {
     "data": {
      "text/html": [
       "<div>\n",
       "<style scoped>\n",
       "    .dataframe tbody tr th:only-of-type {\n",
       "        vertical-align: middle;\n",
       "    }\n",
       "\n",
       "    .dataframe tbody tr th {\n",
       "        vertical-align: top;\n",
       "    }\n",
       "\n",
       "    .dataframe thead th {\n",
       "        text-align: right;\n",
       "    }\n",
       "</style>\n",
       "<table border=\"1\" class=\"dataframe\">\n",
       "  <thead>\n",
       "    <tr style=\"text-align: right;\">\n",
       "      <th></th>\n",
       "      <th>user_id</th>\n",
       "      <th>lt_day</th>\n",
       "      <th>is_new</th>\n",
       "      <th>age</th>\n",
       "      <th>gender_segment</th>\n",
       "      <th>os_name</th>\n",
       "      <th>cpe_type_name</th>\n",
       "      <th>country</th>\n",
       "      <th>city</th>\n",
       "      <th>age_segment</th>\n",
       "      <th>traffic_segment</th>\n",
       "      <th>lifetime_segment</th>\n",
       "      <th>nps_score</th>\n",
       "      <th>nps_group</th>\n",
       "    </tr>\n",
       "  </thead>\n",
       "  <tbody>\n",
       "    <tr>\n",
       "      <th>0</th>\n",
       "      <td>A001A2</td>\n",
       "      <td>2320</td>\n",
       "      <td>0</td>\n",
       "      <td>45.0</td>\n",
       "      <td>Female</td>\n",
       "      <td>ANDROID</td>\n",
       "      <td>SMARTPHONE</td>\n",
       "      <td>Россия</td>\n",
       "      <td>Уфа</td>\n",
       "      <td>45-54</td>\n",
       "      <td>1-5</td>\n",
       "      <td>36+</td>\n",
       "      <td>10</td>\n",
       "      <td>Promoters</td>\n",
       "    </tr>\n",
       "    <tr>\n",
       "      <th>1</th>\n",
       "      <td>A001WF</td>\n",
       "      <td>2344</td>\n",
       "      <td>0</td>\n",
       "      <td>53.0</td>\n",
       "      <td>Male</td>\n",
       "      <td>ANDROID</td>\n",
       "      <td>SMARTPHONE</td>\n",
       "      <td>Россия</td>\n",
       "      <td>Киров</td>\n",
       "      <td>45-54</td>\n",
       "      <td>1-5</td>\n",
       "      <td>36+</td>\n",
       "      <td>10</td>\n",
       "      <td>Promoters</td>\n",
       "    </tr>\n",
       "    <tr>\n",
       "      <th>2</th>\n",
       "      <td>A003Q7</td>\n",
       "      <td>467</td>\n",
       "      <td>0</td>\n",
       "      <td>57.0</td>\n",
       "      <td>Male</td>\n",
       "      <td>ANDROID</td>\n",
       "      <td>SMARTPHONE</td>\n",
       "      <td>Россия</td>\n",
       "      <td>Москва</td>\n",
       "      <td>55-64</td>\n",
       "      <td>20-25</td>\n",
       "      <td>13-24</td>\n",
       "      <td>10</td>\n",
       "      <td>Promoters</td>\n",
       "    </tr>\n",
       "    <tr>\n",
       "      <th>3</th>\n",
       "      <td>A004TB</td>\n",
       "      <td>4190</td>\n",
       "      <td>0</td>\n",
       "      <td>44.0</td>\n",
       "      <td>Female</td>\n",
       "      <td>IOS</td>\n",
       "      <td>SMARTPHONE</td>\n",
       "      <td>Россия</td>\n",
       "      <td>РостовнаДону</td>\n",
       "      <td>35-44</td>\n",
       "      <td>0.1-1</td>\n",
       "      <td>36+</td>\n",
       "      <td>10</td>\n",
       "      <td>Promoters</td>\n",
       "    </tr>\n",
       "    <tr>\n",
       "      <th>4</th>\n",
       "      <td>A004XT</td>\n",
       "      <td>1163</td>\n",
       "      <td>0</td>\n",
       "      <td>24.0</td>\n",
       "      <td>Male</td>\n",
       "      <td>ANDROID</td>\n",
       "      <td>SMARTPHONE</td>\n",
       "      <td>Россия</td>\n",
       "      <td>Рязань</td>\n",
       "      <td>16-24</td>\n",
       "      <td>5-10</td>\n",
       "      <td>36+</td>\n",
       "      <td>10</td>\n",
       "      <td>Promoters</td>\n",
       "    </tr>\n",
       "  </tbody>\n",
       "</table>\n",
       "</div>"
      ],
      "text/plain": [
       "  user_id  lt_day  is_new   age gender_segment  os_name cpe_type_name country  \\\n",
       "0  A001A2    2320       0  45.0         Female  ANDROID    SMARTPHONE  Россия   \n",
       "1  A001WF    2344       0  53.0           Male  ANDROID    SMARTPHONE  Россия   \n",
       "2  A003Q7     467       0  57.0           Male  ANDROID    SMARTPHONE  Россия   \n",
       "3  A004TB    4190       0  44.0         Female      IOS    SMARTPHONE  Россия   \n",
       "4  A004XT    1163       0  24.0           Male  ANDROID    SMARTPHONE  Россия   \n",
       "\n",
       "           city age_segment traffic_segment lifetime_segment  nps_score  \\\n",
       "0           Уфа       45-54             1-5              36+         10   \n",
       "1         Киров       45-54             1-5              36+         10   \n",
       "2        Москва       55-64           20-25            13-24         10   \n",
       "3  РостовнаДону       35-44           0.1-1              36+         10   \n",
       "4        Рязань       16-24            5-10              36+         10   \n",
       "\n",
       "   nps_group  \n",
       "0  Promoters  \n",
       "1  Promoters  \n",
       "2  Promoters  \n",
       "3  Promoters  \n",
       "4  Promoters  "
      ]
     },
     "execution_count": 12,
     "metadata": {},
     "output_type": "execute_result"
    }
   ],
   "source": [
    "df = pd.read_sql(query, engine)\n",
    "df.head(5)"
   ]
  },
  {
   "cell_type": "code",
   "execution_count": 15,
   "id": "9db04858",
   "metadata": {},
   "outputs": [],
   "source": [
    "df.to_csv('C:\\temp\\telecomm_csi_tableau.csv', index=False)"
   ]
  },
  {
   "cell_type": "markdown",
   "id": "1fff0055",
   "metadata": {},
   "source": [
    "Привет! Вот мой проект по представленным данным =)"
   ]
  },
  {
   "cell_type": "markdown",
   "id": "7fe5412a",
   "metadata": {},
   "source": [
    "https://public.tableau.com/shared/5CXSHD6FY"
   ]
  }
 ],
 "metadata": {
  "ExecuteTimeLog": [
   {
    "duration": 3,
    "start_time": "2024-07-27T09:56:35.409Z"
   },
   {
    "duration": 470,
    "start_time": "2024-07-27T09:56:38.922Z"
   },
   {
    "duration": 103,
    "start_time": "2024-07-27T09:56:40.972Z"
   },
   {
    "duration": 2,
    "start_time": "2024-07-27T09:56:42.573Z"
   },
   {
    "duration": 551,
    "start_time": "2024-07-27T09:56:44.380Z"
   },
   {
    "duration": 2,
    "start_time": "2024-07-27T09:58:39.629Z"
   },
   {
    "duration": 4130,
    "start_time": "2024-07-27T09:58:42.598Z"
   },
   {
    "duration": 3323,
    "start_time": "2024-07-27T11:03:23.366Z"
   },
   {
    "duration": 3,
    "start_time": "2024-07-27T12:29:08.271Z"
   },
   {
    "duration": 4837,
    "start_time": "2024-07-27T12:29:15.426Z"
   },
   {
    "duration": 3,
    "start_time": "2024-07-27T12:33:54.959Z"
   },
   {
    "duration": 4882,
    "start_time": "2024-07-27T12:33:56.989Z"
   },
   {
    "duration": 3567,
    "start_time": "2024-07-27T12:35:06.516Z"
   },
   {
    "duration": 3581,
    "start_time": "2024-07-27T12:36:05.834Z"
   },
   {
    "duration": 3633,
    "start_time": "2024-07-27T12:36:35.860Z"
   }
  ],
  "kernelspec": {
   "display_name": "Python 3 (ipykernel)",
   "language": "python",
   "name": "python3"
  },
  "language_info": {
   "codemirror_mode": {
    "name": "ipython",
    "version": 3
   },
   "file_extension": ".py",
   "mimetype": "text/x-python",
   "name": "python",
   "nbconvert_exporter": "python",
   "pygments_lexer": "ipython3",
   "version": "3.11.7"
  },
  "toc": {
   "base_numbering": 1,
   "nav_menu": {},
   "number_sections": true,
   "sideBar": true,
   "skip_h1_title": true,
   "title_cell": "Table of Contents",
   "title_sidebar": "Contents",
   "toc_cell": false,
   "toc_position": {},
   "toc_section_display": true,
   "toc_window_display": false
  }
 },
 "nbformat": 4,
 "nbformat_minor": 5
}
